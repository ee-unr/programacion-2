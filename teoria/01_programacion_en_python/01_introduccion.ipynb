{
 "cells": [
  {
   "cell_type": "markdown",
   "metadata": {},
   "source": [
    "---\n",
    "title: \"Introducción\"\n",
    "toc: true\n",
    "---"
   ]
  },
  {
   "cell_type": "markdown",
   "metadata": {
    "id": "9r9gwgvAlIZ-"
   },
   "source": [
    "## ¿Qué es Python?\n",
    "\n",
    "### Introducción\n",
    "\n",
    "![](../imgs/python.png){fig-align=\"center\" width=\"500px\"}\n",
    "\n",
    "Python es un lenguaje de programación **interpretado**, de **propósito general** y de **alto nivel**.\n",
    "Fue creado por Guido Van Rossum y su primera versión pública fue en el año 1991.\n",
    "\n",
    "* **Interpretado**: no requiere que realicemos un paso explícito de compilación a lenguaje de máquina antes de ejecutarlo. Además, se puede ejecutar línea por línea.\n",
    "* **Propósito general**: no se limita a un tipo de aplicación específica, es decir, se puede usar para implementar programas en diferentes dominios:\n",
    "    * _Vox populi_: No es el mejor en casi nada, pero suficientemente bueno para casi todo.\n",
    "    * Algunos dominios:\n",
    "        * Análisis estadístico y ciencia de datos.\n",
    "        * Inteligencia artificial.\n",
    "        * Desarrollo web.\n",
    "        * Desarrollo de videojuegos.\n",
    "        * _Scripting_.\n",
    "* **Alto nivel**: se parece más al lenguaje humano que al lenguaje de las máquinas.\n",
    "\n",
    "Además...\n",
    "\n",
    "* Es **gratis**: no requiere pagar licencias para usarlo, tanto a nivel personal como comercial.\n",
    "* Es de **código abierto**: su código fuente está disponible públicamente y puede ser modificado por cualquiera.\n",
    "* Posee un **ecosistema de librerías completísimo**: existen miles de paquetes para todo tipo de tareas.\n",
    "* **Comunidad**: millones de personas lo usan, contribuyen, resuelven dudas y crean contenido, lo que facilita aprender y encontrar ayuda.\n",
    "\n",
    "\n",
    "Para utilizar Python es necesario instalar un intérprete de Python. La versión oficial puede ser descargada desde [python.org](https://www.python.org/). Una vez instalado el intérprete, es posible ejecutar _scripts_ de Python y programar en Python de manera interactiva desde la terminal.\n",
    "\n",
    "En esta materia se utiliza un editor de código para ciencia de datos llamado [Positron](https://positron.posit.co/). Este editor es desarrollado por Posit, los mismos creadores de RStudio, y permite trabajar tanto con Python como con R.\n",
    "\n",
    "Las instrucciones para instalar Python y Positron pueden ser encontradas en [Instalación de Python y Positron en Windows](../../recursos/tutoriales/tutorial_01.qmd)."
   ]
  },
  {
   "cell_type": "markdown",
   "metadata": {},
   "source": [
    "### Primeros pasos: Python como una calculadora"
   ]
  },
  {
   "cell_type": "markdown",
   "metadata": {},
   "source": [
    "Empecemos utilizando a Python como si fuese una calculadora. Para eso vamos a crear un **bloque de código** en la _notebook_ y escribimos algunas cuentas tal como lo hacemos en cualquier calculadora."
   ]
  },
  {
   "cell_type": "code",
   "execution_count": 1,
   "metadata": {
    "id": "KZDRQCBhlIZ_"
   },
   "outputs": [
    {
     "data": {
      "text/plain": [
       "6"
      ]
     },
     "execution_count": null,
     "metadata": {},
     "output_type": "execute_result"
    }
   ],
   "source": [
    "2 * 3"
   ]
  },
  {
   "cell_type": "markdown",
   "metadata": {
    "id": "V2YhUX6blIaA"
   },
   "source": [
    "No tenemos la necesidad de pisar el código todo el tiempo. Podemos escribir nuevas celdas de código, y así podemos ir mostrando diferentes cómputos y sus resultados."
   ]
  },
  {
   "cell_type": "code",
   "execution_count": 2,
   "metadata": {
    "id": "PeYfRT-_lIaA"
   },
   "outputs": [
    {
     "data": {
      "text/plain": [
       "28.571428571428573"
      ]
     },
     "execution_count": null,
     "metadata": {},
     "output_type": "execute_result"
    }
   ],
   "source": [
    "100 / 3.5"
   ]
  },
  {
   "cell_type": "code",
   "execution_count": 3,
   "metadata": {
    "id": "WGjjkHp-lIaA"
   },
   "outputs": [
    {
     "data": {
      "text/plain": [
       "25"
      ]
     },
     "execution_count": null,
     "metadata": {},
     "output_type": "execute_result"
    }
   ],
   "source": [
    "20 + 5"
   ]
  },
  {
   "cell_type": "code",
   "execution_count": 4,
   "metadata": {
    "id": "q0eVWBERlIaB"
   },
   "outputs": [
    {
     "data": {
      "text/plain": [
       "10"
      ]
     },
     "execution_count": null,
     "metadata": {},
     "output_type": "execute_result"
    }
   ],
   "source": [
    "13 - 3"
   ]
  },
  {
   "cell_type": "code",
   "execution_count": 5,
   "metadata": {
    "id": "SoxmC-H-lIaB"
   },
   "outputs": [
    {
     "data": {
      "text/plain": [
       "55.0"
      ]
     },
     "execution_count": null,
     "metadata": {},
     "output_type": "execute_result"
    }
   ],
   "source": [
    "10 * 5.5"
   ]
  },
  {
   "cell_type": "markdown",
   "metadata": {
    "id": "xniSFsi3lIaC"
   },
   "source": [
    "## Tipos de datos\n",
    "\n",
    "Como cualquier lenguaje de programación, Python ofrece diferentes **tipos de datos**.\n",
    "\n",
    "Cada tipo de dato nos ayuda a resolver una tarea distinta. Por ejemplo, si quiero hacer operaciones matemáticas voy a necesitar de números, pero si quiero escribir un correo electrónico voy a necesitar de texto.\n",
    "\n",
    "A continuación vamos a introducir los tipos de datos más básicos que Python nos ofrece.\n",
    "\n",
    "Más adelante también veremos otros tipos de datos más complejos que nos van a permitir resolver problemas (muchísimo) más interesantes."
   ]
  },
  {
   "cell_type": "markdown",
   "metadata": {
    "id": "sACzr307lIaC"
   },
   "source": [
    "### Números\n",
    "\n",
    "Acabamos de hacer cuentas matemáticas somo si tuvieramos una calculadora. Para eso usamos números, los conocidos de toda la vida. \n",
    "\n",
    "Sin notarlo, utilizamos dos tipos de números distintos: los números de tipo entero (`int`) y los números de tipo flotante (`float`). \n",
    "\n",
    "Lo siguiente es un número entero:"
   ]
  },
  {
   "cell_type": "code",
   "execution_count": 6,
   "metadata": {
    "id": "lqZsfWmElIaD"
   },
   "outputs": [
    {
     "data": {
      "text/plain": [
       "50"
      ]
     },
     "execution_count": null,
     "metadata": {},
     "output_type": "execute_result"
    }
   ],
   "source": [
    "50"
   ]
  },
  {
   "cell_type": "markdown",
   "metadata": {
    "id": "9mSNdV2ilIaD"
   },
   "source": [
    "Y el siguiente es un ejemplo de un número flotante:"
   ]
  },
  {
   "cell_type": "code",
   "execution_count": 7,
   "metadata": {
    "id": "zOwga3lhlIaE"
   },
   "outputs": [
    {
     "data": {
      "text/plain": [
       "36.8"
      ]
     },
     "execution_count": null,
     "metadata": {},
     "output_type": "execute_result"
    }
   ],
   "source": [
    "36.8"
   ]
  },
  {
   "cell_type": "markdown",
   "metadata": {
    "id": "2VSd4zX6lIaE"
   },
   "source": [
    "Utilizando la función `type()` Python nos devuelve el tipo del objeto."
   ]
  },
  {
   "cell_type": "code",
   "execution_count": 8,
   "metadata": {
    "id": "AEQavr6mlIaE"
   },
   "outputs": [
    {
     "data": {
      "text/plain": [
       "int"
      ]
     },
     "execution_count": null,
     "metadata": {},
     "output_type": "execute_result"
    }
   ],
   "source": [
    "type(10)"
   ]
  },
  {
   "cell_type": "code",
   "execution_count": 9,
   "metadata": {
    "id": "LThjnLsolIaE"
   },
   "outputs": [
    {
     "data": {
      "text/plain": [
       "float"
      ]
     },
     "execution_count": null,
     "metadata": {},
     "output_type": "execute_result"
    }
   ],
   "source": [
    "type(10.5)"
   ]
  },
  {
   "cell_type": "code",
   "execution_count": 10,
   "metadata": {
    "id": "r1GiGwPblIaF"
   },
   "outputs": [
    {
     "data": {
      "text/plain": [
       "float"
      ]
     },
     "execution_count": null,
     "metadata": {},
     "output_type": "execute_result"
    }
   ],
   "source": [
    "type(10.0)"
   ]
  },
  {
   "cell_type": "code",
   "execution_count": 11,
   "metadata": {},
   "outputs": [
    {
     "data": {
      "text/plain": [
       "float"
      ]
     },
     "execution_count": null,
     "metadata": {},
     "output_type": "execute_result"
    }
   ],
   "source": [
    "type(10.)"
   ]
  },
  {
   "cell_type": "markdown",
   "metadata": {},
   "source": [
    "::: {.callout-note}\n",
    "### Observación 👀\n",
    "\n",
    "A diferencia de R, Python no es un lenguaje vectorizado. Por lo tanto, los tipos `int` y `float` representan valores **escalares**, no vectores de longitud 1 como ocurre en R.\n",
    "\n",
    "Esta observación aplica a todos los tipos de datos elementales que vienen a continuación.\n",
    ":::"
   ]
  },
  {
   "cell_type": "markdown",
   "metadata": {
    "id": "r2Md8C6dlIaF"
   },
   "source": [
    "### Cadenas de texto\n",
    "\n",
    "Para ser una lenguaje de programación tan afamado, Python tiene que ser capaz de trabajar con objetos más complejos que los números.\n",
    "\n",
    "Un ejemplo de esto es el texto, que se representa con un objeto llamado **cadena de texto** y se construyen utilizando comillas.\n",
    "\n",
    "Como en la mayoría de los lenguajes de programación, las comillas se ponen al principio y al final del texto e indican el principio y el final de la cadena; estas pueden pueden ser dobles `\"` o simples `'`."
   ]
  },
  {
   "cell_type": "code",
   "execution_count": 12,
   "metadata": {
    "id": "PuaEZWGTlIaF"
   },
   "outputs": [
    {
     "data": {
      "text/plain": [
       "'Programando en Python'"
      ]
     },
     "execution_count": null,
     "metadata": {},
     "output_type": "execute_result"
    }
   ],
   "source": [
    "\"Programando en Python\""
   ]
  },
  {
   "cell_type": "code",
   "execution_count": 13,
   "metadata": {
    "id": "shBzD0S5lIaF"
   },
   "outputs": [
    {
     "data": {
      "text/plain": [
       "'Con comillas simples, también.'"
      ]
     },
     "execution_count": null,
     "metadata": {},
     "output_type": "execute_result"
    }
   ],
   "source": [
    "'Con comillas simples, también.'"
   ]
  },
  {
   "cell_type": "markdown",
   "metadata": {},
   "source": [
    "En Python no hay diferencia entre usar comillas simples `'` o dobles `\"`, pero es importante que el tipo de comilla que se usa para abrir la cadena sea el mismo que se usa para cerrarla.\n",
    "\n",
    "Cuando imprimimos una cadena, las comillas no se muestran en la salida. Para imprimir cualquier objeto de Python utilizamos la función `print()`.\n"
   ]
  },
  {
   "cell_type": "code",
   "execution_count": 14,
   "metadata": {
    "id": "9IXnTZAZlIaG"
   },
   "outputs": [
    {
     "name": "stdout",
     "output_type": "stream",
     "text": [
      "Con comillas simples, ¡también!\n"
     ]
    }
   ],
   "source": [
    "print('Con comillas simples, ¡también!')"
   ]
  },
  {
   "cell_type": "markdown",
   "metadata": {
    "id": "8lE-fxPrlIaG"
   },
   "source": [
    "Una forma un poco más exótica, pero muy útil, de crear cadenas es utilizando **comillas triples**. Con esta sintaxis, se repiten tres comillas seguidas, lo que permite definir cadenas de texto que ocupan varias líneas."
   ]
  },
  {
   "cell_type": "code",
   "execution_count": 15,
   "metadata": {
    "id": "dmjeX1sGlIaG"
   },
   "outputs": [
    {
     "name": "stdout",
     "output_type": "stream",
     "text": [
      "Se puede escribir texto\n",
      "en varias lineas.\n",
      "¡Está muy bueno!\n"
     ]
    }
   ],
   "source": [
    "print(\"\"\"Se puede escribir texto\n",
    "en varias lineas.\n",
    "¡Está muy bueno!\"\"\")"
   ]
  },
  {
   "cell_type": "markdown",
   "metadata": {
    "id": "rqmM7e3ilIaG"
   },
   "source": [
    "Otra manera de escribir texto que abarca múltiples líneas es usando el carácter especial `\\n`, que representa un salto de línea."
   ]
  },
  {
   "cell_type": "code",
   "execution_count": 16,
   "metadata": {
    "id": "faem7yNYlIaH"
   },
   "outputs": [
    {
     "name": "stdout",
     "output_type": "stream",
     "text": [
      "Primera línea\n",
      "segunda línea\n",
      "tercera línea.\n"
     ]
    }
   ],
   "source": [
    "print(\"Primera línea\\nsegunda línea\\ntercera línea.\")"
   ]
  },
  {
   "cell_type": "markdown",
   "metadata": {
    "id": "46PT2I2hlIaH"
   },
   "source": [
    "En cambio, si mostramos una representación del texto (sin usar `print()`), los `\\n` sí se visualizan."
   ]
  },
  {
   "cell_type": "code",
   "execution_count": 17,
   "metadata": {
    "id": "G4UJTLISlIaH"
   },
   "outputs": [
    {
     "data": {
      "text/plain": [
       "'Primera línea\\nsegunda línea\\ntercera línea.'"
      ]
     },
     "execution_count": null,
     "metadata": {},
     "output_type": "execute_result"
    }
   ],
   "source": [
    "\"Primera línea\\nsegunda línea\\ntercera línea.\""
   ]
  },
  {
   "cell_type": "markdown",
   "metadata": {
    "id": "x-ImuDXClIaH"
   },
   "source": [
    "::: {.callout-tip}\n",
    "### ¡Atencion! 🤓\n",
    "\n",
    "¿Cuál es la diferencia entre usar `print()` y no usarlo?\n",
    "\n",
    "* Cuando usamos `print()` se imprime el objeto de una manera humanamente legible.\n",
    "* Cuando no lo usamos, se muestra una **representación** del objeto. Esta representación tiene que ser lo menos ambigua posible.\n",
    "    * Por este motivo es que se muestran las comillas a la hora de representar una cadena.\n",
    ":::\n"
   ]
  },
  {
   "cell_type": "markdown",
   "metadata": {},
   "source": [
    "Otra situación en la que usar `print()` genera una diferencia es cuando se quieren mostrar varios objetos en una _notebook_. Por ejemplo, comparemos el resultado de los siguientes bloques:"
   ]
  },
  {
   "cell_type": "code",
   "execution_count": 18,
   "metadata": {
    "id": "JWobqAy9lIaH"
   },
   "outputs": [
    {
     "data": {
      "text/plain": [
       "'mensaje 2'"
      ]
     },
     "execution_count": null,
     "metadata": {},
     "output_type": "execute_result"
    }
   ],
   "source": [
    "\"mensaje 1\"\n",
    "10\n",
    "\"mensaje 2\""
   ]
  },
  {
   "cell_type": "code",
   "execution_count": 19,
   "metadata": {
    "id": "xusV0FzZlIaH"
   },
   "outputs": [
    {
     "name": "stdout",
     "output_type": "stream",
     "text": [
      "mensaje 1\n",
      "10\n",
      "mensaje 2\n"
     ]
    }
   ],
   "source": [
    "print(\"mensaje 1\")\n",
    "print(10)\n",
    "print(\"mensaje 2\")"
   ]
  },
  {
   "cell_type": "markdown",
   "metadata": {
    "id": "XFo6_VIWlIaI"
   },
   "source": [
    "### Lógicos (o Booleanos)\n",
    "\n",
    "Como veremos más adelante, nuestros programas suelen tener que decidir entre diferentes acciones a tomar según se cumpla o no cierta condición.\n",
    "\n",
    "Para representar esta situación utilizamos un tipo especial de dato conocido como **lógico** o **booleano**, que puede tomar únicamente dos valores: `True` o `False`.\n",
    "\n",
    "Si la condición se cumple, el resultado será `True`; de lo contrario, será `False`."
   ]
  },
  {
   "cell_type": "code",
   "execution_count": 20,
   "metadata": {
    "id": "syX99whjlIaI"
   },
   "outputs": [
    {
     "data": {
      "text/plain": [
       "True"
      ]
     },
     "execution_count": null,
     "metadata": {},
     "output_type": "execute_result"
    }
   ],
   "source": [
    "True"
   ]
  },
  {
   "cell_type": "code",
   "execution_count": 21,
   "metadata": {
    "id": "WCMqpvO0lIaI"
   },
   "outputs": [
    {
     "data": {
      "text/plain": [
       "False"
      ]
     },
     "execution_count": null,
     "metadata": {},
     "output_type": "execute_result"
    }
   ],
   "source": [
    "False"
   ]
  },
  {
   "cell_type": "code",
   "execution_count": 22,
   "metadata": {
    "id": "SjkCEj_qlIaI"
   },
   "outputs": [
    {
     "data": {
      "text/plain": [
       "bool"
      ]
     },
     "execution_count": null,
     "metadata": {},
     "output_type": "execute_result"
    }
   ],
   "source": [
    "type(True)"
   ]
  },
  {
   "cell_type": "code",
   "execution_count": 23,
   "metadata": {
    "id": "sVx6yQFLlIaJ"
   },
   "outputs": [
    {
     "data": {
      "text/plain": [
       "bool"
      ]
     },
     "execution_count": null,
     "metadata": {},
     "output_type": "execute_result"
    }
   ],
   "source": [
    "type(False)"
   ]
  },
  {
   "cell_type": "markdown",
   "metadata": {},
   "source": [
    "::: {.callout-note}\n",
    "### Reseña histórica 📜\n",
    "Este tipo de datos se llama Booleano en honor al matemático [George Boole](https://es.wikipedia.org/wiki/George_Boole).\n",
    ":::"
   ]
  },
  {
   "cell_type": "markdown",
   "metadata": {
    "id": "NPsd7FGXlIaJ"
   },
   "source": [
    "### Nulo\n",
    "\n",
    "El valor nulo, llamado `None` en Python, representa la ausencia de valor o el vacío. Se utiliza habitualmente para indicar que algo no tiene un valor asignado. Si intentamos mostrar el valor de `None`, veremos que no aparece nada."
   ]
  },
  {
   "cell_type": "code",
   "execution_count": 24,
   "metadata": {
    "id": "TL9tfkpHlIaJ"
   },
   "outputs": [],
   "source": [
    "None"
   ]
  },
  {
   "cell_type": "markdown",
   "metadata": {
    "id": "QHiVqt07lIaJ"
   },
   "source": [
    "En cambio, si imprimimos el objeto `None`, vemos el mensaje `None`."
   ]
  },
  {
   "cell_type": "code",
   "execution_count": 25,
   "metadata": {
    "id": "Cu_j7iE7lIaJ"
   },
   "outputs": [
    {
     "name": "stdout",
     "output_type": "stream",
     "text": [
      "None\n"
     ]
    }
   ],
   "source": [
    "print(None)"
   ]
  },
  {
   "cell_type": "markdown",
   "metadata": {
    "id": "uue2w2M3lIaJ"
   },
   "source": [
    "¿Y cuál es su tipo?"
   ]
  },
  {
   "cell_type": "code",
   "execution_count": 26,
   "metadata": {
    "id": "y39Nc-TAlIaK"
   },
   "outputs": [
    {
     "data": {
      "text/plain": [
       "NoneType"
      ]
     },
     "execution_count": null,
     "metadata": {},
     "output_type": "execute_result"
    }
   ],
   "source": [
    "type(None)"
   ]
  },
  {
   "cell_type": "markdown",
   "metadata": {
    "id": "BdHbo6hglIaK"
   },
   "source": [
    "Solamente los objetos `None` son del tipo `NoneType`."
   ]
  },
  {
   "cell_type": "markdown",
   "metadata": {},
   "source": [
    "::: {.callout-tip}\n",
    "### ¿Por qué existe el valor nulo? 🤔\n",
    "\n",
    "Muchas veces nuestro programa, o alguna parte del mismo, realiza una tarea que no devuelve ningún resultado.\n",
    "\n",
    "Podríamos ponernos de acuerdo en representar \"ningún resultado\" usando un número (e.g., `0`), una cadena vacía (`\"\"`), o algo similar.\n",
    "Pero estos valores representan algo específico, no la ausencia total de valor.\n",
    "\n",
    "Para expresar claramente que no hay ningún resultado, Python incluye un valor especial llamado `None`.\n",
    "\n",
    ":::"
   ]
  },
  {
   "cell_type": "markdown",
   "metadata": {
    "id": "F21dhbSQlIaK"
   },
   "source": [
    "**Ejemplos**\n",
    "\n",
    "- Un usuario completa un formulario con datos personales, pero algunos campos no son obligatorios y quedan sin completar.\n",
    "- Una función busca un elemento en una lista; cuando no encuentra lo buscado, devuelve un valor especial indicando que el resultado está ausente.\n",
    "\n",
    "En general, cuando se quiera representar la ausencia de información se utilizará `None`."
   ]
  },
  {
   "cell_type": "markdown",
   "metadata": {},
   "source": [
    "::: {.callout-note}\n",
    "### Observación 👀\n",
    "\n",
    "En R existen dos tipos de datos para representar valores faltantes: `NULL` y `NA`.\n",
    "El `None` de Python equivale a `NULL` en R, ya que ambos indican ausencia de valor.\n",
    "\n",
    "Por otro lado, `NA` en R representa un valor existente pero desconocido, por ejemplo, porque se ha perdido.\n",
    "Python no ofrece un tipo de dato equivalente de forma nativa, aunque algunas librerías sí lo implementan.\n",
    ":::"
   ]
  },
  {
   "cell_type": "markdown",
   "metadata": {
    "id": "e2BfOHHwlIaK"
   },
   "source": [
    "### Conversión entre tipos de datos\n",
    "\n",
    "Que existan distintos tipos de datos no significa que un objeto de un tipo no pueda \"convertirse\" a otro.\n",
    "\n",
    "En muchos casos es posible convertir entre tipos de datos.\n",
    "Por ejemplo, un número siempre se puede convertir a una cadena de caracteres, pero no cualquier cadena puede convertirse a un número.\n",
    "\n",
    "Para convertir un objeto a otro tipo utilizamos funciones con el nombre del tipo al que queremos convertir, como `str()`, `int()` o `bool()`. Estas funciones reciben como argumento el objeto a convertir.\n",
    "\n",
    "Veamos algunos ejemplos:"
   ]
  },
  {
   "cell_type": "code",
   "execution_count": 27,
   "metadata": {
    "id": "y-WDFv69lIaK"
   },
   "outputs": [
    {
     "data": {
      "text/plain": [
       "'256'"
      ]
     },
     "execution_count": null,
     "metadata": {},
     "output_type": "execute_result"
    }
   ],
   "source": [
    "str(256)"
   ]
  },
  {
   "cell_type": "code",
   "execution_count": 28,
   "metadata": {
    "id": "XjZM3fxolIaK"
   },
   "outputs": [
    {
     "data": {
      "text/plain": [
       "'None'"
      ]
     },
     "execution_count": null,
     "metadata": {},
     "output_type": "execute_result"
    }
   ],
   "source": [
    "str(None)"
   ]
  },
  {
   "cell_type": "code",
   "execution_count": 29,
   "metadata": {
    "id": "UMojjheXlIaL"
   },
   "outputs": [
    {
     "data": {
      "text/plain": [
       "165"
      ]
     },
     "execution_count": null,
     "metadata": {},
     "output_type": "execute_result"
    }
   ],
   "source": [
    "int(165.5)"
   ]
  },
  {
   "cell_type": "code",
   "execution_count": 30,
   "metadata": {
    "id": "jv727GgwlIaL"
   },
   "outputs": [
    {
     "data": {
      "text/plain": [
       "165"
      ]
     },
     "execution_count": null,
     "metadata": {},
     "output_type": "execute_result"
    }
   ],
   "source": [
    "int(165.8)"
   ]
  },
  {
   "cell_type": "code",
   "execution_count": 31,
   "metadata": {
    "id": "Vfse6lBBlIaL"
   },
   "outputs": [
    {
     "data": {
      "text/plain": [
       "165"
      ]
     },
     "execution_count": null,
     "metadata": {},
     "output_type": "execute_result"
    }
   ],
   "source": [
    "int(\"165\")"
   ]
  },
  {
   "cell_type": "code",
   "execution_count": 32,
   "metadata": {
    "id": "u5QhQULjlIaL"
   },
   "outputs": [
    {
     "data": {
      "text/plain": [
       "165.0"
      ]
     },
     "execution_count": null,
     "metadata": {},
     "output_type": "execute_result"
    }
   ],
   "source": [
    "float(\"165.0\")"
   ]
  },
  {
   "cell_type": "markdown",
   "metadata": {
    "id": "Eea_du6glIaL"
   },
   "source": [
    "### Resumen\n",
    "\n",
    "- Python tiene distintos tipos de datos.\n",
    "- Cada tipo de dato es útil para resolver diferentes problemas.\n",
    "    - A lo largo de la materia veremos muchísimos ejemplos.\n",
    "- Al principio, tener varios tipos de datos puede parecer complejo.\n",
    "    - Sin embargo, nos resultarán muy naturales a medida que los usemos para resolver problemas concretos.\n",
    "\n",
    "\n",
    "|           **Tipo de dato**          |               **Ejemplos**              |\n",
    "|:-----------------------------------:|:---------------------------------------:|\n",
    "|       Números enteros (`int`)       |       `-2`, `-1`, `0`, `10`, `200`      |\n",
    "| Números de punto flotante (`float`) |    `-200.789`, `-1.0`, `0.0`, `17.8`    |\n",
    "|       Cadenas de texto (`str`)      |  `\"a\"`, `\"abc\"`, `\"Rosario, Santa Fe\"`  |\n",
    "|          Booleanos (`bool`)         |             `True`, `False`             |\n",
    "|       Valor nulo (`NoneType`)       |                  `None`                 |\n",
    "\n",
    ": {.striped .hover}"
   ]
  },
  {
   "cell_type": "markdown",
   "metadata": {
    "id": "AP_U1xxUlIaN"
   },
   "source": [
    "## Variables\n",
    "\n",
    "¿Es necesario escribir explícitamente los valores con los que trabajamos cada vez que los usamos? Afortunadamente, la respuesta es no.\n",
    "\n",
    "Los lenguajes de programación más populares permiten usar **variables**.\n",
    "\n",
    "Podemos pensar las variables como etiquetas o nombres que asignamos a los objetos en nuestro programa.\n",
    "\n",
    "Una vez creada una variable con cierto valor, podemos usar directamente su nombre en lugar de volver a escribir el valor completo."
   ]
  },
  {
   "cell_type": "code",
   "execution_count": 33,
   "metadata": {
    "id": "mqggbdmmlIaN"
   },
   "outputs": [
    {
     "name": "stdout",
     "output_type": "stream",
     "text": [
      "¡Hola, curso!\n"
     ]
    }
   ],
   "source": [
    "mensaje = \"¡Hola, curso!\"\n",
    "print(mensaje)"
   ]
  },
  {
   "cell_type": "code",
   "execution_count": 34,
   "metadata": {
    "id": "QgRqwGphlIaN"
   },
   "outputs": [
    {
     "name": "stdout",
     "output_type": "stream",
     "text": [
      "¡Hola, curso!\n"
     ]
    }
   ],
   "source": [
    "print(\"¡Hola, curso!\")"
   ]
  },
  {
   "cell_type": "markdown",
   "metadata": {
    "id": "rXfZj6CAlIaN"
   },
   "source": [
    "Para crear una variable se necesita:\n",
    "\n",
    "1. El nombre.\n",
    "1. El operador de asignación.\n",
    "1. El valor que queremos asignar a la variable.\n",
    "\n",
    "En nuestro caso, el nombre de la variable es `mensaje` y el valor es `\"¡Hola, curso!\"`.\n",
    "\n",
    "Luego, cuando accedemos a la variable `mensaje` dentro de la función `print()`, Python nos devuelve el valor de la variable, es decir, `¡Hola, curso!\"`.\n",
    "\n",
    "Veamos otros ejemplos..."
   ]
  },
  {
   "cell_type": "code",
   "execution_count": 35,
   "metadata": {
    "id": "T53mTXtklIaO"
   },
   "outputs": [],
   "source": [
    "pi = 3.14159\n",
    "fruta_favorita = \"manzana\"\n",
    "python_bueno = True"
   ]
  },
  {
   "cell_type": "markdown",
   "metadata": {
    "id": "829SQCzilIaO"
   },
   "source": [
    "En el siguiente diagrama se muestra cómo las variables que creamos funcionan simplemente como etiquetas para los valores asignados.\n",
    "\n",
    "Cada vez que utilizamos una de estas etiquetas, accedemos directamente al valor que representa.\n",
    "\n",
    "![](../imgs/variables.png){fig-align=\"center\" width=\"600px\"}"
   ]
  },
  {
   "cell_type": "code",
   "execution_count": 36,
   "metadata": {
    "id": "cfZrTV0ilIaO"
   },
   "outputs": [
    {
     "name": "stdout",
     "output_type": "stream",
     "text": [
      "31.4159\n"
     ]
    }
   ],
   "source": [
    "print(pi * 10)"
   ]
  },
  {
   "cell_type": "code",
   "execution_count": 37,
   "metadata": {
    "id": "ydOztTftlIaO"
   },
   "outputs": [
    {
     "data": {
      "text/plain": [
       "'manzana'"
      ]
     },
     "execution_count": null,
     "metadata": {},
     "output_type": "execute_result"
    }
   ],
   "source": [
    "fruta_favorita"
   ]
  },
  {
   "cell_type": "code",
   "execution_count": 38,
   "metadata": {
    "id": "Z7U2IYcwlIaO"
   },
   "outputs": [
    {
     "data": {
      "text/plain": [
       "True"
      ]
     },
     "execution_count": null,
     "metadata": {},
     "output_type": "execute_result"
    }
   ],
   "source": [
    "python_bueno"
   ]
  },
  {
   "cell_type": "markdown",
   "metadata": {
    "id": "I__NjnUHlIaO"
   },
   "source": [
    "Las variables no solo evitan que escribamos repetidamente los mismos valores en nuestro programa, sino que también permiten:\n",
    "\n",
    "- **Generalizar el programa**\n",
    "    - Al cambiar el valor de una variable, todas las partes del programa que la usan se actualizan automáticamente.\n",
    "- **Mejorar la legibilidad del código**\n",
    "    - Si elegimos nombres claros y descriptivos, el programa será mucho más fácil de leer y entender.\n",
    "\n",
    "Por ejemplo, los siguientes bloques de código producen el mismo resultado, pero el segundo es mucho más informativo:"
   ]
  },
  {
   "cell_type": "code",
   "execution_count": 39,
   "metadata": {
    "id": "xtCoF8VklIaO"
   },
   "outputs": [
    {
     "data": {
      "text/plain": [
       "12000"
      ]
     },
     "execution_count": null,
     "metadata": {},
     "output_type": "execute_result"
    }
   ],
   "source": [
    "1500 * 8"
   ]
  },
  {
   "cell_type": "code",
   "execution_count": 40,
   "metadata": {
    "id": "ynxhGdGolIaO"
   },
   "outputs": [
    {
     "data": {
      "text/plain": [
       "12000"
      ]
     },
     "execution_count": null,
     "metadata": {},
     "output_type": "execute_result"
    }
   ],
   "source": [
    "precio = 1500\n",
    "cantidad = 8\n",
    "precio * cantidad"
   ]
  },
  {
   "cell_type": "markdown",
   "metadata": {
    "id": "7G-6eQLslIaP"
   },
   "source": [
    "### Nombres permitidos\n",
    "\n",
    "No todos los nombres que imaginemos se pueden utilizar como variables en Python.\n",
    "\n",
    "Tenemos que tener en cuenta las siguientes **reglas**. Los nombres de variables...\n",
    "\n",
    "- Solo pueden contener **letras**, **números** y **guiones bajos** (`_`).\n",
    "- Deben comenzar con una letra o un guión bajo, pero no con un número.\n",
    "    - Por ejemplo, `mensaje_1` es válido, pero `1_mensaje` no lo es.\n",
    "- No pueden contener espacios.\n",
    "    - Por eso usamos `fruta_favorita` en lugar de `fruta favorita`.\n",
    "- No pueden ser palabras reservadas de Python.\n",
    "    - Las palabras reservadas se encuentran al final de este apunte.\n",
    "\n",
    "Además, también vale la pena tener presente estos **consejos**:\n",
    "\n",
    "- Usá nombres breves pero descriptivos.\n",
    "    - `nombre` es preferible a `n`.\n",
    "    - `fruta_favorita` es preferible a `frut_fav`.\n",
    "- **Evitá** utilizar tildes, la letra `ñ` u otros caracteres específicos del castellano."
   ]
  },
  {
   "cell_type": "markdown",
   "metadata": {
    "id": "kHPWVG-2lIaP"
   },
   "source": [
    "### Eliminar variables\n",
    "\n",
    "Es posible que, después de crear nuestras variables y realizar las operaciones necesarias, queramos eliminarlas.\n",
    "\n",
    "Para borrar una variable, Python ofrece la sentencia `del` (del inglés _delete_, que significa eliminar o borrar)."
   ]
  },
  {
   "cell_type": "code",
   "execution_count": 41,
   "metadata": {
    "id": "nuQa4cb0lIaQ"
   },
   "outputs": [],
   "source": [
    "del fruta_favorita"
   ]
  },
  {
   "cell_type": "markdown",
   "metadata": {},
   "source": [
    "### Asignación múltiple\n",
    "\n",
    "Ya vimos que para asignar (o crear) una variable necesitamos hacer `variable = <valor>`.\n",
    "\n",
    "Si queremos crear varias variables, podemos hacerlo en líneas separadas:"
   ]
  },
  {
   "cell_type": "code",
   "execution_count": 42,
   "metadata": {},
   "outputs": [
    {
     "name": "stdout",
     "output_type": "stream",
     "text": [
      "3.1416\n",
      "2.7182\n"
     ]
    }
   ],
   "source": [
    "pi = 3.1416\n",
    "e = 2.7182\n",
    "\n",
    "print(pi)\n",
    "print(e)"
   ]
  },
  {
   "cell_type": "markdown",
   "metadata": {},
   "source": [
    "Una característica conveniente de Python es que permite asignar múltiples variables en una misma línea:"
   ]
  },
  {
   "cell_type": "code",
   "execution_count": 43,
   "metadata": {},
   "outputs": [
    {
     "name": "stdout",
     "output_type": "stream",
     "text": [
      "3.1416\n",
      "2.7182\n"
     ]
    }
   ],
   "source": [
    "pi, e = 3.1416, 2.7182\n",
    "\n",
    "print(pi)\n",
    "print(e)"
   ]
  },
  {
   "cell_type": "markdown",
   "metadata": {},
   "source": [
    "Otra ventaja es que las variables no tienen que ser del mismo tipo:"
   ]
  },
  {
   "cell_type": "code",
   "execution_count": 44,
   "metadata": {},
   "outputs": [
    {
     "name": "stdout",
     "output_type": "stream",
     "text": [
      "120\n",
      "un mensaje cualquiera\n",
      "None\n"
     ]
    }
   ],
   "source": [
    "a, b, c = 100 + 20, \"un mensaje cualquiera\", None\n",
    "\n",
    "print(a)\n",
    "print(b)\n",
    "print(c)"
   ]
  },
  {
   "cell_type": "markdown",
   "metadata": {},
   "source": [
    "Esta técnica es útil para escribir código más conciso, pero no conviene abusar de ella porque puede resultar en código poco legible."
   ]
  },
  {
   "cell_type": "markdown",
   "metadata": {},
   "source": [
    "::: {.callout-note}\n",
    "### Observación 👀\n",
    "\n",
    "La vida es más compleja de lo que parece, y los lenguajes de programación no son una excepción.\n",
    "\n",
    "En Python, lo que parece una asignación múltiple de variables es en realidad el uso de una técnica más avanzada llamada _unpacking_.\n",
    "\n",
    "A no desesperarse, más adelante vamos a aprender de qué se trata.\n",
    "\n",
    ":::"
   ]
  },
  {
   "cell_type": "markdown",
   "metadata": {
    "id": "88ezgjjVlIaQ"
   },
   "source": [
    "## Operadores\n",
    "\n",
    "Los operadores son **símbolos** que se utilizan para realizar operaciones o acciones sobre los objetos con los que estamos trabajando.\n",
    "\n",
    "Hasta ahora, vimos que podemos tener números, texto, y otras objetos un poco mas extraños como los booleanos e incluso algo que representa a la nada misma.\n",
    "\n",
    "A continuación, comenzamos a ver algunas de las tareas que podemos hacer con ellos."
   ]
  },
  {
   "cell_type": "markdown",
   "metadata": {
    "id": "eQaHDBFMlIaQ"
   },
   "source": [
    "### Operadores aritméticos\n",
    "\n",
    "Python incluye los mismos operadores aritméticos que solemos utilizar en nuestro día a día para hacer operaciones matemáticas.\n",
    "\n",
    "Estos se parecen muchísimo a los que usamos en una calculadora, por lo que podríamos entenderlo incluso sin saber de Python.\n",
    "\n",
    "Algunos operadores son los siguientes:\n",
    "\n",
    "* Suma (`+`)\n",
    "* Resta (`-`)\n",
    "* Multiplicación (`*`)\n",
    "* Potencia (`**`)\n",
    "* División (`/`)\n",
    "* División entera (`//`)\n",
    "* Módulo (`%`)"
   ]
  },
  {
   "cell_type": "markdown",
   "metadata": {},
   "source": [
    "#### Suma (`+`)"
   ]
  },
  {
   "cell_type": "code",
   "execution_count": 45,
   "metadata": {},
   "outputs": [
    {
     "data": {
      "text/plain": [
       "35"
      ]
     },
     "execution_count": null,
     "metadata": {},
     "output_type": "execute_result"
    }
   ],
   "source": [
    "10 + 25"
   ]
  },
  {
   "cell_type": "code",
   "execution_count": 46,
   "metadata": {},
   "outputs": [
    {
     "data": {
      "text/plain": [
       "35.0"
      ]
     },
     "execution_count": null,
     "metadata": {},
     "output_type": "execute_result"
    }
   ],
   "source": [
    "10.0 + 25.0"
   ]
  },
  {
   "cell_type": "code",
   "execution_count": 47,
   "metadata": {},
   "outputs": [
    {
     "data": {
      "text/plain": [
       "4.1"
      ]
     },
     "execution_count": null,
     "metadata": {},
     "output_type": "execute_result"
    }
   ],
   "source": [
    "-8 + 12.1"
   ]
  },
  {
   "cell_type": "markdown",
   "metadata": {},
   "source": [
    "El operador suma también puede ser usado con un solo argumento:"
   ]
  },
  {
   "cell_type": "code",
   "execution_count": 48,
   "metadata": {},
   "outputs": [
    {
     "data": {
      "text/plain": [
       "8"
      ]
     },
     "execution_count": null,
     "metadata": {},
     "output_type": "execute_result"
    }
   ],
   "source": [
    "+ 8"
   ]
  },
  {
   "cell_type": "markdown",
   "metadata": {},
   "source": [
    "En este caso no modifica en nada al valor `8`.\n",
    "\n",
    "<!-- Utilizar la suma con un solo argumento tiene algunas aplicaciones en casos más avanzados que no vamos a ver en el curso. -->"
   ]
  },
  {
   "cell_type": "markdown",
   "metadata": {
    "id": "PSbfwZH1lIaR"
   },
   "source": [
    "#### Resta (`-`)"
   ]
  },
  {
   "cell_type": "code",
   "execution_count": 49,
   "metadata": {},
   "outputs": [
    {
     "data": {
      "text/plain": [
       "3"
      ]
     },
     "execution_count": null,
     "metadata": {},
     "output_type": "execute_result"
    }
   ],
   "source": [
    "11 - 8"
   ]
  },
  {
   "cell_type": "code",
   "execution_count": 50,
   "metadata": {},
   "outputs": [
    {
     "data": {
      "text/plain": [
       "0.0"
      ]
     },
     "execution_count": null,
     "metadata": {},
     "output_type": "execute_result"
    }
   ],
   "source": [
    "100 - 100.0"
   ]
  },
  {
   "cell_type": "code",
   "execution_count": 51,
   "metadata": {},
   "outputs": [
    {
     "data": {
      "text/plain": [
       "-63"
      ]
     },
     "execution_count": null,
     "metadata": {},
     "output_type": "execute_result"
    }
   ],
   "source": [
    "-35 - 28"
   ]
  },
  {
   "cell_type": "markdown",
   "metadata": {},
   "source": [
    "El operador resta también puede ser usado con un solo argumento:"
   ]
  },
  {
   "cell_type": "code",
   "execution_count": 52,
   "metadata": {
    "id": "SqVn8zU7lIaR"
   },
   "outputs": [
    {
     "data": {
      "text/plain": [
       "-7"
      ]
     },
     "execution_count": null,
     "metadata": {},
     "output_type": "execute_result"
    }
   ],
   "source": [
    "- 7"
   ]
  },
  {
   "cell_type": "markdown",
   "metadata": {},
   "source": [
    "#### Multiplicación (`*`) y potencia (`**`)"
   ]
  },
  {
   "cell_type": "code",
   "execution_count": 53,
   "metadata": {},
   "outputs": [
    {
     "data": {
      "text/plain": [
       "105"
      ]
     },
     "execution_count": null,
     "metadata": {},
     "output_type": "execute_result"
    }
   ],
   "source": [
    "21 * 5"
   ]
  },
  {
   "cell_type": "code",
   "execution_count": 54,
   "metadata": {},
   "outputs": [
    {
     "data": {
      "text/plain": [
       "105.0"
      ]
     },
     "execution_count": null,
     "metadata": {},
     "output_type": "execute_result"
    }
   ],
   "source": [
    "21 * 5.0"
   ]
  },
  {
   "cell_type": "code",
   "execution_count": 55,
   "metadata": {
    "id": "dQsX4OGRlIaR"
   },
   "outputs": [
    {
     "data": {
      "text/plain": [
       "105.0"
      ]
     },
     "execution_count": null,
     "metadata": {},
     "output_type": "execute_result"
    }
   ],
   "source": [
    "21.0 * 5.0"
   ]
  },
  {
   "cell_type": "code",
   "execution_count": 56,
   "metadata": {},
   "outputs": [
    {
     "data": {
      "text/plain": [
       "8"
      ]
     },
     "execution_count": null,
     "metadata": {},
     "output_type": "execute_result"
    }
   ],
   "source": [
    "2 ** 3"
   ]
  },
  {
   "cell_type": "code",
   "execution_count": 57,
   "metadata": {},
   "outputs": [
    {
     "data": {
      "text/plain": [
       "8.0"
      ]
     },
     "execution_count": null,
     "metadata": {},
     "output_type": "execute_result"
    }
   ],
   "source": [
    "2 ** 3.0"
   ]
  },
  {
   "cell_type": "markdown",
   "metadata": {},
   "source": [
    "::: {.callout-tip}\n",
    "#### Conclusiones\n",
    "\n",
    "Para las operaciones de suma, resta, multiplicación y potencia se cumple:\n",
    "\n",
    "* Si ambos valores son enteros, el resultado será un entero.\n",
    "* Si al menos uno de los valores es flotante, el resultado será flotante.\n",
    "\n",
    ":::"
   ]
  },
  {
   "cell_type": "markdown",
   "metadata": {},
   "source": [
    "#### División (`/` y `//`)\n",
    "\n",
    "Python provee dos operadores distintos para calcular el cociente entre dos números.\n",
    "\n",
    "* El operador `/` que calcula la **división flotante**.\n",
    "* El operador `//` que calcula la **división entera**.\n",
    "\n",
    "El operador `/` es el que más se utiliza y **siempre devuelve un número de tipo flotante**."
   ]
  },
  {
   "cell_type": "code",
   "execution_count": 58,
   "metadata": {},
   "outputs": [
    {
     "data": {
      "text/plain": [
       "2.0"
      ]
     },
     "execution_count": null,
     "metadata": {},
     "output_type": "execute_result"
    }
   ],
   "source": [
    "10 / 5"
   ]
  },
  {
   "cell_type": "code",
   "execution_count": 59,
   "metadata": {},
   "outputs": [
    {
     "data": {
      "text/plain": [
       "1.8181818181818181"
      ]
     },
     "execution_count": null,
     "metadata": {},
     "output_type": "execute_result"
    }
   ],
   "source": [
    "10 / 5.5"
   ]
  },
  {
   "cell_type": "markdown",
   "metadata": {},
   "source": [
    "La división entera se suele utilizar cuando uno quiere el resultado entero de la división, sin importar si el resto es 0 o no."
   ]
  },
  {
   "cell_type": "code",
   "execution_count": 60,
   "metadata": {},
   "outputs": [
    {
     "data": {
      "text/plain": [
       "2"
      ]
     },
     "execution_count": null,
     "metadata": {},
     "output_type": "execute_result"
    }
   ],
   "source": [
    "10 // 5"
   ]
  },
  {
   "cell_type": "code",
   "execution_count": 61,
   "metadata": {},
   "outputs": [
    {
     "data": {
      "text/plain": [
       "1.0"
      ]
     },
     "execution_count": null,
     "metadata": {},
     "output_type": "execute_result"
    }
   ],
   "source": [
    "10 // 5.5"
   ]
  },
  {
   "cell_type": "markdown",
   "metadata": {},
   "source": [
    "Veamos los siguientes ejemplos donde comparamos la división flotante con la división entera, utilizando los mismos argumentos."
   ]
  },
  {
   "cell_type": "code",
   "execution_count": 62,
   "metadata": {},
   "outputs": [
    {
     "data": {
      "text/plain": [
       "3.75"
      ]
     },
     "execution_count": null,
     "metadata": {},
     "output_type": "execute_result"
    }
   ],
   "source": [
    "15 / 4"
   ]
  },
  {
   "cell_type": "code",
   "execution_count": 63,
   "metadata": {},
   "outputs": [
    {
     "data": {
      "text/plain": [
       "3.0"
      ]
     },
     "execution_count": null,
     "metadata": {},
     "output_type": "execute_result"
    }
   ],
   "source": [
    "15.0 // 4.0"
   ]
  },
  {
   "cell_type": "markdown",
   "metadata": {},
   "source": [
    "**Conclusión**: La división entera **no redondea** el resultado de la división flotante. Más sobre esto debajo."
   ]
  },
  {
   "cell_type": "markdown",
   "metadata": {},
   "source": [
    "#### Módulo (`%`)\n",
    "\n",
    "Otro operador relacionado a la división entera es el operador **módulo** o **resto** (`%`). \n",
    "\n",
    "Esta operación nos devuelve el resto que se obtiene al realizar la división entera entre dos números."
   ]
  },
  {
   "cell_type": "code",
   "execution_count": 64,
   "metadata": {},
   "outputs": [
    {
     "data": {
      "text/plain": [
       "2"
      ]
     },
     "execution_count": null,
     "metadata": {},
     "output_type": "execute_result"
    }
   ],
   "source": [
    "17 % 3"
   ]
  },
  {
   "cell_type": "markdown",
   "metadata": {},
   "source": [
    "Debajo se puede ver la relación entre la división entera y el módulo:\n",
    "\n",
    "![](../imgs/division_entera_y_modulo.png){fig-align=\"center\" width=\"500px\"}\n",
    "\n",
    "Aunque ahora pueda parecer difícil encontrar una aplicación práctica para los operadores de división entera `//` y resto `%`, más adelante veremos ejemplos donde haremos un uso intensivo de ellos.\n"
   ]
  },
  {
   "cell_type": "markdown",
   "metadata": {},
   "source": [
    "::: {.callout-note}\n",
    "### Observación 👀\n",
    "\n",
    "Probablemente en R hayan utilizado principalmente el operador `/`, que también corresponde a la división flotante.\n",
    "\n",
    "En ese lenguaje, los operadores para división entera y resto son `%/%` y `%%`, respectivamente.\n",
    ":::"
   ]
  },
  {
   "cell_type": "markdown",
   "metadata": {
    "id": "qS_6f7vnlIaR"
   },
   "source": [
    "#### Prioridad de los operadores\n",
    "\n",
    "Hasta ahora vimos operaciones bastante sencillas.\n",
    "\n",
    "Cuando presentamos la suma, realizamos simplemente una suma. Cuando presentamos la multiplicación, hicimos solo una multiplicación.\n",
    "\n",
    "Por supuesto, al momento de hacer cálculos podemos combinar los operadores que ya conocemos, de la misma forma en que lo hacemos al resolver cuentas a mano.\n",
    "\n",
    "Un punto importante a tener en cuenta es que, al igual que cuando hacemos cuentas a mano, algunas operaciones se resuelven antes que otras, sin importar el orden en que aparecen. Esto ocurre porque algunos operadores tienen mayor **prioridad** y, por lo tanto, se evalúan antes.\n",
    "\n",
    "En el siguiente ejemplo, ¿por qué se obtienen resultados distintos?"
   ]
  },
  {
   "cell_type": "code",
   "execution_count": 65,
   "metadata": {
    "id": "0hugf6kZlIaS"
   },
   "outputs": [
    {
     "data": {
      "text/plain": [
       "2"
      ]
     },
     "execution_count": null,
     "metadata": {},
     "output_type": "execute_result"
    }
   ],
   "source": [
    "10 - 2 * 4"
   ]
  },
  {
   "cell_type": "code",
   "execution_count": 66,
   "metadata": {
    "id": "AHOQ-i90lIaS"
   },
   "outputs": [
    {
     "data": {
      "text/plain": [
       "32"
      ]
     },
     "execution_count": null,
     "metadata": {},
     "output_type": "execute_result"
    }
   ],
   "source": [
    "(10 - 2) * 4"
   ]
  },
  {
   "cell_type": "markdown",
   "metadata": {
    "id": "ybGlzhPjlIaS"
   },
   "source": [
    "Independientemente de que el símbolo `+` aparezca antes que el símbolo `*` en una expresión, Python realiza primero la multiplicación. \n",
    "\n",
    "Al igual que cuando hacemos cuentas a mano, **la multiplicación tiene mayor prioridad que la suma**.\n",
    "\n",
    "Si queremos forzar a Python a realizar una operación antes que otra, sin importar la prioridad de los operadores, debemos **usar paréntesis**.\n",
    "\n",
    "Otro ejemplo es el siguiente...\n"
   ]
  },
  {
   "cell_type": "code",
   "execution_count": 67,
   "metadata": {
    "id": "eUgFB54glIaS"
   },
   "outputs": [
    {
     "data": {
      "text/plain": [
       "11.0"
      ]
     },
     "execution_count": null,
     "metadata": {},
     "output_type": "execute_result"
    }
   ],
   "source": [
    "7 + 8 / 2"
   ]
  },
  {
   "cell_type": "code",
   "execution_count": 68,
   "metadata": {
    "id": "vbZIIfEdlIaT"
   },
   "outputs": [
    {
     "data": {
      "text/plain": [
       "7.5"
      ]
     },
     "execution_count": null,
     "metadata": {},
     "output_type": "execute_result"
    }
   ],
   "source": [
    "(7 + 8) / 2"
   ]
  },
  {
   "cell_type": "markdown",
   "metadata": {
    "id": "Qip5BSXLlIaT"
   },
   "source": [
    "A continuación se incluye una tabla con los operadores que vimos y la prioridad que tiene cada uno.\n",
    "\n",
    "Los operadores que aparecen **más arriba** tienen **mayor prioridad**.\n",
    "\n",
    "Los operadores que aparecen en la misma fila tienen el mismo nivel de prioridad y se resuelven según el orden en que aparecen en el código (de izquierda a derecha).\n",
    "\n",
    "|      Operador       |                    Significado                    |\n",
    "|:-------------------:|:-------------------------------------------------:|\n",
    "|         `()`        |                    Agrupamiento                   |\n",
    "|         `**`        |                      Potencia                     |\n",
    "| `*`, `/`, `//`, `%` | Multiplicación, División, División entera, Módulo |\n",
    "|       `+`, `-`      |                    Suma, Resta                    |\n",
    "\n",
    ": {.striped .hover}\n",
    "\n",
    "Esta lista es una versión más sencilla y resumida de la tabla de prioridades de todos los operadores que hay en Python. Una versión más completa se puede encontrar en [Programiz](https://www.programiz.com/python-programming/precedence-associativity)."
   ]
  },
  {
   "cell_type": "markdown",
   "metadata": {
    "id": "-RCmR79ilIaU"
   },
   "source": [
    "### Operadores lógicos\n",
    "\n",
    "Los operadores lógicos en Python son tres: `not`, `and` y `or`. Se llaman así porque combinan expresiones lógicas (o directamente valores lógicos) y devuelven también valores lógicos, es decir, del tipo `bool`, que pueden ser `True` o `False`. Estos operadores se utilizan para combinar o invertir condiciones en expresiones lógicas."
   ]
  },
  {
   "cell_type": "markdown",
   "metadata": {
    "id": "vLGycXjPlIaU"
   },
   "source": [
    "#### Negación (`not`)\n",
    "\n",
    "Devuelve el opuesto del valor que le pasamos."
   ]
  },
  {
   "cell_type": "code",
   "execution_count": 69,
   "metadata": {
    "id": "X7CImMTwlIaU"
   },
   "outputs": [
    {
     "data": {
      "text/plain": [
       "True"
      ]
     },
     "execution_count": null,
     "metadata": {},
     "output_type": "execute_result"
    }
   ],
   "source": [
    "not False"
   ]
  },
  {
   "cell_type": "code",
   "execution_count": 70,
   "metadata": {
    "id": "EI8eEa65lIaV"
   },
   "outputs": [
    {
     "data": {
      "text/plain": [
       "False"
      ]
     },
     "execution_count": null,
     "metadata": {},
     "output_type": "execute_result"
    }
   ],
   "source": [
    "not True"
   ]
  },
  {
   "cell_type": "markdown",
   "metadata": {
    "id": "N972N03flIaV"
   },
   "source": [
    "#### Conjunción o intersección (`and`)\n",
    "\n",
    "Esta operación devuelve `True` solamente cuando los dos operadores que le pasamos son `True`."
   ]
  },
  {
   "cell_type": "code",
   "execution_count": 71,
   "metadata": {
    "id": "jivuWDsYlIaV"
   },
   "outputs": [
    {
     "data": {
      "text/plain": [
       "True"
      ]
     },
     "execution_count": null,
     "metadata": {},
     "output_type": "execute_result"
    }
   ],
   "source": [
    "True and True"
   ]
  },
  {
   "cell_type": "code",
   "execution_count": 72,
   "metadata": {
    "id": "F0X0EDyKlIaV"
   },
   "outputs": [
    {
     "data": {
      "text/plain": [
       "False"
      ]
     },
     "execution_count": null,
     "metadata": {},
     "output_type": "execute_result"
    }
   ],
   "source": [
    "False and True"
   ]
  },
  {
   "cell_type": "markdown",
   "metadata": {
    "id": "96M-PTQllIaV"
   },
   "source": [
    "#### Disyunción o unión (`or`)\n",
    "\n",
    "Esta operación devuelve `True` cuando cualquiera de sus argumentos es `True`."
   ]
  },
  {
   "cell_type": "code",
   "execution_count": 73,
   "metadata": {
    "id": "FJyxLdN9lIaV"
   },
   "outputs": [
    {
     "data": {
      "text/plain": [
       "True"
      ]
     },
     "execution_count": null,
     "metadata": {},
     "output_type": "execute_result"
    }
   ],
   "source": [
    "True or False"
   ]
  },
  {
   "cell_type": "markdown",
   "metadata": {
    "id": "0vTN7PCBlIaW"
   },
   "source": [
    "Solo devuelve `False` cuando sus dos argumentos son `False`."
   ]
  },
  {
   "cell_type": "code",
   "execution_count": 74,
   "metadata": {
    "id": "bOX60Tl0lIaW"
   },
   "outputs": [
    {
     "data": {
      "text/plain": [
       "False"
      ]
     },
     "execution_count": null,
     "metadata": {},
     "output_type": "execute_result"
    }
   ],
   "source": [
    "False or False"
   ]
  },
  {
   "cell_type": "markdown",
   "metadata": {
    "id": "F0H8F_NFlIaW"
   },
   "source": [
    "### Operadores de comparación"
   ]
  },
  {
   "cell_type": "markdown",
   "metadata": {},
   "source": [
    "#### Comparación por identidad\n",
    "\n",
    "Python ofrece dos operadores para verificar si dos objetos son o no el mismo **en identidad** (es decir, **en memoria**):\n",
    "\n",
    "- `is`: devuelve `True` si ambos operandos **son el mismo objeto**.\n",
    "- `is not`: devuelve `True` si los operandos **no son el mismo objeto**."
   ]
  },
  {
   "cell_type": "code",
   "execution_count": 75,
   "metadata": {},
   "outputs": [
    {
     "data": {
      "text/plain": [
       "True"
      ]
     },
     "execution_count": null,
     "metadata": {},
     "output_type": "execute_result"
    }
   ],
   "source": [
    "False is False"
   ]
  },
  {
   "cell_type": "code",
   "execution_count": 76,
   "metadata": {},
   "outputs": [
    {
     "data": {
      "text/plain": [
       "False"
      ]
     },
     "execution_count": null,
     "metadata": {},
     "output_type": "execute_result"
    }
   ],
   "source": [
    "False is True"
   ]
  },
  {
   "cell_type": "code",
   "execution_count": 77,
   "metadata": {},
   "outputs": [
    {
     "data": {
      "text/plain": [
       "True"
      ]
     },
     "execution_count": null,
     "metadata": {},
     "output_type": "execute_result"
    }
   ],
   "source": [
    "None is None"
   ]
  },
  {
   "cell_type": "markdown",
   "metadata": {},
   "source": [
    "Este tipo de comparación es posible porque cada objeto en Python existe en la memoria de la computadora y tiene una identificación única (ID).\n",
    "Para conocer el ID de un objeto, se puede usar la función `id()`."
   ]
  },
  {
   "cell_type": "code",
   "execution_count": 78,
   "metadata": {},
   "outputs": [
    {
     "data": {
      "text/plain": [
       "94152411564800"
      ]
     },
     "execution_count": null,
     "metadata": {},
     "output_type": "execute_result"
    }
   ],
   "source": [
    "id(False)"
   ]
  },
  {
   "cell_type": "code",
   "execution_count": 79,
   "metadata": {},
   "outputs": [
    {
     "data": {
      "text/plain": [
       "94152411564800"
      ]
     },
     "execution_count": null,
     "metadata": {},
     "output_type": "execute_result"
    }
   ],
   "source": [
    "id(False)"
   ]
  },
  {
   "cell_type": "code",
   "execution_count": 80,
   "metadata": {},
   "outputs": [
    {
     "data": {
      "text/plain": [
       "94152411476128"
      ]
     },
     "execution_count": null,
     "metadata": {},
     "output_type": "execute_result"
    }
   ],
   "source": [
    "id(None)"
   ]
  },
  {
   "cell_type": "markdown",
   "metadata": {},
   "source": [
    "#### Comparación por valor\n",
    "\n",
    "Por otro lado, Python también provee operadores para realizar comparaciones entre objetos en términos de sus valores.\n",
    "\n",
    "Los operadores que vemos a continuación son los mismos que aprendimos en la secundaria.\n",
    "\n",
    "| **Operador** | **Descripción**                                                                                                    |\n",
    "|:------------:|--------------------------------------------------------------------------------------------------------------------|\n",
    "|     `==`     | **Igualdad:** El resultado es `True` cuando los dos operandos son iguales.                                         |\n",
    "|     `!=`     | **Desigualdad:** El resultado es `True`  si los operandos son distintos.                                           |\n",
    "|      `>`     | **Mayor a:** El resultado es `True` si el operando de la izquierda es mayor que el de la derecha.                  |\n",
    "|     `>=`     | **Mayor o igual a:** El resultado es `True`  si el operando de la izquierda es mayor o igual que el de la derecha. |\n",
    "|      `<`     | **Menor a:** El resultado es `True` si el operando de la izquierda es menor que el de la derecha.                  |\n",
    "|     `<=`     | **Menor o igual a:** El resultado es `True` si el operando de la izquierda es menor o igual que el de la derecha.  |\n",
    "\n",
    ": {.striped .hover}"
   ]
  },
  {
   "cell_type": "markdown",
   "metadata": {
    "id": "RZh4vvO6lIaX"
   },
   "source": [
    "Algunos ejemplos..."
   ]
  },
  {
   "cell_type": "code",
   "execution_count": 81,
   "metadata": {
    "id": "CXexe_-slIaX"
   },
   "outputs": [
    {
     "data": {
      "text/plain": [
       "True"
      ]
     },
     "execution_count": null,
     "metadata": {},
     "output_type": "execute_result"
    }
   ],
   "source": [
    "10 > 5"
   ]
  },
  {
   "cell_type": "code",
   "execution_count": 82,
   "metadata": {
    "id": "u_zi4vCVlIaX"
   },
   "outputs": [
    {
     "data": {
      "text/plain": [
       "True"
      ]
     },
     "execution_count": null,
     "metadata": {},
     "output_type": "execute_result"
    }
   ],
   "source": [
    "10 > 5 + 3"
   ]
  },
  {
   "cell_type": "code",
   "execution_count": 83,
   "metadata": {
    "id": "faAfOBBulIaX"
   },
   "outputs": [
    {
     "data": {
      "text/plain": [
       "False"
      ]
     },
     "execution_count": null,
     "metadata": {},
     "output_type": "execute_result"
    }
   ],
   "source": [
    "0 < 0"
   ]
  },
  {
   "cell_type": "code",
   "execution_count": 84,
   "metadata": {
    "id": "D21oYAntlIaX"
   },
   "outputs": [
    {
     "data": {
      "text/plain": [
       "True"
      ]
     },
     "execution_count": null,
     "metadata": {},
     "output_type": "execute_result"
    }
   ],
   "source": [
    "1 >= 1"
   ]
  },
  {
   "cell_type": "code",
   "execution_count": 85,
   "metadata": {
    "id": "hxoF4p3KlIaX"
   },
   "outputs": [
    {
     "data": {
      "text/plain": [
       "False"
      ]
     },
     "execution_count": null,
     "metadata": {},
     "output_type": "execute_result"
    }
   ],
   "source": [
    "10.0 != 10"
   ]
  },
  {
   "cell_type": "code",
   "execution_count": 86,
   "metadata": {
    "id": "U4KP3b-GlIaX"
   },
   "outputs": [
    {
     "data": {
      "text/plain": [
       "True"
      ]
     },
     "execution_count": null,
     "metadata": {},
     "output_type": "execute_result"
    }
   ],
   "source": [
    "10.0 == 10"
   ]
  },
  {
   "cell_type": "markdown",
   "metadata": {
    "id": "sfc7Xh51lIaX"
   },
   "source": [
    "A pesar de que `10.0` es de tipo flotante y `10` es de tipo entero, vemos que la comparación de igualdad `==` dice que son iguales.\n",
    "\n",
    "No siempre que comparemos objetos de distinto tipo va a suceder algo así.\n",
    "\n",
    "La comparación de cadenas de texto distingue mayúsculas de minúsculas"
   ]
  },
  {
   "cell_type": "code",
   "execution_count": 87,
   "metadata": {
    "id": "PsaOM_0YlIaY"
   },
   "outputs": [
    {
     "data": {
      "text/plain": [
       "False"
      ]
     },
     "execution_count": null,
     "metadata": {},
     "output_type": "execute_result"
    }
   ],
   "source": [
    "\"UNR\" == \"unr\""
   ]
  },
  {
   "cell_type": "markdown",
   "metadata": {
    "id": "DuhpnSsNlIaY"
   },
   "source": [
    "Es posible comparar objetos de distinto tipo, como lo vimos en el ejemplo anterior donde comparamos `10` y `10.0`. \n",
    "\n",
    "Salvo casos particulares, como son los valores numéricos, estos objetos son considerados siempre distintos."
   ]
  },
  {
   "cell_type": "code",
   "execution_count": 88,
   "metadata": {
    "id": "MUH2J60BlIaY"
   },
   "outputs": [
    {
     "data": {
      "text/plain": [
       "False"
      ]
     },
     "execution_count": null,
     "metadata": {},
     "output_type": "execute_result"
    }
   ],
   "source": [
    "\"10\" == 10"
   ]
  },
  {
   "cell_type": "code",
   "execution_count": 89,
   "metadata": {
    "id": "36IY_gFclIaY"
   },
   "outputs": [
    {
     "data": {
      "text/plain": [
       "False"
      ]
     },
     "execution_count": null,
     "metadata": {},
     "output_type": "execute_result"
    }
   ],
   "source": [
    "\"False\" == False"
   ]
  },
  {
   "cell_type": "markdown",
   "metadata": {
    "id": "2c9ApnNslIaY"
   },
   "source": [
    "Es posible combinar mas de una comparación en la misma línea."
   ]
  },
  {
   "cell_type": "code",
   "execution_count": 90,
   "metadata": {
    "id": "cAFpIV9ClIaY"
   },
   "outputs": [
    {
     "data": {
      "text/plain": [
       "True"
      ]
     },
     "execution_count": null,
     "metadata": {},
     "output_type": "execute_result"
    }
   ],
   "source": [
    "1 < 2 and 2 < 3"
   ]
  },
  {
   "cell_type": "markdown",
   "metadata": {
    "id": "pv2VBBx5lIaY"
   },
   "source": [
    "Incluso es posible omitir el operador `and` y tener una expresión más clara"
   ]
  },
  {
   "cell_type": "code",
   "execution_count": 91,
   "metadata": {
    "id": "s6KVbRMblIaY"
   },
   "outputs": [
    {
     "data": {
      "text/plain": [
       "True"
      ]
     },
     "execution_count": null,
     "metadata": {},
     "output_type": "execute_result"
    }
   ],
   "source": [
    "1 < 2 < 3"
   ]
  },
  {
   "cell_type": "code",
   "execution_count": 92,
   "metadata": {
    "id": "BO1YqyzElIaZ"
   },
   "outputs": [
    {
     "data": {
      "text/plain": [
       "True"
      ]
     },
     "execution_count": null,
     "metadata": {},
     "output_type": "execute_result"
    }
   ],
   "source": [
    "-5 < -4 < -3"
   ]
  },
  {
   "cell_type": "markdown",
   "metadata": {
    "id": "bkLJWP1DlIaZ"
   },
   "source": [
    "También podemos mezclar `not`, `and` y `or` a gusto."
   ]
  },
  {
   "cell_type": "code",
   "execution_count": 93,
   "metadata": {
    "id": "IP1LWboHlIac"
   },
   "outputs": [
    {
     "data": {
      "text/plain": [
       "True"
      ]
     },
     "execution_count": null,
     "metadata": {},
     "output_type": "execute_result"
    }
   ],
   "source": [
    "False or not False"
   ]
  },
  {
   "cell_type": "markdown",
   "metadata": {
    "id": "NEWV9-oolIac"
   },
   "source": [
    "Y es válido utilizar paréntesis para agrupar operaciones."
   ]
  },
  {
   "cell_type": "code",
   "execution_count": 94,
   "metadata": {
    "id": "zXxkJ6XulIac"
   },
   "outputs": [
    {
     "data": {
      "text/plain": [
       "True"
      ]
     },
     "execution_count": null,
     "metadata": {},
     "output_type": "execute_result"
    }
   ],
   "source": [
    "(False or True) and (True or False)"
   ]
  },
  {
   "cell_type": "markdown",
   "metadata": {
    "id": "vuWNXj4_lIac"
   },
   "source": [
    "A continuación se incluye una tabla con los operadores de comparación y la prioridad que tiene cada uno.\n",
    "\n",
    "Los operadores que aparecen más arriba tienen mayor prioridad.\n",
    "\n",
    "Los operadores que aparecen en la misma fila tienen el mismo nivel de prioridad y se resuelven según el orden en que aparecen en el código (de izquierda a derecha).\n",
    "\n",
    "|                            Operadores                            |              Significado              |\n",
    "|:----------------------------------------------------------------:|:-------------------------------------:|\n",
    "| `==`, `!=`, `>`, `>=`, `<`, `<=`, `is`, `is not`, `in`, `not in` | Comparaciones, identidad, pertenencia |\n",
    "|                               `not`                              |                Negación               |\n",
    "|                               `and`                              |       Conjunción o intersección       |\n",
    "|                               `or`                               |           Disyunción o unión          |\n",
    "\n",
    ": {.striped .hover}\n",
    "\n",
    "Todos los operadores de comparación tienen menor prioridad que los operadores aritméticos que vimos arriba.\n",
    "\n",
    "En otras palabras, si pegaramos ambas tablas, ésta última quedaría por debajo."
   ]
  },
  {
   "cell_type": "markdown",
   "metadata": {
    "id": "j31tL9gQlIac"
   },
   "source": [
    "Analicemos nuevamente uno de los ejemplos que ya vimos."
   ]
  },
  {
   "cell_type": "code",
   "execution_count": 95,
   "metadata": {
    "id": "SUR94CmxlIac"
   },
   "outputs": [
    {
     "data": {
      "text/plain": [
       "False"
      ]
     },
     "execution_count": null,
     "metadata": {},
     "output_type": "execute_result"
    }
   ],
   "source": [
    "not True and not True"
   ]
  },
  {
   "cell_type": "markdown",
   "metadata": {
    "id": "BdE3a2HalIac"
   },
   "source": [
    "El operador `not` tiene mayor prioridad que el operador `and` porque aparece primero en la tabla.\n",
    "\n",
    "En consecuencia, en el código anterior primero se resuelven los `not True` y luego el `and`. Esto es lo mismo que hacer"
   ]
  },
  {
   "cell_type": "code",
   "execution_count": 96,
   "metadata": {
    "id": "J_prSs_zlIad"
   },
   "outputs": [
    {
     "data": {
      "text/plain": [
       "False"
      ]
     },
     "execution_count": null,
     "metadata": {},
     "output_type": "execute_result"
    }
   ],
   "source": [
    "False and False"
   ]
  },
  {
   "cell_type": "markdown",
   "metadata": {},
   "source": [
    "::: {.callout-note}\n",
    "### Resumen 📝\n",
    "\n",
    "Existen dos operadores para comparar igualdad entre dos objetos de Python:\n",
    "\n",
    "* `==` → compara el valor (contenido).\n",
    "* `is` → compara la identidad (ubicación en memoria).\n",
    "\n",
    ":::"
   ]
  },
  {
   "cell_type": "markdown",
   "metadata": {},
   "source": [
    "## Operaciones con cadenas de caracteres"
   ]
  },
  {
   "cell_type": "markdown",
   "metadata": {},
   "source": [
    "### Suma y producto"
   ]
  },
  {
   "cell_type": "markdown",
   "metadata": {},
   "source": [
    "Aunque al principio pueda parecer extraño, en Python es posible usar operadores matemáticos con objetos que no son numéricos.\n",
    "\n",
    "Esto no significa que se puedan aplicar a _cualquier_ objeto, ni que estén disponibles todos los operadores en esos casos.\n",
    "\n",
    "Sin embargo, vale la pena resaltar el uso del operador de suma (`+`) y producto (`*`) con las cadenas de caracteres.\n",
    "\n",
    "Veamos que pasa si \"sumamos\" dos cadenas de caracteres:"
   ]
  },
  {
   "cell_type": "code",
   "execution_count": 97,
   "metadata": {},
   "outputs": [
    {
     "data": {
      "text/plain": [
       "'¿Funcionabien?'"
      ]
     },
     "execution_count": null,
     "metadata": {},
     "output_type": "execute_result"
    }
   ],
   "source": [
    "\"¿Funciona\" + \"bien?\""
   ]
  },
  {
   "cell_type": "code",
   "execution_count": 98,
   "metadata": {},
   "outputs": [
    {
     "data": {
      "text/plain": [
       "'¿esto también funciona?'"
      ]
     },
     "execution_count": null,
     "metadata": {},
     "output_type": "execute_result"
    }
   ],
   "source": [
    "\"¿esto\" + \" también \" + \"funciona?\""
   ]
  },
  {
   "cell_type": "markdown",
   "metadata": {},
   "source": [
    "Como se puede observar, el operador de suma (`+`) aplicado a cadenas de texto indica concatenación: crea una nueva cadena uniendo el contenido de las cadenas originales, en el mismo orden."
   ]
  },
  {
   "cell_type": "markdown",
   "metadata": {},
   "source": [
    "Si la suma tiene sentido para cadenas, entonces el producto también debería tenerlo (al menos con números enteros). Veamos un ejemplo:"
   ]
  },
  {
   "cell_type": "code",
   "execution_count": 99,
   "metadata": {},
   "outputs": [
    {
     "data": {
      "text/plain": [
       "'jaja'"
      ]
     },
     "execution_count": null,
     "metadata": {},
     "output_type": "execute_result"
    }
   ],
   "source": [
    "\"ja\" * 2"
   ]
  },
  {
   "cell_type": "code",
   "execution_count": 100,
   "metadata": {},
   "outputs": [
    {
     "data": {
      "text/plain": [
       "'jajajaja'"
      ]
     },
     "execution_count": null,
     "metadata": {},
     "output_type": "execute_result"
    }
   ],
   "source": [
    "\"ja\" * 4"
   ]
  },
  {
   "cell_type": "markdown",
   "metadata": {},
   "source": [
    "De manera coherente con la definición de producto para enteros, multiplicar una cadena por un número entero `N` equivale a concatenar esa cadena consigo misma `N` veces."
   ]
  },
  {
   "cell_type": "markdown",
   "metadata": {},
   "source": [
    "### Cadenas formateadas (_formatted strings_)\n",
    "\n",
    "Las cadenas de texto formateadas son de gran utilidad para crear una cadena de texto a partir de otros objetos.\n",
    "\n",
    "En Python se las conoce como **f-strings** (abreviación de _formatted-strings_) y tienen este nombre porque tenemos que poner una `f` antes de las comillas.\n",
    "\n",
    "El resultado de una f-_string_ no se diferencia de una cadena de texto común y corriente."
   ]
  },
  {
   "cell_type": "code",
   "execution_count": 101,
   "metadata": {},
   "outputs": [
    {
     "data": {
      "text/plain": [
       "'Un texto cualquiera'"
      ]
     },
     "execution_count": null,
     "metadata": {},
     "output_type": "execute_result"
    }
   ],
   "source": [
    "f\"Un texto cualquiera\""
   ]
  },
  {
   "cell_type": "markdown",
   "metadata": {},
   "source": [
    "Sin embargo, las f-strings nos permiten **interpolar cadenas de texto**. \n",
    "\n",
    "**¿Qué es interpolar texto?**\n",
    "\n",
    "Veamos algunos ejemplos."
   ]
  },
  {
   "cell_type": "code",
   "execution_count": 102,
   "metadata": {},
   "outputs": [
    {
     "name": "stdout",
     "output_type": "stream",
     "text": [
      "Programando en Python\n"
     ]
    }
   ],
   "source": [
    "lenguaje = \"Python\"\n",
    "print(\"Programando en \" + lenguaje)"
   ]
  },
  {
   "cell_type": "code",
   "execution_count": 103,
   "metadata": {},
   "outputs": [
    {
     "name": "stdout",
     "output_type": "stream",
     "text": [
      "Si es bayer es bueno.\n"
     ]
    }
   ],
   "source": [
    "que = \"bayer\"\n",
    "como = \"bueno\"\n",
    "print(\"Si es \" + que + \" es \" + como + \".\")"
   ]
  },
  {
   "cell_type": "markdown",
   "metadata": {},
   "source": [
    "El proceso se vuelve un poco engorroso. Hay que estar atentos a las sumas y los espacios para que el resultado quede formateado de una manera correcta.\n",
    "\n",
    "Las _f-strings_ vienen a facilitar este proceso y hacerlo menos tedioso.\n",
    "\n",
    "Lo que tenemos que hacer es pasar el nombre de la variable entre llaves (`{}`) en el contenido de la f-string."
   ]
  },
  {
   "cell_type": "code",
   "execution_count": 104,
   "metadata": {},
   "outputs": [
    {
     "name": "stdout",
     "output_type": "stream",
     "text": [
      "Programando en Python\n",
      "Si es bayer es bueno.\n"
     ]
    }
   ],
   "source": [
    "print(f\"Programando en {lenguaje}\")\n",
    "print(f\"Si es {que} es {como}.\")"
   ]
  },
  {
   "cell_type": "markdown",
   "metadata": {},
   "source": [
    "Veamos un ejemplo menos trivial, donde utilizar f-strings reduce la cantidad de código y lo hace más claro. "
   ]
  },
  {
   "cell_type": "code",
   "execution_count": 105,
   "metadata": {},
   "outputs": [
    {
     "name": "stdout",
     "output_type": "stream",
     "text": [
      "Hola, soy Tomás, tengo 29 años y vivo en Rosario.\n"
     ]
    }
   ],
   "source": [
    "nombre = \"Tomás\"\n",
    "edad = 29\n",
    "ciudad = \"Rosario\"\n",
    "\n",
    "print(\"Hola, soy \" + nombre + \", tengo \" + str(edad) + \" años y vivo en \" + ciudad + \".\")"
   ]
  },
  {
   "cell_type": "markdown",
   "metadata": {},
   "source": [
    "Utilizando **f-strings**... "
   ]
  },
  {
   "cell_type": "code",
   "execution_count": 106,
   "metadata": {},
   "outputs": [
    {
     "name": "stdout",
     "output_type": "stream",
     "text": [
      "Hola, soy Tomás, tengo 29 años y vivo en Rosario.\n"
     ]
    }
   ],
   "source": [
    "print(f\"Hola, soy {nombre}, tengo {edad} años y vivo en {ciudad}.\")"
   ]
  },
  {
   "cell_type": "markdown",
   "metadata": {},
   "source": [
    "Además, no es necesario convertir la variable `edad` a al tipo `str` manualmente."
   ]
  },
  {
   "cell_type": "markdown",
   "metadata": {},
   "source": [
    "No solo podemos utilizar variables dentro de las f-strings, también podemos incluir expresiones de Python."
   ]
  },
  {
   "cell_type": "code",
   "execution_count": 107,
   "metadata": {},
   "outputs": [
    {
     "name": "stdout",
     "output_type": "stream",
     "text": [
      "En 2.7 horas hay 162.0 minutos.\n"
     ]
    }
   ],
   "source": [
    "minutos_por_hora = 60\n",
    "horas = 2.7\n",
    "\n",
    "print(f\"En {horas} horas hay {horas * minutos_por_hora} minutos.\")"
   ]
  },
  {
   "cell_type": "markdown",
   "metadata": {},
   "source": [
    "### Cadenas de texto y sus metódos"
   ]
  },
  {
   "cell_type": "code",
   "execution_count": 108,
   "metadata": {},
   "outputs": [],
   "source": [
    "nombre = \"Lionel Messi\""
   ]
  },
  {
   "cell_type": "markdown",
   "metadata": {},
   "source": [
    "Las cadenas de texto, es decir, los objetos de tipo `str`, vienen con varias funciones (llamados \"métodos\") que nos facilitan muchísimas tareas en la práctica.\n",
    "\n",
    "Por ejemplo, tenemos los métodos `.upper()` y `.lower()`, que ponen el texto en mayúscula y en minúscula, respectivamente."
   ]
  },
  {
   "cell_type": "code",
   "execution_count": 109,
   "metadata": {},
   "outputs": [
    {
     "name": "stdout",
     "output_type": "stream",
     "text": [
      "LIONEL MESSI\n",
      "lionel messi\n"
     ]
    }
   ],
   "source": [
    "print(nombre.upper())\n",
    "print(nombre.lower())"
   ]
  },
  {
   "cell_type": "markdown",
   "metadata": {},
   "source": [
    "También tenemos `.capitalize()`, que pone la primer letra en mayúscula y el resto en minúsculas.\n",
    "\n",
    "Estos métodos se pueden combinar dentro de una f-string, sin necesidad de modificar los valores de `nombre` o `apellido`."
   ]
  },
  {
   "cell_type": "code",
   "execution_count": 110,
   "metadata": {},
   "outputs": [
    {
     "name": "stdout",
     "output_type": "stream",
     "text": [
      "Lionel Messi\n"
     ]
    }
   ],
   "source": [
    "nombre = \"lionel\"\n",
    "apellido = \"messi\"\n",
    "nombre_completo = f\"{nombre.capitalize()} {apellido.capitalize()}\"\n",
    "print(nombre_completo)"
   ]
  },
  {
   "cell_type": "markdown",
   "metadata": {},
   "source": [
    "Otra opción es usar `.title()`. \n",
    "\n",
    "Este método pone la primera letra de cada palabra en mayúsculas y al resto en minúsculas."
   ]
  },
  {
   "cell_type": "code",
   "execution_count": 111,
   "metadata": {},
   "outputs": [
    {
     "name": "stdout",
     "output_type": "stream",
     "text": [
      "Mensaje de prueba\n",
      "Mensaje De Prueba\n"
     ]
    }
   ],
   "source": [
    "mensaje = \"mensaje de prueba\"\n",
    "print(mensaje.capitalize())\n",
    "print(mensaje.title())"
   ]
  },
  {
   "cell_type": "markdown",
   "metadata": {},
   "source": [
    "### Eliminar espacios en blanco\n",
    "\n",
    "Es muy común que en nuestros programas tengamos que lidiar con texto que vienen con espacios en blanco que están demás.\n",
    "\n",
    "El espacio puede estar tanto al principio como al final de una cadena de texto.\n",
    "\n",
    "Afortunadamente, Python también provee algunos métodos que nos permiten eliminar estos espacios con muy poco trabajo."
   ]
  },
  {
   "cell_type": "code",
   "execution_count": 112,
   "metadata": {},
   "outputs": [
    {
     "data": {
      "text/plain": [
       "'  python  '"
      ]
     },
     "execution_count": null,
     "metadata": {},
     "output_type": "execute_result"
    }
   ],
   "source": [
    "lenguaje_favorito = \"  python  \"\n",
    "lenguaje_favorito"
   ]
  },
  {
   "cell_type": "markdown",
   "metadata": {},
   "source": [
    "`.rstrip()` elimina los espacios en blanco a la derecha del texto. "
   ]
  },
  {
   "cell_type": "code",
   "execution_count": 113,
   "metadata": {},
   "outputs": [
    {
     "data": {
      "text/plain": [
       "'  python'"
      ]
     },
     "execution_count": null,
     "metadata": {},
     "output_type": "execute_result"
    }
   ],
   "source": [
    "lenguaje_favorito.rstrip()"
   ]
  },
  {
   "cell_type": "markdown",
   "metadata": {},
   "source": [
    "`.lstrip()` elimina los espacios en blanco a la izquierda del texto. "
   ]
  },
  {
   "cell_type": "code",
   "execution_count": 114,
   "metadata": {},
   "outputs": [
    {
     "data": {
      "text/plain": [
       "'python  '"
      ]
     },
     "execution_count": null,
     "metadata": {},
     "output_type": "execute_result"
    }
   ],
   "source": [
    "lenguaje_favorito.lstrip()"
   ]
  },
  {
   "cell_type": "markdown",
   "metadata": {},
   "source": [
    "y `.strip()` elimina los espacios en blanco a la izquierda y a la derecha del texto."
   ]
  },
  {
   "cell_type": "code",
   "execution_count": 115,
   "metadata": {},
   "outputs": [
    {
     "data": {
      "text/plain": [
       "'python'"
      ]
     },
     "execution_count": null,
     "metadata": {},
     "output_type": "execute_result"
    }
   ],
   "source": [
    "lenguaje_favorito.strip()"
   ]
  },
  {
   "cell_type": "markdown",
   "metadata": {},
   "source": [
    "### Reemplazar y eliminar caracteres no deseados\n",
    "\n",
    "También es frecuente que el texto contenga caracteres erróneos, o caracteres que simplemente no queremos conservar.\n",
    "\n",
    "Para estos casos podemos usar el método `.replace()`. \n",
    "\n",
    "A diferencia de los métodos que vimos hasta ahora, `.replace()` requiere que le pasemos algunos argumentos. \n",
    "\n",
    "El primer valor que le pasamos es el texto que queremos reemplazar y el segundo es el texto de reemplazo.\n",
    "\n",
    "Podemos reemplazar caracteres, palabras, o frases enteras."
   ]
  },
  {
   "cell_type": "code",
   "execution_count": 116,
   "metadata": {},
   "outputs": [
    {
     "data": {
      "text/plain": [
       "'gato'"
      ]
     },
     "execution_count": null,
     "metadata": {},
     "output_type": "execute_result"
    }
   ],
   "source": [
    "animal = \"pato\"\n",
    "animal.replace(\"p\", \"g\")"
   ]
  },
  {
   "cell_type": "code",
   "execution_count": 117,
   "metadata": {},
   "outputs": [
    {
     "data": {
      "text/plain": [
       "'Hola Curso'"
      ]
     },
     "execution_count": null,
     "metadata": {},
     "output_type": "execute_result"
    }
   ],
   "source": [
    "saludo = \"Hola Mundo\"\n",
    "saludo.replace(\"Mundo\", \"Curso\")"
   ]
  },
  {
   "cell_type": "markdown",
   "metadata": {},
   "source": [
    "Cuando utilizamos el método `.replace()` se nos devuelve una nueva cadena de texto.\n",
    "\n",
    "Esto nos permite \"pegar\" o \"encadenar\" mas de un `.replace()` a la vez, ya que cada nuevo `.replace()` se aplica sobre el resultado de la operación anterior."
   ]
  },
  {
   "cell_type": "code",
   "execution_count": 118,
   "metadata": {},
   "outputs": [
    {
     "data": {
      "text/plain": [
       "'Chau Curso'"
      ]
     },
     "execution_count": null,
     "metadata": {},
     "output_type": "execute_result"
    }
   ],
   "source": [
    "saludo.replace(\"Mundo\", \"Curso\").replace(\"Hola\", \"Chau\")"
   ]
  },
  {
   "cell_type": "markdown",
   "metadata": {},
   "source": [
    "`saludo.replace(\"Mundo\", \"Curso\")` devuelve `\"Hola Curso\"`, al que luego se le aplica `.replace(\"Hola\", \"Chau\")` y el resultado final es `\"Chau Curso\"`."
   ]
  },
  {
   "cell_type": "markdown",
   "metadata": {
    "id": "gIXIwX2plIag"
   },
   "source": [
    "## Apéndice\n",
    "\n",
    "### Palabras claves y funciones predefinidas\n",
    "\n",
    "Python tiene un conjunto de palabras conocidas como _keywords_ que sirven para realizar acciones especificas y que **no podemos utilizar como nombres de variables**.\n",
    "\n",
    "Cuando intentemos utilizar una _keyword_ como nombre de variable, obtendremos un error.\n",
    "\n",
    "Por otro lado, si intentamos utilizar el nombre de una función (o clase) predefinida como nombre de una variable que nosotros creamos, no vamos a obtener un error pero no podremos usar la función nuevamente porque la variable ahora representa otra cosa.\n",
    "\n",
    "#### Palabras claves\n",
    "\n",
    "\n",
    "```python\n",
    "False      await      else       import     pass\n",
    "None       break      except     in         raise\n",
    "True       class      finally    is         return\n",
    "and        continue   for        lambda     try\n",
    "as         def        from       nonlocal   while\n",
    "assert     del        global     not        with\n",
    "async      elif       if         or         yield\n",
    "```\n",
    "\n",
    "#### Funciones y clases pre-definidas\n",
    "\n",
    "```python\n",
    "abs()          copyright()    getattr()      list()         range()        vars()\n",
    "all()          credits()      globals()      locals()       repr()         zip()\n",
    "any()          delattr()      hasattr()      map()          reversed()\n",
    "ascii()        dict()         hash()         max()          round()\n",
    "bin()          dir()          help()         memoryview()   set()\n",
    "bool()         display()      hex()          min()          setattr()\n",
    "breakpoint()   divmod()       id()           next()         slice()\n",
    "bytearray()    enumerate()    input()        object()       sorted()\n",
    "bytes()        eval()         int()          oct()          staticmethod()\n",
    "callable()     exec()         isinstance()   open()         str()\n",
    "chr()          filter()       issubclass()   ord()          sum()\n",
    "classmethod()  float()        iter()         pow()          super()\n",
    "compile()      format()       len()          print()        tuple()\n",
    "complex()      frozenset()    license()      property()     type()\n",
    "```\n",
    "\n",
    "\n",
    "#### Métodos de las cadenas de texto\n",
    "\n",
    "\n",
    "|        **Método**        | **Descripción**                                                             | **Ejemplo**                       |     **Resultado**     |\n",
    "|:------------------------:|-----------------------------------------------------------------------------|-----------------------------------|:---------------------:|\n",
    "|    `.endswith(sufijo)`   | Verifica si termina con el sufijo                                           | `\"file.txt\".endswith(\".txt\")`     |         `True`        |\n",
    "|        `.find(x)`        | La posicion de la primera aparición de `x` en la cadena (o -1 si no está)   | `\"Python\".find(\"t\")`              |          `2`          |\n",
    "|        `.index(x)`       | La posicion de la primera aparición de `x`  en la cadena (error si no está) | `\"Python\".index(\"n\")`             |          `5`          |\n",
    "|       `.isalpha()`       | Verifica si los caracteres son alfabéticos                                  | `\"256\".isalpha()`                 |        `False`        |\n",
    "|       `.isdigit()`       | Verifica si los caracteres son numéricos                                    | `\"256\".isdigit()`                 |         `True`        |\n",
    "|       `.islower()`       | Verifica si los caracteres son minúsculas                                   | `\"Python\".islower()`              |        `False`        |\n",
    "|        `.isupper()`      | Verifica si los caracteres son mayúsculas                                   | `\"Python\".isupper()`              |        `False`        |\n",
    "|      `.join(lista)`      | Une una lista de cadenas usando la cadena como delimitador                  | `\" y \".join([\"esto\", \"aquello\"])` |   `\"esto y aquello\"`  |\n",
    "|        `.lower()`        | Convertir a minúsculas                                                      | `\"Python\".lower()`                |       `\"python\"`      |\n",
    "| `.replace(viejo, nuevo)` | Reemplaza texto                                                             | `\"maximo\".replace(\"ax\", \"in\")`    |       `\"minimo\"`      |\n",
    "|       `.split(sep)`      | Parte la cadena en una lista de subcadenas                                  | `\"esto y aquello\".split(\" y \")`   | `[\"esto\", \"aquello\"]` |\n",
    "|  `.startswith(prefijo)`  | Verifica si comienza con un prefijo                                         | `\"file.txt\".endswith(\"a\")`        |        `False`        |\n",
    "|        `.strip()`        | Elimina espacios en blanco al inicio o al final                             | `\" oh la la \".strip()`            |      `\"oh la la\"`     |\n",
    "|        `.upper()`        | Convierte a mayúsculas                                                      | `\"Python\".upper()`                |       `\"PYTHON\"`      |"
   ]
  }
 ],
 "metadata": {
  "colab": {
   "provenance": []
  },
  "kernelspec": {
   "display_name": "Python 3.9.12 ('base')",
   "language": "python",
   "name": "python3"
  },
  "language_info": {
   "name": "python"
  },
  "orig_nbformat": 4,
  "vscode": {
   "interpreter": {
    "hash": "14611386fa2cd4265c4f0b62a048cd6d8d2bc09cf37ba48879354d3817581274"
   }
  }
 },
 "nbformat": 4,
 "nbformat_minor": 0
}
