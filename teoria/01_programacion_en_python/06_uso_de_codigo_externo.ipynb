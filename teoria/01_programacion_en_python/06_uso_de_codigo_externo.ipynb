{
 "cells": [
  {
   "cell_type": "markdown",
   "metadata": {},
   "source": [
    "---\n",
    "title: \"6 - Uso de código externo\"\n",
    "toc: true\n",
    "---"
   ]
  },
  {
   "cell_type": "markdown",
   "metadata": {},
   "source": [
    "## Introducción\n",
    "\n",
    "algo..."
   ]
  },
  {
   "cell_type": "markdown",
   "metadata": {},
   "source": [
    "## Módulos y paquetes\n",
    "\n",
    "Los módulos y paquetes en Python permiten la **reutilización y organización** del código.\n",
    "\n",
    "Un **módulo** es un archivo de Python (por ejemplo, `modulo.py`) que contiene código que se puede reutilizar.\n",
    "En general, los módulos definen funciones, clases y objetos que representan datos de distinta complejidad.\n",
    "Estos pueden ir desde estructuras simples, como una constante numérica, hasta otras más elaboradas, como una tabla de datos con columnas de diferentes tipos.\n",
    "\n",
    "Un **paquete**, por otro lado, es una **colección de módulos**, generalmente interdependientes.\n",
    "En la práctica, un paquete es una carpeta que contiene varios módulos e, incluso, subpaquetes (carpetas con módulos).\n",
    "Por lo general, los paquetes ofrecen un conjunto de herramientas más amplio que un módulo individual.\n",
    "Además, suelen distribuirse de forma que puedan ser instalados y utilizados por otros programadores o usuarios.\n"
   ]
  },
  {
   "cell_type": "markdown",
   "metadata": {},
   "source": [
    "::: {.callout-note}\n",
    "##### Glosario 🎯\n",
    "\n",
    "La documentación de Python 3 provee [un glosario](https://docs.python.org/3/glossary.html) con definiciones precisas para términos relevantes en el universo de Python.\n",
    "Entre ellas, podemos destacar las de módulo y paquete:\n",
    "\n",
    "* **Módulo**: Un objeto que funciona como una unidad de organización de código de Python.\n",
    "Los módulos tienen un **espacio de nombres** (_namespace_) que contiene objetos de Python arbitrarios.\n",
    "Los módulos se cargan en Python a través del proceso de **importación**.\n",
    "* **Paquete**: Un **módulo** de Python que puede contener submódulos o, de forma recursiva, subpaquetes.\n",
    "Técnicamente, un paquete es un módulo de Python con un atributo `__path__`.\n",
    "\n",
    ":::"
   ]
  },
  {
   "cell_type": "markdown",
   "metadata": {},
   "source": [
    "### Por qué existen\n",
    "\n",
    "Así como las funciones ayudan a reutilizar un programa sin repetir el código y los bucles permiten repetir la misma acción muchas veces, los módulos y librerías también permiten la **reutilización de código**.\n",
    "\n",
    "De este modo se evita, por ejemplo, tener que crear una función cada vez que la queremos usar. Simplemente la importamos o la \"traemos\" de un módulo o libería. Se ahorra tiempo, se reduce la probabilidad de errores y se mejora la mantenibilidad del código.\n",
    "\n",
    "Además, las librerías y módulos nos ayudan a mantener el código organizado y modular.\n",
    "Al dividir el código en \"partes\" más pequeñas y manejables, facilitamos su comprensión y mantenimiento.\n",
    "\n",
    "Por último pero no menos importante, los módulos y las librerías nos permiten **aprovechar el trabajo de otros**. De esta manera, podemos hacer mucho más sin tener que programar todo desde cero."
   ]
  },
  {
   "cell_type": "markdown",
   "metadata": {},
   "source": [
    "## Cómo importar código\n",
    "\n",
    "### La sentencia `import`\n",
    "\n",
    "Para importar un módulo usamos la sentencia `import` seguida del nombre del módulo a importar.\n",
    "\n",
    "```python\n",
    "import nombre\n",
    "```"
   ]
  },
  {
   "cell_type": "markdown",
   "metadata": {},
   "source": [
    "De esta manera, podemos importar el módulo `math` que pertenece a la librería estándar de Python."
   ]
  },
  {
   "cell_type": "code",
   "execution_count": 1,
   "metadata": {},
   "outputs": [],
   "source": [
    "import math"
   ]
  },
  {
   "cell_type": "markdown",
   "metadata": {},
   "source": [
    "Luego, podemos acceder a los objetos **dentro del _namespace_** `math` utilizando `math.nombre_objeto`. Por ejemplo, para usar la función `sqrt()`, que calcula la raíz cuadrada de un numero `n`, escribimos `math.sqrt(n)`."
   ]
  },
  {
   "cell_type": "code",
   "execution_count": 2,
   "metadata": {},
   "outputs": [
    {
     "data": {
      "text/plain": [
       "4.0"
      ]
     },
     "execution_count": null,
     "metadata": {},
     "output_type": "execute_result"
    }
   ],
   "source": [
    "math.sqrt(16)"
   ]
  },
  {
   "cell_type": "markdown",
   "metadata": {},
   "source": [
    "Si quisieramos importar más de una módulo, solo tenemos que agregar una nueva línea con el `import` correspondiente. Así, podemos también importar el módulo `random` que provee herramientas para generar números aleatorios."
   ]
  },
  {
   "cell_type": "code",
   "execution_count": 3,
   "metadata": {},
   "outputs": [],
   "source": [
    "import math\n",
    "import random"
   ]
  },
  {
   "cell_type": "code",
   "execution_count": 4,
   "metadata": {},
   "outputs": [
    {
     "data": {
      "text/plain": [
       "0.02007022378062895"
      ]
     },
     "execution_count": null,
     "metadata": {},
     "output_type": "execute_result"
    }
   ],
   "source": [
    "random.random() # número aleatorio entre 0 y 1"
   ]
  },
  {
   "cell_type": "markdown",
   "metadata": {},
   "source": [
    "::: {.callout-note}\n",
    "##### Librería estándar de Python 📚\n",
    "\n",
    "La librería estándar de Python es un conjunto de módulos y paquetes incluidos por defecto con cualquier instalación oficial de Python, listos para usar sin necesidad de hacer instalaciones adicionales.\n",
    "\n",
    ":::"
   ]
  },
  {
   "cell_type": "markdown",
   "metadata": {},
   "source": [
    "::: {.callout-note}\n",
    "##### Diferencias con R\n",
    "\n",
    "A diferencia de la carga de paquetes en R, que pone a disposición objetos del paquete en el ambiente global, el comando `import math` en Python no carga los objetos del módulo `math` directamente en el ambiente donde se ejecuta; solo carga el módulo en sí.\n",
    "\n",
    "Para acceder a las funciones de `math`, es necesario hacerlo mediante el nombre del módulo.\n",
    "Por este motivo, el siguiente bloque de código produce un error:\n",
    "\n",
    "```python\n",
    "import math\n",
    "sqrt(16)\n",
    "```\n",
    "```\n",
    "NameError: name 'sqrt' is not defined\n",
    "```\n",
    "\n",
    ":::"
   ]
  },
  {
   "cell_type": "markdown",
   "metadata": {},
   "source": [
    "### Listar nombres disponibles\n",
    "\n",
    "Para obtener un listado con los nombres de los objetos disponibles dentro de un módulo, podemmos usar la función `dir()`. Por ejemplo, podemos ver los objetos disponibles en `math`:\n",
    "\n",
    "```python\n",
    "dir(math)\n",
    "```\n",
    "```\n",
    "['__doc__',\n",
    " '__file__',\n",
    " '__loader__',\n",
    " '__name__',\n",
    " '__package__',\n",
    " '__spec__',\n",
    " 'acos',\n",
    " 'acosh',\n",
    " 'asin',\n",
    " 'asinh',\n",
    "...\n",
    " 'tan',\n",
    " 'tanh',\n",
    " 'tau',\n",
    " 'trunc',\n",
    " 'ulp']\n",
    "```"
   ]
  },
  {
   "cell_type": "markdown",
   "metadata": {},
   "source": [
    "Sin embargo, en la práctica, esta función no suele usarse demasiado para explorar los nombres disponibles en un módulo.\n",
    "\n",
    "Por lo general, trabajamos en editores de código que muestran automáticamente la lista de variables disponibles en un módulo.\n",
    "\n",
    "Si escribimos `math` seguido de un punto (`math.`), el editor desplegará un listado de los objetos disponibles en dicho módulo."
   ]
  },
  {
   "cell_type": "markdown",
   "metadata": {},
   "source": [
    "![](../imgs/import_math.gif){fig-align=\"center\"}"
   ]
  },
  {
   "cell_type": "markdown",
   "metadata": {},
   "source": [
    "### Importar objetos de un módulo"
   ]
  },
  {
   "cell_type": "markdown",
   "metadata": {},
   "source": [
    "La flexibilidad en la carga de módulos en Python permite importar uno o más objetos de un módulo (o submódulo) sin necesidad de importar el módulo completo.\n",
    "\n",
    "La sintaxis para traer un `objeto` de un módulo llamado `cosas` es:\n",
    "\n",
    "```python\n",
    "from cosas import objeto\n",
    "```"
   ]
  },
  {
   "cell_type": "markdown",
   "metadata": {},
   "source": [
    "De este modo, podemos cargar la constante `pi` del módulo `math`."
   ]
  },
  {
   "cell_type": "code",
   "execution_count": 5,
   "metadata": {},
   "outputs": [],
   "source": [
    "from math import pi"
   ]
  },
  {
   "cell_type": "markdown",
   "metadata": {},
   "source": [
    "Luego, es posible acceder a la variable `pi` sin tener que pasar por el nombre del módulo donde se define."
   ]
  },
  {
   "cell_type": "code",
   "execution_count": 6,
   "metadata": {},
   "outputs": [
    {
     "data": {
      "text/plain": [
       "3.141592653589793"
      ]
     },
     "execution_count": null,
     "metadata": {},
     "output_type": "execute_result"
    }
   ],
   "source": [
    "pi"
   ]
  },
  {
   "cell_type": "markdown",
   "metadata": {},
   "source": [
    "En nuestro caso particular, como anteriormente también importamos el módulo `math`, seguimos teniendo acceso a `pi` a través de `math`."
   ]
  },
  {
   "cell_type": "code",
   "execution_count": 7,
   "metadata": {},
   "outputs": [
    {
     "name": "stdout",
     "output_type": "stream",
     "text": [
      "3.141592653589793\n",
      "3.141592653589793\n"
     ]
    }
   ],
   "source": [
    "print(math.pi)\n",
    "print(pi)"
   ]
  },
  {
   "cell_type": "markdown",
   "metadata": {},
   "source": [
    "Para importar varios objetos a la vez, se utiliza una sintaxis similar a la anterior, separando sus nombres con comas.\n",
    "\n",
    "En este caso, vamos a importar las funciones `mean()` y `median()` de otro módulo estándar llamado `statistics`."
   ]
  },
  {
   "cell_type": "code",
   "execution_count": 8,
   "metadata": {},
   "outputs": [],
   "source": [
    "from statistics import mean, median"
   ]
  },
  {
   "cell_type": "code",
   "execution_count": 9,
   "metadata": {},
   "outputs": [
    {
     "name": "stdout",
     "output_type": "stream",
     "text": [
      "La media es: 9.285714285714286\n",
      "La mediana es: 6\n"
     ]
    }
   ],
   "source": [
    "numeros = [4, 5, 9, 30, 3, 8, 6]\n",
    "\n",
    "print(\"La media es:\", mean(numeros))\n",
    "print(\"La mediana es:\", median(numeros))"
   ]
  },
  {
   "cell_type": "markdown",
   "metadata": {},
   "source": [
    "### Importar con alias\n",
    "\n",
    "Como si esta flexibilidad no fuera suficiente, también es posible asignar un alias al objeto o módulo que se importa.\n",
    "\n",
    "Para un módulo:\n",
    "\n",
    "```python\n",
    "import modulo as alias\n",
    "```\n",
    "\n",
    "Y para un objeto dentro de un módulo:\n",
    "\n",
    "```python\n",
    "from modulo import objeto as alias\n",
    "```\n"
   ]
  },
  {
   "cell_type": "markdown",
   "metadata": {},
   "source": [
    "Podemos importar el módulo `math` usando el alias `mates`:"
   ]
  },
  {
   "cell_type": "code",
   "execution_count": 10,
   "metadata": {},
   "outputs": [
    {
     "name": "stdout",
     "output_type": "stream",
     "text": [
      "-1.0\n"
     ]
    }
   ],
   "source": [
    "import math as mates\n",
    "\n",
    "print(mates.cos(mates.pi)) # coseno(pi)"
   ]
  },
  {
   "cell_type": "markdown",
   "metadata": {},
   "source": [
    "O importar la funcion `sqrt` con el nombre `raiz`:"
   ]
  },
  {
   "cell_type": "code",
   "execution_count": 11,
   "metadata": {},
   "outputs": [
    {
     "data": {
      "text/plain": [
       "9.0"
      ]
     },
     "execution_count": null,
     "metadata": {},
     "output_type": "execute_result"
    }
   ],
   "source": [
    "from math import sqrt as raiz\n",
    "\n",
    "raiz(81)"
   ]
  },
  {
   "cell_type": "markdown",
   "metadata": {},
   "source": [
    "::: {.callout-warning}\n",
    "\n",
    "##### Importar todos los objetos de un módulo\n",
    "\n",
    "Python permite cargar todos los objetos definidos en un módulo o paquete directamente en el ambiente actual. La sintaxis es:\n",
    "\n",
    "```python\n",
    "from nombre import *\n",
    "```\n",
    "\n",
    "Esta **no es una práctica recomendable**, ya que no sabemos cuántos elementos se importarán ni qué conflictos podrían surgir entre los nombres definidos en el módulo y los que ya tenemos en nuestro programa.\n",
    "\n",
    "El uso de `from nombre import *` produce un efecto similar al de `library(paquete)` en R, pero en Python se desaconseja.\n",
    "\n",
    ":::"
   ]
  },
  {
   "cell_type": "markdown",
   "metadata": {},
   "source": [
    "## Uso de módulos propios\n",
    "\n",
    "La sintaxis para importar un módulo propio, u objetos definidos en él, es la misma que la que se utiliza para importar cualquier otro módulo.\n",
    "\n",
    "Supongamos que tenemos un archivo llamado `funciones.py` con el siguiente contenido:\n",
    "\n",
    "```{.python filename=\"funciones.py\"}\n",
    "def es_par(n):\n",
    "    if n % 2 == 0:\n",
    "        return True\n",
    "    return False\n",
    "\n",
    "\n",
    "def es_primo(n):\n",
    "    if n <= 1:\n",
    "        return False\n",
    "\n",
    "    for i in range(2, n):\n",
    "        if n % i == 0:\n",
    "            return False\n",
    "\n",
    "    return True\n",
    "```\n",
    "\n",
    "y queremos usar las funciones `es_par` y `es_primo` en nuestro programa principal."
   ]
  },
  {
   "cell_type": "markdown",
   "metadata": {},
   "source": [
    "Un aspecto fundamental a tener en cuenta para poder importar el módulo `funciones` desde nuestro programa principal es su ubicación.\n",
    "\n",
    "Si el archivo `funciones.py` no se encuentra en alguno de los directorios que Python recorre al ejecutar la sentencia `import`, obtendremos un error.\n",
    "\n",
    "Uno de los directorios en los que Python busca módulos al importar es el directorio actual, es decir, aquel desde donde se ejecuta nuestro programa principal."
   ]
  },
  {
   "cell_type": "markdown",
   "metadata": {},
   "source": [
    "Supongamos una carpeta (es decir, un proyecto) con la siguiente estructura de archivos:\n",
    "\n",
    "```\n",
    "proyecto/                  # Carpeta\n",
    "├── funciones.py           # Módulo\n",
    "└── programa.py            # Programa principal\n",
    "```\n",
    "\n",
    "Aquí, `programa.py` es nuestro programa principal y contiene el siguiente código:\n",
    "\n",
    "```python\n",
    "import funciones\n",
    "\n",
    "print(funciones.es_par(12))\n",
    "print(funciones.es_par(15))\n",
    "\n",
    "print(funciones.es_primo(1))\n",
    "print(funciones.es_primo(11))\n",
    "print(funciones.es_primo(15))\n",
    "```\n",
    "\n",
    "Al ejecutarlo, obtendremos la siguiente salida:\n",
    "\n",
    "```\n",
    "True\n",
    "False\n",
    "False\n",
    "True\n",
    "False\n",
    "```"
   ]
  },
  {
   "cell_type": "markdown",
   "metadata": {},
   "source": [
    "Otra forma de escribir un programa equivalente es la siguiente:\n",
    "\n",
    "```python\n",
    "from funciones import es_par, es_primo\n",
    "\n",
    "print(es_par(12))\n",
    "print(es_par(15))\n",
    "\n",
    "print(es_primo(1))\n",
    "print(es_primo(11))\n",
    "print(es_primo(15))\n",
    "```\n",
    "\n",
    "La salida de este programa será la misma que la del ejemplo anterior.\n",
    "La diferencia es que en este segundo programa se importan directamente las funciones `es_par` y `es_primo` desde el módulo `funciones`,\n",
    "en lugar de importar el módulo y luego acceder a las funciones a través de `funciones.es_par` y `funciones.es_primo`."
   ]
  },
  {
   "cell_type": "markdown",
   "metadata": {},
   "source": [
    "## Uso de paquetes de terceros\n",
    "\n",
    "Los _imports_ se hacen de la misma forma que con un módulo.\n",
    "\n",
    "En general, las librerías se importan con un alias específico. \n",
    "\n",
    "Esto no es obligatorio, pero es una práctica generalizada y recomendada.\n",
    "\n",
    "Por ejemplo, la libreria `numpy` se suele importar con el alias `np`."
   ]
  },
  {
   "cell_type": "code",
   "execution_count": null,
   "metadata": {},
   "outputs": [],
   "source": [
    "import numpy as np"
   ]
  },
  {
   "cell_type": "markdown",
   "metadata": {},
   "source": [
    "### Instalación"
   ]
  },
  {
   "cell_type": "markdown",
   "metadata": {},
   "source": [
    "### Uso"
   ]
  },
  {
   "cell_type": "markdown",
   "metadata": {},
   "source": [
    "### NumPy\n",
    "\n",
    "<center>\n",
    "\n",
    "![](imgs/numpy-logo.png)\n",
    "\n",
    "</center>\n",
    "\n",
    "[NumPy](https://numpy.org/) es una librería de Python especializada en el cálculo numérico y el análisis de datos.\n",
    "\n",
    "Provee un nuevo tipo de objeto llamado `array` que permite representar colecciones de datos de un mismo tipo en varias dimensiones y funciones muy eficientes para su manipulación.\n"
   ]
  },
  {
   "cell_type": "markdown",
   "metadata": {},
   "source": [
    "Para crear un `array` hay que utilizar la funcion `array()` de la librería `numpy`. \n",
    "\n",
    "Como importamos a `numpy` con el alias `np`, lo llamamos con `np.array()`."
   ]
  },
  {
   "cell_type": "code",
   "execution_count": null,
   "metadata": {},
   "outputs": [],
   "source": [
    "array = np.array([1, 2, 3, 4])\n",
    "array"
   ]
  },
  {
   "cell_type": "code",
   "execution_count": null,
   "metadata": {},
   "outputs": [],
   "source": [
    "type(array)"
   ]
  },
  {
   "cell_type": "markdown",
   "metadata": {},
   "source": [
    "La propiedad `.ndim` nos devuelve el número de dimensiones del array."
   ]
  },
  {
   "cell_type": "code",
   "execution_count": null,
   "metadata": {},
   "outputs": [],
   "source": [
    "array.ndim"
   ]
  },
  {
   "cell_type": "markdown",
   "metadata": {},
   "source": [
    "Y `.shape` nos devuelve la \"forma\" del array. Es decir, la cantidad de elementos por cada dimensión."
   ]
  },
  {
   "cell_type": "code",
   "execution_count": null,
   "metadata": {},
   "outputs": [],
   "source": [
    "array.shape"
   ]
  },
  {
   "cell_type": "markdown",
   "metadata": {},
   "source": [
    "En este caso estamos utilizando una lista, pero también es posible crear arrays a partir de otros objetos.\n",
    "\n",
    "El número de dimensiones del array va a depender del anidamiento que tengamos en las listas que utilizamos para crearlo.\n",
    "\n",
    "Por ejemplo, podemos crear un array de dos dimensiones de la siguiente manera:"
   ]
  },
  {
   "cell_type": "code",
   "execution_count": null,
   "metadata": {},
   "outputs": [],
   "source": [
    "array_2d = np.array([[1, 2, 3, 4], [5, 6, 7, 8]])\n",
    "array_2d"
   ]
  },
  {
   "cell_type": "code",
   "execution_count": null,
   "metadata": {},
   "outputs": [],
   "source": [
    "array_2d.ndim"
   ]
  },
  {
   "cell_type": "code",
   "execution_count": null,
   "metadata": {},
   "outputs": [],
   "source": [
    "array_2d.shape"
   ]
  },
  {
   "cell_type": "markdown",
   "metadata": {},
   "source": [
    "Podemos pensar a las dimensiones de la siguiente manera:\n",
    "\n",
    "* 1 dimensión: El array se corresponde con un vector.\n",
    "* 2 dimensiones: El array se corresponde con una matriz.\n",
    "* 3 dimensiones: El array se corresponde con un cubo.\n",
    "\n",
    "También es posible tener arrays multidimiensionales con más de 3 dimensiones. Podríamos pensarlos como un hiper-cubo, pero ya no podemos visualizarlo de una manera tan intuitiva."
   ]
  },
  {
   "cell_type": "markdown",
   "metadata": {},
   "source": [
    "<center>\n",
    "\n",
    "![](imgs/numpy_array.png)\n",
    "\n",
    "</center>"
   ]
  },
  {
   "cell_type": "markdown",
   "metadata": {},
   "source": [
    "Las operaciones matemáticas están vectorizadas (se realizan al nivel del array).\n",
    "\n",
    "Si queremos multiplicar cada número por otro valor, no hace falta que iteremos de manera explícita.\n",
    "\n",
    "Por ejemplo, con una lista teníamos que hacer todo este trabajo (o algo similar)."
   ]
  },
  {
   "cell_type": "code",
   "execution_count": null,
   "metadata": {},
   "outputs": [],
   "source": [
    "lista = [1, 2, 3, 4]\n",
    "lista_2 = []\n",
    "for valor in lista:\n",
    "    lista_2.append(valor * 10)\n",
    "lista_2"
   ]
  },
  {
   "cell_type": "markdown",
   "metadata": {},
   "source": [
    "En cambio, con los array de NumPy, estas operaciones son **muuuucho más faciles**..."
   ]
  },
  {
   "cell_type": "code",
   "execution_count": null,
   "metadata": {},
   "outputs": [],
   "source": [
    "array * 10"
   ]
  },
  {
   "cell_type": "code",
   "execution_count": null,
   "metadata": {},
   "outputs": [],
   "source": [
    "print(array - 5)\n",
    "print(array / 10)\n",
    "print(array ** 2.4)"
   ]
  },
  {
   "cell_type": "markdown",
   "metadata": {},
   "source": [
    "NumPy también viene con **muchísimas** funciones para hacer cálculos con los arrays."
   ]
  },
  {
   "cell_type": "code",
   "execution_count": null,
   "metadata": {},
   "outputs": [],
   "source": [
    "print(np.mean(array))\n",
    "print(np.median(array))\n",
    "print(np.std(array))"
   ]
  }
 ],
 "metadata": {
  "kernelspec": {
   "display_name": "Python 3.9.12 ('base')",
   "language": "python",
   "name": "python3"
  },
  "language_info": {
   "name": "python"
  },
  "orig_nbformat": 4,
  "vscode": {
   "interpreter": {
    "hash": "14611386fa2cd4265c4f0b62a048cd6d8d2bc09cf37ba48879354d3817581274"
   }
  }
 },
 "nbformat": 4,
 "nbformat_minor": 2
}
