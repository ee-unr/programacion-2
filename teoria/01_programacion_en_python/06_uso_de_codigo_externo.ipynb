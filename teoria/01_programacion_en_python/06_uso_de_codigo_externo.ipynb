{
 "cells": [
  {
   "cell_type": "markdown",
   "metadata": {},
   "source": [
    "---\n",
    "title: \"6 - Uso de código externo\"\n",
    "toc: true\n",
    "---"
   ]
  },
  {
   "cell_type": "markdown",
   "metadata": {},
   "source": [
    "## Introducción\n",
    "\n",
    "En la mayoría de los proyectos de programación no alcanza con el código que escribimos nosotros mismos.\n",
    "Con frecuencia necesitamos utilizar código externo y/o de terceros, ya sea para resolver problemas comunes de manera más rápida o para aprovechar el trabajo de la comunidad.\n",
    "\n",
    "Python facilita este proceso a través de módulos y paquetes, que nos permiten organizar, compartir e integrar código de forma sencilla.\n",
    "Gracias a ellos podemos sumar nuevas funcionalidades sin tener que programar todo desde cero, mantener el código más ordenado y evitar errores innecesarios."
   ]
  },
  {
   "cell_type": "markdown",
   "metadata": {},
   "source": [
    "## Módulos y paquetes\n",
    "\n",
    "Un **módulo** es un archivo de Python (por ejemplo, `modulo.py`) que contiene código que se puede reutilizar.\n",
    "En general, los módulos definen funciones, clases y objetos que representan datos de distinta complejidad.\n",
    "Estos pueden ir desde estructuras simples, como una constante numérica, hasta otras más elaboradas, como una tabla de datos con columnas de diferentes tipos.\n",
    "\n",
    "Un **paquete**, por otro lado, es una **colección de módulos**, generalmente interdependientes.\n",
    "En la práctica, un paquete es una carpeta que contiene varios módulos e, incluso, subpaquetes (carpetas con módulos).\n",
    "Por lo general, los paquetes ofrecen un conjunto de herramientas más amplio que un módulo individual.\n",
    "Además, suelen distribuirse de forma que puedan ser instalados y utilizados por otros usuarios.\n"
   ]
  },
  {
   "cell_type": "markdown",
   "metadata": {},
   "source": [
    "### Por qué existen\n",
    "\n",
    "Así como las funciones ayudan a reutilizar un programa sin repetir el código y los bucles permiten repetir la misma acción muchas veces, los módulos y paquetes también permiten la **reutilización de código**.\n",
    "\n",
    "De este modo se evita, por ejemplo, tener que crear una función cada vez que la queremos usar. Simplemente la importamos o la \"traemos\" de un módulo o paquete. Se ahorra tiempo, se reduce la probabilidad de errores y se mejora la mantenibilidad del código.\n",
    "\n",
    "Además, los paquetes y módulos nos ayudan a mantener el código organizado y modular.\n",
    "Al dividir el código en \"partes\" más pequeñas y manejables, facilitamos su comprensión y mantenimiento.\n",
    "\n",
    "Por último pero no menos importante, los módulos paquetes nos permiten **aprovechar el trabajo de otros**. De esta manera, podemos hacer mucho más sin tener que programar todo desde cero."
   ]
  },
  {
   "cell_type": "markdown",
   "metadata": {},
   "source": [
    "::: {.callout-note}\n",
    "##### Glosario 🎯\n",
    "\n",
    "La documentación de Python 3 provee [un glosario](https://docs.python.org/3/glossary.html) con definiciones precisas para términos relevantes en el universo de Python.\n",
    "Entre ellas, podemos destacar las de módulo y paquete:\n",
    "\n",
    "* **Módulo**: Un objeto que funciona como una unidad de organización de código de Python.\n",
    "Los módulos tienen un **espacio de nombres** (_namespace_) que contiene objetos de Python arbitrarios.\n",
    "Los módulos se cargan en Python a través del proceso de **importación**.\n",
    "* **Paquete**: Un **módulo** de Python que puede contener submódulos o, de forma recursiva, subpaquetes.\n",
    "Técnicamente, un paquete es un módulo de Python con un atributo `__path__`.\n",
    "\n",
    ":::"
   ]
  },
  {
   "cell_type": "markdown",
   "metadata": {},
   "source": [
    "## Cómo importar código\n",
    "\n",
    "### La sentencia `import`\n",
    "\n",
    "Para importar un módulo usamos la sentencia `import` seguida del nombre del módulo a importar.\n",
    "\n",
    "```python\n",
    "import nombre\n",
    "```"
   ]
  },
  {
   "cell_type": "markdown",
   "metadata": {},
   "source": [
    "De esta manera, podemos importar el módulo `math` que pertenece a la librería estándar de Python."
   ]
  },
  {
   "cell_type": "code",
   "execution_count": 1,
   "metadata": {},
   "outputs": [],
   "source": [
    "import math"
   ]
  },
  {
   "cell_type": "markdown",
   "metadata": {},
   "source": [
    "Luego, podemos acceder a los objetos **dentro del _namespace_** `math` utilizando `math.nombre_objeto`. Por ejemplo, para usar la función `sqrt()`, que calcula la raíz cuadrada de un numero `n`, escribimos `math.sqrt(n)`."
   ]
  },
  {
   "cell_type": "code",
   "execution_count": 2,
   "metadata": {},
   "outputs": [
    {
     "data": {
      "text/plain": [
       "4.0"
      ]
     },
     "execution_count": null,
     "metadata": {},
     "output_type": "execute_result"
    }
   ],
   "source": [
    "math.sqrt(16)"
   ]
  },
  {
   "cell_type": "markdown",
   "metadata": {},
   "source": [
    "Si quisiéramos importar más de una módulo, solo tenemos que agregar una nueva línea con el `import` correspondiente. Así, podemos también importar el módulo `random` que provee herramientas para generar números aleatorios."
   ]
  },
  {
   "cell_type": "code",
   "execution_count": 3,
   "metadata": {},
   "outputs": [],
   "source": [
    "import math\n",
    "import random"
   ]
  },
  {
   "cell_type": "code",
   "execution_count": 4,
   "metadata": {},
   "outputs": [
    {
     "data": {
      "text/plain": [
       "0.02007022378062895"
      ]
     },
     "execution_count": null,
     "metadata": {},
     "output_type": "execute_result"
    }
   ],
   "source": [
    "random.random() # número aleatorio entre 0 y 1"
   ]
  },
  {
   "cell_type": "markdown",
   "metadata": {},
   "source": [
    "::: {.callout-note}\n",
    "##### Librería estándar de Python 📚\n",
    "\n",
    "La librería estándar de Python es un conjunto de módulos y paquetes incluidos por defecto con cualquier instalación oficial de Python, listos para usar sin necesidad de hacer instalaciones adicionales.\n",
    "\n",
    ":::"
   ]
  },
  {
   "cell_type": "markdown",
   "metadata": {},
   "source": [
    "::: {.callout-note}\n",
    "##### Diferencias con R 🎭\n",
    "\n",
    "A diferencia de la carga de paquetes en R, que pone a disposición objetos del paquete en el ambiente global, el comando `import math` en Python no carga los objetos del módulo `math` directamente en el ambiente donde se ejecuta; solo carga el módulo en sí.\n",
    "\n",
    "Para acceder a las funciones de `math`, es necesario hacerlo mediante el nombre del módulo.\n",
    "Por este motivo, el siguiente bloque de código produce un error:\n",
    "\n",
    "```python\n",
    "import math\n",
    "sqrt(16)\n",
    "```\n",
    "```\n",
    "NameError: name 'sqrt' is not defined\n",
    "```\n",
    "\n",
    ":::"
   ]
  },
  {
   "cell_type": "markdown",
   "metadata": {},
   "source": [
    "### Listar nombres disponibles\n",
    "\n",
    "Para obtener un listado con los nombres de los objetos disponibles dentro de un módulo, podemos usar la función `dir()`.\n",
    "\n",
    "```python\n",
    "dir(math)\n",
    "```\n",
    "```\n",
    "['__doc__',\n",
    " '__file__',\n",
    " '__loader__',\n",
    " '__name__',\n",
    " '__package__',\n",
    " '__spec__',\n",
    " 'acos',\n",
    " 'acosh',\n",
    " 'asin',\n",
    " 'asinh',\n",
    "...\n",
    " 'tan',\n",
    " 'tanh',\n",
    " 'tau',\n",
    " 'trunc',\n",
    " 'ulp']\n",
    "```"
   ]
  },
  {
   "cell_type": "markdown",
   "metadata": {},
   "source": [
    "Sin embargo, en la práctica, esta función no suele usarse demasiado para explorar los nombres disponibles en un módulo.\n",
    "\n",
    "Por lo general, trabajamos en editores de código que muestran automáticamente la lista de variables disponibles en un módulo.\n",
    "\n",
    "En Positron, si escribimos `math` seguido de un punto (`math.`), el editor desplegará un listado de los objetos disponibles en dicho módulo."
   ]
  },
  {
   "cell_type": "markdown",
   "metadata": {},
   "source": [
    "![](imgs/import_math.gif){fig-align=\"center\"}"
   ]
  },
  {
   "cell_type": "markdown",
   "metadata": {},
   "source": [
    "### Importar objetos de un módulo"
   ]
  },
  {
   "cell_type": "markdown",
   "metadata": {},
   "source": [
    "La flexibilidad en la carga de módulos en Python permite importar uno o más objetos de un módulo (o submódulo) sin necesidad de importar el módulo completo.\n",
    "\n",
    "La sintaxis para traer un `objeto` de un módulo llamado `cosas` es:\n",
    "\n",
    "```python\n",
    "from cosas import objeto\n",
    "```"
   ]
  },
  {
   "cell_type": "markdown",
   "metadata": {},
   "source": [
    "De este modo, podemos cargar la constante `pi` del módulo `math`."
   ]
  },
  {
   "cell_type": "code",
   "execution_count": 5,
   "metadata": {},
   "outputs": [],
   "source": [
    "from math import pi"
   ]
  },
  {
   "cell_type": "markdown",
   "metadata": {},
   "source": [
    "Luego, es posible acceder a la variable `pi` sin tener que pasar por el nombre del módulo donde se define."
   ]
  },
  {
   "cell_type": "code",
   "execution_count": 6,
   "metadata": {},
   "outputs": [
    {
     "data": {
      "text/plain": [
       "3.141592653589793"
      ]
     },
     "execution_count": null,
     "metadata": {},
     "output_type": "execute_result"
    }
   ],
   "source": [
    "pi"
   ]
  },
  {
   "cell_type": "markdown",
   "metadata": {},
   "source": [
    "En nuestro caso, como anteriormente también importamos el módulo `math`, seguimos teniendo acceso a `pi` a través de `math`."
   ]
  },
  {
   "cell_type": "code",
   "execution_count": 7,
   "metadata": {},
   "outputs": [
    {
     "name": "stdout",
     "output_type": "stream",
     "text": [
      "3.141592653589793\n",
      "3.141592653589793\n"
     ]
    }
   ],
   "source": [
    "print(math.pi)\n",
    "print(pi)"
   ]
  },
  {
   "cell_type": "markdown",
   "metadata": {},
   "source": [
    "Para importar varios objetos a la vez, se utiliza una sintaxis similar a la anterior, separando sus nombres con comas. A modo de ejemplo, importemos las funciones `mean()` y `median()` de otro módulo estándar llamado `statistics`."
   ]
  },
  {
   "cell_type": "code",
   "execution_count": 8,
   "metadata": {},
   "outputs": [],
   "source": [
    "from statistics import mean, median"
   ]
  },
  {
   "cell_type": "code",
   "execution_count": 9,
   "metadata": {},
   "outputs": [
    {
     "name": "stdout",
     "output_type": "stream",
     "text": [
      "La media es: 9.285714285714286\n",
      "La mediana es: 6\n"
     ]
    }
   ],
   "source": [
    "numeros = [4, 5, 9, 30, 3, 8, 6]\n",
    "\n",
    "print(\"La media es:\", mean(numeros))\n",
    "print(\"La mediana es:\", median(numeros))"
   ]
  },
  {
   "cell_type": "markdown",
   "metadata": {},
   "source": [
    "### Importar con alias\n",
    "\n",
    "Python no solo permite decidir que objetos importar de un módulo, si no que también hace posible asignar un alias al objeto o módulo que se importa.\n",
    "\n",
    "Para un módulo:\n",
    "\n",
    "```python\n",
    "import modulo as alias\n",
    "```\n",
    "\n",
    "Y para un objeto dentro de un módulo:\n",
    "\n",
    "```python\n",
    "from modulo import objeto as alias\n",
    "```\n"
   ]
  },
  {
   "cell_type": "markdown",
   "metadata": {},
   "source": [
    "Podemos importar el módulo `math` usando el alias `mates`:"
   ]
  },
  {
   "cell_type": "code",
   "execution_count": 10,
   "metadata": {},
   "outputs": [
    {
     "name": "stdout",
     "output_type": "stream",
     "text": [
      "-1.0\n"
     ]
    }
   ],
   "source": [
    "import math as mates\n",
    "\n",
    "print(mates.cos(mates.pi)) # coseno(pi)"
   ]
  },
  {
   "cell_type": "markdown",
   "metadata": {},
   "source": [
    "O importar la funcion `sqrt` con el nombre `raiz`:"
   ]
  },
  {
   "cell_type": "code",
   "execution_count": 11,
   "metadata": {},
   "outputs": [
    {
     "data": {
      "text/plain": [
       "9.0"
      ]
     },
     "execution_count": null,
     "metadata": {},
     "output_type": "execute_result"
    }
   ],
   "source": [
    "from math import sqrt as raiz\n",
    "\n",
    "raiz(81)"
   ]
  },
  {
   "cell_type": "markdown",
   "metadata": {},
   "source": [
    "::: {.callout-warning}\n",
    "\n",
    "##### El problema de importar todo\n",
    "\n",
    "Python permite cargar todos los objetos definidos en un módulo o paquete directamente en el ambiente actual. La sintaxis es:\n",
    "\n",
    "```python\n",
    "from nombre import *\n",
    "```\n",
    "\n",
    "Esta **no es una práctica recomendable**, ya que no sabemos cuántos elementos se importarán ni qué conflictos podrían surgir entre los nombres definidos en el módulo y los que ya tenemos en nuestro programa.\n",
    "\n",
    "El uso de `from nombre import *` produce un efecto similar al de `library(paquete)` en R, pero en Python se desaconseja.\n",
    "\n",
    ":::"
   ]
  },
  {
   "cell_type": "markdown",
   "metadata": {},
   "source": [
    "## Módulos propios\n",
    "\n",
    "La sintaxis para importar un módulo propio, u objetos definidos en él, es la misma que la que se utiliza para importar cualquier otro módulo.\n",
    "\n",
    "Supongamos que tenemos un archivo llamado `funciones.py` con el siguiente contenido:\n",
    "\n",
    "```{.python filename=\"funciones.py\"}\n",
    "def es_par(n):\n",
    "    if n % 2 == 0:\n",
    "        return True\n",
    "    return False\n",
    "\n",
    "\n",
    "def es_primo(n):\n",
    "    if n <= 1:\n",
    "        return False\n",
    "\n",
    "    for i in range(2, n):\n",
    "        if n % i == 0:\n",
    "            return False\n",
    "\n",
    "    return True\n",
    "```\n",
    "\n",
    "y queremos usar las funciones `es_par` y `es_primo` en nuestro programa principal."
   ]
  },
  {
   "cell_type": "markdown",
   "metadata": {},
   "source": [
    "Un aspecto fundamental a tener en cuenta para poder importar el módulo `funciones` desde nuestro programa principal es su ubicación.\n",
    "\n",
    "Si el archivo `funciones.py` no se encuentra en alguno de los directorios que Python recorre al ejecutar la sentencia `import`, obtendremos un error.\n",
    "\n",
    "Uno de los directorios en los que Python busca módulos al importar es el directorio actual, es decir, aquel desde donde se ejecuta nuestro programa principal."
   ]
  },
  {
   "cell_type": "markdown",
   "metadata": {},
   "source": [
    "Supongamos una carpeta (es decir, un proyecto) con la siguiente estructura de archivos:\n",
    "\n",
    "```cmd\n",
    "proyecto/                  # Carpeta\n",
    "├── funciones.py           # Módulo\n",
    "└── programa.py            # Programa principal\n",
    "```\n",
    "\n",
    "Aquí, `programa.py` es nuestro programa principal y contiene el siguiente código:\n",
    "\n",
    "```python\n",
    "import funciones\n",
    "\n",
    "print(funciones.es_par(12))\n",
    "print(funciones.es_par(15))\n",
    "\n",
    "print(funciones.es_primo(1))\n",
    "print(funciones.es_primo(11))\n",
    "print(funciones.es_primo(15))\n",
    "```\n",
    "\n",
    "Al ejecutarlo, obtendremos la siguiente salida:\n",
    "\n",
    "```\n",
    "True\n",
    "False\n",
    "False\n",
    "True\n",
    "False\n",
    "```"
   ]
  },
  {
   "cell_type": "markdown",
   "metadata": {},
   "source": [
    "Un programa equivalente es el siguiente:\n",
    "\n",
    "```python\n",
    "from funciones import es_par, es_primo\n",
    "\n",
    "print(es_par(12))\n",
    "print(es_par(15))\n",
    "\n",
    "print(es_primo(1))\n",
    "print(es_primo(11))\n",
    "print(es_primo(15))\n",
    "```\n",
    "\n",
    "La salida de este programa será la misma que la del ejemplo anterior.\n",
    "La diferencia es que en este segundo programa se importan directamente las funciones `es_par` y `es_primo` desde el módulo `funciones`,\n",
    "en lugar de importar el módulo y luego acceder a las funciones a través de `funciones.es_par` y `funciones.es_primo`."
   ]
  },
  {
   "cell_type": "markdown",
   "metadata": {},
   "source": [
    "## Paquetes externos\n",
    "\n",
    "La instalación de paquetes en Python se realiza mediante un **sistema de gestión de paquetes** que se encarga de instalar y administrar paquetes.\n",
    "\n",
    "Estos paquetes se encuentran alojados en repositorios públicos (o privados) a los que los gestores acceden para descargar y actualizar el software.\n",
    "\n",
    "En el ecosistema de Python existe una gran variedad de sistemas de gestión de paquetes, cuya adopción depende de las necesidades de cada usuario o proyecto.\n",
    "\n",
    "En cuanto a los repositorios, también hay varias alternativas. Sin embargo, a diferencia de los gestores, el **_Python Package Index_ (PyPI)** es el más utilizado por la gran mayoría de la comunidad.\n",
    "\n",
    "::: {.callout-note}\n",
    "##### Nota 📝\n",
    "\n",
    "Se puede considerar al _Python Package Index_ (PyPI) como el equivalente del _Comprehensive R Archive Network_ (CRAN) en el ecosistema de R.\n",
    "\n",
    ":::"
   ]
  },
  {
   "cell_type": "markdown",
   "metadata": {},
   "source": [
    "### Instalación de paquetes con `pip`\n",
    "\n",
    "La instalación oficial de Python incluye un administrador de paquetes estándar llamado `pip`.\n",
    "Esta herramienta permite instalar y gestionar paquetes que no forman parte de la biblioteca estándar de Python.\n",
    "\n",
    "Es importante resaltar que `pip` se utiliza desde la terminal, no desde el intérprete de Python.\n",
    "\n",
    "En Windows, es posible usar el comando `where pip` para localizar la ubicación del programa.\n",
    "Otra opción es ejecutar `pip --version`, que muestra la versión instalada de `pip` junto con la ruta de la instalación de Python a la que está vinculado.\n",
    "\n",
    "Antes de instalar paquetes con `pip`, es posible consultar qué paquetes ya se encuentran instalados mediante esta herramienta con el comando `list`:\n",
    "\n",
    "```cmd\n",
    "pip list\n",
    "```\n",
    "\n",
    "Este comando muestra un listado con los paquetes instalados y sus respectivas versiones.\n",
    "\n",
    "```cmd\n",
    "C:\\Users\\tutoriales>pip list\n",
    "Package Version\n",
    "------- -------\n",
    "pip     25.1.1\n",
    "```\n",
    "\n",
    "Como aún no hemos instalado ningún paquete adicional a los que vienen con Python, solo se muestra `pip`.\n",
    "\n",
    "La instalación de paquetes se hace con el comando `install`. Luego, para instalar el paquete NumPy hacemos:\n",
    "\n",
    "```cmd\n",
    "pip install numpy\n",
    "```"
   ]
  },
  {
   "cell_type": "markdown",
   "metadata": {},
   "source": [
    "Debajo se incluye una captura de la terminal de Windows donde se muestra la ejecución de los comandos antes mencionados y sus respectivas salidas:\n",
    "\n",
    "![](imgs/pip_terminal.png){fig-align=\"center\"}"
   ]
  },
  {
   "cell_type": "markdown",
   "metadata": {},
   "source": [
    "::: {.callout-note}\n",
    "##### Ejecutar `pip` como módulo de Python\n",
    "\n",
    "La herramienta `pip` es simplemente un módulo de Python.\n",
    "Si tenemos múltiples instalaciones de Python y/o `pip`, es posible que la versión de `pip` a la que se accede en nuestra terminal no sea la que está asociada a la versión de Python que queremos utilizar. \n",
    "Para evitar este tipo de problemas, se puede ejecutar el programa `pip` como un módulo de Python. De este modo, la instalación de NumPy se vería de la siguiente manera:\n",
    "\n",
    "```cmd\n",
    "python -m pip install numpy\n",
    "```\n",
    "\n",
    "La opción `-m` le indica a Python que ejecute un módulo como si fuera un programa dentro del intérprete de Python.\n",
    "\n",
    ":::"
   ]
  },
  {
   "cell_type": "markdown",
   "metadata": {},
   "source": [
    "::: {.callout-note}\n",
    "##### ¿En qué momento seleccionamos a PyPI? 🤔\n",
    "\n",
    "No es necesario que manualmente selccionemos a PyPI como repositorio de código. Por defecto, `pip` ya instala los paquetes desde PyPI.\n",
    "\n",
    ":::"
   ]
  },
  {
   "cell_type": "markdown",
   "metadata": {},
   "source": [
    "### Creación de ambientes con `venv`"
   ]
  },
  {
   "cell_type": "markdown",
   "metadata": {},
   "source": [
    "Cuando instalamos paquetes con la versión de `pip` que se incluye por defecto en Python, estos se instalan de forma **global**.\n",
    "Esto no siempre representa un problema, pero suele complicarse cuando trabajamos en varios proyectos distintos.\n",
    "\n",
    "Cada proyecto puede depender de diferentes paquetes, e incluso de diferentes versiones de Python.\n",
    "Si todos comparten una misma instalación global, es muy probable que aparezcan conflictos: algunos programas podrían dejar de funcionar o comportarse de manera incorrecta.\n",
    "\n",
    "Una solución sería reinstalar todas las dependencias desde cero cada vez, pero esto implica una pérdida de tiempo innecesaria y, además, no garantiza el correcto funcionamiento. La solución más aceptada por la comunidad es usar **ambientes virtuales**.\n"
   ]
  },
  {
   "cell_type": "markdown",
   "metadata": {},
   "source": [
    "Un ambiente virtual en Python permite aislar dependencias y paquetes para evitar conflictos entre proyectos.\n",
    "\n",
    "Existen distintas herramientas para crear y administrar ambientes virtuales; la que se incluye en la instalación oficial de Python es **`venv`**.\n",
    "\n",
    "Para crear un ambiente virtual con `venv`, primero debemos ubicarnos en la carpeta de nuestro proyecto y ejecutar en la terminal:\n",
    "\n",
    "```cmd\n",
    "python -m venv .venv\n",
    "```\n",
    "\n",
    "El nombre **`.venv`** es una convención adoptada por la comunidad, aunque puede usarse cualquier nombre válido de directorio.\n",
    "\n",
    "Este comando genera una carpeta con la siguiente estructura:\n",
    "\n",
    "```cmd\n",
    ".venv\n",
    "├── Include\n",
    "├── Lib\n",
    "│   └── site-packages\n",
    "│       ├── pip\n",
    "│       └── pip-25.1.1.dist-info\n",
    "├── Scripts\n",
    "│   ├── Activate.ps1\n",
    "│   ├── activate\n",
    "│   ├── activate.bat\n",
    "│   ├── activate.fish\n",
    "│   ├── deactivate.bat\n",
    "│   ├── pip.exe\n",
    "│   ├── pip3.13.exe\n",
    "│   ├── pip3.exe\n",
    "│   ├── python.exe\n",
    "│   └── pythonw.exe\n",
    "└── pyvenv.cfg\n",
    "```\n",
    "\n",
    "Dentro de `.venv/Lib/site-packages` se almacenan los paquetes instalados en el ambiente, y en `.venv/Scripts` se encuentra el ejecutable de Python (`python.exe`) junto con otros _scripts_ de utilidad.\n",
    "\n",
    "Para usar el intérprete de Python del ambiente e instalar paquetes en él, es necesario **activarlo** con el comando:\n",
    "\n",
    "```cmd\n",
    ".venv\\Scripts\\activate\n",
    "```\n",
    "\n",
    "Al hacerlo, se mostrará `(.venv)` al inicio de la línea de la terminal.\n",
    "\n",
    "Finalmente, para **desactivar el ambiente**, basta con ejecutar:\n",
    "\n",
    "```cmd\n",
    "deactivate\n",
    "```"
   ]
  },
  {
   "cell_type": "markdown",
   "metadata": {},
   "source": [
    "### Ejemplo: NumPy\n",
    "\n",
    "[NumPy](https://numpy.org/) es una paquete de Python especializado en el cálculo numérico y el análisis de datos.\n",
    "\n",
    "Provee un nuevo tipo de objeto llamado `array` que permite representar colecciones de datos de un mismo tipo en varias dimensiones y funciones muy eficientes para su manipulación.\n",
    "\n",
    "![](imgs/numpy_logo.png){width=\"400px\" fig-align=\"center\"}"
   ]
  },
  {
   "cell_type": "markdown",
   "metadata": {},
   "source": [
    "Para crear un proyecto, un ambiente con `venv` e instalar NumPy, seguimos los siguientes pasos:\n",
    "\n",
    "```cmd\n",
    "mkdir proyecto          # Crear directorio\n",
    "cd proyecto             # Mover la terminal al directorio del proyecto\n",
    "python -m venv .venv    # Crear ambiente virtual llamado .venv\n",
    ".venv\\Scripts\\activate  # Activar ambiente\n",
    "pip install numpy       # Instalar numpy en el ambiente del proyecto\n",
    "python                  # Iniciar el intérprete interactivo de Python\n",
    "```"
   ]
  },
  {
   "cell_type": "markdown",
   "metadata": {},
   "source": [
    "El siguiente video muestra los pasos realizados en la terminal de Windows:"
   ]
  },
  {
   "cell_type": "markdown",
   "metadata": {},
   "source": [
    "<center>\n",
    "<video controls width=\"700\" preload=\"metadata\" style=\"border-radius: 8px; max-width: 100%;\">\n",
    "  <source src=\"imgs/venv_numpy.webm\" type=\"video/webm\" />\n",
    "</video>\n",
    "</center>"
   ]
  },
  {
   "cell_type": "markdown",
   "metadata": {},
   "source": [
    "Los paquetes de Python suelen importarse utilizando un alias. En el caso de los más populares, como NumPy, la mayoría de la comunidad usa el alias **`np`**."
   ]
  },
  {
   "cell_type": "code",
   "execution_count": 2,
   "metadata": {},
   "outputs": [
    {
     "data": {
      "text/plain": [
       "array([1, 2, 3, 4])"
      ]
     },
     "execution_count": null,
     "metadata": {},
     "output_type": "execute_result"
    }
   ],
   "source": [
    "import numpy as np\n",
    "\n",
    "array = np.array([1, 2, 3, 4])\n",
    "array"
   ]
  },
  {
   "cell_type": "code",
   "execution_count": 3,
   "metadata": {},
   "outputs": [
    {
     "data": {
      "text/plain": [
       "numpy.ndarray"
      ]
     },
     "execution_count": null,
     "metadata": {},
     "output_type": "execute_result"
    }
   ],
   "source": [
    "type(array)"
   ]
  },
  {
   "cell_type": "markdown",
   "metadata": {},
   "source": [
    "La propiedad `.ndim` nos devuelve el número de dimensiones del array."
   ]
  },
  {
   "cell_type": "code",
   "execution_count": 4,
   "metadata": {},
   "outputs": [
    {
     "data": {
      "text/plain": [
       "1"
      ]
     },
     "execution_count": null,
     "metadata": {},
     "output_type": "execute_result"
    }
   ],
   "source": [
    "array.ndim"
   ]
  },
  {
   "cell_type": "markdown",
   "metadata": {},
   "source": [
    "Y `.shape` nos devuelve la \"forma\" del array. Es decir, la cantidad de elementos por cada dimensión. Se puede notar que el `.shape` de un _array_ es una tupla."
   ]
  },
  {
   "cell_type": "code",
   "execution_count": 5,
   "metadata": {},
   "outputs": [
    {
     "data": {
      "text/plain": [
       "(4,)"
      ]
     },
     "execution_count": null,
     "metadata": {},
     "output_type": "execute_result"
    }
   ],
   "source": [
    "array.shape"
   ]
  },
  {
   "cell_type": "markdown",
   "metadata": {},
   "source": [
    "En este caso creamos un _array_ a partir de una lista, pero también es posible crear _arrays_ a partir de otros objetos.\n",
    "\n",
    "Si continuamos utilizando listas, el número de dimensiones del _array_ va a depender del anidamiento que tengamos en las listas que utilizamos.\n",
    "\n",
    "A modo de ejemplo, podemos crear un _array_ de dos dimensiones de la siguiente manera:"
   ]
  },
  {
   "cell_type": "code",
   "execution_count": 6,
   "metadata": {},
   "outputs": [
    {
     "data": {
      "text/plain": [
       "array([[1, 2, 3, 4],\n",
       "       [5, 6, 7, 8]])"
      ]
     },
     "execution_count": null,
     "metadata": {},
     "output_type": "execute_result"
    }
   ],
   "source": [
    "array_2d = np.array([[1, 2, 3, 4], [5, 6, 7, 8]])\n",
    "array_2d"
   ]
  },
  {
   "cell_type": "code",
   "execution_count": null,
   "metadata": {},
   "outputs": [],
   "source": [
    "print(array_2d.ndim)\n",
    "print(array_2d.shape)"
   ]
  },
  {
   "cell_type": "markdown",
   "metadata": {},
   "source": [
    "Una de las características más atractivas de NumPy es que las operaciones matemáticas con `array`s están vectorizadas, es decir, se realizan al nivel del arreglo."
   ]
  },
  {
   "cell_type": "code",
   "execution_count": 8,
   "metadata": {},
   "outputs": [
    {
     "name": "stdout",
     "output_type": "stream",
     "text": [
      "[10 20 30 40]\n",
      "[-4 -3 -2 -1]\n",
      "[0.1 0.2 0.3 0.4]\n",
      "[ 1.          5.27803164 13.96661017 27.85761803]\n"
     ]
    }
   ],
   "source": [
    "print(array * 10)\n",
    "print(array - 5)\n",
    "print(array / 10)\n",
    "print(array ** 2.4)"
   ]
  },
  {
   "cell_type": "markdown",
   "metadata": {},
   "source": [
    "NumPy también provee **muchísimas funciones** para hacer cálculos comúnmente realizados con los _arrays_."
   ]
  },
  {
   "cell_type": "code",
   "execution_count": 9,
   "metadata": {},
   "outputs": [
    {
     "name": "stdout",
     "output_type": "stream",
     "text": [
      "2.5\n",
      "2.5\n",
      "1.118033988749895\n",
      "[ 2.71828183  7.3890561  20.08553692 54.59815003]\n"
     ]
    }
   ],
   "source": [
    "print(np.mean(array))\n",
    "print(np.median(array))\n",
    "print(np.std(array))\n",
    "print(np.exp(array))"
   ]
  },
  {
   "cell_type": "markdown",
   "metadata": {},
   "source": [
    "## Apéndice\n",
    "\n",
    "### Algunos comandos de `pip`\n",
    "\n",
    "| Comando                                                  | Descripción                                                                                         |\n",
    "| -------------------------------------------------------- | --------------------------------------------------------------------------------------------------- |\n",
    "| `pip install pkg1 pkg2`                                  | Instala uno o varios paquetes.                                                                      |\n",
    "| `pip install pkg==1.2.3`<br>`pip install pkg>=1.0,<=2.0` | Instala una versión específica o un rango de versiones de un paquete.                               |\n",
    "| `pip install pkg --upgrade`                              | Actualiza un paquete a la última versión disponible.                                                |\n",
    "| `pip freeze`                                             | Muestra todos los paquetes instalados y sus versiones en formato compatible con `requirements.txt`. |\n",
    "| `pip uninstall pkg`                                      | Desinstala un paquete instalado.                                                                    |\n",
    "| `pip show pkg`                                           | Muestra información detallada sobre un paquete (versión, ubicación, dependencias).                  |\n",
    "| `pip help`                                               | Muestra la ayuda general de `pip` o de un subcomando específico.                                    |\n",
    "| `pip install -r dependencias.txt`                        | Instala todas las dependencias listadas en un archivo.                                              |\n",
    "\n",
    "#### Ejemplos\n",
    "\n",
    "```cmd\n",
    "pip install requests flask        # Instala varios paquetes\n",
    "pip install numpy==1.25.0         # Instala una versión exacta\n",
    "pip install pandas>=1.0,<2.0      # Instala dentro de un rango de versiones\n",
    "pip install requests --upgrade    # Actualiza un paquete\n",
    "pip freeze                        # Lista paquetes instalados y versiones\n",
    "pip uninstall flask               # Desinstala un paquete\n",
    "pip show numpy                    # Muestra información de un paquete\n",
    "pip help install                  # Muestra ayuda sobre 'install'\n",
    "pip install -r requirements.txt   # Instala dependencias desde un archivo\n",
    "```"
   ]
  }
 ],
 "metadata": {
  "kernelspec": {
   "display_name": "Python 3.9.12 ('base')",
   "language": "python",
   "name": "python3"
  },
  "language_info": {
   "name": "python"
  },
  "orig_nbformat": 4,
  "vscode": {
   "interpreter": {
    "hash": "14611386fa2cd4265c4f0b62a048cd6d8d2bc09cf37ba48879354d3817581274"
   }
  }
 },
 "nbformat": 4,
 "nbformat_minor": 2
}
