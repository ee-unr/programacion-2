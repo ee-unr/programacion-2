{
 "cells": [
  {
   "cell_type": "markdown",
   "metadata": {},
   "source": [
    "---\n",
    "title: \"6 - Uso de código externo\"\n",
    "toc: true\n",
    "---"
   ]
  },
  {
   "cell_type": "markdown",
   "metadata": {},
   "source": [
    "### ¿Qué son?\n",
    "\n",
    "Los módulos y librerías en Python permiten la **reutilización y organización** del código.\n",
    "\n",
    "Un **módulo** es un archivo de Python (e.g. `programa.py`) que contiene la declaración de variables, funciones y otros objetos que pueden ser utilizadas en otros programas.\n",
    "\n",
    "Las **librerías**, por otro lado, son **colecciones de módulos** relacionados que están empaquetados juntos, ofreciendo un conjunto más amplio de funcionalidades."
   ]
  },
  {
   "cell_type": "markdown",
   "metadata": {},
   "source": [
    "### ¿Para qué sirven?\n",
    "\n",
    "Así como las funciones ayudan a reutilizar un programa sin repetir el código y los bucles permiten repetir la misma acción muchas veces, los módulos y librerías permiten también la **reutilización de código**.\n",
    "\n",
    "Así evitamos, por ejemplo, tener que crear una función cada vez que la queremos usar. Simplemente la importamos o la \"traemos\" de un módulo o libería. Se ahorra tiempo, se reduce la probabilidad de errores y se mejora la mantenibilidad del código.\n",
    "\n",
    "Además, las librerías y módulos nos ayudan a mantener el código organizado y modular. Al dividir el código en \"partes\" más pequeñas y manejables, facilitamos su comprensión y mantenimiento.\n",
    "\n",
    "Por último pero no menos importante, los módulos y las librerías nos permiten **aprovechar el trabajo de otros**. De esta manera, podemos hacer mucho más sin tener que programar todo desde cero."
   ]
  },
  {
   "cell_type": "markdown",
   "metadata": {},
   "source": [
    "## Imports\n",
    "\n",
    "Para importar un módulo o una librería tenemos que usar la sentencia `import` seguida del nombre del módulo o librería a importar.\n",
    "\n",
    "```python\n",
    "import nombre\n",
    "```"
   ]
  },
  {
   "cell_type": "markdown",
   "metadata": {},
   "source": [
    "De esta manera podemos importar la librería `math` que pertenece a la librería estándar de Python."
   ]
  },
  {
   "cell_type": "code",
   "execution_count": null,
   "metadata": {},
   "outputs": [],
   "source": [
    "import math"
   ]
  },
  {
   "cell_type": "markdown",
   "metadata": {},
   "source": [
    "Se llama **Librería Estándar de Python** a un conjunto de módulos que ya vienen incorporados con Python y facilitan muchísimas tareas.\n",
    "\n",
    "Luego, podemos acceder a las funciones **dentro de** `math` utilizando un `math.nombre_funcion`.\n",
    "\n",
    "Por ejemplo, podemos acceder a la función `sqrt()` que calcula la raíz cuadrada."
   ]
  },
  {
   "cell_type": "code",
   "execution_count": null,
   "metadata": {},
   "outputs": [],
   "source": [
    "math.sqrt(16)"
   ]
  },
  {
   "cell_type": "markdown",
   "metadata": {},
   "source": [
    "¿Podemos acceder a la misma función sin anteponer el `math.`?"
   ]
  },
  {
   "cell_type": "code",
   "execution_count": null,
   "metadata": {},
   "outputs": [],
   "source": [
    "sqrt"
   ]
  },
  {
   "cell_type": "markdown",
   "metadata": {},
   "source": [
    "Si queremos ver todo lo que hay dentro de `math` podemos ejecutar `dir(math)`.\n",
    "\n",
    "Si estamos utilizando un editor tipo VS Code o una plataforma tipo Google Colab, es muy probable que el editor nos sugiera los nombres de los objetos dentro del módulo. Si empezamos a escribir `math` y le agregamos un punto (escribiendo `math.`), el editor mostrará un listado de objetos disponibles.\n",
    "\n",
    "También es posible traernos algun objeto particular de un módulo. Por ejemplo, podríamos importar solamente una función o una variable constante."
   ]
  },
  {
   "cell_type": "markdown",
   "metadata": {},
   "source": [
    "```python\n",
    "from nombre import objeto\n",
    "```"
   ]
  },
  {
   "cell_type": "markdown",
   "metadata": {},
   "source": [
    "Cuando trabajemos con librerías, vamos a usar esta misma sintáxis para traer un módulo, o submódulo, dentro de una librería."
   ]
  },
  {
   "cell_type": "markdown",
   "metadata": {},
   "source": [
    "Luego, así podemos traer la constante `pi` del módulo `math`."
   ]
  },
  {
   "cell_type": "code",
   "execution_count": null,
   "metadata": {},
   "outputs": [],
   "source": [
    "from math import pi"
   ]
  },
  {
   "cell_type": "code",
   "execution_count": null,
   "metadata": {},
   "outputs": [],
   "source": [
    "pi"
   ]
  },
  {
   "cell_type": "markdown",
   "metadata": {},
   "source": [
    "En este caso, como anteriormente importamos el módulo `math` entero, también podemos accederlo desde allí."
   ]
  },
  {
   "cell_type": "code",
   "execution_count": null,
   "metadata": {},
   "outputs": [],
   "source": [
    "math.pi"
   ]
  },
  {
   "cell_type": "markdown",
   "metadata": {},
   "source": [
    "Los _imports_ de Python son muy versátiles. Si queremos, podemos traer múltiples objetos a la vez. Para eso simplemente los escribimos uno al lado del otro, separados por comas.\n",
    "\n",
    "En esta oportunidad vamos a importar las funciones `random()` y `choice()` de otro módulo estándar llamado `random`.\n",
    "\n",
    "* `random()` devuelve un número aleatorio entre 0 y 1.\n",
    "* `choice()` selecciona un elemento aleatorio de una lista de elementos."
   ]
  },
  {
   "cell_type": "code",
   "execution_count": null,
   "metadata": {},
   "outputs": [],
   "source": [
    "from random import random, choice"
   ]
  },
  {
   "cell_type": "code",
   "execution_count": null,
   "metadata": {},
   "outputs": [],
   "source": [
    "for i in range(5):\n",
    "    print(random())"
   ]
  },
  {
   "cell_type": "code",
   "execution_count": null,
   "metadata": {},
   "outputs": [],
   "source": [
    "for i in range(5):\n",
    "    print(choice([1, 2, 3]))"
   ]
  },
  {
   "cell_type": "markdown",
   "metadata": {},
   "source": [
    "Como si esto no fuera suficiente flexibilidad, también es posible asignarle un alias al objeto que se importa. \n",
    "\n",
    "Para esto utilizamos la sentencia `as` seguida del nombre del alias.\n",
    "\n",
    "```python\n",
    "import nombre as alias\n",
    "```\n",
    "\n",
    "```python\n",
    "from nombre import elemento as alias\n",
    "```"
   ]
  },
  {
   "cell_type": "code",
   "execution_count": null,
   "metadata": {},
   "outputs": [],
   "source": [
    "# Importar la libreria 'math' con el alias 'mates'\n",
    "import math as mates\n",
    "\n",
    "# Importar la funcion 'sqrt' de 'math' con el alias 'raiz_cuadrada'\n",
    "from math import sqrt as raiz_cuadrada"
   ]
  },
  {
   "cell_type": "code",
   "execution_count": null,
   "metadata": {},
   "outputs": [],
   "source": [
    "print(mates.cos(0))\n",
    "print(mates.cos(mates.pi))"
   ]
  },
  {
   "cell_type": "code",
   "execution_count": null,
   "metadata": {},
   "outputs": [],
   "source": [
    "raiz_cuadrada(81)"
   ]
  },
  {
   "cell_type": "markdown",
   "metadata": {},
   "source": [
    "Otra opción es traernos todo lo que esté definido en un módulo y cargarlo en el _namespace_ en el que estamos trabajando.\n",
    "\n",
    "```python\n",
    "from nombre import *\n",
    "```\n",
    "\n",
    "Esto **no es una opción recomendable** ya que no sabemos cuantas cosas vamos a traer y que tipo de conflictos pueden aparecer entre los nombres definidos en el módulo y los definidos por nosotros."
   ]
  },
  {
   "cell_type": "markdown",
   "metadata": {},
   "source": [
    "## Módulos\n",
    "\n",
    "Llamamos **módulo** a **cualquier _script_ de Python** (archivo `.py`) que contiene funciones y objetos que son de utilidad.\n",
    "\n",
    "En nuestro caso, tenemos un _script_ llamado `funciones.py`, por lo que podemos importarlo como el módulo `funciones`.\n",
    "\n",
    "Las mismas reglas que comentamos arriba aplican para los _imports_ relacionados a un módulo."
   ]
  },
  {
   "cell_type": "code",
   "execution_count": 1,
   "metadata": {},
   "outputs": [],
   "source": [
    "import funciones"
   ]
  },
  {
   "cell_type": "code",
   "execution_count": 2,
   "metadata": {},
   "outputs": [
    {
     "data": {
      "text/plain": [
       "17.666666666666668"
      ]
     },
     "execution_count": null,
     "metadata": {},
     "output_type": "execute_result"
    }
   ],
   "source": [
    "funciones.media([15, 28, 10])"
   ]
  },
  {
   "cell_type": "code",
   "execution_count": 3,
   "metadata": {},
   "outputs": [],
   "source": [
    "import funciones as funs"
   ]
  },
  {
   "cell_type": "code",
   "execution_count": 5,
   "metadata": {},
   "outputs": [
    {
     "data": {
      "text/plain": [
       "17.666666666666668"
      ]
     },
     "execution_count": null,
     "metadata": {},
     "output_type": "execute_result"
    }
   ],
   "source": [
    "funs.media([15, 28, 10])"
   ]
  },
  {
   "cell_type": "code",
   "execution_count": 6,
   "metadata": {},
   "outputs": [],
   "source": [
    "from funciones import media, filtrar_cadenas"
   ]
  },
  {
   "cell_type": "code",
   "execution_count": 7,
   "metadata": {},
   "outputs": [
    {
     "data": {
      "text/plain": [
       "16.333333333333332"
      ]
     },
     "execution_count": null,
     "metadata": {},
     "output_type": "execute_result"
    }
   ],
   "source": [
    "media([15, 29, 5])"
   ]
  },
  {
   "cell_type": "code",
   "execution_count": 8,
   "metadata": {},
   "outputs": [
    {
     "data": {
      "text/plain": [
       "<module 'funciones' from '/home/tomas/universidad/unr/fcecon/materias/Programación II/programacion-2/teoria/01_programacion_en_python/funciones.py'>"
      ]
     },
     "execution_count": null,
     "metadata": {},
     "output_type": "execute_result"
    }
   ],
   "source": [
    "funciones"
   ]
  },
  {
   "cell_type": "code",
   "execution_count": 9,
   "metadata": {},
   "outputs": [
    {
     "data": {
      "text/plain": [
       "<function funciones.media(x)>"
      ]
     },
     "execution_count": null,
     "metadata": {},
     "output_type": "execute_result"
    }
   ],
   "source": [
    "funciones.media"
   ]
  },
  {
   "cell_type": "code",
   "execution_count": 10,
   "metadata": {},
   "outputs": [
    {
     "data": {
      "text/plain": [
       "<function funciones.filtrar_cadenas(lista)>"
      ]
     },
     "execution_count": null,
     "metadata": {},
     "output_type": "execute_result"
    }
   ],
   "source": [
    "funciones.filtrar_cadenas"
   ]
  },
  {
   "cell_type": "code",
   "execution_count": 11,
   "metadata": {},
   "outputs": [],
   "source": [
    "help(funciones.filtrar_cadenas)"
   ]
  },
  {
   "cell_type": "code",
   "execution_count": null,
   "metadata": {},
   "outputs": [],
   "source": [
    "filtrar_cadenas([3.14, \"azul\", \"rojo\", 1, \"verde\", True, \"amarillo\", None, \"None\"])"
   ]
  },
  {
   "cell_type": "markdown",
   "metadata": {},
   "source": [
    "### Scripts de Python\n",
    "\n",
    "Un _script_ de Python puede ser más de una cosa a la vez.\n",
    "\n",
    "* Es un programa en sí mismo. \n",
    "    + Ejecuta código.\n",
    "    + Puede ser todo lo que necesitemos para resolver nuestro problema.\n",
    "* Es un módulo.\n",
    "    + Declara objetos que vamos a utilizar desde otros programas de Python.\n",
    "* Es un programa en sí mismo y un módulo a la vez.\n",
    "    + Algunos _scripts_ pueden ser utilizados con ambos propósitos. \n",
    "    + A veces solo declaran objetos para usar desde otros programas.\n",
    "    + A veces se ejecutan como programa principal y realizan tareas.\n",
    "\n",
    "Por otro lado, una Jupyter Notebook es un **documento interactivo** que incluye tanto código de Python, que se ejecuta interactivamente, y texto escrito en Markdown.\n",
    "\n",
    "* Ahora viene la demostración de como ejecutar un _script_ de manera no-interactiva."
   ]
  },
  {
   "cell_type": "markdown",
   "metadata": {},
   "source": [
    "## Librerías\n",
    "\n",
    "Los _imports_ se hacen de la misma forma que con un módulo.\n",
    "\n",
    "En general, las librerías se importan con un alias específico. \n",
    "\n",
    "Esto no es obligatorio, pero es una práctica generalizada y recomendada.\n",
    "\n",
    "Por ejemplo, la libreria `numpy` se suele importar con el alias `np`."
   ]
  },
  {
   "cell_type": "code",
   "execution_count": null,
   "metadata": {},
   "outputs": [],
   "source": [
    "import numpy as np"
   ]
  },
  {
   "cell_type": "markdown",
   "metadata": {},
   "source": [
    "### NumPy\n",
    "\n",
    "<center>\n",
    "\n",
    "![](imgs/numpy-logo.png)\n",
    "\n",
    "</center>\n",
    "\n",
    "[NumPy](https://numpy.org/) es una librería de Python especializada en el cálculo numérico y el análisis de datos.\n",
    "\n",
    "Provee un nuevo tipo de objeto llamado `array` que permite representar colecciones de datos de un mismo tipo en varias dimensiones y funciones muy eficientes para su manipulación.\n"
   ]
  },
  {
   "cell_type": "markdown",
   "metadata": {},
   "source": [
    "Para crear un `array` hay que utilizar la funcion `array()` de la librería `numpy`. \n",
    "\n",
    "Como importamos a `numpy` con el alias `np`, lo llamamos con `np.array()`."
   ]
  },
  {
   "cell_type": "code",
   "execution_count": null,
   "metadata": {},
   "outputs": [],
   "source": [
    "array = np.array([1, 2, 3, 4])\n",
    "array"
   ]
  },
  {
   "cell_type": "code",
   "execution_count": null,
   "metadata": {},
   "outputs": [],
   "source": [
    "type(array)"
   ]
  },
  {
   "cell_type": "markdown",
   "metadata": {},
   "source": [
    "La propiedad `.ndim` nos devuelve el número de dimensiones del array."
   ]
  },
  {
   "cell_type": "code",
   "execution_count": null,
   "metadata": {},
   "outputs": [],
   "source": [
    "array.ndim"
   ]
  },
  {
   "cell_type": "markdown",
   "metadata": {},
   "source": [
    "Y `.shape` nos devuelve la \"forma\" del array. Es decir, la cantidad de elementos por cada dimensión."
   ]
  },
  {
   "cell_type": "code",
   "execution_count": null,
   "metadata": {},
   "outputs": [],
   "source": [
    "array.shape"
   ]
  },
  {
   "cell_type": "markdown",
   "metadata": {},
   "source": [
    "En este caso estamos utilizando una lista, pero también es posible crear arrays a partir de otros objetos.\n",
    "\n",
    "El número de dimensiones del array va a depender del anidamiento que tengamos en las listas que utilizamos para crearlo.\n",
    "\n",
    "Por ejemplo, podemos crear un array de dos dimensiones de la siguiente manera:"
   ]
  },
  {
   "cell_type": "code",
   "execution_count": null,
   "metadata": {},
   "outputs": [],
   "source": [
    "array_2d = np.array([[1, 2, 3, 4], [5, 6, 7, 8]])\n",
    "array_2d"
   ]
  },
  {
   "cell_type": "code",
   "execution_count": null,
   "metadata": {},
   "outputs": [],
   "source": [
    "array_2d.ndim"
   ]
  },
  {
   "cell_type": "code",
   "execution_count": null,
   "metadata": {},
   "outputs": [],
   "source": [
    "array_2d.shape"
   ]
  },
  {
   "cell_type": "markdown",
   "metadata": {},
   "source": [
    "Podemos pensar a las dimensiones de la siguiente manera:\n",
    "\n",
    "* 1 dimensión: El array se corresponde con un vector.\n",
    "* 2 dimensiones: El array se corresponde con una matriz.\n",
    "* 3 dimensiones: El array se corresponde con un cubo.\n",
    "\n",
    "También es posible tener arrays multidimiensionales con más de 3 dimensiones. Podríamos pensarlos como un hiper-cubo, pero ya no podemos visualizarlo de una manera tan intuitiva."
   ]
  },
  {
   "cell_type": "markdown",
   "metadata": {},
   "source": [
    "<center>\n",
    "\n",
    "![](imgs/numpy_array.png)\n",
    "\n",
    "</center>"
   ]
  },
  {
   "cell_type": "markdown",
   "metadata": {},
   "source": [
    "Las operaciones matemáticas están vectorizadas (se realizan al nivel del array).\n",
    "\n",
    "Si queremos multiplicar cada número por otro valor, no hace falta que iteremos de manera explícita.\n",
    "\n",
    "Por ejemplo, con una lista teníamos que hacer todo este trabajo (o algo similar)."
   ]
  },
  {
   "cell_type": "code",
   "execution_count": null,
   "metadata": {},
   "outputs": [],
   "source": [
    "lista = [1, 2, 3, 4]\n",
    "lista_2 = []\n",
    "for valor in lista:\n",
    "    lista_2.append(valor * 10)\n",
    "lista_2"
   ]
  },
  {
   "cell_type": "markdown",
   "metadata": {},
   "source": [
    "En cambio, con los array de NumPy, estas operaciones son **muuuucho más faciles**..."
   ]
  },
  {
   "cell_type": "code",
   "execution_count": null,
   "metadata": {},
   "outputs": [],
   "source": [
    "array * 10"
   ]
  },
  {
   "cell_type": "code",
   "execution_count": null,
   "metadata": {},
   "outputs": [],
   "source": [
    "print(array - 5)\n",
    "print(array / 10)\n",
    "print(array ** 2.4)"
   ]
  },
  {
   "cell_type": "markdown",
   "metadata": {},
   "source": [
    "NumPy también viene con **muchísimas** funciones para hacer cálculos con los arrays."
   ]
  },
  {
   "cell_type": "code",
   "execution_count": null,
   "metadata": {},
   "outputs": [],
   "source": [
    "print(np.mean(array))\n",
    "print(np.median(array))\n",
    "print(np.std(array))"
   ]
  }
 ],
 "metadata": {
  "kernelspec": {
   "display_name": "Python 3.9.12 ('base')",
   "language": "python",
   "name": "python3"
  },
  "language_info": {
   "name": "python"
  },
  "orig_nbformat": 4,
  "vscode": {
   "interpreter": {
    "hash": "14611386fa2cd4265c4f0b62a048cd6d8d2bc09cf37ba48879354d3817581274"
   }
  }
 },
 "nbformat": 4,
 "nbformat_minor": 2
}
