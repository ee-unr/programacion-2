{
 "cells": [
  {
   "cell_type": "markdown",
   "id": "a8b47f3a",
   "metadata": {},
   "source": [
    "---\n",
    "title: \"2 - Funciones\"\n",
    "toc: true\n",
    "---"
   ]
  },
  {
   "cell_type": "markdown",
   "id": "8f88deff",
   "metadata": {},
   "source": [
    "## ¿Qué es una función?\n",
    "\n",
    "Una función puede pensarse como un \"mini-programa\" dentro de un programa más grande.\n",
    "Su propósito es cumplir una tarea u objetivo específico, de forma independiente del resto del código.\n",
    "\n",
    "El uso de funciones tiene varias ventajas:\n",
    "\n",
    "* **Reutilización de código**: se define una sola vez y se ejecuta cuando sea necesario.\n",
    "* **Mejor organización**: dividen el programa en partes más fáciles de leer y mantener.\n",
    "* **Modularidad**: permiten construir programas como bloques independientes que pueden combinarse entre sí (¡funciones dentro de funciones!)."
   ]
  },
  {
   "cell_type": "markdown",
   "id": "b5e1387c",
   "metadata": {},
   "source": [
    "Consideremos el siguiente caso donde se busca calcuar el precio final de un producto, considerando impuestos y descuentos. "
   ]
  },
  {
   "cell_type": "code",
   "execution_count": 76,
   "id": "53e8d045",
   "metadata": {},
   "outputs": [
    {
     "data": {
      "text/plain": [
       "871.2"
      ]
     },
     "execution_count": null,
     "metadata": {},
     "output_type": "execute_result"
    }
   ],
   "source": [
    "precio_base = 800   # Precio del producto ($800)\n",
    "impuesto = 0.21     # Impuesto (21%)\n",
    "descuento = 0.10    # Descuento (10%)\n",
    "\n",
    "precio_final = precio_base * (1 + impuesto) * (1 - descuento)\n",
    "precio_final"
   ]
  },
  {
   "cell_type": "markdown",
   "id": "2612cd55",
   "metadata": {},
   "source": [
    "¿Qué pasa si queremos calcular el precio final para otros productos con diferentes precios, impuestos o descuentos?\n",
    "\n",
    "Una opción es repetir el código tantas veces como sea necesario..."
   ]
  },
  {
   "cell_type": "code",
   "execution_count": 77,
   "id": "fd31beaf",
   "metadata": {},
   "outputs": [
    {
     "data": {
      "text/plain": [
       "552.5"
      ]
     },
     "execution_count": null,
     "metadata": {},
     "output_type": "execute_result"
    }
   ],
   "source": [
    "precio_base = 500   # Precio del producto ($500)\n",
    "impuesto = 0.105    # Impuesto (10.5%)\n",
    "descuento = 0.0     # Descuento (0%)\n",
    "\n",
    "precio_final = precio_base * (1 + impuesto) * (1 - descuento)\n",
    "precio_final"
   ]
  },
  {
   "cell_type": "code",
   "execution_count": 78,
   "id": "721090a0",
   "metadata": {},
   "outputs": [
    {
     "data": {
      "text/plain": [
       "1936.0"
      ]
     },
     "execution_count": null,
     "metadata": {},
     "output_type": "execute_result"
    }
   ],
   "source": [
    "precio_base = 2000  # Precio del producto ($2000)\n",
    "impuesto = 0.21     # Impuesto (21%)\n",
    "descuento = 0.20    # Descuento (20%)\n",
    "\n",
    "precio_final = precio_base * (1 + impuesto) * (1 - descuento)\n",
    "precio_final"
   ]
  },
  {
   "cell_type": "markdown",
   "id": "f2bcea41",
   "metadata": {},
   "source": [
    "Otra opción, mucho mas conveniente, es utilizar funciones."
   ]
  },
  {
   "cell_type": "code",
   "execution_count": 79,
   "id": "9b45b497",
   "metadata": {},
   "outputs": [],
   "source": [
    "def calcular_precio(precio_base, impuesto, descuento):\n",
    "    resultado = precio_base * (1 + impuesto) * (1 - descuento)\n",
    "    return resultado"
   ]
  },
  {
   "cell_type": "markdown",
   "id": "241a1159",
   "metadata": {},
   "source": [
    "Luego, para utilizar la función simplemente la **llamamos** (o **invocamos**)."
   ]
  },
  {
   "cell_type": "code",
   "execution_count": 80,
   "id": "4289dff9",
   "metadata": {},
   "outputs": [
    {
     "data": {
      "text/plain": [
       "871.2"
      ]
     },
     "execution_count": null,
     "metadata": {},
     "output_type": "execute_result"
    }
   ],
   "source": [
    "calcular_precio(800, 0.21, 0.10)"
   ]
  },
  {
   "cell_type": "markdown",
   "id": "804717e2",
   "metadata": {},
   "source": [
    "También es posible indicar los valores de los argumentos utilizando sus nombres."
   ]
  },
  {
   "cell_type": "code",
   "execution_count": 81,
   "id": "390f749f",
   "metadata": {},
   "outputs": [
    {
     "data": {
      "text/plain": [
       "1936.0"
      ]
     },
     "execution_count": null,
     "metadata": {},
     "output_type": "execute_result"
    }
   ],
   "source": [
    "calcular_precio(precio_base=2000, impuesto=0.21, descuento=0.20)"
   ]
  },
  {
   "cell_type": "markdown",
   "id": "6a004801",
   "metadata": {},
   "source": [
    "## Definición de funciones\n",
    "\n",
    "Analicemos las diferentes partes que forman la definición de una función en Python:"
   ]
  },
  {
   "cell_type": "markdown",
   "id": "55a264a6",
   "metadata": {},
   "source": [
    "![](../imgs/definicion_funciones.png){fig-align=\"center\" width=\"700px\"}"
   ]
  },
  {
   "cell_type": "markdown",
   "id": "e62668a7",
   "metadata": {},
   "source": [
    "* La palabra clave `def`:\n",
    "    + Marca el inicio de la **definición** de una función.\n",
    "    + Es una palabra reservada (_keyword_).\n",
    "* El nombre de la función:\n",
    "    + Debe seguir las mismas reglas que los nombres de las variables.\n",
    "* Los argumentos de la función, dentro de paréntesis:\n",
    "    + Se separan por comas y pueden ser 0 o más.\n",
    "* Los dos puntos (`:`):\n",
    "    + Indican el final de la línea de definición y el inicio del bloque de código.\n",
    "* El bloque de código, que es el cuerpo de la función:\n",
    "    + Es el código que se ejecuta cada vez que llamamos a la función.\n",
    "* La sentencia `return` que indica el resultado que devuelve la función.\n",
    "    + Luego del `return` viene el valor o nombre de la variable a devolver.\n",
    "    + Es opcional (ya vamos a ver ejemplos)."
   ]
  },
  {
   "cell_type": "markdown",
   "id": "7510cdaf",
   "metadata": {},
   "source": [
    "::: {.callout-note}\n",
    "### Observación 👀\n",
    "\n",
    "En R se tiene que asignar de manera explícita una función a una variable. Por ejemplo:\n",
    "\n",
    "```r\n",
    "sumar <- function(x, y) {\n",
    "    return(x + y)\n",
    "}\n",
    "```\n",
    "\n",
    "En cambio, en Python, la sentencia `def` _define_ la función y le _asigna un nombre_ en un mismo paso.\n",
    ":::"
   ]
  },
  {
   "cell_type": "markdown",
   "id": "b8749677",
   "metadata": {},
   "source": [
    "## Ejemplos"
   ]
  },
  {
   "cell_type": "markdown",
   "id": "ca0a2909",
   "metadata": {},
   "source": [
    "### 1. Suma de números"
   ]
  },
  {
   "cell_type": "markdown",
   "id": "b6b9a406",
   "metadata": {},
   "source": [
    "Comencemos con una función super sencilla. La misma se llama `sumar`, recibe dos argumentos `x` e `y`, y devuelve la suma de ambos."
   ]
  },
  {
   "cell_type": "code",
   "execution_count": 82,
   "id": "915e5c15",
   "metadata": {},
   "outputs": [],
   "source": [
    "def sumar(x, y):\n",
    "    return x + y"
   ]
  },
  {
   "cell_type": "code",
   "execution_count": 83,
   "id": "93c675b7",
   "metadata": {},
   "outputs": [
    {
     "data": {
      "text/plain": [
       "36.9"
      ]
     },
     "execution_count": null,
     "metadata": {},
     "output_type": "execute_result"
    }
   ],
   "source": [
    "sumar(15, 21.9)"
   ]
  },
  {
   "cell_type": "code",
   "execution_count": 84,
   "id": "ee85afc2",
   "metadata": {},
   "outputs": [
    {
     "data": {
      "text/plain": [
       "float"
      ]
     },
     "execution_count": null,
     "metadata": {},
     "output_type": "execute_result"
    }
   ],
   "source": [
    "type(sumar(15, 21.9))"
   ]
  },
  {
   "cell_type": "markdown",
   "id": "6420aed8",
   "metadata": {},
   "source": [
    "El valor que devuelve puede ser tratado como cualquier valor en Python. Por ejemplo, se lo puede asignar a una variable."
   ]
  },
  {
   "cell_type": "code",
   "execution_count": 85,
   "id": "5f397efd",
   "metadata": {},
   "outputs": [
    {
     "data": {
      "text/plain": [
       "21"
      ]
     },
     "execution_count": null,
     "metadata": {},
     "output_type": "execute_result"
    }
   ],
   "source": [
    "resultado = sumar(10, 11)\n",
    "resultado"
   ]
  },
  {
   "cell_type": "markdown",
   "id": "0a4304c9",
   "metadata": {},
   "source": [
    "Y el valor de esa variable puede ser luego pasado a una nueva llamada a `sumar()` (o a cualquier otra función)."
   ]
  },
  {
   "cell_type": "code",
   "execution_count": 86,
   "id": "a97dc0eb",
   "metadata": {},
   "outputs": [
    {
     "data": {
      "text/plain": [
       "23.55"
      ]
     },
     "execution_count": null,
     "metadata": {},
     "output_type": "execute_result"
    }
   ],
   "source": [
    "sumar(resultado, 2.55)"
   ]
  },
  {
   "cell_type": "markdown",
   "id": "5931f928",
   "metadata": {},
   "source": [
    "Incluso es posible pasar expresiones y llamadas a funciones a la hora de pasar un argumento:"
   ]
  },
  {
   "cell_type": "code",
   "execution_count": 87,
   "id": "4a2e9533",
   "metadata": {},
   "outputs": [
    {
     "data": {
      "text/plain": [
       "6"
      ]
     },
     "execution_count": null,
     "metadata": {},
     "output_type": "execute_result"
    }
   ],
   "source": [
    "sumar(sumar(1, 2), 3)"
   ]
  },
  {
   "cell_type": "markdown",
   "id": "e03e2325",
   "metadata": {},
   "source": [
    "En la línea `sumar(sumar(1, 2), 3)`, Python comienza evaluando la función `sumar()`. Pero para poder hacerlo, primero necesita conocer los valores de los argumentos. Al revisar el primer argumento, detecta que no es un valor directamente, sino otra llamada a la función `sumar(1, 2)`, por lo que la evalúa primero. El resultado de esa operación es `3`, que se toma como valor del primer argumento de la llamada externa. El segundo argumento ya está dado: también es `3`. Entonces, Python invoca la función `sumar()` con los argumentos `3` y `3`, cuyo resultado es `6`. Finalmente, ese valor se muestra en pantalla."
   ]
  },
  {
   "cell_type": "markdown",
   "id": "0df7ad11",
   "metadata": {},
   "source": [
    "### 2. Saludo personalizado\n",
    "\n",
    "Otro ejemplo sencillo consiste en una función que recibe un nombre e imprime un saludo en pantalla."
   ]
  },
  {
   "cell_type": "code",
   "execution_count": 88,
   "id": "2e6bcf92",
   "metadata": {},
   "outputs": [],
   "source": [
    "def saludar(nombre):\n",
    "    print(\"Hola\", nombre)"
   ]
  },
  {
   "cell_type": "code",
   "execution_count": 89,
   "id": "47174693",
   "metadata": {},
   "outputs": [
    {
     "name": "stdout",
     "output_type": "stream",
     "text": [
      "Hola Pablo\n"
     ]
    }
   ],
   "source": [
    "saludar(\"Pablo\")"
   ]
  },
  {
   "cell_type": "markdown",
   "id": "e511caa4",
   "metadata": {},
   "source": [
    "Esta función no devuelve un resultado, sino que utiliza el argumento recibido para mostrar un mensaje en pantalla."
   ]
  },
  {
   "cell_type": "code",
   "execution_count": 90,
   "id": "905fc70b",
   "metadata": {},
   "outputs": [
    {
     "name": "stdout",
     "output_type": "stream",
     "text": [
      "Hola Juan Manuel\n"
     ]
    }
   ],
   "source": [
    "saludar(\"Juan\" + \" Manuel\")"
   ]
  },
  {
   "cell_type": "markdown",
   "id": "c42797f0",
   "metadata": {},
   "source": [
    "### 3. Sin parámetros"
   ]
  },
  {
   "cell_type": "markdown",
   "id": "1dcdc11a",
   "metadata": {},
   "source": [
    "Y podemos tener funciones que no utilicen ningún argumento."
   ]
  },
  {
   "cell_type": "code",
   "execution_count": 91,
   "id": "d98fc50d",
   "metadata": {},
   "outputs": [],
   "source": [
    "def decir_hola():\n",
    "    print(\"¡Hola!\")"
   ]
  },
  {
   "cell_type": "code",
   "execution_count": 92,
   "id": "f2d8dc1e",
   "metadata": {},
   "outputs": [
    {
     "name": "stdout",
     "output_type": "stream",
     "text": [
      "¡Hola!\n",
      "¡Hola!\n",
      "¡Hola!\n"
     ]
    }
   ],
   "source": [
    "decir_hola()\n",
    "decir_hola()\n",
    "decir_hola()"
   ]
  },
  {
   "cell_type": "markdown",
   "id": "0b82d78d",
   "metadata": {},
   "source": [
    "### 4. Devolución de múltiples valores"
   ]
  },
  {
   "cell_type": "markdown",
   "id": "138f85eb",
   "metadata": {},
   "source": [
    "En Python, las funciones pueden devolver múltiples valores separándolos por comas en la sentencia `return`. Por ejemplo:"
   ]
  },
  {
   "cell_type": "code",
   "execution_count": 93,
   "id": "fbe4e8d2",
   "metadata": {},
   "outputs": [
    {
     "data": {
      "text/plain": [
       "(4, 8)"
      ]
     },
     "execution_count": null,
     "metadata": {},
     "output_type": "execute_result"
    }
   ],
   "source": [
    "def potencias(x):\n",
    "    cuadrado = x ** 2\n",
    "    cubo = x ** 3\n",
    "    return cuadrado, cubo\n",
    "\n",
    "potencias(2)"
   ]
  },
  {
   "cell_type": "markdown",
   "id": "e8f11023",
   "metadata": {},
   "source": [
    "El resultado de este tipo de funciones puede ser asignado a múltiples variables. De esta forma, podemos obtener el `cuadrado` y el `cubo` de un número con una sola llamada a una función."
   ]
  },
  {
   "cell_type": "code",
   "execution_count": 94,
   "id": "c2ca8e06",
   "metadata": {},
   "outputs": [
    {
     "name": "stdout",
     "output_type": "stream",
     "text": [
      "64\n",
      "512\n"
     ]
    }
   ],
   "source": [
    "cuadrado, cubo = potencias(8)\n",
    "print(cuadrado)\n",
    "print(cubo)"
   ]
  },
  {
   "cell_type": "markdown",
   "id": "ef919fff",
   "metadata": {},
   "source": [
    "::: {.callout-note}\n",
    "### Observación 👀\n",
    "\n",
    "Al igual que en la asignación múltiple de variables, lo que parece ser una función que devuelve **múltiples objetos** es en realidad una función que devuelve un único objeto llamado tupla (de tipo `tuple`) que permite la técnica de _unpacking_.\n",
    "\n",
    "No te preocupes, más adelante vamos a ver bien cómo funciona.\n",
    ":::"
   ]
  },
  {
   "cell_type": "markdown",
   "id": "99e2d768",
   "metadata": {},
   "source": [
    "## Diagrama de una función\n",
    "\n",
    "![](../imgs/funcion_diagrama.png){fig-align=\"center\" width=\"600px\"}"
   ]
  },
  {
   "cell_type": "markdown",
   "id": "0c06169e",
   "metadata": {},
   "source": [
    "Algunos efectos colaterales pueden ser:\n",
    "\n",
    "* Imprimir un texto o un gráfico.\n",
    "* Cambiar el valor de una variable global.\n",
    "* Crear, eliminar o modificar un archivo de la computadora."
   ]
  },
  {
   "cell_type": "markdown",
   "id": "b41fa0c1",
   "metadata": {},
   "source": [
    "::: {.callout-note}\n",
    "### ¿Puedo devolver una salida y generar efectos colaterales a la vez? 🤔\n",
    "\n",
    "Una función en Python puede realizar múltiples tareas, como devolver un valor e imprimir un mensaje en pantalla.\n",
    "\n",
    "Por ejemplo:\n",
    "\n",
    "```python\n",
    "def producto(x, y):\n",
    "    resultado = x * y\n",
    "    print(\"El producto es\", resultado)\n",
    "    return resultado\n",
    "```\n",
    "\n",
    "La función `producto()` no solo calcula y devuelve el resultado de multiplicar `x` por `y`, sino que además muestra un mensaje por pantalla.\n",
    "\n",
    "Sin embargo, en general no es una buena práctica combinar tareas distintas dentro de una misma función, especialmente si son de distinta naturaleza (como _devolver_ un valor y _causar_ un efecto colateral). Esto puede dificultar la reutilización y el mantenimiento del código.\n",
    ":::"
   ]
  },
  {
   "cell_type": "markdown",
   "id": "aef722e4",
   "metadata": {},
   "source": [
    "## Argumentos nombrados y posicionales\n",
    "\n",
    "Al definir una función, debemos darle un nombre a cada uno de los argumentos que va a recibir.\n",
    "\n",
    "Al llamar a la función, podemos pasar los valores de dos formas: **por posición** o **por nombre**.\n",
    "\n",
    "Por ejemplo, las siguientes llamadas a la función `sumar()` son equivalentes:"
   ]
  },
  {
   "cell_type": "code",
   "execution_count": 95,
   "id": "a1a2d283",
   "metadata": {},
   "outputs": [
    {
     "data": {
      "text/plain": [
       "25"
      ]
     },
     "execution_count": null,
     "metadata": {},
     "output_type": "execute_result"
    }
   ],
   "source": [
    "sumar(x = 10, y = 15)"
   ]
  },
  {
   "cell_type": "code",
   "execution_count": 96,
   "id": "61c79913",
   "metadata": {},
   "outputs": [
    {
     "data": {
      "text/plain": [
       "25"
      ]
     },
     "execution_count": null,
     "metadata": {},
     "output_type": "execute_result"
    }
   ],
   "source": [
    "sumar(10, 15)"
   ]
  },
  {
   "cell_type": "markdown",
   "id": "18285c73",
   "metadata": {},
   "source": [
    "Si utilizamos los nombres para pasar los argumentos **no hace falta que estén en el mismo orden que en la definición** de la función."
   ]
  },
  {
   "cell_type": "code",
   "execution_count": 97,
   "id": "6f0202b3",
   "metadata": {},
   "outputs": [
    {
     "data": {
      "text/plain": [
       "25"
      ]
     },
     "execution_count": null,
     "metadata": {},
     "output_type": "execute_result"
    }
   ],
   "source": [
    "sumar(y = 15, x = 10)"
   ]
  },
  {
   "cell_type": "markdown",
   "id": "ab0d80cb",
   "metadata": {},
   "source": [
    "¡Que sea posible no significa que sea una buena práctica!"
   ]
  },
  {
   "cell_type": "markdown",
   "id": "5ed8d59d",
   "metadata": {},
   "source": [
    "## Ausencia de `return`"
   ]
  },
  {
   "cell_type": "markdown",
   "id": "e30bf1b1",
   "metadata": {},
   "source": [
    "La función `sumar()` termina con la siguiente línea:\n",
    "\n",
    "```python\n",
    "    return x + y\n",
    "```\n",
    "\n",
    "Es decir, utiliza la sentencia `return` para devolver un valor.\n",
    "\n",
    "Por otro lado, la función `saludar()` termina con un `print()` y no tiene ningún `return`.\n",
    "\n",
    "```python\n",
    "    print(\"Hola\", nombre)\n",
    "```"
   ]
  },
  {
   "cell_type": "code",
   "execution_count": 98,
   "id": "2d870a0d",
   "metadata": {},
   "outputs": [
    {
     "data": {
      "text/plain": [
       "3"
      ]
     },
     "execution_count": null,
     "metadata": {},
     "output_type": "execute_result"
    }
   ],
   "source": [
    "resultado = sumar(1, 2)\n",
    "resultado"
   ]
  },
  {
   "cell_type": "code",
   "execution_count": 99,
   "id": "a95d33ff",
   "metadata": {},
   "outputs": [
    {
     "name": "stdout",
     "output_type": "stream",
     "text": [
      "Hola Juan\n"
     ]
    }
   ],
   "source": [
    "saludo = saludar(\"Juan\")"
   ]
  },
  {
   "cell_type": "markdown",
   "id": "af1c2b1c",
   "metadata": {},
   "source": [
    "* ¿Cuál es el valor de la variable `saludo`?\n",
    "* ¿Por qué?\n",
    "* ¿Tiene sentido?"
   ]
  },
  {
   "cell_type": "code",
   "execution_count": 100,
   "id": "1b0c14fe",
   "metadata": {},
   "outputs": [
    {
     "name": "stdout",
     "output_type": "stream",
     "text": [
      "None\n"
     ]
    }
   ],
   "source": [
    "print(saludo)"
   ]
  },
  {
   "cell_type": "markdown",
   "id": "b3816270",
   "metadata": {},
   "source": [
    "En Python no existe el concepto de `return` implícito.\n",
    "\n",
    "Si queremos que una función devuelva un valor, es necesario usar la instrucción `return` de forma explícita.\n",
    "\n",
    "En caso de no hacerlo, la función devuelve automáticamente `None`."
   ]
  },
  {
   "cell_type": "markdown",
   "id": "1a4fc5b5",
   "metadata": {},
   "source": [
    "## Argumentos por defecto\n",
    "\n",
    "Cuando definimos una función podemos determinar **valores por defecto** para uno o más parámetros.\n",
    "\n",
    "Si cuando llamamos a la función le pasamos un valor a ese parámetro, se utiliza el valor que pasamos. Sino, se usa el valor por defecto.\n",
    "\n",
    "Esta práctica es útil para simplificar las llamadas que realizamos a una función."
   ]
  },
  {
   "cell_type": "markdown",
   "id": "558b9f47",
   "metadata": {},
   "source": [
    "Supongamos la siguiente función `describir_mascota()` que tiene los parámetros `nombre` y `tipo`"
   ]
  },
  {
   "cell_type": "code",
   "execution_count": 101,
   "id": "c75786b8",
   "metadata": {},
   "outputs": [
    {
     "name": "stdout",
     "output_type": "stream",
     "text": [
      "Tengo un perro\n",
      "Y su nombre es Bruno\n"
     ]
    }
   ],
   "source": [
    "def describir_mascota(nombre, tipo):\n",
    "    print(\"Tengo un\", tipo)\n",
    "    print(\"Y su nombre es\", nombre)\n",
    "\n",
    "describir_mascota(\"Bruno\", \"perro\")"
   ]
  },
  {
   "cell_type": "markdown",
   "id": "3059d3c0",
   "metadata": {},
   "source": [
    "Ahora, hacemos que el parámetro `nombre` sea por defecto igual a `\"perro\"`."
   ]
  },
  {
   "cell_type": "code",
   "execution_count": 102,
   "id": "6b70d457",
   "metadata": {},
   "outputs": [],
   "source": [
    "def describir_mascota(nombre, tipo=\"perro\"):\n",
    "    print(\"Tengo un\", tipo)\n",
    "    print(\"Y su nombre es\", nombre)"
   ]
  },
  {
   "cell_type": "markdown",
   "id": "dade06f3",
   "metadata": {},
   "source": [
    "De este modo, es posible llamar a la función solamente pasando valores para aquellos parámetros sin valor por defecto:"
   ]
  },
  {
   "cell_type": "code",
   "execution_count": 103,
   "id": "4fe7fe89",
   "metadata": {},
   "outputs": [
    {
     "name": "stdout",
     "output_type": "stream",
     "text": [
      "Tengo un perro\n",
      "Y su nombre es Bruno\n"
     ]
    }
   ],
   "source": [
    "describir_mascota(\"Bruno\")"
   ]
  },
  {
   "cell_type": "markdown",
   "id": "2f57cb3e",
   "metadata": {},
   "source": [
    "Como es de esperar, también es posible pasar valores distintos a los establecidos por defecto:"
   ]
  },
  {
   "cell_type": "code",
   "execution_count": 104,
   "id": "aa32c73f",
   "metadata": {},
   "outputs": [
    {
     "name": "stdout",
     "output_type": "stream",
     "text": [
      "Tengo un pez\n",
      "Y su nombre es Nemo\n"
     ]
    }
   ],
   "source": [
    "describir_mascota(\"Nemo\", \"pez\")"
   ]
  }
 ],
 "metadata": {
  "language_info": {
   "name": "python"
  }
 },
 "nbformat": 4,
 "nbformat_minor": 5
}
