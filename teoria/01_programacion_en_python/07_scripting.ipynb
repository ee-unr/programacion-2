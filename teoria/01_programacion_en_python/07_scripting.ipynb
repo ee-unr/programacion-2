{
 "cells": [
  {
   "cell_type": "markdown",
   "id": "5664190e",
   "metadata": {},
   "source": [
    "---\n",
    "title: \"7 - _Scripting_\"\n",
    "toc: true\n",
    "---"
   ]
  }
 ],
 "metadata": {
  "language_info": {
   "name": "plaintext"
  }
 },
 "nbformat": 4,
 "nbformat_minor": 5
}
