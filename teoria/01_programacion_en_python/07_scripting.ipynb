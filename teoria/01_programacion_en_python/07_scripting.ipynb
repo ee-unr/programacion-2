{
 "cells": [
  {
   "cell_type": "markdown",
   "id": "5664190e",
   "metadata": {},
   "source": [
    "---\n",
    "title: \"7 - _Scripting_\"\n",
    "toc: true\n",
    "---"
   ]
  },
  {
   "cell_type": "markdown",
   "id": "4fbdd2cf",
   "metadata": {},
   "source": [
    "- Que es un script\n",
    "    - Un script de Python es un archivo que contiene código Python escrito para realizar una tarea específica. Estos archivos suelen tener la extensión .py y se ejecutan línea por línea por el intérprete de Python. Los scripts se utilizan para automatizar tareas, analizar datos, desarrollar aplicaciones, o cualquier otra función que pueda ser implementada en Python. \n",
    "- Script vs modulo\n",
    "    - Ambos son archivos .py --> pero tienen objetivos distintos\n",
    "- Captura de entrada del usuario (input)\n",
    "- El modulo argparse (como un extra)"
   ]
  },
  {
   "cell_type": "markdown",
   "id": "8b2e9c0d",
   "metadata": {},
   "source": [
    "### Scripts de Python\n",
    "\n",
    "Un _script_ de Python puede ser más de una cosa a la vez.\n",
    "\n",
    "* Es un programa en sí mismo. \n",
    "    + Ejecuta código.\n",
    "    + Puede ser todo lo que necesitemos para resolver nuestro problema.\n",
    "* Es un módulo.\n",
    "    + Declara objetos que vamos a utilizar desde otros programas de Python.\n",
    "* Es un programa en sí mismo y un módulo a la vez.\n",
    "    + Algunos _scripts_ pueden ser utilizados con ambos propósitos. \n",
    "    + A veces solo declaran objetos para usar desde otros programas.\n",
    "    + A veces se ejecutan como programa principal y realizan tareas.\n",
    "\n",
    "Por otro lado, una Jupyter Notebook es un **documento interactivo** que incluye tanto código de Python, que se ejecuta interactivamente, y texto escrito en Markdown.\n",
    "\n",
    "* Ahora viene la demostración de como ejecutar un _script_ de manera no-interactiva."
   ]
  }
 ],
 "metadata": {
  "language_info": {
   "name": "plaintext"
  }
 },
 "nbformat": 4,
 "nbformat_minor": 5
}
