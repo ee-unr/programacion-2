{
 "cells": [
  {
   "cell_type": "markdown",
   "id": "5664190e",
   "metadata": {},
   "source": [
    "---\n",
    "title: \"7 - _Scripting_\"\n",
    "toc: true\n",
    "---"
   ]
  },
  {
   "cell_type": "markdown",
   "id": "9108182a",
   "metadata": {},
   "source": [
    "## ¿Qué es un _script_?\n",
    "\n",
    "En programación, un **_script_** es un archivo de texto que contiene una secuencia lógica de pasos que se pueden ejecutar para realizar una tarea específica, ya sea simple o compleja.\n",
    "Esta serie de pasos suele expresarse en un lenguaje de _scripting_, un lenguaje de programación que permite manipular, personalizar y automatizar tareas.\n",
    "\n",
    "A diferencia de los programas compilados, los _scripts_ suelen **interpretarse en tiempo de ejecución**.\n",
    "Es decir, un intérprete se encarga de leer, procesar y ejecutar cada instrucción en orden.\n",
    "\n",
    "En el caso de **Python**, un _script_ es un archivo con extensión `.py` que puede automatizar procesos, analizar datos, crear aplicaciones o prácticamente cualquier otra tarea que el lenguaje permita.\n",
    "El intérprete de Python ejecuta el código línea por línea, lo que facilita probar, modificar y reutilizar el programa de manera ágil\n",
    "\n",
    "Debido a su uso frecuente para desarrollar _scripts_, Python es conocido también como un **lenguaje de _scripting_**, aunque en la práctica su uso sea mucho más amplio."
   ]
  },
  {
   "cell_type": "markdown",
   "id": "959ff50c",
   "metadata": {},
   "source": [
    "## _Script_ vs módulo\n",
    "\n",
    "Python es un lenguaje de programación interpretado, y por ello sus programas suelen denominarse _scripts_.\n",
    "Sin embargo, no siempre es correcto usar este término. Si bien muchos programas en Python consisten en instrucciones destinadas a resolver tareas puntuales, otros programas tienen por objetivo principal implementar herramientas que luego van a ser utilizadas por otros programas.\n",
    "\n",
    "Un programa de Python puede denominarse _script_ o módulo. El propósito del código en un archivo de texto `.py` es lo que determina si lo llamamos de una manera o de la otra.\n",
    "Cuando un archivo contiene código ejecutable cuyo fin es realizar una tarea específica, se lo considera _script_. En cambio, cuando el archivo está diseñado para ser importado y utilizado desde otro programa de Python, se lo denomina módulo.\n",
    "\n",
    "En síntesis, la principal diferencia entre un módulo y un _script_ es que los módulos almacenan código importable mientras que los _scripts_ contienen código ejecutable."
   ]
  },
  {
   "cell_type": "markdown",
   "id": "fc122095",
   "metadata": {},
   "source": [
    "## _Script_ y módulo\n",
    "\n",
    "Python es un lenguaje tan flexible que un mismo programa puede funcionar como ***script*** y como **módulo** al mismo tiempo.\n",
    "Esto ocurre cuando el archivo define herramientas reutilizables (por ejemplo, funciones o clases) y, además, incluye código que se ejecuta directamente al correrlo desde la línea de comandos.\n",
    "\n",
    "Para ilustrarlo, consideremos un pequeño programa en Python que solicita una fecha al usuario y luego indica cuántos días faltan para llegar a ella:"
   ]
  },
  {
   "cell_type": "markdown",
   "id": "7f4987c1",
   "metadata": {},
   "source": [
    "```{.python filename=\"calcular_dias.py\"}\n",
    "from datetime import datetime\n",
    "\n",
    "def diferencia_dias(fecha_str):\n",
    "    fecha = datetime.strptime(fecha_str, \"%Y-%m-%d\").date()\n",
    "    hoy = datetime.today().date()\n",
    "    diferencia = (fecha - hoy).days\n",
    "    return diferencia\n",
    "\n",
    "fecha_str = input(\"Ingresá una fecha (formato AAAA-MM-DD): \")\n",
    "diferencia = diferencia_dias(fecha_str)\n",
    "\n",
    "if diferencia > 0:\n",
    "    print(f\"Faltan {diferencia} días para el {fecha_str}.\")\n",
    "elif diferencia == 0:\n",
    "    print(\"¡La fecha es hoy!\")\n",
    "else:\n",
    "    print(f\"Esa fecha ya pasó hace {-diferencia} días.\")\n",
    "```"
   ]
  },
  {
   "cell_type": "markdown",
   "id": "b7638804",
   "metadata": {},
   "source": [
    "Debajo se muestra una animación de la ejecución de este _script_ en la terminal:"
   ]
  },
  {
   "cell_type": "markdown",
   "id": "adb124d2",
   "metadata": {},
   "source": [
    "![](imgs/script_1.gif){fig-align=\"center\"}"
   ]
  },
  {
   "cell_type": "markdown",
   "id": "3b945491",
   "metadata": {},
   "source": [
    "Ahora, supongamos que queremos importar la función `diferencia_dias` en otro programa de Python.\n",
    "\n",
    "![](imgs/script_2.gif){fig-align=\"center\"}"
   ]
  },
  {
   "cell_type": "markdown",
   "id": "7042a24b",
   "metadata": {},
   "source": [
    "Cuando importamos una función del módulo `calcular_dias`, observamos que Python también ejecuta la parte del programa que solicita una fecha y muestra cuántos días faltan para alcanzarla.\n",
    "\n",
    "Esto ocurre porque, al importar un módulo (o cualquier objeto definido en él), Python **ejecuta todo el código del archivo de principio a fin**, sin importar qué elementos en particular estemos importando.\n",
    "\n",
    "Para evitar este comportamiento no deseado, y permitir que un mismo archivo pueda funcionar tanto como **módulo reutilizable** como **_script_ ejecutable**, se encapsula la parte que debe ejecutarse solo al correr el archivo directamente dentro del siguiente bloque:\n",
    "\n",
    "```python\n",
    "if __name__ == \"__main__\":\n",
    "    # código ejecutable\n",
    "```\n",
    "\n",
    "Con esta estructura, el código dentro de ese bloque se ejecutará únicamente cuando el archivo se ejecute directamente como programa, y no cuando se lo importe desde otro módulo.\n",
    "\n",
    "De esta manera, nuestro programa actualizado quedaría así:\n",
    "\n",
    "```{.python filename=\"calcular_dias.py\"}\n",
    "from datetime import datetime\n",
    "\n",
    "def diferencia_dias(fecha_str):\n",
    "    fecha = datetime.strptime(fecha_str, \"%Y-%m-%d\").date()\n",
    "    hoy = datetime.today().date()\n",
    "    diferencia = (fecha - hoy).days\n",
    "    return diferencia\n",
    "\n",
    "if __name__ == \"__main__\":\n",
    "    fecha_str = input(\"Ingresá una fecha (formato AAAA-MM-DD): \")\n",
    "    diferencia = diferencia_dias(fecha_str)\n",
    "\n",
    "    if diferencia > 0:\n",
    "        print(f\"Faltan {diferencia} días para el {fecha_str}.\")\n",
    "    elif diferencia == 0:\n",
    "        print(\"¡La fecha es hoy!\")\n",
    "    else:\n",
    "        print(f\"Esa fecha ya pasó hace {-diferencia} días.\")\n",
    "```"
   ]
  },
  {
   "cell_type": "markdown",
   "id": "39df833d",
   "metadata": {},
   "source": [
    "Ahora, cuando se importa cualquier objeto desde `calcular_dias`, Python no ejecuta la parte del programa que interactúa con el usuario."
   ]
  },
  {
   "cell_type": "markdown",
   "id": "7a75b5fd",
   "metadata": {},
   "source": [
    "![](imgs/script_3.gif){fig-align=\"center\"}"
   ]
  },
  {
   "cell_type": "markdown",
   "id": "f0e51e58",
   "metadata": {},
   "source": [
    "::: {.callout-note}\n",
    "##### La variable especial `__name__` 🏷️\n",
    "\n",
    "La variable `__name__` es una variable especial que indica el nombre del módulo actual.\n",
    "Cuando un archivo Python se ejecuta directamente, `__name__` toma el valor `\"__main__\"`, lo que indica que es el módulo principal.\n",
    "En cambio, si el archivo se importa como un módulo en otro _script_, `__name__` contendrá el nombre del archivo (sin la extensión .py).\n",
    "\n",
    ":::"
   ]
  },
  {
   "cell_type": "markdown",
   "id": "85f548ce",
   "metadata": {},
   "source": [
    "## CLIs con `argparse`\n",
    "\n",
    "`argparse` es un módulo de la librería estándar de Python que sirve para crear interfaces de línea de comandos (CLIs, por sus siglas en inglés).\n",
    "\n",
    "Con este módulo se pueden definir qué argumentos y opciones acepta nuestra programa. Luego, Python se encargará de:\n",
    "\n",
    "* Leerlos desde la terminal al ejecutar el _script_.\n",
    "* Convertirlos al tipo de dato indicado (`int`, `float`, `str`, etc.).\n",
    "* Validarlos según las reglas definidas.\n",
    "* Generar un mensaje de ayuda (`--help`) sin que tengamos que hacer nada.\n",
    "\n",
    "### Ejemplo: saludos personalizados\n",
    "\n",
    "El siguiente programa recibe el nombre de una persona como argumento obligatorio y, de manera opcional, la cantidad de veces que se la debe saludar.\n",
    "\n",
    "```python\n",
    "import argparse\n",
    "\n",
    "parser = argparse.ArgumentParser(description=\"Saluda a una persona\")\n",
    "parser.add_argument(\"nombre\", help=\"El nombre de la persona\") # Argumento posicional\n",
    "parser.add_argument(\"--veces\", type=int, default=1, help=\"Cuántas veces saludar\") # Argumento nombrado\n",
    "\n",
    "args = parser.parse_args()\n",
    "\n",
    "for _ in range(args.veces):\n",
    "    print(f\"¡Hola, {args.nombre}!\")\n",
    "```\n",
    "\n",
    "Luego, en la terminal:\n",
    "\n",
    "\n",
    "```cmd\n",
    "python hola.py Tomás\n",
    "¡Hola, Tomás!\n",
    "```\n",
    "\n",
    "Y si usamos el argumento `--veces`:\n",
    "\n",
    "```cmd\n",
    "python hola.py Tomás --veces 3\n",
    "¡Hola, Tomás!\n",
    "¡Hola, Tomás!\n",
    "¡Hola, Tomás!\n",
    "```\n",
    "\n",
    "La ayuda se puede ver de la siguiente manera:\n",
    "\n",
    "```cmd\n",
    "python hola.py --help\n",
    "usage: hola.py [-h] [--veces VECES] nombre\n",
    "\n",
    "Saluda a una persona\n",
    "\n",
    "positional arguments:\n",
    "  nombre         El nombre de la persona\n",
    "\n",
    "options:\n",
    "  -h, --help     show this help message and exit\n",
    "  --veces VECES  Cuántas veces saludar\n",
    "```\n",
    "\n",
    "\n",
    "Si usamos un valor de tipo erróneo para `--veces`, obtenemos un error informativo de manera automática:\n",
    "\n",
    "```cmd\n",
    "python hola.py Tomás --veces 3.5\n",
    "usage: hola.py [-h] [--veces VECES] nombre\n",
    "hola.py: error: argument --veces: invalid int value: '3.5'\n",
    "```"
   ]
  },
  {
   "cell_type": "markdown",
   "id": "007218e5",
   "metadata": {},
   "source": [
    "::: {.callout-note}\n",
    "##### `input()` vs `argparse`\n",
    "\n",
    "Tanto `input()` como `ArgumentParser` de `argparse` permiten pasar datos a nuestro _script_. La diferencia entre ellos es que `input()` se usa para pedir datos **mientras corre el programa**, mientras que el módulo `argparse` se usa apra pedir datos **al momento de ejecutar el programa** desde al terminal.\n",
    "\n",
    ":::"
   ]
  }
 ],
 "metadata": {
  "language_info": {
   "name": "python"
  }
 },
 "nbformat": 4,
 "nbformat_minor": 5
}
