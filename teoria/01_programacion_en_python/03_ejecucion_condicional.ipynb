{
 "cells": [
  {
   "cell_type": "markdown",
   "id": "a8b47f3a",
   "metadata": {},
   "source": [
    "---\n",
    "title: \"Ejecución condicional\"\n",
    "toc: true\n",
    "---"
   ]
  },
  {
   "cell_type": "markdown",
   "id": "b3fb9e41",
   "metadata": {},
   "source": [
    "![](../../imgs/trabajo_en_progreso.png){fig-align=\"center\" width=\"300px\"}"
   ]
  }
 ],
 "metadata": {
  "language_info": {
   "name": "python"
  }
 },
 "nbformat": 4,
 "nbformat_minor": 5
}
