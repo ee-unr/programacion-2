{
 "cells": [
  {
   "cell_type": "markdown",
   "id": "a8b47f3a",
   "metadata": {},
   "source": [
    "---\n",
    "title: \"Ejecución condicional\"\n",
    "toc: true\n",
    "---"
   ]
  },
  {
   "cell_type": "markdown",
   "id": "29a1d5b5",
   "metadata": {},
   "source": [
    "## Introducción\n",
    "\n",
    "Las computadoras son muy buenas para muchísimas cosas. En particular:\n",
    "\n",
    "* Determinar automáticamente que secciones de un programa se debe ejecutar.\n",
    "* Realizar tareas repetitivas.\n",
    "\n",
    "El primer punto se refiere a la **ejecución condicional de código** y el segundo a la **ejecución repetitiva de código**.\n",
    "\n",
    "Estos dos puntos pueden ser vistos de manera general como **control de flujo** del código.\n",
    "\n",
    "En este apunte hablamos de la **ejecución condicional de código**."
   ]
  },
  {
   "cell_type": "markdown",
   "id": "ec990d8c",
   "metadata": {},
   "source": [
    "![](../imgs/control_de_flujo_intro_humo.png){fig-align=\"center\" width=\"600px\"}"
   ]
  },
  {
   "cell_type": "markdown",
   "id": "328fa33f",
   "metadata": {},
   "source": [
    "## Bloques `if`\n",
    "\n",
    "Los bloques `if` utilizan la _keyword_ `if` para evaluar una condición y ejecutar una sección de código en base al resultado de esta evaluación.\n",
    "\n",
    "![](../imgs/if.png){fig-align=\"center\" width=\"350px\"}\n",
    "\n",
    "Veamos un ejemplo."
   ]
  },
  {
   "cell_type": "code",
   "execution_count": 4,
   "id": "00a16ae7",
   "metadata": {},
   "outputs": [
    {
     "name": "stdout",
     "output_type": "stream",
     "text": [
      "Se ejecuta el bloque if\n"
     ]
    }
   ],
   "source": [
    "condicion = True\n",
    "if condicion:\n",
    "    print(\"Se ejecuta el bloque if\")"
   ]
  },
  {
   "cell_type": "code",
   "execution_count": 5,
   "id": "5aca410f",
   "metadata": {},
   "outputs": [],
   "source": [
    "condicion = False\n",
    "if condicion:\n",
    "    print(\"Se ejecuta el bloque if\")"
   ]
  },
  {
   "cell_type": "markdown",
   "id": "a668a705",
   "metadata": {},
   "source": [
    "De manera mas general, un bloque `if` es de la siguiente forma:\n",
    "\n",
    "![](../imgs/if_codigo.png){fig-align=\"center\" width=\"400px\"}"
   ]
  },
  {
   "cell_type": "markdown",
   "id": "0580f08d",
   "metadata": {},
   "source": [
    "Tiene los siguientes componentes:\n",
    "\n",
    "* La **palabra clave** `if`.\n",
    "* La **condición** a evaluar, que tiene que ser `True` o `False`. Esta va seguida de los dos puntos `:` que indican el fin de la condición a evaluar y que lo siguiente es el bloque de código a ejecutar condicionalmente.\n",
    "* El **bloque de código** a evaluar si **condición** es verdadera.\n",
    "\n",
    "\n",
    "Veamos otro ejemplo."
   ]
  },
  {
   "cell_type": "code",
   "execution_count": 6,
   "id": "e59ce68b",
   "metadata": {},
   "outputs": [
    {
     "name": "stdout",
     "output_type": "stream",
     "text": [
      "Se ejecuta el bloque if\n",
      "Esto se imprime siempre\n"
     ]
    }
   ],
   "source": [
    "condicion = True\n",
    "if condicion:\n",
    "    print(\"Se ejecuta el bloque if\")\n",
    "\n",
    "print(\"Esto se imprime siempre\")"
   ]
  },
  {
   "cell_type": "markdown",
   "id": "7231ec9f",
   "metadata": {},
   "source": [
    "El segundo `print()` se imprime siempre porque está por fuera del bloque de ejecución condicional.\n",
    "\n",
    "¿Cómo nos damos cuenta que no está dentro del bloque condicional?\n",
    "\n",
    "Simplemente la indentación vuelve a ser normal. El fin de la indentación indica el fin del bloque de código."
   ]
  },
  {
   "cell_type": "code",
   "execution_count": 7,
   "id": "0b288393",
   "metadata": {},
   "outputs": [
    {
     "name": "stdout",
     "output_type": "stream",
     "text": [
      "Se ejecuta el bloque if\n"
     ]
    }
   ],
   "source": [
    "valor = 12\n",
    "if valor > 10:\n",
    "    print(\"Se ejecuta el bloque if\")"
   ]
  },
  {
   "cell_type": "markdown",
   "id": "0aa96f42",
   "metadata": {},
   "source": [
    "## Bloques `if` - `else`\n",
    "\n",
    "Vimos que el bloque `if` nos permite ejecutar un bloque de código de manera condicional, y que luego el programa sigue su ejecución normal.\n",
    "\n",
    "También es posible que necesitemos ejecutar un bloque de código cuando las condiciones resulten en `True` y un bloque distinto en el caso contrario.\n",
    "\n",
    "Para eso, utilizamos el bloque `if`-`else`.\n",
    "\n",
    "Un bloque `if`-`else` es muy similar a un bloque `if`.\n",
    "\n",
    "La diferencia es que nos permite definir otro bloque de código que se ejecuta cuando la prueba condicional es `False`.\n",
    "\n",
    "![](../imgs/if_else_codigo.png){fig-align=\"center\" width=\"400px\"}"
   ]
  },
  {
   "cell_type": "code",
   "execution_count": 8,
   "id": "fd5af551",
   "metadata": {},
   "outputs": [
    {
     "name": "stdout",
     "output_type": "stream",
     "text": [
      "Tenés la edad suficiente para votar\n"
     ]
    }
   ],
   "source": [
    "edad = 21\n",
    "if edad >= 16:\n",
    "    print(\"Tenés la edad suficiente para votar\")\n",
    "else:\n",
    "    print(\"Lo siento, aún sos demasiado jóven para votar\")"
   ]
  },
  {
   "cell_type": "markdown",
   "id": "570e186b",
   "metadata": {},
   "source": [
    "![](../imgs/if_else.png){fig-align=\"center\" width=\"350px\"}"
   ]
  },
  {
   "cell_type": "markdown",
   "id": "42761958",
   "metadata": {},
   "source": [
    "Al igual que con el bloque `if`, cualquier parte del código que se escriba luego del bloque `if`-`else` es ejecutada sin importar el valor de las condiciones.\n",
    "\n",
    "Veamos otro ejemplo donde evaluamos si un número es par o impar."
   ]
  },
  {
   "cell_type": "code",
   "execution_count": 9,
   "id": "cc6a4b50",
   "metadata": {},
   "outputs": [
    {
     "name": "stdout",
     "output_type": "stream",
     "text": [
      "10\n",
      "Es par\n"
     ]
    }
   ],
   "source": [
    "valor = 10\n",
    "print(valor)\n",
    "\n",
    "if valor % 2 == 0:\n",
    "    mensaje = \"Es par\"\n",
    "else:\n",
    "    mensaje = \"Es impar\"\n",
    "\n",
    "print(mensaje)"
   ]
  },
  {
   "cell_type": "markdown",
   "id": "c150504b",
   "metadata": {},
   "source": [
    "En este caso, `print(mensaje)` se ejecuta siempre.\n",
    "\n",
    "Lo que varía es el valor de la variable `mensaje`, que depende de si el número es par o impar."
   ]
  },
  {
   "cell_type": "markdown",
   "id": "a2700b36",
   "metadata": {},
   "source": [
    "## Bloques `if`-`elif`-`else`\n",
    "\n",
    "Es muy probable que tengamos situaciones donde necesitemos considerar más de dos escenarios posibles.\n",
    "\n",
    "Para esto, Python ofrece los bloques `if`-`elif`-`else`.\n",
    "\n",
    "Este tipo de programa considera varias condiciones y las evalúa de a una a la vez hasta que alguna es verdadera. Luego se ejecuta solamente el bloque de código que corresponde a la primer condición verdadera.\n",
    "\n",
    "![](../imgs/if_elif_else_codigo.png){fig-align=\"center\" width=\"400px\"}"
   ]
  },
  {
   "cell_type": "markdown",
   "id": "a95f484d",
   "metadata": {},
   "source": [
    "Supongamos que viene un parque de diversiones a Rosario y tiene los siguientes precios para la entrada:\n",
    "\n",
    "* Menores de 4 años, gratis.\n",
    "* Personas entre 4 y 18 años, \\$400.\n",
    "* Personas de 18 o mas años, \\$600."
   ]
  },
  {
   "cell_type": "code",
   "execution_count": 10,
   "id": "83f125ce",
   "metadata": {},
   "outputs": [
    {
     "name": "stdout",
     "output_type": "stream",
     "text": [
      "El costo de entrada para vos es de $0.\n"
     ]
    }
   ],
   "source": [
    "edad = 3\n",
    "\n",
    "if edad < 4:\n",
    "    print(\"El costo de entrada para vos es de $0.\")\n",
    "elif edad < 18:\n",
    "    print(\"El costo de entrada para vos es de $400.\")\n",
    "else:\n",
    "    print(\"El costo de entrada para vos es de $600.\")"
   ]
  },
  {
   "cell_type": "markdown",
   "id": "b0363d42",
   "metadata": {},
   "source": [
    "![](../imgs/if_elif_else.png){fig-align=\"center\" width=\"350px\"}"
   ]
  },
  {
   "cell_type": "markdown",
   "id": "26e985ff",
   "metadata": {},
   "source": [
    "## Múltiples bloques `elif`\n",
    "\n",
    "Hasta ahora utilizamos un único bloque `elif`, pero podemos usar tantos como sea necesario.\n",
    "\n",
    "Por ejemplo, si el parque de diversiones decide realizar un descuento para adultos mayores, dejando el precio en \\$350, podriamos agregar otro bloque `elif` que represente la evaluación de esta condición."
   ]
  },
  {
   "cell_type": "code",
   "execution_count": 11,
   "id": "791c8521",
   "metadata": {},
   "outputs": [
    {
     "name": "stdout",
     "output_type": "stream",
     "text": [
      "El precio de entrada para vos es de $350.\n"
     ]
    }
   ],
   "source": [
    "edad = 68\n",
    "\n",
    "if edad < 4:\n",
    "    precio = 0\n",
    "elif edad < 18:\n",
    "    precio = 400\n",
    "elif edad < 65:\n",
    "    precio = 600\n",
    "else:\n",
    "    precio = 350\n",
    "\n",
    "print(f\"El precio de entrada para vos es de ${precio}.\")"
   ]
  },
  {
   "cell_type": "markdown",
   "id": "9c80024d",
   "metadata": {},
   "source": [
    "## Omitir el bloque `else`\n",
    "\n",
    "No hay ninguna regla que nos obligue a terminar un bloque de `if`-`elif` con un bloque `else`.\n",
    "\n",
    "Utilizar el bloque `else` a veces es lo correcto, pero otras veces puede ser mejor poner una condición explícita en un último `elif` que contemple solamente la condición que realmente nos interesa."
   ]
  },
  {
   "cell_type": "code",
   "execution_count": 12,
   "id": "8426ef48",
   "metadata": {},
   "outputs": [
    {
     "name": "stdout",
     "output_type": "stream",
     "text": [
      "El precio de entrada para vos es de $400.\n"
     ]
    }
   ],
   "source": [
    "edad = 10\n",
    "\n",
    "if edad < 4:\n",
    "    precio = 0\n",
    "elif edad < 18:\n",
    "    precio = 400\n",
    "elif edad < 65:\n",
    "    precio = 600\n",
    "elif edad >= 65:\n",
    "    precio = 350\n",
    "\n",
    "print(f\"El precio de entrada para vos es de ${precio}.\")"
   ]
  },
  {
   "cell_type": "markdown",
   "id": "b19a4b92",
   "metadata": {},
   "source": [
    "El bloque `elif` que agregamos indica que el `precio` será de \\$350 cuando la edad de la persona sea mayor o igual a 65 años.\n",
    "\n",
    "Esta condición es más explícita y fácil de entender que el bloque `else` que usábamos antes.\n",
    "\n",
    "Sin embargo, todavía hay un problema: el programa sigue funcionando incluso si se ingresan edades fuera de un rango razonable. A continuación se muestra una versión más completa:"
   ]
  },
  {
   "cell_type": "code",
   "execution_count": 13,
   "id": "006639b2",
   "metadata": {},
   "outputs": [
    {
     "name": "stdout",
     "output_type": "stream",
     "text": [
      "¡Error!\n",
      "El precio de entrada para vos es $None.\n"
     ]
    }
   ],
   "source": [
    "edad = 125\n",
    "\n",
    "if edad < 0:\n",
    "    print(\"¡Error!\")\n",
    "    precio = None\n",
    "elif edad < 4:\n",
    "    precio = 0\n",
    "elif edad < 18:\n",
    "    precio = 400\n",
    "elif edad < 65:\n",
    "    precio = 600\n",
    "elif edad >= 65 and edad <= 120:\n",
    "    precio = 350\n",
    "else:\n",
    "    print(\"¡Error!\")\n",
    "    precio = None\n",
    "\n",
    "print(f\"El precio de entrada para vos es ${precio}.\")"
   ]
  },
  {
   "cell_type": "markdown",
   "id": "90ac7904",
   "metadata": {},
   "source": [
    "El diagrama y el código para el caso solo con `elif` se ven de la siguiente manera:"
   ]
  },
  {
   "cell_type": "markdown",
   "id": "7dd6cc90",
   "metadata": {},
   "source": [
    "![](../imgs/if_elif_elif_elif.png){fig-align=\"center\" width=\"350px\"}"
   ]
  },
  {
   "cell_type": "markdown",
   "id": "3fb6ad2b",
   "metadata": {},
   "source": [
    "![](../imgs/if_elif_elif_elif_codigo.png){fig-align=\"center\" width=\"400px\"}"
   ]
  }
 ],
 "metadata": {
  "language_info": {
   "name": "python"
  }
 },
 "nbformat": 4,
 "nbformat_minor": 5
}
