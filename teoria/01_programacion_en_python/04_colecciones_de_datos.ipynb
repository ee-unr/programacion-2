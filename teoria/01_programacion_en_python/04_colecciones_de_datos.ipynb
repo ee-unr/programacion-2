{
 "cells": [
  {
   "cell_type": "markdown",
   "id": "3ce2ccfd",
   "metadata": {},
   "source": [
    "---\n",
    "title: \"4 - Colecciones de datos [WIP]\"\n",
    "toc: true\n",
    "---"
   ]
  },
  {
   "cell_type": "markdown",
   "id": "cacf21f7",
   "metadata": {},
   "source": [
    "## Introducción\n",
    "\n",
    "Además de los tipos de datos que vimos anteriormente, Python posee otros tipos de datos más complejos.\n",
    "\n",
    "En esta notebook vamos a ver tipos que nos permiten representar _colecciones de datos_.\n",
    "\n",
    "Estos tipos son:\n",
    "\n",
    "* Listas\n",
    "* Tuplas\n",
    "* Diccionarios\n",
    "\n",
    "La similitud entre estos tipos es que todos permiten almacenar colecciones o secuencias de datos.\n",
    "\n",
    "Estos tipos se diferencian en la sintáxis que utilizamos para escribirlos, en su comportamiento, y en la forma que los manipulamos.\n",
    "\n",
    "En otras palabras, estos tipos de datos están pensados para satisfacer diferentes necesidades."
   ]
  },
  {
   "cell_type": "markdown",
   "id": "37785050",
   "metadata": {},
   "source": [
    "Supongamos que contamos con el nombre y la edad de 4 personas. Por lo que vimos hasta ahora, podemos crear 4 variables para las edades y 4 variables para los nombres. Esto se vería de la siguiente forma:"
   ]
  },
  {
   "cell_type": "code",
   "execution_count": 33,
   "id": "64d4c0a3",
   "metadata": {},
   "outputs": [],
   "source": [
    "edad_1 = 29\n",
    "edad_2 = 34\n",
    "edad_3 = 33\n",
    "edad_4 = 38\n",
    "\n",
    "nombre_1 = \"Juan\"\n",
    "nombre_2 = \"Carla\"\n",
    "nombre_3 = \"Evelina\"\n",
    "nombre_4 = \"Leandro\""
   ]
  },
  {
   "cell_type": "markdown",
   "id": "ad28f9f4",
   "metadata": {},
   "source": [
    "En nuestro caso particular, el código es bastante legible y podemos imaginarnos como relacionar las edades con los nombres.\n",
    "\n",
    "Pero, como sería el código si quisieramos almacenar datos de 100 personas? y si son muchos más?\n",
    "\n",
    "Sería totalmente impracticable trabajar de esta forma.\n",
    "\n",
    "Por eso Python provee ciertas estructuras de datos que nos van a facilitar trabajar con muchos valores del mismo tipo."
   ]
  },
  {
   "cell_type": "markdown",
   "id": "a87e59a0",
   "metadata": {},
   "source": [
    "## Listas\n",
    "\n",
    "### ¿Qué es una lista?\n",
    "\n",
    "El siguiente bloque de código genera una lista con los números 1, 2, 3, 4, y 5."
   ]
  },
  {
   "cell_type": "code",
   "execution_count": 34,
   "metadata": {},
   "outputs": [
    {
     "data": {
      "text/plain": [
       "[1, 2, 3, 4, 5]"
      ]
     },
     "execution_count": null,
     "metadata": {},
     "output_type": "execute_result"
    }
   ],
   "source": [
    "[1, 2, 3, 4, 5]"
   ]
  },
  {
   "cell_type": "markdown",
   "id": "120b80ce",
   "metadata": {},
   "source": [
    "Una definición concisa de una lista en Python es\n",
    "\n",
    "* Una lista es una _secuencia ordenada de objetos_. \n",
    "\n",
    "Siendo menos técnicos, podemos decir\n",
    "\n",
    "* Una lista es un objeto que contiene otros objetos en un orden determinado.\n",
    "\n",
    "Las listas son muy utilizadas en Python. Programar en Python implica crear y manipular listas todo el tiempo.\n",
    "\n",
    "Así que si queremos ser buenos Pythonistas, a aprender listas!"
   ]
  },
  {
   "cell_type": "markdown",
   "id": "350f8c8c",
   "metadata": {},
   "source": [
    "### ¿Cómo se crea una lista?\n",
    "\n",
    "Las listas en Python se crean utilizando corchetes `[]`. \n",
    "\n",
    "Simplemente escribimos los objetos de a uno dentro de los corchetes, separado por una coma.\n",
    "\n",
    "De la misma forma que convertiamos objetos a `str` usando `str()` o a `int` usando `int()`, también es posible convertir otros objetos en una lista utilizando `list()`.\n",
    "\n",
    "Vamos a comenzar creando listas con `[]`, y mas adelante vamos a ver como podemos utilizar `list()`."
   ]
  },
  {
   "cell_type": "markdown",
   "id": "10288a61",
   "metadata": {},
   "source": [
    "Supongamos que queremos crear una lista que contenga los tipos de automóviles más populares.\n",
    "\n",
    "* Sedán\n",
    "* Hatchback\n",
    "* Coupé\n",
    "* Berlina\n",
    "* SUV\n",
    "* Pick Up"
   ]
  },
  {
   "cell_type": "code",
   "execution_count": 35,
   "id": "e7be4e08",
   "metadata": {},
   "outputs": [
    {
     "name": "stdout",
     "output_type": "stream",
     "text": [
      "['Sedán', 'Hatchback', 'Coupé', 'Berlina', 'SUV', 'Pick Up']\n"
     ]
    }
   ],
   "source": [
    "automoviles = [\"Sedán\", \"Hatchback\", \"Coupé\", \"Berlina\", \"SUV\", \"Pick Up\"]\n",
    "print(automoviles)"
   ]
  },
  {
   "cell_type": "markdown",
   "id": "bede3f06",
   "metadata": {},
   "source": [
    "Al imprimir la lista, Python nos devuelve una representación muy similar a la que utilizamos para crearla, incluyendo los corchetes y las comas.\n",
    "\n",
    "<!-- **Algunas sugerencias**\n",
    "\n",
    "* Utilizamos un nombre evocativo.\n",
    "* Utilizamos un nombre en plural.\n",
    "* El nombre no es una abreviación. -->\n",
    "\n",
    "Como lo indica su nombre, las listas son objetos del tipo `list`."
   ]
  },
  {
   "cell_type": "code",
   "execution_count": 36,
   "metadata": {},
   "outputs": [
    {
     "data": {
      "text/plain": [
       "list"
      ]
     },
     "execution_count": null,
     "metadata": {},
     "output_type": "execute_result"
    }
   ],
   "source": [
    "type(automoviles)"
   ]
  },
  {
   "cell_type": "markdown",
   "id": "7791e7e0",
   "metadata": {},
   "source": [
    "Sino existieran las listas, tendríamos que haber creado una variable para cada valor."
   ]
  },
  {
   "cell_type": "code",
   "execution_count": 37,
   "id": "abc5d8cb",
   "metadata": {},
   "outputs": [],
   "source": [
    "auto1 = \"Sedán\"\n",
    "auto2 = \"Hatchback\"\n",
    "auto3 = \"Coupé\"\n",
    "auto4 = \"Berlina\"\n",
    "auto5 = \"SUV\"\n",
    "auto6 = \"Pick Up\""
   ]
  },
  {
   "cell_type": "markdown",
   "id": "c24cf92b",
   "metadata": {},
   "source": [
    "En este caso, crear algunas variables puede no aparentar ser un problema ya que no parece ser tanto trabajo.\n",
    "\n",
    "Sin embargo, este patrón puede traernos muchos dolores de cabeza y no nos permite aprovechar ninguna de las ventajas asociadas a las listas."
   ]
  },
  {
   "cell_type": "markdown",
   "id": "64d6b81a",
   "metadata": {},
   "source": [
    "### ¿Qué tipos de objetos se pueden poner en una lista?\n",
    "\n",
    "Una lista de Python puede contener **cualquier tipo de objeto** de Python. Incluso **se pueden mezclar más de un tipo** a la vez.\n",
    "\n",
    "Si pensamos en los tipos de datos que vimos hasta ahora, podemos decir que una lista puede contener números, cadenas de texto, booleanos, e incluso el valor nulo.\n",
    "\n",
    "La siguiente lista contiene elementos de 4 tipos distintos."
   ]
  },
  {
   "cell_type": "code",
   "execution_count": 38,
   "metadata": {},
   "outputs": [
    {
     "data": {
      "text/plain": [
       "[1, 'dos', True, None, 'dos']"
      ]
     },
     "execution_count": null,
     "metadata": {},
     "output_type": "execute_result"
    }
   ],
   "source": [
    "popurri = [1, \"dos\", True, None, \"dos\"]\n",
    "popurri"
   ]
  },
  {
   "cell_type": "markdown",
   "id": "fb1f4588",
   "metadata": {},
   "source": [
    "A pesar de que una lista puede mezclar objetos de distinto tipo, en general vamos a trabajar con listas donde todos sus objetos son del mismo tipo."
   ]
  },
  {
   "cell_type": "markdown",
   "id": "55c57824",
   "metadata": {},
   "source": [
    "### ¿Qué significa que una lista sea _ordenada_?\n",
    "\n",
    "Veamos las siguientes listas\n",
    "\n",
    "* `[1, 2, 3]`\n",
    "* `[2, 1, 3]`\n",
    "\n",
    "**¿Son iguales?**\n",
    "\n",
    "Para decir si las listas son iguales tenemos que responder las siguientes preguntas\n",
    "\n",
    "1. ¿Contienen los mismos objetos?\n",
    "2. ¿Se encuentran en el mismo orden?"
   ]
  },
  {
   "cell_type": "code",
   "execution_count": 39,
   "metadata": {},
   "outputs": [
    {
     "data": {
      "text/plain": [
       "False"
      ]
     },
     "execution_count": null,
     "metadata": {},
     "output_type": "execute_result"
    }
   ],
   "source": [
    "[1, 2, 3] == [2, 1, 3]"
   ]
  },
  {
   "cell_type": "code",
   "execution_count": 40,
   "id": "a1d26632",
   "metadata": {},
   "outputs": [
    {
     "data": {
      "text/plain": [
       "True"
      ]
     },
     "execution_count": null,
     "metadata": {},
     "output_type": "execute_result"
    }
   ],
   "source": [
    "[1, 2, 3] == [1, 2, 3]"
   ]
  },
  {
   "cell_type": "markdown",
   "id": "6ccae8d2",
   "metadata": {},
   "source": [
    "**¿Son el mismo objeto?**"
   ]
  },
  {
   "cell_type": "markdown",
   "id": "7120bcab",
   "metadata": {},
   "source": [
    "**¿Conclusión?**\n",
    "\n",
    "Para que dos listas sean iguales no alcanza con que tengan los mismos objetos. También tienen que estar en el mismo orden. \n",
    "\n",
    "**La posición de los elementos importa**."
   ]
  },
  {
   "cell_type": "markdown",
   "id": "c6c4cc00",
   "metadata": {},
   "source": [
    "### Acceder a los elementos de una lista\n",
    "\n",
    "* Dado que una lista es una secuencia ordenada, y cada objeto tiene una posición determinada, podemos acceder a cualquiera de los elementos de la lista a través de la posición del objeto que deseamos.\n",
    "\n",
    "* La posición del objeto se conoce como _índice_ (o _index_ en inglés).\n",
    "\n",
    "* Para acceder a un elemento de una lista escribimos el nombre de la lista seguido de la posición del objeto que queremos seleccionar dentro de corchetes `[]`.\n",
    "\n",
    "Veamos un ejemplo utilizando la lista `automoviles` que creamos anteriormente."
   ]
  },
  {
   "cell_type": "code",
   "execution_count": 41,
   "id": "ff79762b",
   "metadata": {},
   "outputs": [
    {
     "data": {
      "text/plain": [
       "['Sedán', 'Hatchback', 'Coupé', 'Berlina', 'SUV', 'Pick Up']"
      ]
     },
     "execution_count": null,
     "metadata": {},
     "output_type": "execute_result"
    }
   ],
   "source": [
    "automoviles = [\"Sedán\", \"Hatchback\", \"Coupé\", \"Berlina\", \"SUV\", \"Pick Up\"]\n",
    "automoviles"
   ]
  },
  {
   "cell_type": "markdown",
   "id": "08197e4a",
   "metadata": {},
   "source": [
    "Intentemos seleccionar el primer objeto de la lista:"
   ]
  },
  {
   "cell_type": "code",
   "execution_count": 42,
   "id": "fe3b39ad",
   "metadata": {},
   "outputs": [
    {
     "data": {
      "text/plain": [
       "'Hatchback'"
      ]
     },
     "execution_count": null,
     "metadata": {},
     "output_type": "execute_result"
    }
   ],
   "source": [
    "automoviles[1]"
   ]
  },
  {
   "cell_type": "markdown",
   "id": "f26622ec",
   "metadata": {},
   "source": [
    "Cuando seleccionamos un elemento individual de la lista \"perdemos\" los corchetes. \n",
    "\n",
    "Esto sucede porque al seleccionar un único objeto el resultado no es una lista, sino que es del tipo del elemento que queriamos obtener.\n",
    "\n",
    "Esto significa que, por ejemplo, podemos utilizar los métodos de las cadenas de caracteres que vimos anteriormente."
   ]
  },
  {
   "cell_type": "code",
   "execution_count": 43,
   "id": "a60648aa",
   "metadata": {},
   "outputs": [
    {
     "data": {
      "text/plain": [
       "'HATCHBACK'"
      ]
     },
     "execution_count": null,
     "metadata": {},
     "output_type": "execute_result"
    }
   ],
   "source": [
    "automoviles[1].upper()"
   ]
  },
  {
   "cell_type": "code",
   "execution_count": 44,
   "id": "e4109146",
   "metadata": {},
   "outputs": [
    {
     "data": {
      "text/plain": [
       "'¿Sabías que el Gol Trend es un Hatchback?'"
      ]
     },
     "execution_count": null,
     "metadata": {},
     "output_type": "execute_result"
    }
   ],
   "source": [
    "f\"¿Sabías que el Gol Trend es un {automoviles[1]}?\""
   ]
  },
  {
   "cell_type": "markdown",
   "id": "e3adf8e6",
   "metadata": {},
   "source": [
    "**El índice en Python empieza en 0, no en 1**\n",
    "\n",
    "Si observamos nuevamente lo que acabamos de hacer, vemos que `automoviles[1]` devolvió `\"Hatchback\"`, que es el elemento de la segunda posición, en vez de `\"Sedán\"`, que está en primer lugar.\n",
    "\n",
    "**¿Por qué?**\n",
    "\n",
    "* **Super importante:** Los índices en Python empiezan en 0. \n",
    "\n",
    "* Si una lista contiene 6 elementos, los indices van desde 0 a 5.\n",
    "\n",
    "* En otras palabras\n",
    "    + El primer valor es el de la posición **0**.\n",
    "    + El último valor es el de la posición **n - 1**."
   ]
  },
  {
   "cell_type": "code",
   "execution_count": 45,
   "id": "71d72249",
   "metadata": {},
   "outputs": [
    {
     "data": {
      "text/plain": [
       "'Sedán'"
      ]
     },
     "execution_count": null,
     "metadata": {},
     "output_type": "execute_result"
    }
   ],
   "source": [
    "automoviles[0]"
   ]
  },
  {
   "cell_type": "code",
   "execution_count": 46,
   "id": "051c761a",
   "metadata": {},
   "outputs": [
    {
     "data": {
      "text/plain": [
       "'Pick Up'"
      ]
     },
     "execution_count": null,
     "metadata": {},
     "output_type": "execute_result"
    }
   ],
   "source": [
    "automoviles[5]"
   ]
  },
  {
   "cell_type": "markdown",
   "id": "1c464fb0",
   "metadata": {},
   "source": [
    "![](../imgs/lista_indice.png){fig-align=\"center\" width=\"700px\"}"
   ]
  },
  {
   "cell_type": "markdown",
   "id": "5f562e86",
   "metadata": {},
   "source": [
    "Python también permite utilizar valores negativos como índices para seleccionar elemento.\n",
    "\n",
    "* El índice `-1` indica el último elemento.\n",
    "* El índice `-2` indica el penúltimo elemento.\n",
    "* Etcétera"
   ]
  },
  {
   "cell_type": "code",
   "execution_count": 47,
   "id": "5d46eba4",
   "metadata": {},
   "outputs": [
    {
     "data": {
      "text/plain": [
       "'Pick Up'"
      ]
     },
     "execution_count": null,
     "metadata": {},
     "output_type": "execute_result"
    }
   ],
   "source": [
    "automoviles[-1]"
   ]
  },
  {
   "cell_type": "code",
   "execution_count": 48,
   "id": "a0e23d12",
   "metadata": {},
   "outputs": [
    {
     "data": {
      "text/plain": [
       "'SUV'"
      ]
     },
     "execution_count": null,
     "metadata": {},
     "output_type": "execute_result"
    }
   ],
   "source": [
    "automoviles[-2]"
   ]
  },
  {
   "cell_type": "markdown",
   "id": "e923092a",
   "metadata": {},
   "source": [
    "![](../imgs/lista_indice_invertido.png){fig-align=\"center\" width=\"700px\"}"
   ]
  },
  {
   "cell_type": "markdown",
   "id": "7e659ff5",
   "metadata": {},
   "source": [
    "### Acceder a sub-listas\n",
    "\n",
    "Vimos que si utilizamos corchetes y un único número accedemos al objeto en esa posición. \n",
    "\n",
    "Podemos plantearnos las siguientes preguntas:\n",
    "\n",
    "* ¿Es posible acceder a más de un elemento a la vez?\n",
    "* ¿Cómo lo hacemos?\n",
    "* Qué tipo de objeto se nos devuelve?\n",
    "\n",
    "La respuesta es que es posible acceder a más de un elemento de una lista a la vez. \n",
    "\n",
    "Para ello se utilizan _slices_. Los _slices_ se crean con `:`. \n",
    "\n",
    "A la izquierda va el índice donde comienza el _slice_ y a la derecha el índice donde termina.\n",
    "\n",
    "Por ejemplo:\n",
    "* `2:4`\n",
    "* `1:6`\n",
    "* etc.\n",
    "\n",
    "El resultado será una lista."
   ]
  },
  {
   "cell_type": "code",
   "execution_count": 49,
   "id": "2fdc1835",
   "metadata": {},
   "outputs": [
    {
     "data": {
      "text/plain": [
       "['Hatchback', 'Coupé', 'Berlina']"
      ]
     },
     "execution_count": null,
     "metadata": {},
     "output_type": "execute_result"
    }
   ],
   "source": [
    "automoviles[1:4]"
   ]
  },
  {
   "cell_type": "markdown",
   "id": "47ca1756",
   "metadata": {},
   "source": [
    "![](../imgs/lista_slicing_0.png){fig-align=\"center\" width=\"700px\"}"
   ]
  },
  {
   "cell_type": "markdown",
   "id": "19016b1e",
   "metadata": {},
   "source": [
    "Los _slices_ incluyen al primer elemento, pero no al último. \n",
    "\n",
    "Es decir, el _slice_ `1:4` nos devuelve una lista con los indices 1, 2 y 3. \n",
    "\n",
    "Por eso, obtuvimos 3 elementos y en vez de 4.\n",
    "\n",
    "Esto es lo que hace que el siguiente código funcione:"
   ]
  },
  {
   "cell_type": "code",
   "execution_count": 50,
   "id": "1322e7c9",
   "metadata": {},
   "outputs": [
    {
     "data": {
      "text/plain": [
       "['SUV', 'Pick Up']"
      ]
     },
     "execution_count": null,
     "metadata": {},
     "output_type": "execute_result"
    }
   ],
   "source": [
    "automoviles[4:6]"
   ]
  },
  {
   "cell_type": "markdown",
   "id": "7b9cb2b3",
   "metadata": {},
   "source": [
    "A pesar de que el último índice es 5, pudimos poner 6 como el límite superior del _slice_, ya que no se incluye."
   ]
  },
  {
   "cell_type": "markdown",
   "id": "4874acb4",
   "metadata": {},
   "source": [
    "![](../imgs/lista_slicing_3.png){fig-align=\"center\" width=\"700px\"}"
   ]
  },
  {
   "cell_type": "markdown",
   "id": "8d17638e",
   "metadata": {},
   "source": [
    "Los _slices_ se pueden simplificar de la siguiente manera.\n",
    "\n",
    "* `0:numero` es equivalente a `:numero`.\n",
    "* `numero:longitud_lista` es equivalente a `numero:`\n",
    "\n",
    "donde `longitud_lista` es la cantidad de elementos que tenemos en la lista."
   ]
  },
  {
   "cell_type": "code",
   "execution_count": 51,
   "id": "2bf9bf5c",
   "metadata": {},
   "outputs": [
    {
     "data": {
      "text/plain": [
       "['Sedán', 'Hatchback', 'Coupé']"
      ]
     },
     "execution_count": null,
     "metadata": {},
     "output_type": "execute_result"
    }
   ],
   "source": [
    "automoviles[:3]"
   ]
  },
  {
   "cell_type": "markdown",
   "id": "737f9715",
   "metadata": {},
   "source": [
    "![](../imgs/lista_slicing_1.png){fig-align=\"center\" width=\"700px\"}"
   ]
  },
  {
   "cell_type": "code",
   "execution_count": 52,
   "id": "5d26a61a",
   "metadata": {},
   "outputs": [
    {
     "data": {
      "text/plain": [
       "['Berlina', 'SUV', 'Pick Up']"
      ]
     },
     "execution_count": null,
     "metadata": {},
     "output_type": "execute_result"
    }
   ],
   "source": [
    "automoviles[3:]"
   ]
  },
  {
   "cell_type": "markdown",
   "id": "2e02bb55",
   "metadata": {},
   "source": [
    "![](../imgs/lista_slicing_2.png){fig-align=\"center\" width=\"700px\"}"
   ]
  },
  {
   "cell_type": "markdown",
   "id": "3e6268dd",
   "metadata": {},
   "source": [
    "### Modificar, agregar y eliminar elementos\n",
    "\n",
    "* En general, nuestros programas utilizan las listas como **objetos dinámicos**.\n",
    " \n",
    "* A lo largo de un programa se suelen modificar, agregar, y eliminar elementos de una lista.\n",
    "\n",
    "Supongamos que tenemos una página web donde los usuarios se pueden registrar. \n",
    "\n",
    "Tiene sentido que tengamos una lista donde guardemos los nombres de los usuarios.\n",
    "\n",
    "Con el pasar del tiempo, es de esperar que se vayan creando nuevos usuarios, que otros se den de baja, o que incluso otros decidan cambiar su nombre de usuario.\n",
    "\n",
    "Esto equivale a **agregar** usuarios a la lista, **eliminar** usuarios de la lista, y **modificar** elementos de la lista."
   ]
  },
  {
   "cell_type": "markdown",
   "id": "ca3f5735",
   "metadata": {},
   "source": [
    "#### Modificar elementos\n",
    "\n",
    "Para modificar un elemento se utiliza una sintáxis muy similar a la que utilizamos para acceder a un elemento.\n",
    "\n",
    "Escribimos el nombre de la lista seguido del índice del objeto que queremos modificar y el valor que queremos asignar.\n",
    "\n",
    "Supongamos que tenemos una lista con diferentes marcas de motos "
   ]
  },
  {
   "cell_type": "code",
   "execution_count": 53,
   "id": "b3a07c16",
   "metadata": {},
   "outputs": [
    {
     "data": {
      "text/plain": [
       "['honda', 'yamaha', 'suzuki']"
      ]
     },
     "execution_count": null,
     "metadata": {},
     "output_type": "execute_result"
    }
   ],
   "source": [
    "marcas = [\"honda\", \"yamaha\", \"suzuki\"]\n",
    "marcas"
   ]
  },
  {
   "cell_type": "markdown",
   "id": "d4b139d9",
   "metadata": {},
   "source": [
    "¿Cómo hacemos para cambiar el valor del primer elemento? "
   ]
  },
  {
   "cell_type": "code",
   "execution_count": 54,
   "id": "4c29711a",
   "metadata": {},
   "outputs": [
    {
     "data": {
      "text/plain": [
       "['ducati', 'yamaha', 'suzuki']"
      ]
     },
     "execution_count": null,
     "metadata": {},
     "output_type": "execute_result"
    }
   ],
   "source": [
    "marcas[0] = \"ducati\"\n",
    "marcas"
   ]
  },
  {
   "cell_type": "markdown",
   "id": "9c45e155",
   "metadata": {},
   "source": [
    "La salida muestra que el primer elemento de la lista cambió y que el resto se mantuvo sin cambios.\n",
    "\n",
    "De esta manera podríamos modificar el valor de cualquier elemento de la lista."
   ]
  },
  {
   "cell_type": "markdown",
   "id": "45abcf8e",
   "metadata": {},
   "source": [
    "![](../imgs/lista_asignacion.png){fig-align=\"center\" width=\"500px\"}"
   ]
  },
  {
   "cell_type": "markdown",
   "id": "5f765aa7",
   "metadata": {},
   "source": [
    "#### Agregar elementos\n",
    "\n",
    "Ahora vamos a aprender a agregar elementos a una lista existente.\n",
    "\n",
    "Python nos permite realizar esta tarea de varias maneras.\n",
    "\n",
    "Supongamos que tenemos la tarea de crear una lista con los nombres de las ciudades del Gran Rosario.\n",
    "\n",
    "Para ello, vamos a utilizar el siguiente mapa y diferentes métodos para agregar elementos a una lista."
   ]
  },
  {
   "cell_type": "markdown",
   "id": "650998dc",
   "metadata": {},
   "source": [
    "![](../imgs/gran_rosario.png){fig-align=\"center\" width=\"400px\"}"
   ]
  },
  {
   "cell_type": "markdown",
   "id": "e63356e8",
   "metadata": {},
   "source": [
    "Primero vamos a armar una lista que va a contener los vecinos de Rosario, solo considerando a aquellas localidades que limitan con Rosario.\n",
    "\n",
    "Supongamos que comenzamos con una lista que contiene solo a la localidad de Funes."
   ]
  },
  {
   "cell_type": "code",
   "execution_count": 55,
   "id": "0ea140e2",
   "metadata": {},
   "outputs": [
    {
     "data": {
      "text/plain": [
       "['Funes']"
      ]
     },
     "execution_count": null,
     "metadata": {},
     "output_type": "execute_result"
    }
   ],
   "source": [
    "vecinos_de_rosario = [\"Funes\"]\n",
    "vecinos_de_rosario"
   ]
  },
  {
   "cell_type": "markdown",
   "id": "ce164ed3",
   "metadata": {},
   "source": [
    "##### Agregar elementos al final de la lista\n",
    "\n",
    "La manera mas sencilla de agregar un nuevo elemento a una lista es utilizando `.append()`.\n",
    "\n",
    "`.append()` recibe un nuevo elemento y lo agrega al final de la lista. "
   ]
  },
  {
   "cell_type": "code",
   "execution_count": 56,
   "id": "54c8dbf6",
   "metadata": {},
   "outputs": [
    {
     "data": {
      "text/plain": [
       "['Funes', 'Soldini']"
      ]
     },
     "execution_count": null,
     "metadata": {},
     "output_type": "execute_result"
    }
   ],
   "source": [
    "vecinos_de_rosario.append(\"Soldini\")\n",
    "vecinos_de_rosario"
   ]
  },
  {
   "cell_type": "markdown",
   "id": "8ba7d033",
   "metadata": {},
   "source": [
    "`.append()` agregó `\"Soldini\"` como el último elemento de la lista.\n",
    "\n",
    "La operación no devuelve una nueva lista, sino que **modifica la lista existente**. Por eso no tuvimos que asignar el resultado a una nueva variable.\n",
    "\n",
    "Esto nos permite comenzar con una lista vacía e ir agregando elementos de a uno de manera ordenada.\n",
    "\n",
    "Por ejemplo:"
   ]
  },
  {
   "cell_type": "code",
   "execution_count": 57,
   "id": "eb71d897",
   "metadata": {},
   "outputs": [
    {
     "name": "stdout",
     "output_type": "stream",
     "text": [
      "[]\n",
      "['Funes']\n",
      "['Funes', 'Soldini']\n"
     ]
    }
   ],
   "source": [
    "vecinos_de_rosario = []\n",
    "print(vecinos_de_rosario)\n",
    "\n",
    "vecinos_de_rosario.append(\"Funes\")\n",
    "print(vecinos_de_rosario)\n",
    "\n",
    "vecinos_de_rosario.append(\"Soldini\")\n",
    "print(vecinos_de_rosario)"
   ]
  },
  {
   "cell_type": "markdown",
   "id": "3e16a6fa",
   "metadata": {},
   "source": [
    "##### Insertar elementos en cualquier posición de una lista\n",
    "\n",
    "Para insertar elementos en una lista también podemos utilizar `.insert()`.\n",
    "\n",
    "¿Cuál es la diferencia entre `.append()` e `.insert()`?\n",
    "\n",
    "* `.append()` nos permite agregar elementos al final de una lista.\n",
    "\n",
    "* `.insert()` nos permite insertar un elemento en una posición cualquiera.\n",
    "\n",
    "Supongamos que queremos meter `\"Villa Gobernador Gálvez\"` en el principio de la lista."
   ]
  },
  {
   "cell_type": "code",
   "execution_count": 58,
   "id": "42ada362",
   "metadata": {},
   "outputs": [
    {
     "data": {
      "text/plain": [
       "['Villa Gobernador Gálvez', 'Funes', 'Soldini']"
      ]
     },
     "execution_count": null,
     "metadata": {},
     "output_type": "execute_result"
    }
   ],
   "source": [
    "vecinos_de_rosario.insert(0, \"Villa Gobernador Gálvez\")\n",
    "vecinos_de_rosario"
   ]
  },
  {
   "cell_type": "markdown",
   "id": "f7764c6f",
   "metadata": {},
   "source": [
    "`.insert()` agregó a `\"Villa Gobernador Gálvez\"` en el inicio de la lista y corrió o trasladó al resto de los elementos hacia la derecha."
   ]
  },
  {
   "cell_type": "markdown",
   "id": "50e558a8",
   "metadata": {},
   "source": [
    "Y si ahora queremos agregar a `\"Pérez\"` en la tercera posición de la lista, podemos hacer"
   ]
  },
  {
   "cell_type": "code",
   "execution_count": 59,
   "id": "f2768e0f",
   "metadata": {},
   "outputs": [
    {
     "data": {
      "text/plain": [
       "['Villa Gobernador Gálvez', 'Funes', 'Pérez', 'Soldini']"
      ]
     },
     "execution_count": null,
     "metadata": {},
     "output_type": "execute_result"
    }
   ],
   "source": [
    "vecinos_de_rosario.insert(2, \"Pérez\")\n",
    "vecinos_de_rosario"
   ]
  },
  {
   "cell_type": "markdown",
   "id": "76aa8eb2",
   "metadata": {},
   "source": [
    "Al igual que `.append()`, `.insert()` también modifica la lista existente en vez de devolver una lista nueva."
   ]
  },
  {
   "cell_type": "markdown",
   "id": "5967162b",
   "metadata": {},
   "source": [
    "#### Combinar listas\n",
    "\n",
    "En la sección anterior vimos como **insertar elementos** en una lista. \n",
    "\n",
    "Ahora vamos a ver como **combinar dos o mas listas**.\n",
    "\n",
    "Una forma de combinar listas es utilizando `.extend()`.\n",
    "\n",
    "Tenemos una lista que se llama `vecinos_al_norte` y la queremos agregar a (o combinar con) la lista `vecinos_de_rosario`."
   ]
  },
  {
   "cell_type": "code",
   "execution_count": 60,
   "id": "dcb74c2a",
   "metadata": {},
   "outputs": [
    {
     "name": "stdout",
     "output_type": "stream",
     "text": [
      "['Villa Gobernador Gálvez', 'Funes', 'Pérez', 'Soldini']\n"
     ]
    }
   ],
   "source": [
    "print(vecinos_de_rosario)"
   ]
  },
  {
   "cell_type": "code",
   "execution_count": 61,
   "id": "656677aa",
   "metadata": {},
   "outputs": [
    {
     "data": {
      "text/plain": [
       "['Villa Gobernador Gálvez',\n",
       " 'Funes',\n",
       " 'Pérez',\n",
       " 'Soldini',\n",
       " 'Granadero Baigorria',\n",
       " 'Ibarlucea']"
      ]
     },
     "execution_count": null,
     "metadata": {},
     "output_type": "execute_result"
    }
   ],
   "source": [
    "vecinos_al_norte = [\"Granadero Baigorria\", \"Ibarlucea\"]\n",
    "vecinos_de_rosario.extend(vecinos_al_norte)\n",
    "vecinos_de_rosario"
   ]
  },
  {
   "cell_type": "markdown",
   "id": "33517043",
   "metadata": {},
   "source": [
    "De la misma manera que `.append()` insertaba un elemento al final de una lista, `.extend()` agrega una lista completa al final de otra.\n",
    "\n",
    "Otra opción es combinar listas con el operador de suma `+`.\n",
    "\n",
    "Para ver como funciona, primero construimos una lista llamada `otras_localidades` que contiene localidades del Gran Rosario que no están pegadas a Rosario."
   ]
  },
  {
   "cell_type": "code",
   "execution_count": 62,
   "id": "d9a2b5cd",
   "metadata": {},
   "outputs": [],
   "source": [
    "otras_localidades = [\n",
    "    \"Puerto San Martín\",\n",
    "    \"San Lorenzo\",\n",
    "    \"Fray Luis Beltrán\",\n",
    "    \"Capitán Bermudez\",\n",
    "    \"Ricardone\",\n",
    "    \"Roldán\",\n",
    "    \"Alvear\",\n",
    "    \"Pueblo Esther\",\n",
    "    \"General Lagos\",\n",
    "    \"Arroyo Seco\"\n",
    "]"
   ]
  },
  {
   "cell_type": "markdown",
   "id": "f9694ab7",
   "metadata": {},
   "source": [
    "Ahora podemos \"pegar\" o \"combinar\" ambas listas utilizando el operador de suma `+`."
   ]
  },
  {
   "cell_type": "code",
   "execution_count": 63,
   "id": "1979563a",
   "metadata": {},
   "outputs": [
    {
     "data": {
      "text/plain": [
       "['Villa Gobernador Gálvez',\n",
       " 'Funes',\n",
       " 'Pérez',\n",
       " 'Soldini',\n",
       " 'Granadero Baigorria',\n",
       " 'Ibarlucea',\n",
       " 'Puerto San Martín',\n",
       " 'San Lorenzo',\n",
       " 'Fray Luis Beltrán',\n",
       " 'Capitán Bermudez',\n",
       " 'Ricardone',\n",
       " 'Roldán',\n",
       " 'Alvear',\n",
       " 'Pueblo Esther',\n",
       " 'General Lagos',\n",
       " 'Arroyo Seco']"
      ]
     },
     "execution_count": null,
     "metadata": {},
     "output_type": "execute_result"
    }
   ],
   "source": [
    "vecinos_de_rosario + otras_localidades"
   ]
  },
  {
   "cell_type": "markdown",
   "id": "f065f346",
   "metadata": {},
   "source": [
    "Pero utilizar `.extend()` y `+` no es exactamente lo mismo...\n",
    "\n",
    "* `.extend()` modifica una lista existente.\n",
    "* `+` genera una nueva lista.\n",
    "\n",
    "Por eso, cuando utilizamos `+` tenemos que asignar el resultado a una variable nueva (si es que la queremos utilizar para algo más).\n",
    "\n",
    "Si volvemos a imprimir `vecinos_de_rosario` podemos ver que la lista no fue modificada."
   ]
  },
  {
   "cell_type": "code",
   "execution_count": 64,
   "id": "b9274b89",
   "metadata": {},
   "outputs": [
    {
     "data": {
      "text/plain": [
       "['Villa Gobernador Gálvez',\n",
       " 'Funes',\n",
       " 'Pérez',\n",
       " 'Soldini',\n",
       " 'Granadero Baigorria',\n",
       " 'Ibarlucea']"
      ]
     },
     "execution_count": null,
     "metadata": {},
     "output_type": "execute_result"
    }
   ],
   "source": [
    "vecinos_de_rosario"
   ]
  },
  {
   "cell_type": "markdown",
   "id": "afcbd656",
   "metadata": {},
   "source": [
    "Sin embargo, podemos asignar el resultado de la operación `+` a una nueva variable que llamaremos `gran_rosario`."
   ]
  },
  {
   "cell_type": "code",
   "execution_count": 65,
   "id": "6a0374a7",
   "metadata": {},
   "outputs": [
    {
     "data": {
      "text/plain": [
       "['Villa Gobernador Gálvez',\n",
       " 'Funes',\n",
       " 'Pérez',\n",
       " 'Soldini',\n",
       " 'Granadero Baigorria',\n",
       " 'Ibarlucea',\n",
       " 'Puerto San Martín',\n",
       " 'San Lorenzo',\n",
       " 'Fray Luis Beltrán',\n",
       " 'Capitán Bermudez',\n",
       " 'Ricardone',\n",
       " 'Roldán',\n",
       " 'Alvear',\n",
       " 'Pueblo Esther',\n",
       " 'General Lagos',\n",
       " 'Arroyo Seco']"
      ]
     },
     "execution_count": null,
     "metadata": {},
     "output_type": "execute_result"
    }
   ],
   "source": [
    "gran_rosario = vecinos_de_rosario + otras_localidades\n",
    "gran_rosario"
   ]
  },
  {
   "cell_type": "markdown",
   "id": "f64f4125",
   "metadata": {},
   "source": [
    "#### Eliminar elementos de una lista\n",
    "\n",
    "Así como es muy común agregar elementos a una lista o combinar listas para crear nuevas listas, también es muy común eliminar elementos de las mismas.\n",
    "\n",
    "Por ejemplo, supongamos que tenemos una página web y guardamos los nombres de los usuarios en una lista.\n",
    "\n",
    "Si un usuario se da de baja, necesitamos eliminar su nombre de la lista de usuarios.\n",
    "\n",
    "Vamos a crear una lista de supuestos `usuarios`."
   ]
  },
  {
   "cell_type": "code",
   "execution_count": 66,
   "id": "d39fb43c",
   "metadata": {},
   "outputs": [
    {
     "data": {
      "text/plain": [
       "['user123', 'marti', 'el_mas_capo', 'usuario', 'anonymous']"
      ]
     },
     "execution_count": null,
     "metadata": {},
     "output_type": "execute_result"
    }
   ],
   "source": [
    "usuarios = [\"user123\", \"marti\", \"el_mas_capo\", \"usuario\", \"anonymous\"]\n",
    "usuarios"
   ]
  },
  {
   "cell_type": "markdown",
   "id": "43682f35",
   "metadata": {},
   "source": [
    "##### Eliminar elementos utilizando `del`\n",
    "\n",
    "La sentencia `del` que utilizamos para eliminar variables también sirve para eliminar elementos de una lista.\n",
    "\n",
    "Para eso tenemos que saber la posición del elemento que queremos eliminar.\n",
    "\n",
    "Por ejemplo, eliminemos a `\"anonymous\"`, que está en la segunda posición."
   ]
  },
  {
   "cell_type": "code",
   "execution_count": 67,
   "id": "877f85d6",
   "metadata": {},
   "outputs": [
    {
     "name": "stdout",
     "output_type": "stream",
     "text": [
      "['user123', 'marti', 'el_mas_capo', 'usuario', 'anonymous']\n",
      "['user123', 'marti', 'el_mas_capo', 'usuario']\n"
     ]
    }
   ],
   "source": [
    "print(usuarios)\n",
    "\n",
    "del usuarios[-1]\n",
    "print(usuarios)"
   ]
  },
  {
   "cell_type": "markdown",
   "id": "6e781d9f",
   "metadata": {},
   "source": [
    "**¿A dónde fue a parar el valor que eliminamos?**\n",
    "\n",
    "A ningún lado. \n",
    "\n",
    "Cuando borramos un elemento con la sentencia `del`, el valor simplemente desaparece y no lo podemos recuperar."
   ]
  },
  {
   "cell_type": "markdown",
   "id": "04778634",
   "metadata": {},
   "source": [
    "##### Eliminar elementos utilizando `.pop()`\n",
    "\n",
    "Si bien `del` permite eliminar elementos de una lista, no nos deja acceder al valor que está siendo eliminado.\n",
    "\n",
    "Frecuentemente, queremos tener acceso al valor que está siendo eliminado.\n",
    "\n",
    "Por ejemplo, en la lista de usuarios, podríamos obtener el nombre del usuario eliminado y agregarlo en una lista de usuarios borrados.\n",
    "\n",
    "Para esto tenemos el método `.pop()`. No solo elimina un elemento de la lista, sino que también lo devuelve."
   ]
  },
  {
   "cell_type": "code",
   "execution_count": 68,
   "id": "fd9cb723",
   "metadata": {},
   "outputs": [
    {
     "name": "stdout",
     "output_type": "stream",
     "text": [
      "el_mas_capo\n"
     ]
    }
   ],
   "source": [
    "usuarios = [\"user123\", \"marti\", \"el_mas_capo\", \"usuario\", \"anonymous\"]\n",
    "usuario_eliminado = usuarios.pop(2)\n",
    "print(usuario_eliminado)"
   ]
  },
  {
   "cell_type": "markdown",
   "id": "a154dfec",
   "metadata": {},
   "source": [
    "En resumen, `usuarios.pop(2)` busca el valor en la tercera posición, lo elimina, y lo devuelve.\n",
    "\n",
    "Es posible utilizar `.pop()` sin indicar la posición del elemento que queremos eliminar. \n",
    "\n",
    "Por defecto, elimina el último elemento de la lista."
   ]
  },
  {
   "cell_type": "code",
   "execution_count": 69,
   "id": "64d9d123",
   "metadata": {},
   "outputs": [
    {
     "name": "stdout",
     "output_type": "stream",
     "text": [
      "['user123', 'marti', 'el_mas_capo', 'usuario', 'anonymous']\n",
      "anonymous\n",
      "['user123', 'marti', 'el_mas_capo', 'usuario']\n",
      "usuario\n",
      "['user123', 'marti', 'el_mas_capo']\n"
     ]
    }
   ],
   "source": [
    "usuarios = [\"user123\", \"marti\", \"el_mas_capo\", \"usuario\", \"anonymous\"]\n",
    "print(usuarios)\n",
    "\n",
    "usuario_eliminado = usuarios.pop()\n",
    "print(usuario_eliminado)\n",
    "print(usuarios)\n",
    "\n",
    "usuario_eliminado = usuarios.pop()\n",
    "print(usuario_eliminado)\n",
    "print(usuarios)"
   ]
  },
  {
   "cell_type": "markdown",
   "id": "720c7580",
   "metadata": {},
   "source": [
    "Y podríamos continuar así hasta vaciar la lista."
   ]
  },
  {
   "cell_type": "markdown",
   "id": "5ef2f4f9",
   "metadata": {},
   "source": [
    "##### Eliminar elementos utilizando `.remove()`\n",
    "\n",
    "El método `.remove()` es útil para cuando queremos eliminar elementos de una lista en base a su valor, en vez de su posición."
   ]
  },
  {
   "cell_type": "code",
   "execution_count": 70,
   "id": "8007ce00",
   "metadata": {},
   "outputs": [
    {
     "name": "stdout",
     "output_type": "stream",
     "text": [
      "['user123', 'marti', 'el_mas_capo', 'usuario', 'anonymous']\n",
      "['marti', 'el_mas_capo', 'usuario', 'anonymous']\n"
     ]
    }
   ],
   "source": [
    "usuarios = [\"user123\", \"marti\", \"el_mas_capo\", \"usuario\", \"anonymous\"]\n",
    "print(usuarios)\n",
    "\n",
    "usuarios.remove(\"user123\")\n",
    "print(usuarios)"
   ]
  },
  {
   "cell_type": "markdown",
   "id": "b102303c",
   "metadata": {},
   "source": [
    "### Utilidades\n",
    "\n",
    "#### Ordenar listas\n",
    "\n",
    "Es frecuente que las listas sean creadas sin seguir un orden particular.\n",
    "\n",
    "En algunas ocasiones es de interés conservar los elementos en el orden que fueron introducidos en la lista.\n",
    "\n",
    "Pero también es posible que nos interese trabajar con datos ordenados (por ejemplo, para una presentación).\n",
    "\n",
    "En Python tenemos varias alternativas para ordenar listas."
   ]
  },
  {
   "cell_type": "markdown",
   "id": "882a1b82",
   "metadata": {},
   "source": [
    "#### Ordenar listas con `.sort()`\n",
    "\n",
    "`.sort()` es un método que sirve para ordenar listas de manera muy sencilla.\n",
    "\n",
    "Veamos un par de ejemplos rápidos."
   ]
  },
  {
   "cell_type": "code",
   "execution_count": 71,
   "id": "997235dd",
   "metadata": {},
   "outputs": [
    {
     "name": "stdout",
     "output_type": "stream",
     "text": [
      "['coca-cola', 'manaos', 'pepsi', 'secco']\n"
     ]
    }
   ],
   "source": [
    "marcas = [\"pepsi\", \"coca-cola\", \"manaos\", \"secco\"]\n",
    "marcas.sort()\n",
    "print(marcas)"
   ]
  },
  {
   "cell_type": "code",
   "execution_count": 72,
   "id": "cb5bf474",
   "metadata": {},
   "outputs": [
    {
     "name": "stdout",
     "output_type": "stream",
     "text": [
      "[70, 80, 100, 110]\n"
     ]
    }
   ],
   "source": [
    "precios = [100, 110, 80, 70]\n",
    "precios.sort()\n",
    "print(precios)"
   ]
  },
  {
   "cell_type": "code",
   "execution_count": 73,
   "id": "1d4c582b",
   "metadata": {},
   "outputs": [
    {
     "name": "stdout",
     "output_type": "stream",
     "text": [
      "['(', '**', '+', '/', '=']\n"
     ]
    }
   ],
   "source": [
    "simbolos = [\"+\", \"=\", \"/\", \"(\", \"**\"]\n",
    "simbolos.sort()\n",
    "print(simbolos)"
   ]
  },
  {
   "cell_type": "markdown",
   "id": "a6500d1b",
   "metadata": {},
   "source": [
    "Podemos concluir lo siguiente:\n",
    "\n",
    "* `.sort()` modifica la lista con la que estamos trabajando (no nos devuelve una nueva lista!!).\n",
    "* Por defecto, el ordenamiento se hace de menor a mayor.\n",
    "    + Las cadenas se ordenaron según la primera letra.\n",
    "    + Los números se ordenaron en orden creciente.\n",
    "\n",
    "Podemos decir que `.sort()` realiza un **orden permanente**. \n",
    "\n",
    "Como modifica la lista, una vez que utilizamos `.sort()`, no podemos recuperar la lista que teníamos originalmente."
   ]
  },
  {
   "cell_type": "markdown",
   "id": "91a8d8ce",
   "metadata": {},
   "source": [
    "**¿Cómo hacemos para ordenar de manera decreciente?**\n",
    "\n",
    "El método `.sort()` tiene un argumento llamado `reverse`. Si este valor es igual a `True`, el orden a seguir se revierte."
   ]
  },
  {
   "cell_type": "code",
   "execution_count": 74,
   "id": "2d4afea4",
   "metadata": {},
   "outputs": [
    {
     "name": "stdout",
     "output_type": "stream",
     "text": [
      "['secco', 'pepsi', 'manaos', 'coca-cola']\n"
     ]
    }
   ],
   "source": [
    "marcas = [\"pepsi\", \"coca-cola\", \"manaos\", \"secco\"]\n",
    "marcas.sort(reverse=True)\n",
    "print(marcas)"
   ]
  },
  {
   "cell_type": "code",
   "execution_count": 75,
   "id": "69964c45",
   "metadata": {},
   "outputs": [
    {
     "name": "stdout",
     "output_type": "stream",
     "text": [
      "[110, 100, 80, 70]\n"
     ]
    }
   ],
   "source": [
    "precios = [100, 110, 80, 70]\n",
    "precios.sort(reverse=True)\n",
    "print(precios)"
   ]
  },
  {
   "cell_type": "markdown",
   "id": "abc5c0ce",
   "metadata": {},
   "source": [
    "#### Ordenar listas con `sorted()`\n",
    "\n",
    "Al igual que el método `.sort()`, la función `sorted()` sirve para ordenar una lista.\n",
    "\n",
    "La gran diferencia es que `sorted()` no modifica la lista original, sino que devuelve una nueva lista.\n",
    "\n",
    "Esto nos permite conservar tanto la lista en su orden original como la lista ordenada.\n",
    "\n",
    "Veamos un par de ejemplos rápidos."
   ]
  },
  {
   "cell_type": "code",
   "execution_count": 76,
   "id": "94bfdc79",
   "metadata": {},
   "outputs": [
    {
     "name": "stdout",
     "output_type": "stream",
     "text": [
      "Esta es la lista original:\n",
      "['Counter Strike', 'The Sims', 'Age of Empires', 'League of Legends', 'Among Us']\n",
      "\n",
      "Esta es la lista ordenada:\n",
      "['Age of Empires', 'Among Us', 'Counter Strike', 'League of Legends', 'The Sims']\n"
     ]
    }
   ],
   "source": [
    "juegos = [\"Counter Strike\", \"The Sims\", \"Age of Empires\", \"League of Legends\", \"Among Us\"]\n",
    "juegos_ordenado = sorted(juegos)\n",
    "\n",
    "print(\"Esta es la lista original:\")\n",
    "print(juegos)\n",
    "\n",
    "print(\"\\nEsta es la lista ordenada:\")\n",
    "print(juegos_ordenado)"
   ]
  },
  {
   "cell_type": "markdown",
   "id": "b0c54b49",
   "metadata": {},
   "source": [
    "`sorted()` también tiene un argumento que determina el orden."
   ]
  },
  {
   "cell_type": "code",
   "execution_count": 77,
   "id": "575e720b",
   "metadata": {},
   "outputs": [
    {
     "data": {
      "text/plain": [
       "['The Sims',\n",
       " 'League of Legends',\n",
       " 'Counter Strike',\n",
       " 'Among Us',\n",
       " 'Age of Empires']"
      ]
     },
     "execution_count": null,
     "metadata": {},
     "output_type": "execute_result"
    }
   ],
   "source": [
    "sorted(juegos, reverse=True)"
   ]
  },
  {
   "cell_type": "markdown",
   "id": "ec33222b",
   "metadata": {},
   "source": [
    "La diferencia entre .sort y sorted() es que uno pisa la lista original y el otro no."
   ]
  },
  {
   "cell_type": "markdown",
   "id": "b1d31d5d",
   "metadata": {},
   "source": [
    "#### Invertir el orden con `.reverse()`\n",
    "\n",
    "Hasta ahora vimos como ordenar de menor a mayor y de mayor a menor.\n",
    "\n",
    "Otra operación frecuentemente utilizada es invertir el orden de la lista.\n",
    "\n",
    "Para esto podemos utilizar `.reverse()`.\n",
    "\n",
    "Esta operación modifica la lista de manera permanente."
   ]
  },
  {
   "cell_type": "code",
   "execution_count": 78,
   "id": "bd14695e",
   "metadata": {},
   "outputs": [
    {
     "name": "stdout",
     "output_type": "stream",
     "text": [
      "['secco', 'manaos', 'coca-cola', 'pepsi']\n"
     ]
    }
   ],
   "source": [
    "marcas = [\"pepsi\", \"coca-cola\", \"manaos\", \"secco\"]\n",
    "marcas.reverse()\n",
    "print(marcas)"
   ]
  },
  {
   "cell_type": "markdown",
   "id": "8c9f74bd",
   "metadata": {},
   "source": [
    "Si nos arrepentimos de haber invertido el orden, podemos usar `.reverse()` nuevamente y recuperamos el orden original."
   ]
  },
  {
   "cell_type": "code",
   "execution_count": 79,
   "id": "27ba72a8",
   "metadata": {},
   "outputs": [
    {
     "name": "stdout",
     "output_type": "stream",
     "text": [
      "['pepsi', 'coca-cola', 'manaos', 'secco']\n"
     ]
    }
   ],
   "source": [
    "marcas.reverse()\n",
    "print(marcas)"
   ]
  },
  {
   "cell_type": "markdown",
   "id": "be9e8be8",
   "metadata": {},
   "source": [
    "Así como tenemos `.sort()` y `sorted()`, pensando en `.reverse()`, ¿habrá un `reversed()`?\n",
    "\n",
    "La respuesta es sí. \n",
    "\n",
    "Sin embargo, el resultado de `reversed()` es un tipo de objeto que todavía no vimos.\n",
    "\n",
    "Pero lo vamos a ver más adelante :)"
   ]
  },
  {
   "cell_type": "markdown",
   "id": "53e4999a",
   "metadata": {},
   "source": [
    "#### Contar la cantidad de elementos en la lista\n",
    "\n",
    "* ¿Cuántos usuarios hay registrados en mi página web?\n",
    "* ¿Cuántas localidades componen el Gran Rosario?\n",
    "\n",
    "Para saber cuantos elementos hay en una lista utilizamos la función `len()`.\n",
    "\n",
    "Por ejemplo, para responder la primer pregunta:"
   ]
  },
  {
   "cell_type": "code",
   "execution_count": 80,
   "id": "3254cdbb",
   "metadata": {},
   "outputs": [
    {
     "name": "stdout",
     "output_type": "stream",
     "text": [
      "['user123', 'marti', 'el_mas_capo', 'usuario', 'anonymous']\n"
     ]
    },
    {
     "data": {
      "text/plain": [
       "5"
      ]
     },
     "execution_count": null,
     "metadata": {},
     "output_type": "execute_result"
    }
   ],
   "source": [
    "usuarios = [\"user123\", \"marti\", \"el_mas_capo\", \"usuario\", \"anonymous\"]\n",
    "print(usuarios)\n",
    "len(usuarios)"
   ]
  },
  {
   "cell_type": "code",
   "execution_count": 81,
   "id": "f6fae449",
   "metadata": {},
   "outputs": [
    {
     "name": "stdout",
     "output_type": "stream",
     "text": [
      "['Villa Gobernador Gálvez', 'Funes', 'Pérez', 'Soldini', 'Granadero Baigorria', 'Ibarlucea', 'Puerto San Martín', 'San Lorenzo', 'Fray Luis Beltrán', 'Capitán Bermudez', 'Ricardone', 'Roldán', 'Alvear', 'Pueblo Esther', 'General Lagos', 'Arroyo Seco']\n"
     ]
    },
    {
     "data": {
      "text/plain": [
       "16"
      ]
     },
     "execution_count": null,
     "metadata": {},
     "output_type": "execute_result"
    }
   ],
   "source": [
    "print(gran_rosario)\n",
    "len(gran_rosario)"
   ]
  },
  {
   "cell_type": "markdown",
   "id": "1c2fb46f",
   "metadata": {},
   "source": [
    "#### ¿Cómo saber si la lista ya contiene un elemento determinado?\n",
    "\n",
    "\n",
    "* Se registra un nuevo usuario y tenemos que verificar que el nombre que esté disponible.\n",
    "* ¿Cómo preguntamos sí una determinada ciudad está en el Gran Rosario?\n",
    "\n",
    "Para evaluar si un determinado elemento se encuentra en una lista utilizamos el operador `in`. "
   ]
  },
  {
   "cell_type": "code",
   "execution_count": 82,
   "id": "97337196",
   "metadata": {},
   "outputs": [
    {
     "data": {
      "text/plain": [
       "False"
      ]
     },
     "execution_count": null,
     "metadata": {},
     "output_type": "execute_result"
    }
   ],
   "source": [
    "nuevo_usuario = \"pepito\"\n",
    "nuevo_usuario in usuarios"
   ]
  },
  {
   "cell_type": "markdown",
   "id": "b70e6ab7",
   "metadata": {},
   "source": [
    "Por lo tanto, `\"pepito\"` no está en nuestra base de usuarios.\n",
    "\n",
    "No olvidemos que esto es lo mismo que si hubieramos hecho:"
   ]
  },
  {
   "cell_type": "code",
   "execution_count": 83,
   "id": "d3f8a4e5",
   "metadata": {},
   "outputs": [
    {
     "data": {
      "text/plain": [
       "False"
      ]
     },
     "execution_count": null,
     "metadata": {},
     "output_type": "execute_result"
    }
   ],
   "source": [
    "\"pepito\" in usuarios"
   ]
  },
  {
   "cell_type": "markdown",
   "id": "18cf62e2",
   "metadata": {},
   "source": [
    "Por otro lado,"
   ]
  },
  {
   "cell_type": "code",
   "execution_count": 84,
   "id": "899e4b97",
   "metadata": {},
   "outputs": [
    {
     "data": {
      "text/plain": [
       "True"
      ]
     },
     "execution_count": null,
     "metadata": {},
     "output_type": "execute_result"
    }
   ],
   "source": [
    "\"el_mas_capo\" in usuarios"
   ]
  },
  {
   "cell_type": "markdown",
   "id": "4bf48d4e",
   "metadata": {},
   "source": [
    "¿Y cómo preguntar si algún elemento **no está** dentro de la lista?\n",
    "\n",
    "Para eso, utilizamos el operador `not in`."
   ]
  },
  {
   "cell_type": "code",
   "execution_count": 85,
   "id": "e2f41357",
   "metadata": {},
   "outputs": [
    {
     "data": {
      "text/plain": [
       "True"
      ]
     },
     "execution_count": null,
     "metadata": {},
     "output_type": "execute_result"
    }
   ],
   "source": [
    "\"Colón\" not in gran_rosario"
   ]
  },
  {
   "cell_type": "markdown",
   "id": "61bac2bc",
   "metadata": {},
   "source": [
    "La respuesta es `True` porque efectivamente `\"Pergamino\"` no pertenece al Gran Rosario.\n",
    "\n",
    "Este es un ejemplo donde Python se parece mucho mas al lenguaje humano que al lenguaje de las computadoras."
   ]
  },
  {
   "cell_type": "markdown",
   "id": "3db50c71",
   "metadata": {},
   "source": [
    "#### Determinar en que lugar de la lista se encuentra un elemento\n",
    "\n",
    "Si queremos conocer la posición de un elemento en la lista podemos utilizar `.index()`."
   ]
  },
  {
   "cell_type": "code",
   "execution_count": 86,
   "id": "b0fc3070",
   "metadata": {},
   "outputs": [
    {
     "data": {
      "text/plain": [
       "['a', 'e', 'i', 'o', 'u']"
      ]
     },
     "execution_count": null,
     "metadata": {},
     "output_type": "execute_result"
    }
   ],
   "source": [
    "vocales = [\"a\", \"e\", \"i\", \"o\", \"u\"]\n",
    "vocales"
   ]
  },
  {
   "cell_type": "code",
   "execution_count": 87,
   "id": "d94b158b",
   "metadata": {},
   "outputs": [
    {
     "data": {
      "text/plain": [
       "2"
      ]
     },
     "execution_count": null,
     "metadata": {},
     "output_type": "execute_result"
    }
   ],
   "source": [
    "vocales.index(\"i\")"
   ]
  },
  {
   "cell_type": "code",
   "execution_count": 88,
   "id": "850d5df8",
   "metadata": {},
   "outputs": [
    {
     "name": "stdout",
     "output_type": "stream",
     "text": [
      "La vocal 'u' se encuentra en la posición 5.\n"
     ]
    }
   ],
   "source": [
    "vocal = \"u\"\n",
    "posicion = vocales.index(vocal)\n",
    "print(f\"La vocal '{vocal}' se encuentra en la posición {posicion + 1}.\")"
   ]
  },
  {
   "cell_type": "markdown",
   "id": "2b68fc69",
   "metadata": {},
   "source": [
    "Al igual que `.remove()`, `.index()` trabaja con el primer elemento de la lista.\n",
    "\n",
    "Por ejemplo,"
   ]
  },
  {
   "cell_type": "code",
   "execution_count": 89,
   "id": "42cd54f1",
   "metadata": {},
   "outputs": [
    {
     "data": {
      "text/plain": [
       "0"
      ]
     },
     "execution_count": null,
     "metadata": {},
     "output_type": "execute_result"
    }
   ],
   "source": [
    "[\"a\", \"a\", \"a\"].index(\"a\")"
   ]
  },
  {
   "cell_type": "markdown",
   "id": "cee1cc00",
   "metadata": {},
   "source": [
    "El resultado es `0` porque es la primera posición donde aparece `\"a\"`. \n",
    "\n",
    "Esto no significa que la letra `\"a\"` aparezca una sola vez en la lista."
   ]
  },
  {
   "cell_type": "markdown",
   "id": "1b974c2f",
   "metadata": {},
   "source": [
    "#### ¿Cuántas veces aparece un elemento en una lista?\n",
    "\n",
    "En otras palabras, ¿cómo contamos la cantidad de veces aparece un elemento en una lista?\n",
    "\n",
    "Para esto existe el método `.count()`."
   ]
  },
  {
   "cell_type": "code",
   "execution_count": 90,
   "id": "7886f494",
   "metadata": {},
   "outputs": [
    {
     "data": {
      "text/plain": [
       "3"
      ]
     },
     "execution_count": null,
     "metadata": {},
     "output_type": "execute_result"
    }
   ],
   "source": [
    "[\"a\", \"a\", \"a\"].count(\"a\")"
   ]
  },
  {
   "cell_type": "markdown",
   "id": "8d63f762",
   "metadata": {},
   "source": [
    "#### Cálculo de estadísticas básicas\n",
    "\n",
    "Python provee algunas funciones que nos facilitan el cálculo de algunas estadísticas básicas o medidas resúmen.\n",
    "\n",
    "* `min()`\n",
    "* `max()`\n",
    "* `sum()`\n",
    "\n",
    "Veamos algunos ejemplos:"
   ]
  },
  {
   "cell_type": "code",
   "execution_count": 91,
   "id": "e9b7948f",
   "metadata": {},
   "outputs": [
    {
     "data": {
      "text/plain": [
       "[1, 2, 3, 4, 5, 6, 7, 8, 9]"
      ]
     },
     "execution_count": null,
     "metadata": {},
     "output_type": "execute_result"
    }
   ],
   "source": [
    "digitos = [1, 2, 3, 4, 5, 6, 7, 8, 9]\n",
    "digitos"
   ]
  },
  {
   "cell_type": "code",
   "execution_count": 92,
   "id": "f2f7f728",
   "metadata": {},
   "outputs": [
    {
     "name": "stdout",
     "output_type": "stream",
     "text": [
      "1\n",
      "9\n",
      "45\n"
     ]
    }
   ],
   "source": [
    "print(min(digitos))\n",
    "print(max(digitos))\n",
    "print(sum(digitos))"
   ]
  },
  {
   "cell_type": "markdown",
   "id": "f01b0004",
   "metadata": {},
   "source": [
    "### Resumen de métodos\n",
    "\n",
    "\n",
    "| **Método**          | **Descripcion**                                                       |\n",
    "|---------------------|-----------------------------------------------------------------------|\n",
    "| `.append(x)`        | Inserta el valor `x` al final de la lista                             |\n",
    "| `.pop(i)`           | Remueve y devuelve el elemento en la posición `i`                     |\n",
    "| `.insert(i, x)`     | Inserta el valor `x` en la posición `i`                               |\n",
    "| `.extend(iterable)` | Inserta todos los valores de `iterable` al final de la lista          |\n",
    "| `.index(x)`         | Devuelve el la posición donde `x` aparece por primera vez en la lista |\n",
    "| `.count(x)`         | Devuelve la cantidad de veces que aparece `x` en la lista             |\n",
    "| `.sort()`           | Ordena los elementos de la lista, de menor a mayor                    |\n",
    "| `.reverse()`        | Invierte el orden de los elementos en la lista                        |\n"
   ]
  },
  {
   "cell_type": "markdown",
   "id": "f92bb130",
   "metadata": {},
   "source": [
    "## Tuplas\n",
    "\n",
    "### ¿Qué es una tupla?\n",
    "\n",
    "Las tuplas se parecen muchísimo a las listas. \n",
    "\n",
    "Ambas son secuencias ordenadas de objetos.\n",
    "\n",
    "Sin embargo, estos tipos de datos se diferencian en algunos puntos fundamentales.\n",
    "\n",
    "### ¿Cuál es la diferencia entre las listas y las tuplas?\n",
    "\n",
    "Cómo las creamos.\n",
    "\n",
    "* Para crear listas usamos `[]`.\n",
    "* Para crear tuplas usamos `()`.\n",
    "\n",
    "\n",
    "Comportamiento \"dinámico\" vs \"estático\".\n",
    "\n",
    "* El tamaño de las listas puede ser modificado luego de ser creado (dinámico).\n",
    "* El tamaño de las tuplas no puede ser modificado luego de ser creado (estático).\n",
    "\n",
    "Objetos \"mutables\" vs \"inmutables\"\n",
    "\n",
    "* Los elementos de la lista se pueden modificar luego de ser creada (mutable)\n",
    "* Los elementos de una tupla no se pueden modificar (inmutable)\n",
    "\n",
    "\n",
    "Dejando todo esto de lado, las tuplas y las listas tienen **muchas similitudes**\n",
    "\n",
    "* Tienen un orden.\n",
    "* Pueden contener diferentes tipos de objetos al mismo tiempo.\n",
    "* Se pueden obtener elementos utilizando el índice.\n",
    "* Se pueden obtener varios elementos utilizando _slicing_."
   ]
  },
  {
   "cell_type": "markdown",
   "id": "b0a51e86",
   "metadata": {},
   "source": [
    "### Algunos ejemplos\n",
    "\n",
    "Supongamos que en la colonia de vacaciones se tienen tres tipos de entradas.\n",
    "\n",
    "* Socios\n",
    "* No socios\n",
    "* Menores\n",
    "\n",
    "Como no esperamos que estos tipos vayan a cambiar con el tiempo (al menos mientras corre nuestro programa!), tiene sentido utilizar una tupla en vez de una lista."
   ]
  },
  {
   "cell_type": "code",
   "execution_count": 93,
   "id": "2c06f386",
   "metadata": {},
   "outputs": [
    {
     "data": {
      "text/plain": [
       "('SOCIOS', 'NO SOCIOS', 'MENORES')"
      ]
     },
     "execution_count": null,
     "metadata": {},
     "output_type": "execute_result"
    }
   ],
   "source": [
    "tipos_entradas = (\"SOCIOS\", \"NO SOCIOS\", \"MENORES\")\n",
    "tipos_entradas"
   ]
  },
  {
   "cell_type": "code",
   "execution_count": 94,
   "id": "8e9efb24",
   "metadata": {},
   "outputs": [
    {
     "data": {
      "text/plain": [
       "tuple"
      ]
     },
     "execution_count": null,
     "metadata": {},
     "output_type": "execute_result"
    }
   ],
   "source": [
    "type(tipos_entradas)"
   ]
  },
  {
   "cell_type": "markdown",
   "id": "06272e60",
   "metadata": {},
   "source": [
    "Al igual que con las listas, podemos utilizar los índices para acceder a los valores."
   ]
  },
  {
   "cell_type": "code",
   "execution_count": 95,
   "id": "98d9cd66",
   "metadata": {},
   "outputs": [
    {
     "name": "stdout",
     "output_type": "stream",
     "text": [
      "SOCIOS\n",
      "MENORES\n"
     ]
    }
   ],
   "source": [
    "print(tipos_entradas[0])\n",
    "print(tipos_entradas[-1])"
   ]
  },
  {
   "cell_type": "markdown",
   "id": "0122445e",
   "metadata": {},
   "source": [
    "Pero al contrario de las listas, no podemos modificar ninguno de los valores existentes."
   ]
  },
  {
   "cell_type": "code",
   "execution_count": 96,
   "id": "ad073b80",
   "metadata": {},
   "outputs": [
    {
     "ename": "TypeError",
     "evalue": "'tuple' object does not support item assignment",
     "output_type": "error",
     "traceback": [
      "\u001b[0;31m---------------------------------------------------------------------------\u001b[0m\n",
      "\u001b[0;31mTypeError\u001b[0m                                 Traceback (most recent call last)\n",
      "Cell \u001b[0;32mIn[96], line 1\u001b[0m\n",
      "\u001b[0;32m----> 1\u001b[0m \u001b[43mtipos_entradas\u001b[49m\u001b[43m[\u001b[49m\u001b[38;5;241;43m0\u001b[39;49m\u001b[43m]\u001b[49m \u001b[38;5;241m=\u001b[39m \u001b[38;5;124m\"\u001b[39m\u001b[38;5;124mNUEVO_TIPO\u001b[39m\u001b[38;5;124m\"\u001b[39m\n",
      "\n",
      "\u001b[0;31mTypeError\u001b[0m: 'tuple' object does not support item assignment"
     ]
    }
   ],
   "source": [
    "tipos_entradas[0] = \"NUEVO_TIPO\""
   ]
  },
  {
   "cell_type": "markdown",
   "id": "03dd1eca",
   "metadata": {},
   "source": [
    "Lo que si podemos hacer es crear una nueva tupla a partir de otras tuplas.\n",
    "\n",
    "Al igual que con las listas, podemos utilizar el operador `+` para concatenar tuplas."
   ]
  },
  {
   "cell_type": "code",
   "execution_count": null,
   "id": "b49f4cd8",
   "metadata": {},
   "outputs": [],
   "source": [
    "(1, 2) + (3, 4)"
   ]
  },
  {
   "cell_type": "markdown",
   "id": "e6ee0018",
   "metadata": {},
   "source": [
    "### ¿Cómo crear una tupla con un solo elemento?\n",
    "\n",
    "Vimos que para crear una lista de un elemento podemos hacer `[\"elemento\"]`.\n",
    "\n",
    "Pero, ¿qué pasa si hacemos `(\"elemento\")`?, ¿qué tipo de objeto nos devuelve?"
   ]
  },
  {
   "cell_type": "markdown",
   "id": "1a53ef0b",
   "metadata": {},
   "source": [
    "### ¿Para qué existen?\n",
    "\n",
    "Si las tuplas se parecen tanto a las listas, ¿para qué existen?\n",
    "\n",
    "Las tuplas son un poco **más eficientes** que las listas porque **utilizan menos memoria**.\n",
    "\n",
    "Cuando los valores de una secuencia no se van a modificar, es mejor una tupla que una lista.\n",
    "\n",
    "* No nos deja realizar modificaciones accidentales.\n",
    "* Cuando otros lean nuestro código van a entender que esa secuencia no se modifica nunca en el programa.\n",
    "\n",
    "\n",
    "Hay otras razones pero exceden lo que vamos a ver en este curso.\n",
    "\n",
    "* https://realpython.com/python-lists-tuples/\n",
    "* https://towardsdatascience.com/python-tuples-when-to-use-them-over-lists-75e443f9dcd7\n",
    "\n",
    "<!-- **TO DO:** Una comparación haciendo slicing a listas, tuplas, conjuntos y strings. -->"
   ]
  },
  {
   "cell_type": "code",
   "execution_count": null,
   "id": "d0b90c19",
   "metadata": {},
   "outputs": [],
   "source": [
    "tupla = (1, 2)\n",
    "tupla = tupla + (3, )\n",
    "tupla"
   ]
  },
  {
   "cell_type": "code",
   "execution_count": null,
   "id": "0c3f8b95",
   "metadata": {},
   "outputs": [],
   "source": [
    "lista = [1, 2, 3]\n",
    "tupla = (1, 2, lista)\n",
    "print(tupla)\n",
    "\n",
    "lista[2] = 5\n",
    "print(tupla)"
   ]
  },
  {
   "cell_type": "markdown",
   "id": "c9963e37",
   "metadata": {},
   "source": [
    "### Sabías que...(*)\n",
    "\n",
    "En Python, las listas, las tuplas y las cadenas son parte del conjunto de las \"secuencias\". Todas las secuencias cuentan con las siguientes operaciones:\n",
    "\n",
    "<center>\n",
    "\n",
    "| **Operación**  | **Resultado**                                                                |\n",
    "|----------------|------------------------------------------------------------------------------|\n",
    "| `x in s`       | Indica si el valor `x` se encuentra en `s`                                   |\n",
    "| `s + t`        | Concatena las secuencias `s` y `t`                                           |\n",
    "| `s * n`        | Concatena `n` copias de `s`                                                  |\n",
    "| `s[i]`         | Obtiene el elemento `i` de `s`                                               |\n",
    "| `s[i:j]`       | Porción de la secuencia `s` desde `i` hasta `j` (no inclusive)               |\n",
    "| `s[i:j:k]`     | Porción de la secuencia `s` desde `i` hasta `j` (no inclusive), con paso `k` |\n",
    "| `len(s)`       | Cantidad de elementos en la secuencia `s`                                    |\n",
    "| `min(s)`       | Mínimo elemento en la secuencia `s`                                          |\n",
    "| `max(s)`       | Máximo elemento de la secuencia `s`                                          |\n",
    "| `sum(s)`       | Suma de lso elementos de la secuencia `s`                                    |\n",
    "| `enumerate(s)` | Enumerar los elementos de `s` junto con sus posiciones                       |\n",
    "\n",
    "</center>\n",
    "\n",
    "Además, es posible crear una lista o una tupla a partir de cualquier otra secuencia, utilizando `list` y `tuple`, respectivamente:\n",
    "\n",
    "```python\n",
    ">>> list(\"Hola\")\n",
    "['H', 'o', 'l', 'a']\n",
    ">>> tuple(\"Hola\")\n",
    "('H', 'o', 'l', 'a')\n",
    ">>> list((1, 2, 3, 4))\n",
    "[1, 2, 3, 4]\n",
    "```\n",
    "\n",
    "(*) Tomado de \"Aprendiendo a programar usando Python como herramienta\""
   ]
  },
  {
   "cell_type": "markdown",
   "id": "4d9a7e42",
   "metadata": {},
   "source": [
    "## Diccionarios\n",
    "\n",
    "Los diccionarios nos permiten almacenar información que está relacionada entre sí.\n",
    "\n",
    "Volviendo al ejemplo introductorio\n",
    "\n",
    "```python\n",
    "edad_1 = 29\n",
    "edad_2 = 34\n",
    "edad_3 = 33\n",
    "edad_4 = 38\n",
    "\n",
    "nombre_1 = \"Juan\"\n",
    "nombre_2 = \"Carla\"\n",
    "nombre_3 = \"Evelina\"\n",
    "nombre_4 = \"Leandro\"\n",
    "```\n",
    "\n",
    "Una posible solución es crear dos listas. \n",
    "\n",
    "Una contiene las edades, y otra contiene los nombres."
   ]
  },
  {
   "cell_type": "code",
   "execution_count": null,
   "id": "968477a7",
   "metadata": {},
   "outputs": [],
   "source": [
    "edades = [29, 34, 33, 38]\n",
    "nombres = [\"Juan\", \"Carla\", \"Evelina\", \"Leandro\"]"
   ]
  },
  {
   "cell_type": "markdown",
   "id": "63413bb9",
   "metadata": {},
   "source": [
    "Sin embargo esta solución es muy poco satisfactoria, ya que viene asociada a muchos problemas.\n",
    "\n",
    "* ¿Cómo obtengo la edad de una persona particular?\n",
    "* Si ordeno una de las listas, me tengo que acordar de ordenar la otra.\n",
    "* Si elimino un objeto en una lista, lo tengo que hacer en la otra.\n",
    "* Etc.."
   ]
  },
  {
   "cell_type": "markdown",
   "id": "cd1f6a8c",
   "metadata": {},
   "source": [
    "Los diccionarios de Python solucionan este problema de una mejor manera.\n",
    "\n",
    "Los diccionarios almacenan **mapeos** entre dos conjuntos de elementos llamados **claves** y **valores** (_keys_ y _values_ para Python).\n",
    "\n",
    "De esta manera, en nuestro ejemplo este objeto asocia directamente a los nombres con las edades.\n",
    "\n",
    "En nuestro caso, podemos crear un diccionario donde las claves sean los nombres y los valores sean las edadedes."
   ]
  },
  {
   "cell_type": "markdown",
   "id": "ffe279a1",
   "metadata": {},
   "source": [
    "### ¿Cómo crear un diccionario en Python?\n",
    "\n",
    "* Todos los elementos en el diccionario se encuentran encerrados entre un par de llaves `{}`\n",
    "\n",
    "* Cada elemento es un par de clave-valor. Estos están separados por `:`.\n",
    "\n",
    "* Los elementos van separados por comas `,`."
   ]
  },
  {
   "cell_type": "code",
   "execution_count": null,
   "id": "c142577d",
   "metadata": {},
   "outputs": [],
   "source": [
    "personas = {\"Juan\": 29, \"Carla\": 34, \"Evelina\": 33, \"Leandro\": 38}\n",
    "personas"
   ]
  },
  {
   "cell_type": "markdown",
   "id": "1d658d70",
   "metadata": {},
   "source": [
    "El diccionario `personas` contiene cuatro elementos (o pares de clave-valor).\n",
    "\n",
    "En este caso los valores son números, pero podrían ser cualquier objeto de Python."
   ]
  },
  {
   "cell_type": "code",
   "execution_count": null,
   "id": "52e209f8",
   "metadata": {},
   "outputs": [],
   "source": [
    "type(personas)"
   ]
  },
  {
   "cell_type": "markdown",
   "id": "4f8fe356",
   "metadata": {},
   "source": [
    "### ¿Cómo acceder a los elementos de un diccionario en Python?\n",
    "\n",
    "Las listas y las tuplas son objetos que tiene un orden determinado. Eso nos permite acceder a los elementos usando la posición.\n",
    "\n",
    "Los diccionarios **no tienen posiciones**. \n",
    "\n",
    "Para acceder a los elementos se utilizan las claves.\n",
    "\n",
    "Por ejemplo, si queremos acceder a la edad de Carla:"
   ]
  },
  {
   "cell_type": "code",
   "execution_count": null,
   "id": "7d4c06d6",
   "metadata": {},
   "outputs": [],
   "source": [
    "personas[0]"
   ]
  },
  {
   "cell_type": "code",
   "execution_count": null,
   "id": "93535b00",
   "metadata": {},
   "outputs": [],
   "source": [
    "personas[\"Carla\"]"
   ]
  },
  {
   "cell_type": "markdown",
   "id": "2c0ccaac",
   "metadata": {},
   "source": [
    "o si queremos acceder a la edad de Leandro"
   ]
  },
  {
   "cell_type": "code",
   "execution_count": null,
   "id": "125b683f",
   "metadata": {},
   "outputs": [],
   "source": [
    "personas[\"Leandro\"]"
   ]
  },
  {
   "cell_type": "markdown",
   "id": "e5c2d3bf",
   "metadata": {},
   "source": [
    "### Modificar, agregar y eliminar elementos\n",
    "\n",
    "Al igual que vimos con listas, los diccionarios nos permiten modificar, agregar y eliminar elementos.\n",
    "\n",
    "La diferencia mas notable es que utilizamos las **claves** en vez de los índices."
   ]
  },
  {
   "cell_type": "markdown",
   "id": "43bb4f00",
   "metadata": {},
   "source": [
    "#### Modificar elementos\n",
    "\n",
    "Funciona de manera similar a como modificamos elementos en una lista. \n",
    "\n",
    "Seleccionamos el elemento a modificar en base a su clave y le re-asignamos un valor."
   ]
  },
  {
   "cell_type": "code",
   "execution_count": null,
   "id": "16e8a814",
   "metadata": {},
   "outputs": [],
   "source": [
    "personas"
   ]
  },
  {
   "cell_type": "code",
   "execution_count": null,
   "id": "bd3e2b68",
   "metadata": {},
   "outputs": [],
   "source": [
    "personas[\"Juan\"] = 34"
   ]
  },
  {
   "cell_type": "markdown",
   "id": "e6ffea15",
   "metadata": {},
   "source": [
    "#### Agregar elementos\n",
    "\n",
    "Para agregar elementos tenemos que hacer lo mismo que cuando modificamos un elemento."
   ]
  },
  {
   "cell_type": "code",
   "execution_count": null,
   "id": "ae7b6914",
   "metadata": {},
   "outputs": [],
   "source": [
    "personas[\"Marisa\"] = 29"
   ]
  },
  {
   "cell_type": "code",
   "execution_count": null,
   "id": "f6720d93",
   "metadata": {},
   "outputs": [],
   "source": [
    "ejemplo = {\"A\": 1}\n",
    "ejemplo"
   ]
  },
  {
   "cell_type": "code",
   "execution_count": null,
   "id": "5078c9ba",
   "metadata": {},
   "outputs": [],
   "source": [
    "ejemplo[\"A\"] = \"hola\"\n",
    "ejemplo"
   ]
  },
  {
   "cell_type": "code",
   "execution_count": null,
   "id": "b3ccd6c8",
   "metadata": {},
   "outputs": [],
   "source": [
    "ejemplo = {\"A\": 1, \"A\": \"hola\"}\n",
    "ejemplo"
   ]
  },
  {
   "cell_type": "markdown",
   "id": "b27c3278",
   "metadata": {},
   "source": [
    "Podemos utilizar mas de una vez a la misma clave, pero solo se conserva el valor de la ultima.\n",
    "\n",
    "**NO LO HAGAN**"
   ]
  },
  {
   "cell_type": "markdown",
   "id": "8dd36c01",
   "metadata": {},
   "source": [
    "**Conclusión**\n",
    "\n",
    "Si hay un elemento con la clave que utilizamos, se sobre-escribe el valor.\n",
    "\n",
    "Sino hay un elemento con la clave que utilizamos, se agrega un nuevo elemento al diccionario."
   ]
  },
  {
   "cell_type": "markdown",
   "id": "d4dcefc3",
   "metadata": {},
   "source": [
    "#### Eliminar elementos\n",
    "\n",
    "De la misma manera que eliminamos objetos de una lista, también podemos eliminar objetos de un diccionario.\n",
    "\n",
    "En este caso, también tenemos más de una opción.\n",
    "\n",
    "* La sentencia `del`.\n",
    "* El método `.pop()`."
   ]
  },
  {
   "cell_type": "markdown",
   "id": "3faf693b",
   "metadata": {},
   "source": [
    "**Utilizando `del`**\n",
    "\n",
    "Funciona muy similar a el uso que vimos con listas.\n",
    "\n",
    "Nuevamente, la diferencia es que tenemos que utilizar la clave en vez de un índice numérico."
   ]
  },
  {
   "cell_type": "code",
   "execution_count": null,
   "id": "6ab92979",
   "metadata": {},
   "outputs": [],
   "source": [
    "descuentos = {\n",
    "    \"Lunes\": 0,\n",
    "    \"Martes\": 20,\n",
    "    \"Miercoles\": 10,\n",
    "    \"Jueves\": 20,\n",
    "    \"Viernes\": 30,\n",
    "    \"Sábado\": 30,\n",
    "    \"Domingo\": 0\n",
    "}"
   ]
  },
  {
   "cell_type": "markdown",
   "id": "01c6dc1a",
   "metadata": {},
   "source": [
    "Supongamos que nuestro negocio no abre los domingos y por eso queremos eliminarlo del diccionario."
   ]
  },
  {
   "cell_type": "code",
   "execution_count": null,
   "id": "eaaa5bb0",
   "metadata": {},
   "outputs": [],
   "source": [
    "del descuentos[\"Domingo\"]\n",
    "descuentos"
   ]
  },
  {
   "cell_type": "markdown",
   "id": "7f8bcd18",
   "metadata": {},
   "source": [
    "**Utilizando `.pop()`**\n",
    "\n",
    "Ahora eliminemos al Lunes, que es un día que tampoco abrimos."
   ]
  },
  {
   "cell_type": "code",
   "execution_count": null,
   "id": "77ce29cd",
   "metadata": {},
   "outputs": [],
   "source": [
    "descuento_lunes = descuentos.pop(\"Lunes\")\n",
    "print(descuento_lunes)\n",
    "print(descuentos)"
   ]
  },
  {
   "cell_type": "markdown",
   "id": "427c6998",
   "metadata": {},
   "source": [
    "**Conclusión**\n",
    "\n",
    "De la misma manera que pasaba con las listas, tenemos `del` y `.pop()` para eliminar elementos.\n",
    "\n",
    "`del` elimina el valor del diccionario sin devolverlo.\n",
    "\n",
    "`.pop()` elimina el valor del diccionario, pero lo devuelve."
   ]
  },
  {
   "cell_type": "markdown",
   "id": "0637fb22",
   "metadata": {},
   "source": [
    "### Anidamientos\n",
    "\n",
    "Previamente dijimos que los diccionarios de Python puede contener cualquier tipo de objeto de Python.\n",
    "\n",
    "Por lo tanto, significa que puede contener números, cadenas, listas, e incluso otros diccionarios!\n",
    "\n",
    "Veamos algunos ejemplos donde esto puede ser muy útil."
   ]
  },
  {
   "cell_type": "code",
   "execution_count": null,
   "id": "10e26e27",
   "metadata": {},
   "outputs": [],
   "source": [
    "persona = {\n",
    "    \"nombre\": \"Carolina\",\n",
    "    \"edad\": 24,\n",
    "    \"cursos\": [\"Introducción a Python\", \"Análisis de datos con Python\", \"Python avanzado\"]\n",
    "}"
   ]
  },
  {
   "cell_type": "code",
   "execution_count": null,
   "id": "786bf086",
   "metadata": {},
   "outputs": [],
   "source": [
    "print(persona)"
   ]
  },
  {
   "cell_type": "code",
   "execution_count": null,
   "id": "45507953",
   "metadata": {},
   "outputs": [],
   "source": [
    "print(persona[\"nombre\"])"
   ]
  },
  {
   "cell_type": "code",
   "execution_count": null,
   "id": "5ef5b132",
   "metadata": {},
   "outputs": [],
   "source": [
    "print(persona[\"edad\"])"
   ]
  },
  {
   "cell_type": "code",
   "execution_count": null,
   "id": "951960eb",
   "metadata": {},
   "outputs": [],
   "source": [
    "print(persona[\"cursos\"])"
   ]
  },
  {
   "cell_type": "code",
   "execution_count": null,
   "id": "17cf2b49",
   "metadata": {},
   "outputs": [],
   "source": [
    "usuarios = {\n",
    "    \"aeinstein\": {\n",
    "        \"nombre\": \"albert\",\n",
    "        \"apellido\": \"einstein\",\n",
    "        \"ciudad\": \"princenton\"\n",
    "    },\n",
    "    \"mcurie\": {\n",
    "        \"nombre\": \"marie\",\n",
    "        \"apellido\": \"curie\",\n",
    "        \"ciudad\": \"paris\"\n",
    "    },\n",
    "    \"afleming\": {\n",
    "        \"nombre\": \"alexander\",\n",
    "        \"apellido\": \"fleming\",\n",
    "        \"ciudad\": \"londres\"\n",
    "    }\n",
    "}"
   ]
  },
  {
   "cell_type": "code",
   "execution_count": null,
   "id": "92682d6d",
   "metadata": {},
   "outputs": [],
   "source": [
    "print(usuarios[\"aeinstein\"])"
   ]
  },
  {
   "cell_type": "code",
   "execution_count": null,
   "id": "3069f23d",
   "metadata": {},
   "outputs": [],
   "source": [
    "usuarios[\"aeinstein\"][\"apellido\"]"
   ]
  }
 ],
 "metadata": {
  "language_info": {
   "name": "python"
  }
 },
 "nbformat": 4,
 "nbformat_minor": 5
}
