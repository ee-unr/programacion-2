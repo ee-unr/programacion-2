{
 "cells": [
  {
   "cell_type": "markdown",
   "id": "3ce2ccfd",
   "metadata": {},
   "source": [
    "---\n",
    "title: \"4 - Colecciones de datos [WIP]\"\n",
    "toc: true\n",
    "---"
   ]
  },
  {
   "cell_type": "markdown",
   "id": "cacf21f7",
   "metadata": {},
   "source": [
    "## Introducción\n",
    "\n",
    "Además de los tipos de datos elementales que se presentaron en capítulos anteriores, Python proporciona estructuras de datos más complejas que permiten almacenar **colecciones de objetos**. Estas estructuras facilitan la organización de múltiples valores bajo un mismo nombre, posibilitando, entre otras tareas, su manipulación de manera conjunta.\n",
    "\n",
    "En este capítulo exploraremos tres colecciones básicas de Python:\n",
    "\n",
    "* Listas\n",
    "* Tuplas\n",
    "* Diccionarios\n",
    "\n",
    "Estas estructuras tienen en común que permiten agrupar varios objetos, aunque presentan diferencias importantes en cuanto a la sintaxis utilizada para definirlas, su mutabilidad (capacidad de modificarse tras su creación) y las operaciones disponibles para manipular sus elementos. En definitiva, cada estructura está especialmente diseñada para representar relaciones particulares entre los datos, adaptándose así a diversas situaciones y necesidades de programación."
   ]
  },
  {
   "cell_type": "markdown",
   "id": "37785050",
   "metadata": {},
   "source": [
    "Supongamos que contamos con el nombre y la edad de 4 personas y queremos utilizar estos datos en nuestro programa.\n",
    "Si solamente tenemos acceso a los tipos de datos elementales de Python, una alternativa para almacenar esta información consiste en crear 4 variables para las edades y 4 variables para los nombres:"
   ]
  },
  {
   "cell_type": "code",
   "execution_count": 1,
   "id": "64d4c0a3",
   "metadata": {},
   "outputs": [],
   "source": [
    "nombre_1 = \"Juan\"\n",
    "nombre_2 = \"Carla\"\n",
    "nombre_3 = \"Evelina\"\n",
    "nombre_4 = \"Leandro\"\n",
    "\n",
    "edad_1 = 29\n",
    "edad_2 = 34\n",
    "edad_3 = 33\n",
    "edad_4 = 38"
   ]
  },
  {
   "cell_type": "markdown",
   "id": "ad28f9f4",
   "metadata": {},
   "source": [
    "En este caso, el código es legible e incluso permite intuir la relación entre los nombres y las edades.\n",
    "\n",
    "Sin embargo, vale preguntarse qué ocurriría si quisiéramos almacenar la información de muchas más personas. Python nos permitiría crear tantas variables como necesitemos, pero trabajar de esa manera no sería práctico ni sostenible.\n",
    "\n",
    "Por eso, el lenguaje ofrece estructuras de datos que facilitan el manejo de grandes cantidades de valores del mismo tipo, de forma más organizada y eficiente."
   ]
  },
  {
   "cell_type": "markdown",
   "id": "a87e59a0",
   "metadata": {},
   "source": [
    "## Listas\n",
    "\n",
    "### Definición\n",
    "\n",
    "El siguiente bloque de código genera una lista con los números 1, 2, 3, 4, y 5."
   ]
  },
  {
   "cell_type": "code",
   "execution_count": 2,
   "id": "e7012706",
   "metadata": {},
   "outputs": [
    {
     "data": {
      "text/plain": [
       "[1, 2, 3, 4, 5]"
      ]
     },
     "execution_count": null,
     "metadata": {},
     "output_type": "execute_result"
    }
   ],
   "source": [
    "[1, 2, 3, 4, 5]"
   ]
  },
  {
   "cell_type": "markdown",
   "id": "120b80ce",
   "metadata": {},
   "source": [
    "Una lista de Python es una **secuencia ordenada de objetos**. De manera menos técnica, podemos decir que una lista es un objeto que contiene otros objetos en un orden determinado.\n",
    "\n",
    "Las listas son una de las estructuras más utilizadas en Python. De hecho, programar en este lenguaje implica trabajar constantemente con listas: crearlas, modificarlas, recorrerlas y transformarlas.\n",
    "\n",
    "Así que si queremos ser buenos Pythonistas, ¡a aprender de listas!"
   ]
  },
  {
   "cell_type": "markdown",
   "id": "350f8c8c",
   "metadata": {},
   "source": [
    "### Creación de listas\n",
    "\n",
    "Las listas en Python se crean escribiendo los elementos entre corchetes (`[]`), separándolos con comas.\n",
    "\n",
    "Creemos una lista que contenga los nombres de nuestras cafeterias de especialidad preferidas: Orlan, Infinita, Arto, Cristóbal, Ruffo y Heroica."
   ]
  },
  {
   "cell_type": "code",
   "execution_count": 3,
   "id": "e7be4e08",
   "metadata": {},
   "outputs": [
    {
     "name": "stdout",
     "output_type": "stream",
     "text": [
      "['Orlan', 'Infinita', 'Arto', 'Cristóbal', 'Ruffo', 'Heroica']\n"
     ]
    }
   ],
   "source": [
    "cafeterias = [\"Orlan\", \"Infinita\", \"Arto\", \"Cristóbal\", \"Ruffo\", \"Heroica\"]\n",
    "print(cafeterias)"
   ]
  },
  {
   "cell_type": "markdown",
   "id": "bede3f06",
   "metadata": {},
   "source": [
    "Cuando imprimimos una lista, Python muestra una representación muy parecida a la que usamos al definirla: con corchetes para encerrar los elementos y comas para separarlos.\n",
    "\n",
    "Si consultamos el tipo de una lista, no hay sorpresas: es del tipo `list`."
   ]
  },
  {
   "cell_type": "code",
   "execution_count": 4,
   "id": "f5fd10e7",
   "metadata": {},
   "outputs": [
    {
     "data": {
      "text/plain": [
       "list"
      ]
     },
     "execution_count": null,
     "metadata": {},
     "output_type": "execute_result"
    }
   ],
   "source": [
    "type(cafeterias)"
   ]
  },
  {
   "cell_type": "markdown",
   "id": "64d6b81a",
   "metadata": {},
   "source": [
    "### Objetos permitidos en una lista\n",
    "\n",
    "En Python, una lista puede contener **objetos de cualquier tipo**. Incluso **es posible mezclar distintos tipos** en una misma lista.\n",
    "\n",
    "Con los tipos de datos que vimos hasta ahora, podríamos tener listas con números, cadenas de texto, valores booleanos e incluso el valor nulo.\n",
    "\n",
    "Por ejemplo, la siguiente lista contiene elementos de cuatro tipos distintos:\n"
   ]
  },
  {
   "cell_type": "code",
   "execution_count": 5,
   "id": "fb4b3171",
   "metadata": {},
   "outputs": [
    {
     "data": {
      "text/plain": [
       "[1, 'dos', True, None, 'dos']"
      ]
     },
     "execution_count": null,
     "metadata": {},
     "output_type": "execute_result"
    }
   ],
   "source": [
    "popurri = [1, \"dos\", True, None, \"dos\"]\n",
    "popurri"
   ]
  },
  {
   "cell_type": "markdown",
   "id": "fb1f4588",
   "metadata": {},
   "source": [
    "Si bien las listas pueden mezclar objetos de distinto tipo, y algunas veces hacerlo tiene sentido, en general vamos a trabajar con listas donde todos sus objetos son del mismo tipo."
   ]
  },
  {
   "cell_type": "markdown",
   "id": "55c57824",
   "metadata": {},
   "source": [
    "### Qué significa que una lista sea ordenada\n",
    "\n",
    "Consideremos las listas `[1, 2, 3]` y `[2, 1, 3]`. Vale preguntarse si ambas listas son iguales o no. Veamos que dice Python:"
   ]
  },
  {
   "cell_type": "code",
   "execution_count": 6,
   "id": "c590b5fe",
   "metadata": {},
   "outputs": [
    {
     "data": {
      "text/plain": [
       "False"
      ]
     },
     "execution_count": null,
     "metadata": {},
     "output_type": "execute_result"
    }
   ],
   "source": [
    "[1, 2, 3] == [2, 1, 3]"
   ]
  },
  {
   "cell_type": "markdown",
   "id": "a0122d5e",
   "metadata": {},
   "source": [
    "Dado que una lista es una secuencia en la que el orden de los elementos es relevante, dos listas son iguales solo si contienen los mismos elementos y en el mismo orden. A continuación se muestra un ejemplo en el que ambas condiciones se cumplen."
   ]
  },
  {
   "cell_type": "code",
   "execution_count": 7,
   "id": "a1d26632",
   "metadata": {},
   "outputs": [
    {
     "data": {
      "text/plain": [
       "True"
      ]
     },
     "execution_count": null,
     "metadata": {},
     "output_type": "execute_result"
    }
   ],
   "source": [
    "[1, 2, 3] == [1, 2, 3]"
   ]
  },
  {
   "cell_type": "markdown",
   "id": "684b0949",
   "metadata": {},
   "source": [
    "También vale la pena preguntarse si dos listas iguales son, en memoria, el mismo objeto. Debajo definimos dos listas `x` e `y` con los mismos elementos, en el mismo orden. Como es de esperarse, ambas listas **son iguales en valor**."
   ]
  },
  {
   "cell_type": "code",
   "execution_count": 8,
   "id": "be758471",
   "metadata": {},
   "outputs": [
    {
     "name": "stdout",
     "output_type": "stream",
     "text": [
      "True\n",
      "False\n"
     ]
    }
   ],
   "source": [
    "x = [\"a\", \"b\", \"c\"]\n",
    "y = [\"a\", \"b\", \"c\"]\n",
    "\n",
    "print(x == y)\n",
    "print(x is y)"
   ]
  },
  {
   "cell_type": "markdown",
   "id": "1f0faf24",
   "metadata": {},
   "source": [
    "Sin embargo, estas listas **no son iguales en memoria**, es decir, no son el mismo objeto."
   ]
  },
  {
   "cell_type": "code",
   "execution_count": 9,
   "id": "13d7610a",
   "metadata": {},
   "outputs": [
    {
     "name": "stdout",
     "output_type": "stream",
     "text": [
      "id(x): 140469527355968\n",
      "id(y): 140469527300992\n"
     ]
    }
   ],
   "source": [
    "print(\"id(x):\", id(x))\n",
    "print(\"id(y):\", id(y))"
   ]
  },
  {
   "cell_type": "markdown",
   "id": "49614bb5",
   "metadata": {},
   "source": [
    "::: {.callout-note}\n",
    "### Conclusión 📝\n",
    "\n",
    "* Dos listas son iguales si:\n",
    "    * Contienen los mismos elementos,\n",
    "    * y esos elementos están en el mismo orden.\n",
    "* Que dos listas sean iguales no significa que sean el mismo objeto en memoria.\n",
    ":::"
   ]
  },
  {
   "cell_type": "markdown",
   "id": "c6c4cc00",
   "metadata": {},
   "source": [
    "### Acceder a elementos\n",
    "\n",
    "Dado que una lista es una secuencia ordenada, cada objeto tiene una posición determinada. Podemos acceder a cualquiera de los elementos de la lista indicando la posición del objeto que deseamos. Esta posición se conoce como **índice** (o _index_, en inglés).\n",
    "\n",
    "Para acceder a un elemento de una lista, escribimos el nombre de la lista seguido de la posición del objeto que queremos seleccionar, encerrada entre corchetes `[]`.\n",
    "\n",
    "Veamos un ejemplo utilizando la lista `cafeterias` que creamos anteriormente."
   ]
  },
  {
   "cell_type": "code",
   "execution_count": 10,
   "id": "ff79762b",
   "metadata": {},
   "outputs": [
    {
     "data": {
      "text/plain": [
       "['Orlan', 'Infinita', 'Arto', 'Cristóbal', 'Ruffo', 'Heroica']"
      ]
     },
     "execution_count": null,
     "metadata": {},
     "output_type": "execute_result"
    }
   ],
   "source": [
    "cafeterias = [\"Orlan\", \"Infinita\", \"Arto\", \"Cristóbal\", \"Ruffo\", \"Heroica\"]\n",
    "cafeterias"
   ]
  },
  {
   "cell_type": "markdown",
   "id": "08197e4a",
   "metadata": {},
   "source": [
    "Intentemos seleccionar el primer objeto de la lista:"
   ]
  },
  {
   "cell_type": "code",
   "execution_count": 11,
   "id": "fe3b39ad",
   "metadata": {},
   "outputs": [
    {
     "data": {
      "text/plain": [
       "'Infinita'"
      ]
     },
     "execution_count": null,
     "metadata": {},
     "output_type": "execute_result"
    }
   ],
   "source": [
    "cafeterias[1]"
   ]
  },
  {
   "cell_type": "markdown",
   "id": "f26622ec",
   "metadata": {},
   "source": [
    "Cuando accedemos a un elemento individual de una lista, el resultado no es, en principio, otra lista, sino el objeto que se encuentra en esa posición. Ese objeto puede ser de cualquier tipo: un número, una cadena de texto, otra lista, etc.\n",
    "\n",
    "Por lo tanto, si el elemento obtenido es una cadena de caracteres, podemos aplicar directamente los métodos que corresponden a ese tipo de dato. Por ejemplo, podemos encadenar la selección del elemento en la posición `1` con una llamada al método `.upper()`, sabiendo que es válido porque ese elemento es de tipo `str`."
   ]
  },
  {
   "cell_type": "code",
   "execution_count": 12,
   "id": "a60648aa",
   "metadata": {},
   "outputs": [
    {
     "data": {
      "text/plain": [
       "'INFINITA'"
      ]
     },
     "execution_count": null,
     "metadata": {},
     "output_type": "execute_result"
    }
   ],
   "source": [
    "cafeterias[1].upper()"
   ]
  },
  {
   "cell_type": "markdown",
   "id": "240505a0",
   "metadata": {},
   "source": [
    "Como es de esperarse, también podemos incluir una operación de indexación dentro de una f-_string_."
   ]
  },
  {
   "cell_type": "code",
   "execution_count": 13,
   "id": "e4109146",
   "metadata": {},
   "outputs": [
    {
     "data": {
      "text/plain": [
       "'¡Qué rico que es el café de Infinita!'"
      ]
     },
     "execution_count": null,
     "metadata": {},
     "output_type": "execute_result"
    }
   ],
   "source": [
    "f\"¡Qué rico que es el café de {cafeterias[1]}!\""
   ]
  },
  {
   "cell_type": "markdown",
   "id": "8ce531c5",
   "metadata": {},
   "source": [
    "::: {.callout-note}\n",
    "### Indexación desde cero 0️⃣\n",
    "\n",
    "Observamos que `cafeterias[1]` devuelve `\"Infinita\"`, que es el elemento de la segunda posición, y no `\"Orlan\"`, que aparece primero.\n",
    "Este resultado no es un error, sino una consecuencia de que Python **indexación desde cero** (_zero-based indexing_, en inglés).\n",
    "Esto significa que, si una lista contiene 6 elementos, sus posiciones van desde el 0 al 5. En general:\n",
    "\n",
    "* El primer elemento está en la posición **0**.\n",
    "* El último elemento está en la posición **n - 1**.\n",
    "\n",
    ":::"
   ]
  },
  {
   "cell_type": "markdown",
   "id": "24d9b4ab",
   "metadata": {},
   "source": [
    "::: {.callout-note}\n",
    "### Misma sintáxis, significados distintos 🎭\n",
    "\n",
    "En Python, los corchetes no siempre significan lo mismo. Sus dos funciones principales son la creación de listas y la indexación de secuencias. Un ejemplo curioso que combina ambos usos es el siguiente:\n",
    "\n",
    "```python\n",
    "[0][0]\n",
    "```\n",
    "```\n",
    "0\n",
    "```\n",
    ":::"
   ]
  },
  {
   "cell_type": "markdown",
   "id": "5513c595",
   "metadata": {},
   "source": [
    "En el siguiente diagrama se muestra que la variable `cafeterias` referencia a un objeto de tipo `list`, que a su vez contiene referencias a distintos objetos de tipo `str`.\n",
    "Cada uno de estos elementos está asociado a un índice, comenzando desde el 0.\n",
    "\n",
    "![Representación gráfica de la lista `cafeterias` en Python.](../imgs/lista_indice.png){fig-align=\"center\" width=\"700px\"}"
   ]
  },
  {
   "cell_type": "markdown",
   "id": "1d88d272",
   "metadata": {},
   "source": [
    "#### Índices negativos\n",
    "\n",
    "Python también permite utilizar valores negativos como índices para seleccionar elemento.\n",
    "\n",
    "* El índice `-1` indica el último elemento.\n",
    "* El índice `-2` indica el penúltimo elemento.\n",
    "* Y así sucesivamente."
   ]
  },
  {
   "cell_type": "code",
   "execution_count": 14,
   "id": "5d46eba4",
   "metadata": {},
   "outputs": [
    {
     "data": {
      "text/plain": [
       "'Heroica'"
      ]
     },
     "execution_count": null,
     "metadata": {},
     "output_type": "execute_result"
    }
   ],
   "source": [
    "cafeterias[-1]"
   ]
  },
  {
   "cell_type": "code",
   "execution_count": 15,
   "id": "a0e23d12",
   "metadata": {},
   "outputs": [
    {
     "data": {
      "text/plain": [
       "'Ruffo'"
      ]
     },
     "execution_count": null,
     "metadata": {},
     "output_type": "execute_result"
    }
   ],
   "source": [
    "cafeterias[-2]"
   ]
  },
  {
   "cell_type": "markdown",
   "id": "e923092a",
   "metadata": {},
   "source": [
    "![Representación gráfica de `cafeterias` utilizando índices negativos para cada elemento.](../imgs/lista_indice_invertido.png){fig-align=\"center\" width=\"700px\"}"
   ]
  },
  {
   "cell_type": "markdown",
   "id": "7e659ff5",
   "metadata": {},
   "source": [
    "### Acceder a sub-listas\n",
    "\n",
    "Hasta ahora vimos que, al usar corchetes con un número entero, podemos acceder a un único elemento de una lista.\n",
    "Si en cambio queremos obtener varios elementos a la vez, necesitamos usar una herramienta llamada _slice_ (o _rebanada_) que permite seleccionar un subconjunto de elementos de una secuencia.\n",
    "\n",
    "La sintaxis es para usar _slices_ es la siguiente:\n",
    "\n",
    "```python\n",
    "lista[inicio:fin]\n",
    "```\n",
    "\n",
    "Esto crea una nueva lista con los elementos que van desde la posición `inicio` hasta la posición `fin`, **sin incluir esta última**.\n",
    "\n",
    "Por ejemplo:"
   ]
  },
  {
   "cell_type": "code",
   "execution_count": 16,
   "id": "2fdc1835",
   "metadata": {},
   "outputs": [
    {
     "data": {
      "text/plain": [
       "['Infinita', 'Arto', 'Cristóbal']"
      ]
     },
     "execution_count": null,
     "metadata": {},
     "output_type": "execute_result"
    }
   ],
   "source": [
    "cafeterias[1:4]"
   ]
  },
  {
   "cell_type": "markdown",
   "id": "a75e35b0",
   "metadata": {},
   "source": [
    "![Selección de sublista de `cafeterias` usando el _slice_ `1:4`.](../imgs/lista_slicing_0.png){fig-align=\"center\" width=\"700px\"}"
   ]
  },
  {
   "cell_type": "markdown",
   "id": "19016b1e",
   "metadata": {},
   "source": [
    "Como los _slices_ incluyen el índice de inicio pero excluyen el de fin, el siguiente código funciona correctamente:"
   ]
  },
  {
   "cell_type": "code",
   "execution_count": 17,
   "id": "1322e7c9",
   "metadata": {},
   "outputs": [
    {
     "data": {
      "text/plain": [
       "['Ruffo', 'Heroica']"
      ]
     },
     "execution_count": null,
     "metadata": {},
     "output_type": "execute_result"
    }
   ],
   "source": [
    "cafeterias[4:6]"
   ]
  },
  {
   "cell_type": "markdown",
   "id": "741d9079",
   "metadata": {},
   "source": [
    "![Selección de sublista de `cafeterias` usando el _slice_ `4:6`.](../imgs/lista_slicing_3.png){fig-align=\"center\" width=\"700px\"}"
   ]
  },
  {
   "cell_type": "markdown",
   "id": "4af513b2",
   "metadata": {},
   "source": [
    "En Python, la sintaxis de los slices permite omitir de forma implícita los valores de inicio o fin cuando se desea tomar una porción desde el principio o hasta el final de la lista. Por ejemplo:\n",
    "\n",
    "* `:n` es equivalente a `0:n` y selecciona los primeros `n` elementos.\n",
    "* `n:` es equivalente a `n:len(lista)` y selecciona desde la posición `n` hasta el final.\n",
    "\n",
    "Estas formas abreviadas hacen el código más conciso sin perder claridad. Por ejemplo:"
   ]
  },
  {
   "cell_type": "code",
   "execution_count": 18,
   "id": "2bf9bf5c",
   "metadata": {},
   "outputs": [
    {
     "data": {
      "text/plain": [
       "['Orlan', 'Infinita', 'Arto']"
      ]
     },
     "execution_count": null,
     "metadata": {},
     "output_type": "execute_result"
    }
   ],
   "source": [
    "cafeterias[:3]"
   ]
  },
  {
   "cell_type": "markdown",
   "id": "0341752a",
   "metadata": {},
   "source": [
    "![Selección de sublista de `cafeterias` hasta el índice `3` usando el _slice_ de inicio implícito `:3`.](../imgs/lista_slicing_1.png){fig-align=\"center\" width=\"700px\"}"
   ]
  },
  {
   "cell_type": "code",
   "execution_count": 19,
   "id": "5d26a61a",
   "metadata": {},
   "outputs": [
    {
     "data": {
      "text/plain": [
       "['Cristóbal', 'Ruffo', 'Heroica']"
      ]
     },
     "execution_count": null,
     "metadata": {},
     "output_type": "execute_result"
    }
   ],
   "source": [
    "cafeterias[3:]"
   ]
  },
  {
   "cell_type": "markdown",
   "id": "2e02bb55",
   "metadata": {},
   "source": [
    "![Selección de sublista de `cafeterias` desde el índice `3` usando el _slice_ con fin implícito `3:`.](../imgs/lista_slicing_2.png){fig-align=\"center\" width=\"700px\"}"
   ]
  },
  {
   "cell_type": "markdown",
   "id": "3e6268dd",
   "metadata": {},
   "source": [
    "### Modificar, agregar y eliminar elementos\n",
    "\n",
    "En general, nuestros programas utilizan las listas como **objetos dinámicos**, es decir, como estructuras cuyo contenido puede cambiar a lo largo del tiempo mediante la modificación, agregación o eliminación de sus elementos.\n",
    "\n",
    "Por ejemplo, supongamos que desarrollamos una página web que permite el registro de usuarios. En este caso, es natural usar una lista para almacenar los nombres de quienes se registran. A medida que pase el tiempo, se espera que se registren nuevos usuarios, otros se den de baja, o algunos incluso decidan cambiar su nombre. Esto implica realizar operaciones sobre la lista, como **agregar**, **eliminar** o **modificar** sus elementos."
   ]
  },
  {
   "cell_type": "markdown",
   "id": "ca3f5735",
   "metadata": {},
   "source": [
    "#### Modificar elementos\n",
    "\n",
    "Para modificar un elemento se utiliza una sintáxis muy similar a la que utilizamos para acceder a un elemento.\n",
    "\n",
    "Escribimos el nombre de la lista seguido del índice del objeto que queremos modificar y el valor que queremos asignar.\n",
    "\n",
    "Supongamos que tenemos una lista con diferentes marcas de cafe: Puerto Blest, Martínez y Fuego Tostadores. "
   ]
  },
  {
   "cell_type": "code",
   "execution_count": 20,
   "id": "b3a07c16",
   "metadata": {},
   "outputs": [
    {
     "data": {
      "text/plain": [
       "['Puerto Blest', 'Martínez', 'Fuego Tostadores']"
      ]
     },
     "execution_count": null,
     "metadata": {},
     "output_type": "execute_result"
    }
   ],
   "source": [
    "marcas = [\"Puerto Blest\", \"Martínez\", \"Fuego Tostadores\"]\n",
    "marcas"
   ]
  },
  {
   "cell_type": "markdown",
   "id": "d4b139d9",
   "metadata": {},
   "source": [
    "¿Cómo hacemos para cambiar el valor del primer elemento? "
   ]
  },
  {
   "cell_type": "code",
   "execution_count": 21,
   "id": "4c29711a",
   "metadata": {},
   "outputs": [
    {
     "data": {
      "text/plain": [
       "['Cabrales', 'Martínez', 'Fuego Tostadores']"
      ]
     },
     "execution_count": null,
     "metadata": {},
     "output_type": "execute_result"
    }
   ],
   "source": [
    "marcas[0] = \"Cabrales\"\n",
    "marcas"
   ]
  },
  {
   "cell_type": "markdown",
   "id": "a28987be",
   "metadata": {},
   "source": [
    "::: {.callout-note}\n",
    "### Una dosis de precisión 🎯\n",
    "\n",
    "En esta sección, cuando hablamos de **modificar un elemento**, nos referimos a **reemplazar el objeto que se encuentra en una posición determinada** de la lista. Observemos el siguiente ejemplo:\n",
    "\n",
    "```python\n",
    "ingredientes = [\"azucar\", \"flores\", \"colores\"]\n",
    "id_original = id(ingredientes[0])\n",
    "\n",
    "# \"Modifico\" el primer elemento\n",
    "ingredientes[0] = \"pimienta\"\n",
    "id_nuevo = id(ingredientes[0])\n",
    "\n",
    "print(\"ID original:\", id_original)\n",
    "print(\"ID nuevo:\", id_nuevo)\n",
    "```\n",
    "```\n",
    "ID original: 139872198862160\n",
    "ID nuevo: 139872198582832\n",
    "```\n",
    "\n",
    "Este ejemplo muestra que la operación no modificó el objeto que se encontraba originalmente en el índice 0, sino que lo reemplazó por uno nuevo.\n",
    "\n",
    "![](../imgs/lista_modificar_elemento.gif){fig-align=\"center\" width=\"600px\"}\n",
    ":::\n",
    "\n",
    "\n",
    "::: {.callout-note}\n",
    "### ¡Atención! 🤓\n",
    "\n",
    "El ejemplo del bloque anterior demuestra que la sintaxis `lista[indice] = objeto` **reemplaza el objeto** que se encuentra en una determinada posición, en vez de modificarlo.\n",
    "Sin embargo, vale la pena destacar que **sí es posible modificar un elemento de una lista**. Para ello, es necesario que el elemento sea un objeto mutable.\n",
    ":::"
   ]
  },
  {
   "cell_type": "markdown",
   "id": "5f765aa7",
   "metadata": {},
   "source": [
    "#### Agregar elementos\n",
    "\n",
    "Supongamos que queremos construir una lista con los nombres de las ciudades que forman parte del Gran Rosario. Para ello, vamos a utilizar el siguiente mapa como referencia. A medida que identifiquemos las distintas localidades, las vamos a ir incorporando a una lista de Python.\n",
    "\n",
    "Agregar elementos a una lista es una tarea común en programación, y Python nos ofrece varias formas de hacerlo. En esta sección vamos a explorar algunos de estos métodos, entendiendo en qué se diferencian y cuándo conviene utilizar cada uno."
   ]
  },
  {
   "cell_type": "markdown",
   "id": "8f3feaf4",
   "metadata": {},
   "source": [
    "![Mapa ilustrado del Gran Rosario.](../imgs/gran_rosario.png){fig-align=\"center\" width=\"400px\"}"
   ]
  },
  {
   "cell_type": "markdown",
   "id": "e63356e8",
   "metadata": {},
   "source": [
    "Primero vamos a armar una lista que contenga los vecinos de Rosario, considerando solo aquellas localidades que limitan con la ciudad.\n",
    "\n",
    "Supongamos que empezamos con una lista que contiene únicamente a la localidad de Funes. A partir de ahí, iremos agregando otras localidades vecinas utilizando distintos métodos que ofrece Python."
   ]
  },
  {
   "cell_type": "code",
   "execution_count": 22,
   "id": "0ea140e2",
   "metadata": {},
   "outputs": [
    {
     "data": {
      "text/plain": [
       "['Funes']"
      ]
     },
     "execution_count": null,
     "metadata": {},
     "output_type": "execute_result"
    }
   ],
   "source": [
    "vecinos_de_rosario = [\"Funes\"]\n",
    "vecinos_de_rosario"
   ]
  },
  {
   "cell_type": "markdown",
   "id": "ce164ed3",
   "metadata": {},
   "source": [
    "##### Agregar elementos al final de la lista\n",
    "\n",
    "La manera más sencilla de agregar un nuevo elemento a una lista es utilizando el método `.append()`.\n",
    "\n",
    "Este método recibe un **único elemento** como argumento y lo agrega al final de la lista."
   ]
  },
  {
   "cell_type": "code",
   "execution_count": 23,
   "id": "54c8dbf6",
   "metadata": {},
   "outputs": [],
   "source": [
    "vecinos_de_rosario.append(\"Soldini\")"
   ]
  },
  {
   "cell_type": "markdown",
   "id": "95e4a3e1",
   "metadata": {},
   "source": [
    "La llamada a este método parece no devolver ningún resultado. Observemos la lista nuevamente:"
   ]
  },
  {
   "cell_type": "code",
   "execution_count": 24,
   "id": "9fa41e44",
   "metadata": {},
   "outputs": [
    {
     "data": {
      "text/plain": [
       "['Funes', 'Soldini']"
      ]
     },
     "execution_count": null,
     "metadata": {},
     "output_type": "execute_result"
    }
   ],
   "source": [
    "vecinos_de_rosario"
   ]
  },
  {
   "cell_type": "markdown",
   "id": "8ba7d033",
   "metadata": {},
   "source": [
    "El método `.append()` agregó `\"Soldini\"` al final de la lista sin retornar ningún valor. En lugar de crear una nueva lista, modificó directamente la que referencia nuestra variable `vecinos_de_rosario`. En otras palabras, el método `.append()` **no crea una nueva lista**, sino que **modifica directamente la lista existente**.\n",
    "\n",
    "Veamos el siguiente ejemplo:"
   ]
  },
  {
   "cell_type": "code",
   "execution_count": 25,
   "id": "eb71d897",
   "metadata": {},
   "outputs": [
    {
     "name": "stdout",
     "output_type": "stream",
     "text": [
      "ID: 140469545075456\n",
      "[] \n",
      "\n",
      "ID: 140469545075456\n",
      "['Funes'] \n",
      "\n",
      "ID: 140469545075456\n",
      "['Funes', 'Soldini']\n"
     ]
    }
   ],
   "source": [
    "vecinos_de_rosario = []\n",
    "print(\"ID:\", id(vecinos_de_rosario))\n",
    "print(vecinos_de_rosario, \"\\n\")\n",
    "\n",
    "vecinos_de_rosario.append(\"Funes\")\n",
    "print(\"ID:\", id(vecinos_de_rosario))\n",
    "print(vecinos_de_rosario, \"\\n\")\n",
    "\n",
    "vecinos_de_rosario.append(\"Soldini\")\n",
    "print(\"ID:\", id(vecinos_de_rosario))\n",
    "print(vecinos_de_rosario)"
   ]
  },
  {
   "cell_type": "markdown",
   "id": "47c97223",
   "metadata": {},
   "source": [
    "Como se puede observar, Python operó siempre sobre la misma lista. Esto se debe a que el método `.append()` modifica la lista existente, en lugar de crear una nueva en cada paso."
   ]
  },
  {
   "cell_type": "markdown",
   "id": "3e16a6fa",
   "metadata": {},
   "source": [
    "##### Insertar elementos en cualquier posición de una lista\n",
    "\n",
    "Para insertar elementos en una lista también podemos utilizar el método `.insert()`.\n",
    "\n",
    "¿Cuál es la diferencia entre `.append()` e `.insert()`?\n",
    "\n",
    "* `.append()` agrega el nuevo elemento **al final** de la lista.\n",
    "* `.insert()` permite insertar un elemento en **cualquier posición**, indicando el índice donde queremos ubicarlo.\n",
    "\n",
    "Por ejemplo, si queremos insertar `\"Villa Gobernador Gálvez\"` al **principio** de la lista, podemos hacerlo con `.insert(0, \"Villa Gobernador Gálvez\")`."
   ]
  },
  {
   "cell_type": "code",
   "execution_count": 26,
   "id": "42ada362",
   "metadata": {},
   "outputs": [
    {
     "data": {
      "text/plain": [
       "['Villa Gobernador Gálvez', 'Funes', 'Soldini']"
      ]
     },
     "execution_count": null,
     "metadata": {},
     "output_type": "execute_result"
    }
   ],
   "source": [
    "vecinos_de_rosario.insert(0, \"Villa Gobernador Gálvez\")\n",
    "vecinos_de_rosario"
   ]
  },
  {
   "cell_type": "markdown",
   "id": "f7764c6f",
   "metadata": {},
   "source": [
    "`.insert()` agregó a `\"Villa Gobernador Gálvez\"` en el inicio de la lista y corrió o trasladó al resto de los elementos hacia la derecha."
   ]
  },
  {
   "cell_type": "markdown",
   "id": "50e558a8",
   "metadata": {},
   "source": [
    "Y si ahora queremos agregar a `\"Pérez\"` en la tercera posición de la lista, simplemente:"
   ]
  },
  {
   "cell_type": "code",
   "execution_count": 27,
   "id": "f2768e0f",
   "metadata": {},
   "outputs": [
    {
     "data": {
      "text/plain": [
       "['Villa Gobernador Gálvez', 'Funes', 'Pérez', 'Soldini']"
      ]
     },
     "execution_count": null,
     "metadata": {},
     "output_type": "execute_result"
    }
   ],
   "source": [
    "vecinos_de_rosario.insert(2, \"Pérez\")\n",
    "vecinos_de_rosario"
   ]
  },
  {
   "cell_type": "markdown",
   "id": "76aa8eb2",
   "metadata": {},
   "source": [
    "Al igual que `.append()`, `.insert()` también modifica la lista existente en vez de devolver una lista nueva."
   ]
  },
  {
   "cell_type": "markdown",
   "id": "abb7c86a",
   "metadata": {},
   "source": [
    "**TODO**: CALLOUT con el termino _in-place_."
   ]
  },
  {
   "cell_type": "markdown",
   "id": "5967162b",
   "metadata": {},
   "source": [
    "#### Combinar listas\n",
    "\n",
    "En la sección anterior vimos cómo insertar elementos individuales en una lista. Ahora vamos a explorar otra operación muy común: **combinar listas**.\n",
    "\n",
    "Supongamos que ya tenemos una lista llamada `vecinos_de_rosario`, y otra llamada `vecinos_al_norte`. Queremos unir ambas listas para tener toda la información en una sola. Para lograrlo, una opción es usar el método `.extend()`, que nos permite agregar todos los elementos de una lista al final de otra, modificando directamente la lista original."
   ]
  },
  {
   "cell_type": "code",
   "execution_count": 28,
   "id": "dcb74c2a",
   "metadata": {},
   "outputs": [
    {
     "name": "stdout",
     "output_type": "stream",
     "text": [
      "['Villa Gobernador Gálvez', 'Funes', 'Pérez', 'Soldini']\n"
     ]
    }
   ],
   "source": [
    "print(vecinos_de_rosario)"
   ]
  },
  {
   "cell_type": "code",
   "execution_count": 29,
   "id": "656677aa",
   "metadata": {},
   "outputs": [
    {
     "data": {
      "text/plain": [
       "['Villa Gobernador Gálvez',\n",
       " 'Funes',\n",
       " 'Pérez',\n",
       " 'Soldini',\n",
       " 'Granadero Baigorria',\n",
       " 'Ibarlucea']"
      ]
     },
     "execution_count": null,
     "metadata": {},
     "output_type": "execute_result"
    }
   ],
   "source": [
    "vecinos_al_norte = [\"Granadero Baigorria\", \"Ibarlucea\"]\n",
    "\n",
    "vecinos_de_rosario.extend(vecinos_al_norte)\n",
    "vecinos_de_rosario"
   ]
  },
  {
   "cell_type": "markdown",
   "id": "33517043",
   "metadata": {},
   "source": [
    "De la misma manera que `.append()` agrega un elemento al final de una lista, el método `.extend()` permite agregar **todos los elementos de otra lista** al final.\n",
    "\n",
    "Otra forma de combinar listas es utilizando el operador de suma `+`, que realiza una concatenación de listas. A diferencia de `.extend()`, este operador **no modifica las listas originales**, sino que devuelve una nueva lista con los elementos de las dos listas originales concatenados en una nueva.\n",
    "\n",
    "Para ver cómo funciona, primero vamos a construir una lista llamada `otras_localidades`, que contiene localidades del Gran Rosario que no están pegadas a Rosario. Luego, vamos a sumar esa lista a la que ya tenemos."
   ]
  },
  {
   "cell_type": "code",
   "execution_count": 30,
   "id": "d9a2b5cd",
   "metadata": {},
   "outputs": [],
   "source": [
    "otras_localidades = [\n",
    "    \"Puerto San Martín\",\n",
    "    \"San Lorenzo\",\n",
    "    \"Fray Luis Beltrán\",\n",
    "    \"Capitán Bermudez\",\n",
    "    \"Ricardone\",\n",
    "    \"Roldán\",\n",
    "    \"Alvear\",\n",
    "    \"Pueblo Esther\",\n",
    "    \"General Lagos\",\n",
    "    \"Arroyo Seco\"\n",
    "]"
   ]
  },
  {
   "cell_type": "markdown",
   "id": "895b753c",
   "metadata": {},
   "source": [
    "Observemos los ID de las listas que vamos a combinar:"
   ]
  },
  {
   "cell_type": "code",
   "execution_count": 31,
   "id": "b6904654",
   "metadata": {},
   "outputs": [
    {
     "name": "stdout",
     "output_type": "stream",
     "text": [
      "140469545075456\n",
      "140469526881344\n"
     ]
    }
   ],
   "source": [
    "print(id(vecinos_de_rosario))\n",
    "print(id(otras_localidades))"
   ]
  },
  {
   "cell_type": "markdown",
   "id": "f9694ab7",
   "metadata": {},
   "source": [
    "Y concatenemos ambas listas utilizando el operador de suma:"
   ]
  },
  {
   "cell_type": "code",
   "execution_count": 32,
   "id": "1979563a",
   "metadata": {},
   "outputs": [
    {
     "data": {
      "text/plain": [
       "['Villa Gobernador Gálvez',\n",
       " 'Funes',\n",
       " 'Pérez',\n",
       " 'Soldini',\n",
       " 'Granadero Baigorria',\n",
       " 'Ibarlucea',\n",
       " 'Puerto San Martín',\n",
       " 'San Lorenzo',\n",
       " 'Fray Luis Beltrán',\n",
       " 'Capitán Bermudez',\n",
       " 'Ricardone',\n",
       " 'Roldán',\n",
       " 'Alvear',\n",
       " 'Pueblo Esther',\n",
       " 'General Lagos',\n",
       " 'Arroyo Seco']"
      ]
     },
     "execution_count": null,
     "metadata": {},
     "output_type": "execute_result"
    }
   ],
   "source": [
    "vecinos_de_rosario + otras_localidades"
   ]
  },
  {
   "cell_type": "markdown",
   "id": "ecccb1f5",
   "metadata": {},
   "source": [
    "Si observamos con atención, notamos que la operación sí retornar una lista como resultado, la cual podríamos guardar en una nueva variable."
   ]
  },
  {
   "cell_type": "code",
   "execution_count": 33,
   "id": "26b31dfb",
   "metadata": {},
   "outputs": [
    {
     "data": {
      "text/plain": [
       "['Villa Gobernador Gálvez',\n",
       " 'Funes',\n",
       " 'Pérez',\n",
       " 'Soldini',\n",
       " 'Granadero Baigorria',\n",
       " 'Ibarlucea',\n",
       " 'Puerto San Martín',\n",
       " 'San Lorenzo',\n",
       " 'Fray Luis Beltrán',\n",
       " 'Capitán Bermudez',\n",
       " 'Ricardone',\n",
       " 'Roldán',\n",
       " 'Alvear',\n",
       " 'Pueblo Esther',\n",
       " 'General Lagos',\n",
       " 'Arroyo Seco']"
      ]
     },
     "execution_count": null,
     "metadata": {},
     "output_type": "execute_result"
    }
   ],
   "source": [
    "gran_rosario = vecinos_de_rosario + otras_localidades\n",
    "gran_rosario"
   ]
  },
  {
   "cell_type": "markdown",
   "id": "320a1c49",
   "metadata": {},
   "source": [
    "Y finalmente, se puede ver que las listas originales no se han modificado, y que `gran_rosario` referencia una lista nueva."
   ]
  },
  {
   "cell_type": "code",
   "execution_count": 34,
   "id": "f4f41bb6",
   "metadata": {},
   "outputs": [
    {
     "name": "stdout",
     "output_type": "stream",
     "text": [
      "140469545075456\n",
      "['Villa Gobernador Gálvez', 'Funes', 'Pérez', 'Soldini', 'Granadero Baigorria', 'Ibarlucea'] \n",
      "\n",
      "140469526881344\n",
      "['Puerto San Martín', 'San Lorenzo', 'Fray Luis Beltrán', 'Capitán Bermudez', 'Ricardone', 'Roldán', 'Alvear', 'Pueblo Esther', 'General Lagos', 'Arroyo Seco'] \n",
      "\n",
      "140469527496576\n",
      "['Villa Gobernador Gálvez', 'Funes', 'Pérez', 'Soldini', 'Granadero Baigorria', 'Ibarlucea', 'Puerto San Martín', 'San Lorenzo', 'Fray Luis Beltrán', 'Capitán Bermudez', 'Ricardone', 'Roldán', 'Alvear', 'Pueblo Esther', 'General Lagos', 'Arroyo Seco'] \n",
      "\n"
     ]
    }
   ],
   "source": [
    "print(id(vecinos_de_rosario))\n",
    "print(vecinos_de_rosario, \"\\n\")\n",
    "\n",
    "print(id(otras_localidades))\n",
    "print(otras_localidades, \"\\n\")\n",
    "\n",
    "print(id(gran_rosario))\n",
    "print(gran_rosario, \"\\n\")"
   ]
  },
  {
   "cell_type": "markdown",
   "id": "f64f4125",
   "metadata": {},
   "source": [
    "#### Eliminar elementos de una lista\n",
    "\n",
    "Así como es común agregar elementos a una lista o combinar listas para crear nuevas, también lo es eliminar elementos.\n",
    "\n",
    "Por ejemplo, si en una página web guardamos los nombres de los usuarios en una lista, y uno de ellos se da de baja, necesitaremos eliminar su nombre de esa lista.\n",
    "\n",
    "Para ilustrarlo, vamos a crear una lista de usuarios ficticios:"
   ]
  },
  {
   "cell_type": "code",
   "execution_count": 35,
   "id": "d39fb43c",
   "metadata": {},
   "outputs": [
    {
     "data": {
      "text/plain": [
       "['cyberwolf', 'neo_404', 'pixelbyte', 'alphaX', 'quantum.dev']"
      ]
     },
     "execution_count": null,
     "metadata": {},
     "output_type": "execute_result"
    }
   ],
   "source": [
    "usuarios = [\"cyberwolf\", \"neo_404\", \"pixelbyte\", \"alphaX\", \"quantum.dev\"]\n",
    "usuarios"
   ]
  },
  {
   "cell_type": "markdown",
   "id": "43682f35",
   "metadata": {},
   "source": [
    "##### Eliminar elementos utilizando `del`\n",
    "\n",
    "La sentencia `del`, que ya usamos para eliminar variables, también puede usarse para eliminar elementos de una lista.\n",
    "\n",
    "Para hacerlo, necesitamos conocer la posición del elemento que queremos eliminar.\n",
    "\n",
    "Por ejemplo, si queremos eliminar a `\"neo_404\"`, que está en la segunda posición, podemos hacerlo con:"
   ]
  },
  {
   "cell_type": "code",
   "execution_count": 36,
   "id": "877f85d6",
   "metadata": {},
   "outputs": [
    {
     "name": "stdout",
     "output_type": "stream",
     "text": [
      "['cyberwolf', 'neo_404', 'pixelbyte', 'alphaX', 'quantum.dev']\n",
      "['cyberwolf', 'neo_404', 'pixelbyte', 'alphaX']\n"
     ]
    }
   ],
   "source": [
    "print(usuarios)\n",
    "\n",
    "del usuarios[-1]\n",
    "\n",
    "print(usuarios)"
   ]
  },
  {
   "cell_type": "markdown",
   "id": "04778634",
   "metadata": {},
   "source": [
    "##### Eliminar elementos con `.pop()`\n",
    "\n",
    "Si bien la sentencia `del` permite eliminar elementos de una lista, no nos da acceso al elemento eliminado.\n",
    "\n",
    "Sin embargo, en muchos casos queremos extraer un elemento de una lista para utilizarlo en otra parte de nuestro programa.\n",
    "Por ejemplo, si tenemos una lista de usuarios, tal vez nos interesa guardar el nombre del usuario que se elimina en otra lista que registre los usuarios dados de baja.\n",
    "\n",
    "Para eso podemos usar el método `.pop()`, que elimina un elemento de la lista y, al mismo tiempo, lo devuelve."
   ]
  },
  {
   "cell_type": "code",
   "execution_count": 37,
   "id": "fd9cb723",
   "metadata": {},
   "outputs": [
    {
     "name": "stdout",
     "output_type": "stream",
     "text": [
      "['cyberwolf', 'neo_404', 'alphaX', 'quantum.dev']\n",
      "pixelbyte\n"
     ]
    }
   ],
   "source": [
    "usuarios = [\"cyberwolf\", \"neo_404\", \"pixelbyte\", \"alphaX\", \"quantum.dev\"]\n",
    "usuario_eliminado = usuarios.pop(2)\n",
    "\n",
    "print(usuarios) # \"pixelbyte\" es 'extraido'\n",
    "print(usuario_eliminado)"
   ]
  },
  {
   "cell_type": "markdown",
   "id": "a154dfec",
   "metadata": {},
   "source": [
    "En resumen, `usuarios.pop(2)` busca el valor en la tercera posición, lo extrae de la lista y lo devuelve.\n",
    "\n",
    "También es posible usar `.pop()` sin indicar una posición. En ese caso, extree el último elemento de la lista por defecto."
   ]
  },
  {
   "cell_type": "code",
   "execution_count": 38,
   "id": "64d9d123",
   "metadata": {},
   "outputs": [
    {
     "name": "stdout",
     "output_type": "stream",
     "text": [
      "['cyberwolf', 'neo_404', 'pixelbyte', 'alphaX', 'quantum.dev'] \n",
      "\n",
      "quantum.dev\n",
      "['cyberwolf', 'neo_404', 'pixelbyte', 'alphaX'] \n",
      "\n",
      "alphaX\n",
      "['cyberwolf', 'neo_404', 'pixelbyte']\n"
     ]
    }
   ],
   "source": [
    "usuarios = [\"cyberwolf\", \"neo_404\", \"pixelbyte\", \"alphaX\", \"quantum.dev\"]\n",
    "print(usuarios, \"\\n\")\n",
    "\n",
    "usuario_eliminado = usuarios.pop()\n",
    "print(usuario_eliminado)\n",
    "print(usuarios, \"\\n\")\n",
    "\n",
    "usuario_eliminado = usuarios.pop()\n",
    "print(usuario_eliminado)\n",
    "print(usuarios)"
   ]
  },
  {
   "cell_type": "markdown",
   "id": "720c7580",
   "metadata": {},
   "source": [
    "Y podríamos continuar así hasta vaciar la lista."
   ]
  },
  {
   "cell_type": "markdown",
   "id": "5ef2f4f9",
   "metadata": {},
   "source": [
    "##### Eliminar elementos con `.remove()`\n",
    "\n",
    "El método `.remove()` es útil para cuando queremos eliminar elementos de una lista a partir de su valor, en lugar de su posición. Por ejemplo:"
   ]
  },
  {
   "cell_type": "code",
   "execution_count": 39,
   "id": "8007ce00",
   "metadata": {},
   "outputs": [
    {
     "name": "stdout",
     "output_type": "stream",
     "text": [
      "['cyberwolf', 'neo_404', 'pixelbyte', 'alphaX', 'quantum.dev']\n",
      "['neo_404', 'pixelbyte', 'alphaX', 'quantum.dev']\n"
     ]
    }
   ],
   "source": [
    "usuarios = [\"cyberwolf\", \"neo_404\", \"pixelbyte\", \"alphaX\", \"quantum.dev\"]\n",
    "print(usuarios)\n",
    "\n",
    "usuarios.remove(\"cyberwolf\")\n",
    "print(usuarios)"
   ]
  },
  {
   "cell_type": "markdown",
   "id": "a1c75eb0",
   "metadata": {},
   "source": [
    "Al igual que `del`, remove no devuelve el valor que se remueve."
   ]
  },
  {
   "cell_type": "markdown",
   "id": "6adfef5d",
   "metadata": {},
   "source": [
    "TODO: CALLOUT RESUMEN: del, pop y remove\n",
    "\n",
    "* Ejemplo\n",
    "* Por valor / por posición\n",
    "* In-place (si / no)"
   ]
  },
  {
   "cell_type": "markdown",
   "id": "b102303c",
   "metadata": {},
   "source": [
    "### Funciones y métodos útiles\n",
    "\n",
    "#### Ordenamiento\n",
    "\n",
    "Es común que las listas se creen sin seguir un orden particular.\n",
    "Sin embargo, en algunas situaciones puede ser importante conservar el orden en que se agregaron los elementos,\n",
    "mientras que en otras puede resultar útil trabajar con los datos ordenados, por ejemplo, para facilitar su presentación.\n",
    "\n",
    "En Python existen al menos dos formas de obtener listas ordenadas."
   ]
  },
  {
   "cell_type": "markdown",
   "id": "882a1b82",
   "metadata": {},
   "source": [
    "##### El método `.sort()`\n",
    "\n",
    "Para ordenar una lista de manera sencilla, podemos usar el método `.sort()`.\n",
    "Veamos un par de ejemplos para entender cómo funciona."
   ]
  },
  {
   "cell_type": "code",
   "execution_count": 40,
   "id": "997235dd",
   "metadata": {},
   "outputs": [
    {
     "name": "stdout",
     "output_type": "stream",
     "text": [
      "['Coca Cola', 'Fanta', 'Sprite']\n"
     ]
    }
   ],
   "source": [
    "productos = [\"Fanta\", \"Coca Cola\", \"Sprite\"]\n",
    "productos.sort()\n",
    "print(productos)"
   ]
  },
  {
   "cell_type": "code",
   "execution_count": 41,
   "id": "cb5bf474",
   "metadata": {},
   "outputs": [
    {
     "name": "stdout",
     "output_type": "stream",
     "text": [
      "[70, 80.0, 100, 110]\n"
     ]
    }
   ],
   "source": [
    "precios = [100, 110, 80.0, 70]\n",
    "precios.sort()\n",
    "print(precios)"
   ]
  },
  {
   "cell_type": "markdown",
   "id": "4cf1afbf",
   "metadata": {},
   "source": [
    "Podemos concluir que el método `.sort()` realiza un **ordenamiento permanente**, ya que modifica directamente la lista sobre la que se aplica y no devuelve una nueva.\n",
    "Esto significa que, una vez ejecutado, no es posible recuperar la lista original a menos que la hayamos guardado previamente.\n",
    "\n",
    "Por defecto, el ordenamiento se hace de menor a mayor: en el caso de cadenas de texto, se compara caracter por caracter, y en el caso de números, se ordenan a partir de su valor."
   ]
  },
  {
   "cell_type": "markdown",
   "id": "91a8d8ce",
   "metadata": {},
   "source": [
    "**¿Cómo hacemos para ordenar de manera decreciente?**\n",
    "\n",
    "El método `.sort()` tiene un argumento llamado `reverse`. Si este valor es igual a `True`, se ordenan los elementos de mayor a menor."
   ]
  },
  {
   "cell_type": "code",
   "execution_count": 42,
   "id": "2d4afea4",
   "metadata": {},
   "outputs": [
    {
     "name": "stdout",
     "output_type": "stream",
     "text": [
      "['Sprite', 'Fanta', 'Coca Cola']\n"
     ]
    }
   ],
   "source": [
    "productos = [\"Fanta\", \"Coca Cola\", \"Sprite\"]\n",
    "productos.sort(reverse=True)\n",
    "print(productos)"
   ]
  },
  {
   "cell_type": "code",
   "execution_count": 43,
   "id": "69964c45",
   "metadata": {},
   "outputs": [
    {
     "name": "stdout",
     "output_type": "stream",
     "text": [
      "[110, 100, 80, 70]\n"
     ]
    }
   ],
   "source": [
    "precios = [100, 110, 80, 70]\n",
    "precios.sort(reverse=True)\n",
    "print(precios)"
   ]
  },
  {
   "cell_type": "markdown",
   "id": "abc5c0ce",
   "metadata": {},
   "source": [
    "##### La función `sorted()`\n",
    "Al igual que el método `.sort()`, la función `sorted()` permite ordenar una lista.\n",
    "La diferencia principal es que `sorted()` **no modifica la lista original**, sino que **devuelve una nueva lista ordenada**.\n",
    "Esto resulta útil cuando queremos conservar tanto el orden original como una versión ordenada de la misma lista.\n",
    "\n",
    "Veamos algunos ejemplos breves:"
   ]
  },
  {
   "cell_type": "code",
   "execution_count": 44,
   "id": "94bfdc79",
   "metadata": {},
   "outputs": [
    {
     "name": "stdout",
     "output_type": "stream",
     "text": [
      "Esta es la lista original:\n",
      "['Counter Strike', 'The Sims', 'Age of Empires II', 'League of Legends', 'Among Us'] \n",
      "\n",
      "Esta es la lista ordenada:\n",
      "['Age of Empires II', 'Among Us', 'Counter Strike', 'League of Legends', 'The Sims']\n"
     ]
    }
   ],
   "source": [
    "juegos = [\"Counter Strike\", \"The Sims\", \"Age of Empires II\", \"League of Legends\", \"Among Us\"]\n",
    "juegos_ordenados = sorted(juegos)\n",
    "\n",
    "print(\"Esta es la lista original:\")\n",
    "print(juegos, \"\\n\")\n",
    "\n",
    "print(\"Esta es la lista ordenada:\")\n",
    "print(juegos_ordenados)"
   ]
  },
  {
   "cell_type": "code",
   "execution_count": 45,
   "id": "0692111c",
   "metadata": {},
   "outputs": [
    {
     "name": "stdout",
     "output_type": "stream",
     "text": [
      "id(juegos):            140469545050944\n",
      "id(juegos_ordenados):  140469527488640\n"
     ]
    }
   ],
   "source": [
    "print(\"id(juegos):\".ljust(22), id(juegos))\n",
    "print(\"id(juegos_ordenados):\".ljust(22), id(juegos_ordenados))"
   ]
  },
  {
   "cell_type": "markdown",
   "id": "b0c54b49",
   "metadata": {},
   "source": [
    "Al igual que `.sort()`, `sorted()` también tiene un argumento que determina el orden:"
   ]
  },
  {
   "cell_type": "code",
   "execution_count": 46,
   "id": "575e720b",
   "metadata": {},
   "outputs": [
    {
     "data": {
      "text/plain": [
       "['The Sims',\n",
       " 'League of Legends',\n",
       " 'Counter Strike',\n",
       " 'Among Us',\n",
       " 'Age of Empires II']"
      ]
     },
     "execution_count": null,
     "metadata": {},
     "output_type": "execute_result"
    }
   ],
   "source": [
    "sorted(juegos, reverse=True)"
   ]
  },
  {
   "cell_type": "markdown",
   "id": "b1d31d5d",
   "metadata": {},
   "source": [
    "#### Invertir el orden con `.reverse()`\n",
    "\n",
    "Hasta ahora vimos cómo ordenar listas de menor a mayor y de mayor a menor.\n",
    "\n",
    "Otra operación común es invertir el orden de los elementos, y para eso podemos usar el método `.reverse()`.\n",
    "\n",
    "Al igual que `.sort()`, esta operación modifica la lista original de forma permanente."
   ]
  },
  {
   "cell_type": "code",
   "execution_count": 47,
   "id": "bd14695e",
   "metadata": {},
   "outputs": [
    {
     "name": "stdout",
     "output_type": "stream",
     "text": [
      "['Sprite', 'Coca Cola', 'Fanta']\n"
     ]
    }
   ],
   "source": [
    "productos = [\"Fanta\", \"Coca Cola\", \"Sprite\"]\n",
    "productos.reverse()\n",
    "print(productos)"
   ]
  },
  {
   "cell_type": "markdown",
   "id": "8c9f74bd",
   "metadata": {},
   "source": [
    "Si nos arrepentimos de haber invertido el orden, podemos usar `.reverse()` nuevamente y recuperamos el orden original."
   ]
  },
  {
   "cell_type": "code",
   "execution_count": 48,
   "id": "27ba72a8",
   "metadata": {},
   "outputs": [
    {
     "name": "stdout",
     "output_type": "stream",
     "text": [
      "['Fanta', 'Coca Cola', 'Sprite']\n"
     ]
    }
   ],
   "source": [
    "productos.reverse()\n",
    "print(productos)"
   ]
  },
  {
   "cell_type": "markdown",
   "id": "e7813911",
   "metadata": {},
   "source": [
    "::: {.callout-note}\n",
    "### ¿Y la funcion `reversed()`? 🤔\n",
    "\n",
    "Así como tenemos `.sort()` y `sorted()`, uno podría preguntarse si existe un `reversed()` que complemente `.reverse()`.\n",
    "\n",
    "La respuesta es sí, `reversed()` existe. Sin embargo, su resultado no es una lista, sino un tipo de objeto que aún no hemos explorado.\n",
    "\n",
    "Sin embargo, lo vamos a ver más adelante 😊\n",
    "\n",
    ":::"
   ]
  },
  {
   "cell_type": "markdown",
   "id": "53e4999a",
   "metadata": {},
   "source": [
    "#### Cantidad de elementos\n",
    "\n",
    "Para saber cuantos elementos hay en una lista utilizamos la función `len()`.\n",
    "\n",
    "Por ejemplo, para obtener la cantidad de usuarios de manera programática:"
   ]
  },
  {
   "cell_type": "code",
   "execution_count": 49,
   "id": "3254cdbb",
   "metadata": {},
   "outputs": [
    {
     "name": "stdout",
     "output_type": "stream",
     "text": [
      "['cyberwolf', 'neo_404', 'pixelbyte', 'alphaX', 'quantum.dev']\n"
     ]
    },
    {
     "data": {
      "text/plain": [
       "5"
      ]
     },
     "execution_count": null,
     "metadata": {},
     "output_type": "execute_result"
    }
   ],
   "source": [
    "usuarios = [\"cyberwolf\", \"neo_404\", \"pixelbyte\", \"alphaX\", \"quantum.dev\"]\n",
    "print(usuarios)\n",
    "len(usuarios)"
   ]
  },
  {
   "cell_type": "markdown",
   "id": "41bb5577",
   "metadata": {},
   "source": [
    "Y para obtener la cantidad de ciudades del Gran Rosario (aunque falte una 😉):"
   ]
  },
  {
   "cell_type": "code",
   "execution_count": 50,
   "id": "f6fae449",
   "metadata": {},
   "outputs": [
    {
     "name": "stdout",
     "output_type": "stream",
     "text": [
      "['Villa Gobernador Gálvez', 'Funes', 'Pérez', 'Soldini', 'Granadero Baigorria', 'Ibarlucea', 'Puerto San Martín', 'San Lorenzo', 'Fray Luis Beltrán', 'Capitán Bermudez', 'Ricardone', 'Roldán', 'Alvear', 'Pueblo Esther', 'General Lagos', 'Arroyo Seco']\n"
     ]
    },
    {
     "data": {
      "text/plain": [
       "16"
      ]
     },
     "execution_count": null,
     "metadata": {},
     "output_type": "execute_result"
    }
   ],
   "source": [
    "print(gran_rosario)\n",
    "len(gran_rosario)"
   ]
  },
  {
   "cell_type": "markdown",
   "id": "1c2fb46f",
   "metadata": {},
   "source": [
    "#### Existencia de elemento\n",
    "\n",
    "Para evaluar si un determinado elemento se encuentra en una lista utilizamos el operador `in`."
   ]
  },
  {
   "cell_type": "code",
   "execution_count": 51,
   "id": "97337196",
   "metadata": {},
   "outputs": [
    {
     "data": {
      "text/plain": [
       "False"
      ]
     },
     "execution_count": null,
     "metadata": {},
     "output_type": "execute_result"
    }
   ],
   "source": [
    "nuevo_usuario = \"pepito\"\n",
    "nuevo_usuario in usuarios"
   ]
  },
  {
   "cell_type": "markdown",
   "id": "b70e6ab7",
   "metadata": {},
   "source": [
    "Que correctamente indica que `\"pepito\"` no está en nuestra base de usuarios. Por otro lado,"
   ]
  },
  {
   "cell_type": "code",
   "execution_count": 52,
   "id": "899e4b97",
   "metadata": {},
   "outputs": [
    {
     "data": {
      "text/plain": [
       "True"
      ]
     },
     "execution_count": null,
     "metadata": {},
     "output_type": "execute_result"
    }
   ],
   "source": [
    "\"cyberwolf\" in usuarios"
   ]
  },
  {
   "cell_type": "markdown",
   "id": "4bf48d4e",
   "metadata": {},
   "source": [
    "¿Y cómo preguntar si algún elemento **no está** dentro de la lista? Para eso, utilizamos el operador `not in`."
   ]
  },
  {
   "cell_type": "code",
   "execution_count": 53,
   "id": "e2f41357",
   "metadata": {},
   "outputs": [
    {
     "data": {
      "text/plain": [
       "True"
      ]
     },
     "execution_count": null,
     "metadata": {},
     "output_type": "execute_result"
    }
   ],
   "source": [
    "\"Colón\" not in gran_rosario"
   ]
  },
  {
   "cell_type": "markdown",
   "id": "61bac2bc",
   "metadata": {},
   "source": [
    "La respuesta es `True` porque efectivamente `\"Colón\"` **no pertenece** al Gran Rosario.\n",
    "\n",
    "Este es uno de los tantos ejemplos donde Python se parece mucho mas al lenguaje humano que al lenguaje de las computadoras."
   ]
  },
  {
   "cell_type": "markdown",
   "id": "3db50c71",
   "metadata": {},
   "source": [
    "#### Posición de un elemento\n",
    "\n",
    "Si queremos conocer la posición de un elemento en la lista podemos utilizar el método `.index()`. Por ejemplo:"
   ]
  },
  {
   "cell_type": "code",
   "execution_count": 54,
   "id": "b0fc3070",
   "metadata": {},
   "outputs": [
    {
     "data": {
      "text/plain": [
       "['a', 'e', 'i', 'o', 'u']"
      ]
     },
     "execution_count": null,
     "metadata": {},
     "output_type": "execute_result"
    }
   ],
   "source": [
    "vocales = [\"a\", \"e\", \"i\", \"o\", \"u\"]\n",
    "vocales"
   ]
  },
  {
   "cell_type": "code",
   "execution_count": 55,
   "id": "d94b158b",
   "metadata": {},
   "outputs": [
    {
     "data": {
      "text/plain": [
       "2"
      ]
     },
     "execution_count": null,
     "metadata": {},
     "output_type": "execute_result"
    }
   ],
   "source": [
    "vocales.index(\"i\")"
   ]
  },
  {
   "cell_type": "markdown",
   "id": "2b68fc69",
   "metadata": {},
   "source": [
    "Al igual que `.remove()`, el método `.index()` actúa sobre el primer elemento de la lista que coincide con el valor indicado.\n",
    "\n",
    "Es decir, si hay múltiples apariciones del mismo valor, solo se considera la primera.\n",
    "\n",
    "Por ejemplo:"
   ]
  },
  {
   "cell_type": "code",
   "execution_count": 56,
   "id": "42cd54f1",
   "metadata": {},
   "outputs": [
    {
     "data": {
      "text/plain": [
       "0"
      ]
     },
     "execution_count": null,
     "metadata": {},
     "output_type": "execute_result"
    }
   ],
   "source": [
    "[\"a\", \"a\", \"a\"].index(\"a\")"
   ]
  },
  {
   "cell_type": "markdown",
   "id": "cee1cc00",
   "metadata": {},
   "source": [
    "El resultado es `0` porque esa es la primera posición en la que aparece `\"a\"` en la lista. Sin embargo, esto no quiere decir que `\"a\"` aparezca una sola vez; simplemente indica la ubicación de su **primera ocurrencia**."
   ]
  },
  {
   "cell_type": "markdown",
   "id": "1b974c2f",
   "metadata": {},
   "source": [
    "#### Frecuencia de un elemento\n",
    "\n",
    "Si queremos saber cuántas veces aparece un elemento en una lista, podemos usar el método `.count()`.\n",
    "Este método devuelve la cantidad de ocurrencias del valor indicado dentro de la lista."
   ]
  },
  {
   "cell_type": "code",
   "execution_count": 57,
   "id": "7886f494",
   "metadata": {},
   "outputs": [
    {
     "data": {
      "text/plain": [
       "3"
      ]
     },
     "execution_count": null,
     "metadata": {},
     "output_type": "execute_result"
    }
   ],
   "source": [
    "[\"a\", \"a\", \"a\"].count(\"a\")"
   ]
  },
  {
   "cell_type": "code",
   "execution_count": 58,
   "id": "a672e7e7",
   "metadata": {},
   "outputs": [
    {
     "data": {
      "text/plain": [
       "0"
      ]
     },
     "execution_count": null,
     "metadata": {},
     "output_type": "execute_result"
    }
   ],
   "source": [
    "[\"a\", \"a\", \"a\"].count(\"b\")"
   ]
  },
  {
   "cell_type": "markdown",
   "id": "8d63f762",
   "metadata": {},
   "source": [
    "#### Estadísticas básicas\n",
    "\n",
    "Python ofrece funciones que nos permiten calcular fácilmente algunas estadísticas básicas o medidas resumen, como el mínimo, el máximo y la suma de los elementos de una lista. \n",
    "\n",
    "Se destacan:\n",
    "\n",
    "* `min()`, que devuelve el valor mínimo\n",
    "* `max()`, que devuelve el valor máximo\n",
    "* `sum()`, que devuelve la suma total\n",
    "\n",
    "Veamos algunos ejemplos:"
   ]
  },
  {
   "cell_type": "code",
   "execution_count": 59,
   "id": "e9b7948f",
   "metadata": {},
   "outputs": [
    {
     "data": {
      "text/plain": [
       "[3, 7.5, 12, 1.2, 9, 4.8, 6, 15.3, 2.1, 8]"
      ]
     },
     "execution_count": null,
     "metadata": {},
     "output_type": "execute_result"
    }
   ],
   "source": [
    "numeros = [3, 7.5, 12, 1.2, 9, 4.8, 6, 15.3, 2.1, 8]\n",
    "numeros"
   ]
  },
  {
   "cell_type": "code",
   "execution_count": 60,
   "id": "f2f7f728",
   "metadata": {},
   "outputs": [
    {
     "name": "stdout",
     "output_type": "stream",
     "text": [
      "Valor mínimo: 1.2\n",
      "Valor máximo: 15.3\n",
      "Suma de valores: 68.9\n"
     ]
    }
   ],
   "source": [
    "print(\"Valor mínimo:\", min(numeros))\n",
    "print(\"Valor máximo:\", max(numeros))\n",
    "print(\"Suma de valores:\", sum(numeros))"
   ]
  },
  {
   "cell_type": "markdown",
   "id": "f01b0004",
   "metadata": {},
   "source": [
    "### Resumen de métodos\n",
    "\n",
    "\n",
    "| **Método**          | **Descripción**                                                       |\n",
    "|---------------------|-----------------------------------------------------------------------|\n",
    "| `.append(x)`        | Inserta el valor `x` al final de la lista                             |\n",
    "| `.pop(i)`           | Remueve y devuelve el elemento en la posición `i`                     |\n",
    "| `.insert(i, x)`     | Inserta el valor `x` en la posición `i`                               |\n",
    "| `.extend(iterable)` | Inserta todos los valores de `iterable` al final de la lista          |\n",
    "| `.index(x)`         | Devuelve el la posición donde `x` aparece por primera vez en la lista |\n",
    "| `.count(x)`         | Devuelve la cantidad de veces que aparece `x` en la lista             |\n",
    "| `.sort()`           | Ordena los elementos de la lista, de menor a mayor                    |\n",
    "| `.reverse()`        | Invierte el orden de los elementos en la lista                        |\n"
   ]
  },
  {
   "cell_type": "markdown",
   "id": "f92bb130",
   "metadata": {},
   "source": [
    "## Tuplas\n",
    "\n",
    "### Definición\n",
    "\n",
    "El siguiente bloque de código genera una tupla con los números 1, 2, 3, 4, y 5."
   ]
  },
  {
   "cell_type": "code",
   "execution_count": 1,
   "id": "64dc4547",
   "metadata": {},
   "outputs": [
    {
     "data": {
      "text/plain": [
       "(1, 2, 3, 4, 5)"
      ]
     },
     "execution_count": null,
     "metadata": {},
     "output_type": "execute_result"
    }
   ],
   "source": [
    "(1, 2, 3, 4, 5)"
   ]
  },
  {
   "cell_type": "markdown",
   "id": "cd9979b8",
   "metadata": {},
   "source": [
    "Una tupla es una secuencia ordenada **e inmutable** de objetos. Al igual que las listas, permite almacenar múltiples elementos de cualquier tipo y acceder a ellos por posición. Muchas de las operaciones que usamos con listas también funcionan con tuplas. La diferencia clave es que las listas son **mutables** (se pueden modificar), mientras que las tuplas son **inmutables** (no se pueden cambiar una vez creadas)."
   ]
  },
  {
   "cell_type": "markdown",
   "id": "54d3544c",
   "metadata": {},
   "source": [
    "Las tuplas suelen utilizarse para representar registros o estructuras simples.\n",
    "En general, las tuplas se utilizan para representar:\n",
    "\n",
    "* Una **colección fija de valores posibles** para un cierto atributo (e.g., [Identificaciones válidas](#sec-identificaciones-validas)), o\n",
    "* Los distintos **atributos de un objeto**. En este caso, cada tupla es como un registro de una base de datos (e.g., [Baraja española](#sec-baraja))."
   ]
  },
  {
   "cell_type": "markdown",
   "id": "b0a51e86",
   "metadata": {},
   "source": [
    "### Ejemplos\n",
    "\n",
    "#### Identificaciones válidas {#sec-identificaciones-validas}\n",
    "\n",
    "Supongamos que trabajamos en un aeropuerto internacional y estamos implementando un programa de autenticación de personas. Para ello, necesitamos definir los tipos de identificación que se aceptan. Por ejemplo: LE, LC, DNI, CUIT, CUIL y Pasaporte.\n",
    "\n",
    "Como esperamos que estos tipos no vayan a cambiar con el tiempo (¡al menos mientras corre nuestro programa!), tiene sentido utilizar una tupla (inmutable) en vez de una lista (mutable)."
   ]
  },
  {
   "cell_type": "code",
   "execution_count": 2,
   "id": "2c06f386",
   "metadata": {},
   "outputs": [
    {
     "data": {
      "text/plain": [
       "('LE', 'LC', 'DNI', 'CUIT', 'CUIL', 'Pasaporte')"
      ]
     },
     "execution_count": null,
     "metadata": {},
     "output_type": "execute_result"
    }
   ],
   "source": [
    "tipos_identificacion = (\"LE\", \"LC\", \"DNI\", \"CUIT\", \"CUIL\", \"Pasaporte\")\n",
    "tipos_identificacion"
   ]
  },
  {
   "cell_type": "code",
   "execution_count": null,
   "id": "8e9efb24",
   "metadata": {},
   "outputs": [
    {
     "data": {
      "text/plain": [
       "tuple"
      ]
     },
     "execution_count": null,
     "metadata": {},
     "output_type": "execute_result"
    }
   ],
   "source": [
    "type(tipos_identificacion)"
   ]
  },
  {
   "cell_type": "markdown",
   "id": "06272e60",
   "metadata": {},
   "source": [
    "Al igual que con las listas, podemos utilizar los índices para acceder a los elementos de la tupla:"
   ]
  },
  {
   "cell_type": "code",
   "execution_count": 3,
   "id": "98d9cd66",
   "metadata": {},
   "outputs": [
    {
     "name": "stdout",
     "output_type": "stream",
     "text": [
      "LE\n",
      "Pasaporte\n"
     ]
    }
   ],
   "source": [
    "print(tipos_identificacion[0])\n",
    "print(tipos_identificacion[-1])"
   ]
  },
  {
   "cell_type": "markdown",
   "id": "0122445e",
   "metadata": {},
   "source": [
    "Al contrario de lo que sucede con las listas, no es posible modificar ninguno de sus elementos existentes:"
   ]
  },
  {
   "cell_type": "code",
   "execution_count": 4,
   "id": "ad073b80",
   "metadata": {},
   "outputs": [
    {
     "ename": "TypeError",
     "evalue": "'tuple' object does not support item assignment",
     "output_type": "error",
     "traceback": [
      "\u001b[0;31m---------------------------------------------------------------------------\u001b[0m\n",
      "\u001b[0;31mTypeError\u001b[0m                                 Traceback (most recent call last)\n",
      "Cell \u001b[0;32mIn[4], line 1\u001b[0m\n",
      "\u001b[0;32m----> 1\u001b[0m \u001b[43mtipos_identificacion\u001b[49m\u001b[43m[\u001b[49m\u001b[38;5;241;43m0\u001b[39;49m\u001b[43m]\u001b[49m \u001b[38;5;241m=\u001b[39m \u001b[38;5;124m\"\u001b[39m\u001b[38;5;124mNUEVO_TIPO\u001b[39m\u001b[38;5;124m\"\u001b[39m\n",
      "\n",
      "\u001b[0;31mTypeError\u001b[0m: 'tuple' object does not support item assignment"
     ]
    }
   ],
   "source": [
    "tipos_identificacion[0] = \"NUEVO_TIPO\""
   ]
  },
  {
   "cell_type": "markdown",
   "id": "03dd1eca",
   "metadata": {},
   "source": [
    "Sin embargo, si necesitamos combinar una o más tuplas en otra tupla, sigue siendo posible utilizar el operador de suma (`+`) para concatenar tuplas y así crear una nueva, con sus elementos concatenados."
   ]
  },
  {
   "cell_type": "code",
   "execution_count": 5,
   "id": "b49f4cd8",
   "metadata": {},
   "outputs": [
    {
     "data": {
      "text/plain": [
       "('LE', 'LC', 'DNI', 'CUIT', 'CUIL', 'Pasaporte', 'NT1', 'NT2')"
      ]
     },
     "execution_count": null,
     "metadata": {},
     "output_type": "execute_result"
    }
   ],
   "source": [
    "tupla_nueva = tipos_identificacion + (\"NT1\", \"NT2\")\n",
    "tupla_nueva"
   ]
  },
  {
   "cell_type": "code",
   "execution_count": 12,
   "id": "dca4d52b",
   "metadata": {},
   "outputs": [
    {
     "name": "stdout",
     "output_type": "stream",
     "text": [
      "id(tipos_identificacion): 140371478572064\n",
      "id(tupla_nueva):          140371106729152\n"
     ]
    }
   ],
   "source": [
    "print(\"id(tipos_identificacion):\", id(tipos_identificacion))\n",
    "print(\"id(tupla_nueva):\".ljust(25), id(tupla_nueva))"
   ]
  },
  {
   "cell_type": "markdown",
   "id": "a3a1c019",
   "metadata": {},
   "source": [
    "Así, se genera una nueva tupla mientras que la original se mantiene intacta."
   ]
  },
  {
   "cell_type": "markdown",
   "id": "30004f97",
   "metadata": {},
   "source": [
    "#### Baraja española {#sec-baraja}\n",
    "\n",
    "Supongamos que queremos desarrollar un _software_ para jugar al truco en línea con nuestros amigos. Tarde o temprano, vamos a necesitar una forma de representar las cartas de la baraja española.\n",
    "\n",
    "Esta baraja está compuesta por 40 cartas, divididas en 4 palos: **oros**, **copas**, **espadas** y **bastos**. Cada palo incluye las siguientes cartas: 1, 2, 3, 4, 5, 6, 7, 10, 11 y 12.\n",
    "\n",
    "Una forma simple y efectiva de representar esta baraja en Python es utilizando una **lista de tuplas**: la lista representa el mazo completo, y cada tupla representa una carta individual. \n",
    "Cada tupla tiene dos elementos: el **palo** y el **valor**.\n",
    "Es decir, cada carta se representa así:\n",
    "\n",
    "```python\n",
    "(palo, valor)\n",
    "```\n",
    "\n",
    "Por ejemplo: `(\"espadas\", 7)` representa el **7 de espadas**."
   ]
  },
  {
   "cell_type": "code",
   "execution_count": 21,
   "id": "c27fd74c",
   "metadata": {},
   "outputs": [],
   "source": [
    "baraja = [\n",
    "    (\"oros\", 1), (\"oros\", 2), (\"oros\", 3), (\"oros\", 4), (\"oros\", 5),\n",
    "    (\"oros\", 6),  (\"oros\", 7), (\"oros\", 10), (\"oros\", 11), (\"oros\", 12),\n",
    "    (\"copas\", 1), (\"copas\", 2), (\"copas\", 3), (\"copas\", 4), (\"copas\", 5),\n",
    "    (\"copas\", 6), (\"copas\", 7), (\"copas\", 10), (\"copas\", 11), (\"copas\", 12),\n",
    "    (\"espadas\", 1), (\"espadas\", 2), (\"espadas\", 3), (\"espadas\", 4), (\"espadas\", 5),\n",
    "    (\"espadas\", 6), (\"espadas\", 7), (\"espadas\", 10), (\"espadas\", 11), (\"espadas\", 12),\n",
    "    (\"bastos\", 1), (\"bastos\", 2), (\"bastos\", 3), (\"bastos\", 4), (\"bastos\", 5),\n",
    "    (\"bastos\", 6), (\"bastos\", 7), (\"bastos\", 10), (\"bastos\", 11), (\"bastos\", 12)\n",
    "]"
   ]
  },
  {
   "cell_type": "markdown",
   "id": "caea5021",
   "metadata": {},
   "source": [
    "De este modo, cada tupla representa una carta, junto a su aspecto inmutable."
   ]
  },
  {
   "cell_type": "markdown",
   "id": "1a53ef0b",
   "metadata": {},
   "source": [
    "### Cuándo usar tuplas\n",
    "\n",
    "Si las tuplas se parecen tanto a las listas, ¿para qué existen?\n",
    "\n",
    "Las tuplas son apropiadas cuando se necesita una **colección inmutable**, es decir, una secuencia que no debe cambiar ni en contenido ni en tamaño.\n",
    "Esto evita modificaciones accidentales y, además, es más eficiente en memoria que una lista.\n",
    "\n",
    "Aunque suelen usarse con **datos heterogéneos**, el criterio más importante es la inmutabilidad.\n",
    "Si la colección va a cambiar, no corresponde usar una tupla, independientemente del tipo de datos.\n",
    "\n",
    "Finalmente, aunque usar una lista en lugar de una tupla no afecte significativamente el rendimiento de un programa particular,\n",
    "elegir la estructura adecuada mejora la legibilidad: una tupla deja en claro que esa secuencia no se modifica en ningún momento."
   ]
  },
  {
   "cell_type": "markdown",
   "id": "cc2a48db",
   "metadata": {},
   "source": [
    "### Diferencias entre listas y tuplas\n",
    "\n",
    "Cómo las creamos:\n",
    "\n",
    "* Para crear listas usamos `[]`.\n",
    "* Para crear tuplas usamos `()` (no es del todo cierto, ver **Definición de tuplas 🔍**).\n",
    "\n",
    "Comportamiento \"dinámico\" vs \"estático\":\n",
    "\n",
    "* El tamaño de las listas puede ser modificado luego de ser creado (dinámico).\n",
    "* El tamaño de las tuplas no puede ser modificado luego de ser creado (estático).\n",
    "\n",
    "Objetos \"mutables\" vs \"inmutables\":\n",
    "\n",
    "* Los elementos de la lista se pueden modificar luego de ser creada (mutable)\n",
    "* Los elementos de una tupla no se pueden modificar (inmutable)\n",
    "\n",
    "\n",
    "Más allá de sus diferencias, las listas y las tuplas tienen **muchas similitudes**:\n",
    "\n",
    "* Son secuencias **ordenadas**.\n",
    "* Pueden contener **objetos de distintos tipos** al mismo tiempo.\n",
    "* Permiten acceder a los elementos mediante su **índice**.\n",
    "* Admiten operaciones de **_slicing_** para obtener subconjuntos."
   ]
  },
  {
   "cell_type": "markdown",
   "id": "68209be8",
   "metadata": {},
   "source": [
    "::: {.callout-note}\n",
    "### Definición de tuplas 🔍\n",
    "\n",
    "Hasta ahora dijimos que las tuplas se crean utilizando paréntesis y separando los elementos con comas. Pero eso no es del todo cierto.\n",
    "\n",
    "En realidad, **los paréntesis no son necesarios** para definir una tupla. Lo que define a una tupla en Python es la **coma**, no los paréntesis. Por ejemplo:\n",
    "\n",
    "```python\n",
    "t = 10, 25.0, 50\n",
    "print(t)\n",
    "print(type(t))\n",
    "```\n",
    "\n",
    "```\n",
    "(10, 25.0, 50)\n",
    "<class 'tuple'>\n",
    "```\n",
    "\n",
    "Los paréntesis en Python se usan principalmente para agrupar expresiones y modificar el orden de evaluación, pero no son lo que convierte una serie de valores en una tupla.\n",
    "Si pensáramos a los paréntesis como una función, simplemente devuelven el mismo objeto que encierran.\n",
    "\n",
    "Dicho esto, el uso de paréntesis es una convención ampliamente aceptada a la hora de definir tuplas. De hecho, por más que los paréntesis no sean necesarios para su definición, Python siempre muestra a las tuplas entre paréntesis.\n",
    ":::"
   ]
  },
  {
   "cell_type": "markdown",
   "id": "4d9a7e42",
   "metadata": {},
   "source": [
    "## Diccionarios\n",
    "\n",
    "Los diccionarios nos permiten almacenar información que está relacionada entre sí.\n",
    "\n",
    "Volviendo al ejemplo introductorio\n",
    "\n",
    "```python\n",
    "edad_1 = 29\n",
    "edad_2 = 34\n",
    "edad_3 = 33\n",
    "edad_4 = 38\n",
    "\n",
    "nombre_1 = \"Juan\"\n",
    "nombre_2 = \"Carla\"\n",
    "nombre_3 = \"Evelina\"\n",
    "nombre_4 = \"Leandro\"\n",
    "```\n",
    "\n",
    "Una posible solución es crear dos listas. \n",
    "\n",
    "Una contiene las edades, y otra contiene los nombres."
   ]
  },
  {
   "cell_type": "code",
   "execution_count": 68,
   "id": "968477a7",
   "metadata": {},
   "outputs": [],
   "source": [
    "edades = [29, 34, 33, 38]\n",
    "nombres = [\"Juan\", \"Carla\", \"Evelina\", \"Leandro\"]"
   ]
  },
  {
   "cell_type": "markdown",
   "id": "63413bb9",
   "metadata": {},
   "source": [
    "Sin embargo esta solución es muy poco satisfactoria, ya que viene asociada a muchos problemas.\n",
    "\n",
    "* ¿Cómo obtengo la edad de una persona particular?\n",
    "* Si ordeno una de las listas, me tengo que acordar de ordenar la otra.\n",
    "* Si elimino un objeto en una lista, lo tengo que hacer en la otra.\n",
    "* Etc.."
   ]
  },
  {
   "cell_type": "markdown",
   "id": "cd1f6a8c",
   "metadata": {},
   "source": [
    "Los diccionarios de Python solucionan este problema de una mejor manera.\n",
    "\n",
    "Los diccionarios almacenan **mapeos** entre dos conjuntos de elementos llamados **claves** y **valores** (_keys_ y _values_ para Python).\n",
    "\n",
    "De esta manera, en nuestro ejemplo este objeto asocia directamente a los nombres con las edades.\n",
    "\n",
    "En nuestro caso, podemos crear un diccionario donde las claves sean los nombres y los valores sean las edadedes."
   ]
  },
  {
   "cell_type": "markdown",
   "id": "ffe279a1",
   "metadata": {},
   "source": [
    "### ¿Cómo crear un diccionario en Python?\n",
    "\n",
    "* Todos los elementos en el diccionario se encuentran encerrados entre un par de llaves `{}`\n",
    "\n",
    "* Cada elemento es un par de clave-valor. Estos están separados por `:`.\n",
    "\n",
    "* Los elementos van separados por comas `,`."
   ]
  },
  {
   "cell_type": "code",
   "execution_count": 69,
   "id": "c142577d",
   "metadata": {},
   "outputs": [
    {
     "data": {
      "text/plain": [
       "{'Juan': 29, 'Carla': 34, 'Evelina': 33, 'Leandro': 38}"
      ]
     },
     "execution_count": null,
     "metadata": {},
     "output_type": "execute_result"
    }
   ],
   "source": [
    "personas = {\"Juan\": 29, \"Carla\": 34, \"Evelina\": 33, \"Leandro\": 38}\n",
    "personas"
   ]
  },
  {
   "cell_type": "markdown",
   "id": "1d658d70",
   "metadata": {},
   "source": [
    "El diccionario `personas` contiene cuatro elementos (o pares de clave-valor).\n",
    "\n",
    "En este caso los valores son números, pero podrían ser cualquier objeto de Python."
   ]
  },
  {
   "cell_type": "code",
   "execution_count": 70,
   "id": "52e209f8",
   "metadata": {},
   "outputs": [
    {
     "data": {
      "text/plain": [
       "dict"
      ]
     },
     "execution_count": null,
     "metadata": {},
     "output_type": "execute_result"
    }
   ],
   "source": [
    "type(personas)"
   ]
  },
  {
   "cell_type": "markdown",
   "id": "4f8fe356",
   "metadata": {},
   "source": [
    "### ¿Cómo acceder a los elementos de un diccionario en Python?\n",
    "\n",
    "Las listas y las tuplas son objetos que tiene un orden determinado. Eso nos permite acceder a los elementos usando la posición.\n",
    "\n",
    "Los diccionarios **no tienen posiciones**. \n",
    "\n",
    "Para acceder a los elementos se utilizan las claves.\n",
    "\n",
    "Por ejemplo, si queremos acceder a la edad de Carla:"
   ]
  },
  {
   "cell_type": "code",
   "execution_count": 71,
   "id": "7d4c06d6",
   "metadata": {},
   "outputs": [
    {
     "ename": "KeyError",
     "evalue": "0",
     "output_type": "error",
     "traceback": [
      "\u001b[0;31m---------------------------------------------------------------------------\u001b[0m\n",
      "\u001b[0;31mKeyError\u001b[0m                                  Traceback (most recent call last)\n",
      "Cell \u001b[0;32mIn[71], line 1\u001b[0m\n",
      "\u001b[0;32m----> 1\u001b[0m \u001b[43mpersonas\u001b[49m\u001b[43m[\u001b[49m\u001b[38;5;241;43m0\u001b[39;49m\u001b[43m]\u001b[49m\n",
      "\n",
      "\u001b[0;31mKeyError\u001b[0m: 0"
     ]
    }
   ],
   "source": [
    "personas[0]"
   ]
  },
  {
   "cell_type": "code",
   "execution_count": 72,
   "id": "93535b00",
   "metadata": {},
   "outputs": [
    {
     "data": {
      "text/plain": [
       "34"
      ]
     },
     "execution_count": null,
     "metadata": {},
     "output_type": "execute_result"
    }
   ],
   "source": [
    "personas[\"Carla\"]"
   ]
  },
  {
   "cell_type": "markdown",
   "id": "2c0ccaac",
   "metadata": {},
   "source": [
    "o si queremos acceder a la edad de Leandro"
   ]
  },
  {
   "cell_type": "code",
   "execution_count": 73,
   "id": "125b683f",
   "metadata": {},
   "outputs": [
    {
     "data": {
      "text/plain": [
       "38"
      ]
     },
     "execution_count": null,
     "metadata": {},
     "output_type": "execute_result"
    }
   ],
   "source": [
    "personas[\"Leandro\"]"
   ]
  },
  {
   "cell_type": "markdown",
   "id": "e5c2d3bf",
   "metadata": {},
   "source": [
    "### Modificar, agregar y eliminar elementos\n",
    "\n",
    "Al igual que vimos con listas, los diccionarios nos permiten modificar, agregar y eliminar elementos.\n",
    "\n",
    "La diferencia mas notable es que utilizamos las **claves** en vez de los índices."
   ]
  },
  {
   "cell_type": "markdown",
   "id": "43bb4f00",
   "metadata": {},
   "source": [
    "#### Modificar elementos\n",
    "\n",
    "Funciona de manera similar a como modificamos elementos en una lista. \n",
    "\n",
    "Seleccionamos el elemento a modificar en base a su clave y le re-asignamos un valor."
   ]
  },
  {
   "cell_type": "code",
   "execution_count": 74,
   "id": "16e8a814",
   "metadata": {},
   "outputs": [
    {
     "data": {
      "text/plain": [
       "{'Juan': 29, 'Carla': 34, 'Evelina': 33, 'Leandro': 38}"
      ]
     },
     "execution_count": null,
     "metadata": {},
     "output_type": "execute_result"
    }
   ],
   "source": [
    "personas"
   ]
  },
  {
   "cell_type": "code",
   "execution_count": 75,
   "id": "bd3e2b68",
   "metadata": {},
   "outputs": [],
   "source": [
    "personas[\"Juan\"] = 34"
   ]
  },
  {
   "cell_type": "markdown",
   "id": "e6ffea15",
   "metadata": {},
   "source": [
    "#### Agregar elementos\n",
    "\n",
    "Para agregar elementos tenemos que hacer lo mismo que cuando modificamos un elemento."
   ]
  },
  {
   "cell_type": "code",
   "execution_count": 76,
   "id": "ae7b6914",
   "metadata": {},
   "outputs": [],
   "source": [
    "personas[\"Marisa\"] = 29"
   ]
  },
  {
   "cell_type": "code",
   "execution_count": 77,
   "id": "f6720d93",
   "metadata": {},
   "outputs": [
    {
     "data": {
      "text/plain": [
       "{'A': 1}"
      ]
     },
     "execution_count": null,
     "metadata": {},
     "output_type": "execute_result"
    }
   ],
   "source": [
    "ejemplo = {\"A\": 1}\n",
    "ejemplo"
   ]
  },
  {
   "cell_type": "code",
   "execution_count": 78,
   "id": "5078c9ba",
   "metadata": {},
   "outputs": [
    {
     "data": {
      "text/plain": [
       "{'A': 'hola'}"
      ]
     },
     "execution_count": null,
     "metadata": {},
     "output_type": "execute_result"
    }
   ],
   "source": [
    "ejemplo[\"A\"] = \"hola\"\n",
    "ejemplo"
   ]
  },
  {
   "cell_type": "code",
   "execution_count": 79,
   "id": "b3ccd6c8",
   "metadata": {},
   "outputs": [
    {
     "data": {
      "text/plain": [
       "{'A': 'hola'}"
      ]
     },
     "execution_count": null,
     "metadata": {},
     "output_type": "execute_result"
    }
   ],
   "source": [
    "ejemplo = {\"A\": 1, \"A\": \"hola\"}\n",
    "ejemplo"
   ]
  },
  {
   "cell_type": "markdown",
   "id": "b27c3278",
   "metadata": {},
   "source": [
    "Podemos utilizar mas de una vez a la misma clave, pero solo se conserva el valor de la ultima.\n",
    "\n",
    "**NO LO HAGAN**"
   ]
  },
  {
   "cell_type": "markdown",
   "id": "8dd36c01",
   "metadata": {},
   "source": [
    "**Conclusión**\n",
    "\n",
    "Si hay un elemento con la clave que utilizamos, se sobre-escribe el valor.\n",
    "\n",
    "Sino hay un elemento con la clave que utilizamos, se agrega un nuevo elemento al diccionario."
   ]
  },
  {
   "cell_type": "markdown",
   "id": "d4dcefc3",
   "metadata": {},
   "source": [
    "#### Eliminar elementos\n",
    "\n",
    "De la misma manera que eliminamos objetos de una lista, también podemos eliminar objetos de un diccionario.\n",
    "\n",
    "En este caso, también tenemos más de una opción.\n",
    "\n",
    "* La sentencia `del`.\n",
    "* El método `.pop()`."
   ]
  },
  {
   "cell_type": "markdown",
   "id": "3faf693b",
   "metadata": {},
   "source": [
    "**Utilizando `del`**\n",
    "\n",
    "Funciona muy similar a el uso que vimos con listas.\n",
    "\n",
    "Nuevamente, la diferencia es que tenemos que utilizar la clave en vez de un índice numérico."
   ]
  },
  {
   "cell_type": "code",
   "execution_count": 80,
   "id": "6ab92979",
   "metadata": {},
   "outputs": [],
   "source": [
    "descuentos = {\n",
    "    \"Lunes\": 0,\n",
    "    \"Martes\": 20,\n",
    "    \"Miercoles\": 10,\n",
    "    \"Jueves\": 20,\n",
    "    \"Viernes\": 30,\n",
    "    \"Sábado\": 30,\n",
    "    \"Domingo\": 0\n",
    "}"
   ]
  },
  {
   "cell_type": "markdown",
   "id": "01c6dc1a",
   "metadata": {},
   "source": [
    "Supongamos que nuestro negocio no abre los domingos y por eso queremos eliminarlo del diccionario."
   ]
  },
  {
   "cell_type": "code",
   "execution_count": 81,
   "id": "eaaa5bb0",
   "metadata": {},
   "outputs": [
    {
     "data": {
      "text/plain": [
       "{'Lunes': 0,\n",
       " 'Martes': 20,\n",
       " 'Miercoles': 10,\n",
       " 'Jueves': 20,\n",
       " 'Viernes': 30,\n",
       " 'Sábado': 30}"
      ]
     },
     "execution_count": null,
     "metadata": {},
     "output_type": "execute_result"
    }
   ],
   "source": [
    "del descuentos[\"Domingo\"]\n",
    "descuentos"
   ]
  },
  {
   "cell_type": "markdown",
   "id": "7f8bcd18",
   "metadata": {},
   "source": [
    "**Utilizando `.pop()`**\n",
    "\n",
    "Ahora eliminemos al Lunes, que es un día que tampoco abrimos."
   ]
  },
  {
   "cell_type": "code",
   "execution_count": 82,
   "id": "77ce29cd",
   "metadata": {},
   "outputs": [
    {
     "name": "stdout",
     "output_type": "stream",
     "text": [
      "0\n",
      "{'Martes': 20, 'Miercoles': 10, 'Jueves': 20, 'Viernes': 30, 'Sábado': 30}\n"
     ]
    }
   ],
   "source": [
    "descuento_lunes = descuentos.pop(\"Lunes\")\n",
    "print(descuento_lunes)\n",
    "print(descuentos)"
   ]
  },
  {
   "cell_type": "markdown",
   "id": "427c6998",
   "metadata": {},
   "source": [
    "**Conclusión**\n",
    "\n",
    "De la misma manera que pasaba con las listas, tenemos `del` y `.pop()` para eliminar elementos.\n",
    "\n",
    "`del` elimina el valor del diccionario sin devolverlo.\n",
    "\n",
    "`.pop()` elimina el valor del diccionario, pero lo devuelve."
   ]
  },
  {
   "cell_type": "markdown",
   "id": "0637fb22",
   "metadata": {},
   "source": [
    "### Anidamientos\n",
    "\n",
    "Previamente dijimos que los diccionarios de Python puede contener cualquier tipo de objeto de Python.\n",
    "\n",
    "Por lo tanto, significa que puede contener números, cadenas, listas, e incluso otros diccionarios!\n",
    "\n",
    "Veamos algunos ejemplos donde esto puede ser muy útil."
   ]
  },
  {
   "cell_type": "code",
   "execution_count": 83,
   "id": "10e26e27",
   "metadata": {},
   "outputs": [],
   "source": [
    "persona = {\n",
    "    \"nombre\": \"Carolina\",\n",
    "    \"edad\": 24,\n",
    "    \"cursos\": [\"Introducción a Python\", \"Análisis de datos con Python\", \"Python avanzado\"]\n",
    "}"
   ]
  },
  {
   "cell_type": "code",
   "execution_count": 84,
   "id": "786bf086",
   "metadata": {},
   "outputs": [
    {
     "name": "stdout",
     "output_type": "stream",
     "text": [
      "{'nombre': 'Carolina', 'edad': 24, 'cursos': ['Introducción a Python', 'Análisis de datos con Python', 'Python avanzado']}\n"
     ]
    }
   ],
   "source": [
    "print(persona)"
   ]
  },
  {
   "cell_type": "code",
   "execution_count": 85,
   "id": "45507953",
   "metadata": {},
   "outputs": [
    {
     "name": "stdout",
     "output_type": "stream",
     "text": [
      "Carolina\n"
     ]
    }
   ],
   "source": [
    "print(persona[\"nombre\"])"
   ]
  },
  {
   "cell_type": "code",
   "execution_count": 86,
   "id": "5ef5b132",
   "metadata": {},
   "outputs": [
    {
     "name": "stdout",
     "output_type": "stream",
     "text": [
      "24\n"
     ]
    }
   ],
   "source": [
    "print(persona[\"edad\"])"
   ]
  },
  {
   "cell_type": "code",
   "execution_count": 87,
   "id": "951960eb",
   "metadata": {},
   "outputs": [
    {
     "name": "stdout",
     "output_type": "stream",
     "text": [
      "['Introducción a Python', 'Análisis de datos con Python', 'Python avanzado']\n"
     ]
    }
   ],
   "source": [
    "print(persona[\"cursos\"])"
   ]
  },
  {
   "cell_type": "code",
   "execution_count": 88,
   "id": "17cf2b49",
   "metadata": {},
   "outputs": [],
   "source": [
    "usuarios = {\n",
    "    \"aeinstein\": {\n",
    "        \"nombre\": \"albert\",\n",
    "        \"apellido\": \"einstein\",\n",
    "        \"ciudad\": \"princenton\"\n",
    "    },\n",
    "    \"mcurie\": {\n",
    "        \"nombre\": \"marie\",\n",
    "        \"apellido\": \"curie\",\n",
    "        \"ciudad\": \"paris\"\n",
    "    },\n",
    "    \"afleming\": {\n",
    "        \"nombre\": \"alexander\",\n",
    "        \"apellido\": \"fleming\",\n",
    "        \"ciudad\": \"londres\"\n",
    "    }\n",
    "}"
   ]
  },
  {
   "cell_type": "code",
   "execution_count": 89,
   "id": "92682d6d",
   "metadata": {},
   "outputs": [
    {
     "name": "stdout",
     "output_type": "stream",
     "text": [
      "{'nombre': 'albert', 'apellido': 'einstein', 'ciudad': 'princenton'}\n"
     ]
    }
   ],
   "source": [
    "print(usuarios[\"aeinstein\"])"
   ]
  },
  {
   "cell_type": "code",
   "execution_count": 90,
   "id": "3069f23d",
   "metadata": {},
   "outputs": [
    {
     "data": {
      "text/plain": [
       "'einstein'"
      ]
     },
     "execution_count": null,
     "metadata": {},
     "output_type": "execute_result"
    }
   ],
   "source": [
    "usuarios[\"aeinstein\"][\"apellido\"]"
   ]
  },
  {
   "cell_type": "code",
   "execution_count": 91,
   "id": "3be5a67a",
   "metadata": {},
   "outputs": [
    {
     "data": {
      "text/plain": [
       "True"
      ]
     },
     "execution_count": null,
     "metadata": {},
     "output_type": "execute_result"
    }
   ],
   "source": [
    "{\"a\": 1, \"b\": 2} == {\"b\": 2, \"a\" : 1}"
   ]
  },
  {
   "cell_type": "markdown",
   "id": "46a1376a",
   "metadata": {},
   "source": [
    "## Secuencias\n",
    "\n",
    "* Empaquetado y desempaquetado\n",
    "* sum no funciona para string"
   ]
  },
  {
   "cell_type": "code",
   "execution_count": 26,
   "id": "5e93a3dd",
   "metadata": {},
   "outputs": [
    {
     "data": {
      "text/plain": [
       "('x', 'y', 'z')"
      ]
     },
     "execution_count": null,
     "metadata": {},
     "output_type": "execute_result"
    }
   ],
   "source": [
    "a, b, c = \"xyz\"\n",
    "a, b, c"
   ]
  },
  {
   "cell_type": "markdown",
   "id": "7211171b",
   "metadata": {},
   "source": [
    "### Sabías que...(*)\n",
    "\n",
    "En Python, las listas, las tuplas y las cadenas son parte del conjunto de las \"secuencias\". Todas las secuencias cuentan con las siguientes operaciones:\n",
    "\n",
    "<center>\n",
    "\n",
    "| **Operación**  | **Resultado**                                                                |\n",
    "|----------------|------------------------------------------------------------------------------|\n",
    "| `x in s`       | Indica si el valor `x` se encuentra en `s`                                   |\n",
    "| `s + t`        | Concatena las secuencias `s` y `t`                                           |\n",
    "| `s * n`        | Concatena `n` copias de `s`                                                  |\n",
    "| `s[i]`         | Obtiene el elemento `i` de `s`                                               |\n",
    "| `s[i:j]`       | Porción de la secuencia `s` desde `i` hasta `j` (no inclusive)               |\n",
    "| `s[i:j:k]`     | Porción de la secuencia `s` desde `i` hasta `j` (no inclusive), con paso `k` |\n",
    "| `len(s)`       | Cantidad de elementos en la secuencia `s`                                    |\n",
    "| `min(s)`       | Mínimo elemento en la secuencia `s`                                          |\n",
    "| `max(s)`       | Máximo elemento de la secuencia `s`                                          |\n",
    "| `sum(s)`       | Suma de los elementos de la secuencia `s`                                    |\n",
    "| `enumerate(s)` | Enumerar los elementos de `s` junto con sus posiciones                       |\n",
    "\n",
    "</center>\n",
    "\n",
    "Además, es posible crear una lista o una tupla a partir de cualquier otra secuencia, utilizando `list` y `tuple`, respectivamente:\n",
    "\n",
    "```python\n",
    ">>> list(\"Hola\")\n",
    "['H', 'o', 'l', 'a']\n",
    ">>> tuple(\"Hola\")\n",
    "('H', 'o', 'l', 'a')\n",
    ">>> list((1, 2, 3, 4))\n",
    "[1, 2, 3, 4]\n",
    "```\n",
    "\n",
    "(*) Tomado de \"Aprendiendo a programar usando Python como herramienta\""
   ]
  },
  {
   "cell_type": "markdown",
   "id": "1c86ee5e",
   "metadata": {},
   "source": [
    "## Resumen"
   ]
  },
  {
   "cell_type": "markdown",
   "id": "815af566",
   "metadata": {},
   "source": [
    "RESUMEN COMPARANDO ESTRUCTURAS\n",
    "\n",
    "* mutable\n",
    "* ordenado\n",
    "* tipo de elemento\n",
    "* ejemplo"
   ]
  },
  {
   "cell_type": "markdown",
   "id": "f5032693",
   "metadata": {},
   "source": []
  }
 ],
 "metadata": {
  "language_info": {
   "name": "python"
  }
 },
 "nbformat": 4,
 "nbformat_minor": 5
}
