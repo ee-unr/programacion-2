{
 "cells": [
  {
   "cell_type": "markdown",
   "id": "3ce2ccfd",
   "metadata": {},
   "source": [
    "---\n",
    "title: \"5 - Ejecución repetitiva\"\n",
    "toc: true\n",
    "---"
   ]
  },
  {
   "cell_type": "markdown",
   "id": "cacf21f7",
   "metadata": {},
   "source": [
    "## Introducción\n",
    "\n",
    "Anteriormente aprendimos a crear objetos que contienen otros objetos (listas, tuplas y diccionarios).\n",
    "\n",
    "Cuando queríamos realizar una acción con cada uno de los objetos que estos contenían, teníamos que escribir el mismo código para acceder a cada uno de ellos de a uno.\n",
    "\n",
    "Por ejemplo, supongamos que tenemos un listado con nombres de nuestros amigos y queremos ponerlos a todos en mayúsculas:"
   ]
  },
  {
   "cell_type": "code",
   "execution_count": 1,
   "id": "f7e01ddb",
   "metadata": {},
   "outputs": [
    {
     "name": "stdout",
     "output_type": "stream",
     "text": [
      "Nombres originales:\n",
      "['julieta', 'facundo', 'emiliano', 'lorenzo', 'victoria']\n",
      "\n",
      "Nombres modificados:\n",
      "['JULIETA', 'FACUNDO', 'EMILIANO', 'LORENZO', 'VICTORIA']\n"
     ]
    }
   ],
   "source": [
    "nombres = [\"julieta\", \"facundo\", \"emiliano\", \"lorenzo\", \"victoria\"]\n",
    "print(\"Nombres originales:\")\n",
    "print(nombres)\n",
    "\n",
    "nombres[0] = nombres[0].upper()\n",
    "nombres[1] = nombres[1].upper()\n",
    "nombres[2] = nombres[2].upper()\n",
    "nombres[3] = nombres[3].upper()\n",
    "nombres[4] = nombres[4].upper()\n",
    "\n",
    "print(\"\\nNombres modificados:\")\n",
    "print(nombres)"
   ]
  },
  {
   "cell_type": "markdown",
   "id": "5ced4787",
   "metadata": {},
   "source": [
    "Vemos que realizamos **exactamente la misma acción** con cada nombre en la lista... ¿No estaría bueno poder automatizarlo?\n",
    "\n",
    "Y para eso, en esta sección vamos a aprender sobre **bucles**."
   ]
  },
  {
   "cell_type": "markdown",
   "id": "f385c0be",
   "metadata": {},
   "source": [
    "## ¿Qué son los bucles?\n",
    "\n",
    "Los bucles son una estrcutura de los lenguajes de programación que nos **permite repetir la ejecución de código de manera automática**.\n",
    "\n",
    "En otras palabras, los bucles hacen que sea muy fácil ejecutar el mismo bloque de código una y otra vez.\n",
    "\n",
    "A la repetición del mismo bloque de código una y otra vez le decimos **iteración**. Entonces, **los bucles nos ayudan a iterar**.\n",
    "\n",
    "En Python tenemos **dos tipos de bucles**:\n",
    "\n",
    "* El bucle `for` (_for-loop_).\n",
    "* El bucle `while` (_while-loop_).\n",
    "\n",
    "La diferencia entre este tipo de bucles es que con el `for` **conocemos la cantidad de iteraciones** que vamos a realizar de antemano.\n",
    "\n",
    "En cambio, con el `while` **no conocemos la cantidad de iteraciones** que vamos a realizar de antemano.\n",
    "\n",
    "Veamos el ejemplo anterior pero utilizando un bucle `for`. En este caso, generamos una nueva lista llamada `nombres_modificados` donde vamos a almacenar los nombres modificados."
   ]
  },
  {
   "cell_type": "code",
   "execution_count": 2,
   "id": "674c3734",
   "metadata": {},
   "outputs": [
    {
     "name": "stdout",
     "output_type": "stream",
     "text": [
      "Nombres originales:\n",
      "['julieta', 'facundo', 'emiliano', 'mariana', 'victoria']\n",
      "\n",
      "Nombres modificados:\n",
      "['JULIETA', 'FACUNDO', 'EMILIANO', 'MARIANA', 'VICTORIA']\n"
     ]
    }
   ],
   "source": [
    "nombres = [\"julieta\", \"facundo\", \"emiliano\", \"mariana\", \"victoria\"]\n",
    "nombres_modificados = []\n",
    "\n",
    "# Bucle for\n",
    "for nombre in nombres:\n",
    "    nombres_modificados.append(nombre.upper())\n",
    "\n",
    "print(\"Nombres originales:\")\n",
    "print(nombres)\n",
    "\n",
    "print(\"\\nNombres modificados:\")\n",
    "print(nombres_modificados)"
   ]
  },
  {
   "cell_type": "markdown",
   "id": "62cfeb83",
   "metadata": {},
   "source": [
    "## El bucle `for`\n",
    "\n",
    "### Presentación\n",
    "\n",
    "En un bucle `for` encontramos los siguientes componentes.\n",
    "\n",
    "* La palabra clave `for`\n",
    "\n",
    "* El nombre de una variable que se usa para iterar (variable de iteración)\n",
    "\n",
    "* La palabra clave `in`\n",
    "\n",
    "* El objeto sobre el cual iteramos, seguido por `:`\n",
    "\n",
    "* En la siguiente linea y con indentación, el bloque de código a ejecutar"
   ]
  },
  {
   "cell_type": "markdown",
   "id": "47d53b6b",
   "metadata": {},
   "source": [
    "![](imgs/for_loop.png){fig-align=\"center\" width=\"600px\"}"
   ]
  },
  {
   "cell_type": "markdown",
   "id": "cb83d3d9",
   "metadata": {},
   "source": [
    "En Python, al igual que en las sentencias `if`, `else` y otras estructuras de control, los dos puntos (`:`) se utilizan para indicar el comienzo de un bloque de código, y la indentación define el contenido de ese bloque. **Nunca** se emplean llaves `{}` como en otros lenguajes.\n",
    "\n",
    "En el caso de un bucle `for`, se declara una variable que va tomando, en cada **iteración**, uno de los valores del **iterable** que se está recorriendo. Por ejemplo, si el iterable contiene **10 objetos**, el bucle ejecutará **10 iteraciones** y la **variable de iteración** (por convención llamada `i`, aunque puede tener cualquier nombre) irá adoptando esos valores, uno por uno."
   ]
  },
  {
   "cell_type": "markdown",
   "id": "fab72c33",
   "metadata": {},
   "source": [
    "### Ejemplos\n",
    "\n",
    "Dado que a iterar se aprende iterando, veamos algunos ejemplos:"
   ]
  },
  {
   "cell_type": "code",
   "execution_count": 3,
   "id": "62e5dfef",
   "metadata": {},
   "outputs": [
    {
     "name": "stdout",
     "output_type": "stream",
     "text": [
      "El número es 3.\n",
      "El número es 1.\n",
      "El número es 2.\n"
     ]
    }
   ],
   "source": [
    "for i in [3, 1, 2]:\n",
    "    print(f\"El número es {i}.\")"
   ]
  },
  {
   "cell_type": "markdown",
   "id": "54a47501",
   "metadata": {},
   "source": [
    "También podemos ordenar los valores de la lista sobre la que iteramos:"
   ]
  },
  {
   "cell_type": "code",
   "execution_count": 4,
   "id": "1513d6a6",
   "metadata": {},
   "outputs": [
    {
     "name": "stdout",
     "output_type": "stream",
     "text": [
      "El número es 1.\n",
      "El número es 2.\n",
      "El número es 3.\n"
     ]
    }
   ],
   "source": [
    "for i in sorted([3, 1, 2]):\n",
    "    print(f\"El número es {i}.\")"
   ]
  },
  {
   "cell_type": "markdown",
   "id": "6c83e24f",
   "metadata": {},
   "source": [
    "Pero no es necesario iterar sobre listas. De hecho, podemos iterar sobre cualquier secuencia, por ejemplo, una tupla:"
   ]
  },
  {
   "cell_type": "code",
   "execution_count": 5,
   "id": "b9fe30e0",
   "metadata": {},
   "outputs": [
    {
     "name": "stdout",
     "output_type": "stream",
     "text": [
      "El número es 3.\n",
      "El número es 1.\n",
      "El número es 2.\n"
     ]
    }
   ],
   "source": [
    "for i in (3, 1, 2):\n",
    "    print(f\"El número es {i}.\")"
   ]
  },
  {
   "cell_type": "code",
   "execution_count": 6,
   "id": "1548360d",
   "metadata": {},
   "outputs": [
    {
     "name": "stdout",
     "output_type": "stream",
     "text": [
      "El número es 1.\n",
      "El número es 2.\n",
      "El número es 3.\n"
     ]
    }
   ],
   "source": [
    "for i in sorted((3, 1, 2)):\n",
    "    print(f\"El número es {i}.\")"
   ]
  },
  {
   "cell_type": "markdown",
   "id": "a791a30c",
   "metadata": {},
   "source": [
    "E incluso una cadena de caracteres:"
   ]
  },
  {
   "cell_type": "code",
   "execution_count": 7,
   "id": "56781a2a",
   "metadata": {},
   "outputs": [
    {
     "name": "stdout",
     "output_type": "stream",
     "text": [
      "H\n",
      "o\n",
      "l\n",
      "a\n",
      " \n",
      "C\n",
      "u\n",
      "r\n",
      "s\n",
      "o\n"
     ]
    }
   ],
   "source": [
    "for c in \"Hola Curso\":\n",
    "    print(c)"
   ]
  },
  {
   "cell_type": "markdown",
   "id": "6d9affa6",
   "metadata": {},
   "source": [
    "::: {.callout-warning}\n",
    "##### Variable de iteración\n",
    "\n",
    "El nombre de la variable que se usa para iterar es **arbitrario**. Sin embargo, es recomendable no utilizar el mismo nombre que el de otra variable en nuestro programa. Por ejemplo:\n",
    "\n",
    "```python\n",
    "i = 1\n",
    "for i in [1, 2, 3]:\n",
    "    print(i)\n",
    "print(i)\n",
    "```\n",
    "```\n",
    "1\n",
    "2\n",
    "3\n",
    "3\n",
    "```\n",
    "\n",
    "La variable de iteración `i` va pisando su valor y cualquier valor que esta pudo haber tenido antes.\n",
    "\n",
    "Así, luego de la finalizar el bucle, el valor de `i` es `3`.\n",
    "\n",
    ":::"
   ]
  },
  {
   "cell_type": "markdown",
   "id": "749eb797",
   "metadata": {},
   "source": [
    "Los bucles permiten generar nuevos objetos de forma automática.\n",
    "\n",
    "En el siguiente ejemplo, partimos de una lista con cadenas que pueden contener números o letras.\n",
    "Mediante un `for`, crearemos tres listas: una con los números, otra con el texto y una tercera con los elementos que no sean ninguno de los dos."
   ]
  },
  {
   "cell_type": "code",
   "execution_count": 8,
   "id": "1dde62b6",
   "metadata": {},
   "outputs": [],
   "source": [
    "lista_original = [\"1\", \"@\", \"x\", \"y\", \"?\", \"3\", \"4\", \"7\", \"f\", \"l\", \"9\", \"10\", \"!\"]"
   ]
  },
  {
   "cell_type": "code",
   "execution_count": 9,
   "id": "57cd9835",
   "metadata": {},
   "outputs": [
    {
     "name": "stdout",
     "output_type": "stream",
     "text": [
      "La cadena '@' no es ni numérica ni alfabética.\n",
      "La cadena '?' no es ni numérica ni alfabética.\n",
      "La cadena '!' no es ni numérica ni alfabética.\n",
      "['1', '@', 'x', 'y', '?', '3', '4', '7', 'f', 'l', '9', '10', '!']\n",
      "['1', '3', '4', '7', '9', '10']\n",
      "['x', 'y', 'f', 'l']\n",
      "['@', '?', '!']\n"
     ]
    }
   ],
   "source": [
    "# Crear tres listas vacías (que contienen los diferentes tipos de datos)\n",
    "numeros = []\n",
    "texto = []\n",
    "otros = []\n",
    "\n",
    "# Iterar a traves de los valores de la lista original\n",
    "for valor in lista_original:\n",
    "    # Si es numérico, lo agregamos en la lista 'numeros'\n",
    "    if valor.isnumeric():\n",
    "        numeros.append(valor)\n",
    "    # Sino es numérico, pregunto si es alfabético (o una letra del abecedario)\n",
    "    elif valor.isalpha():\n",
    "        texto.append(valor)\n",
    "    # Caso contrario, lo metemos en la lista de otros\n",
    "    else:\n",
    "        print(f\"La cadena '{valor}' no es ni numérica ni alfabética.\")\n",
    "        otros.append(valor)\n",
    "\n",
    "print(lista_original)\n",
    "print(numeros)\n",
    "print(texto)\n",
    "print(otros)"
   ]
  },
  {
   "cell_type": "markdown",
   "id": "06f66fd0",
   "metadata": {},
   "source": [
    "### Crear listas numéricas con `range()`.\n",
    "\n",
    "Python provee una función llamada `range()` que hace que sea muy fácil generar una secuencia de números. Por ejemplo, podemos usar `range()` para imprimir una serie de números."
   ]
  },
  {
   "cell_type": "code",
   "execution_count": 10,
   "id": "c8c6714f",
   "metadata": {},
   "outputs": [
    {
     "name": "stdout",
     "output_type": "stream",
     "text": [
      "1\n",
      "2\n",
      "3\n",
      "4\n"
     ]
    }
   ],
   "source": [
    "for i in range(1, 5):\n",
    "    print(i)"
   ]
  },
  {
   "cell_type": "markdown",
   "id": "ef6102e8",
   "metadata": {},
   "source": [
    "`range()` funciona de manera similar a los _slices_, es decir, no incluye el límite superior. Además, si se usa con un solo argumento, es equivalente a `range(0, numero)`."
   ]
  },
  {
   "cell_type": "code",
   "execution_count": 11,
   "id": "b0b1f5a7",
   "metadata": {},
   "outputs": [
    {
     "name": "stdout",
     "output_type": "stream",
     "text": [
      "0\n",
      "1\n",
      "2\n",
      "3\n",
      "4\n"
     ]
    }
   ],
   "source": [
    "for i in range(5):\n",
    "    print(i)"
   ]
  },
  {
   "cell_type": "markdown",
   "id": "8f1dc5bd",
   "metadata": {},
   "source": [
    "Una forma útil de entender `range(n)` es verlo como la creación de una secuencia con los primeros `n` números, comenzando desde 0."
   ]
  },
  {
   "cell_type": "code",
   "execution_count": 12,
   "id": "b8b45e8e",
   "metadata": {},
   "outputs": [
    {
     "name": "stdout",
     "output_type": "stream",
     "text": [
      "range(0, 5)\n",
      "<class 'range'>\n"
     ]
    }
   ],
   "source": [
    "x = range(5)\n",
    "print(x)\n",
    "print(type(x))"
   ]
  },
  {
   "cell_type": "markdown",
   "id": "73d1edcf",
   "metadata": {},
   "source": [
    "Podemos obtener una lista a partir de un `range` usando la función `list()`."
   ]
  },
  {
   "cell_type": "code",
   "execution_count": 13,
   "id": "7c067954",
   "metadata": {},
   "outputs": [
    {
     "data": {
      "text/plain": [
       "[0, 1, 2, 3, 4]"
      ]
     },
     "execution_count": null,
     "metadata": {},
     "output_type": "execute_result"
    }
   ],
   "source": [
    "list(x)"
   ]
  },
  {
   "cell_type": "markdown",
   "id": "134d4a49",
   "metadata": {},
   "source": [
    "Y, por qué no, una tupla también."
   ]
  },
  {
   "cell_type": "code",
   "execution_count": 14,
   "id": "d0719eda",
   "metadata": {},
   "outputs": [
    {
     "data": {
      "text/plain": [
       "(0, 1, 2, 3, 4)"
      ]
     },
     "execution_count": null,
     "metadata": {},
     "output_type": "execute_result"
    }
   ],
   "source": [
    "tuple(x)"
   ]
  },
  {
   "cell_type": "markdown",
   "id": "5ddafd39",
   "metadata": {},
   "source": [
    "`range()` admite un tercer argumento opcional que especifica el paso entre valores. Por defecto es `1`. Veamos algunos ejemplos:"
   ]
  },
  {
   "cell_type": "markdown",
   "id": "6265a606",
   "metadata": {},
   "source": [
    "Lista de números entre 0 y 10 (no inclusivo), avanzando de a 2 en cada paso."
   ]
  },
  {
   "cell_type": "code",
   "execution_count": 15,
   "id": "e4b66abe",
   "metadata": {},
   "outputs": [
    {
     "data": {
      "text/plain": [
       "[0, 2, 4, 6, 8]"
      ]
     },
     "execution_count": null,
     "metadata": {},
     "output_type": "execute_result"
    }
   ],
   "source": [
    "list(range(0, 10, 2))"
   ]
  },
  {
   "cell_type": "markdown",
   "id": "f7a71516",
   "metadata": {},
   "source": [
    "Intento de lista de números entre 10 y 0 (no inclusivo)."
   ]
  },
  {
   "cell_type": "code",
   "execution_count": 16,
   "id": "4733e64c",
   "metadata": {},
   "outputs": [
    {
     "data": {
      "text/plain": [
       "[]"
      ]
     },
     "execution_count": null,
     "metadata": {},
     "output_type": "execute_result"
    }
   ],
   "source": [
    "list(range(10, 0))"
   ]
  },
  {
   "cell_type": "markdown",
   "id": "97debcac",
   "metadata": {},
   "source": [
    "Vemos que el resultado no es el esperado. Esto se debe a que el paso es por defecto `1` y es imposible recorrer desde el 10 al 0 sumando de a 1.\n",
    "Si cambiamos el paso a `-1`, funciona correctamente:"
   ]
  },
  {
   "cell_type": "code",
   "execution_count": 17,
   "id": "a7a1459e",
   "metadata": {},
   "outputs": [
    {
     "data": {
      "text/plain": [
       "[10, 9, 8, 7, 6, 5, 4, 3, 2, 1]"
      ]
     },
     "execution_count": null,
     "metadata": {},
     "output_type": "execute_result"
    }
   ],
   "source": [
    "list(range(10, 0, -1))"
   ]
  },
  {
   "cell_type": "markdown",
   "id": "5138ff01",
   "metadata": {},
   "source": [
    "### ¿Sobre qué cosas podemos iterar en un bucle `for`?"
   ]
  },
  {
   "cell_type": "markdown",
   "id": "31697eef",
   "metadata": {},
   "source": [
    "Recordemos el diagrama que vimos anteriormente...\n",
    "\n",
    "![](imgs/for_loop.png){fig-align=\"center\" width=\"600px\"}"
   ]
  },
  {
   "cell_type": "markdown",
   "id": "fc188145",
   "metadata": {},
   "source": [
    "En naranja tenemos resaltado **iterable**. Pero, ¿qué significa que un objeto sea iterable?\n",
    "\n",
    "* Que podemos iterar a través de el.\n",
    "* Que podemos recorrerlo elemento por elemento.\n",
    "* Que puede devolver sus elementos de a uno a la vez.\n",
    "\n",
    "De manera similar a las secuencias, el término iterable describe una categoría de tipos de datos. De hecho, todas las secuencias son iterables (por eso podemos recorrer listas, tuplas y cadenas), pero no es requisito ser una secuencia para ser iterable. Por ejemplo, los diccionarios no son secuencias y, sin embargo, pueden recorrerse porque implementan un método para entregar sus elementos de uno en uno."
   ]
  },
  {
   "cell_type": "code",
   "execution_count": 18,
   "id": "832a23be",
   "metadata": {},
   "outputs": [
    {
     "name": "stdout",
     "output_type": "stream",
     "text": [
      "a\n",
      "b\n"
     ]
    }
   ],
   "source": [
    "for i in {\"a\": 1, \"b\": 2}:\n",
    "    print(i)"
   ]
  },
  {
   "cell_type": "markdown",
   "id": "92cf2787",
   "metadata": {},
   "source": [
    "## El bucle `while`\n",
    "\n",
    "En un bucle `while` encontramos los siguientes componentes.\n",
    "\n",
    "* La palabra clave `while`.\n",
    "\n",
    "* Una condición, es decir, una expresión que se evalúa a `True` o `False`, seguido por los dos puntos `:`.\n",
    "\n",
    "* En la siguiente linea y con indentación, el bloque de código a ejecutar."
   ]
  },
  {
   "cell_type": "markdown",
   "id": "810159f4",
   "metadata": {},
   "source": [
    "![](imgs/while_loop.png){fig-align=\"center\" width=\"600px\"}"
   ]
  },
  {
   "cell_type": "code",
   "execution_count": 19,
   "id": "05cb325c",
   "metadata": {},
   "outputs": [
    {
     "name": "stdout",
     "output_type": "stream",
     "text": [
      "El numero es 1\n",
      "El numero es 2\n",
      "El numero es 3\n",
      "El numero es 4\n",
      "El numero es 5\n"
     ]
    }
   ],
   "source": [
    "numero = 0\n",
    "while numero < 5:\n",
    "    numero += 1 # Abreviación de x = x + 1\n",
    "    print(f\"El numero es {numero}\")"
   ]
  },
  {
   "cell_type": "markdown",
   "id": "8c83b007",
   "metadata": {},
   "source": [
    "![](imgs/while_loop_diagrama.png){fig-align=\"center\" width=\"600px\"}"
   ]
  },
  {
   "cell_type": "markdown",
   "id": "bbe40bae",
   "metadata": {},
   "source": [
    "Analicemos el diagrama:\n",
    "\n",
    "* Mientras `numero < 5` sea `True`, Python ejecutará el cuerpo del bucle completo.\n",
    "* En la primera iteración, `numero` es 0.\n",
    "    - Como 0 es menor a 5, Python imprime el número y luego le agrega 1, haciendo que el número sea 1.\n",
    "* En la segunda iteración, `numero` es 1.\n",
    "    - Como 1 es menor a 5, Python imprime el número y luego le agrega 1, haciendo que el número sea 2.\n",
    "\n",
    "El proceso continúa hasta que `numero` deja de ser menor que 5, momento en el que el bucle se detiene."
   ]
  },
  {
   "cell_type": "markdown",
   "id": "f41475a9",
   "metadata": {},
   "source": [
    "::: {.callout-warning}\n",
    "##### Bucles infinitos ♾️\n",
    "\n",
    "Veamos el siguiente ejemplo:\n",
    "\n",
    "```python\n",
    "x = 0\n",
    "while x < 5:\n",
    "    print(x)\n",
    "```\n",
    "\n",
    "Si ejecutamos este código, Python **nunca** detendrá su ejecución. Esto sucede porque el valor de `x` nunca cambia, por lo que la condición `x < 5` es siempre verdadera.\n",
    "Este es un caso típico de **bucle infinito**, algo que puede ocurrir con cualquier `while`, y en particular con `while True` si no incluimos una forma de salir del bucle (por ejemplo, con `break`).\n",
    "\n",
    "Si entramos en un bucle infinito,  la única forma de detenerlo es interrumpir la ejecución manualmente:\n",
    "\n",
    "* En la terminal: `CTRL + C`\n",
    "* En un editor de código: usar el botón de interrupción\n",
    ":::"
   ]
  },
  {
   "cell_type": "markdown",
   "id": "64b60ff1",
   "metadata": {},
   "source": [
    "### La sentencia `break`\n",
    "\n",
    "Python provee la sentencia `break` que sirve para terminar un bucle (_for_ o _while_) de manera anticipada. \n",
    "\n",
    "Veamos algunos ejemplos de uso."
   ]
  },
  {
   "cell_type": "code",
   "execution_count": 20,
   "id": "919b9bc0",
   "metadata": {},
   "outputs": [
    {
     "name": "stdout",
     "output_type": "stream",
     "text": [
      "¡Hola!\n"
     ]
    }
   ],
   "source": [
    "while True:\n",
    "    print(\"¡Hola!\")\n",
    "    break"
   ]
  },
  {
   "cell_type": "markdown",
   "id": "7c54aa6a",
   "metadata": {},
   "source": [
    "En el ejemplo anterior, la condición del bucle era `True`, lo que implicaría una ejecución infinita.\n",
    "Sin embargo, al final de la primera iteración encontramos un `break`, que fuerza la salida del bucle.\n",
    "De forma similar, podemos reescribir el primer `while` utilizando esta estructura alternativa."
   ]
  },
  {
   "cell_type": "code",
   "execution_count": 21,
   "id": "b45123a1",
   "metadata": {},
   "outputs": [
    {
     "name": "stdout",
     "output_type": "stream",
     "text": [
      "El numero es 1\n",
      "El numero es 2\n",
      "El numero es 3\n",
      "El numero es 4\n",
      "El numero es 5\n"
     ]
    }
   ],
   "source": [
    "numero = 0\n",
    "while True:\n",
    "    if numero >= 5:\n",
    "        break\n",
    "    numero += 1\n",
    "    print(f\"El numero es {numero}\")"
   ]
  },
  {
   "cell_type": "code",
   "execution_count": 22,
   "id": "e3add69b",
   "metadata": {},
   "outputs": [
    {
     "name": "stdout",
     "output_type": "stream",
     "text": [
      "El numero es 1\n",
      "El numero es 2\n",
      "El numero es 3\n",
      "El numero es 4\n",
      "El numero es 5\n"
     ]
    }
   ],
   "source": [
    "numero = 0\n",
    "while True:\n",
    "    numero += 1\n",
    "    print(f\"El numero es {numero}\")\n",
    "    if numero >= 5:\n",
    "        break"
   ]
  },
  {
   "cell_type": "markdown",
   "id": "714e8a62",
   "metadata": {},
   "source": [
    "Supongamos que queremos sumar los valores de una lista hasta que se cumpla cierta condición, por ejemplo, que el total sea mayor o igual a 20.\n",
    "\n",
    "Si partimos de una lista de números cualquiera, no sabemos de antemano cuántos elementos será necesario sumar. Sin embargo, esto no será un problema si utilizamos la estructura `while` en combinación con la sentencia `break`."
   ]
  },
  {
   "cell_type": "code",
   "execution_count": 23,
   "id": "9091eb73",
   "metadata": {},
   "outputs": [
    {
     "name": "stdout",
     "output_type": "stream",
     "text": [
      "3\n",
      "8\n",
      "12\n",
      "16\n",
      "21\n"
     ]
    }
   ],
   "source": [
    "suma = 0\n",
    "umbral = 20\n",
    "valores = [3, 5, 4, 4, 5, 5, 3, 5, 2, 7]\n",
    "\n",
    "while valores:\n",
    "    suma += valores.pop(0)\n",
    "    print(suma)\n",
    "    if suma >= umbral:\n",
    "        break"
   ]
  },
  {
   "cell_type": "code",
   "execution_count": 24,
   "id": "ba53e41c",
   "metadata": {},
   "outputs": [
    {
     "data": {
      "text/plain": [
       "[5, 3, 5, 2, 7]"
      ]
     },
     "execution_count": null,
     "metadata": {},
     "output_type": "execute_result"
    }
   ],
   "source": [
    "valores # valores que no se sumaron"
   ]
  },
  {
   "cell_type": "markdown",
   "id": "43d0afc0",
   "metadata": {},
   "source": [
    "En el bloque de código anterior puede llamar la atención el uso de\n",
    "\n",
    "```python\n",
    "while valores:\n",
    "```\n",
    "\n",
    "El bucle `while valores`: se ejecuta mientras la lista tenga elementos. En cada iteración, `.pop(0)` extrae el primer elemento, se suma a `suma` y se imprime el total acumulado. Si en algún momento `suma` alcanza o supera el umbral, se ejecuta `break` para detener el bucle aunque aún queden elementos en la lista. Si la lista se vacía antes de llegar al umbral, el bucle también finaliza automáticamente gracias a la condición `while valores:`."
   ]
  },
  {
   "cell_type": "markdown",
   "id": "e6923191",
   "metadata": {},
   "source": [
    "Un ejemplo más conciso es el siguiente:"
   ]
  },
  {
   "cell_type": "code",
   "execution_count": 25,
   "id": "c51b7adb",
   "metadata": {},
   "outputs": [
    {
     "name": "stdout",
     "output_type": "stream",
     "text": [
      "Bloque 'if'\n"
     ]
    }
   ],
   "source": [
    "if [1, 2, 3]:\n",
    "    print(\"Bloque 'if'\")\n",
    "else:\n",
    "    print(\"Bloque 'else'\")"
   ]
  },
  {
   "cell_type": "code",
   "execution_count": 26,
   "id": "dcd1a653",
   "metadata": {},
   "outputs": [
    {
     "name": "stdout",
     "output_type": "stream",
     "text": [
      "Bloque 'else'\n"
     ]
    }
   ],
   "source": [
    "if []:\n",
    "    print(\"Bloque 'if'\")\n",
    "else:\n",
    "    print(\"Bloque 'else'\")"
   ]
  },
  {
   "cell_type": "markdown",
   "id": "ba32b8c8",
   "metadata": {},
   "source": [
    "Ahora supongamos que tenemos una lista de números aleatorios que representan algún conteo.\n",
    "\n",
    "Estamos interesados en la cantidad de extracciones que se necesitaron hasta que el conteo supere cierto umbral, por ejemplo, 30."
   ]
  },
  {
   "cell_type": "code",
   "execution_count": 27,
   "id": "28afc7a9",
   "metadata": {},
   "outputs": [
    {
     "name": "stdout",
     "output_type": "stream",
     "text": [
      "Se superó el umbral de 30 en la iteración 7, sumando 31.\n"
     ]
    }
   ],
   "source": [
    "numeros_aleatorios = [\n",
    "    5, 7, 6, 4, 2, 2, 5, 3, 6, 4, 4, 6, 3, 6, 1,\n",
    "    3, 3, 1, 9, 5, 5, 6, 5, 1, 7, 3, 3, 1, 3, 4\n",
    "]\n",
    "\n",
    "umbral = 30\n",
    "\n",
    "# Inicializamos suma y cantidad de iteraciones en 0\n",
    "suma = 0\n",
    "iteraciones = 0\n",
    "\n",
    "# Mientras la lista no esté vacía\n",
    "while numeros_aleatorios:\n",
    "    # Agregamos 1 al conteo de iteraciones realizadas\n",
    "    iteraciones += 1\n",
    "\n",
    "    # Extraemos el primer número de la lista y lo sumamos a la suma\n",
    "    suma += numeros_aleatorios.pop(0)\n",
    "\n",
    "    # Si la suma es mayor o igual al umbral, dejamos de iterar\n",
    "    if suma >= umbral:\n",
    "        break\n",
    "\n",
    "if suma >= umbral:\n",
    "    print(f\"Se superó el umbral de {umbral} en la iteración {iteraciones}, sumando {suma}.\")\n",
    "else:\n",
    "    print(f\"La suma de los elementos de la lista no llega a superar {umbral}\")"
   ]
  },
  {
   "cell_type": "markdown",
   "id": "9ce6849b",
   "metadata": {},
   "source": [
    "#### Solicitar valores de entrada al usuario\n",
    "\n",
    "Python provee una función llamada `input()` que sirve para solicitar al usuario que ingrese un valor. \n",
    "\n",
    "* El argumento es el mensaje que se mostrará en pantalla.\n",
    "* El tipo de dato que se devuelve es `str`."
   ]
  },
  {
   "cell_type": "code",
   "execution_count": 28,
   "id": "a8316146",
   "metadata": {},
   "outputs": [
    {
     "name": "stdout",
     "output_type": "stream",
     "text": [
      "El nombre ingresado es 'Tomi'\n"
     ]
    }
   ],
   "source": [
    "nombre = input(\"Ingresa tu nombre: \")\n",
    "print(f\"El nombre ingresado es '{nombre}'\")"
   ]
  },
  {
   "cell_type": "markdown",
   "id": "d70d2095",
   "metadata": {},
   "source": [
    "Esta funcion combinada con el bucle `while` nos permite generar programas interactivos que solicitan entrada al usuario hasta que se cumple una condición.\n",
    "Por ejemplo, supongamos que queremos solicitar una contraseña que tenga 8 caracteres o más."
   ]
  },
  {
   "cell_type": "code",
   "execution_count": 29,
   "id": "cd17ef46",
   "metadata": {},
   "outputs": [
    {
     "name": "stdout",
     "output_type": "stream",
     "text": [
      "La contraseña '' es corta\n",
      "La contraseña 'prueba' es corta\n",
      "¡Muchas gracias!\n",
      "La contraseña ingresada es 'prueba 2'\n"
     ]
    }
   ],
   "source": [
    "while True:\n",
    "    pwd = input(\"Ingrese su contraseña: \")\n",
    "    if len(pwd) >= 8:\n",
    "        print(\"¡Muchas gracias!\")\n",
    "        break\n",
    "    else:\n",
    "        print(f\"La contraseña '{pwd}' es corta\")\n",
    "print(f\"La contraseña ingresada es '{pwd}'\")"
   ]
  },
  {
   "cell_type": "markdown",
   "id": "90d0ef9d",
   "metadata": {},
   "source": [
    "### La sentencia `continue`\n",
    "\n",
    "Así como tenemos la sentencia `break` que le dice a Python que interrumpa la ejecución de un bucle, tenemos la sentencia `continue` que le dice que pase a la siguiente iteración **sin ejecutar el código a continuación de la misma**.\n",
    "\n",
    "Cuando un programa se encuentra con `continue` se procede a la siguiente iteración del bucle, re-evaluando la condición del `while` de ser necesario."
   ]
  },
  {
   "cell_type": "markdown",
   "id": "c6b080a2",
   "metadata": {},
   "source": [
    "En el siguiente ejemplo tenemos una lista con números del 1 al 10 y queremos sumar solamente los números pares."
   ]
  },
  {
   "cell_type": "code",
   "execution_count": 30,
   "id": "a696c072",
   "metadata": {},
   "outputs": [
    {
     "name": "stdout",
     "output_type": "stream",
     "text": [
      "[1, 2, 3, 4, 5, 6, 7, 8, 9, 10]\n",
      "Sumando el numero 2\n",
      "Sumando el numero 4\n",
      "Sumando el numero 6\n",
      "Sumando el numero 8\n",
      "Sumando el numero 10\n",
      "La suma es 30\n"
     ]
    }
   ],
   "source": [
    "# Crear lista del 1 al 10\n",
    "numeros = list(range(1, 11))\n",
    "print(numeros)\n",
    "\n",
    "suma = 0\n",
    "while numeros:\n",
    "    numero = numeros.pop(0)\n",
    "    if numero % 2 != 0:\n",
    "        continue\n",
    "    suma += numero\n",
    "    print(\"Sumando el numero\", numero)\n",
    "\n",
    "print(\"La suma es\", suma)"
   ]
  },
  {
   "cell_type": "markdown",
   "id": "49bf4c29",
   "metadata": {},
   "source": [
    "En este programa, si `numero % 2 != 0`, el `continue` le indica a Python que debe pasar a la siguiente iteración sin evaluar lo que hay debajo. Por lo tanto, cuando el número es impar, no se ejecuta ni la suma ni el `print`.\n",
    "\n",
    "Este problema se puede resolver también utilizando un bucle `for` en vez de un bucle `while`."
   ]
  },
  {
   "cell_type": "code",
   "execution_count": 31,
   "id": "d61e24eb",
   "metadata": {},
   "outputs": [
    {
     "name": "stdout",
     "output_type": "stream",
     "text": [
      "Sumando el numero 2\n",
      "Sumando el numero 4\n",
      "Sumando el numero 6\n",
      "Sumando el numero 8\n",
      "Sumando el numero 10\n",
      "La suma es 30\n"
     ]
    }
   ],
   "source": [
    "numeros = list(range(1, 11))\n",
    "suma = 0\n",
    "for numero in numeros:\n",
    "    if numero % 2 != 0:\n",
    "        continue\n",
    "    suma += numero\n",
    "    print(\"Sumando el numero\", numero)\n",
    "print(\"La suma es\", suma)"
   ]
  },
  {
   "cell_type": "markdown",
   "id": "0dc68bb0",
   "metadata": {},
   "source": [
    "## Conclusión\n",
    "\n",
    "Cuándo usar un bucle `for`.\n",
    "\n",
    "* Sabemos exactamente, y de antemano, cuantas veces queremos iterar.\n",
    "* Queremos iterar a través de todos los elementos de un objeto determinado.\n",
    "\n",
    "Cuándo usar un bucle `while`.\n",
    "\n",
    "* No sabemos exactamente cuantas veces queremos iterar.\n",
    "* Queremos iterar hasta que se cumpla (o se deje de cumplir) una condición determinada."
   ]
  }
 ],
 "metadata": {
  "language_info": {
   "name": "python"
  }
 },
 "nbformat": 4,
 "nbformat_minor": 5
}
