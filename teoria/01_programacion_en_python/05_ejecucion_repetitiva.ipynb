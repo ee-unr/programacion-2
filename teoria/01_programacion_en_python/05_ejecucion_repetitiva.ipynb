{
 "cells": [
  {
   "cell_type": "markdown",
   "id": "3ce2ccfd",
   "metadata": {},
   "source": [
    "---\n",
    "title: \"5 - Ejecución repetitiva [WIP]\"\n",
    "toc: true\n",
    "---"
   ]
  },
  {
   "cell_type": "markdown",
   "id": "cacf21f7",
   "metadata": {},
   "source": [
    "## Introducción\n",
    "\n",
    "Anteriormente aprendimos a crear objetos que contienen otros objetos (listas, tuplas y diccionarios).\n",
    "\n",
    "Cuando queríamos realizar una acción con cada uno de los objetos que estos contenían, teníamos que escribir el mismo código para acceder a cada uno de ellos de a uno.\n",
    "\n",
    "Por ejemplo, recordando el ejemplo donde pusimos los nombres de un grupo de amigos:"
   ]
  },
  {
   "cell_type": "code",
   "execution_count": 1,
   "id": "f7e01ddb",
   "metadata": {},
   "outputs": [
    {
     "name": "stdout",
     "output_type": "stream",
     "text": [
      "Nombres originales:\n",
      "['julieta', 'facundo', 'emiliano', 'mariana', 'victoria']\n",
      "\n",
      "Nombres modificados:\n",
      "['Julieta', 'Facundo', 'Emiliano', 'Mariana', 'Victoria']\n"
     ]
    }
   ],
   "source": [
    "nombres = [\"julieta\", \"facundo\", \"emiliano\", \"mariana\", \"victoria\"]\n",
    "print(\"Nombres originales:\")\n",
    "print(nombres)\n",
    "\n",
    "nombres[0] = nombres[0].capitalize()\n",
    "nombres[1] = nombres[1].capitalize()\n",
    "nombres[2] = nombres[2].capitalize()\n",
    "nombres[3] = nombres[3].capitalize()\n",
    "nombres[4] = nombres[4].capitalize()\n",
    "\n",
    "print(\"\\nNombres modificados:\")\n",
    "print(nombres)"
   ]
  },
  {
   "cell_type": "markdown",
   "id": "5ced4787",
   "metadata": {},
   "source": [
    "Vemos que realizamos **exactamente la misma acción** con cada nombre en la lista... ¿No estaría bueno poder automatizarlo?\n",
    "\n",
    "Anteriormente también dijimos que las computadoras son muy buenas para repetir tareas.\n",
    "\n",
    "En esta sección vamos a aprender sobre **bucles**."
   ]
  },
  {
   "cell_type": "markdown",
   "id": "f385c0be",
   "metadata": {},
   "source": [
    "## ¿Qué son los bucles?\n",
    "\n",
    "Los bucles son una estrcutura de los lenguajes de programación que nos **permite repetir la ejecución de código de manera automática**.\n",
    "\n",
    "En otras palabras, los bucles hacen que sea muy fácil ejecutar el mismo bloque de código una y otra vez.\n",
    "\n",
    "A la repetición del mismo bloque de código una y otra vez le decimos **iteración**. Entonces, **los bucles nos ayudan a iterar**.\n",
    "\n",
    "\n",
    "En Python tenemos **dos tipos de bucles**\n",
    "\n",
    "* El bucle `for` (_for-loop_).\n",
    "* El bucle `while` (_while-loop_). \n",
    "\n",
    "La diferencia entre este tipo de bucles es que con el `for` **sabemos** la cantidad de iteraciones que vamos a realizar de antemano.\n",
    "\n",
    "En cambio, con el `while` **no sabemos** la cantidad de iteraciones que vamos a realizar de antemano.\n",
    "\n",
    "Veamos el ejemplo anterior pero utilizando un bucle `for`.\n",
    "\n",
    "Generemos una nueva lista llamada `nombres_modificados` donde vamos a almacenar los nombres modificados."
   ]
  },
  {
   "cell_type": "code",
   "execution_count": 2,
   "id": "674c3734",
   "metadata": {},
   "outputs": [
    {
     "name": "stdout",
     "output_type": "stream",
     "text": [
      "Nombres originales:\n",
      "['julieta', 'facundo', 'emiliano', 'mariana', 'victoria']\n",
      "\n",
      "Nombres modificados:\n",
      "['Julieta', 'Facundo', 'Emiliano', 'Mariana', 'Victoria']\n"
     ]
    }
   ],
   "source": [
    "nombres = [\"julieta\", \"facundo\", \"emiliano\", \"mariana\", \"victoria\"]\n",
    "nombres_modificados = []\n",
    "\n",
    "# Bucle for\n",
    "for nombre in nombres:\n",
    "    nombres_modificados.append(nombre.capitalize())\n",
    "\n",
    "print(\"Nombres originales:\")\n",
    "print(nombres)\n",
    "\n",
    "print(\"\\nNombres modificados:\")\n",
    "print(nombres_modificados)"
   ]
  },
  {
   "cell_type": "markdown",
   "id": "62cfeb83",
   "metadata": {},
   "source": [
    "## El bucle `for`\n",
    "\n",
    "### Presentación\n",
    "\n",
    "En un bucle `for` encontramos los siguientes componentes.\n",
    "\n",
    "* La palabra clave `for`\n",
    "\n",
    "* El nombre de una variable que se usa para iterar (variable de iteración)\n",
    "\n",
    "* La palabra clave `in`\n",
    "\n",
    "* El objeto sobre el cual iteramos, seguido por `:`\n",
    "\n",
    "* En la siguiente linea y con indentación, el bloque de código a ejecutar"
   ]
  },
  {
   "cell_type": "markdown",
   "id": "47d53b6b",
   "metadata": {},
   "source": [
    "![](../imgs/for_loop.png){fig-align=\"center\" width=\"600px\"}"
   ]
  },
  {
   "cell_type": "markdown",
   "id": "e703c4f1",
   "metadata": {},
   "source": [
    "**Algunas comentarios** \n",
    "\n",
    "* Al igual que sucede con las sentencias `if`, `else`, etc., Python utiliza los dos puntos `:` para indicar el comienzo de un bloque de código. **Nunca** se utilizan llaves `{}`.\n",
    "\n",
    "* En el bucle `for` tenemos una variable que va tomando los valores del **iterable** en cada **iteración**\n",
    "\n",
    "* Si el **iterable** contiene **10 objetos**, se realizan **10 iteraciones** donde la **variable de iteración `i`** toma esos valores de a uno a la vez. "
   ]
  },
  {
   "cell_type": "markdown",
   "id": "fab72c33",
   "metadata": {},
   "source": [
    "### Ejemplos\n",
    "\n",
    "A iterar se aprende iterando..."
   ]
  },
  {
   "cell_type": "code",
   "execution_count": null,
   "id": "62e5dfef",
   "metadata": {},
   "outputs": [],
   "source": [
    "for i in [3, 1, 2]:\n",
    "    print(f\"El número es {i}.\")"
   ]
  },
  {
   "cell_type": "markdown",
   "id": "54a47501",
   "metadata": {},
   "source": [
    "También podemos ordenar los valores de la lista sobre la que iteramos..."
   ]
  },
  {
   "cell_type": "code",
   "execution_count": null,
   "id": "1513d6a6",
   "metadata": {},
   "outputs": [],
   "source": [
    "for i in sorted([3, 1, 2]):\n",
    "    print(f\"El número es {i}.\")"
   ]
  },
  {
   "cell_type": "markdown",
   "id": "6c83e24f",
   "metadata": {},
   "source": [
    "Pero no es necesario iterar sobre listas. Se pueden utilizar otro tipo de objetos.\n",
    "\n",
    "Por ejemplo, una tupla."
   ]
  },
  {
   "cell_type": "code",
   "execution_count": null,
   "id": "b9fe30e0",
   "metadata": {},
   "outputs": [],
   "source": [
    "for i in (3, 1, 2):\n",
    "    print(f\"El número es {i}.\")"
   ]
  },
  {
   "cell_type": "code",
   "execution_count": null,
   "id": "1548360d",
   "metadata": {},
   "outputs": [],
   "source": [
    "for i in sorted((3, 1, 2)):\n",
    "    print(f\"El número es {i}.\")"
   ]
  },
  {
   "cell_type": "markdown",
   "id": "5355992a",
   "metadata": {},
   "source": [
    "¿Qué pasa si la lista sobre la que itero está vacía?"
   ]
  },
  {
   "cell_type": "code",
   "execution_count": null,
   "id": "07f7d407",
   "metadata": {},
   "outputs": [],
   "source": [
    "lista = []\n",
    "for j in lista:\n",
    "    print(j)"
   ]
  },
  {
   "cell_type": "markdown",
   "id": "43f3d1fb",
   "metadata": {},
   "source": [
    "**Comentarios**\n",
    "\n",
    "* El nombre de la variable que se usa para iterar es **arbitrario**.\n",
    "\n",
    "* A modo de recomendación, no utilizar el mismo nombre de otra variable que tengamos en nuestro programa.\n",
    "\n",
    "Veamos un ejemplo..."
   ]
  },
  {
   "cell_type": "code",
   "execution_count": null,
   "id": "88d019e6",
   "metadata": {},
   "outputs": [],
   "source": [
    "i = 1\n",
    "for i in [1, 2, 3]:\n",
    "    print(i)\n",
    "print(i)"
   ]
  },
  {
   "cell_type": "markdown",
   "id": "9707c235",
   "metadata": {},
   "source": [
    "La variable de iteración `i` va pisando su valor, y cualquier valor que está pudo haber tenido antes.\n",
    "\n",
    "Por eso, luego de la finalizar la iteración el valor de `i` es `3`."
   ]
  },
  {
   "cell_type": "markdown",
   "id": "749eb797",
   "metadata": {},
   "source": [
    "Los bucles son muy útiles para crear nuevos objetos de manera más automática. \n",
    "\n",
    "En el siguiente ejemplo tenemos una lista que contiene cadenas de texto. \n",
    "\n",
    "En algunos casos estos contienen números y en otros estos contienen letras. \n",
    "\n",
    "Utilizando un bucle `for` generemos tres nuevas listas, uno que contiene a los números, otro que contiene al texto, y una última que contiene a los que no son ni uno ni otros."
   ]
  },
  {
   "cell_type": "code",
   "execution_count": 3,
   "id": "1dde62b6",
   "metadata": {},
   "outputs": [],
   "source": [
    "lista_original = [\"1\", \"@\", \"x\", \"y\", \"?\", \"3\", \"4\", \"7\", \"f\", \"l\", \"9\", \"10\", \"!\"] "
   ]
  },
  {
   "cell_type": "code",
   "execution_count": 4,
   "id": "57cd9835",
   "metadata": {},
   "outputs": [
    {
     "name": "stdout",
     "output_type": "stream",
     "text": [
      "La cadena '@' no es ni numérica ni alfabética.\n",
      "La cadena '?' no es ni numérica ni alfabética.\n",
      "La cadena '!' no es ni numérica ni alfabética.\n",
      "['1', '@', 'x', 'y', '?', '3', '4', '7', 'f', 'l', '9', '10', '!']\n",
      "['1', '3', '4', '7', '9', '10']\n",
      "['x', 'y', 'f', 'l']\n",
      "['@', '?', '!']\n"
     ]
    }
   ],
   "source": [
    "# Crear tres listas vacias (que contienen los diferentes tipos de datos)\n",
    "numeros = []\n",
    "texto = []\n",
    "otros = []\n",
    "\n",
    "# Iterar a traves de los valores de la lista original\n",
    "for valor in lista_original:\n",
    "    # Si es numerico, lo agregamos en la lista 'numeros'\n",
    "    if valor.isnumeric():\n",
    "        numeros.append(valor)\n",
    "    # Sino es numerico, pregunto si es alfabetico (o una letra del abecedario)\n",
    "    elif valor.isalpha():\n",
    "        texto.append(valor)\n",
    "    # Caso contrario, lo metemos en la lista de otros\n",
    "    else:\n",
    "        print(f\"La cadena '{valor}' no es ni numérica ni alfabética.\")\n",
    "        otros.append(valor)\n",
    "\n",
    "print(lista_original)\n",
    "print(numeros)\n",
    "print(texto)\n",
    "print(otros)"
   ]
  },
  {
   "cell_type": "markdown",
   "id": "06f66fd0",
   "metadata": {},
   "source": [
    "### Crear listas numéricas con `range()`.\n",
    "\n",
    "Python provee una función llamada `range()` que hace que sea muy fácil generar una lista de números.\n",
    "\n",
    "Por ejemplo, podemos usar `range()` para imprimir una serie de números."
   ]
  },
  {
   "cell_type": "code",
   "execution_count": 5,
   "id": "c8c6714f",
   "metadata": {},
   "outputs": [
    {
     "name": "stdout",
     "output_type": "stream",
     "text": [
      "1\n",
      "2\n",
      "3\n",
      "4\n"
     ]
    }
   ],
   "source": [
    "for i in range(1, 5):\n",
    "    print(i)"
   ]
  },
  {
   "cell_type": "markdown",
   "id": "ef6102e8",
   "metadata": {},
   "source": [
    "`range()` funciona de manera similar a los _slices_, es decir, no incluye el número de la derecha.\n",
    "\n",
    "También podemos utilizar a `range()` con un solo argumento, y es equivalente a `range(0, numero)`."
   ]
  },
  {
   "cell_type": "code",
   "execution_count": null,
   "id": "b0b1f5a7",
   "metadata": {},
   "outputs": [],
   "source": [
    "for i in range(5):\n",
    "    print(i)"
   ]
  },
  {
   "cell_type": "code",
   "execution_count": null,
   "id": "b8b45e8e",
   "metadata": {},
   "outputs": [],
   "source": [
    "x = range(5)\n",
    "print(x)\n",
    "print(type(x))"
   ]
  },
  {
   "cell_type": "markdown",
   "id": "73d1edcf",
   "metadata": {},
   "source": [
    "Podemos convertir un `range` a una lista utilizando `list()`."
   ]
  },
  {
   "cell_type": "code",
   "execution_count": null,
   "id": "7c067954",
   "metadata": {},
   "outputs": [],
   "source": [
    "list(x)"
   ]
  },
  {
   "cell_type": "markdown",
   "id": "134d4a49",
   "metadata": {},
   "source": [
    "Y, por qué no, a una tupla también."
   ]
  },
  {
   "cell_type": "code",
   "execution_count": 6,
   "id": "d0719eda",
   "metadata": {},
   "outputs": [
    {
     "ename": "NameError",
     "evalue": "name 'x' is not defined",
     "output_type": "error",
     "traceback": [
      "\u001b[0;31m---------------------------------------------------------------------------\u001b[0m\n",
      "\u001b[0;31mNameError\u001b[0m                                 Traceback (most recent call last)\n",
      "Cell \u001b[0;32mIn[6], line 1\u001b[0m\n",
      "\u001b[0;32m----> 1\u001b[0m \u001b[38;5;28mtuple\u001b[39m(\u001b[43mx\u001b[49m)\n",
      "\n",
      "\u001b[0;31mNameError\u001b[0m: name 'x' is not defined"
     ]
    }
   ],
   "source": [
    "tuple(x)"
   ]
  },
  {
   "cell_type": "markdown",
   "id": "5ddafd39",
   "metadata": {},
   "source": [
    "`range()` tiene un tercer argumento, opcional, que indica el paso. Por defecto es 1."
   ]
  },
  {
   "cell_type": "code",
   "execution_count": null,
   "id": "e4b66abe",
   "metadata": {},
   "outputs": [],
   "source": [
    "list(range(0, 10, 2))"
   ]
  },
  {
   "cell_type": "code",
   "execution_count": null,
   "id": "4733e64c",
   "metadata": {},
   "outputs": [],
   "source": [
    "list(range(10, 0))"
   ]
  },
  {
   "cell_type": "code",
   "execution_count": null,
   "id": "5eb9cca4",
   "metadata": {},
   "outputs": [],
   "source": [
    "list(range(10, 0))"
   ]
  },
  {
   "cell_type": "code",
   "execution_count": null,
   "id": "a7a1459e",
   "metadata": {},
   "outputs": [],
   "source": [
    "list(range(10, -1, -1))"
   ]
  },
  {
   "cell_type": "code",
   "execution_count": null,
   "id": "332939d1",
   "metadata": {},
   "outputs": [],
   "source": [
    "sum(range(10))"
   ]
  },
  {
   "cell_type": "markdown",
   "id": "5138ff01",
   "metadata": {},
   "source": [
    "### ¿Sobre qué cosas podemos iterar en un bucle `for`?"
   ]
  },
  {
   "cell_type": "markdown",
   "id": "31697eef",
   "metadata": {},
   "source": [
    "Recordemos el diagrama que vimos anteriormente...\n",
    "\n",
    "![](../imgs/for_loop.png){fig-align=\"center\" width=\"600px\"}"
   ]
  },
  {
   "cell_type": "markdown",
   "id": "fc188145",
   "metadata": {},
   "source": [
    "En naranja tenemos resaltado **iterable**. Pero, ¿qué significa que un objeto sea iterable?\n",
    "\n",
    "* Que podemos iterar a través de el.\n",
    "* Que tiene la capacidad de devolvernos los elementos que contiene de a uno.\n",
    "\n",
    "Ejemplos\n",
    "\n",
    "* Listas\n",
    "* Tuplas\n",
    "* Diccionarios\n",
    "* Conjuntos (estos no los vimos)\n",
    "* Cadenas de caracteres.\n",
    "\n",
    "¡¿Cadenas de caracteres?!\n"
   ]
  },
  {
   "cell_type": "code",
   "execution_count": null,
   "id": "832a23be",
   "metadata": {},
   "outputs": [],
   "source": [
    "for i in \"Hola Curso\":\n",
    "    print(i)"
   ]
  },
  {
   "cell_type": "code",
   "execution_count": null,
   "id": "f2893030",
   "metadata": {},
   "outputs": [],
   "source": [
    "x = \"Hola Curso\"\n",
    "\n",
    "print(x[0])\n",
    "print(x[-1])\n",
    "print(x[:4])"
   ]
  },
  {
   "cell_type": "markdown",
   "id": "72b37e59",
   "metadata": {},
   "source": [
    "Por eso, también, es que podemos utilizar `len()` con una cadena de caracteres."
   ]
  },
  {
   "cell_type": "code",
   "execution_count": null,
   "id": "668d2b30",
   "metadata": {},
   "outputs": [],
   "source": [
    "len(\"Python\")"
   ]
  },
  {
   "cell_type": "markdown",
   "id": "472dd8b6",
   "metadata": {},
   "source": [
    "¿Qué pasa si intentamos reemplazar algun caracter?"
   ]
  },
  {
   "cell_type": "code",
   "execution_count": null,
   "id": "61388fbe",
   "metadata": {},
   "outputs": [],
   "source": [
    "\"Python\"[2] = \"z\""
   ]
  },
  {
   "cell_type": "markdown",
   "id": "e0bd6933",
   "metadata": {},
   "source": [
    "**Conclusión**\n",
    "\n",
    "* Python permite iterar a través de \"iterables\"\n",
    "* Las secuencias son iterables\n",
    "* Una cadena de caracteres es una secuencia\n",
    "* Se puede iterar a través de una cadena de caracteres\n",
    "\n",
    "Yapa:\n",
    "\n",
    "* Las cadenas de caracteres son inmutables\n",
    "    * Por eso los metodos que usamos en las cadenas **siempre devuelven un nuevo valor**"
   ]
  },
  {
   "cell_type": "markdown",
   "id": "92cf2787",
   "metadata": {},
   "source": [
    "## El bucle `while`\n",
    "\n",
    "En un bucle `while` encontramos los siguientes componentes.\n",
    "\n",
    "* La palabra clave `while`.\n",
    "\n",
    "* Una condición, es decir, una expresión que se evalúa a `True` o `False`, seguido por los dos puntos `:`.\n",
    "\n",
    "* En la siguiente linea y con indentación, el bloque de código a ejecutar."
   ]
  },
  {
   "cell_type": "markdown",
   "id": "810159f4",
   "metadata": {},
   "source": [
    "![](../imgs/while_loop.png){fig-align=\"center\" width=\"600px\"}"
   ]
  },
  {
   "cell_type": "code",
   "execution_count": 7,
   "id": "05cb325c",
   "metadata": {},
   "outputs": [
    {
     "name": "stdout",
     "output_type": "stream",
     "text": [
      "El numero es 1\n",
      "El numero es 2\n",
      "El numero es 3\n",
      "El numero es 4\n",
      "El numero es 5\n"
     ]
    }
   ],
   "source": [
    "numero = 0\n",
    "while numero < 5:\n",
    "    numero += 1\n",
    "    print(f\"El numero es {numero}\")"
   ]
  },
  {
   "cell_type": "markdown",
   "id": "f4006a1b",
   "metadata": {},
   "source": [
    "* Esta es la primera vez que vemos el operador `+=`. \n",
    "\n",
    "* `x += y` es una abreviación de `x = x + y`. Hacen exactamente lo mismo."
   ]
  },
  {
   "cell_type": "markdown",
   "id": "8c83b007",
   "metadata": {},
   "source": [
    "![](../imgs/while_loop_diagrama.png){fig-align=\"center\" width=\"600px\"}"
   ]
  },
  {
   "cell_type": "markdown",
   "id": "bbe40bae",
   "metadata": {},
   "source": [
    "Analicemos un poco este diagrama:\n",
    "\n",
    "* Python va a continuar iterando en el bucle `while` mientras `numero < 5` sea `True`.\n",
    "* En la primera iteración, `numero` es 0. \n",
    "    + Como 0 es menor a 5, Python imprime el número y luego le agrega 1, haciendo que el número sea 1.\n",
    "* En la segunda iteración, `numero` es 1.\n",
    "    +  Como 1 es menor a 5, Python imprime el número y luego le agrega 1, haciendo que el número sea 2.\n",
    "    \n",
    "Y asi sucesivamente hasta que `numero` deja de ser menor a 5. \n",
    "\n",
    "En ese momento Python deja de iterar y finaliza el programa."
   ]
  },
  {
   "cell_type": "markdown",
   "id": "a69e8ff2",
   "metadata": {},
   "source": [
    "### Bucles infinitos\n",
    "\n",
    "Veamos el siguiente ejemplo... \n",
    "\n",
    "```python\n",
    "x = 0\n",
    "while x < 5:\n",
    "    print(x)\n",
    "```\n",
    "\n",
    "¿Ven algo raro?\n",
    "\n",
    "Si intentamos correr este código, Python nunca va a terminar su ejecución. \n",
    "\n",
    "Esto sucede porque el valor de `x` nunca cambia y en consecuencia `x < 5` es siempre verdadero.\n",
    "\n",
    "Si caemos en un error de este estilo, tenemos que utilizar CTRL-C (en la terminal) o clickear en Interrupt en VS Code para terminar el programa.\n",
    "\n",
    "**Conclusión** \n",
    "\n",
    "* Tener cuidado con la condición que ponemos en un bucle `while` para evitar bucles infinitos!"
   ]
  },
  {
   "cell_type": "markdown",
   "id": "6d308325",
   "metadata": {},
   "source": [
    "```python\n",
    "while True:\n",
    "    print(\"Hola\")\n",
    "```"
   ]
  },
  {
   "cell_type": "markdown",
   "id": "64b60ff1",
   "metadata": {},
   "source": [
    "### La sentencia `break`\n",
    "\n",
    "Python provee la sentencia `break` que sirve para terminar un bucle (_for_ o _while_) de manera anticipada. \n",
    "\n",
    "Veamos algunos ejemplos de uso."
   ]
  },
  {
   "cell_type": "code",
   "execution_count": null,
   "id": "919b9bc0",
   "metadata": {},
   "outputs": [],
   "source": [
    "while True:\n",
    "    print(\"Hola!!\")\n",
    "    break"
   ]
  },
  {
   "cell_type": "markdown",
   "id": "7c54aa6a",
   "metadata": {},
   "source": [
    "En el caso anterior, la condición del bucle era `True`, por lo que el bucle se debería ejecutar infinitamente.\n",
    "\n",
    "Sin embargo, hacia el final de la primera iteración encontramos un `break`.\n",
    "\n",
    "De manera similar, podemos expresar el primer bucle `while` de una manera alternativa."
   ]
  },
  {
   "cell_type": "code",
   "execution_count": null,
   "id": "b45123a1",
   "metadata": {},
   "outputs": [],
   "source": [
    "numero = 0\n",
    "while True:\n",
    "    if numero >= 5:\n",
    "        break\n",
    "    numero += 1\n",
    "    print(f\"El numero es {numero}\")"
   ]
  },
  {
   "cell_type": "code",
   "execution_count": null,
   "id": "e3add69b",
   "metadata": {},
   "outputs": [],
   "source": [
    "numero = 0\n",
    "while True:\n",
    "    numero += 1\n",
    "    print(f\"El numero es {numero}\")\n",
    "    if numero >= 5:\n",
    "        break"
   ]
  },
  {
   "cell_type": "markdown",
   "id": "714e8a62",
   "metadata": {},
   "source": [
    "Supongamos que queremos sumar los valores de una lista hasta que cumplen una condición determinada, por ejemplo, ser mayor o igual a 20.\n",
    "\n",
    "Dada una lista de números cualquiera, de antemano no sabemos cuantos elementos tenemos que sumar.\n"
   ]
  },
  {
   "cell_type": "code",
   "execution_count": null,
   "id": "9091eb73",
   "metadata": {},
   "outputs": [],
   "source": [
    "suma = 0\n",
    "umbral = 100\n",
    "valores = [3, 5, 4, 4, 5, 5, 3, 5, 2, 7]\n",
    "\n",
    "while valores:\n",
    "    suma += valores.pop(0)\n",
    "    print(suma)\n",
    "    if suma >= umbral:\n",
    "        break"
   ]
  },
  {
   "cell_type": "code",
   "execution_count": null,
   "id": "597877c9",
   "metadata": {},
   "outputs": [],
   "source": [
    "valores"
   ]
  },
  {
   "cell_type": "markdown",
   "id": "53327edc",
   "metadata": {},
   "source": [
    "¿Por qué utilizamos el siguiente código?\n",
    "\n",
    "```python\n",
    "while valores:\n",
    "```\n",
    "\n",
    "* El `.pop(0)` va sacando de a un elemento de la lista.\n",
    "* Potencialmente, la lista podría vaciarse sin que la suma llegue a superar el umbral.\n",
    "* Si intentamos hacer `.pop(0)` sobre una lista vacía vamos a tener un error.\n",
    "* Luego `valores` es convertido a `True` solamente cuando la lista no está vacía."
   ]
  },
  {
   "cell_type": "markdown",
   "id": "e6923191",
   "metadata": {},
   "source": [
    "Veamos unos ejemplos para entenderlo mejor..."
   ]
  },
  {
   "cell_type": "code",
   "execution_count": null,
   "id": "c51b7adb",
   "metadata": {},
   "outputs": [],
   "source": [
    "mi_lista = [1, 2, 3]\n",
    "if mi_lista:\n",
    "    print(\"Bloque 'if'\")\n",
    "else:\n",
    "    print(\"Bloque 'else'\")"
   ]
  },
  {
   "cell_type": "code",
   "execution_count": null,
   "id": "dcd1a653",
   "metadata": {},
   "outputs": [],
   "source": [
    "mi_lista = []\n",
    "if mi_lista:\n",
    "    print(\"Bloque 'if'\")\n",
    "else:\n",
    "    print(\"Bloque 'else'\")"
   ]
  },
  {
   "cell_type": "markdown",
   "id": "ba32b8c8",
   "metadata": {},
   "source": [
    "Ahora supongamos que tenemos una lista de números aleatorios que representan algún conteo.\n",
    "\n",
    "Estamos interesados en la cantidad de extracciones que se necesitaron hasta que el conteo supere cierto umbral, por ejemplo, 30."
   ]
  },
  {
   "cell_type": "code",
   "execution_count": 8,
   "id": "28afc7a9",
   "metadata": {},
   "outputs": [
    {
     "name": "stdout",
     "output_type": "stream",
     "text": [
      "Se superó el umbral de 30 en la iteración 7, sumando 31.\n"
     ]
    }
   ],
   "source": [
    "numeros_aleatorios = [\n",
    "    5, 7, 6, 4, 2, 2, 5, 3, 6, 4, 4, 6, 3, 6, 1,\n",
    "    3, 3, 1, 9, 5, 5, 6, 5, 1, 7, 3, 3, 1, 3, 4\n",
    "]\n",
    "\n",
    "umbral = 30\n",
    "\n",
    "# Inicializamos suma y cantidad de iteraciones en 0\n",
    "suma = 0\n",
    "iteraciones = 0\n",
    "\n",
    "# Mientras la lista no esté vacía\n",
    "while numeros_aleatorios:\n",
    "    # Agregamos 1 al conteo de iteraciones realizadas\n",
    "    iteraciones += 1\n",
    "\n",
    "    # Extraemos el primer número de la lista y lo sumamos a la suma\n",
    "    suma += numeros_aleatorios.pop(0)\n",
    "\n",
    "    # Si la suma es mayor o igual al umbral, dejamos de iterar\n",
    "    if suma >= umbral:\n",
    "        break\n",
    "\n",
    "if suma >= umbral:\n",
    "    print(f\"Se superó el umbral de {umbral} en la iteración {iteraciones}, sumando {suma}.\")\n",
    "else:\n",
    "    print(f\"La suma de los elementos de la lista no llega a superar {umbral}\")"
   ]
  },
  {
   "cell_type": "markdown",
   "id": "9ce6849b",
   "metadata": {},
   "source": [
    "**Solicitar valores de entrada al usuario**\n",
    "\n",
    "Python provee una función llamada `input()` que sirve para solicitar al usuario que ingrese un valor. \n",
    "\n",
    "* El argumento es el mensaje que se mostrará en pantalla.\n",
    "* El tipo de dato que se devuelve es `str`."
   ]
  },
  {
   "cell_type": "code",
   "execution_count": null,
   "id": "a8316146",
   "metadata": {},
   "outputs": [],
   "source": [
    "nombre = input(\"Ingresa tu nombre: \")\n",
    "print(f\"El nombre ingresado es '{nombre}'\")"
   ]
  },
  {
   "cell_type": "markdown",
   "id": "d70d2095",
   "metadata": {},
   "source": [
    "Esta funcion, combinada con el bucle `while` nos permite generar programas interactivos que solicitan entrada al usuario hasta que se cumple una condición.\n",
    "Por ejemplo, supongamos que queremos solicitar una contraseña que tenga 8 caracteres o más. "
   ]
  },
  {
   "cell_type": "code",
   "execution_count": null,
   "id": "cd17ef46",
   "metadata": {},
   "outputs": [],
   "source": [
    "while True:\n",
    "    pwd = input(\"Ingrese su contraseña: \")\n",
    "    if len(pwd) >= 8:\n",
    "        print(\"Muchas gracias!\")\n",
    "        break\n",
    "print(f\"La contraseña ingresada es '{pwd}'\")"
   ]
  },
  {
   "cell_type": "markdown",
   "id": "90d0ef9d",
   "metadata": {},
   "source": [
    "### La sentencia `continue`\n",
    "\n",
    "Así como tenemos la sentencia `break` que le dice a Python que interrumpa la ejecución de un bucle, tenemos la sentencia `continue` que le dice que pase a la siguiente iteración **sin ejecutar el código a continuación de la misma**.\n",
    "\n",
    "Cuando un programa se encuentra con `continue` se vuelve al principio del bucle y se re-evalúa la condición del mismo.\n",
    "\n",
    "Es lo mismo que sucede cuando se termina de ejecutar el bloque de código dentro del bucle, pero con la diferencia que el `continue` implica que no se evalúa lo que esté debajo de el."
   ]
  },
  {
   "cell_type": "markdown",
   "id": "c6b080a2",
   "metadata": {},
   "source": [
    "En el siguiente ejemplo tenemos una lista con números del 1 al 10.\n",
    "\n",
    "Queremos sumar solamente los números pares."
   ]
  },
  {
   "cell_type": "code",
   "execution_count": null,
   "id": "a696c072",
   "metadata": {},
   "outputs": [],
   "source": [
    "# Crear lista del 1 al 10\n",
    "numeros = list(range(1, 11))\n",
    "print(numeros)\n",
    "\n",
    "suma = 0\n",
    "while numeros:\n",
    "    numero = numeros.pop(0)\n",
    "    if numero % 2 != 0:\n",
    "        continue\n",
    "    suma += numero\n",
    "    print(\"Sumando el numero\", numero)\n",
    "print(\"La suma es\", suma)"
   ]
  },
  {
   "cell_type": "markdown",
   "id": "49bf4c29",
   "metadata": {},
   "source": [
    "* Si `numero % 2 != 0`, el `continue` le dice a Python que pase a la siguiente iteración sin evaluar lo que hay debajo.\n",
    "* Por lo tanto, no se ejecuta ni la suma ni el print.\n",
    "\n",
    "Se puede resolver el mismo problema utilizando un bucle `for` en vez de un bucle `while`."
   ]
  },
  {
   "cell_type": "code",
   "execution_count": null,
   "id": "d61e24eb",
   "metadata": {},
   "outputs": [],
   "source": [
    "numeros = list(range(1, 11))\n",
    "suma = 0\n",
    "for numero in numeros:\n",
    "    if numero % 2 != 0:\n",
    "        continue\n",
    "    suma += numero\n",
    "    print(\"Sumando el numero\", numero)\n",
    "print(\"La suma es\", suma)"
   ]
  },
  {
   "cell_type": "markdown",
   "id": "5196d04f",
   "metadata": {},
   "source": [
    "**Manos a la obra**\n",
    "\n",
    "Resolvamos los siguientes ejercicios utilizando **cualquiera de las técnicas** que aprendimos hasta ahora.\n",
    "\n",
    "* Sumar todos los múltiplos de 3 que se encuentran entre 0 y 100."
   ]
  },
  {
   "cell_type": "markdown",
   "id": "0dc68bb0",
   "metadata": {},
   "source": [
    "## Conclusión\n",
    "\n",
    "Cuándo usar un bucle `for`.\n",
    "\n",
    "* Sabemos exactamente, y de antemano, cuantas veces queremos iterar.\n",
    "* Queremos iterar a través de un objeto determinado.\n",
    "\n",
    "Cuándo usar un bucle `while`.\n",
    "\n",
    "* No sabemos exactamente cuantas veces queremos iterar.\n",
    "* Queremos iterar hasta que se cumpla (o se deje de cumplir) una condición determinada."
   ]
  }
 ],
 "metadata": {
  "language_info": {
   "name": "python"
  }
 },
 "nbformat": 4,
 "nbformat_minor": 5
}
