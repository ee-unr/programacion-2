{
 "cells": [
  {
   "cell_type": "markdown",
   "id": "1d9ef8f3",
   "metadata": {},
   "source": [
    "---\n",
    "title: \"8 - Lectura y esctritura de archivos\"\n",
    "toc: true\n",
    "---"
   ]
  },
  {
   "cell_type": "markdown",
   "id": "2f8a2a89",
   "metadata": {},
   "source": [
    "- Leer archivos\n",
    "    - Abrir conexiones\n",
    "    - Cerrar conexiones\n",
    "    - Context managers\n",
    "- Escribir archivos\n",
    "- Pathlib"
   ]
  },
  {
   "cell_type": "markdown",
   "id": "517da056",
   "metadata": {},
   "source": [
    "- Chap 10 Automate the boring stuff with Python.\n",
    "- Chap 9 Introduction to Python Programming.\n",
    "- Chap 10 Python Crash Course\n",
    "- Chap 7 The Python workbook"
   ]
  },
  {
   "cell_type": "markdown",
   "id": "d1f95518",
   "metadata": {},
   "source": [
    "Rutas relativas y absolutas"
   ]
  }
 ],
 "metadata": {
  "language_info": {
   "name": "plaintext"
  }
 },
 "nbformat": 4,
 "nbformat_minor": 5
}
