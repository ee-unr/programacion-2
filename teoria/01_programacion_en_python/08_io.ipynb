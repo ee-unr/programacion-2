{
 "cells": [
  {
   "cell_type": "markdown",
   "id": "a45e86ae",
   "metadata": {},
   "source": [
    "---\n",
    "title: \"8 - Lectura y esctritura de archivos\"\n",
    "toc: true\n",
    "---"
   ]
  },
  {
   "cell_type": "markdown",
   "id": "c4c52eee",
   "metadata": {},
   "source": [
    "## Introducción"
   ]
  },
  {
   "cell_type": "markdown",
   "id": "822bbd6d",
   "metadata": {},
   "source": [
    "En nuestros programas de Python utilizamos variables para almacenar datos durante la ejecución.\n",
    "Estos datos pueden estar escritos directamente en el código o ser ingresados por el usuario (por ejemplo, mediante la función `input()`). Por otro lado, cuando necesitamos mostrar una salida en pantalla, usamos la función `print()`.\n",
    "\n",
    "Sin embargo, el uso exclusivo de `input()` y `print()` para la entrada y salida de datos tiene limitaciones. Por ejemplo:\n",
    "\n",
    "* Si trabajamos con más de unos pocos datos, o ni siquiera sabemos cuáles datos necesitaremos al momento de ejecutar el programa, no resulta práctico declararlos en el código o ingresarlos manualmente.\n",
    "* Si el resultado de nuestro programa consiste en una gran cantidad de datos que no pueden analizarse visualmente con rapidez, o si necesitamos reutilizarlos en otro programa o proceso más adelante, se hace necesario almacenarlos de manera persistente.\n",
    "\n",
    "En resumen, para resolver problemas de mayor complejidad, vamos a necesitar leer y guardar archivos en la computadora."
   ]
  },
  {
   "cell_type": "markdown",
   "id": "aba739b8",
   "metadata": {},
   "source": [
    "## Lectura y escritura\n",
    "\n",
    "\n",
    "### Archivos de texto vs archivos binarios\n",
    "\n",
    "En esta sección vamos a aprender a leer y escribir **archivos de texto plano**.\n",
    "\n",
    "Los archivos de texto plano contienen únicamente **caracteres básicos de texto**, sin ningún tipo de información adicional. Algunos ejemplos son:\n",
    "\n",
    "* Archivos de texto genéricos con extensión **`.txt`**\n",
    "* Archivos de código Python con extensión **`.py`**\n",
    "\n",
    "Estos archivos pueden abrirse sin dificultad en programas como el Bloc de notas o cualquier editor de código, y Python puede leer su contenido y tratarlo como cadenas de texto normales (`str`).\n",
    "\n",
    "En contraste, existen los **archivos binarios**, que contienen secuencias de bits que no se limitan a representar caracteres de texto. Estos pueden almacenar **cualquier tipo de datos**, como imágenes, sonidos, videos, PDFs, ejecutables, etc. Aunque en este apunte nos enfocamos en los archivos de texto plato, muchos de los principios que veremos también se aplican a los **archivos binarios**."
   ]
  },
  {
   "cell_type": "markdown",
   "id": "3668605d",
   "metadata": {},
   "source": [
    "### Los tres pasos fundamentales\n",
    "\n",
    "A la hora de trabajar con archivos en Python, normalmente se siguen **tres pasos**:\n",
    "\n",
    "1. **Abrir** el archivo con la función **`open()`**, que devuelve un objeto de tipo **`TextIOWrapper`**.\n",
    "2. **Leer o escribir** en el archivo con los métodos **`read()`** o **`write()`** del objeto `TextIOWrapper`.\n",
    "3. **Cerrar** el archivo con el método **`close()`** para liberar los recursos y asegurarse de que todos los cambios se guarden correctamente."
   ]
  },
  {
   "cell_type": "markdown",
   "id": "29d4d490",
   "metadata": {},
   "source": [
    "### Leer archivos\n",
    "\n",
    "Para abrir un archivo en Python se utiliza la función `open()`, a la cual se le pasa como argumento la ruta del archivo. Esta ruta puede estar representada con una cadena de texto `str` o un objeto `Path` del módulo `pathlib` (que veremos en una sección más adelante). La función `open()` devuelve un objeto de tipo `TextIOWrapper` que representa al archivo abierto y permite interactuar con él.\n",
    "\n",
    "Supongamos que tenemos un archivo llamado `pensamientos.txt` con el siguiente contenido:\n",
    "\n",
    "```txt\n",
    "Estoy aprendiendo a leer archivos en Python.\n",
    "No se con qué me voy a encontrar.\n",
    "Pero acá vamos.\n",
    "```\n",
    "\n",
    "y usamos la función `open()` para abrir el archivo.\n",
    "\n",
    "```python\n",
    "archivo = open(\"pensamientos.txt\")\n",
    "archivo\n",
    "```\n",
    "```cmd\n",
    "<_io.TextIOWrapper name='pensamientos.txt' mode='r' encoding='cp1252'>\n",
    "```"
   ]
  },
  {
   "cell_type": "markdown",
   "id": "a786cb4a",
   "metadata": {},
   "source": [
    "Vemos que el objeto devuelto por `open()` no solo incluye el nombre del archivo (`pensamientos.txt`), sino también `mode=\"r\"` y `encoding=\"cp1252\"`.\n",
    "\n",
    "Tanto `mode` como `encoding` son argumentos de la función `open()`. El primero indica el modo en el que se abre el archivo. Por defecto, este valor es `\"r\"`, lo que significa que el archivo se abre en modo lectura de texto plano. En este modo es posible leer su contenido, pero no escribir sobre él.\n",
    "\n",
    "El segundo argumento, `encoding`, especifica la codificación que se usará para convertir los _bytes_ del archivo en cadenas de texto de Python. En **macOS** y **Linux** el valor por defecto es `\"utf-8\"`. En cambio, en **Windows**, la codificación predeterminada es **`\"cp1252\"`** (ASCII extendido). Como esto puede generar errores al leer archivos de texto **UTF-8** que contengan caracteres no ingleses en Windows, se recomienda siempre incluir explícitamente el argumento `encoding=\"utf-8\"`.\n"
   ]
  },
  {
   "cell_type": "markdown",
   "id": "124810c3",
   "metadata": {},
   "source": [
    "El objeto de la variable `archivo` es de tipo `TextIOWrapper`.\n",
    "A pesar de que el nombre pueda parecer complicado, no es más que otro tipo de objeto en Python, como son las listas o los diccionarios.\n",
    "Cada vez que necesitemos leer o escribir en el archivo, lo haremos a través de los métodos asociados a este objeto."
   ]
  },
  {
   "cell_type": "markdown",
   "id": "15aa6bf4",
   "metadata": {},
   "source": [
    "::: {.callout-warning}\n",
    "\n",
    "##### Puede fallar\n",
    "\n",
    "Si le pasamos a la función `open()` un nombre de un archivo que no existe, ya sea porque escribimos mal la ruta o cometimos un error de tipeo, obtendremos un `FileNotFoundError`.\n",
    "\n",
    "```python\n",
    "open(\"pensamiento.txt\")\n",
    "```\n",
    "\n",
    "```\n",
    "FileNotFoundError: [Errno 2] No such file or directory: 'pensamiento.txt'\n",
    "```\n",
    ":::"
   ]
  },
  {
   "cell_type": "markdown",
   "id": "41f01b2d",
   "metadata": {},
   "source": [
    "#### Leer todo el contenido\n",
    "\n",
    "Una forma de leer un archivo de texto plano en Python es cargar todo su contenido de una sola vez como una única cadena de texto.\n",
    "Para ello se utiliza el método `.read()` del objeto `TextIOWrapper`."
   ]
  },
  {
   "cell_type": "code",
   "execution_count": 1,
   "id": "f18b55d3",
   "metadata": {
    "vscode": {
     "languageId": "python"
    }
   },
   "outputs": [
    {
     "data": {
      "text/plain": [
       "'Estoy aprendiendo a leer archivos en Python.\\nNo se con qué me voy a encontrar.\\nPero acá vamos.'"
      ]
     },
     "execution_count": null,
     "metadata": {},
     "output_type": "execute_result"
    }
   ],
   "source": [
    "archivo = open(\"pensamientos.txt\", encoding=\"utf-8\")\n",
    "contenido = archivo.read()\n",
    "contenido"
   ]
  },
  {
   "cell_type": "markdown",
   "id": "3ceaefc3",
   "metadata": {},
   "source": [
    "Se puede observar que, salvo la última, cada línea termina con un carácter de nueva línea (`\\n`). Si hubiéramos agregado un salto de línea al final del archivo `pensamientos.txt`, la cadena resultante también habría terminado en `\"\\n\"`."
   ]
  },
  {
   "cell_type": "markdown",
   "id": "45656094",
   "metadata": {},
   "source": [
    "#### Leer línea a línea"
   ]
  },
  {
   "cell_type": "markdown",
   "id": "53c6ad8a",
   "metadata": {},
   "source": [
    "Una alternativa al método `.read()`, que carga todo el contenido como una única cadena de texto, es el método `.readlines()`.\n",
    "Este devuelve una **lista de cadenas**, donde cada elemento corresponde a una línea del archivo."
   ]
  },
  {
   "cell_type": "code",
   "execution_count": 2,
   "id": "acee3e64",
   "metadata": {
    "vscode": {
     "languageId": "python"
    }
   },
   "outputs": [
    {
     "data": {
      "text/plain": [
       "['Estoy aprendiendo a leer archivos en Python.\\n',\n",
       " 'No se con qué me voy a encontrar.\\n',\n",
       " 'Pero acá vamos.']"
      ]
     },
     "execution_count": null,
     "metadata": {},
     "output_type": "execute_result"
    }
   ],
   "source": [
    "archivo = open(\"pensamientos.txt\", encoding=\"utf-8\")\n",
    "archivo.readlines()"
   ]
  },
  {
   "cell_type": "markdown",
   "id": "21482a42",
   "metadata": {},
   "source": [
    "Trabajar con una lista de cadenas suele ser más cómodo que manejar un único bloque de texto, ya que te permite acceder directamente a cada línea por separado."
   ]
  },
  {
   "cell_type": "markdown",
   "id": "0e672b65",
   "metadata": {},
   "source": [
    "#### Leer solo algunas líneas\n",
    "\n",
    "También es posible leer un número limitado de líneas en lugar de cargar todo el archivo de una sola vez.\n",
    "Para ello se utiliza el método `.readline()`. Cada vez que se invoca, se obtiene la siguiente línea del archivo.\n",
    "Cuando ya no quedan más líneas, devuelve una cadena vacía."
   ]
  },
  {
   "cell_type": "code",
   "execution_count": 3,
   "id": "6c98e02b",
   "metadata": {
    "vscode": {
     "languageId": "python"
    }
   },
   "outputs": [
    {
     "name": "stdout",
     "output_type": "stream",
     "text": [
      "Estoy aprendiendo a leer archivos en Python.\n",
      "No se con qué me voy a encontrar.\n",
      "Pero acá vamos."
     ]
    }
   ],
   "source": [
    "archivo = open(\"pensamientos.txt\", encoding=\"utf-8\")\n",
    "while True:\n",
    "    linea = archivo.readline()\n",
    "    if linea == \"\":\n",
    "        break\n",
    "    print(linea, end=\"\") # `end=\"\"` para que Python no agregue salto de línea"
   ]
  },
  {
   "cell_type": "markdown",
   "id": "ceaa1411",
   "metadata": {},
   "source": [
    "Este método también acepta un argumento opcional `size`, que permite especificar la cantidad de caracteres a leer en cada llamada."
   ]
  },
  {
   "cell_type": "markdown",
   "id": "7539ae81",
   "metadata": {},
   "source": [
    "#### Cerrar archivo\n",
    "\n",
    "Cuando terminamos de trabajar con un archivo, es importante cerrarlo con el método `.close()`.\n",
    "Esto libera los recursos asociados y, en caso de escritura, asegura que todo lo que estaba en el búfer se guarde correctamente.\n",
    "\n",
    "Aunque Python suele cerrar los archivos automáticamente al final del programa, es una buena práctica hacerlo de forma explícita para evitar comportamientos inesperados."
   ]
  },
  {
   "cell_type": "markdown",
   "id": "1eb18984",
   "metadata": {},
   "source": [
    "::: {.callout-warning}\n",
    "\n",
    "##### Lecturas sucesivas\n",
    "\n",
    "Cuando se lee un archivo en Python, existe un puntero interno (a veces llamado _posición en el búfer_) que avanza a medida que se consume el contenido.\n",
    "Por eso, después de una primera lectura completa, las siguientes llamadas a métodos como `.read()` o `.readlines()` no devuelven nada: el puntero ya está al final del archivo.\n",
    "\n",
    "```python\n",
    "archivo = open(\"pensamientos.txt\")\n",
    "archivo.read()\n",
    "```\n",
    "\n",
    "```cmd\n",
    "'Estoy aprendiendo a leer archivos en Python.\\nNo se con qué me voy a encontrar.\\nPero acá vamos.'\n",
    "```\n",
    "\n",
    "```python\n",
    "archivo.read()\n",
    "```\n",
    "\n",
    "```cmd\n",
    "''\n",
    "```\n",
    "\n",
    "```python\n",
    "archivo.readlines()\n",
    "```\n",
    "\n",
    "```cmd\n",
    "[]\n",
    "```\n",
    "\n",
    "Para volver a leer desde el inicio, hay dos opciones:\n",
    "\n",
    "* Cerrar y volver a abrir el archivo.\n",
    "* Usar el método `.seek(0)` para mover el puntero de vuelta al principio.\n",
    "\n",
    ":::"
   ]
  },
  {
   "cell_type": "markdown",
   "id": "854eca94",
   "metadata": {},
   "source": [
    "### Escribir archivos\n",
    "\n",
    "Para escribir un archivo en Python, primero debemos abrirlo con la función `open()`, de la misma manera que al leer.\n",
    "Sin embargo, no podemos usar los argumentos por defecto, ya que en ese caso el archivo se abre en **modo lectura**, lo que impide escribir en él.\n",
    "\n",
    "Para poder escribir, el archivo debe abrirse en uno de los siguientes modos:\n",
    "\n",
    "* **Modo escritura (`\"w\"`)**: sobrescribe por completo el archivo existente, de forma similar a cuando asignamos un nuevo valor a una variable reemplazando el anterior.\n",
    "* **Modo adición (`\"a\"`)**: agrega nuevo contenido al final del archivo existente, sin borrar lo que ya contenía.\n",
    "\n",
    "Si el archivo indicado en **`open()`** no existe, tanto el modo escritura como el modo adición crearán un **archivo nuevo y vacío**.\n",
    "\n",
    "Debajo, abrimos un archivo llamado `conclusiones.txt` en **modo escritura**. Como el archivo todavía no existe, Python lo crea automáticamente. Luego, llamamos a **`write()`** sobre el archivo abierto y le pasamos la cadena `\"Escribir en Python no es tan grave como parece.\\n\"` y el texto se escribe dentro del archivo."
   ]
  },
  {
   "cell_type": "code",
   "execution_count": 4,
   "id": "78c699d2",
   "metadata": {
    "vscode": {
     "languageId": "python"
    }
   },
   "outputs": [
    {
     "data": {
      "text/plain": [
       "48"
      ]
     },
     "execution_count": null,
     "metadata": {},
     "output_type": "execute_result"
    }
   ],
   "source": [
    "archivo = open(\"conclusiones.txt\", mode=\"w\", encoding=\"utf-8\") # Este paso ya crea el archivo\n",
    "archivo.write(\"Escribir en Python no es tan grave como parece.\\n\")"
   ]
  },
  {
   "cell_type": "markdown",
   "id": "452593b4",
   "metadata": {
    "vscode": {
     "languageId": "python"
    }
   },
   "source": [
    "El método `.write()` devuelve el número de caracteres escritos, incluyendo el salto de línea `\\n`. Después, cerramos el archivo."
   ]
  },
  {
   "cell_type": "code",
   "execution_count": 5,
   "id": "703d52de",
   "metadata": {
    "vscode": {
     "languageId": "python"
    }
   },
   "outputs": [],
   "source": [
    "archivo.close()"
   ]
  },
  {
   "cell_type": "markdown",
   "id": "84ff54b6",
   "metadata": {},
   "source": [
    "Para **agregar texto sin reemplazar el contenido existente**, abrimos el archivo en **modo adición**.\n",
    "Escribimos la cadena `\"Es solo cuestión de practica.\"` y lo cerramos nuevamente."
   ]
  },
  {
   "cell_type": "code",
   "execution_count": 6,
   "id": "0cfc9163",
   "metadata": {
    "vscode": {
     "languageId": "python"
    }
   },
   "outputs": [],
   "source": [
    "archivo = open(\"conclusiones.txt\", mode=\"a\", encoding=\"utf-8\")\n",
    "archivo.write(\"Es solo cuestión de practica.\")\n",
    "archivo.close()"
   ]
  },
  {
   "cell_type": "markdown",
   "id": "99da7520",
   "metadata": {},
   "source": [
    "Finalmente, para mostrar en pantalla el contenido de `conclusiones.txt`, abrimos el archivo en modo lectura, cargamos su contenido con `.read()`, lo guardamos en la variable `texto`, cerramos el archivo y luego imprimimos `texto`."
   ]
  },
  {
   "cell_type": "code",
   "execution_count": 7,
   "id": "33808653",
   "metadata": {
    "vscode": {
     "languageId": "python"
    }
   },
   "outputs": [
    {
     "name": "stdout",
     "output_type": "stream",
     "text": [
      "Escribir en Python no es tan grave como parece.\n",
      "Es solo cuestión de practica.\n"
     ]
    }
   ],
   "source": [
    "archivo = open(\"conclusiones.txt\", mode=\"r\", encoding=\"utf-8\")\n",
    "texto = archivo.read()\n",
    "archivo.close()\n",
    "print(texto)"
   ]
  },
  {
   "cell_type": "markdown",
   "id": "534789c7",
   "metadata": {},
   "source": [
    "::: {.callout-note}\n",
    "##### Saltos de línea\n",
    "\n",
    "Es importante tener presente que el método `.write()` no agrega un salto de línea al final del texto de forma automática, a diferencia de `print()`.\n",
    "Si queremos que el contenido se escriba en una nueva línea dentro del archivo, debemos incluir manualmente el carácter `\\n`.\n",
    "\n",
    ":::"
   ]
  },
  {
   "cell_type": "markdown",
   "id": "3ac73eb0",
   "metadata": {},
   "source": [
    "### Uso de la sentencia `with` \n",
    "\n",
    "Cuando abrimos un archivo con `open()`, debemos cerrarlo después con `.close()`.\n",
    "El problema es que a veces podemos olvidarlo o que el programa falle antes de llegar a esa línea.\n",
    "\n",
    "Para evitarlo, Python ofrece la sentencia `with`, que se encarga de y cerrarlo automáticamente al terminar el bloque de código, incluso si ocurre un error en el medio.\n",
    "\n",
    "Debajo, utilizamos la sentencia `with` para crear un archivo y escribir texto en él."
   ]
  },
  {
   "cell_type": "code",
   "execution_count": 14,
   "metadata": {
    "vscode": {
     "languageId": "python"
    }
   },
   "outputs": [
    {
     "name": "stdout",
     "output_type": "stream",
     "text": [
      "True\n"
     ]
    }
   ],
   "source": [
    "with open(\"ejemplo.txt\", mode=\"w\", encoding=\"utf-8\") as archivo:\n",
    "    archivo.write(\"¡Hola, mundo!\\n\")\n",
    "\n",
    "print(archivo.closed) # Verificar que el archivo está cerrado"
   ]
  },
  {
   "cell_type": "markdown",
   "id": "2e5054be",
   "metadata": {},
   "source": [
    "Luego, podemos utilizar un patrón similar, pero pasando `mode=\"r\"`, para leer el contenido del archivo."
   ]
  },
  {
   "cell_type": "code",
   "execution_count": 16,
   "id": "8cba1f68",
   "metadata": {
    "vscode": {
     "languageId": "python"
    }
   },
   "outputs": [
    {
     "name": "stdout",
     "output_type": "stream",
     "text": [
      "¡Hola, mundo!\n",
      "\n",
      "True\n"
     ]
    }
   ],
   "source": [
    "with open(\"ejemplo.txt\", mode=\"r\", encoding=\"utf-8\") as archivo:\n",
    "    contenido = archivo.read()\n",
    "\n",
    "print(contenido)\n",
    "print(archivo.closed)"
   ]
  },
  {
   "cell_type": "markdown",
   "id": "236e3f49",
   "metadata": {},
   "source": [
    "::: {.callout-note}\n",
    "##### _Context managers_\n",
    "\n",
    "La sentencia `with` no es exclusiva para leer o escribir archivos: en realidad funciona con un objeto especial llamado **_context manager_**.\n",
    "\n",
    "Un _context manager_ se usa en Python para manejar recursos que necesitan ser **adquiridos y luego liberados** de forma segura, como archivos, conexiones de red o bloqueos de concurrencia.\n",
    "\n",
    "La clave es que `with` define un **bloque de código** dentro del cual el recurso está disponible. Al entrar en el bloque, el recurso se prepara (por ejemplo, se abre un archivo) y, al salir, se libera automáticamente, sin importar si la salida fue normal, si hubo un `return` o si se produjo una excepción.\n",
    "\n",
    "Esto permite que el código sea más claro y seguro, ya que todo el ciclo de vida del recurso queda encapsulado dentro de ese bloque.\n",
    "\n",
    ":::"
   ]
  },
  {
   "cell_type": "markdown",
   "id": "60347705",
   "metadata": {},
   "source": [
    "## Archivos y rutas"
   ]
  },
  {
   "cell_type": "markdown",
   "id": "8c4da671",
   "metadata": {},
   "source": [
    "### Cómo armar rutas con `pathlib.Path`"
   ]
  },
  {
   "cell_type": "markdown",
   "id": "ff128f8a",
   "metadata": {},
   "source": [
    "### Directorio de trabajo actual"
   ]
  },
  {
   "cell_type": "markdown",
   "id": "281a2f60",
   "metadata": {},
   "source": [
    "### Directorio personal (_home_)"
   ]
  },
  {
   "cell_type": "markdown",
   "id": "f280172f",
   "metadata": {},
   "source": [
    "### Rutas absolutas y relativas\n",
    "\n",
    "#### El método `.resolve()`\n",
    "\n",
    "#### Uso de `.` y `..`"
   ]
  },
  {
   "cell_type": "markdown",
   "id": "2f969726",
   "metadata": {},
   "source": [
    "### Crear de directorios"
   ]
  },
  {
   "cell_type": "markdown",
   "id": "65a7eaf1",
   "metadata": {},
   "source": [
    "### Verificar validez de rutas"
   ]
  },
  {
   "cell_type": "markdown",
   "id": "73f41f24",
   "metadata": {},
   "source": [
    "## Apéndice"
   ]
  },
  {
   "cell_type": "markdown",
   "id": "ec757ce3",
   "metadata": {},
   "source": [
    "### El arugmento `mode` de `open()`\n",
    "\n",
    "#### Caracteres válidos\n",
    "\n",
    "| Caracter | Significado                                                   |\n",
    "|----------|---------------------------------------------------------------|\n",
    "| `r`      | abrir para lectura (predeterminado)                           |\n",
    "| `w`      | abrir para escritura, truncando primero el archivo            |\n",
    "| `x`      | crear un archivo nuevo y abrirlo para escritura               |\n",
    "| `a`      | abrir para escritura, agregando al final del archivo si existe|\n",
    "| `b`      | modo binario                                                  |\n",
    "| `t`      | modo texto (predeterminado)                                   |\n",
    "| `+`      | abrir un archivo en disco para actualización (lectura y escritura) |\n",
    "\n",
    "#### Ejemplos\n",
    "\n",
    "\n",
    "| Modo  | Ejemplo                      | Descripción                                                                 |\n",
    "|-------|------------------------------|-----------------------------------------------------------------------------|\n",
    "| `r`   | `open(\"datos.txt\", \"r\")`     | Abre `datos.txt` para leer en modo texto.                                   |\n",
    "| `rb`  | `open(\"imagen.png\", \"rb\")`   | Abre `imagen.png` para leer en modo binario (útil para imágenes, PDFs, etc).|\n",
    "| `w`   | `open(\"salida.txt\", \"w\")`    | Abre `salida.txt` para escritura en texto, truncando el archivo si existe.  |\n",
    "| `wb`  | `open(\"audio.raw\", \"wb\")`    | Abre `audio.raw` para escritura en binario, truncando si existe.            |\n",
    "| `a`   | `open(\"log.txt\", \"a\")`       | Abre `log.txt` para añadir texto al final del archivo.                      |\n",
    "| `ab`  | `open(\"video.mp4\", \"ab\")`    | Abre `video.mp4` en binario para añadir datos al final.                     |\n",
    "| `x`   | `open(\"nuevo.txt\", \"x\")`     | Crea `nuevo.txt` y lo abre para escritura en texto. Falla si ya existe.     |\n",
    "| `xb`  | `open(\"nuevo.dat\", \"xb\")`    | Crea `nuevo.dat` y lo abre para escritura en binario. Falla si ya existe.   |\n",
    "| `r+`  | `open(\"datos.txt\", \"r+\")`    | Abre `datos.txt` para leer y escribir en texto.                             |\n",
    "| `rb+` | `open(\"imagen.png\", \"rb+\")`  | Abre `imagen.png` para leer y escribir en binario.                          |\n",
    "| `w+`  | `open(\"datos.txt\", \"w+\")`    | Abre `datos.txt` para leer y escribir en texto, truncando si existe.        |\n",
    "| `wb+` | `open(\"datos.bin\", \"wb+\")`   | Abre `datos.bin` para leer y escribir en binario, truncando si existe.      |\n",
    "\n",
    ": {tbl-colwidths=\"[5, 35, 60]\"}"
   ]
  }
 ],
 "metadata": {
  "language_info": {
   "name": "plaintext"
  }
 },
 "nbformat": 4,
 "nbformat_minor": 5
}
