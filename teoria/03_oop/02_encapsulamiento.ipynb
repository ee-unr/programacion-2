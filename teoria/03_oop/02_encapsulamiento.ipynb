{
 "cells": [
  {
   "cell_type": "markdown",
   "id": "1a3e084c",
   "metadata": {},
   "source": [
    "---\n",
    "title: \"2 - Encapsulamiento\"\n",
    "toc: true\n",
    "---"
   ]
  },
  {
   "cell_type": "markdown",
   "id": "7ba4af52",
   "metadata": {},
   "source": [
    "## Prefacio\n",
    "\n",
    "\n",
    "Los tres principios fundamentales de la programación orientada a objetos son la **encapsulación**, la **herencia** y el **polimorfismo**.\n",
    "\n",
    "A lo largo de los próximos apuntes vamos a explorar cada uno en detalle, entendiendo los conceptos que los sustentan y analizando ejemplos concretos de cómo se aplican en Python. En líneas generales, estos principios se pueden describir de la siguiente manera:\n",
    "\n",
    "* **Encapsulación:** consiste en reunir en un mismo lugar tanto los datos como las operaciones que actúan sobre ellos, ocultando los detalles internos y exponiendo únicamente la interfaz necesaria para interactuar con el objeto.\n",
    "* **Herencia:** permite crear nuevas clases a partir de otras ya existentes, reutilizando su comportamiento y ampliándolo o modificándolo según sea necesario.\n",
    "* **Polimorfismo:** hace posible que diferentes objetos de diferentes clases respondan de forma distinta a un mismo \"mensaje\" (por ejemplo, un método con el mismo nombre), adaptando el comportamiento a las particularidades de cada caso.\n"
   ]
  },
  {
   "cell_type": "markdown",
   "id": "0537e4a0",
   "metadata": {},
   "source": [
    "## Introducción\n",
    "\n",
    "Supongamos que nos encontramos manejando un auto por el centro rosarino y al llegar a la esquina vemos que por la calle perpendicular se aproxima otro vehículo que no aparenta intenciones de frenar.\n",
    "\n",
    "Todo indica que tendremos que detener el auto completamente.\n",
    "\n",
    "Instantáneamente, presionamos el embrague casi al mismo tiempo que el pedal de freno y colocamos la palanca de cambio en la posición de punto muerto. El auto responde de la manera que esperamos y se detiene.\n",
    "\n",
    "Una vez que el otro vehículo cruza, nos disponemos a continuar nuestra marcha.\n",
    "Como aún no soltamos el pie del embrague, movemos la palanca de cambios a la posición de primera,\n",
    "suavemente soltamos el embrague mientras comenzados a presionar el acelerador, y finalmente cruzamos.\n",
    "\n",
    "¿Y qué tiene que ver toda esta escena automovilística con el encapsulamiento? Más de lo que podríamos imaginar rápidamente.\n",
    "\n",
    "Para detener el auto, tuvimos que interactuar con los pedales y eventualmente con la palanca de cambios.\n",
    "Todo un esfuerzo, sí.\n",
    "\n",
    "Sin embargo, no necesitamos saber en realidad como funciona el proceso de frenado de un auto:\n",
    "desconocemos como funcionan los discos, la hidráulica y mucho menos podríamos describir como funciona una caja de cambios.\n",
    "Todos estos mecanismos internos permanecen ocultos dentro del sistema (el auto).\n",
    "Lo único visible es una interfaz sencilla que nos permite lograr nuestro objetivo sin necesidad de saber qué ocurre detrás.\n",
    "\n",
    "En programación ocurre lo mismo: la encapsulación consiste en mantener el estado interno y la lógica de un objeto fuera del alcance del exterior, exponiendo únicamente una forma clara y controlada de interactuar con él.\n",
    "De este modo, el código que interactua con el objeto no necesita conocer sus detalles internos y puede seguir funcionando incluso si estos cambian."
   ]
  },
  {
   "cell_type": "markdown",
   "id": "01da14a1",
   "metadata": {},
   "source": [
    "## Las múltiples caras del encapsulamiento\n",
    "\n",
    "En programación no existe una única manera de aplicar el encapsulamiento, es decir, de aislar y proteger los detalles internos de cómo algo funciona.\n",
    "A continuación, veremos cómo esta idea aparece y se utiliza en distintos niveles: funciones, objetos y clases."
   ]
  },
  {
   "cell_type": "markdown",
   "id": "42e09997",
   "metadata": {},
   "source": [
    "### Funciones\n",
    "\n",
    "Las funciones ofrecen un ejemplo clarísimo de encapsulación: para usarlas, no hace falta conocer como funcionan internamente.\n",
    "De hecho, una función bien diseñada se caracteriza por cumplir una única tarea y tener un nombre que la describa con claridad.\n",
    "De esta manera, con solo leer su nombre podemos anticipar qué hace, sin preocuparnos por los detalles de su implementación.\n",
    "\n",
    "Por ejemplo, consideremos la siguiente función que devuelve el número $n$-ésimo en la secuencia de Fibonacci:\n"
   ]
  },
  {
   "cell_type": "code",
   "execution_count": 6,
   "id": "05df4f09",
   "metadata": {},
   "outputs": [
    {
     "name": "stdout",
     "output_type": "stream",
     "text": [
      "55\n",
      "10946\n"
     ]
    }
   ],
   "source": [
    "def fibonacci(n):\n",
    "    if n <= 1:\n",
    "        return n\n",
    "    return fibonacci(n - 1) + fibonacci(n - 2)\n",
    "\n",
    "print(fibonacci(10))\n",
    "print(fibonacci(21))"
   ]
  },
  {
   "cell_type": "markdown",
   "id": "39220349",
   "metadata": {},
   "source": [
    "Si está clara la interfaz de la función (cantidad y tipos de entradas y salidas), no es necesario conocer detalles de la implementación, ni si el código es largo o complejo.\n",
    "Incluso si se encuentra un mejor algoritmo para resolver el mismo problema, la función puede reescribirse sin cambiar su uso externo, siempre que la interfaz no cambie.\n",
    "\n",
    "Esta modularización hace que el código sea más fácil de mantener y adaptar a futuros cambios."
   ]
  },
  {
   "cell_type": "markdown",
   "id": "2b68be62",
   "metadata": {},
   "source": [
    "### Objetos\n",
    "\n",
    "En la programación orientada a objetos hay una distinción clave entre el *interior* y el *exterior* de una clase u objeto.\n",
    "\n",
    "Desde el **interior**, al diseñar una clase o implementar sus métodos, debemos cuidar cómo interactúan con los atributos, la eficiencia de los algoritmos y el diseño de la interfaz. El objetivo es construir una estructura coherente y fácil de mantener.\n",
    "\n",
    "Desde el **exterior**, lo que importa no son los detalles internos sino la interfaz pública: qué hace cada método, qué argumentos necesita y qué valores devuelve. Mientras esa interfaz se mantenga, la clase puede usarse sin conocer su implementación.\n",
    "\n",
    "Las clases favorecen el encapsulamiento porque:\n",
    "\n",
    "* Definen una interfaz clara para usar sus métodos sin saber cómo funcionan por dentro.\n",
    "* Protegen el estado interno, evitando modificaciones directas desde fuera.\n",
    "\n",
    "Y, gracias a ello, permiten cambiar la implementación sin afectar el código que las utiliza.\n",
    "\n",
    "Ahora bien, ¿cómo es que las clases en Python definen una interfaz clara y protegen el estado interno?"
   ]
  },
  {
   "cell_type": "markdown",
   "id": "2e691b81",
   "metadata": {},
   "source": [
    "## Interfaz clara\n",
    "\n",
    "### _Docstrings_\n",
    "\n",
    "¿Cómo podemos saber cuántos argumentos debemos pasar y de qué tipo al inicializar una clase? ¿Y cómo saberlo al llamar a uno de sus métodos?\n",
    "\n",
    "Una primera opción sería leer directamente su implementación, pero eso es precisamente lo que queremos evitar.\n",
    "\n",
    "Una alternativa mucho mejor es consultar la documentación. Para ello, la clase y sus métodos deben contar con _docstrings_ adecuados que describan su uso.\n",
    "\n",
    "Veamos el siguiente ejemplo:"
   ]
  },
  {
   "cell_type": "code",
   "execution_count": 24,
   "id": "1ae9f93f",
   "metadata": {},
   "outputs": [],
   "source": [
    "class CuentaBancaria:\n",
    "    \"\"\"Cuenta bancaria simple con operaciones básicas.\n",
    "\n",
    "    Esta clase implementa un modelo básico de cuenta bancaria que permite\n",
    "    depositar y retirar dinero, así como consultar el saldo actual.\n",
    "    \"\"\"\n",
    "    def __init__(self, titular, saldo_inicial=0.0):\n",
    "        \"\"\"Inicializa una nueva cuenta bancaria.\n",
    "\n",
    "        Parameters\n",
    "        ----------\n",
    "        titular : str\n",
    "            Nombre del titular de la cuenta.\n",
    "        saldo_inicial : float, optional\n",
    "            Saldo inicial de la cuenta. Por defecto es 0.0.\n",
    "        \"\"\"\n",
    "        self.titular = titular\n",
    "        self.saldo = saldo_inicial\n",
    "\n",
    "    def depositar(self, monto):\n",
    "        \"\"\"Depositar dinero en la cuenta.\n",
    "\n",
    "        Parameters\n",
    "        ----------\n",
    "        monto : float\n",
    "            Monto a depositar. Debe ser un número positivo.\n",
    "        \"\"\"\n",
    "        if monto <= 0:\n",
    "            print(\"Error: El monto a depositar debe ser positivo.\")\n",
    "            return\n",
    "        self.saldo += monto\n",
    "\n",
    "\n",
    "    def retirar(self, monto):\n",
    "        \"\"\"Extrae dinero de la cuenta si hay fondos suficientes.\n",
    "\n",
    "        Parameters\n",
    "        ----------\n",
    "        monto : float\n",
    "            Monto a retirar.\n",
    "        \"\"\"\n",
    "        if monto > self.saldo:\n",
    "            print(\"Error: Fondos insuficientes.\")\n",
    "            return\n",
    "        self.saldo -= monto\n",
    "\n",
    "\n",
    "    def consultar_saldo(self):\n",
    "        \"\"\"Devuelve el saldo actual.\n",
    "\n",
    "        Returns\n",
    "        -------\n",
    "        float\n",
    "            Saldo disponible en la cuenta.\n",
    "        \"\"\"\n",
    "        return self.saldo"
   ]
  },
  {
   "cell_type": "code",
   "execution_count": 25,
   "id": "a3938832",
   "metadata": {},
   "outputs": [
    {
     "data": {
      "text/plain": [
       "12000"
      ]
     },
     "execution_count": null,
     "metadata": {},
     "output_type": "execute_result"
    }
   ],
   "source": [
    "cuenta = CuentaBancaria(titular=\"José Paso\", saldo_inicial=12000)\n",
    "cuenta.consultar_saldo()"
   ]
  },
  {
   "cell_type": "code",
   "execution_count": 26,
   "id": "03b03cb7",
   "metadata": {},
   "outputs": [
    {
     "data": {
      "text/plain": [
       "8200"
      ]
     },
     "execution_count": null,
     "metadata": {},
     "output_type": "execute_result"
    }
   ],
   "source": [
    "cuenta.retirar(3800)\n",
    "cuenta.consultar_saldo()"
   ]
  },
  {
   "cell_type": "code",
   "execution_count": 27,
   "id": "787344dd",
   "metadata": {},
   "outputs": [
    {
     "name": "stdout",
     "output_type": "stream",
     "text": [
      "Error: Fondos insuficientes.\n"
     ]
    },
    {
     "data": {
      "text/plain": [
       "9700"
      ]
     },
     "execution_count": null,
     "metadata": {},
     "output_type": "execute_result"
    }
   ],
   "source": [
    "cuenta.depositar(1500)\n",
    "cuenta.retirar(50000)\n",
    "cuenta.consultar_saldo()"
   ]
  },
  {
   "cell_type": "markdown",
   "id": "ae3df975",
   "metadata": {},
   "source": [
    "Para consultar la documentación, podemos usar la función `help` de Python.\n",
    "\n",
    "Si la ejecutamos en Positron, se abrirá una ventana a la derecha que muestra la información disponible.\n",
    "Si, en cambio, la usamos desde una terminal, obtendremos un resultado similar al siguiente:"
   ]
  },
  {
   "cell_type": "markdown",
   "id": "62aaeafd",
   "metadata": {},
   "source": [
    "Ayuda para toda clase:\n",
    "\n",
    "```python\n",
    "help(CuentaBancaria)\n",
    "```\n",
    "\n",
    "```cmd\n",
    "Help on class CuentaBancaria in module __main__:\n",
    "\n",
    "class CuentaBancaria(builtins.object)\n",
    " |  CuentaBancaria(titular, saldo_inicial=0.0)\n",
    " |\n",
    " |  Cuenta bancaria simple con operaciones básicas.\n",
    " |\n",
    " |  Esta clase implementa un modelo básico de cuenta bancaria que permite\n",
    " |  depositar y retirar dinero, así como consultar el saldo actual.\n",
    " |\n",
    " |  Methods defined here:\n",
    " |\n",
    " |  __init__(self, titular, saldo_inicial=0.0)\n",
    " |      Inicializa una nueva cuenta bancaria.\n",
    " |\n",
    " |      Parameters\n",
    " |      ----------\n",
    " |      titular : str\n",
    " |          Nombre del titular de la cuenta.\n",
    " |      saldo_inicial : float, optional\n",
    " |          Saldo inicial de la cuenta. Por defecto es 0.0.\n",
    "```"
   ]
  },
  {
   "cell_type": "markdown",
   "id": "09217df0",
   "metadata": {},
   "source": [
    "Ayuda para el método `depositar`, que recibe un flotante y no devuelve nada:\n",
    "\n",
    "```python\n",
    "help(CuentaBancaria.depositar)\n",
    "```\n",
    "\n",
    "```cmd\n",
    "Help on function depositar in module __main__:\n",
    "\n",
    "depositar(self, monto)\n",
    "    Depositar dinero en la cuenta.\n",
    "\n",
    "    Parameters\n",
    "    ----------\n",
    "    monto : float\n",
    "        Monto a depositar. Debe ser un número positivo.\n",
    "```"
   ]
  },
  {
   "cell_type": "markdown",
   "id": "5dd555af",
   "metadata": {},
   "source": [
    "Ayuda para el método `consultar_saldo`, que no recibe ningún parametro y devuelve un flotante:\n",
    "\n",
    "```python\n",
    "help(CuentaBancaria.consultar_saldo)\n",
    "```\n",
    "\n",
    "```cmd\n",
    "Help on function consultar_saldo in module __main__:\n",
    "\n",
    "consultar_saldo(self)\n",
    "    Devuelve el saldo actual.\n",
    "\n",
    "    Returns\n",
    "    -------\n",
    "    float\n",
    "        Saldo disponible en la cuenta.\n",
    "```"
   ]
  },
  {
   "cell_type": "markdown",
   "id": "3e368f15",
   "metadata": {},
   "source": [
    "Si bien en algunos casos puede resultar necesario consultar la ayuda con la función `help`, los editores de código suelen mostrar automáticamente una pequeña ventana junto al código mientras escribimos, \n",
    "donde aparece la documentación de clases, métodos y funciones."
   ]
  },
  {
   "cell_type": "markdown",
   "id": "59254bcf",
   "metadata": {},
   "source": [
    "### Anotaciones de tipo\n",
    "\n",
    "Si bien Python es un lenguaje de **tipado dinámico e implícito** —es decir, no es necesario especificar el tipo de las variables y este puede cambiar durante la ejecución—,\n",
    "es posible utilizar **anotaciones de tipo** (del inglés _type annotations_) para indicar qué tipo de dato se espera. Estas anotaciones son opcionales, pero ayudan a que el código sea más claro, fácil de entender y detectar errores antes de ejecutar el programa.\n",
    "\n",
    "Para los parámetros de una función o método, las anotaciones de tipo se escriben con el formato `<nombre_variable>: <tipo>`.\n",
    "En el caso la salida, el tipo se indica después de una flecha (`-> <tipo>`) al final de la definición.\n",
    "\n",
    "Por ejemplo, en la siguiente función se especifica que el parámetro `nombre` debe ser de tipo `str` y que la función devuelve también un objeto de tipo `str`:"
   ]
  },
  {
   "cell_type": "code",
   "execution_count": 16,
   "id": "08350aa7",
   "metadata": {},
   "outputs": [
    {
     "data": {
      "text/plain": [
       "'¡Hola, Guido!'"
      ]
     },
     "execution_count": null,
     "metadata": {},
     "output_type": "execute_result"
    }
   ],
   "source": [
    "def saludar(nombre: str) -> str:\n",
    "    return f\"¡Hola, {nombre}!\"\n",
    "\n",
    "saludar(\"Guido\")"
   ]
  },
  {
   "cell_type": "markdown",
   "id": "16154dda",
   "metadata": {},
   "source": [
    "En nuestra clase `CuentaBancaria`, la anotación de tipos se ve de la siguiente manera:"
   ]
  },
  {
   "cell_type": "code",
   "execution_count": 30,
   "id": "e1e4283d",
   "metadata": {},
   "outputs": [],
   "source": [
    "class CuentaBancaria:\n",
    "    def __init__(self, titular: str, saldo_inicial: float = 0.0): # <1>\n",
    "        self.titular = titular\n",
    "        self.saldo = saldo_inicial\n",
    "\n",
    "    def depositar(self, monto: float): # <2>\n",
    "        self.saldo += monto\n",
    "\n",
    "    def retirar(self, monto: float): # <3>\n",
    "        self.saldo -= monto\n",
    "\n",
    "    def consultar_saldo(self) -> float: # <4>\n",
    "        return self.saldo"
   ]
  },
  {
   "cell_type": "markdown",
   "id": "34f639aa",
   "metadata": {},
   "source": [
    "1. Para inicializar la clase, se espera un argumento `titular` de tipo `str` y otro `saldo_inicial` de tipo `float`.\n",
    "2. El método `depositar` espera recibir un argumento de tipo `float`.\n",
    "3. El método `retirar` también espera recibir un argumento de tipo `float`.\n",
    "4. Por último, `consultar_saldo` devuelve un valor de tipo `float`."
   ]
  },
  {
   "cell_type": "markdown",
   "id": "5aec268e",
   "metadata": {},
   "source": [
    "Si se eligen nombres representativos para los métodos y se utilizan anotaciones de tipo en sus parámetros,\n",
    "es muy probable que no sea necesario escribir un *docstring* para que el usuario comprenda cómo funciona la clase.\n",
    "\n",
    "Sin embargo, ni la documentación mediante *docstrings* ni el uso de anotaciones de tipo garantizan que una función o método se utilice con los tipos de datos adecuados.\n",
    "Por ejemplo, podríamos pasarle un número a nuestra función `saludar` sin que Python lo impida:"
   ]
  },
  {
   "cell_type": "code",
   "execution_count": 31,
   "id": "5f2cacf0",
   "metadata": {},
   "outputs": [
    {
     "data": {
      "text/plain": [
       "'¡Hola, 128!'"
      ]
     },
     "execution_count": null,
     "metadata": {},
     "output_type": "execute_result"
    }
   ],
   "source": [
    "saludar(128)"
   ]
  },
  {
   "cell_type": "markdown",
   "id": "b1ee2a7a",
   "metadata": {},
   "source": [
    "O incluso podríamos inicializar el `saldo_inicial` de la cuenta bancaria con una lista y luego intentar \"depositar\" otra lista."
   ]
  },
  {
   "cell_type": "code",
   "execution_count": 32,
   "id": "af4fb78d",
   "metadata": {},
   "outputs": [
    {
     "data": {
      "text/plain": [
       "['Cosas']"
      ]
     },
     "execution_count": null,
     "metadata": {},
     "output_type": "execute_result"
    }
   ],
   "source": [
    "cuenta = CuentaBancaria(25, saldo_inicial=[\"Cosas\"])\n",
    "cuenta.consultar_saldo()"
   ]
  },
  {
   "cell_type": "code",
   "execution_count": 33,
   "id": "252c4047",
   "metadata": {},
   "outputs": [
    {
     "data": {
      "text/plain": [
       "['Cosas', 'Otras cosas', 'Aún más cosas']"
      ]
     },
     "execution_count": null,
     "metadata": {},
     "output_type": "execute_result"
    }
   ],
   "source": [
    "cuenta.depositar([\"Otras cosas\", \"Aún más cosas\"])\n",
    "cuenta.consultar_saldo()"
   ]
  },
  {
   "cell_type": "markdown",
   "id": "cc642dd1",
   "metadata": {},
   "source": [
    "En resumen, si bien Python nos permite especificar la interfaz de funciones y métodos mediante *docstrings* y anotaciones de tipo, al ser un lenguaje de **tipado dinámico** nada impide que se utilicen con tipos de datos para los que no fueron diseñados. En algunos casos esto puede resultar en comportamientos inesperados y, en otros, simplemente generar un error en tiempo de ejecución."
   ]
  },
  {
   "cell_type": "markdown",
   "id": "a2d0c312",
   "metadata": {},
   "source": [
    "::: {.callout-note}\n",
    "#### _Duck typing_ 🦆\n",
    "\n",
    "\n",
    "En lenguajes dinámicos como Python, muchas veces no importa de qué tipo es un objeto, sino qué puede hacer.\n",
    "Lo relevante no es su clase, sino si se comporta como necesitamos.\n",
    "\n",
    "Por ejemplo, en una función como `saludar`, el parámetro no tiene que ser necesariamente un `str`, siempre que pueda usarse dentro de una *f-string*.\n",
    "\n",
    "Este enfoque, donde importa más el comportamiento que el tipo, se llama _duck typing_ y suele expresarse así:\n",
    "\n",
    "> Si camina como un pato y hace *cuac* como un pato, entonces probablemente es un pato.\n",
    "\n",
    ":::"
   ]
  },
  {
   "cell_type": "markdown",
   "id": "7c69d190",
   "metadata": {},
   "source": [
    "## Estado interno\n",
    "\n",
    "Ahora que sabemos qué estrategias podemos usar para que la interfaz de una clase sea clara, veamos cómo las clases definen y protegen su estado interno.\n",
    "\n",
    "Consideremos a la siguiente clase que sirve para representar a estudiantes de la Facultad de Ciencias Económicas y Estadística de la UNR."
   ]
  },
  {
   "cell_type": "code",
   "execution_count": 35,
   "id": "f6bd02b7",
   "metadata": {},
   "outputs": [],
   "source": [
    "class Estudiante:\n",
    "    def __init__(self, nombre, ingreso, carrera):\n",
    "        self.nombre = nombre\n",
    "        self.ingreso = ingreso\n",
    "        self.carrera = carrera\n",
    "\n",
    "    def resumen(self):\n",
    "        return f\"Estudiante(nombre={self.nombre}, ingreso={self.ingreso}, carrera={self.carrera})\""
   ]
  },
  {
   "cell_type": "markdown",
   "id": "0271d5b1",
   "metadata": {},
   "source": [
    "Cada objeto mantiene sus propias variables de instancia, como `nombre`, `ingreso` y `carrera`, con valores independientes de los de otros objetos de la misma clase.\n",
    "Esto implica que modificar los datos de una instancia no afecta en absoluto a las demás: cada objeto gestiona y conserva su propio estado interno, es decir, los objetos son dueños de sus variables."
   ]
  },
  {
   "cell_type": "code",
   "execution_count": 36,
   "id": "e51d07c3",
   "metadata": {},
   "outputs": [],
   "source": [
    "e1 = Estudiante(\"Mariano González\", 2022, \"Contador Público\")\n",
    "e2 = Estudiante(\"Leticia Gallardo\", 2023, \"Licenciatura en Estadística\")"
   ]
  },
  {
   "cell_type": "markdown",
   "id": "dace83b8",
   "metadata": {},
   "source": [
    "Gracias al  método `resumen`, podemos obtener una representación clara e intuitiva de cada objeto."
   ]
  },
  {
   "cell_type": "code",
   "execution_count": 40,
   "id": "581b4f3d",
   "metadata": {},
   "outputs": [
    {
     "data": {
      "text/plain": [
       "'Estudiante(nombre=Mariano González, ingreso=2022, carrera=Contador Público)'"
      ]
     },
     "execution_count": null,
     "metadata": {},
     "output_type": "execute_result"
    }
   ],
   "source": [
    "e1.resumen()"
   ]
  },
  {
   "cell_type": "markdown",
   "id": "67653fb3",
   "metadata": {},
   "source": [
    "Aunque también es posible interactuar con los atributos de cada instancia de manera individual."
   ]
  },
  {
   "cell_type": "code",
   "execution_count": 39,
   "id": "d4ea5f10",
   "metadata": {},
   "outputs": [
    {
     "name": "stdout",
     "output_type": "stream",
     "text": [
      "Mariano González: Contador Público\n",
      "Leticia Gallardo: Licenciatura en Estadística\n"
     ]
    }
   ],
   "source": [
    "print(e1.nombre, e1.carrera, sep=\": \")\n",
    "print(e2.nombre, e2.carrera, sep=\": \")"
   ]
  },
  {
   "cell_type": "markdown",
   "id": "b5d2bb8e",
   "metadata": {},
   "source": [
    "Esta interacción no solo implica que podemos acceder a los valores individuales de los atributos, sino también que tenemos la posibilidad de modificarlos.\n"
   ]
  },
  {
   "cell_type": "code",
   "execution_count": null,
   "id": "8f148df9",
   "metadata": {},
   "outputs": [
    {
     "data": {
      "text/plain": [
       "'Estudiante(nombre=Mariano González, ingreso=2019, carrera=Contador Público)'"
      ]
     },
     "execution_count": null,
     "metadata": {},
     "output_type": "execute_result"
    }
   ],
   "source": [
    "e1.ingreso = 2019\n",
    "e1.resumen()"
   ]
  },
  {
   "cell_type": "markdown",
   "id": "e1210fb8",
   "metadata": {},
   "source": [
    "Tenemos tanta flexibilidad al modificar los atributos de una instancia que incluso podemos asignarles valores que no tienen sentido dentro del contexto de la clase."
   ]
  },
  {
   "cell_type": "code",
   "execution_count": 44,
   "id": "104f4eae",
   "metadata": {},
   "outputs": [
    {
     "data": {
      "text/plain": [
       "'Estudiante(nombre=Mariano González, ingreso=Cualquier cosa, carrera=Contador Público)'"
      ]
     },
     "execution_count": null,
     "metadata": {},
     "output_type": "execute_result"
    }
   ],
   "source": [
    "e1.ingreso = \"Cualquier cosa\"\n",
    "e1.resumen()"
   ]
  },
  {
   "cell_type": "markdown",
   "id": "5638dc90",
   "metadata": {},
   "source": [
    "### *Setters* y *getters*\n",
    "\n",
    "En programación orientada a objetos, los *getters* y *setters* son métodos especiales que permiten **acceder** y **modificar** el estado interno de un objeto de forma segura y controlada.\n",
    "Su objetivo principal es proteger los atributos, evitando que se acceda o se cambien directamente desde el exterior de la clase.\n",
    "\n",
    "En particular:\n",
    "\n",
    "* *getter*: método que obtiene o devuelve el valor de un atributo de un objeto.\n",
    "* *setter*: método que asigna o actualiza el valor de un atributo de un objeto.\n",
    "\n",
    "Nuestra clase `Estudiante`, incorporando ahora estos métodos para acceder y modificar sus atributos, se vería de la siguiente manera:"
   ]
  },
  {
   "cell_type": "code",
   "execution_count": 46,
   "id": "95dad2aa",
   "metadata": {},
   "outputs": [],
   "source": [
    "class Estudiante:\n",
    "    def __init__(self, nombre):\n",
    "        self.setNombre(nombre)   # <1>\n",
    "\n",
    "    def setNombre(self, nombre): # <2>\n",
    "        if isinstance(nombre, str):\n",
    "            self.nombre = nombre\n",
    "        else:\n",
    "            print(\"El nombre debe ser de tipo 'str'\")\n",
    "\n",
    "    def getNombre(self): # <3>\n",
    "        return self.nombre\n",
    "\n",
    "    def resumen(self):\n",
    "        return f\"Estudiante(nombre={self.getNombre()})\""
   ]
  },
  {
   "cell_type": "markdown",
   "id": "d7f6638f",
   "metadata": {},
   "source": [
    "1. El método de inicialización no asigna el atributo directamente, sino que delega la tarea en el *setter*.\n",
    "2. El *setter* recibe un valor, verifica su tipo y, si es el esperado, lo asigna como atributo de instancia.\n",
    "3. El *getter* simplemente devuelve el valor del atributo, proporcionando un punto de acceso controlado al estado interno.\n",
    "\n",
    "Creemos un nuevo objeto de tipo `Estudiante`."
   ]
  },
  {
   "cell_type": "code",
   "execution_count": 47,
   "id": "1207e67f",
   "metadata": {},
   "outputs": [
    {
     "data": {
      "text/plain": [
       "'Estudiante(nombre=Macarena Gianetti)'"
      ]
     },
     "execution_count": null,
     "metadata": {},
     "output_type": "execute_result"
    }
   ],
   "source": [
    "e = Estudiante(\"Macarena Gianetti\")\n",
    "e.resumen()"
   ]
  },
  {
   "cell_type": "markdown",
   "id": "0142bd56",
   "metadata": {},
   "source": [
    "Luego, obtenemos el nombre de la estudiante mediante su _getter_."
   ]
  },
  {
   "cell_type": "code",
   "execution_count": 48,
   "id": "e0a85d6a",
   "metadata": {},
   "outputs": [
    {
     "data": {
      "text/plain": [
       "'Macarena Gianetti'"
      ]
     },
     "execution_count": null,
     "metadata": {},
     "output_type": "execute_result"
    }
   ],
   "source": [
    "e.getNombre()"
   ]
  },
  {
   "cell_type": "markdown",
   "id": "cc6ce226",
   "metadata": {},
   "source": [
    "Si queremos modificarlo, no asignamos el valor directamente a una variable del objeto, sino que llamamos a su método *setter*.\n",
    "Este método se encarga de validar el dato y evitar que se asignen valores de tipos no permitidos."
   ]
  },
  {
   "cell_type": "code",
   "execution_count": 49,
   "id": "3628b938",
   "metadata": {},
   "outputs": [
    {
     "name": "stdout",
     "output_type": "stream",
     "text": [
      "El nombre debe ser de tipo 'str'\n"
     ]
    }
   ],
   "source": [
    "e.setNombre(189)"
   ]
  },
  {
   "cell_type": "code",
   "execution_count": 10,
   "id": "498a24cc",
   "metadata": {},
   "outputs": [
    {
     "data": {
      "text/plain": [
       "'Estudiante(nombre=Macarena Gianetti)'"
      ]
     },
     "execution_count": null,
     "metadata": {},
     "output_type": "execute_result"
    }
   ],
   "source": [
    "e.resumen()"
   ]
  },
  {
   "cell_type": "markdown",
   "id": "7e88c0b9",
   "metadata": {},
   "source": [
    "Sin embargo, Python no impide que, como usuarios, accedamos y modifiquemos directamente los atributos del objeto.\n",
    "Por ejemplo, podemos asignar un valor de cualquier tipo directamente a la variable `nombre`:"
   ]
  },
  {
   "cell_type": "code",
   "execution_count": 50,
   "id": "cd2eb812",
   "metadata": {},
   "outputs": [
    {
     "data": {
      "text/plain": [
       "'Estudiante(nombre=2)'"
      ]
     },
     "execution_count": null,
     "metadata": {},
     "output_type": "execute_result"
    }
   ],
   "source": [
    "e.nombre = 2\n",
    "e.resumen()"
   ]
  },
  {
   "cell_type": "markdown",
   "id": "c0393693",
   "metadata": {},
   "source": [
    "En ese caso, las ventajas de usar _setter_ y _getter_ dejan de tener efecto si el usuario decide \"romper\" el objeto ignorando su interfaz."
   ]
  },
  {
   "cell_type": "markdown",
   "id": "ae570027",
   "metadata": {},
   "source": [
    "### Atributos privados (en apariencia)\n",
    "\n",
    "En muchos lenguajes de programación existe una distinción clara entre atributos **públicos** y **privados**.\n",
    "Los públicos pueden ser accedidos tanto desde dentro como desde fuera de la clase, mientras que los privados solo pueden usarse internamente.\n",
    "Es decir, un método de la clase puede acceder a un atributo o método privado, pero el código externo que usa la clase no.\n",
    "\n",
    "En **Python** no existe una separación estricta entre atributos públicos y privados: **todos son técnicamente públicos**.\n",
    "Sin embargo, por **convención**, si el nombre de un atributo o método comienza con un guion bajo (`_`), esto indica que **no debería ser accedido ni modificado desde el exterior** de la clase.\n",
    "\n",
    "Siguiendo esta convención, en nuestro ejemplo con la clase `Estudiante` podemos usar un atributo llamado `_nombre` para almacenar el nombre del estudiante."
   ]
  },
  {
   "cell_type": "code",
   "execution_count": null,
   "id": "c67da006",
   "metadata": {},
   "outputs": [],
   "source": [
    "class Estudiante:\n",
    "    def __init__(self, nombre):\n",
    "        self.setNombre(nombre)\n",
    "\n",
    "    def setNombre(self, nombre):\n",
    "        if isinstance(nombre, str):\n",
    "            self._nombre = nombre  # <1>\n",
    "        else:\n",
    "            print(\"El nombre debe ser de tipo 'str'\")\n",
    "\n",
    "    def getNombre(self):\n",
    "        return self._nombre # <2>\n",
    "\n",
    "    def resumen(self):\n",
    "        return f\"Estudiante(nombre={self.getNombre()})\"\n",
    "\n"
   ]
  },
  {
   "cell_type": "markdown",
   "id": "4459363a",
   "metadata": {},
   "source": [
    "1. Se guarda el nombre en una variable \"privada\" `_nombre`.\n",
    "2. Se devuelve el nombre usando la variable \"privada\" `_nombre`."
   ]
  },
  {
   "cell_type": "code",
   "execution_count": 52,
   "id": "76177d00",
   "metadata": {},
   "outputs": [
    {
     "data": {
      "text/plain": [
       "'Estudiante(nombre=Macarena Gianetti)'"
      ]
     },
     "execution_count": null,
     "metadata": {},
     "output_type": "execute_result"
    }
   ],
   "source": [
    "e = Estudiante(\"Macarena Gianetti\")\n",
    "e.resumen()"
   ]
  },
  {
   "cell_type": "markdown",
   "id": "84d25220",
   "metadata": {},
   "source": [
    "Si asignamos un nuevo valor a la variable `nombre` de la instancia, no ocurre ningún efecto indeseado.\n",
    "El objeto crea y almacena esa nueva variable, pero el método *getter* no la utiliza, ya que sigue accediendo al atributo `_nombre`."
   ]
  },
  {
   "cell_type": "code",
   "execution_count": 53,
   "id": "0e0a063e",
   "metadata": {},
   "outputs": [
    {
     "data": {
      "text/plain": [
       "'Estudiante(nombre=Macarena Gianetti)'"
      ]
     },
     "execution_count": null,
     "metadata": {},
     "output_type": "execute_result"
    }
   ],
   "source": [
    "e.nombre = \"Algo nuevo\"\n",
    "e.resumen()"
   ]
  },
  {
   "cell_type": "code",
   "execution_count": 21,
   "id": "18cea076",
   "metadata": {},
   "outputs": [
    {
     "data": {
      "text/plain": [
       "'Estudiante(nombre=¡Ahora sí!)'"
      ]
     },
     "execution_count": null,
     "metadata": {},
     "output_type": "execute_result"
    }
   ],
   "source": [
    "e._nombre = \"¡Ahora sí!\"\n",
    "e.resumen()"
   ]
  },
  {
   "cell_type": "markdown",
   "id": "f3156870",
   "metadata": {},
   "source": [
    "### Atributos privados (\"en serio\")"
   ]
  },
  {
   "cell_type": "code",
   "execution_count": 22,
   "id": "87a193c2",
   "metadata": {},
   "outputs": [],
   "source": [
    "class Estudiante:\n",
    "    def __init__(self, nombre):\n",
    "        self.setNombre(nombre)\n",
    "\n",
    "    def setNombre(self, nombre):\n",
    "        if isinstance(nombre, str):\n",
    "            self.__nombre = nombre\n",
    "        else:\n",
    "            print(\"El nombre debe ser de tipo 'str'\")\n",
    "\n",
    "    def getNombre(self):\n",
    "        return self.__nombre\n",
    "\n",
    "    def resumen(self):\n",
    "        return f\"Estudiante(nombre={self.getNombre()})\""
   ]
  },
  {
   "cell_type": "code",
   "execution_count": 23,
   "id": "7c4e8231",
   "metadata": {},
   "outputs": [
    {
     "data": {
      "text/plain": [
       "'Estudiante(nombre=Macarena Gianetti)'"
      ]
     },
     "execution_count": null,
     "metadata": {},
     "output_type": "execute_result"
    }
   ],
   "source": [
    "e = Estudiante(\"Macarena Gianetti\")\n",
    "e.resumen()"
   ]
  },
  {
   "cell_type": "code",
   "execution_count": 24,
   "id": "89eb72d4",
   "metadata": {},
   "outputs": [
    {
     "ename": "AttributeError",
     "evalue": "'Estudiante' object has no attribute '__nombre'",
     "output_type": "error",
     "traceback": [
      "\u001b[0;31m---------------------------------------------------------------------------\u001b[0m\n",
      "\u001b[0;31mAttributeError\u001b[0m                            Traceback (most recent call last)\n",
      "Cell \u001b[0;32mIn[24], line 1\u001b[0m\n",
      "\u001b[0;32m----> 1\u001b[0m \u001b[43me\u001b[49m\u001b[38;5;241;43m.\u001b[39;49m\u001b[43m__nombre\u001b[49m\n",
      "\n",
      "\u001b[0;31mAttributeError\u001b[0m: 'Estudiante' object has no attribute '__nombre'"
     ]
    }
   ],
   "source": [
    "e.__nombre"
   ]
  },
  {
   "cell_type": "code",
   "execution_count": 25,
   "id": "4a7de56a",
   "metadata": {},
   "outputs": [],
   "source": [
    "e.__nombre = \"¿Y ahora?\""
   ]
  },
  {
   "cell_type": "code",
   "execution_count": 26,
   "id": "6a022edd",
   "metadata": {},
   "outputs": [
    {
     "data": {
      "text/plain": [
       "'Macarena Gianetti'"
      ]
     },
     "execution_count": null,
     "metadata": {},
     "output_type": "execute_result"
    }
   ],
   "source": [
    "e.getNombre()"
   ]
  },
  {
   "cell_type": "markdown",
   "id": "cd2f3532",
   "metadata": {},
   "source": [
    "::: {.callout-note}\n",
    "\n",
    "- Algun comentario de que `_` y `__` valen también para métodos, y de hecho se suelen usar.\n",
    "\n",
    ":::"
   ]
  },
  {
   "cell_type": "markdown",
   "id": "2f719776",
   "metadata": {},
   "source": [
    "### Emulando atributos con `@property`"
   ]
  },
  {
   "cell_type": "markdown",
   "id": "3906fd6d",
   "metadata": {},
   "source": [
    "* property:  An attribute of a class that appears to client code to be an instance variable, but instead causes a method to be called when it is accessed."
   ]
  },
  {
   "cell_type": "markdown",
   "id": "2e0d0b50",
   "metadata": {},
   "source": [
    "* `property` permite a quienes desarrollan clases usar **indirección**, como un mago usa la distracción: el código parece hacer una cosa mientras en realidad hace otra.\n",
    "* Con los decoradores `property`, se definen métodos especiales llamados *getter* y *setter*.\n",
    "* El *getter* se marca con `@property` y su nombre define el nombre de la propiedad que usará el código externo.\n",
    "* El *setter* se marca con `@<nombre>.setter` y permite asignar valores a esa propiedad.\n",
    "* Gracias a esto, el uso desde fuera parece un simple acceso o asignación de atributos, aunque internamente se ejecute lógica más compleja.\n"
   ]
  },
  {
   "cell_type": "code",
   "execution_count": 27,
   "id": "302fa951",
   "metadata": {},
   "outputs": [],
   "source": [
    "class Estudiante:\n",
    "    def __init__(self, nombre):\n",
    "        self.nombre = nombre\n",
    "\n",
    "    @property\n",
    "    def nombre(self):\n",
    "        return self._nombre\n",
    "\n",
    "    @nombre.setter\n",
    "    def nombre(self, valor):\n",
    "        if isinstance(valor, str):\n",
    "            self._nombre = valor\n",
    "        else:\n",
    "            print(\"El nombre debe ser de tipo 'str'\")\n",
    "\n",
    "    def resumen(self):\n",
    "        return f\"Estudiante(nombre={self.nombre})\""
   ]
  },
  {
   "cell_type": "code",
   "execution_count": 28,
   "id": "cd4d9065",
   "metadata": {},
   "outputs": [
    {
     "data": {
      "text/plain": [
       "'Estudiante(nombre=Fernanda Cattalini)'"
      ]
     },
     "execution_count": null,
     "metadata": {},
     "output_type": "execute_result"
    }
   ],
   "source": [
    "e = Estudiante(\"Fernanda Cattalini\")\n",
    "e.resumen()"
   ]
  },
  {
   "cell_type": "code",
   "execution_count": 29,
   "id": "10aa34ea",
   "metadata": {},
   "outputs": [
    {
     "data": {
      "text/plain": [
       "'Fernanda Cattalini'"
      ]
     },
     "execution_count": null,
     "metadata": {},
     "output_type": "execute_result"
    }
   ],
   "source": [
    "e.nombre"
   ]
  },
  {
   "cell_type": "code",
   "execution_count": 30,
   "id": "539db966",
   "metadata": {},
   "outputs": [
    {
     "name": "stdout",
     "output_type": "stream",
     "text": [
      "El nombre debe ser de tipo 'str'\n"
     ]
    }
   ],
   "source": [
    "e.nombre = True"
   ]
  },
  {
   "cell_type": "code",
   "execution_count": 32,
   "id": "d29b1a2b",
   "metadata": {},
   "outputs": [
    {
     "data": {
      "text/plain": [
       "'Estudiante(nombre=María Fernanda Cattalini)'"
      ]
     },
     "execution_count": null,
     "metadata": {},
     "output_type": "execute_result"
    }
   ],
   "source": [
    "e.nombre = \"María Fernanda Cattalini\"\n",
    "e.resumen()"
   ]
  },
  {
   "cell_type": "markdown",
   "id": "413b6967",
   "metadata": {},
   "source": []
  },
  {
   "cell_type": "markdown",
   "id": "d4262c66",
   "metadata": {},
   "source": [
    "## Atributos y métodos de clases\n",
    "\n",
    "Las clases también permiten encapsular información y estado.\n",
    "\n",
    "* Atributos de clase.\n",
    "* Métodos de clase.\n",
    "\n",
    "Un atributo de clase es un atributo que en vez de estar asociado a una instancia en particular, está asociado a una clase.\n",
    "\n",
    "Por otro lado, un método de clase es un método asociado a una clase (¡como todos los métodos!), pero que en vez de recibir a la instancia como primer objeto, recibe a la clase."
   ]
  },
  {
   "cell_type": "code",
   "execution_count": 33,
   "id": "25e6815f",
   "metadata": {},
   "outputs": [],
   "source": [
    "class Gato:\n",
    "    especie = \"Felis catus\"\n",
    "    def __init__(self, nombre, raza=None):\n",
    "        self.nombre = nombre\n",
    "        self.raza = raza\n",
    "\n",
    "    def resumen(self):\n",
    "        return f\"Gato(nombre={self.nombre}, raza={self.raza})\"\n",
    "\n",
    "\n",
    "class Perro:\n",
    "    especie = \"Canis lupus familiaris\"\n",
    "\n",
    "    def __init__(self, nombre, raza=None):\n",
    "        self.nombre = nombre\n",
    "        self.raza = raza\n",
    "\n",
    "    def resumen(self):\n",
    "        return f\"Perro(nombre={self.nombre}, raza={self.raza})\""
   ]
  },
  {
   "cell_type": "code",
   "execution_count": 35,
   "id": "23373fea",
   "metadata": {},
   "outputs": [
    {
     "name": "stdout",
     "output_type": "stream",
     "text": [
      "Gato(nombre=Chispitas, raza=None)\n",
      "Gato(nombre=Bigotes, raza=Siamés)\n"
     ]
    }
   ],
   "source": [
    "g1 = Gato(\"Chispitas\")\n",
    "g2 = Gato(\"Bigotes\", \"Siamés\")\n",
    "print(g1.resumen())\n",
    "print(g2.resumen())"
   ]
  },
  {
   "cell_type": "code",
   "execution_count": 37,
   "id": "2b898a99",
   "metadata": {},
   "outputs": [
    {
     "data": {
      "text/plain": [
       "('Felis catus', 'Felis catus', True)"
      ]
     },
     "execution_count": null,
     "metadata": {},
     "output_type": "execute_result"
    }
   ],
   "source": [
    "g1.especie, g2.especie, g1.especie == g2.especie"
   ]
  },
  {
   "cell_type": "code",
   "execution_count": 38,
   "id": "78940cd3",
   "metadata": {},
   "outputs": [
    {
     "name": "stdout",
     "output_type": "stream",
     "text": [
      "Perro(nombre=Bruno, raza=None)\n",
      "Canis lupus familiaris\n"
     ]
    }
   ],
   "source": [
    "perro = Perro(\"Bruno\")\n",
    "print(perro.resumen())\n",
    "print(perro.especie)"
   ]
  },
  {
   "cell_type": "code",
   "execution_count": 124,
   "id": "c2fd73f8",
   "metadata": {},
   "outputs": [
    {
     "name": "stdout",
     "output_type": "stream",
     "text": [
      "2\n"
     ]
    }
   ],
   "source": [
    "class Usuario:\n",
    "    total_usuarios = 0  # atributo de clase\n",
    "\n",
    "    def __init__(self, nombre):\n",
    "        self.nombre = nombre\n",
    "        Usuario.total_usuarios += 1\n",
    "\n",
    "# Todas las instancias comparten el mismo atributo\n",
    "u1 = Usuario(\"Ana\")\n",
    "u2 = Usuario(\"Luis\")\n",
    "\n",
    "print(Usuario.total_usuarios)  # 2"
   ]
  },
  {
   "cell_type": "markdown",
   "id": "bba7a9d9",
   "metadata": {},
   "source": [
    "Para métodos de clase"
   ]
  },
  {
   "cell_type": "code",
   "execution_count": 40,
   "id": "a1ac15aa",
   "metadata": {},
   "outputs": [
    {
     "data": {
      "text/plain": [
       "'Estudiante(nombre=El Nombre, ingreso=2023)'"
      ]
     },
     "execution_count": null,
     "metadata": {},
     "output_type": "execute_result"
    }
   ],
   "source": [
    "class Estudiante:\n",
    "    def __init__(self, nombre, ingreso):\n",
    "        self.nombre = nombre\n",
    "        self.ingreso = ingreso\n",
    "\n",
    "    @classmethod\n",
    "    def desde_texto(cls, texto):\n",
    "        nombre, ingreso = texto.split(\",\")\n",
    "        return cls(nombre, int(ingreso))\n",
    "\n",
    "    def resumen(self):\n",
    "        return f\"Estudiante(nombre={self.nombre}, ingreso={self.ingreso})\"\n",
    "\n",
    "e1 = Estudiante(\"El Nombre\", 2023)\n",
    "e1.resumen()"
   ]
  },
  {
   "cell_type": "code",
   "execution_count": 41,
   "id": "457b2b02",
   "metadata": {},
   "outputs": [
    {
     "data": {
      "text/plain": [
       "'Estudiante(nombre=El Estudiante, ingreso=2024)'"
      ]
     },
     "execution_count": null,
     "metadata": {},
     "output_type": "execute_result"
    }
   ],
   "source": [
    "e2 = Estudiante.desde_texto(\"El Estudiante, 2024\")\n",
    "e2.resumen()"
   ]
  },
  {
   "cell_type": "code",
   "execution_count": 42,
   "id": "36bc3dd7",
   "metadata": {},
   "outputs": [
    {
     "data": {
      "text/plain": [
       "('El Estudiante', 2024)"
      ]
     },
     "execution_count": null,
     "metadata": {},
     "output_type": "execute_result"
    }
   ],
   "source": [
    "e2.nombre, e2.ingreso"
   ]
  },
  {
   "cell_type": "markdown",
   "id": "6b6ff343",
   "metadata": {},
   "source": [
    "Otro ejemplo donde tiene sentido usar métodos de clases es cuando se quieren crear objetos \"pre-configurados\""
   ]
  },
  {
   "cell_type": "code",
   "execution_count": 45,
   "id": "f1a86e38",
   "metadata": {},
   "outputs": [],
   "source": [
    "class Sandwich:\n",
    "    def __init__(self, ingredientes):\n",
    "        self.ingredientes = ingredientes\n",
    "\n",
    "    @classmethod\n",
    "    def jyq(cls):\n",
    "        return cls([\"jamón\", \"queso\"])\n",
    "\n",
    "    @classmethod\n",
    "    def mediterraneo(cls):\n",
    "        return cls([\"tomate\", \"mozzarella\", \"rúcula\", \"aceitunas\"])\n",
    "\n",
    "    def resumen(self):\n",
    "        return f\"Sandwich de: {', '.join(self.ingredientes)}\""
   ]
  },
  {
   "cell_type": "code",
   "execution_count": 46,
   "id": "34df3186",
   "metadata": {},
   "outputs": [
    {
     "data": {
      "text/plain": [
       "'Sandwich de: tomate, lechuga, queso'"
      ]
     },
     "execution_count": null,
     "metadata": {},
     "output_type": "execute_result"
    }
   ],
   "source": [
    "s1 = Sandwich([\"tomate\", \"lechuga\", \"queso\"])\n",
    "s1.resumen()"
   ]
  },
  {
   "cell_type": "code",
   "execution_count": 47,
   "id": "efbc46fc",
   "metadata": {},
   "outputs": [
    {
     "data": {
      "text/plain": [
       "'Sandwich de: jamón, queso'"
      ]
     },
     "execution_count": null,
     "metadata": {},
     "output_type": "execute_result"
    }
   ],
   "source": [
    "Sandwich.jyq().resumen()"
   ]
  },
  {
   "cell_type": "code",
   "execution_count": 48,
   "id": "49bf10ce",
   "metadata": {},
   "outputs": [
    {
     "data": {
      "text/plain": [
       "'Sandwich de: tomate, mozzarella, rúcula, aceitunas'"
      ]
     },
     "execution_count": null,
     "metadata": {},
     "output_type": "execute_result"
    }
   ],
   "source": [
    "Sandwich.mediterraneo().resumen()"
   ]
  }
 ],
 "metadata": {
  "language_info": {
   "name": "python"
  }
 },
 "nbformat": 4,
 "nbformat_minor": 5
}
