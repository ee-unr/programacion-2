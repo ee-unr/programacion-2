{
 "cells": [
  {
   "cell_type": "markdown",
   "id": "1a3e084c",
   "metadata": {},
   "source": [
    "---\n",
    "title: \"2 - Encapsulamiento\"\n",
    "toc: true\n",
    "---"
   ]
  },
  {
   "cell_type": "markdown",
   "id": "7ba4af52",
   "metadata": {},
   "source": [
    "## Prefacio\n",
    "\n",
    "\n",
    "Los tres principios fundamentales de la programación orientada a objetos son la **encapsulación**, la **herencia** y el **polimorfismo**.\n",
    "\n",
    "A lo largo de los próximos apuntes vamos a explorar cada uno en detalle, entendiendo los conceptos que los sustentan y analizando ejemplos concretos de cómo se aplican en Python. En líneas generales, estos principios se pueden describir de la siguiente manera:\n",
    "\n",
    "* **Encapsulación:** consiste en reunir en un mismo lugar tanto los datos como las operaciones que actúan sobre ellos, ocultando los detalles internos y exponiendo únicamente la interfaz necesaria para interactuar con el objeto.\n",
    "* **Herencia:** permite crear nuevas clases a partir de otras ya existentes, reutilizando su comportamiento y ampliándolo o modificándolo según sea necesario.\n",
    "* **Polimorfismo:** hace posible que diferentes clases respondan de forma distinta a un mismo mensaje (por ejemplo, un método con el mismo nombre), adaptando el comportamiento a las particularidades de cada caso.\n"
   ]
  },
  {
   "cell_type": "markdown",
   "id": "0537e4a0",
   "metadata": {},
   "source": [
    "## Introducción\n",
    "\n",
    "Supongamos que nos encontramos manejando un auto por el centro rosarino y al llegar a la esquina vemos que por la calle perpendicular se aproxima otro vehículo que no aparenta intenciones de frenar.\n",
    "Todo indica que tendremos que detener el auto completamente.\n",
    "En un instante, presionamos el embrague casi al mismo tiempo que el pedal de freno y colocamos la palanca de cambio en la posición de punto muerto.\n",
    "El auto responde de la manera que esperamos y se detiene.\n",
    "Una vez que el otro vehículo cruza, nos disponemos a continuar nuestra marcha.\n",
    "Como aún no soltamos el pie del embrague, movemos la palanca de cambios a la posición de primera,\n",
    "suavemente soltamos el embrague mientras comenzados a presionar el acelerador, y finalmente cruzamos.\n",
    "\n",
    "¿Y qué tiene que ver toda esta escena automovilística con el encapsulamiento? Más de lo que podríamos imaginar rápidamente.\n",
    "\n",
    "Para detener el auto, tuvimos que interactuar con los pedales y eventualmente con la palanca de cambios.\n",
    "Todo un esfuerzo, sí. Sin embargo, no necesitamos saber en realidad como funciona el proceso de frenado de un auto:\n",
    "desconocemos como funcionan los discos, la hidráulica y mucho menos podríamos describir como funciona una caja de cambios.\n",
    "Todos estos mecanismos internos permanecen ocultos dentro del sistema (el auto).\n",
    "Lo único visible es una interfaz sencilla que nos permite lograr nuestro objetivo sin necesidad de saber qué ocurre detrás.\n",
    "\n",
    "En programación ocurre lo mismo: la encapsulación consiste en mantener el estado interno y la lógica de un objeto fuera del alcance del exterior, exponiendo únicamente una forma clara y controlada de interactuar con él.\n",
    "De este modo, el código que interactua con el objeto no necesita conocer sus detalles internos y puede seguir funcionando incluso si estos cambian."
   ]
  },
  {
   "cell_type": "markdown",
   "id": "01da14a1",
   "metadata": {},
   "source": [
    "## Las mil y una caras del encapsulamiento"
   ]
  },
  {
   "cell_type": "markdown",
   "id": "42e09997",
   "metadata": {},
   "source": [
    "### Funciones"
   ]
  },
  {
   "cell_type": "markdown",
   "id": "7ea41f0c",
   "metadata": {},
   "source": [
    "* Las funciones son un ejemplo claro de encapsulación: su uso no requiere conocer cómo funcionan internamente.\n",
    "* Una función bien diseñada agrupa pasos en una tarea única y su nombre debe reflejar esa acción.\n",
    "* Al usarlas (por ejemplo, `len()`), solo importa qué argumento se pasa y qué resultado devuelve.\n",
    "* No es relevante si el código interno es extenso o complejo.\n",
    "* Una vez probada, se puede reutilizar sin preocuparse por su implementación.\n",
    "* Si se encuentra un algoritmo mejor, la función puede reescribirse sin cambiar su uso externo.\n",
    "* Mientras la interfaz (entradas y salidas) se mantenga, el resto del código no necesita modificaciones.\n",
    "* Esta modularización mejora la mantenibilidad y facilita la evolución del programa.\n"
   ]
  },
  {
   "cell_type": "code",
   "execution_count": 1,
   "id": "a9330249",
   "metadata": {},
   "outputs": [],
   "source": [
    "def fibonacci(n):\n",
    "    if n <= 1:\n",
    "        return n\n",
    "    return fibonacci(n - 1) + fibonacci(n - 2)"
   ]
  },
  {
   "cell_type": "markdown",
   "id": "2b68be62",
   "metadata": {},
   "source": [
    "### Objetos"
   ]
  },
  {
   "cell_type": "markdown",
   "id": "2bd9ef76",
   "metadata": {},
   "source": [
    "- Concepto de cliente: Any software that creates an object from a class and makes calls to the methods of that object.\n",
    "\n",
    "* Existe una dualidad entre el “interior” y el “exterior” de una clase u objeto.\n",
    "* Desde el interior, se piensa en cómo los métodos comparten variables de instancia.\n",
    "* También se considera la eficiencia de los algoritmos y el diseño de la interfaz.\n",
    "* Es importante definir qué métodos ofrecer, qué parámetros necesitan y qué valores por defecto usar.\n",
    "* Desde el exterior, como programador que usa la clase, lo relevante es conocer su interfaz.\n",
    "* Solo interesa qué hace cada método, qué argumentos requiere y qué datos devuelve.\n"
   ]
  },
  {
   "cell_type": "markdown",
   "id": "7b1a627e",
   "metadata": {},
   "source": [
    "class therefore provides encapsulation by:\n",
    "• Hiding all details of implementation in its methods and instance\n",
    "variables\n",
    "• Providing all the functionality a client needs from an object through its\n",
    "interface (the methods defined in the class)s"
   ]
  },
  {
   "cell_type": "markdown",
   "id": "c45d8ab8",
   "metadata": {},
   "source": [
    "Los objetos son dueños de sus datos\n",
    "\n",
    "Each Person object owns its own set of the two instance variables"
   ]
  },
  {
   "cell_type": "code",
   "execution_count": 1,
   "id": "f6bd02b7",
   "metadata": {},
   "outputs": [],
   "source": [
    "class Estudiante:\n",
    "    def __init__(self, nombre, ingreso, carrera):\n",
    "        self.nombre = nombre\n",
    "        self.ingreso = ingreso\n",
    "        self.carrera = carrera\n",
    "\n",
    "    def resumen(self):\n",
    "        return f\"Estudiante(nombre={self.nombre}, ingreso={self.ingreso}, carrera={self.carrera})\""
   ]
  },
  {
   "cell_type": "code",
   "execution_count": 2,
   "id": "ba44b71a",
   "metadata": {},
   "outputs": [
    {
     "data": {
      "text/plain": [
       "'Estudiante(nombre=Mariano González, ingreso=2022, carrera=Contador Público)'"
      ]
     },
     "execution_count": null,
     "metadata": {},
     "output_type": "execute_result"
    }
   ],
   "source": [
    "e1 = Estudiante(\"Mariano González\", 2022, \"Contador Público\")\n",
    "e1.resumen()"
   ]
  },
  {
   "cell_type": "code",
   "execution_count": 3,
   "id": "7b7d2497",
   "metadata": {},
   "outputs": [
    {
     "data": {
      "text/plain": [
       "'Mariano González'"
      ]
     },
     "execution_count": null,
     "metadata": {},
     "output_type": "execute_result"
    }
   ],
   "source": [
    "e1.nombre"
   ]
  },
  {
   "cell_type": "code",
   "execution_count": 4,
   "id": "61b85ae7",
   "metadata": {},
   "outputs": [
    {
     "data": {
      "text/plain": [
       "2022"
      ]
     },
     "execution_count": null,
     "metadata": {},
     "output_type": "execute_result"
    }
   ],
   "source": [
    "e1.ingreso"
   ]
  },
  {
   "cell_type": "code",
   "execution_count": 5,
   "id": "190b12c7",
   "metadata": {},
   "outputs": [
    {
     "data": {
      "text/plain": [
       "'Contador Público'"
      ]
     },
     "execution_count": null,
     "metadata": {},
     "output_type": "execute_result"
    }
   ],
   "source": [
    "e1.carrera"
   ]
  },
  {
   "cell_type": "code",
   "execution_count": 35,
   "id": "8f148df9",
   "metadata": {},
   "outputs": [
    {
     "data": {
      "text/plain": [
       "Estudiante(nombre=Mariano González, ingreso=2019, carrera=Contador Público)"
      ]
     },
     "execution_count": null,
     "metadata": {},
     "output_type": "execute_result"
    }
   ],
   "source": [
    "e1.ingreso = 2019\n",
    "e1"
   ]
  },
  {
   "cell_type": "code",
   "execution_count": 36,
   "id": "104f4eae",
   "metadata": {},
   "outputs": [
    {
     "data": {
      "text/plain": [
       "Estudiante(nombre=Mariano González, ingreso=Cualquier cosa, carrera=Contador Público)"
      ]
     },
     "execution_count": null,
     "metadata": {},
     "output_type": "execute_result"
    }
   ],
   "source": [
    "e1.ingreso = \"Cualquier cosa\"\n",
    "e1"
   ]
  },
  {
   "cell_type": "markdown",
   "id": "0affbd47",
   "metadata": {},
   "source": [
    "* getter: A method that retrieves data from an object instantiated from a class.\n",
    "* setter: A method that assigns data into an object instantiated from a class."
   ]
  },
  {
   "cell_type": "code",
   "execution_count": 6,
   "id": "95dad2aa",
   "metadata": {},
   "outputs": [],
   "source": [
    "class Estudiante:\n",
    "    def __init__(self, nombre):\n",
    "        self.setNombre(nombre)\n",
    "\n",
    "    def setNombre(self, nombre):\n",
    "        if isinstance(nombre, str):\n",
    "            self.nombre = nombre\n",
    "        else:\n",
    "            print(\"El nombre debe ser de tipo 'str'\")\n",
    "\n",
    "    def getNombre(self):\n",
    "        return self.nombre\n",
    "\n",
    "    def resumen(self):\n",
    "        return f\"Estudiante(nombre={self.getNombre()})\""
   ]
  },
  {
   "cell_type": "code",
   "execution_count": 7,
   "id": "1207e67f",
   "metadata": {},
   "outputs": [
    {
     "data": {
      "text/plain": [
       "'Estudiante(nombre=Macarena Gianetti)'"
      ]
     },
     "execution_count": null,
     "metadata": {},
     "output_type": "execute_result"
    }
   ],
   "source": [
    "e = Estudiante(\"Macarena Gianetti\")\n",
    "e.resumen()"
   ]
  },
  {
   "cell_type": "code",
   "execution_count": 8,
   "id": "e0a85d6a",
   "metadata": {},
   "outputs": [
    {
     "data": {
      "text/plain": [
       "'Macarena Gianetti'"
      ]
     },
     "execution_count": null,
     "metadata": {},
     "output_type": "execute_result"
    }
   ],
   "source": [
    "e.getNombre()"
   ]
  },
  {
   "cell_type": "code",
   "execution_count": 9,
   "id": "3628b938",
   "metadata": {},
   "outputs": [
    {
     "name": "stdout",
     "output_type": "stream",
     "text": [
      "El nombre debe ser de tipo 'str'\n"
     ]
    }
   ],
   "source": [
    "e.setNombre(189)"
   ]
  },
  {
   "cell_type": "code",
   "execution_count": 10,
   "id": "498a24cc",
   "metadata": {},
   "outputs": [
    {
     "data": {
      "text/plain": [
       "'Estudiante(nombre=Macarena Gianetti)'"
      ]
     },
     "execution_count": null,
     "metadata": {},
     "output_type": "execute_result"
    }
   ],
   "source": [
    "e.resumen()"
   ]
  },
  {
   "cell_type": "code",
   "execution_count": 12,
   "id": "cd2eb812",
   "metadata": {},
   "outputs": [
    {
     "data": {
      "text/plain": [
       "'Estudiante(nombre=2)'"
      ]
     },
     "execution_count": null,
     "metadata": {},
     "output_type": "execute_result"
    }
   ],
   "source": [
    "e.nombre = 2\n",
    "e.resumen()"
   ]
  },
  {
   "cell_type": "markdown",
   "id": "ae570027",
   "metadata": {},
   "source": [
    "#### Atributos \"privados\""
   ]
  },
  {
   "cell_type": "code",
   "execution_count": 13,
   "id": "c67da006",
   "metadata": {},
   "outputs": [],
   "source": [
    "class Estudiante:\n",
    "    def __init__(self, nombre):\n",
    "        self.setNombre(nombre)\n",
    "\n",
    "    def setNombre(self, nombre):\n",
    "        if isinstance(nombre, str):\n",
    "            self._nombre = nombre\n",
    "        else:\n",
    "            print(\"El nombre debe ser de tipo 'str'\")\n",
    "\n",
    "    def getNombre(self):\n",
    "        return self._nombre\n",
    "\n",
    "    def resumen(self):\n",
    "        return f\"Estudiante(nombre={self.getNombre()})\""
   ]
  },
  {
   "cell_type": "code",
   "execution_count": 17,
   "id": "76177d00",
   "metadata": {},
   "outputs": [
    {
     "data": {
      "text/plain": [
       "'Estudiante(nombre=Macarena Gianetti)'"
      ]
     },
     "execution_count": null,
     "metadata": {},
     "output_type": "execute_result"
    }
   ],
   "source": [
    "e = Estudiante(\"Macarena Gianetti\")\n",
    "e.resumen()"
   ]
  },
  {
   "cell_type": "code",
   "execution_count": 18,
   "id": "0e0a063e",
   "metadata": {},
   "outputs": [],
   "source": [
    "e.nombre = \"Algo nuevo\""
   ]
  },
  {
   "cell_type": "code",
   "execution_count": 19,
   "id": "cd56d979",
   "metadata": {},
   "outputs": [
    {
     "data": {
      "text/plain": [
       "'Estudiante(nombre=Macarena Gianetti)'"
      ]
     },
     "execution_count": null,
     "metadata": {},
     "output_type": "execute_result"
    }
   ],
   "source": [
    "e.resumen()"
   ]
  },
  {
   "cell_type": "code",
   "execution_count": 21,
   "id": "18cea076",
   "metadata": {},
   "outputs": [
    {
     "data": {
      "text/plain": [
       "'Estudiante(nombre=¡Ahora sí!)'"
      ]
     },
     "execution_count": null,
     "metadata": {},
     "output_type": "execute_result"
    }
   ],
   "source": [
    "e._nombre = \"¡Ahora sí!\"\n",
    "e.resumen()"
   ]
  },
  {
   "cell_type": "markdown",
   "id": "f3156870",
   "metadata": {},
   "source": [
    "#### Atributos privados, posta"
   ]
  },
  {
   "cell_type": "code",
   "execution_count": 22,
   "id": "87a193c2",
   "metadata": {},
   "outputs": [],
   "source": [
    "class Estudiante:\n",
    "    def __init__(self, nombre):\n",
    "        self.setNombre(nombre)\n",
    "\n",
    "    def setNombre(self, nombre):\n",
    "        if isinstance(nombre, str):\n",
    "            self.__nombre = nombre\n",
    "        else:\n",
    "            print(\"El nombre debe ser de tipo 'str'\")\n",
    "\n",
    "    def getNombre(self):\n",
    "        return self.__nombre\n",
    "\n",
    "    def resumen(self):\n",
    "        return f\"Estudiante(nombre={self.getNombre()})\""
   ]
  },
  {
   "cell_type": "code",
   "execution_count": 23,
   "id": "7c4e8231",
   "metadata": {},
   "outputs": [
    {
     "data": {
      "text/plain": [
       "'Estudiante(nombre=Macarena Gianetti)'"
      ]
     },
     "execution_count": null,
     "metadata": {},
     "output_type": "execute_result"
    }
   ],
   "source": [
    "e = Estudiante(\"Macarena Gianetti\")\n",
    "e.resumen()"
   ]
  },
  {
   "cell_type": "code",
   "execution_count": 24,
   "id": "89eb72d4",
   "metadata": {},
   "outputs": [
    {
     "ename": "AttributeError",
     "evalue": "'Estudiante' object has no attribute '__nombre'",
     "output_type": "error",
     "traceback": [
      "\u001b[0;31m---------------------------------------------------------------------------\u001b[0m\n",
      "\u001b[0;31mAttributeError\u001b[0m                            Traceback (most recent call last)\n",
      "Cell \u001b[0;32mIn[24], line 1\u001b[0m\n",
      "\u001b[0;32m----> 1\u001b[0m \u001b[43me\u001b[49m\u001b[38;5;241;43m.\u001b[39;49m\u001b[43m__nombre\u001b[49m\n",
      "\n",
      "\u001b[0;31mAttributeError\u001b[0m: 'Estudiante' object has no attribute '__nombre'"
     ]
    }
   ],
   "source": [
    "e.__nombre"
   ]
  },
  {
   "cell_type": "code",
   "execution_count": 25,
   "id": "4a7de56a",
   "metadata": {},
   "outputs": [],
   "source": [
    "e.__nombre = \"¿Y ahora?\""
   ]
  },
  {
   "cell_type": "code",
   "execution_count": 26,
   "id": "6a022edd",
   "metadata": {},
   "outputs": [
    {
     "data": {
      "text/plain": [
       "'Macarena Gianetti'"
      ]
     },
     "execution_count": null,
     "metadata": {},
     "output_type": "execute_result"
    }
   ],
   "source": [
    "e.getNombre()"
   ]
  },
  {
   "cell_type": "markdown",
   "id": "cd2f3532",
   "metadata": {},
   "source": [
    "::: {.callout-note}\n",
    "\n",
    "- Algun comentario de que `_` y `__` valen también para métodos, y de hecho se suelen usar.\n",
    "\n",
    ":::"
   ]
  },
  {
   "cell_type": "markdown",
   "id": "2f719776",
   "metadata": {},
   "source": [
    "## Emulando atributos con `@property`"
   ]
  },
  {
   "cell_type": "markdown",
   "id": "3906fd6d",
   "metadata": {},
   "source": [
    "* property:  An attribute of a class that appears to client code to be an instance variable, but instead causes a method to be called when it is accessed."
   ]
  },
  {
   "cell_type": "markdown",
   "id": "2e0d0b50",
   "metadata": {},
   "source": [
    "* `property` permite a quienes desarrollan clases usar **indirección**, como un mago usa la distracción: el código parece hacer una cosa mientras en realidad hace otra.\n",
    "* Con los decoradores `property`, se definen métodos especiales llamados *getter* y *setter*.\n",
    "* El *getter* se marca con `@property` y su nombre define el nombre de la propiedad que usará el código externo.\n",
    "* El *setter* se marca con `@<nombre>.setter` y permite asignar valores a esa propiedad.\n",
    "* Gracias a esto, el uso desde fuera parece un simple acceso o asignación de atributos, aunque internamente se ejecute lógica más compleja.\n"
   ]
  },
  {
   "cell_type": "code",
   "execution_count": 27,
   "id": "302fa951",
   "metadata": {},
   "outputs": [],
   "source": [
    "class Estudiante:\n",
    "    def __init__(self, nombre):\n",
    "        self.nombre = nombre\n",
    "\n",
    "    @property\n",
    "    def nombre(self):\n",
    "        return self._nombre\n",
    "\n",
    "    @nombre.setter\n",
    "    def nombre(self, valor):\n",
    "        if isinstance(valor, str):\n",
    "            self._nombre = valor\n",
    "        else:\n",
    "            print(\"El nombre debe ser de tipo 'str'\")\n",
    "\n",
    "    def resumen(self):\n",
    "        return f\"Estudiante(nombre={self.nombre})\""
   ]
  },
  {
   "cell_type": "code",
   "execution_count": 28,
   "id": "cd4d9065",
   "metadata": {},
   "outputs": [
    {
     "data": {
      "text/plain": [
       "'Estudiante(nombre=Fernanda Cattalini)'"
      ]
     },
     "execution_count": null,
     "metadata": {},
     "output_type": "execute_result"
    }
   ],
   "source": [
    "e = Estudiante(\"Fernanda Cattalini\")\n",
    "e.resumen()"
   ]
  },
  {
   "cell_type": "code",
   "execution_count": 29,
   "id": "10aa34ea",
   "metadata": {},
   "outputs": [
    {
     "data": {
      "text/plain": [
       "'Fernanda Cattalini'"
      ]
     },
     "execution_count": null,
     "metadata": {},
     "output_type": "execute_result"
    }
   ],
   "source": [
    "e.nombre"
   ]
  },
  {
   "cell_type": "code",
   "execution_count": 30,
   "id": "539db966",
   "metadata": {},
   "outputs": [
    {
     "name": "stdout",
     "output_type": "stream",
     "text": [
      "El nombre debe ser de tipo 'str'\n"
     ]
    }
   ],
   "source": [
    "e.nombre = True"
   ]
  },
  {
   "cell_type": "code",
   "execution_count": 32,
   "id": "d29b1a2b",
   "metadata": {},
   "outputs": [
    {
     "data": {
      "text/plain": [
       "'Estudiante(nombre=María Fernanda Cattalini)'"
      ]
     },
     "execution_count": null,
     "metadata": {},
     "output_type": "execute_result"
    }
   ],
   "source": [
    "e.nombre = \"María Fernanda Cattalini\"\n",
    "e.resumen()"
   ]
  },
  {
   "cell_type": "markdown",
   "id": "d4262c66",
   "metadata": {},
   "source": [
    "## Clases"
   ]
  },
  {
   "cell_type": "markdown",
   "id": "f123b312",
   "metadata": {},
   "source": [
    "Las clases también permiten encapsular información y estado.\n",
    "\n",
    "* Atributos de clase.\n",
    "* Métodos de clase."
   ]
  },
  {
   "cell_type": "markdown",
   "id": "15237a81",
   "metadata": {},
   "source": [
    "Un atributo de clase es un atributo que en vez de estar asociado a una instancia en particular, está asociado a una clase.\n",
    "\n",
    "Por otro lado, un método de clase es un método asociado a una clase (¡como todos los métodos!), pero que en vez de recibir a la instancia como primer objeto, recibe a la clase."
   ]
  },
  {
   "cell_type": "code",
   "execution_count": 33,
   "id": "25e6815f",
   "metadata": {},
   "outputs": [],
   "source": [
    "class Gato:\n",
    "    especie = \"Felis catus\"\n",
    "    def __init__(self, nombre, raza=None):\n",
    "        self.nombre = nombre\n",
    "        self.raza = raza\n",
    "\n",
    "    def resumen(self):\n",
    "        return f\"Gato(nombre={self.nombre}, raza={self.raza})\"\n",
    "\n",
    "\n",
    "class Perro:\n",
    "    especie = \"Canis lupus familiaris\"\n",
    "\n",
    "    def __init__(self, nombre, raza=None):\n",
    "        self.nombre = nombre\n",
    "        self.raza = raza\n",
    "\n",
    "    def resumen(self):\n",
    "        return f\"Perro(nombre={self.nombre}, raza={self.raza})\""
   ]
  },
  {
   "cell_type": "code",
   "execution_count": 35,
   "id": "23373fea",
   "metadata": {},
   "outputs": [
    {
     "name": "stdout",
     "output_type": "stream",
     "text": [
      "Gato(nombre=Chispitas, raza=None)\n",
      "Gato(nombre=Bigotes, raza=Siamés)\n"
     ]
    }
   ],
   "source": [
    "g1 = Gato(\"Chispitas\")\n",
    "g2 = Gato(\"Bigotes\", \"Siamés\")\n",
    "print(g1.resumen())\n",
    "print(g2.resumen())"
   ]
  },
  {
   "cell_type": "code",
   "execution_count": 37,
   "id": "2b898a99",
   "metadata": {},
   "outputs": [
    {
     "data": {
      "text/plain": [
       "('Felis catus', 'Felis catus', True)"
      ]
     },
     "execution_count": null,
     "metadata": {},
     "output_type": "execute_result"
    }
   ],
   "source": [
    "g1.especie, g2.especie, g1.especie == g2.especie"
   ]
  },
  {
   "cell_type": "code",
   "execution_count": 38,
   "id": "78940cd3",
   "metadata": {},
   "outputs": [
    {
     "name": "stdout",
     "output_type": "stream",
     "text": [
      "Perro(nombre=Bruno, raza=None)\n",
      "Canis lupus familiaris\n"
     ]
    }
   ],
   "source": [
    "perro = Perro(\"Bruno\")\n",
    "print(perro.resumen())\n",
    "print(perro.especie)"
   ]
  },
  {
   "cell_type": "code",
   "execution_count": 124,
   "id": "c2fd73f8",
   "metadata": {},
   "outputs": [
    {
     "name": "stdout",
     "output_type": "stream",
     "text": [
      "2\n"
     ]
    }
   ],
   "source": [
    "class Usuario:\n",
    "    total_usuarios = 0  # atributo de clase\n",
    "\n",
    "    def __init__(self, nombre):\n",
    "        self.nombre = nombre\n",
    "        Usuario.total_usuarios += 1\n",
    "\n",
    "# Todas las instancias comparten el mismo atributo\n",
    "u1 = Usuario(\"Ana\")\n",
    "u2 = Usuario(\"Luis\")\n",
    "\n",
    "print(Usuario.total_usuarios)  # 2"
   ]
  },
  {
   "cell_type": "markdown",
   "id": "bba7a9d9",
   "metadata": {},
   "source": [
    "Para métodos de clase"
   ]
  },
  {
   "cell_type": "code",
   "execution_count": 40,
   "id": "a1ac15aa",
   "metadata": {},
   "outputs": [
    {
     "data": {
      "text/plain": [
       "'Estudiante(nombre=El Nombre, ingreso=2023)'"
      ]
     },
     "execution_count": null,
     "metadata": {},
     "output_type": "execute_result"
    }
   ],
   "source": [
    "class Estudiante:\n",
    "    def __init__(self, nombre, ingreso):\n",
    "        self.nombre = nombre\n",
    "        self.ingreso = ingreso\n",
    "\n",
    "    @classmethod\n",
    "    def desde_texto(cls, texto):\n",
    "        nombre, ingreso = texto.split(\",\")\n",
    "        return cls(nombre, int(ingreso))\n",
    "\n",
    "    def resumen(self):\n",
    "        return f\"Estudiante(nombre={self.nombre}, ingreso={self.ingreso})\"\n",
    "\n",
    "e1 = Estudiante(\"El Nombre\", 2023)\n",
    "e1.resumen()"
   ]
  },
  {
   "cell_type": "code",
   "execution_count": 41,
   "id": "457b2b02",
   "metadata": {},
   "outputs": [
    {
     "data": {
      "text/plain": [
       "'Estudiante(nombre=El Estudiante, ingreso=2024)'"
      ]
     },
     "execution_count": null,
     "metadata": {},
     "output_type": "execute_result"
    }
   ],
   "source": [
    "e2 = Estudiante.desde_texto(\"El Estudiante, 2024\")\n",
    "e2.resumen()"
   ]
  },
  {
   "cell_type": "code",
   "execution_count": 42,
   "id": "36bc3dd7",
   "metadata": {},
   "outputs": [
    {
     "data": {
      "text/plain": [
       "('El Estudiante', 2024)"
      ]
     },
     "execution_count": null,
     "metadata": {},
     "output_type": "execute_result"
    }
   ],
   "source": [
    "e2.nombre, e2.ingreso"
   ]
  },
  {
   "cell_type": "markdown",
   "id": "6b6ff343",
   "metadata": {},
   "source": [
    "Otro ejemplo donde tiene sentido usar métodos de clases es cuando se quieren crear objetos \"pre-configurados\""
   ]
  },
  {
   "cell_type": "code",
   "execution_count": 45,
   "id": "f1a86e38",
   "metadata": {},
   "outputs": [],
   "source": [
    "class Sandwich:\n",
    "    def __init__(self, ingredientes):\n",
    "        self.ingredientes = ingredientes\n",
    "\n",
    "    @classmethod\n",
    "    def jyq(cls):\n",
    "        return cls([\"jamón\", \"queso\"])\n",
    "\n",
    "    @classmethod\n",
    "    def mediterraneo(cls):\n",
    "        return cls([\"tomate\", \"mozzarella\", \"rúcula\", \"aceitunas\"])\n",
    "\n",
    "    def resumen(self):\n",
    "        return f\"Sandwich de: {', '.join(self.ingredientes)}\""
   ]
  },
  {
   "cell_type": "code",
   "execution_count": 46,
   "id": "34df3186",
   "metadata": {},
   "outputs": [
    {
     "data": {
      "text/plain": [
       "'Sandwich de: tomate, lechuga, queso'"
      ]
     },
     "execution_count": null,
     "metadata": {},
     "output_type": "execute_result"
    }
   ],
   "source": [
    "s1 = Sandwich([\"tomate\", \"lechuga\", \"queso\"])\n",
    "s1.resumen()"
   ]
  },
  {
   "cell_type": "code",
   "execution_count": 47,
   "id": "efbc46fc",
   "metadata": {},
   "outputs": [
    {
     "data": {
      "text/plain": [
       "'Sandwich de: jamón, queso'"
      ]
     },
     "execution_count": null,
     "metadata": {},
     "output_type": "execute_result"
    }
   ],
   "source": [
    "Sandwich.jyq().resumen()"
   ]
  },
  {
   "cell_type": "code",
   "execution_count": 48,
   "id": "49bf10ce",
   "metadata": {},
   "outputs": [
    {
     "data": {
      "text/plain": [
       "'Sandwich de: tomate, mozzarella, rúcula, aceitunas'"
      ]
     },
     "execution_count": null,
     "metadata": {},
     "output_type": "execute_result"
    }
   ],
   "source": [
    "Sandwich.mediterraneo().resumen()"
   ]
  }
 ],
 "metadata": {
  "language_info": {
   "name": "python"
  }
 },
 "nbformat": 4,
 "nbformat_minor": 5
}
