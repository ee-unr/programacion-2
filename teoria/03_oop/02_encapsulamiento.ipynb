{
 "cells": [
  {
   "cell_type": "markdown",
   "id": "1a3e084c",
   "metadata": {},
   "source": [
    "---\n",
    "title: \"2 - Encapsulamiento\"\n",
    "toc: true\n",
    "---"
   ]
  },
  {
   "cell_type": "markdown",
   "id": "c23e024e",
   "metadata": {},
   "source": [
    "* Encapsulamiento en detalle.\n",
    "* Métodos públicos y privados.\n",
    "* Métodos de instancia vs. métodos de clase (`@classmethod`)\n",
    "* Métodos estáticos (`@staticmethod`)\n",
    "* Uso de propiedades (`@property`) y setters"
   ]
  }
 ],
 "metadata": {
  "language_info": {
   "name": "plaintext"
  }
 },
 "nbformat": 4,
 "nbformat_minor": 5
}
