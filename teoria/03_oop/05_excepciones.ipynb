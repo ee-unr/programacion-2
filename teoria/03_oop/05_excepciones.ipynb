{
 "cells": [
  {
   "cell_type": "markdown",
   "id": "c6c05881",
   "metadata": {},
   "source": [
    "---\n",
    "title: \"5 - Excepciones\"\n",
    "toc: true\n",
    "---"
   ]
  },
  {
   "cell_type": "markdown",
   "id": "c0d4b314",
   "metadata": {},
   "source": [
    "## Errores\n",
    "\n",
    "* Elevacion de errores\n",
    "* Implementacion de errores"
   ]
  }
 ],
 "metadata": {
  "language_info": {
   "name": "plaintext"
  }
 },
 "nbformat": 4,
 "nbformat_minor": 5
}
