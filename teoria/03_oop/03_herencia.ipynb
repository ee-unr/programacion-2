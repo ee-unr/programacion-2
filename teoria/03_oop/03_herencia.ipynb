{
 "cells": [
  {
   "cell_type": "raw",
   "id": "2517ac53",
   "metadata": {},
   "source": [
    "---\n",
    "title: \"3 - Herencia\"\n",
    "toc: true\n",
    "---"
   ]
  },
  {
   "cell_type": "markdown",
   "id": "e3f7042a",
   "metadata": {},
   "source": [
    "## Introducción"
   ]
  },
  {
   "cell_type": "markdown",
   "id": "8ddc11d5",
   "metadata": {},
   "source": [
    "En el Prefacio del apunte anterior mencionamos lo siguiente sobre el principio de herencia:\n",
    "\n",
    "> * **Herencia:** permite crear nuevas clases a partir de otras ya existentes, reutilizando su comportamiento y ampliándolo o modificándolo según sea necesario."
   ]
  },
  {
   "cell_type": "markdown",
   "id": "9f8bdf48",
   "metadata": {},
   "source": [
    "Supongamos que necesitamos representar rectángulos en Python.\n",
    "Anteriormente, optamos por por representarlos con una tupla de longitud dos, donde el primer elemento representaba la base y el segundo la altura.\n",
    "Ahora, que ya dimos nuestros primeros pasos con la programación orientada a objetos, podemos crear una clase que no solo nos permite almacenar estado (los atributos de cada rectángulo),\n",
    "sino que nos posibilta implementar métodos que nos permiten obtener otras cantidades de interés."
   ]
  },
  {
   "cell_type": "code",
   "execution_count": 1,
   "id": "2d8567f7",
   "metadata": {},
   "outputs": [],
   "source": [
    "class Rectangulo:\n",
    "    def __init__(self, base, altura):\n",
    "        self.base = base\n",
    "        self.altura = altura\n",
    "\n",
    "    @property\n",
    "    def area(self):\n",
    "        return self.base * self.altura\n",
    "\n",
    "    @property\n",
    "    def perimetro(self):\n",
    "        return self.base * 2 + self.altura * 2\n",
    "\n",
    "    def resumen(self):\n",
    "        return f\"Rectangulo(base={self.base}, altura={self.altura})\""
   ]
  },
  {
   "cell_type": "code",
   "execution_count": 2,
   "id": "15606542",
   "metadata": {},
   "outputs": [
    {
     "name": "stdout",
     "output_type": "stream",
     "text": [
      "Rectangulo(base=4, altura=7)\n",
      "Área: 28\n",
      "Perímetro: 22\n"
     ]
    }
   ],
   "source": [
    "r1 = Rectangulo(4, 7)\n",
    "print(r1.resumen())\n",
    "print(\"Área:\", r1.area)\n",
    "print(\"Perímetro:\", r1.perimetro)"
   ]
  },
  {
   "cell_type": "markdown",
   "id": "dca66feb",
   "metadata": {},
   "source": [
    "Si queremos representar cuadrados, podemos crear otra clase:"
   ]
  },
  {
   "cell_type": "code",
   "execution_count": 3,
   "id": "316841d5",
   "metadata": {},
   "outputs": [
    {
     "name": "stdout",
     "output_type": "stream",
     "text": [
      "Cuadrado(lado=3)\n",
      "Área: 9\n",
      "Perímetro: 12\n"
     ]
    }
   ],
   "source": [
    "class Cuadrado:\n",
    "    def __init__(self, lado):\n",
    "        self.lado = lado\n",
    "\n",
    "    @property\n",
    "    def area(self):\n",
    "        return self.lado * self.lado\n",
    "\n",
    "    @property\n",
    "    def perimetro(self):\n",
    "        return self.lado * 4\n",
    "\n",
    "    def resumen(self):\n",
    "        return f\"Cuadrado(lado={self.lado})\"\n",
    "\n",
    "c1 = Cuadrado(3)\n",
    "print(c1.resumen())\n",
    "print(\"Área:\", c1.area)\n",
    "print(\"Perímetro:\", c1.perimetro)"
   ]
  },
  {
   "cell_type": "markdown",
   "id": "4c1ee418",
   "metadata": {},
   "source": [
    "En Python podemos usar la función `isinstance` para verificar si un objeto es instancia de una clase determinada.\n",
    "Por ejemplo, en el siguiente código comprobamos que `r1` es una instancia de `Rectangulo` y que `c1` es una instancia de `Cuadrado`:"
   ]
  },
  {
   "cell_type": "code",
   "execution_count": 4,
   "id": "8e236607",
   "metadata": {},
   "outputs": [
    {
     "name": "stdout",
     "output_type": "stream",
     "text": [
      "True\n",
      "True\n"
     ]
    }
   ],
   "source": [
    "print(isinstance(r1, Rectangulo))\n",
    "print(isinstance(c1, Cuadrado))"
   ]
  },
  {
   "cell_type": "markdown",
   "id": "b2defff1",
   "metadata": {},
   "source": [
    "Sabemos que, desde el punto de vista geométrico, un cuadrado es un caso particular de rectángulo: tiene base y altura iguales.\n",
    "En otras palabras, todo cuadrado es también un rectángulo, aunque no todo rectángulo sea un cuadrado."
   ]
  },
  {
   "cell_type": "markdown",
   "id": "ee1643c8",
   "metadata": {},
   "source": [
    "Sin embargo, si intentamos verificar esta relación en nuestro programa, obtenemos que esto no es asi."
   ]
  },
  {
   "cell_type": "code",
   "execution_count": 5,
   "id": "63b3dbd9",
   "metadata": {},
   "outputs": [
    {
     "data": {
      "text/plain": [
       "False"
      ]
     },
     "execution_count": null,
     "metadata": {},
     "output_type": "execute_result"
    }
   ],
   "source": [
    "isinstance(c1, Rectangulo)"
   ]
  },
  {
   "cell_type": "markdown",
   "id": "010aa8a2",
   "metadata": {},
   "source": [
    "Esto no significa que los cuadrados no sean rectángulos, sino que nuestro código aún no conoce esa relación entre las clases."
   ]
  },
  {
   "cell_type": "markdown",
   "id": "ff6405f4",
   "metadata": {},
   "source": [
    "## Herencia simple\n",
    "\n",
    "La herencia simple, como su nombre indica, es la forma más básica de herencia en programación orientada a objetos.\n",
    "Ocurre cuando una clase (que llamaremos hija, del inglés _child_) hereda de una única clase (que llamaremos padre, del inglés _parent_).\n",
    "Al hacerlo, la clase hija obtiene automáticamente los atributos y métodos de la clase padre, y puede utilizarlos directamente, modificarlos o agregar otros nuevos.\n",
    "Esto permite reutilizar y ampliar el comportamiento existente sin tener que volver a implementarlo desde cero."
   ]
  },
  {
   "cell_type": "markdown",
   "id": "6b16a455",
   "metadata": {},
   "source": [
    "### Un primer intento\n",
    "\n",
    "La sintaxis para definir una clase que hereda de otra es la siguiente:\n",
    "\n",
    "```python\n",
    "class ClasePadre:  # <1>\n",
    "    ...\n",
    "\n",
    "\n",
    "class ClaseHija(ClasePadre):  # <2>\n",
    "    ...\n",
    "```\n",
    "\n",
    "1. Primero se define la clase padre de forma habitual, con sus atributos y métodos.\n",
    "2. Luego, al crear la clase hija, se coloca el nombre de la clase padre entre paréntesis después del nombre de la nueva clase, de forma similar a cómo se llama a una función.\n",
    "\n",
    "En el caso de nuestras clases `Rectangulo` y `Cuadrado` tendríamos:"
   ]
  },
  {
   "cell_type": "code",
   "execution_count": 6,
   "id": "a3b09114",
   "metadata": {},
   "outputs": [],
   "source": [
    "class Rectangulo:\n",
    "    def __init__(self, base, altura):\n",
    "        self.base = base\n",
    "        self.altura = altura\n",
    "\n",
    "    @property\n",
    "    def area(self):\n",
    "        return self.base * self.altura\n",
    "\n",
    "    @property\n",
    "    def perimetro(self):\n",
    "        return self.base * 2 + self.altura * 2\n",
    "\n",
    "    def resumen(self):\n",
    "        return f\"Rectangulo(base={self.base}, altura={self.altura})\"\n",
    "\n",
    "\n",
    "class Cuadrado(Rectangulo):\n",
    "    def __init__(self, lado):\n",
    "        self.lado = lado\n",
    "\n",
    "    @property\n",
    "    def area(self):\n",
    "        return self.lado * self.lado\n",
    "\n",
    "    @property\n",
    "    def perimetro(self):\n",
    "        return self.lado * 4\n",
    "\n",
    "    def resumen(self):\n",
    "        return f\"Cuadrado(lado={self.lado})\""
   ]
  },
  {
   "cell_type": "markdown",
   "id": "6a6cd794",
   "metadata": {},
   "source": [
    "Ahora, podemos comprobar que los cuadrados sí se reconocen como rectángulos:"
   ]
  },
  {
   "cell_type": "code",
   "execution_count": 7,
   "id": "91830756",
   "metadata": {},
   "outputs": [
    {
     "name": "stdout",
     "output_type": "stream",
     "text": [
      "True\n",
      "True\n",
      "True\n"
     ]
    }
   ],
   "source": [
    "r1 = Rectangulo(2, 5)\n",
    "c1 = Cuadrado(3)\n",
    "\n",
    "print(isinstance(r1, Rectangulo))\n",
    "print(isinstance(c1, Cuadrado))\n",
    "print(isinstance(c1, Rectangulo))"
   ]
  },
  {
   "cell_type": "markdown",
   "id": "48270647",
   "metadata": {},
   "source": [
    "### Sobreescritura de métodos\n",
    "\n",
    "La herencia no solo sirve para que nuestro programa entienda las relaciones entre clases, sino también para reutilizar código sin duplicarlo.\n",
    "Gracias a ella, una clase hija puede aprovechar los atributos y métodos definidos en la clase padre y, al mismo tiempo, modificar solo aquello que necesita cambiar.\n",
    "Este proceso, llamado sobreescritura de métodos, permite adaptar o ampliar el comportamiento heredado sin necesidad de volver a implementarlo desde cero.\n",
    "\n",
    "En nuestro ejemplo, podemos reutilizar los métodos `area` y `perimetro` definidos en la clase `Rectangulo`.\n",
    "Para lograrlo, basta con sobreescribir el método `__init__` en la clase `Cuadrado`, de modo que asigne el valor de `lado` a los atributos `base` y `altura`."
   ]
  },
  {
   "cell_type": "code",
   "execution_count": 8,
   "id": "0172f7ac",
   "metadata": {},
   "outputs": [],
   "source": [
    "class Cuadrado(Rectangulo): # <1>\n",
    "    def __init__(self, lado): # <2>\n",
    "        self.lado = lado      # <3>\n",
    "        self.base = lado      # <3>\n",
    "        self.altura = lado    # <3>"
   ]
  },
  {
   "cell_type": "markdown",
   "id": "5795de2c",
   "metadata": {},
   "source": [
    "1. Se crea la clase `Cuadrado`, que hereda de `Rectangulo`.\n",
    "2. Se sobreescribe el método `__init__`, que ahora recibe un único parámetro: `lado`.\n",
    "3. Como los métodos heredados utilizan los atributos `base` y `altura`, debemos asignarles el valor de `lado` para que el comportamiento siga siendo correcto.\n",
    "\n",
    "Vemos que es posible acceder a las propiedades `area` y `perimetro` (en realidad, métodos decorados) de los objetos de la clase `Cuadrado` gracias a que los heredan de la clase `Rectangulo`."
   ]
  },
  {
   "cell_type": "code",
   "execution_count": 9,
   "id": "efc7df13",
   "metadata": {},
   "outputs": [
    {
     "name": "stdout",
     "output_type": "stream",
     "text": [
      "Área: 9\n",
      "Perímetro: 12\n"
     ]
    }
   ],
   "source": [
    "c1 = Cuadrado(3)\n",
    "print(\"Área:\", c1.area)\n",
    "print(\"Perímetro:\", c1.perimetro)"
   ]
  },
  {
   "cell_type": "markdown",
   "id": "05b8e78f",
   "metadata": {},
   "source": [
    "Por otro lado, el método resumen indica que se trata de un rectángulo."
   ]
  },
  {
   "cell_type": "code",
   "execution_count": 10,
   "id": "3699a8ce",
   "metadata": {},
   "outputs": [
    {
     "data": {
      "text/plain": [
       "'Rectangulo(base=3, altura=3)'"
      ]
     },
     "execution_count": null,
     "metadata": {},
     "output_type": "execute_result"
    }
   ],
   "source": [
    "c1.resumen()"
   ]
  },
  {
   "cell_type": "markdown",
   "id": "a6494687",
   "metadata": {},
   "source": [
    "Si bien la información que se muestra no es incorrecta, sería aún más claro que se devuelva una cadena que indica que el objeto no es un rectángulo cualquiera, sino que es de un tipo particular: un cuadrado.\n",
    "Para lograrlo, tenemos que reescribir el método `resumen`:"
   ]
  },
  {
   "cell_type": "code",
   "execution_count": 11,
   "id": "8e895486",
   "metadata": {},
   "outputs": [],
   "source": [
    "class Cuadrado(Rectangulo):\n",
    "    def __init__(self, lado):\n",
    "        self.lado = lado\n",
    "        self.base = lado\n",
    "        self.altura = lado\n",
    "\n",
    "    def resumen(self): # <1>\n",
    "        return f\"Cuadrado(lado={self.lado})\" # <1>"
   ]
  },
  {
   "cell_type": "markdown",
   "id": "3faaaee5",
   "metadata": {},
   "source": [
    "1. Se reescribe el método `resumen` para que devuelva una cadena distinta."
   ]
  },
  {
   "cell_type": "code",
   "execution_count": 12,
   "id": "b6e17c88",
   "metadata": {},
   "outputs": [
    {
     "data": {
      "text/plain": [
       "'Cuadrado(lado=3)'"
      ]
     },
     "execution_count": null,
     "metadata": {},
     "output_type": "execute_result"
    }
   ],
   "source": [
    "Cuadrado(3).resumen()"
   ]
  },
  {
   "cell_type": "markdown",
   "id": "25f6b33f",
   "metadata": {},
   "source": [
    "En resumen, nuestro código queda organizado de la siguiente manera:\n",
    "\n",
    "* Clase `Rectangulo`\n",
    "  * Se inicializa con dos argumentos: `base` y `altura`.\n",
    "  * Define tres métodos principales:\n",
    "    * `area()`: calcula el área.\n",
    "    * `perimetro()`: calcula el perímetro.\n",
    "    * `resumen()`: devuelve una descripción en texto.\n",
    "* Clase `Cuadrado`\n",
    "  * Hereda de `Rectangulo`, por lo que tiene acceso a todos sus métodos.\n",
    "  * Sobreescribe dos de ellos:\n",
    "    * `__init__()`: para inicializar el objeto a partir de un único valor `lado`.\n",
    "    * `resumen()`: para personalizar la descripción.\n",
    "  * Usa directamente los métodos heredados `area()` y `perimetro()` sin necesidad de redefinirlos."
   ]
  },
  {
   "cell_type": "markdown",
   "id": "a45decb0",
   "metadata": {},
   "source": [
    "::: {.callout-note}\n",
    "\n",
    "##### ¿Sabías que...? 🤓\n",
    "\n",
    "Todas las clases en Python heredan de una gran clase base llamada `object`.\n",
    "Por eso, cualquier instancia, sin importar su tipo, es considerada un objeto:\n",
    "\n",
    "```python\n",
    "isinstance(1, object)                  # True\n",
    "isinstance(\"algo\", object)             # True\n",
    "isinstance([1, 10, 100], object)       # True\n",
    "isinstance(Rectangulo(2, 5), object)   # True\n",
    "```\n",
    "\n",
    "En **Python 2**, si queríamos aprovechar todas las características modernas de la programación orientada a objetos,\n",
    "era necesario **declarar explícitamente** que nuestra clase heredaba de `object`.\n",
    "Por eso, era común encontrar definiciones así:\n",
    "\n",
    "```python\n",
    "class MiClase(object):\n",
    "    ...\n",
    "```\n",
    "\n",
    "En **Python 3**, esto ya no es necesario: todas las clases heredan de `object` de forma implícita.\n",
    "\n",
    ":::"
   ]
  },
  {
   "cell_type": "markdown",
   "id": "69e30c99",
   "metadata": {},
   "source": [
    "### Formas generales\n",
    "\n",
    "Un programa que trabaja con cuadrados y rectángulos probablemente tambíen incluya otros tipos de figuras geométricas, como los círculos.\n",
    "La clase `Circulo` define círculos en base a su radio y, al igual que `Cuadrado` y `Rectangulo`, permite acceder obter su área y perímetro como si fuera un atributo gracias al decorador `@property`."
   ]
  },
  {
   "cell_type": "code",
   "execution_count": 13,
   "id": "1ad4c05d",
   "metadata": {},
   "outputs": [],
   "source": [
    "import math\n",
    "\n",
    "class Circulo:\n",
    "    def __init__(self, radio):\n",
    "        self.radio = radio\n",
    "\n",
    "    @property\n",
    "    def area(self):\n",
    "        return self.radio ** 2 * math.pi  # <1>\n",
    "\n",
    "    @property\n",
    "    def perimetro(self):\n",
    "        return 2 * self.radio * math.pi # <2>\n",
    "\n",
    "    def resumen(self):\n",
    "        return f\"Circulo(radio={self.radio})\""
   ]
  },
  {
   "cell_type": "markdown",
   "id": "1740a982",
   "metadata": {},
   "source": [
    "1. El área de un círculo es $r ^ 2 \\pi$\n",
    "1. El perímetro de un círculo es $2 r \\pi$"
   ]
  },
  {
   "cell_type": "code",
   "execution_count": 14,
   "id": "1a12b633",
   "metadata": {},
   "outputs": [
    {
     "name": "stdout",
     "output_type": "stream",
     "text": [
      "Circulo(radio=3)\n",
      "Área: 28.274333882308138\n",
      "Perímetro: 18.84955592153876\n"
     ]
    }
   ],
   "source": [
    "c1 = Circulo(3)\n",
    "print(c1.resumen())\n",
    "print(\"Área:\", c1.area)\n",
    "print(\"Perímetro:\", c1.perimetro)"
   ]
  },
  {
   "cell_type": "markdown",
   "id": "53f8768d",
   "metadata": {},
   "source": [
    "En este caso, no es posible establecer una jerarquía que relacione directamente a la `Circulo` con `Cuadrado` y `Rectangulo`; no es ni un caso particular de las otras ni nos permitiría reutilizar ninguno de los métodos implementados.\n",
    "\n",
    "Sin embargo, sí es posible considerar a todas estas clases como casos particulares de una clase base mayor: las figuras geométricas."
   ]
  },
  {
   "cell_type": "markdown",
   "id": "de2c2e91",
   "metadata": {},
   "source": [
    "### Interfaz informal\n",
    "\n",
    "Vamos a crear una clase llamada `Forma`, que servirá como clase base para todas las figuras geométricas que implementemos.\n",
    "En ella, estableceremos que cualquier clase hija deberá contar con las propiedades `area` y `perimetro`, además de un método `resumen`.\n",
    "\n",
    "Como `Forma` representa un concepto general, no podemos dar una implementación concreta de estos métodos (ya que el cálculo del área o el perímetro depende de la figura específica).\n",
    "Por eso, en esta primera versión simplemente hacemos que los métodos devuelvan `None`, indicando que deberán ser implementados por las clases hijas."
   ]
  },
  {
   "cell_type": "code",
   "execution_count": 15,
   "id": "ebbf45d2",
   "metadata": {},
   "outputs": [
    {
     "name": "stdout",
     "output_type": "stream",
     "text": [
      "Forma()\n",
      "Área: None\n",
      "Perímetro: None\n"
     ]
    }
   ],
   "source": [
    "class Forma:\n",
    "    @property\n",
    "    def area(self):\n",
    "        return None\n",
    "\n",
    "    @property\n",
    "    def perimetro(self):\n",
    "        return None\n",
    "\n",
    "    def resumen(self):\n",
    "        return \"Forma()\"\n",
    "\n",
    "f1 = Forma()\n",
    "print(f1.resumen())\n",
    "print(\"Área:\", f1.area)\n",
    "print(\"Perímetro:\", f1.perimetro)"
   ]
  },
  {
   "cell_type": "markdown",
   "id": "11ebada2",
   "metadata": {},
   "source": [
    "Ahora, volvemos a implementar las clases `Rectangulo` y `Cuadrado`. \n",
    "Comenzamos con `Rectangulo`, haciendo que esta herede de `Forma`:"
   ]
  },
  {
   "cell_type": "code",
   "execution_count": 16,
   "id": "885b0407",
   "metadata": {},
   "outputs": [],
   "source": [
    "class Rectangulo(Forma):\n",
    "    def __init__(self, base, altura):\n",
    "        self.base = base\n",
    "        self.altura = altura\n",
    "\n",
    "    @property\n",
    "    def area(self):\n",
    "        return self.base * self.altura\n",
    "\n",
    "    @property\n",
    "    def perimetro(self):\n",
    "        return self.base * 2 + self.altura * 2\n",
    "\n",
    "    def resumen(self):\n",
    "        return f\"Rectangulo(base={self.base}, altura={self.altura})\""
   ]
  },
  {
   "cell_type": "markdown",
   "id": "29999251",
   "metadata": {},
   "source": [
    "Y vemos que todos sus métodos funcionan correctamente:"
   ]
  },
  {
   "cell_type": "code",
   "execution_count": 17,
   "id": "b31e7f5f",
   "metadata": {},
   "outputs": [
    {
     "name": "stdout",
     "output_type": "stream",
     "text": [
      "Rectangulo(base=5, altura=2)\n",
      "Área: 10\n",
      "Perímetro: 14\n"
     ]
    }
   ],
   "source": [
    "r1 = Rectangulo(5, 2)\n",
    "print(r1.resumen())\n",
    "print(\"Área:\", r1.area)\n",
    "print(\"Perímetro:\", r1.perimetro)"
   ]
  },
  {
   "cell_type": "markdown",
   "id": "08bc11f8",
   "metadata": {},
   "source": [
    "Hacemos lo propio con la clase `Cuadrado`.\n",
    "En este caso, no es necesario declarar explícitamente que hereda de `Forma`, porque la relación ya está establecida de manera indirecta: `Cuadrado` hereda de `Rectangulo`, y `Rectangulo` hereda de `Forma`.\n",
    "En otras palabras, como los rectángulos son formas geométricas y los cuadrados son rectángulos, se tiene que los cuadrados también son formas geométricas."
   ]
  },
  {
   "cell_type": "code",
   "execution_count": 18,
   "id": "9e2187a9",
   "metadata": {},
   "outputs": [
    {
     "name": "stdout",
     "output_type": "stream",
     "text": [
      "Cuadrado(lado=2)\n",
      "Área: 4\n",
      "Perímetro: 8\n"
     ]
    }
   ],
   "source": [
    "class Cuadrado(Rectangulo):\n",
    "    def __init__(self, lado):\n",
    "        self.lado = lado\n",
    "        self.base = lado\n",
    "        self.altura = lado\n",
    "\n",
    "    def resumen(self):\n",
    "        return f\"Cuadrado(lado={self.lado})\"\n",
    "\n",
    "c1 = Cuadrado(2)\n",
    "print(c1.resumen())\n",
    "print(\"Área:\", c1.area)\n",
    "print(\"Perímetro:\", c1.perimetro)"
   ]
  },
  {
   "cell_type": "markdown",
   "id": "6cde92f2",
   "metadata": {},
   "source": [
    "Por otro lado, volvemos a implementar la clase `Circulo`, esta vez heredando de `Forma`:"
   ]
  },
  {
   "cell_type": "code",
   "execution_count": 19,
   "id": "36ef86df",
   "metadata": {},
   "outputs": [
    {
     "name": "stdout",
     "output_type": "stream",
     "text": [
      "Circulo(radio=3)\n",
      "Área: 28.274333882308138\n",
      "Perímetro: 18.84955592153876\n"
     ]
    }
   ],
   "source": [
    "class Circulo(Forma):\n",
    "    def __init__(self, radio):\n",
    "        self.radio = radio\n",
    "\n",
    "    @property\n",
    "    def area(self):\n",
    "        return self.radio ** 2 * math.pi\n",
    "\n",
    "    @property\n",
    "    def perimetro(self):\n",
    "        return 2 * self.radio * math.pi\n",
    "\n",
    "    def resumen(self):\n",
    "        return f\"Circulo(radio={self.radio})\"\n",
    "\n",
    "ci1 = Circulo(3)\n",
    "print(ci1.resumen())\n",
    "print(\"Área:\", ci1.area)\n",
    "print(\"Perímetro:\", ci1.perimetro)"
   ]
  },
  {
   "cell_type": "markdown",
   "id": "1ef6294f",
   "metadata": {},
   "source": [
    "Y, finalmente, podemos ver que todas las relaciones entre los tipos creados se reflejan correctamente:"
   ]
  },
  {
   "cell_type": "code",
   "execution_count": 20,
   "id": "3f7cf2ba",
   "metadata": {},
   "outputs": [
    {
     "name": "stdout",
     "output_type": "stream",
     "text": [
      "True\n",
      "True\n"
     ]
    }
   ],
   "source": [
    "# r1 es Rectangulo y Forma\n",
    "print(isinstance(r1, Rectangulo))\n",
    "print(isinstance(r1, Forma))"
   ]
  },
  {
   "cell_type": "code",
   "execution_count": 21,
   "id": "6bc39d17",
   "metadata": {},
   "outputs": [
    {
     "name": "stdout",
     "output_type": "stream",
     "text": [
      "True\n",
      "True\n",
      "True\n"
     ]
    }
   ],
   "source": [
    "# c1 es Cuadrado, Rectangulo y Forma\n",
    "print(isinstance(c1, Cuadrado))\n",
    "print(isinstance(c1, Rectangulo))\n",
    "print(isinstance(c1, Forma))"
   ]
  },
  {
   "cell_type": "code",
   "execution_count": 22,
   "id": "a187dcdc",
   "metadata": {},
   "outputs": [
    {
     "name": "stdout",
     "output_type": "stream",
     "text": [
      "True\n",
      "True\n"
     ]
    }
   ],
   "source": [
    "# ci1 es Circulo y Forma\n",
    "print(isinstance(ci1, Circulo))\n",
    "print(isinstance(ci1, Forma))"
   ]
  },
  {
   "cell_type": "markdown",
   "id": "9d8549f5",
   "metadata": {},
   "source": [
    "### Interfaz formal\n",
    "\n",
    "En programación orientada a objetos existe un tipo especial de clase pensado para casos como el de `Forma`: clases que no se usan para crear objetos directamente, pero que sí definen una interfaz común para sus clases hijas e imponen la implementación de ciertos métodos y propiedades. A este tipo de clases se las conoce como **clases abstractas**.\n",
    "\n",
    "En Python, podemos crear una clase abstracta haciendo que herede de la clase `ABC` del módulo estándar `abc` (cuyas siglas significan _abstract base class_).\n",
    "Este módulo también ofrece el decorador `@abstractmethod`, que permite definir métodos abstractos y obliga a las clases hijas a implementarlos.\n",
    "Además, si combinamos `@abstractmethod` con `@property`, podemos crear propiedades abstractas que deberán ser definidas en las subclases.\n",
    "\n",
    "Implementemos ahora la clase abstracta `Forma`."
   ]
  },
  {
   "cell_type": "code",
   "execution_count": 23,
   "id": "21dbf1a3",
   "metadata": {},
   "outputs": [],
   "source": [
    "from abc import ABC, abstractmethod\n",
    "\n",
    "class Forma(ABC):  # <1>\n",
    "    @property  # <2>\n",
    "    @abstractmethod # <2>\n",
    "    def area(self): # <2>\n",
    "        pass # <2>\n",
    "\n",
    "    @property # <3>\n",
    "    @abstractmethod # <3>\n",
    "    def perimetro(self): # <3>\n",
    "        pass # <3>\n",
    "\n",
    "    @abstractmethod # <4>\n",
    "    def resumen(self): # <4>\n",
    "        pass # <4>"
   ]
  },
  {
   "cell_type": "markdown",
   "id": "4a006a73",
   "metadata": {},
   "source": [
    "1. Se comienza a implementar la clase `Forma`, que hereda de la clase `ABC`.\n",
    "2. Se implementa la propiedad abstracta `area`. La decoración con `@property` y `@abstractmethod` obligan a las clases hijas a implementar un método `area` decorado con `@property`. Se usa `pass` porque no se provee una implementación concreta.\n",
    "3. Se implementa la propiedad abstracta `perimetro` de manera similar a `area`.\n",
    "4. Se implementa el método abstracto `resumen`, que las clases hijas deben implementar como un método regular."
   ]
  },
  {
   "cell_type": "markdown",
   "id": "3f83dcc9",
   "metadata": {},
   "source": [
    "Si intentamos crear un objeto `Forma` obtendremos un error porque esta clase no está pensada para crear objetos, sino para servir como modelo o interfaz común de otras clases."
   ]
  },
  {
   "cell_type": "markdown",
   "id": "d6c59802",
   "metadata": {},
   "source": [
    "```python\n",
    "Forma()\n",
    "```\n",
    "\n",
    ":::{.code-error}\n",
    "```python\n",
    "TypeError: Can't instantiate abstract class Forma without an implementation for abstract methods 'area', 'perimetro', 'resumen'\n",
    "```\n",
    ":::"
   ]
  },
  {
   "cell_type": "markdown",
   "id": "5652b6c7",
   "metadata": {},
   "source": [
    "Tampoco podemos crear una clase que herede de forma e implemente solamente alguno de los métodos abstractos. Por ejemplo, si la clase `Rectangulo` no implementa el método `resumen`, también se obtiene un error.\n",
    "\n",
    "```python\n",
    "class Rectangulo(Forma):\n",
    "    def __init__(self, base, altura):\n",
    "        self.base = base\n",
    "        self.altura = altura\n",
    "\n",
    "    @property\n",
    "    def area(self):\n",
    "        return self.base * self.altura\n",
    "\n",
    "    @property\n",
    "    def perimetro(self):\n",
    "        return self.base * 2 + self.altura * 2\n",
    "\n",
    "Rectangulo(2, 1)\n",
    "```\n",
    "\n",
    "::: {.code-error}\n",
    "```python\n",
    "TypeError: Can't instantiate abstract class Rectangulo without an implementation for abstract method 'resumen'\n",
    "```\n",
    ":::"
   ]
  },
  {
   "cell_type": "markdown",
   "id": "1f1d43ef",
   "metadata": {},
   "source": [
    "Para que la implementación de una clase derivada de una clase abstracta no arroje ningún error, es necesario implementar todos los métodos y propiedades abstractas de la clase base, como se hace a continuación:"
   ]
  },
  {
   "cell_type": "code",
   "execution_count": 24,
   "id": "e9208b03",
   "metadata": {},
   "outputs": [
    {
     "data": {
      "text/plain": [
       "'Rectangulo(base=2, altura=1)'"
      ]
     },
     "execution_count": null,
     "metadata": {},
     "output_type": "execute_result"
    }
   ],
   "source": [
    "class Rectangulo(Forma):\n",
    "    def __init__(self, base, altura):\n",
    "        self.base = base\n",
    "        self.altura = altura\n",
    "\n",
    "    @property\n",
    "    def area(self):\n",
    "        return self.base * self.altura\n",
    "\n",
    "    @property\n",
    "    def perimetro(self):\n",
    "        return self.base * 2 + self.altura * 2\n",
    "\n",
    "    def resumen(self):\n",
    "        return f\"Rectangulo(base={self.base}, altura={self.altura})\"\n",
    "\n",
    "r = Rectangulo(2, 1)\n",
    "r.resumen()"
   ]
  },
  {
   "cell_type": "markdown",
   "id": "6a513792",
   "metadata": {},
   "source": [
    "De manera análoga, se pueden reimplementar las clases `Cuadrado` y `Rectangulo`."
   ]
  },
  {
   "cell_type": "code",
   "execution_count": 25,
   "id": "8e191ef9",
   "metadata": {},
   "outputs": [
    {
     "name": "stdout",
     "output_type": "stream",
     "text": [
      "Cuadrado(lado=2)\n",
      "Circulo(radio=1.5)\n"
     ]
    }
   ],
   "source": [
    "class Cuadrado(Rectangulo):\n",
    "    def __init__(self, lado):\n",
    "        self.lado = lado\n",
    "        self.base = lado\n",
    "        self.altura = lado\n",
    "\n",
    "    def resumen(self):\n",
    "        return f\"Cuadrado(lado={self.lado})\"\n",
    "\n",
    "\n",
    "class Circulo(Forma):\n",
    "    def __init__(self, radio):\n",
    "        self.radio = radio\n",
    "\n",
    "    @property\n",
    "    def area(self):\n",
    "        return self.radio ** 2 * math.pi\n",
    "\n",
    "    @property\n",
    "    def perimetro(self):\n",
    "        return self.radio ** 2 * math.pi\n",
    "\n",
    "    def resumen(self):\n",
    "        return f\"Circulo(radio={self.radio})\"\n",
    "\n",
    "c = Cuadrado(2)\n",
    "print(c.resumen())\n",
    "ci = Circulo(1.5)\n",
    "print(ci.resumen())"
   ]
  },
  {
   "cell_type": "code",
   "execution_count": 26,
   "id": "b74c25db",
   "metadata": {},
   "outputs": [
    {
     "name": "stdout",
     "output_type": "stream",
     "text": [
      "True\n",
      "True\n",
      "True\n"
     ]
    }
   ],
   "source": [
    "print(isinstance(r, Forma))\n",
    "print(isinstance(c, Forma))\n",
    "print(isinstance(ci, Forma))"
   ]
  },
  {
   "cell_type": "markdown",
   "id": "887e06e0",
   "metadata": {},
   "source": [
    "Al utilizar una clase abstracta como `Forma`, no solo definimos una clase base que engloba a todos los tipos de figuras geométricas que podamos implementar,\n",
    "sino que también garantizamos que esas clases implementen los métodos y propiedades abstractas necesarias (`area`, `perimetro` y `resumen`).\n",
    "El uso de la clases abstractas impone un contrato claro que hace que el código sea más predecible y fácil de mantener."
   ]
  },
  {
   "cell_type": "markdown",
   "id": "3e279c53",
   "metadata": {},
   "source": [
    "::: {.callout-note}\n",
    "##### Afinando el vocabulario\n",
    "\n",
    "A lo largo de este apunte mencionamos muchos términos relacionados a la programación orientada a objetos, es hora de afinar el vocabulario:\n",
    "\n",
    "* **Clase padre (o clase base)**: es la clase de la que heredan otras. Puede ser concreta o abstracta, y define atributos y métodos comunes que las clases hijas pueden reutilizar, extender o modificar.\n",
    "* **Clase hija (o clase derivada)**: es la clase que hereda de una clase padre. Hereda sus atributos y métodos, y puede agregar nueva funcionalidad o redefinir la existente.\n",
    "* **Clase abstracta**: es una clase que sirve como modelo general y no está pensada para crear objetos directamente. Puede contener métodos sin implementar, que deberán definirse en las clases hijas.\n",
    "* **Implementación concreta**: es una clase o método completamente definido y funcional, que puede usarse directamente para crear objetos o ejecutar comportamiento.\n",
    "\n",
    ":::\n"
   ]
  },
  {
   "cell_type": "markdown",
   "id": "3c7290a2",
   "metadata": {},
   "source": [
    "## Herencia múltiple\n",
    "\n",
    "- En principio, es un concepto sencillo: una clase que hereda desde más de una _parent class_ y puede acceder a funcionalidades de ambos.\n",
    "- En la práctica, hay que ser cuidadosos con los _overrides_ de los métodos."
   ]
  },
  {
   "cell_type": "code",
   "execution_count": 27,
   "id": "b0e3184a",
   "metadata": {},
   "outputs": [],
   "source": [
    "import random\n",
    "\n",
    "import matplotlib.pyplot as plt\n",
    "\n",
    "\n",
    "class Distribucion(ABC):\n",
    "    @abstractmethod\n",
    "    def muestra(self):\n",
    "        pass\n",
    "\n",
    "    @abstractmethod\n",
    "    def plot(self):\n",
    "        pass\n",
    "\n",
    "    def muestras(self, n=1):\n",
    "        return [self.muestra() for _ in range(n)]\n",
    "\n",
    "\n",
    "class Normal(Distribucion):\n",
    "    def __init__(self, mu, sigma):\n",
    "        self.mu = mu\n",
    "        self.sigma = sigma\n",
    "\n",
    "    def pdf(self, x):\n",
    "        a = 1 / (self.sigma * (2 * math.pi) ** 0.5)\n",
    "        b = math.exp( - 0.5 * ((x - self.mu) ** 2 / self.sigma ** 2))\n",
    "        return a * b\n",
    "\n",
    "    def muestra(self):\n",
    "        return random.normalvariate(mu=self.mu, sigma=self.sigma)\n",
    "\n",
    "    def plot(self):\n",
    "        # Construir valores de 'x'\n",
    "        x_inicio = self.mu - self.sigma * 3\n",
    "        x_fin = self.mu + self.sigma * 3\n",
    "        x_paso = (x_fin - x_inicio) / 500\n",
    "        xs = [x_inicio + x_paso * i for i in range(500)]\n",
    "\n",
    "        # Construir valores de 'y'\n",
    "        ys = [self.pdf(x) for x in xs]\n",
    "\n",
    "        # Crear gráfico\n",
    "        plt.plot(xs, ys)\n",
    "        plt.xlabel(\"x\")\n",
    "        plt.ylabel(\"p(x)\")\n",
    "        plt.title(f\"Normal(mu={self.mu}, sigma={self.sigma})\")\n",
    "        plt.show()\n"
   ]
  },
  {
   "cell_type": "code",
   "execution_count": 28,
   "id": "d47cd804",
   "metadata": {},
   "outputs": [],
   "source": [
    "normal = Normal(mu=3, sigma=0.75)"
   ]
  },
  {
   "cell_type": "code",
   "execution_count": 29,
   "id": "ad66c402",
   "metadata": {},
   "outputs": [
    {
     "data": {
      "text/plain": [
       "3.3429103284342316"
      ]
     },
     "execution_count": null,
     "metadata": {},
     "output_type": "execute_result"
    }
   ],
   "source": [
    "normal.muestra()"
   ]
  },
  {
   "cell_type": "code",
   "execution_count": 30,
   "id": "3a2465a1",
   "metadata": {},
   "outputs": [
    {
     "data": {
      "text/plain": [
       "[1.9112898234082452,\n",
       " 2.80990783047034,\n",
       " 2.865236558604998,\n",
       " 0.4439101162294219,\n",
       " 3.338698199082298]"
      ]
     },
     "execution_count": null,
     "metadata": {},
     "output_type": "execute_result"
    }
   ],
   "source": [
    "normal.muestras(5)"
   ]
  },
  {
   "cell_type": "code",
   "execution_count": 31,
   "id": "6a8b7668",
   "metadata": {},
   "outputs": [
    {
     "data": {
      "text/plain": [
       "0.21868009956799153"
      ]
     },
     "execution_count": null,
     "metadata": {},
     "output_type": "execute_result"
    }
   ],
   "source": [
    "normal.pdf(2)"
   ]
  },
  {
   "cell_type": "code",
   "execution_count": 32,
   "id": "b8863461",
   "metadata": {},
   "outputs": [
    {
     "data": {
      "text/plain": [
       "(0.425930674029803, 0.5319230405352436, 0.425930674029803)"
      ]
     },
     "execution_count": null,
     "metadata": {},
     "output_type": "execute_result"
    }
   ],
   "source": [
    "normal.pdf(2.5), normal.pdf(3), normal.pdf(3.5)"
   ]
  },
  {
   "cell_type": "code",
   "execution_count": 33,
   "id": "41bb92d0",
   "metadata": {},
   "outputs": [
    {
     "data": {
      "image/png": "[encoded data removed]",
      "text/plain": [
       "<Figure size 640x480 with 1 Axes>"
      ]
     },
     "metadata": {},
     "output_type": "display_data"
    }
   ],
   "source": [
    "normal.plot()"
   ]
  },
  {
   "cell_type": "code",
   "execution_count": 34,
   "id": "0c5c7345",
   "metadata": {},
   "outputs": [],
   "source": [
    "class Poisson(Distribucion):\n",
    "    def __init__(self, lam):\n",
    "        self.lam = lam\n",
    "\n",
    "    def pmf(self, x):\n",
    "        return (math.exp(-self.lam) * self.lam ** x) / math.factorial(x)\n",
    "\n",
    "    def muestra(self):\n",
    "        S, N = 0, 0\n",
    "        while S < 1:\n",
    "            u = random.uniform(0, 1)\n",
    "            N += 1\n",
    "            S += - math.log(u) / self.lam\n",
    "        return N - 1\n",
    "\n",
    "    def plot(self):\n",
    "        # Construir valores de 'x'\n",
    "        xs = []\n",
    "        x, cdf = 0, 0\n",
    "        while cdf < 0.999:\n",
    "            xs.append(x)\n",
    "            cdf += self.pmf(x)\n",
    "            x += 1\n",
    "\n",
    "        # Construir valores de 'y'\n",
    "        ys = [self.pmf(x) for x in xs]\n",
    "\n",
    "        plt.vlines(xs, ymin=0, ymax=ys, lw=3)\n",
    "        plt.xlabel(\"x\")\n",
    "        plt.ylabel(\"P(X = x)\")\n",
    "        plt.title(f\"Poisson(lam={self.lam})\")\n",
    "        plt.show()"
   ]
  },
  {
   "cell_type": "code",
   "execution_count": 35,
   "id": "66b88e14",
   "metadata": {},
   "outputs": [
    {
     "data": {
      "text/plain": [
       "3"
      ]
     },
     "execution_count": null,
     "metadata": {},
     "output_type": "execute_result"
    }
   ],
   "source": [
    "poisson = Poisson(3)\n",
    "poisson.muestra()"
   ]
  },
  {
   "cell_type": "code",
   "execution_count": 36,
   "id": "5cd66630",
   "metadata": {},
   "outputs": [
    {
     "data": {
      "text/plain": [
       "[0, 4, 4, 2, 0]"
      ]
     },
     "execution_count": null,
     "metadata": {},
     "output_type": "execute_result"
    }
   ],
   "source": [
    "poisson.muestras(5)"
   ]
  },
  {
   "cell_type": "code",
   "execution_count": 37,
   "id": "4bfb9a10",
   "metadata": {},
   "outputs": [
    {
     "data": {
      "text/plain": [
       "0.22404180765538775"
      ]
     },
     "execution_count": null,
     "metadata": {},
     "output_type": "execute_result"
    }
   ],
   "source": [
    "poisson.pmf(3)"
   ]
  },
  {
   "cell_type": "code",
   "execution_count": 38,
   "id": "ab7db7c0",
   "metadata": {},
   "outputs": [
    {
     "data": {
      "image/png": "[encoded data removed]",
      "text/plain": [
       "<Figure size 640x480 with 1 Axes>"
      ]
     },
     "metadata": {},
     "output_type": "display_data"
    }
   ],
   "source": [
    "poisson.plot()"
   ]
  },
  {
   "cell_type": "code",
   "execution_count": 39,
   "id": "f1d86f1b",
   "metadata": {},
   "outputs": [
    {
     "data": {
      "image/png": "[encoded data removed]",
      "text/plain": [
       "<Figure size 640x480 with 1 Axes>"
      ]
     },
     "metadata": {},
     "output_type": "display_data"
    }
   ],
   "source": [
    "Poisson(5).plot()"
   ]
  },
  {
   "cell_type": "code",
   "execution_count": 40,
   "id": "604fbb0e",
   "metadata": {},
   "outputs": [
    {
     "data": {
      "image/png": "[encoded data removed]",
      "text/plain": [
       "<Figure size 640x480 with 1 Axes>"
      ]
     },
     "metadata": {},
     "output_type": "display_data"
    }
   ],
   "source": [
    "Poisson(10).plot()"
   ]
  },
  {
   "cell_type": "code",
   "execution_count": 41,
   "id": "e7fe4345",
   "metadata": {},
   "outputs": [],
   "source": [
    "class Distribucion(ABC):\n",
    "    @abstractmethod\n",
    "    def muestra(self):\n",
    "        pass\n",
    "\n",
    "    @abstractmethod\n",
    "    def plot(self):\n",
    "        pass\n",
    "\n",
    "    def muestras(self, n=1):\n",
    "        return [self.muestra() for _ in range(n)]\n",
    "\n",
    "\n",
    "class Discreta(ABC):\n",
    "    @abstractmethod\n",
    "    def pmf(self, x):\n",
    "        pass\n",
    "\n",
    "    def crear_grafico(self, xs):\n",
    "        ys = [self.pmf(x) for x in xs]\n",
    "        plt.vlines(xs, ymin=0, ymax=ys, lw=3)\n",
    "        plt.xlabel(\"x\")\n",
    "        plt.ylabel(\"P(X = x)\")\n",
    "\n",
    "class Continua(ABC):\n",
    "    @abstractmethod\n",
    "    def pdf(self, x):\n",
    "        pass\n",
    "\n",
    "    def crear_grafico(self, xs):\n",
    "        ys = [self.pdf(x) for x in xs]\n",
    "        plt.plot(xs, ys)\n",
    "        plt.xlabel(\"x\")\n",
    "        plt.ylabel(\"p(x)\")"
   ]
  },
  {
   "cell_type": "code",
   "execution_count": 42,
   "id": "cd4379aa",
   "metadata": {},
   "outputs": [
    {
     "data": {
      "image/png": "[encoded data removed]",
      "text/plain": [
       "<Figure size 640x480 with 1 Axes>"
      ]
     },
     "metadata": {},
     "output_type": "display_data"
    }
   ],
   "source": [
    "class Normal(Distribucion, Continua):\n",
    "    def __init__(self, mu, sigma):\n",
    "        self.mu = mu\n",
    "        self.sigma = sigma\n",
    "\n",
    "    def pdf(self, x):\n",
    "        a = 1 / (self.sigma * (2 * math.pi) ** 0.5)\n",
    "        b = math.exp( - 0.5 * ((x - self.mu) ** 2 / self.sigma ** 2))\n",
    "        return a * b\n",
    "\n",
    "    def muestra(self):\n",
    "        return random.normalvariate(mu=self.mu, sigma=self.sigma)\n",
    "\n",
    "    def plot(self):\n",
    "        x_inicio = self.mu - self.sigma * 3\n",
    "        x_fin = self.mu + self.sigma * 3\n",
    "        x_paso = (x_fin - x_inicio) / 500\n",
    "        xs = [x_inicio + x_paso * i for i in range(500)]\n",
    "        self.crear_grafico(xs)\n",
    "        plt.title(f\"Normal(mu={self.mu}, sigma={self.sigma})\")\n",
    "        plt.show()\n",
    "\n",
    "Normal(2, 1).plot()"
   ]
  },
  {
   "cell_type": "code",
   "execution_count": 43,
   "id": "89de4b16",
   "metadata": {},
   "outputs": [],
   "source": [
    "class Poisson(Distribucion, Discreta):\n",
    "    def __init__(self, lam):\n",
    "        self.lam = lam\n",
    "\n",
    "    def pmf(self, x):\n",
    "        return (math.exp(-self.lam) * self.lam ** x) / math.factorial(x)\n",
    "\n",
    "    def muestra(self):\n",
    "        S, N = 0, 0\n",
    "        while S < 1:\n",
    "            u = random.uniform(0, 1)\n",
    "            N += 1\n",
    "            S += - math.log(u) / self.lam\n",
    "        return N - 1\n",
    "\n",
    "    def plot(self):\n",
    "        xs = []\n",
    "        x, cdf = 0, 0\n",
    "        while cdf < 0.999:\n",
    "            xs.append(x)\n",
    "            cdf += self.pmf(x)\n",
    "            x += 1\n",
    "\n",
    "        self.crear_grafico(xs)\n",
    "        plt.title(f\"Poisson(lam={self.lam})\")\n",
    "        plt.show()"
   ]
  },
  {
   "cell_type": "code",
   "execution_count": 44,
   "id": "26031286",
   "metadata": {},
   "outputs": [
    {
     "data": {
      "image/png": "[encoded data removed]",
      "text/plain": [
       "<Figure size 640x480 with 1 Axes>"
      ]
     },
     "metadata": {},
     "output_type": "display_data"
    }
   ],
   "source": [
    "Poisson(4).plot()"
   ]
  },
  {
   "cell_type": "markdown",
   "id": "5fc345fd",
   "metadata": {},
   "source": [
    "::: {.callout-warning}\n",
    "\n",
    "Algo de herencia múltiple y conflictos de métodos... mostrar un ejemplo y mencionar brevemente el MRO.\n",
    "\n",
    ":::"
   ]
  },
  {
   "cell_type": "markdown",
   "id": "2834355b",
   "metadata": {},
   "source": [
    "## Errores\n",
    "\n",
    "* Errores\n",
    "    - Elevacion de errores\n",
    "    - Implementacion de errores"
   ]
  },
  {
   "cell_type": "code",
   "execution_count": 45,
   "id": "4e6625e0",
   "metadata": {},
   "outputs": [
    {
     "name": "stdout",
     "output_type": "stream",
     "text": [
      "Agregando: ¿funciona?\n",
      "Agregando: ¿y esto?\n"
     ]
    },
    {
     "data": {
      "text/plain": [
       "['¿funciona?', '¿y esto?', '¡no lo puedo creer!']"
      ]
     },
     "execution_count": null,
     "metadata": {},
     "output_type": "execute_result"
    }
   ],
   "source": [
    "### Uso de `super()`\n",
    "\n",
    "class ListaRuidosa(list):\n",
    "    def append(self, elemento):\n",
    "        print(\"Agregando:\", elemento)\n",
    "        super().append(elemento)\n",
    "\n",
    "lista_ruidosa = ListaRuidosa()\n",
    "lista_ruidosa\n",
    "\n",
    "lista_ruidosa.append(\"¿funciona?\")\n",
    "\n",
    "lista_ruidosa.append(\"¿y esto?\")\n",
    "\n",
    "lista_ruidosa\n",
    "\n",
    "l = lista_ruidosa + [\"¡no lo puedo creer!\"]\n",
    "l"
   ]
  }
 ],
 "metadata": {
  "language_info": {
   "name": "python"
  }
 },
 "nbformat": 4,
 "nbformat_minor": 5
}
