{
 "cells": [
  {
   "cell_type": "markdown",
   "id": "02f80d23",
   "metadata": {},
   "source": [
    "---\n",
    "title: \"3 - Herencia y polimorfismo\"\n",
    "toc: true\n",
    "---"
   ]
  },
  {
   "cell_type": "markdown",
   "id": "13a2e8a1",
   "metadata": {},
   "source": [
    "* Herencia simple\n",
    "* Herencia múltiple\n",
    "* Polimorfismo\n",
    "* Uso práctico de super()\n",
    "* Sobrescritura de métodos"
   ]
  }
 ],
 "metadata": {
  "language_info": {
   "name": "plaintext"
  }
 },
 "nbformat": 4,
 "nbformat_minor": 5
}
