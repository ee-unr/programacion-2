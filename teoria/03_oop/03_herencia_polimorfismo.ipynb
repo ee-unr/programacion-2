{
 "cells": [
  {
   "cell_type": "markdown",
   "id": "02f80d23",
   "metadata": {},
   "source": [
    "---\n",
    "title: \"3 - Herencia y polimorfismo\"\n",
    "toc: true\n",
    "---"
   ]
  },
  {
   "cell_type": "markdown",
   "id": "13a2e8a1",
   "metadata": {},
   "source": [
    "* Herencia simple\n",
    "* Herencia múltiple\n",
    "* Polimorfismo\n",
    "* Uso práctico de super()\n",
    "* Sobrescritura de métodos"
   ]
  },
  {
   "cell_type": "markdown",
   "id": "86869e9a",
   "metadata": {},
   "source": [
    "* Herencia\n",
    "    * Simple\n",
    "        - Figuras geometricas, sin herencia\n",
    "        - Usamos herencia simple, sin errores\n",
    "        - Sobreescritura de metodos\n",
    "        - Polimorfismo\n",
    "* Multiple\n",
    "    - Uso de `super()`\n",
    "        - Lista ruidosa\n",
    "            ```python\n",
    "            class MyList(list):\n",
    "                def append(self, item):\n",
    "                    print(\"Agregando:\", item)\n",
    "                    super().append(item)\n",
    "            ml = MyList()\n",
    "            ml.append(42)\n",
    "            # Agregando: 42\n",
    "            ```\n",
    "    - MRO\n",
    "* Errores\n",
    "    - Elevacion de errores\n",
    "    - Implementacion de errores"
   ]
  },
  {
   "cell_type": "markdown",
   "id": "9ee71eae",
   "metadata": {},
   "source": [
    "## De ángulos rectos"
   ]
  },
  {
   "cell_type": "code",
   "execution_count": 15,
   "id": "69b2ce3a",
   "metadata": {},
   "outputs": [],
   "source": [
    "import math\n",
    "\n",
    "class Rectangulo:\n",
    "    def __init__(self, base, altura):\n",
    "        self.base = base\n",
    "        self.altura = altura\n",
    "\n",
    "    def area(self):\n",
    "        return self.base * self.altura\n",
    "\n",
    "    def perimetro(self):\n",
    "        return self.base * 2 + self.altura * 2\n",
    "\n",
    "    def resumen(self):\n",
    "        return f\"Rectangulo(base={self.base}, altura={self.altura})\"\n",
    "\n",
    "\n",
    "class Cuadrado:\n",
    "    def __init__(self, lado):\n",
    "        self.lado = lado\n",
    "\n",
    "    def area(self):\n",
    "        return self.lado * self.lado\n",
    "\n",
    "    def perimetro(self):\n",
    "        return self.lado * 4\n",
    "\n",
    "    def resumen(self):\n",
    "        return f\"Cuadrado(lado={self.lado})\""
   ]
  },
  {
   "cell_type": "code",
   "execution_count": 16,
   "id": "1bc72a23",
   "metadata": {},
   "outputs": [
    {
     "data": {
      "text/plain": [
       "(9, 12, 'Cuadrado(lado=3)')"
      ]
     },
     "execution_count": null,
     "metadata": {},
     "output_type": "execute_result"
    }
   ],
   "source": [
    "r1 = Rectangulo(3, 7)\n",
    "r1.area(), r1.perimetro(), r1.resumen()\n",
    "\n",
    "c1 = Cuadrado(3)\n",
    "c1.area(), c1.perimetro(), c1.resumen()"
   ]
  },
  {
   "cell_type": "code",
   "execution_count": null,
   "id": "447a14c2",
   "metadata": {},
   "outputs": [
    {
     "data": {
      "text/plain": [
       "(9, 12)"
      ]
     },
     "execution_count": null,
     "metadata": {},
     "output_type": "execute_result"
    }
   ],
   "source": [
    "class Cuadrado(Rectangulo):\n",
    "    def __init__(self, lado):\n",
    "        self.base = lado\n",
    "        self.altura = lado\n",
    "\n",
    "c1 = Cuadrado(3)\n",
    "c1.area(), c1.perimetro()"
   ]
  },
  {
   "cell_type": "code",
   "execution_count": 20,
   "id": "b003be8e",
   "metadata": {},
   "outputs": [
    {
     "data": {
      "text/plain": [
       "'Rectangulo(base=3, altura=3)'"
      ]
     },
     "execution_count": null,
     "metadata": {},
     "output_type": "execute_result"
    }
   ],
   "source": [
    "c1.resumen()"
   ]
  },
  {
   "cell_type": "code",
   "execution_count": 21,
   "id": "8b838157",
   "metadata": {},
   "outputs": [
    {
     "data": {
      "text/plain": [
       "'Cuadrado(lado=3)'"
      ]
     },
     "execution_count": null,
     "metadata": {},
     "output_type": "execute_result"
    }
   ],
   "source": [
    "class Cuadrado(Rectangulo):\n",
    "    def __init__(self, lado):\n",
    "        self.base = lado\n",
    "        self.altura = lado\n",
    "\n",
    "    def resumen(self):\n",
    "        return f\"Cuadrado(lado={self.base})\"\n",
    "\n",
    "c1 = Cuadrado(3)\n",
    "c1.resumen()"
   ]
  },
  {
   "cell_type": "code",
   "execution_count": 23,
   "id": "fc391351",
   "metadata": {},
   "outputs": [
    {
     "data": {
      "text/plain": [
       "<bound method Rectangulo.area of <__main__.Cuadrado object at 0x7f8b70e2db20>>"
      ]
     },
     "execution_count": null,
     "metadata": {},
     "output_type": "execute_result"
    }
   ],
   "source": [
    "c1.area"
   ]
  },
  {
   "cell_type": "code",
   "execution_count": 22,
   "id": "57117df6",
   "metadata": {},
   "outputs": [
    {
     "data": {
      "text/plain": [
       "<bound method Rectangulo.perimetro of <__main__.Cuadrado object at 0x7f8b70e2db20>>"
      ]
     },
     "execution_count": null,
     "metadata": {},
     "output_type": "execute_result"
    }
   ],
   "source": [
    "c1.perimetro"
   ]
  },
  {
   "cell_type": "code",
   "execution_count": null,
   "id": "7443d2e1",
   "metadata": {},
   "outputs": [],
   "source": [
    "class Circulo:\n",
    "    def __init__(self, radio):\n",
    "        self.radio = radio\n",
    "\n",
    "    def area(self):\n",
    "        return self.radio ** 2 * math.pi\n",
    "\n",
    "    def perimetro(self):\n",
    "        return self.radio ** 2 * math.pi\n",
    "\n",
    "    def resumen(self):\n",
    "        return f\"Circulo(radio={self.radio})\"\n",
    "\n",
    "c1 = Circulo(2)\n",
    "c1.area(), c1.perimetro(), c1.resumen()"
   ]
  },
  {
   "cell_type": "code",
   "execution_count": 34,
   "id": "3514f8c1",
   "metadata": {},
   "outputs": [],
   "source": [
    "class Forma:\n",
    "    def area(self):\n",
    "        print(\"¡Error! Método aún no implementado.\")\n",
    "\n",
    "    def perimetro(self):\n",
    "        print(\"¡Error! Método aún no implementado.\")\n",
    "\n",
    "    def resumen(self):\n",
    "        return \"Forma()\"\n",
    "\n",
    "f = Forma()"
   ]
  },
  {
   "cell_type": "code",
   "execution_count": 35,
   "id": "2723887b",
   "metadata": {},
   "outputs": [
    {
     "name": "stdout",
     "output_type": "stream",
     "text": [
      "¡Error! Método aún no implementado.\n"
     ]
    }
   ],
   "source": [
    "f.area()"
   ]
  },
  {
   "cell_type": "code",
   "execution_count": 36,
   "id": "cdce8e7f",
   "metadata": {},
   "outputs": [
    {
     "name": "stdout",
     "output_type": "stream",
     "text": [
      "¡Error! Método aún no implementado.\n"
     ]
    }
   ],
   "source": [
    "f.perimetro()"
   ]
  },
  {
   "cell_type": "code",
   "execution_count": 37,
   "id": "7abd799a",
   "metadata": {},
   "outputs": [
    {
     "data": {
      "text/plain": [
       "'Forma()'"
      ]
     },
     "execution_count": null,
     "metadata": {},
     "output_type": "execute_result"
    }
   ],
   "source": [
    "f.resumen()"
   ]
  },
  {
   "cell_type": "code",
   "execution_count": 38,
   "id": "3054cb40",
   "metadata": {},
   "outputs": [],
   "source": [
    "class Rectangulo(Forma):\n",
    "    def __init__(self, base, altura):\n",
    "        self.base = base\n",
    "        self.altura = altura\n",
    "\n",
    "    def area(self):\n",
    "        return self.base * self.altura\n",
    "\n",
    "    def perimetro(self):\n",
    "        return self.base * 2 + self.altura * 2\n",
    "\n",
    "    def resumen(self):\n",
    "        return f\"Rectangulo(base={self.base}, altura={self.altura})\""
   ]
  },
  {
   "cell_type": "code",
   "execution_count": 33,
   "id": "61e7a0c3",
   "metadata": {},
   "outputs": [
    {
     "data": {
      "text/plain": [
       "(10, 14, 'Rectangulo(base=5, altura=2)')"
      ]
     },
     "execution_count": null,
     "metadata": {},
     "output_type": "execute_result"
    }
   ],
   "source": [
    "r1 = Rectangulo(5, 2)\n",
    "r1.area(), r1.perimetro(), r1.resumen()"
   ]
  },
  {
   "cell_type": "code",
   "execution_count": null,
   "id": "7a0b6743",
   "metadata": {},
   "outputs": [],
   "source": [
    "class Cuadrado(Rectangulo):\n",
    "    def __init__(self, lado):\n",
    "        self.base = lado\n",
    "        self.altura = lado\n",
    "\n",
    "    def resumen(self):\n",
    "        return f\"Cuadrado(lado={self.base})\"\n",
    "\n",
    "c1 = Cuadrado()"
   ]
  },
  {
   "cell_type": "code",
   "execution_count": 159,
   "id": "2e82d663",
   "metadata": {},
   "outputs": [
    {
     "name": "stdout",
     "output_type": "stream",
     "text": [
      "┌ ─  ─  ─ ┐\n",
      "│         │\n",
      "│         │\n",
      "│         │\n",
      "└ ─  ─  ─ ┘\n"
     ]
    }
   ],
   "source": [
    "class Forma:\n",
    "    def area(self):\n",
    "        print(\"¡Error! Método aún no implementado.\")\n",
    "\n",
    "    def perimetro(self):\n",
    "        print(\"¡Error! Método aún no implementado.\")\n",
    "\n",
    "    def resumen(self):\n",
    "        return \"Forma()\"\n",
    "\n",
    "    def dibujo(self):\n",
    "        return None\n",
    "\n",
    "class Rectangulo(Forma):\n",
    "    def __init__(self, base, altura):\n",
    "        self.base = base\n",
    "        self.altura = altura\n",
    "\n",
    "    def area(self):\n",
    "        return self.base * self.altura\n",
    "\n",
    "    def perimetro(self):\n",
    "        return self.base * 2 + self.altura * 2\n",
    "\n",
    "    def resumen(self):\n",
    "        return f\"Rectangulo(base={self.base}, altura={self.altura})\"\n",
    "\n",
    "    def dibujo(self):\n",
    "        # Línea superior\n",
    "        print(\"┌\" + \" ─ \" * (self.base) + \"┐\")\n",
    "\n",
    "        # Líneas intermedias\n",
    "        for _ in range(self.altura):\n",
    "            print(\"│\" + \"   \" * (self.base) + \"│\")\n",
    "\n",
    "        # Línea inferior\n",
    "        print(\"└\" + \" ─ \" * (self.base) + \"┘\")\n",
    "\n",
    "\n",
    "class Cuadrado(Rectangulo):\n",
    "    def __init__(self, lado):\n",
    "        self.base = lado\n",
    "        self.altura = lado\n",
    "\n",
    "    def resumen(self):\n",
    "        return f\"Cuadrado(lado={self.base})\"\n",
    "\n",
    "Rectangulo(3, 3).dibujo()"
   ]
  },
  {
   "cell_type": "code",
   "execution_count": 162,
   "id": "3e8448bd",
   "metadata": {},
   "outputs": [
    {
     "name": "stdout",
     "output_type": "stream",
     "text": [
      "┌ ─  ─  ─ ┐\n",
      "│         │\n",
      "│         │\n",
      "└ ─  ─  ─ ┘\n",
      "┌ ─  ─  ─ ┐\n",
      "│         │\n",
      "│         │\n",
      "│         │\n",
      "└ ─  ─  ─ ┘\n",
      "┌ ─  ─  ─  ─ ┐\n",
      "│            │\n",
      "│            │\n",
      "│            │\n",
      "└ ─  ─  ─  ─ ┘\n",
      "┌ ─  ─  ─  ─  ─  ─ ┐\n",
      "│                  │\n",
      "│                  │\n",
      "│                  │\n",
      "│                  │\n",
      "└ ─  ─  ─  ─  ─  ─ ┘\n",
      "┌ ─  ─  ─  ─  ─ ┐\n",
      "│               │\n",
      "│               │\n",
      "│               │\n",
      "│               │\n",
      "│               │\n",
      "└ ─  ─  ─  ─  ─ ┘\n",
      "┌ ─  ─  ─  ─  ─  ─ ┐\n",
      "│                  │\n",
      "│                  │\n",
      "│                  │\n",
      "│                  │\n",
      "│                  │\n",
      "│                  │\n",
      "└ ─  ─  ─  ─  ─  ─ ┘\n"
     ]
    }
   ],
   "source": [
    "formas = [\n",
    "    Cuadrado(5),\n",
    "    Rectangulo(3, 2),\n",
    "    Cuadrado(3),\n",
    "    Rectangulo(4, 3),\n",
    "    Cuadrado(6),\n",
    "    Rectangulo(6, 4),\n",
    "]\n",
    "\n",
    "formas_ordenadas = sorted(formas, key=lambda f: f.area())\n",
    "\n",
    "for forma in formas_ordenadas:\n",
    "    forma.dibujo()"
   ]
  },
  {
   "cell_type": "code",
   "execution_count": null,
   "id": "1e35c44d",
   "metadata": {},
   "outputs": [],
   "source": [
    "sorted() # polimorfismo"
   ]
  },
  {
   "cell_type": "markdown",
   "id": "6a6fa312",
   "metadata": {},
   "source": [
    "## Polimorfismo\n",
    "\n",
    "Es un nombre llamativo para un concepto sencillo: distintos comportamientos ocurren según la subclase que se esté usando, **sin necesidad de saber explícitamente cuál es**.\n",
    "\n",
    "Polimorfismo significa que distintos objetos (de distintas subclases) pueden responder al mismo mensaje o método de formas diferentes.\n",
    "\n",
    "En este ejemplo\n",
    "\n",
    "```python\n",
    "formas_ordenadas = sorted(formas, key=lambda f: f.area())\n",
    "```\n",
    "\n",
    "A la función lambda no le importa que tipo específico de objeto le fue pasado. Siempre y cuando el objeto sea de una clase que implementa el método `.area()`, se obtiene una lista de objetos ordenados según su área."
   ]
  },
  {
   "cell_type": "markdown",
   "id": "a9225e52",
   "metadata": {},
   "source": [
    "## Herencia múltiple\n",
    "\n",
    "- En principio, es un concepto sencillo: una clase que hereda desde más de una _parent class_ y puede acceder a funcionalidades de ambos.\n",
    "- En la práctica, hay que ser cuidadosos con los _overrides_ de los métodos."
   ]
  },
  {
   "cell_type": "markdown",
   "id": "28c165fc",
   "metadata": {},
   "source": [
    "Los tres principios fundamentales de la programación orientada a objetos son la encapsulación, el polimorfismo y la herencia.\n",
    "\n",
    "Los siguientes tres apuntes explicarán cada uno de ellos, describiendo los conceptos subyacentes y mostrando ejemplos de su implementación en Python.\n",
    "Para que un lenguaje de programación pueda considerarse un lenguaje OOP, debe cumplir estos tres requisitos fundamentales.\n",
    "\n",
    "* Herencia: construir nuevas funcionalidades a partir de código que ya existe.\n",
    "* Polimorfismo: permitir que varias clases tengan métodos con el mismo nombre.\n",
    "* Encapsulamiento: ocultar los detalles internos y mantener todo en un solo lugar.\n",
    "\n",
    "\n",
    "Libro de Irv Kalb"
   ]
  }
 ],
 "metadata": {
  "language_info": {
   "name": "python"
  }
 },
 "nbformat": 4,
 "nbformat_minor": 5
}
