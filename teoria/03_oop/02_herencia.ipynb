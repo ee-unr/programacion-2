{
 "cells": [
  {
   "cell_type": "markdown",
   "id": "2517ac53",
   "metadata": {},
   "source": [
    "---\n",
    "title: \"2 - Herencia\"\n",
    "toc: true\n",
    "---"
   ]
  },
  {
   "cell_type": "markdown",
   "id": "622ce718",
   "metadata": {},
   "source": [
    "* Herencia simple\n",
    "* Herencia múltiple\n",
    "* Uso práctico de super()\n",
    "* Sobrescritura de métodos"
   ]
  },
  {
   "cell_type": "code",
   "execution_count": null,
   "id": "2d8567f7",
   "metadata": {},
   "outputs": [],
   "source": [
    "import math\n",
    "\n",
    "class Rectangulo:\n",
    "    def __init__(self, base, altura):\n",
    "        self.base = base\n",
    "        self.altura = altura\n",
    "\n",
    "    def area(self):\n",
    "        return self.base * self.altura\n",
    "\n",
    "    def perimetro(self):\n",
    "        return self.base * 2 + self.altura * 2\n",
    "\n",
    "    def resumen(self):\n",
    "        return f\"Rectangulo(base={self.base}, altura={self.altura})\"\n",
    "\n",
    "\n",
    "class Cuadrado:\n",
    "    def __init__(self, lado):\n",
    "        self.lado = lado\n",
    "\n",
    "    def area(self):\n",
    "        return self.lado * self.lado\n",
    "\n",
    "    def perimetro(self):\n",
    "        return self.lado * 4\n",
    "\n",
    "    def resumen(self):\n",
    "        return f\"Cuadrado(lado={self.lado})\""
   ]
  },
  {
   "cell_type": "code",
   "execution_count": null,
   "id": "1ef0b001",
   "metadata": {},
   "outputs": [],
   "source": [
    "r1 = Rectangulo(3, 7)\n",
    "r1.area(), r1.perimetro(), r1.resumen()\n",
    "\n",
    "c1 = Cuadrado(3)\n",
    "c1.area(), c1.perimetro(), c1.resumen()"
   ]
  },
  {
   "cell_type": "markdown",
   "id": "48270647",
   "metadata": {},
   "source": [
    "### Sobreescritura de métodos"
   ]
  },
  {
   "cell_type": "code",
   "execution_count": null,
   "id": "0172f7ac",
   "metadata": {},
   "outputs": [],
   "source": [
    "class Cuadrado(Rectangulo):\n",
    "    def __init__(self, lado):\n",
    "        self.base = lado\n",
    "        self.altura = lado\n",
    "\n",
    "c1 = Cuadrado(3)\n",
    "c1.area(), c1.perimetro()"
   ]
  },
  {
   "cell_type": "code",
   "execution_count": null,
   "id": "d2a481b6",
   "metadata": {},
   "outputs": [],
   "source": [
    "c1.resumen()"
   ]
  },
  {
   "cell_type": "code",
   "execution_count": null,
   "id": "8e895486",
   "metadata": {},
   "outputs": [],
   "source": [
    "class Cuadrado(Rectangulo):\n",
    "    def __init__(self, lado):\n",
    "        self.base = lado\n",
    "        self.altura = lado\n",
    "\n",
    "    def resumen(self):\n",
    "        return f\"Cuadrado(lado={self.base})\"\n",
    "\n",
    "c1 = Cuadrado(3)\n",
    "c1.resumen()"
   ]
  },
  {
   "cell_type": "code",
   "execution_count": null,
   "id": "53270c5c",
   "metadata": {},
   "outputs": [],
   "source": [
    "c1.area"
   ]
  },
  {
   "cell_type": "code",
   "execution_count": null,
   "id": "3982d2fc",
   "metadata": {},
   "outputs": [],
   "source": [
    "c1.perimetro"
   ]
  },
  {
   "cell_type": "code",
   "execution_count": null,
   "id": "25f6b33f",
   "metadata": {},
   "outputs": [],
   "source": [
    "class Circulo:\n",
    "    def __init__(self, radio):\n",
    "        self.radio = radio\n",
    "\n",
    "    def area(self):\n",
    "        return self.radio ** 2 * math.pi\n",
    "\n",
    "    def perimetro(self):\n",
    "        return self.radio ** 2 * math.pi\n",
    "\n",
    "    def resumen(self):\n",
    "        return f\"Circulo(radio={self.radio})\"\n",
    "\n",
    "c1 = Circulo(2)\n",
    "c1.area(), c1.perimetro(), c1.resumen()"
   ]
  },
  {
   "cell_type": "code",
   "execution_count": null,
   "id": "ebbf45d2",
   "metadata": {},
   "outputs": [],
   "source": [
    "class Forma:\n",
    "    def area(self):\n",
    "        print(\"¡Error! Método aún no implementado.\")\n",
    "\n",
    "    def perimetro(self):\n",
    "        print(\"¡Error! Método aún no implementado.\")\n",
    "\n",
    "    def resumen(self):\n",
    "        return \"Forma()\"\n",
    "\n",
    "f = Forma()"
   ]
  },
  {
   "cell_type": "code",
   "execution_count": null,
   "id": "840a76a1",
   "metadata": {},
   "outputs": [],
   "source": [
    "f.area()"
   ]
  },
  {
   "cell_type": "code",
   "execution_count": null,
   "id": "08e26af1",
   "metadata": {},
   "outputs": [],
   "source": [
    "f.perimetro()"
   ]
  },
  {
   "cell_type": "code",
   "execution_count": null,
   "id": "02133201",
   "metadata": {},
   "outputs": [],
   "source": [
    "f.resumen()"
   ]
  },
  {
   "cell_type": "code",
   "execution_count": null,
   "id": "885b0407",
   "metadata": {},
   "outputs": [],
   "source": [
    "class Rectangulo(Forma):\n",
    "    def __init__(self, base, altura):\n",
    "        self.base = base\n",
    "        self.altura = altura\n",
    "\n",
    "    def area(self):\n",
    "        return self.base * self.altura\n",
    "\n",
    "    def perimetro(self):\n",
    "        return self.base * 2 + self.altura * 2\n",
    "\n",
    "    def resumen(self):\n",
    "        return f\"Rectangulo(base={self.base}, altura={self.altura})\""
   ]
  },
  {
   "cell_type": "code",
   "execution_count": null,
   "id": "b31e7f5f",
   "metadata": {},
   "outputs": [],
   "source": [
    "r1 = Rectangulo(5, 2)\n",
    "r1.area(), r1.perimetro(), r1.resumen()"
   ]
  },
  {
   "cell_type": "code",
   "execution_count": null,
   "id": "9e2187a9",
   "metadata": {},
   "outputs": [],
   "source": [
    "class Cuadrado(Rectangulo):\n",
    "    def __init__(self, lado):\n",
    "        self.base = lado\n",
    "        self.altura = lado\n",
    "\n",
    "    def resumen(self):\n",
    "        return f\"Cuadrado(lado={self.base})\"\n",
    "\n",
    "c1 = Cuadrado()"
   ]
  },
  {
   "cell_type": "code",
   "execution_count": null,
   "id": "7c5cfa92",
   "metadata": {},
   "outputs": [],
   "source": [
    "class Forma:\n",
    "    def area(self):\n",
    "        print(\"¡Error! Método aún no implementado.\")\n",
    "\n",
    "    def perimetro(self):\n",
    "        print(\"¡Error! Método aún no implementado.\")\n",
    "\n",
    "    def resumen(self):\n",
    "        return \"Forma()\"\n",
    "\n",
    "    def dibujo(self):\n",
    "        return None\n",
    "\n",
    "class Rectangulo(Forma):\n",
    "    def __init__(self, base, altura):\n",
    "        self.base = base\n",
    "        self.altura = altura\n",
    "\n",
    "    def area(self):\n",
    "        return self.base * self.altura\n",
    "\n",
    "    def perimetro(self):\n",
    "        return self.base * 2 + self.altura * 2\n",
    "\n",
    "    def resumen(self):\n",
    "        return f\"Rectangulo(base={self.base}, altura={self.altura})\"\n",
    "\n",
    "    def dibujo(self):\n",
    "        # Línea superior\n",
    "        print(\"┌\" + \" ─ \" * (self.base) + \"┐\")\n",
    "\n",
    "        # Líneas intermedias\n",
    "        for _ in range(self.altura):\n",
    "            print(\"│\" + \"   \" * (self.base) + \"│\")\n",
    "\n",
    "        # Línea inferior\n",
    "        print(\"└\" + \" ─ \" * (self.base) + \"┘\")\n",
    "\n",
    "\n",
    "class Cuadrado(Rectangulo):\n",
    "    def __init__(self, lado):\n",
    "        self.base = lado\n",
    "        self.altura = lado\n",
    "\n",
    "    def resumen(self):\n",
    "        return f\"Cuadrado(lado={self.base})\"\n",
    "\n",
    "Rectangulo(3, 3).dibujo()"
   ]
  },
  {
   "cell_type": "markdown",
   "id": "8d3e6a03",
   "metadata": {},
   "source": [
    "### Uso de `super()`"
   ]
  },
  {
   "cell_type": "code",
   "execution_count": 3,
   "id": "809acfa8",
   "metadata": {},
   "outputs": [
    {
     "data": {
      "text/plain": [
       "[]"
      ]
     },
     "execution_count": null,
     "metadata": {},
     "output_type": "execute_result"
    }
   ],
   "source": [
    "class ListaRuidosa(list):\n",
    "    def append(self, elemento):\n",
    "        print(\"Agregando:\", elemento)\n",
    "        super().append(elemento)\n",
    "\n",
    "lista_ruidosa = ListaRuidosa()\n",
    "lista_ruidosa"
   ]
  },
  {
   "cell_type": "code",
   "execution_count": 4,
   "id": "ed453259",
   "metadata": {},
   "outputs": [
    {
     "name": "stdout",
     "output_type": "stream",
     "text": [
      "Agregando: ¿funciona?\n"
     ]
    }
   ],
   "source": [
    "lista_ruidosa.append(\"¿funciona?\")"
   ]
  },
  {
   "cell_type": "code",
   "execution_count": 5,
   "id": "035668c2",
   "metadata": {},
   "outputs": [
    {
     "name": "stdout",
     "output_type": "stream",
     "text": [
      "Agregando: ¿y esto?\n"
     ]
    }
   ],
   "source": [
    "lista_ruidosa.append(\"¿y esto?\")"
   ]
  },
  {
   "cell_type": "code",
   "execution_count": 7,
   "id": "f1e2972c",
   "metadata": {},
   "outputs": [
    {
     "data": {
      "text/plain": [
       "['¿funciona?', '¿y esto?']"
      ]
     },
     "execution_count": null,
     "metadata": {},
     "output_type": "execute_result"
    }
   ],
   "source": [
    "lista_ruidosa"
   ]
  },
  {
   "cell_type": "code",
   "execution_count": 9,
   "id": "65ba8dbd",
   "metadata": {},
   "outputs": [
    {
     "data": {
      "text/plain": [
       "['¿funciona?', '¿y esto?', '¡no lo puedo creer!']"
      ]
     },
     "execution_count": null,
     "metadata": {},
     "output_type": "execute_result"
    }
   ],
   "source": [
    "l = lista_ruidosa + [\"¡no lo puedo creer!\"]\n",
    "l"
   ]
  },
  {
   "cell_type": "markdown",
   "id": "3c7290a2",
   "metadata": {},
   "source": [
    "## Herencia múltiple\n",
    "\n",
    "- En principio, es un concepto sencillo: una clase que hereda desde más de una _parent class_ y puede acceder a funcionalidades de ambos.\n",
    "- En la práctica, hay que ser cuidadosos con los _overrides_ de los métodos."
   ]
  },
  {
   "cell_type": "markdown",
   "id": "375ed231",
   "metadata": {},
   "source": [
    "Los tres principios fundamentales de la programación orientada a objetos son la encapsulación, el polimorfismo y la herencia.\n",
    "\n",
    "Los siguientes tres apuntes explicarán cada uno de ellos, describiendo los conceptos subyacentes y mostrando ejemplos de su implementación en Python.\n",
    "Para que un lenguaje de programación pueda considerarse un lenguaje OOP, debe cumplir estos tres requisitos fundamentales.\n",
    "\n",
    "* Herencia: construir nuevas funcionalidades a partir de código que ya existe.\n",
    "* Polimorfismo: permitir que varias clases tengan métodos con el mismo nombre.\n",
    "* Encapsulamiento: ocultar los detalles internos y mantener todo en un solo lugar.\n",
    "\n",
    "\n",
    "Libro de Irv Kalb"
   ]
  },
  {
   "cell_type": "code",
   "execution_count": 142,
   "id": "b0e3184a",
   "metadata": {},
   "outputs": [],
   "source": [
    "import math\n",
    "import random\n",
    "\n",
    "import matplotlib.pyplot as plt\n",
    "\n",
    "\n",
    "class Distribucion:\n",
    "    def muestra(self):\n",
    "        print(\"¡Error! Método aún no implementado.\")\n",
    "\n",
    "    def plot(self):\n",
    "        print(\"¡Error! Método aún no implementado.\")\n",
    "\n",
    "    def muestras(self, n=1):\n",
    "        return [self.muestra() for _ in range(n)]\n",
    "\n",
    "\n",
    "class Normal(Distribucion):\n",
    "    def __init__(self, mu, sigma):\n",
    "        self.mu = mu\n",
    "        self.sigma = sigma\n",
    "\n",
    "    def pdf(self, x):\n",
    "        a = 1 / (self.sigma * (2 * math.pi) ** 0.5)\n",
    "        b = math.exp( - 0.5 * ((x - self.mu) ** 2 / self.sigma ** 2))\n",
    "        return a * b\n",
    "\n",
    "    def muestra(self):\n",
    "        return random.normalvariate(mu=self.mu, sigma=self.sigma)\n",
    "\n",
    "    def plot(self):\n",
    "        # Construir valores de 'x'\n",
    "        x_inicio = self.mu - self.sigma * 3\n",
    "        x_fin = self.mu + self.sigma * 3\n",
    "        x_paso = (x_fin - x_inicio) / 500\n",
    "        xs = [x_inicio + x_paso * i for i in range(500)]\n",
    "\n",
    "        # Construir valores de 'y'\n",
    "        ys = [self.pdf(x) for x in xs]\n",
    "\n",
    "        # Crear gráfico\n",
    "        plt.plot(xs, ys)\n",
    "        plt.title(f\"Normal(mu={self.mu}, sigma={self.sigma})\")\n",
    "        plt.show()\n",
    "\n",
    "\n",
    "class Poisson(Distribucion):\n",
    "    def __init__(self, lam):\n",
    "        self.lam = lam\n",
    "\n",
    "    def pmf(self, x):\n",
    "        return (math.exp(-self.lam) * self.lam ** x) / math.factorial(x)\n",
    "\n",
    "    def muestra(self):\n",
    "        S, N = 0, 0\n",
    "        while S < 1:\n",
    "            u = random.uniform(0, 1)\n",
    "            N += 1\n",
    "            S += - math.log(u) / self.lam\n",
    "        return N - 1\n",
    "\n",
    "    def plot(self):\n",
    "        # Construir valores de 'x'\n",
    "        xs = []\n",
    "        x, cdf = 0, 0\n",
    "        while cdf < 0.999:\n",
    "            xs.append(x)\n",
    "            cdf += self.pmf(x)\n",
    "            x += 1\n",
    "\n",
    "        # Construir valores de 'y'\n",
    "        ys = [self.pmf(x) for x in xs]\n",
    "\n",
    "        plt.vlines(xs, ymin=0, ymax=ys, lw=3)\n",
    "        plt.title(f\"Poisson(lam={self.lam})\")\n",
    "        plt.show()"
   ]
  },
  {
   "cell_type": "code",
   "execution_count": 143,
   "id": "ab7db7c0",
   "metadata": {},
   "outputs": [
    {
     "data": {
      "image/png": "[encoded data removed]",
      "text/plain": [
       "<Figure size 640x480 with 1 Axes>"
      ]
     },
     "metadata": {},
     "output_type": "display_data"
    }
   ],
   "source": [
    "poisson = Poisson(3)\n",
    "poisson.plot()"
   ]
  },
  {
   "cell_type": "code",
   "execution_count": 144,
   "id": "f1d86f1b",
   "metadata": {},
   "outputs": [
    {
     "data": {
      "image/png": "[encoded data removed]",
      "text/plain": [
       "<Figure size 640x480 with 1 Axes>"
      ]
     },
     "metadata": {},
     "output_type": "display_data"
    }
   ],
   "source": [
    "Poisson(5).plot()"
   ]
  },
  {
   "cell_type": "code",
   "execution_count": 146,
   "id": "604fbb0e",
   "metadata": {},
   "outputs": [
    {
     "data": {
      "image/png": "[encoded data removed]",
      "text/plain": [
       "<Figure size 640x480 with 1 Axes>"
      ]
     },
     "metadata": {},
     "output_type": "display_data"
    }
   ],
   "source": [
    "Poisson(10).plot()"
   ]
  }
 ],
 "metadata": {
  "language_info": {
   "name": "python"
  }
 },
 "nbformat": 4,
 "nbformat_minor": 5
}
