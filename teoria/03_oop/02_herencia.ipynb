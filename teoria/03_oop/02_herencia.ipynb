{
 "cells": [
  {
   "cell_type": "markdown",
   "id": "2517ac53",
   "metadata": {},
   "source": [
    "---\n",
    "title: \"2 - Herencia\"\n",
    "toc: true\n",
    "---"
   ]
  },
  {
   "cell_type": "markdown",
   "id": "b7c280f7",
   "metadata": {},
   "source": [
    "Los tres principios fundamentales de la programación orientada a objetos son la encapsulación, el polimorfismo y la herencia.\n",
    "\n",
    "Los siguientes tres apuntes explicarán cada uno de ellos, describiendo los conceptos subyacentes y mostrando ejemplos de su implementación en Python.\n",
    "Para que un lenguaje de programación pueda considerarse un lenguaje OOP, debe cumplir estos tres requisitos fundamentales.\n",
    "\n",
    "* Herencia: construir nuevas funcionalidades a partir de código que ya existe.\n",
    "* Polimorfismo: permitir que varias clases tengan métodos con el mismo nombre.\n",
    "* Encapsulamiento: ocultar los detalles internos y mantener todo en un solo lugar.\n",
    "\n",
    "\n",
    "Libro de Irv Kalb"
   ]
  },
  {
   "cell_type": "code",
   "execution_count": 1,
   "id": "2d8567f7",
   "metadata": {},
   "outputs": [],
   "source": [
    "import math\n",
    "\n",
    "class Rectangulo:\n",
    "    def __init__(self, base, altura):\n",
    "        self.base = base\n",
    "        self.altura = altura\n",
    "\n",
    "    def area(self):\n",
    "        return self.base * self.altura\n",
    "\n",
    "    def perimetro(self):\n",
    "        return self.base * 2 + self.altura * 2\n",
    "\n",
    "    def resumen(self):\n",
    "        return f\"Rectangulo(base={self.base}, altura={self.altura})\"\n",
    "\n",
    "\n",
    "class Cuadrado:\n",
    "    def __init__(self, lado):\n",
    "        self.lado = lado\n",
    "\n",
    "    def area(self):\n",
    "        return self.lado * self.lado\n",
    "\n",
    "    def perimetro(self):\n",
    "        return self.lado * 4\n",
    "\n",
    "    def resumen(self):\n",
    "        return f\"Cuadrado(lado={self.lado})\""
   ]
  },
  {
   "cell_type": "code",
   "execution_count": 2,
   "id": "1ef0b001",
   "metadata": {},
   "outputs": [
    {
     "data": {
      "text/plain": [
       "(9, 12, 'Cuadrado(lado=3)')"
      ]
     },
     "execution_count": null,
     "metadata": {},
     "output_type": "execute_result"
    }
   ],
   "source": [
    "r1 = Rectangulo(3, 7)\n",
    "r1.area(), r1.perimetro(), r1.resumen()\n",
    "\n",
    "c1 = Cuadrado(3)\n",
    "c1.area(), c1.perimetro(), c1.resumen()"
   ]
  },
  {
   "cell_type": "markdown",
   "id": "48270647",
   "metadata": {},
   "source": [
    "### Sobreescritura de métodos"
   ]
  },
  {
   "cell_type": "code",
   "execution_count": 3,
   "id": "0172f7ac",
   "metadata": {},
   "outputs": [
    {
     "data": {
      "text/plain": [
       "(9, 12)"
      ]
     },
     "execution_count": null,
     "metadata": {},
     "output_type": "execute_result"
    }
   ],
   "source": [
    "class Cuadrado(Rectangulo):\n",
    "    def __init__(self, lado):\n",
    "        self.base = lado\n",
    "        self.altura = lado\n",
    "\n",
    "c1 = Cuadrado(3)\n",
    "c1.area(), c1.perimetro()"
   ]
  },
  {
   "cell_type": "code",
   "execution_count": 4,
   "id": "d2a481b6",
   "metadata": {},
   "outputs": [
    {
     "data": {
      "text/plain": [
       "'Rectangulo(base=3, altura=3)'"
      ]
     },
     "execution_count": null,
     "metadata": {},
     "output_type": "execute_result"
    }
   ],
   "source": [
    "c1.resumen()"
   ]
  },
  {
   "cell_type": "code",
   "execution_count": 5,
   "id": "8e895486",
   "metadata": {},
   "outputs": [
    {
     "data": {
      "text/plain": [
       "'Cuadrado(lado=3)'"
      ]
     },
     "execution_count": null,
     "metadata": {},
     "output_type": "execute_result"
    }
   ],
   "source": [
    "class Cuadrado(Rectangulo):\n",
    "    def __init__(self, lado):\n",
    "        self.base = lado\n",
    "        self.altura = lado\n",
    "\n",
    "    def resumen(self):\n",
    "        return f\"Cuadrado(lado={self.base})\"\n",
    "\n",
    "c1 = Cuadrado(3)\n",
    "c1.resumen()"
   ]
  },
  {
   "cell_type": "code",
   "execution_count": 6,
   "id": "53270c5c",
   "metadata": {},
   "outputs": [
    {
     "data": {
      "text/plain": [
       "<bound method Rectangulo.area of <__main__.Cuadrado object at 0x7f51f0537410>>"
      ]
     },
     "execution_count": null,
     "metadata": {},
     "output_type": "execute_result"
    }
   ],
   "source": [
    "c1.area"
   ]
  },
  {
   "cell_type": "code",
   "execution_count": 7,
   "id": "3982d2fc",
   "metadata": {},
   "outputs": [
    {
     "data": {
      "text/plain": [
       "<bound method Rectangulo.perimetro of <__main__.Cuadrado object at 0x7f51f0537410>>"
      ]
     },
     "execution_count": null,
     "metadata": {},
     "output_type": "execute_result"
    }
   ],
   "source": [
    "c1.perimetro"
   ]
  },
  {
   "cell_type": "code",
   "execution_count": 8,
   "id": "25f6b33f",
   "metadata": {},
   "outputs": [
    {
     "data": {
      "text/plain": [
       "(12.566370614359172, 12.566370614359172, 'Circulo(radio=2)')"
      ]
     },
     "execution_count": null,
     "metadata": {},
     "output_type": "execute_result"
    }
   ],
   "source": [
    "class Circulo:\n",
    "    def __init__(self, radio):\n",
    "        self.radio = radio\n",
    "\n",
    "    def area(self):\n",
    "        return self.radio ** 2 * math.pi\n",
    "\n",
    "    def perimetro(self):\n",
    "        return self.radio ** 2 * math.pi\n",
    "\n",
    "    def resumen(self):\n",
    "        return f\"Circulo(radio={self.radio})\"\n",
    "\n",
    "c1 = Circulo(2)\n",
    "c1.area(), c1.perimetro(), c1.resumen()"
   ]
  },
  {
   "cell_type": "code",
   "execution_count": 9,
   "id": "ebbf45d2",
   "metadata": {},
   "outputs": [],
   "source": [
    "class Forma:\n",
    "    def area(self):\n",
    "        print(\"¡Error! Método aún no implementado.\")\n",
    "\n",
    "    def perimetro(self):\n",
    "        print(\"¡Error! Método aún no implementado.\")\n",
    "\n",
    "    def resumen(self):\n",
    "        return \"Forma()\"\n",
    "\n",
    "f = Forma()"
   ]
  },
  {
   "cell_type": "code",
   "execution_count": 10,
   "id": "840a76a1",
   "metadata": {},
   "outputs": [
    {
     "name": "stdout",
     "output_type": "stream",
     "text": [
      "¡Error! Método aún no implementado.\n"
     ]
    }
   ],
   "source": [
    "f.area()"
   ]
  },
  {
   "cell_type": "code",
   "execution_count": 11,
   "id": "08e26af1",
   "metadata": {},
   "outputs": [
    {
     "name": "stdout",
     "output_type": "stream",
     "text": [
      "¡Error! Método aún no implementado.\n"
     ]
    }
   ],
   "source": [
    "f.perimetro()"
   ]
  },
  {
   "cell_type": "code",
   "execution_count": 12,
   "id": "02133201",
   "metadata": {},
   "outputs": [
    {
     "data": {
      "text/plain": [
       "'Forma()'"
      ]
     },
     "execution_count": null,
     "metadata": {},
     "output_type": "execute_result"
    }
   ],
   "source": [
    "f.resumen()"
   ]
  },
  {
   "cell_type": "code",
   "execution_count": 13,
   "id": "885b0407",
   "metadata": {},
   "outputs": [],
   "source": [
    "class Rectangulo(Forma):\n",
    "    def __init__(self, base, altura):\n",
    "        self.base = base\n",
    "        self.altura = altura\n",
    "\n",
    "    def area(self):\n",
    "        return self.base * self.altura\n",
    "\n",
    "    def perimetro(self):\n",
    "        return self.base * 2 + self.altura * 2\n",
    "\n",
    "    def resumen(self):\n",
    "        return f\"Rectangulo(base={self.base}, altura={self.altura})\""
   ]
  },
  {
   "cell_type": "code",
   "execution_count": 14,
   "id": "b31e7f5f",
   "metadata": {},
   "outputs": [
    {
     "data": {
      "text/plain": [
       "(10, 14, 'Rectangulo(base=5, altura=2)')"
      ]
     },
     "execution_count": null,
     "metadata": {},
     "output_type": "execute_result"
    }
   ],
   "source": [
    "r1 = Rectangulo(5, 2)\n",
    "r1.area(), r1.perimetro(), r1.resumen()"
   ]
  },
  {
   "cell_type": "code",
   "execution_count": 20,
   "id": "9e2187a9",
   "metadata": {},
   "outputs": [],
   "source": [
    "class Cuadrado(Rectangulo):\n",
    "    def __init__(self, lado):\n",
    "        self.base = lado\n",
    "        self.altura = lado\n",
    "\n",
    "    def resumen(self):\n",
    "        return f\"Cuadrado(lado={self.base})\"\n",
    "\n",
    "c1 = Cuadrado(2)"
   ]
  },
  {
   "cell_type": "code",
   "execution_count": 21,
   "id": "7c5cfa92",
   "metadata": {},
   "outputs": [
    {
     "name": "stdout",
     "output_type": "stream",
     "text": [
      "┌ ─  ─  ─ ┐\n",
      "│         │\n",
      "│         │\n",
      "│         │\n",
      "└ ─  ─  ─ ┘\n"
     ]
    }
   ],
   "source": [
    "class Forma:\n",
    "    def area(self):\n",
    "        print(\"¡Error! Método aún no implementado.\")\n",
    "\n",
    "    def perimetro(self):\n",
    "        print(\"¡Error! Método aún no implementado.\")\n",
    "\n",
    "    def resumen(self):\n",
    "        return \"Forma()\"\n",
    "\n",
    "    def dibujo(self):\n",
    "        return None\n",
    "\n",
    "class Rectangulo(Forma):\n",
    "    def __init__(self, base, altura):\n",
    "        self.base = base\n",
    "        self.altura = altura\n",
    "\n",
    "    def area(self):\n",
    "        return self.base * self.altura\n",
    "\n",
    "    def perimetro(self):\n",
    "        return self.base * 2 + self.altura * 2\n",
    "\n",
    "    def resumen(self):\n",
    "        return f\"Rectangulo(base={self.base}, altura={self.altura})\"\n",
    "\n",
    "    def dibujo(self):\n",
    "        # Línea superior\n",
    "        print(\"┌\" + \" ─ \" * (self.base) + \"┐\")\n",
    "\n",
    "        # Líneas intermedias\n",
    "        for _ in range(self.altura):\n",
    "            print(\"│\" + \"   \" * (self.base) + \"│\")\n",
    "\n",
    "        # Línea inferior\n",
    "        print(\"└\" + \" ─ \" * (self.base) + \"┘\")\n",
    "\n",
    "\n",
    "class Cuadrado(Rectangulo):\n",
    "    def __init__(self, lado):\n",
    "        self.base = lado\n",
    "        self.altura = lado\n",
    "\n",
    "    def resumen(self):\n",
    "        return f\"Cuadrado(lado={self.base})\"\n",
    "\n",
    "Rectangulo(3, 3).dibujo()"
   ]
  },
  {
   "cell_type": "markdown",
   "id": "8d3e6a03",
   "metadata": {},
   "source": [
    "### Uso de `super()`"
   ]
  },
  {
   "cell_type": "code",
   "execution_count": 22,
   "id": "809acfa8",
   "metadata": {},
   "outputs": [
    {
     "data": {
      "text/plain": [
       "[]"
      ]
     },
     "execution_count": null,
     "metadata": {},
     "output_type": "execute_result"
    }
   ],
   "source": [
    "class ListaRuidosa(list):\n",
    "    def append(self, elemento):\n",
    "        print(\"Agregando:\", elemento)\n",
    "        super().append(elemento)\n",
    "\n",
    "lista_ruidosa = ListaRuidosa()\n",
    "lista_ruidosa"
   ]
  },
  {
   "cell_type": "code",
   "execution_count": 23,
   "id": "ed453259",
   "metadata": {},
   "outputs": [
    {
     "name": "stdout",
     "output_type": "stream",
     "text": [
      "Agregando: ¿funciona?\n"
     ]
    }
   ],
   "source": [
    "lista_ruidosa.append(\"¿funciona?\")"
   ]
  },
  {
   "cell_type": "code",
   "execution_count": 24,
   "id": "035668c2",
   "metadata": {},
   "outputs": [
    {
     "name": "stdout",
     "output_type": "stream",
     "text": [
      "Agregando: ¿y esto?\n"
     ]
    }
   ],
   "source": [
    "lista_ruidosa.append(\"¿y esto?\")"
   ]
  },
  {
   "cell_type": "code",
   "execution_count": 25,
   "id": "f1e2972c",
   "metadata": {},
   "outputs": [
    {
     "data": {
      "text/plain": [
       "['¿funciona?', '¿y esto?']"
      ]
     },
     "execution_count": null,
     "metadata": {},
     "output_type": "execute_result"
    }
   ],
   "source": [
    "lista_ruidosa"
   ]
  },
  {
   "cell_type": "code",
   "execution_count": 26,
   "id": "65ba8dbd",
   "metadata": {},
   "outputs": [
    {
     "data": {
      "text/plain": [
       "['¿funciona?', '¿y esto?', '¡no lo puedo creer!']"
      ]
     },
     "execution_count": null,
     "metadata": {},
     "output_type": "execute_result"
    }
   ],
   "source": [
    "l = lista_ruidosa + [\"¡no lo puedo creer!\"]\n",
    "l"
   ]
  },
  {
   "cell_type": "markdown",
   "id": "3c7290a2",
   "metadata": {},
   "source": [
    "## Herencia múltiple\n",
    "\n",
    "- En principio, es un concepto sencillo: una clase que hereda desde más de una _parent class_ y puede acceder a funcionalidades de ambos.\n",
    "- En la práctica, hay que ser cuidadosos con los _overrides_ de los métodos."
   ]
  },
  {
   "cell_type": "markdown",
   "id": "375ed231",
   "metadata": {},
   "source": []
  },
  {
   "cell_type": "code",
   "execution_count": 27,
   "id": "b0e3184a",
   "metadata": {},
   "outputs": [],
   "source": [
    "import math\n",
    "import random\n",
    "\n",
    "import matplotlib.pyplot as plt\n",
    "\n",
    "\n",
    "class Distribucion:\n",
    "    def muestra(self):\n",
    "        print(\"¡Error! Método aún no implementado.\")\n",
    "\n",
    "    def plot(self):\n",
    "        print(\"¡Error! Método aún no implementado.\")\n",
    "\n",
    "    def muestras(self, n=1):\n",
    "        return [self.muestra() for _ in range(n)]\n",
    "\n",
    "\n",
    "class Normal(Distribucion):\n",
    "    def __init__(self, mu, sigma):\n",
    "        self.mu = mu\n",
    "        self.sigma = sigma\n",
    "\n",
    "    def pdf(self, x):\n",
    "        a = 1 / (self.sigma * (2 * math.pi) ** 0.5)\n",
    "        b = math.exp( - 0.5 * ((x - self.mu) ** 2 / self.sigma ** 2))\n",
    "        return a * b\n",
    "\n",
    "    def muestra(self):\n",
    "        return random.normalvariate(mu=self.mu, sigma=self.sigma)\n",
    "\n",
    "    def plot(self):\n",
    "        # Construir valores de 'x'\n",
    "        x_inicio = self.mu - self.sigma * 3\n",
    "        x_fin = self.mu + self.sigma * 3\n",
    "        x_paso = (x_fin - x_inicio) / 500\n",
    "        xs = [x_inicio + x_paso * i for i in range(500)]\n",
    "\n",
    "        # Construir valores de 'y'\n",
    "        ys = [self.pdf(x) for x in xs]\n",
    "\n",
    "        # Crear gráfico\n",
    "        plt.plot(xs, ys)\n",
    "        plt.xlabel(\"x\")\n",
    "        plt.ylabel(\"p(x)\")\n",
    "        plt.title(f\"Normal(mu={self.mu}, sigma={self.sigma})\")\n",
    "        plt.show()\n"
   ]
  },
  {
   "cell_type": "code",
   "execution_count": 28,
   "id": "d47cd804",
   "metadata": {},
   "outputs": [],
   "source": [
    "normal = Normal(mu=3, sigma=0.75)"
   ]
  },
  {
   "cell_type": "code",
   "execution_count": 29,
   "id": "ad66c402",
   "metadata": {},
   "outputs": [
    {
     "data": {
      "text/plain": [
       "1.8842333454735876"
      ]
     },
     "execution_count": null,
     "metadata": {},
     "output_type": "execute_result"
    }
   ],
   "source": [
    "normal.muestra()"
   ]
  },
  {
   "cell_type": "code",
   "execution_count": 30,
   "id": "3a2465a1",
   "metadata": {},
   "outputs": [
    {
     "data": {
      "text/plain": [
       "[3.1474387413070675,\n",
       " 3.258905714809389,\n",
       " 2.9203897343489746,\n",
       " 1.7248616817739801,\n",
       " 3.243540225284832]"
      ]
     },
     "execution_count": null,
     "metadata": {},
     "output_type": "execute_result"
    }
   ],
   "source": [
    "normal.muestras(5)"
   ]
  },
  {
   "cell_type": "code",
   "execution_count": 31,
   "id": "6a8b7668",
   "metadata": {},
   "outputs": [
    {
     "data": {
      "text/plain": [
       "0.21868009956799153"
      ]
     },
     "execution_count": null,
     "metadata": {},
     "output_type": "execute_result"
    }
   ],
   "source": [
    "normal.pdf(2)"
   ]
  },
  {
   "cell_type": "code",
   "execution_count": 32,
   "id": "b8863461",
   "metadata": {},
   "outputs": [
    {
     "data": {
      "text/plain": [
       "(0.425930674029803, 0.5319230405352436, 0.425930674029803)"
      ]
     },
     "execution_count": null,
     "metadata": {},
     "output_type": "execute_result"
    }
   ],
   "source": [
    "normal.pdf(2.5), normal.pdf(3), normal.pdf(3.5)"
   ]
  },
  {
   "cell_type": "code",
   "execution_count": 33,
   "id": "41bb92d0",
   "metadata": {},
   "outputs": [
    {
     "data": {
      "image/png": "[encoded data removed]",
      "text/plain": [
       "<Figure size 640x480 with 1 Axes>"
      ]
     },
     "metadata": {},
     "output_type": "display_data"
    }
   ],
   "source": [
    "normal.plot()"
   ]
  },
  {
   "cell_type": "code",
   "execution_count": 34,
   "id": "0c5c7345",
   "metadata": {},
   "outputs": [],
   "source": [
    "class Poisson(Distribucion):\n",
    "    def __init__(self, lam):\n",
    "        self.lam = lam\n",
    "\n",
    "    def pmf(self, x):\n",
    "        return (math.exp(-self.lam) * self.lam ** x) / math.factorial(x)\n",
    "\n",
    "    def muestra(self):\n",
    "        S, N = 0, 0\n",
    "        while S < 1:\n",
    "            u = random.uniform(0, 1)\n",
    "            N += 1\n",
    "            S += - math.log(u) / self.lam\n",
    "        return N - 1\n",
    "\n",
    "    def plot(self):\n",
    "        # Construir valores de 'x'\n",
    "        xs = []\n",
    "        x, cdf = 0, 0\n",
    "        while cdf < 0.999:\n",
    "            xs.append(x)\n",
    "            cdf += self.pmf(x)\n",
    "            x += 1\n",
    "\n",
    "        # Construir valores de 'y'\n",
    "        ys = [self.pmf(x) for x in xs]\n",
    "\n",
    "        plt.vlines(xs, ymin=0, ymax=ys, lw=3)\n",
    "        plt.xlabel(\"x\")\n",
    "        plt.ylabel(\"P(X = x)\")\n",
    "        plt.title(f\"Poisson(lam={self.lam})\")\n",
    "        plt.show()"
   ]
  },
  {
   "cell_type": "code",
   "execution_count": 35,
   "id": "66b88e14",
   "metadata": {},
   "outputs": [
    {
     "data": {
      "text/plain": [
       "5"
      ]
     },
     "execution_count": null,
     "metadata": {},
     "output_type": "execute_result"
    }
   ],
   "source": [
    "poisson = Poisson(3)\n",
    "poisson.muestra()"
   ]
  },
  {
   "cell_type": "code",
   "execution_count": 36,
   "id": "5cd66630",
   "metadata": {},
   "outputs": [
    {
     "data": {
      "text/plain": [
       "[5, 2, 5, 2, 3]"
      ]
     },
     "execution_count": null,
     "metadata": {},
     "output_type": "execute_result"
    }
   ],
   "source": [
    "poisson.muestras(5)"
   ]
  },
  {
   "cell_type": "code",
   "execution_count": 37,
   "id": "4bfb9a10",
   "metadata": {},
   "outputs": [
    {
     "data": {
      "text/plain": [
       "0.22404180765538775"
      ]
     },
     "execution_count": null,
     "metadata": {},
     "output_type": "execute_result"
    }
   ],
   "source": [
    "poisson.pmf(3)"
   ]
  },
  {
   "cell_type": "code",
   "execution_count": 38,
   "id": "ab7db7c0",
   "metadata": {},
   "outputs": [
    {
     "data": {
      "image/png": "[encoded data removed]",
      "text/plain": [
       "<Figure size 640x480 with 1 Axes>"
      ]
     },
     "metadata": {},
     "output_type": "display_data"
    }
   ],
   "source": [
    "poisson.plot()"
   ]
  },
  {
   "cell_type": "code",
   "execution_count": 39,
   "id": "f1d86f1b",
   "metadata": {},
   "outputs": [
    {
     "data": {
      "image/png": "[encoded data removed]",
      "text/plain": [
       "<Figure size 640x480 with 1 Axes>"
      ]
     },
     "metadata": {},
     "output_type": "display_data"
    }
   ],
   "source": [
    "Poisson(5).plot()"
   ]
  },
  {
   "cell_type": "code",
   "execution_count": 40,
   "id": "604fbb0e",
   "metadata": {},
   "outputs": [
    {
     "data": {
      "image/png": "[encoded data removed]",
      "text/plain": [
       "<Figure size 640x480 with 1 Axes>"
      ]
     },
     "metadata": {},
     "output_type": "display_data"
    }
   ],
   "source": [
    "Poisson(10).plot()"
   ]
  },
  {
   "cell_type": "code",
   "execution_count": 42,
   "id": "e7fe4345",
   "metadata": {},
   "outputs": [],
   "source": [
    "class Distribucion:\n",
    "    def muestra(self):\n",
    "        print(\"¡Error! Método aún no implementado.\")\n",
    "\n",
    "    def plot(self):\n",
    "        print(\"¡Error! Método aún no implementado.\")\n",
    "\n",
    "    def muestras(self, n=1):\n",
    "        return [self.muestra() for _ in range(n)]\n",
    "\n",
    "\n",
    "class Discreta:\n",
    "    def pmf(self, x):\n",
    "        print(\"¡Error! Método aún no implementado.\")\n",
    "\n",
    "    def _plot(self, xs):\n",
    "        ys = [self.pmf(x) for x in xs]\n",
    "        plt.vlines(xs, ymin=0, ymax=ys, lw=3)\n",
    "        plt.xlabel(\"x\")\n",
    "        plt.ylabel(\"P(X = x)\")\n",
    "        plt.show()\n",
    "\n",
    "class Continua:\n",
    "    def pdf(self, x):\n",
    "        print(\"¡Error! Método aún no implementado.\")\n",
    "\n",
    "    def _plot(self, xs):\n",
    "        # Crear gráfico\n",
    "        ys = [self.pdf(x) for x in xs]\n",
    "        plt.plot(xs, ys)\n",
    "        plt.xlabel(\"x\")\n",
    "        plt.ylabel(\"p(x)\")\n",
    "        plt.show()"
   ]
  },
  {
   "cell_type": "code",
   "execution_count": 43,
   "id": "cd4379aa",
   "metadata": {},
   "outputs": [
    {
     "data": {
      "image/png": "[encoded data removed]",
      "text/plain": [
       "<Figure size 640x480 with 1 Axes>"
      ]
     },
     "metadata": {},
     "output_type": "display_data"
    }
   ],
   "source": [
    "class Normal(Distribucion, Continua):\n",
    "    def __init__(self, mu, sigma):\n",
    "        self.mu = mu\n",
    "        self.sigma = sigma\n",
    "\n",
    "    def pdf(self, x):\n",
    "        a = 1 / (self.sigma * (2 * math.pi) ** 0.5)\n",
    "        b = math.exp( - 0.5 * ((x - self.mu) ** 2 / self.sigma ** 2))\n",
    "        return a * b\n",
    "\n",
    "    def muestra(self):\n",
    "        return random.normalvariate(mu=self.mu, sigma=self.sigma)\n",
    "\n",
    "    def plot(self):\n",
    "        x_inicio = self.mu - self.sigma * 3\n",
    "        x_fin = self.mu + self.sigma * 3\n",
    "        x_paso = (x_fin - x_inicio) / 500\n",
    "        xs = [x_inicio + x_paso * i for i in range(500)]\n",
    "        self._plot(xs)\n",
    "\n",
    "Normal(2, 1).plot()"
   ]
  },
  {
   "cell_type": "code",
   "execution_count": 44,
   "id": "89de4b16",
   "metadata": {},
   "outputs": [],
   "source": [
    "class Poisson(Distribucion, Discreta):\n",
    "    def __init__(self, lam):\n",
    "        self.lam = lam\n",
    "\n",
    "    def pmf(self, x):\n",
    "        return (math.exp(-self.lam) * self.lam ** x) / math.factorial(x)\n",
    "\n",
    "    def muestra(self):\n",
    "        S, N = 0, 0\n",
    "        while S < 1:\n",
    "            u = random.uniform(0, 1)\n",
    "            N += 1\n",
    "            S += - math.log(u) / self.lam\n",
    "        return N - 1\n",
    "\n",
    "    def plot(self):\n",
    "        xs = []\n",
    "        x, cdf = 0, 0\n",
    "        while cdf < 0.999:\n",
    "            xs.append(x)\n",
    "            cdf += self.pmf(x)\n",
    "            x += 1\n",
    "\n",
    "        self._plot(xs)"
   ]
  },
  {
   "cell_type": "code",
   "execution_count": 45,
   "id": "26031286",
   "metadata": {},
   "outputs": [
    {
     "data": {
      "image/png": "[encoded data removed]",
      "text/plain": [
       "<Figure size 640x480 with 1 Axes>"
      ]
     },
     "metadata": {},
     "output_type": "display_data"
    }
   ],
   "source": [
    "Poisson(4).plot()"
   ]
  },
  {
   "cell_type": "markdown",
   "id": "5fc345fd",
   "metadata": {},
   "source": [
    "::: {.callout-warning}\n",
    "\n",
    "Algo de herencia múltiple y conflictos de métodos... mostrar un ejemplo y mencionar brevemente el MRO.\n",
    "\n",
    ":::"
   ]
  }
 ],
 "metadata": {
  "language_info": {
   "name": "python"
  }
 },
 "nbformat": 4,
 "nbformat_minor": 5
}
