{
 "cells": [
  {
   "cell_type": "markdown",
   "id": "2517ac53",
   "metadata": {},
   "source": [
    "---\n",
    "title: \"2 - Herencia\"\n",
    "toc: true\n",
    "---"
   ]
  },
  {
   "cell_type": "markdown",
   "id": "622ce718",
   "metadata": {},
   "source": [
    "* Herencia simple\n",
    "* Herencia múltiple\n",
    "* Uso práctico de super()\n",
    "* Sobrescritura de métodos"
   ]
  },
  {
   "cell_type": "code",
   "execution_count": null,
   "id": "2d8567f7",
   "metadata": {
    "vscode": {
     "languageId": "python"
    }
   },
   "outputs": [],
   "source": [
    "import math\n",
    "\n",
    "class Rectangulo:\n",
    "    def __init__(self, base, altura):\n",
    "        self.base = base\n",
    "        self.altura = altura\n",
    "\n",
    "    def area(self):\n",
    "        return self.base * self.altura\n",
    "\n",
    "    def perimetro(self):\n",
    "        return self.base * 2 + self.altura * 2\n",
    "\n",
    "    def resumen(self):\n",
    "        return f\"Rectangulo(base={self.base}, altura={self.altura})\"\n",
    "\n",
    "\n",
    "class Cuadrado:\n",
    "    def __init__(self, lado):\n",
    "        self.lado = lado\n",
    "\n",
    "    def area(self):\n",
    "        return self.lado * self.lado\n",
    "\n",
    "    def perimetro(self):\n",
    "        return self.lado * 4\n",
    "\n",
    "    def resumen(self):\n",
    "        return f\"Cuadrado(lado={self.lado})\""
   ]
  },
  {
   "cell_type": "code",
   "execution_count": null,
   "id": "1ef0b001",
   "metadata": {
    "vscode": {
     "languageId": "python"
    }
   },
   "outputs": [],
   "source": [
    "r1 = Rectangulo(3, 7)\n",
    "r1.area(), r1.perimetro(), r1.resumen()\n",
    "\n",
    "c1 = Cuadrado(3)\n",
    "c1.area(), c1.perimetro(), c1.resumen()"
   ]
  },
  {
   "cell_type": "markdown",
   "id": "48270647",
   "metadata": {},
   "source": [
    "### Sobreescritura de métodos"
   ]
  },
  {
   "cell_type": "code",
   "execution_count": null,
   "id": "0172f7ac",
   "metadata": {
    "vscode": {
     "languageId": "python"
    }
   },
   "outputs": [],
   "source": [
    "class Cuadrado(Rectangulo):\n",
    "    def __init__(self, lado):\n",
    "        self.base = lado\n",
    "        self.altura = lado\n",
    "\n",
    "c1 = Cuadrado(3)\n",
    "c1.area(), c1.perimetro()"
   ]
  },
  {
   "cell_type": "code",
   "execution_count": null,
   "id": "d2a481b6",
   "metadata": {
    "vscode": {
     "languageId": "python"
    }
   },
   "outputs": [],
   "source": [
    "c1.resumen()"
   ]
  },
  {
   "cell_type": "code",
   "execution_count": null,
   "id": "8e895486",
   "metadata": {
    "vscode": {
     "languageId": "python"
    }
   },
   "outputs": [],
   "source": [
    "class Cuadrado(Rectangulo):\n",
    "    def __init__(self, lado):\n",
    "        self.base = lado\n",
    "        self.altura = lado\n",
    "\n",
    "    def resumen(self):\n",
    "        return f\"Cuadrado(lado={self.base})\"\n",
    "\n",
    "c1 = Cuadrado(3)\n",
    "c1.resumen()"
   ]
  },
  {
   "cell_type": "code",
   "execution_count": null,
   "id": "53270c5c",
   "metadata": {
    "vscode": {
     "languageId": "python"
    }
   },
   "outputs": [],
   "source": [
    "c1.area"
   ]
  },
  {
   "cell_type": "code",
   "execution_count": null,
   "id": "3982d2fc",
   "metadata": {
    "vscode": {
     "languageId": "python"
    }
   },
   "outputs": [],
   "source": [
    "c1.perimetro"
   ]
  },
  {
   "cell_type": "code",
   "execution_count": null,
   "id": "25f6b33f",
   "metadata": {
    "vscode": {
     "languageId": "python"
    }
   },
   "outputs": [],
   "source": [
    "class Circulo:\n",
    "    def __init__(self, radio):\n",
    "        self.radio = radio\n",
    "\n",
    "    def area(self):\n",
    "        return self.radio ** 2 * math.pi\n",
    "\n",
    "    def perimetro(self):\n",
    "        return self.radio ** 2 * math.pi\n",
    "\n",
    "    def resumen(self):\n",
    "        return f\"Circulo(radio={self.radio})\"\n",
    "\n",
    "c1 = Circulo(2)\n",
    "c1.area(), c1.perimetro(), c1.resumen()"
   ]
  },
  {
   "cell_type": "code",
   "execution_count": null,
   "id": "ebbf45d2",
   "metadata": {
    "vscode": {
     "languageId": "python"
    }
   },
   "outputs": [],
   "source": [
    "class Forma:\n",
    "    def area(self):\n",
    "        print(\"¡Error! Método aún no implementado.\")\n",
    "\n",
    "    def perimetro(self):\n",
    "        print(\"¡Error! Método aún no implementado.\")\n",
    "\n",
    "    def resumen(self):\n",
    "        return \"Forma()\"\n",
    "\n",
    "f = Forma()"
   ]
  },
  {
   "cell_type": "code",
   "execution_count": null,
   "id": "840a76a1",
   "metadata": {
    "vscode": {
     "languageId": "python"
    }
   },
   "outputs": [],
   "source": [
    "f.area()"
   ]
  },
  {
   "cell_type": "code",
   "execution_count": null,
   "id": "08e26af1",
   "metadata": {
    "vscode": {
     "languageId": "python"
    }
   },
   "outputs": [],
   "source": [
    "f.perimetro()"
   ]
  },
  {
   "cell_type": "code",
   "execution_count": null,
   "id": "02133201",
   "metadata": {
    "vscode": {
     "languageId": "python"
    }
   },
   "outputs": [],
   "source": [
    "f.resumen()"
   ]
  },
  {
   "cell_type": "code",
   "execution_count": null,
   "id": "885b0407",
   "metadata": {
    "vscode": {
     "languageId": "python"
    }
   },
   "outputs": [],
   "source": [
    "class Rectangulo(Forma):\n",
    "    def __init__(self, base, altura):\n",
    "        self.base = base\n",
    "        self.altura = altura\n",
    "\n",
    "    def area(self):\n",
    "        return self.base * self.altura\n",
    "\n",
    "    def perimetro(self):\n",
    "        return self.base * 2 + self.altura * 2\n",
    "\n",
    "    def resumen(self):\n",
    "        return f\"Rectangulo(base={self.base}, altura={self.altura})\""
   ]
  },
  {
   "cell_type": "code",
   "execution_count": null,
   "id": "b31e7f5f",
   "metadata": {
    "vscode": {
     "languageId": "python"
    }
   },
   "outputs": [],
   "source": [
    "r1 = Rectangulo(5, 2)\n",
    "r1.area(), r1.perimetro(), r1.resumen()"
   ]
  },
  {
   "cell_type": "code",
   "execution_count": null,
   "id": "9e2187a9",
   "metadata": {
    "vscode": {
     "languageId": "python"
    }
   },
   "outputs": [],
   "source": [
    "class Cuadrado(Rectangulo):\n",
    "    def __init__(self, lado):\n",
    "        self.base = lado\n",
    "        self.altura = lado\n",
    "\n",
    "    def resumen(self):\n",
    "        return f\"Cuadrado(lado={self.base})\"\n",
    "\n",
    "c1 = Cuadrado()"
   ]
  },
  {
   "cell_type": "code",
   "execution_count": null,
   "id": "7c5cfa92",
   "metadata": {
    "vscode": {
     "languageId": "python"
    }
   },
   "outputs": [],
   "source": [
    "class Forma:\n",
    "    def area(self):\n",
    "        print(\"¡Error! Método aún no implementado.\")\n",
    "\n",
    "    def perimetro(self):\n",
    "        print(\"¡Error! Método aún no implementado.\")\n",
    "\n",
    "    def resumen(self):\n",
    "        return \"Forma()\"\n",
    "\n",
    "    def dibujo(self):\n",
    "        return None\n",
    "\n",
    "class Rectangulo(Forma):\n",
    "    def __init__(self, base, altura):\n",
    "        self.base = base\n",
    "        self.altura = altura\n",
    "\n",
    "    def area(self):\n",
    "        return self.base * self.altura\n",
    "\n",
    "    def perimetro(self):\n",
    "        return self.base * 2 + self.altura * 2\n",
    "\n",
    "    def resumen(self):\n",
    "        return f\"Rectangulo(base={self.base}, altura={self.altura})\"\n",
    "\n",
    "    def dibujo(self):\n",
    "        # Línea superior\n",
    "        print(\"┌\" + \" ─ \" * (self.base) + \"┐\")\n",
    "\n",
    "        # Líneas intermedias\n",
    "        for _ in range(self.altura):\n",
    "            print(\"│\" + \"   \" * (self.base) + \"│\")\n",
    "\n",
    "        # Línea inferior\n",
    "        print(\"└\" + \" ─ \" * (self.base) + \"┘\")\n",
    "\n",
    "\n",
    "class Cuadrado(Rectangulo):\n",
    "    def __init__(self, lado):\n",
    "        self.base = lado\n",
    "        self.altura = lado\n",
    "\n",
    "    def resumen(self):\n",
    "        return f\"Cuadrado(lado={self.base})\"\n",
    "\n",
    "Rectangulo(3, 3).dibujo()"
   ]
  },
  {
   "cell_type": "markdown",
   "id": "3c7290a2",
   "metadata": {},
   "source": [
    "## Herencia múltiple\n",
    "\n",
    "- En principio, es un concepto sencillo: una clase que hereda desde más de una _parent class_ y puede acceder a funcionalidades de ambos.\n",
    "- En la práctica, hay que ser cuidadosos con los _overrides_ de los métodos."
   ]
  },
  {
   "cell_type": "markdown",
   "id": "375ed231",
   "metadata": {},
   "source": [
    "Los tres principios fundamentales de la programación orientada a objetos son la encapsulación, el polimorfismo y la herencia.\n",
    "\n",
    "Los siguientes tres apuntes explicarán cada uno de ellos, describiendo los conceptos subyacentes y mostrando ejemplos de su implementación en Python.\n",
    "Para que un lenguaje de programación pueda considerarse un lenguaje OOP, debe cumplir estos tres requisitos fundamentales.\n",
    "\n",
    "* Herencia: construir nuevas funcionalidades a partir de código que ya existe.\n",
    "* Polimorfismo: permitir que varias clases tengan métodos con el mismo nombre.\n",
    "* Encapsulamiento: ocultar los detalles internos y mantener todo en un solo lugar.\n",
    "\n",
    "\n",
    "Libro de Irv Kalb"
   ]
  },
  {
   "cell_type": "markdown",
   "id": "ac1c3e0a",
   "metadata": {},
   "source": [
    "* Herencia\n",
    "    * Simple\n",
    "        - Figuras geometricas, sin herencia\n",
    "        - Usamos herencia simple, sin errores\n",
    "        - Sobreescritura de metodos\n",
    "        - Polimorfismo\n",
    "* Multiple\n",
    "    - Uso de `super()`\n",
    "        - Lista ruidosa\n",
    "            ```python\n",
    "            class MyList(list):\n",
    "                def append(self, item):\n",
    "                    print(\"Agregando:\", item)\n",
    "                    super().append(item)\n",
    "            ml = MyList()\n",
    "            ml.append(42)\n",
    "            # Agregando: 42\n",
    "            ```\n",
    "    - MRO"
   ]
  }
 ],
 "metadata": {
  "language_info": {
   "name": "plaintext"
  }
 },
 "nbformat": 4,
 "nbformat_minor": 5
}
