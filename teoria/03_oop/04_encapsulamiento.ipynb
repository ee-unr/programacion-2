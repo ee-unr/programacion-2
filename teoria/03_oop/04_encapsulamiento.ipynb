{
 "cells": [
  {
   "cell_type": "markdown",
   "id": "1a3e084c",
   "metadata": {},
   "source": [
    "---\n",
    "title: \"4 - Encapsulamiento\"\n",
    "toc: true\n",
    "---"
   ]
  },
  {
   "cell_type": "markdown",
   "id": "c23e024e",
   "metadata": {},
   "source": [
    "* Encapsulamiento en detalle.\n",
    "* Métodos públicos y privados.\n",
    "* Métodos de instancia vs. métodos de clase (`@classmethod`)\n",
    "* Métodos estáticos (`@staticmethod`)\n",
    "* Uso de propiedades (`@property`) y setters"
   ]
  },
  {
   "cell_type": "markdown",
   "id": "4493bbee",
   "metadata": {},
   "source": [
    "* Errores\n",
    "    - Elevacion de errores\n",
    "    - Implementacion de errores"
   ]
  }
 ],
 "metadata": {
  "language_info": {
   "name": "plaintext"
  }
 },
 "nbformat": 4,
 "nbformat_minor": 5
}
