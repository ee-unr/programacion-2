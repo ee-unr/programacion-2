{
 "cells": [
  {
   "cell_type": "markdown",
   "id": "9b474fba",
   "metadata": {},
   "source": [
    "---\n",
    "title: \"1 - Fundamentos\"\n",
    "toc: true\n",
    "---"
   ]
  },
  {
   "cell_type": "markdown",
   "id": "9737492c",
   "metadata": {},
   "source": [
    "## Introducción\n",
    "\n",
    "Para hablar de programación orientada a objetos (OOP, por sus siglas en inglés), podemos empezar preguntándonos qué es un objeto. Aunque no solemos pensar en ello de forma consciente, porque todos podemos distinguir un objeto de lo que no lo es, vale la pena definirlo como algo tangible,\n",
    "que se puede percibir, tocar y manipular. ¡Nos pasamos toda la vida interactuando con objetos!\n",
    "\n",
    "En el mundo real, los objetos tienen atributos o propiedades que los describen.\n",
    "Por ejemplo, un televisor tiene forma, tamaño, color, peso, entre otros.\n",
    "Además, los objetos también pueden realizar acciones.\n",
    "Siguiendo con el ejemplo del televisor, puede encenderse, apagarse, cambiar de canal, modificar la fuente de entrada para ver una serie en Netflix o simplemente reproducir música.\n",
    "\n",
    "En programación, la definición de objeto no difiere mucho de la anterior. Aunque los objetos en un programa no sean elementos tangibles que podamos tomar con la mano, tocar o percibir, estos **representan** entidades (o simplemente cosas) que tienen ciertos atributos y acciones.\n",
    "\n",
    "Finalmente, podemos decir que la programación orientada a objetos es un paradigma que organiza el código en torno a objetos, los cuales reúnen atributos (datos) y acciones (métodos) dentro de una misma entidad. Con este enfoque, no solo creamos objetos e interactuamos con ellos, sino que también podemos definir nuevos tipos de objetos.\n"
   ]
  },
  {
   "cell_type": "markdown",
   "id": "acae296a",
   "metadata": {},
   "source": [
    "## Objetos familiares\n",
    "\n",
    "Así como interactuamos con objetos en la vida real desde nuestros primeros días de vida, también lo hemos estado haciendo en Python desde el principio.\n",
    "Por ejemplo, cada vez que creamos una cadena de texto, estamos creando un objeto del tipo `str`."
   ]
  },
  {
   "cell_type": "code",
   "execution_count": 60,
   "id": "77eb2fb0",
   "metadata": {
    "vscode": {
     "languageId": "python"
    }
   },
   "outputs": [
    {
     "name": "stdout",
     "output_type": "stream",
     "text": [
      "x = Hola, soy un objeto de tipo 'str'.\n",
      "y = ¿Y yo? ¡Yo también soy un objeto de tipo 'str'!\n"
     ]
    }
   ],
   "source": [
    "x = \"Hola, soy un objeto de tipo 'str'.\"\n",
    "y = \"¿Y yo? ¡Yo también soy un objeto de tipo 'str'!\"\n",
    "print(f\"x = {x}\")\n",
    "print(f\"y = {y}\")"
   ]
  },
  {
   "cell_type": "markdown",
   "id": "67a1d1d7",
   "metadata": {},
   "source": [
    "Tanto `x` como `y` son objetos del mismo tipo: cadenas de caracteres, que en Python corresponden al tipo `str`.\n",
    "Sin embargo, `x` e `y` no son el mismo objeto, sino dos objetos distintos.\n",
    "Esto puede comprobarse no solo por su contenido (uno de sus atributos), sino también comparando sus identificadores únicos (ID), que son diferentes."
   ]
  },
  {
   "cell_type": "code",
   "execution_count": 61,
   "id": "26032109",
   "metadata": {
    "vscode": {
     "languageId": "python"
    }
   },
   "outputs": [
    {
     "name": "stdout",
     "output_type": "stream",
     "text": [
      "140245465987024\n",
      "140245463567024\n"
     ]
    }
   ],
   "source": [
    "print(id(x))\n",
    "print(id(y))"
   ]
  },
  {
   "cell_type": "markdown",
   "id": "1388bea8",
   "metadata": {},
   "source": [
    "A su vez, los objetos de tipo `str` pueden realizar ciertas acciones.\n",
    "Por ejemplo, si queremos convertir todas las letras de una cadena a mayúsculas, podemos hacer lo siguiente:"
   ]
  },
  {
   "cell_type": "code",
   "execution_count": 62,
   "id": "ef108c41",
   "metadata": {
    "vscode": {
     "languageId": "python"
    }
   },
   "outputs": [
    {
     "data": {
      "text/plain": [
       "\"HOLA, SOY UN OBJETO DE TIPO 'STR'.\""
      ]
     },
     "execution_count": null,
     "metadata": {},
     "output_type": "execute_result"
    }
   ],
   "source": [
    "x.upper()"
   ]
  },
  {
   "cell_type": "markdown",
   "id": "f4ea529a",
   "metadata": {},
   "source": [
    "Las cadenas de caracteres son uno de los muchos tipos de objetos con los que ya hemos interactuado.\n",
    "Todas las estructuras de datos que hemos utilizado —desde las más simples, como los enteros, flotantes y booleanos, hasta las más complejas, como listas, tuplas y diccionarios— no son más que distintos tipos de objetos.\n",
    "\n",
    "En Python, cada tipo de dato está implementado como una clase, y trabajar con estas clases no solo nos permite crear nuestros propios tipos de datos según nuestras necesidades, sino también interactuar con los objetos que generamos a partir de ellas."
   ]
  },
  {
   "cell_type": "markdown",
   "id": "bfe66e5e",
   "metadata": {},
   "source": [
    "## Clases y objetos\n",
    "\n",
    "En el contexto de la programación orientada a objetos, se utilizan **clases** para definir nuevas clases o tipos de objetos, especificando qué atributos deben tener y qué acciones pueden realizar.\n",
    "De forma informal, una clase puede pensarse como una plantilla que determina cómo se ve y se comporta un objeto.\n",
    "\n",
    "Por ejemplo, imaginemos un molde para hacer paletas heladas.\n",
    "Este molde permite producir paletas, pero no es una paleta en sí. De hecho, se parece más a una fábrica de paletas.\n",
    "\n",
    "El molde define aspectos estructurales como la forma y el tamaño de las paletas, pero no determina por completo cómo serán.\n",
    "Podemos llenarlo con diferentes líquidos, sabores, colores o aromas, y así obtener resultados variados a partir del mismo molde.\n",
    "\n",
    "En programación orientada a objetos, una clase cumple un rol similar: define la estructura y el comportamiento general de los objetos que se crearán a partir de ella.\n",
    "Los objetos, en cambio, son las instancias concretas generadas a partir de esa clase, cada una con sus propias características particulares, como cada paleta helada que sale del molde."
   ]
  },
  {
   "cell_type": "markdown",
   "id": "eb182988",
   "metadata": {},
   "source": [
    ":::{.callout-note}\n",
    "### ¿Clases o tipos de datos?\n",
    "\n",
    "En Python, los tipos de datos están implementados como clases. Por eso mismo, en todos los casos debajo, se puede ver que el tipo está precedido por `class`.\n",
    "\n",
    "```python\n",
    "print(type(\"texto\"))\n",
    "print(type([1, 2, 3]))\n",
    "print(type({\"a\": 1, \"b\": 2}))\n",
    "```\n",
    "```cmd\n",
    "<class 'str'>\n",
    "<class 'list'>\n",
    "<class 'dict'>\n",
    "```\n",
    "\n",
    "Así, en Python, es lo mismo hablar de clases o tipos de datos.\n",
    "\n",
    ":::"
   ]
  },
  {
   "cell_type": "markdown",
   "id": "819f7ab9",
   "metadata": {},
   "source": [
    "### Ejemplo: la clase `dict`\n",
    "\n",
    "Los diccionarios de Python son instancias de la clase `dict`. Es esta clase la que define, entre otras cosas, que los diccionarios tienen claves y valores.\n",
    "\n",
    "En el ejemplo debajo, tanto `d1` como `d2` son instancias u objetos de la clase `dict` (es decir, son objetos creados con el mismo molde). Sin embargo, `d1` y `d2` son objetos distintos, que además tienen diferentes valores para sus atributos (claves y valores)."
   ]
  },
  {
   "cell_type": "code",
   "execution_count": 74,
   "id": "3ea8ca4f",
   "metadata": {
    "vscode": {
     "languageId": "python"
    }
   },
   "outputs": [
    {
     "name": "stdout",
     "output_type": "stream",
     "text": [
      "<class 'dict'>\n",
      "<class 'dict'>\n"
     ]
    }
   ],
   "source": [
    "d1 = {\"a\": 100, \"b\": 250}\n",
    "d2 = {\"m\": 20, \"n\": False}\n",
    "\n",
    "print(type(d1))\n",
    "print(type(d2))"
   ]
  },
  {
   "cell_type": "code",
   "execution_count": 75,
   "id": "314bbb68",
   "metadata": {
    "vscode": {
     "languageId": "python"
    }
   },
   "outputs": [
    {
     "name": "stdout",
     "output_type": "stream",
     "text": [
      "False\n",
      "False\n"
     ]
    }
   ],
   "source": [
    "print(d1 is d2)\n",
    "print(d1 == d2)"
   ]
  },
  {
   "cell_type": "markdown",
   "id": "d0530288",
   "metadata": {},
   "source": [
    "Si consultamos la ayuda de `dict` mediante `help(dict)`, podemos ver que Python dice que esto se refiere a una clase:\n",
    "\n",
    "```python\n",
    "help(dict)\n",
    "```\n",
    "```cmd\n",
    "Help on class dict in module builtins:\n",
    "```"
   ]
  },
  {
   "cell_type": "markdown",
   "id": "6461518f",
   "metadata": {},
   "source": [
    ":::{.callout-note}\n",
    "### ¿Objetos o instancias?\n",
    "\n",
    "En el contexto de programación orientada a objetos, los términos \"objeto\" e \"instancia\" suelen usarse de manera intercambiable: ambos hacen referencia a una entidad concreta creada a partir de una clase.\n",
    "\n",
    "En el siguiente ejemplo, decimos que `l` es una instancia de la clase `list`:\n",
    "\n",
    "```python\n",
    "l = list(\"abcde\")\n",
    "```\n",
    "\n",
    ":::"
   ]
  },
  {
   "cell_type": "markdown",
   "id": "332381e0",
   "metadata": {},
   "source": [
    "### Creando nuestras propias clases\n",
    "\n",
    "La definición de una clase, que crea un nuevo tipo de dato, define los atributos de un objeto (datos que representan estado) y las cosas que este objeto puede hacer (funciones que representan comportamiento).\n",
    "\n",
    "Para definir una nueva clase en Python se usa la sentencia `class` seguida del nombre de la clase.\n",
    "Veamos el siguiente ejemplo comentado línea a línea."
   ]
  },
  {
   "cell_type": "code",
   "execution_count": 80,
   "id": "1cdb687d",
   "metadata": {
    "vscode": {
     "languageId": "python"
    }
   },
   "outputs": [],
   "source": [
    "class PaletaHelada:                             # <1>\n",
    "    def __init__(self):                         # <2>\n",
    "        print(\"Creando nueva paleta helada\")    # <3>"
   ]
  },
  {
   "cell_type": "markdown",
   "id": "ed4134a5",
   "metadata": {},
   "source": [
    "1. La sentencia `class` indica el inicio de la definición de una clase. A continuación se escribe el nombre de la clase y, al final, los dos puntos (`:`), que señalan el comienzo del bloque donde se definen sus atributos y funciones (llamados métodos).\n",
    "2. Por lo general, lo primero que se define dentro de una clase es su método de inicialización, siempre llamado `__init__`.\n",
    "    * Este método es ejecutado automáticamente por Python al crear una nueva instancia de la clase.\n",
    "    * Es el lugar adecuado para incluir el código necesario para configurar el estado inicial del objeto.\n",
    "    * Debe recibir al menos un parámetro: `self`, que hace referencia al propio objeto que se está creando.\n",
    "3. Esta línea se ejecuta cada vez que se crea un nuevo objeto de la clase. En este caso, imprime un mensaje en pantalla como parte del proceso de inicialización."
   ]
  },
  {
   "cell_type": "markdown",
   "id": "4d92bbd9",
   "metadata": {},
   "source": [
    "Definir una clase no crea ningún objeto por sí misma; simplemente construye el molde o plantilla a partir del cual se podrán crear objetos más adelante.\n",
    "Para crear un objeto a partir de una clase, es necesario \"llamar\" a la clase, lo que genera una nueva instancia de esa clase."
   ]
  },
  {
   "cell_type": "code",
   "execution_count": 82,
   "metadata": {
    "vscode": {
     "languageId": "python"
    }
   },
   "outputs": [
    {
     "name": "stdout",
     "output_type": "stream",
     "text": [
      "Creando nueva paleta helada\n"
     ]
    }
   ],
   "source": [
    "h1 = PaletaHelada()"
   ]
  },
  {
   "cell_type": "markdown",
   "id": "bf0245e0",
   "metadata": {},
   "source": [
    "De este modo, la variable `h1 representa un objeto de la clase `PaletaHelada`.\n",
    "En otras palabras, hemos creado, al menos en código, una paleta helada.\n",
    "Como las clases son reutilizables, podemos crear tantas paletas heladas como queramos, simplemente creando nuevas instancias de la clase."
   ]
  },
  {
   "cell_type": "code",
   "execution_count": 84,
   "id": "0782555d",
   "metadata": {
    "vscode": {
     "languageId": "python"
    }
   },
   "outputs": [
    {
     "name": "stdout",
     "output_type": "stream",
     "text": [
      "Creando nueva paleta helada\n"
     ]
    }
   ],
   "source": [
    "h2 = PaletaHelada()"
   ]
  },
  {
   "cell_type": "markdown",
   "id": "b61f3ef8",
   "metadata": {},
   "source": [
    "Al imprimir estos objetos, obtenemos una representación generada automáticamente por Python.\n",
    "En ella podemos ver que ambos son instancias de la clase `PaletaHelada`, aunque también queda claro que ocupan ubicaciones distintas en memoria.\n",
    "Esto confirma que se trata de objetos distintos, aunque provengan de la misma clase."
   ]
  },
  {
   "cell_type": "code",
   "execution_count": 83,
   "id": "e1a218f0",
   "metadata": {
    "vscode": {
     "languageId": "python"
    }
   },
   "outputs": [
    {
     "name": "stdout",
     "output_type": "stream",
     "text": [
      "<__main__.PaletaHelada object at 0x7f8d70d7db80>\n",
      "<__main__.PaletaHelada object at 0x7f8d94235670>\n"
     ]
    }
   ],
   "source": [
    "print(h1)\n",
    "print(h2)"
   ]
  },
  {
   "cell_type": "code",
   "execution_count": 70,
   "id": "e8d85871",
   "metadata": {
    "vscode": {
     "languageId": "python"
    }
   },
   "outputs": [],
   "source": [
    "class PaletaHelada:\n",
    "    def __init__(self, gusto):             # <1>\n",
    "        print(f\"Creando nueva paleta helada de gusto {gusto}\")"
   ]
  },
  {
   "cell_type": "code",
   "execution_count": 71,
   "id": "2063aec6",
   "metadata": {
    "vscode": {
     "languageId": "python"
    }
   },
   "outputs": [
    {
     "name": "stdout",
     "output_type": "stream",
     "text": [
      "Creando nueva paleta helada de gusto frutilla\n"
     ]
    }
   ],
   "source": [
    "h1 = PaletaHelada(\"frutilla\")"
   ]
  },
  {
   "cell_type": "code",
   "execution_count": 72,
   "id": "650d71c2",
   "metadata": {
    "vscode": {
     "languageId": "python"
    }
   },
   "outputs": [
    {
     "name": "stdout",
     "output_type": "stream",
     "text": [
      "Creando nueva paleta helada de gusto naranja\n"
     ]
    }
   ],
   "source": [
    "h2 = PaletaHelada(\"naranja\")"
   ]
  },
  {
   "cell_type": "markdown",
   "id": "965b951a",
   "metadata": {},
   "source": [
    "::: {.callout-note}\n",
    "\n",
    "### Instanciación de un nuevo objeto\n",
    "\n",
    "La instanciación es el proceso mediante el cual se crea un objeto a partir de una clase.\n",
    "La sintaxis general es la siguiente:\n",
    "\n",
    "```python\n",
    "<objeto> = <NombreClase>(<argumentos opcionales>)\n",
    "```\n",
    "\n",
    "Aunque al principio pueda parecer poco familiar, en realidad hemos estado instanciando objetos desde los primeros pasos que dimos en Python.\n",
    "Por ejemplo, al escribir `list(\"hola\")`, estamos creando un objeto de la clase `list` a partir de la cadena `\"hola\"`.\n",
    "Del mismo modo, con `range(10)` craemos un objeto de la clase `range`.\n",
    "\n",
    ":::"
   ]
  },
  {
   "cell_type": "markdown",
   "id": "e19c1876",
   "metadata": {},
   "source": [
    "::: {.callout-note}\n",
    "\n",
    "### ¿Sabías que ...? Sobre `__init__`\n",
    "\n",
    "* `__init__` nunca lleva una sentencia `return`.\n",
    "* `__init__` no crea objetos nuevos, pero se suele usar inicializar valores iniciales.\n",
    "* `__init__` no es obligatorio; podemos implementar nuestras clases sin él.\n",
    "\n",
    ":::"
   ]
  },
  {
   "cell_type": "markdown",
   "id": "15e62875",
   "metadata": {},
   "source": [
    "## Atributos"
   ]
  },
  {
   "cell_type": "markdown",
   "id": "9a93a045",
   "metadata": {},
   "source": [
    "Los atributos son variables asociadas a un objeto.\n",
    "\n",
    "Como definir el estado del objeto?"
   ]
  },
  {
   "cell_type": "markdown",
   "id": "1b9d4170",
   "metadata": {},
   "source": [
    "Variables de la instancia.\n",
    "\n",
    "Los objetos tienen acceso a un ambiente de variables propio (_instance scope_).\n",
    "\n",
    "Son cruciales para entender como los objetos \"recuerdan\" datos.\n",
    "\n",
    "Atributos.\n",
    "    * Métodos.\n",
    "    * No hay ninguna sintaxis especial para declararlos. Simplemente se crean cuando se definen.\n",
    "    * Las variables de la instancia u objeto **son propias de cada objeto**.\n",
    "    * Hacer ejemplo donde definamos dos instancias de una misma clase, inicializandolos con diferentes atributos.\n",
    "    * Los atributos pertenecen a los objetos. Los métodos pertenecen a las clases."
   ]
  },
  {
   "cell_type": "markdown",
   "id": "c4b00ed8",
   "metadata": {},
   "source": [
    "## Métodos"
   ]
  },
  {
   "cell_type": "markdown",
   "id": "d1e70e5e",
   "metadata": {},
   "source": [
    "Ahora que sabemos cómo los datos definen el estado del objeto, el último término indefinido que debemos analizar son las acciones que pueden ocurrir en el objeto.\n",
    "\n",
    "Los comportamientos que se pueden realizar en una clase específica de objeto se expresan como los métodos de la clase.\n",
    "\n",
    "A nivel de programación, los métodos son como las funciones, pero tienen acceso a los atributos, en particular a las variables de instancia con los datos asociados a este objeto. Al igual que las funciones, los métodos también pueden aceptar parámetros y devolver valores."
   ]
  },
  {
   "cell_type": "markdown",
   "id": "9d72226d",
   "metadata": {},
   "source": [
    "Funciones\n",
    "\n",
    "Dentro de la definición de la clase se pueden definir \"funciones\", que llamamos métodos de la clase.\n",
    "\n",
    "A diferencia de las funciones regulares, estas funciones tienen que tener al menos un parámetro que representa a la instancia de la clase. Por convención se lo llama `self`.\n",
    "\n",
    "\n",
    "Un método es una función definida dentro de una clase y debe tener al menos un parámetro, por convención llamado `self`."
   ]
  },
  {
   "cell_type": "markdown",
   "id": "dba42cc8",
   "metadata": {},
   "source": [
    "\n",
    "* Diferencias entre funciones y métodos.\n",
    "    * Todos los métodos de una clase deben estar definidos **dentro** de la clase. Para ello todo el bloque de definición debe estar indentado.\n",
    "    * Todos los métodos de una clase tienen un primer parámetro, que es especial, y por convención se lo llama `self`.\n",
    "    * Los métodos de una clase **pueden** usar variables de la instancia, escritos como `self.<variableName>`."
   ]
  },
  {
   "cell_type": "markdown",
   "id": "c2ca1c5e",
   "metadata": {},
   "source": [
    "Los métodos son funciones asociadas a objetos de una clase particular.\n",
    "Por ejemplo, el método `upper` es un método de las cadenas de caracteres y podemos llamarlo sobre una así:"
   ]
  },
  {
   "cell_type": "code",
   "execution_count": 73,
   "id": "21b78672",
   "metadata": {
    "vscode": {
     "languageId": "python"
    }
   },
   "outputs": [
    {
     "data": {
      "text/plain": [
       "'ROSARIO'"
      ]
     },
     "execution_count": null,
     "metadata": {},
     "output_type": "execute_result"
    }
   ],
   "source": [
    "\"Rosario\".upper()"
   ]
  },
  {
   "cell_type": "markdown",
   "id": "e41b18e3",
   "metadata": {},
   "source": [
    "Pero no podemos llamarlo sobre una lista:\n",
    "\n",
    "```python\n",
    "[\"Rosario\", \"Santa Fe\"].upper()\n",
    "```\n",
    "```cmd\n",
    "AttributeError: 'list' object has no attribute 'upper'\n",
    "```"
   ]
  },
  {
   "cell_type": "markdown",
   "id": "904c663c",
   "metadata": {},
   "source": [
    "* Metodos sin argumentos\n",
    "* Metodos con argumentos\n",
    "* Metodos que no devuelven nada, metodos que devuelven algo\n",
    "* Metodos que modifican al objeto.\n",
    "* Metodos que devuelven al objeto, para encadenamiento de métodos."
   ]
  },
  {
   "cell_type": "markdown",
   "id": "eb2fef74",
   "metadata": {},
   "source": [
    "## Resumen"
   ]
  },
  {
   "cell_type": "markdown",
   "id": "40d64043",
   "metadata": {},
   "source": [
    "OOP es un tópico muy amplio.\n",
    "\n",
    "Algunos lenguajes de programación (Java) requieren que el código se escriba siguiendo el paradigma orientado a objetos.\n",
    "En Python, el programador puede decidir utilizar las herramientas de OOP o no, no está obligado.\n",
    "\n",
    "En Python, clase, type y tipo de dato tienen el mismo significado.\n",
    "\n",
    "* Un objeto combina datos con comportamiento.\n",
    "    * Los datos del objeto definen el estado del mismo. Los objetos **tienen** estado.\n",
    "    * Cada objeto puede tener valores independientes para sus atributos.\n",
    "    * La clase es quien define los atributos que tendrán todas las instancias de la misma."
   ]
  }
 ],
 "metadata": {
  "language_info": {
   "name": "plaintext"
  }
 },
 "nbformat": 4,
 "nbformat_minor": 5
}
