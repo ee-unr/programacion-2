{
 "cells": [
  {
   "cell_type": "markdown",
   "id": "9b474fba",
   "metadata": {},
   "source": [
    "---\n",
    "title: \"1 - Fundamentos\"\n",
    "toc: true\n",
    "---"
   ]
  },
  {
   "cell_type": "markdown",
   "id": "9737492c",
   "metadata": {},
   "source": [
    "## Introducción\n",
    "\n",
    "Para hablar de programación orientada a objetos (OOP, por sus siglas en inglés), podemos empezar preguntándonos qué es un objeto. Aunque no solemos pensar en ello de forma consciente, porque todos podemos distinguir un objeto de lo que no lo es, vale la pena definirlo como algo tangible,\n",
    "que se puede percibir, tocar y manipular. ¡Nos pasamos toda la vida interactuando con objetos!\n",
    "\n",
    "En el mundo real, los objetos tienen atributos o propiedades que los describen.\n",
    "Por ejemplo, un televisor tiene forma, tamaño, color, peso, entre otros.\n",
    "Además, los objetos también pueden realizar acciones.\n",
    "Siguiendo con el ejemplo del televisor, puede encenderse, apagarse, cambiar de canal, modificar la fuente de entrada para ver una serie en Netflix o simplemente reproducir música.\n",
    "\n",
    "En programación, la definición de objeto no difiere mucho de la anterior.  Aunque los objetos no sean elementos físicos, representan entidades que poseen atributos y pueden ejecutar acciones.\n",
    "\n",
    "La programación orientada a objetos es un paradigma que organiza el código en torno a estos objetos, que combinan datos (atributos) y comportamientos o acciones (métodos) dentro de una misma entidad. \n",
    "Este enfoque permite no solo crear e interactuar con objetos, sino también definir nuestros propios tipos de objetos, adaptados a las necesidades del programa."
   ]
  },
  {
   "cell_type": "markdown",
   "id": "acae296a",
   "metadata": {},
   "source": [
    "## Objetos familiares\n",
    "\n",
    "Así como interactuamos con objetos en la vida real desde nuestros primeros días, también lo hemos estado haciendo en Python desde el comienzo.\n",
    "Por ejemplo, cada vez que creamos una cadena de texto, en realidad estamos creando un objeto de la clase `str`."
   ]
  },
  {
   "cell_type": "code",
   "execution_count": 1,
   "id": "77eb2fb0",
   "metadata": {
    "vscode": {
     "languageId": "python"
    }
   },
   "outputs": [
    {
     "name": "stdout",
     "output_type": "stream",
     "text": [
      "x = Hola, soy un objeto de tipo 'str'.\n",
      "y = ¿Y yo? ¡Yo también soy un objeto de tipo 'str'!\n"
     ]
    }
   ],
   "source": [
    "x = \"Hola, soy un objeto de tipo 'str'.\"\n",
    "y = \"¿Y yo? ¡Yo también soy un objeto de tipo 'str'!\"\n",
    "print(f\"x = {x}\")\n",
    "print(f\"y = {y}\")"
   ]
  },
  {
   "cell_type": "markdown",
   "id": "67a1d1d7",
   "metadata": {},
   "source": [
    "Tanto `x` como `y` son objetos del mismo tipo: cadenas de caracteres, que en Python corresponden al tipo `str`.\n",
    "Sin embargo, `x` e `y` no son el mismo objeto, sino dos objetos distintos.\n",
    "Esto puede comprobarse no solo por su contenido (uno de sus atributos), sino también comparando sus identificadores únicos (ID), que son diferentes."
   ]
  },
  {
   "cell_type": "code",
   "execution_count": 2,
   "id": "26032109",
   "metadata": {
    "vscode": {
     "languageId": "python"
    }
   },
   "outputs": [
    {
     "name": "stdout",
     "output_type": "stream",
     "text": [
      "140223504929120\n",
      "140223504962192\n"
     ]
    }
   ],
   "source": [
    "print(id(x))\n",
    "print(id(y))"
   ]
  },
  {
   "cell_type": "markdown",
   "id": "1388bea8",
   "metadata": {},
   "source": [
    "A su vez, los objetos de tipo `str` pueden realizar ciertas acciones.\n",
    "Por ejemplo, si queremos convertir todas las letras de una cadena a mayúsculas, podemos hacer lo siguiente:"
   ]
  },
  {
   "cell_type": "code",
   "execution_count": 3,
   "id": "ef108c41",
   "metadata": {
    "vscode": {
     "languageId": "python"
    }
   },
   "outputs": [
    {
     "data": {
      "text/plain": [
       "\"HOLA, SOY UN OBJETO DE TIPO 'STR'.\""
      ]
     },
     "execution_count": null,
     "metadata": {},
     "output_type": "execute_result"
    }
   ],
   "source": [
    "x.upper()"
   ]
  },
  {
   "cell_type": "markdown",
   "id": "f4ea529a",
   "metadata": {},
   "source": [
    "Las cadenas de caracteres son uno de los muchos tipos de objetos con los que ya hemos interactuado.\n",
    "Todas las estructuras de datos que hemos utilizado —desde las más simples, como los enteros, flotantes y booleanos, hasta las más complejas, como listas, tuplas y diccionarios— no son más que distintos tipos de objetos.\n",
    "\n",
    "En Python, cada tipo de dato está implementado como una clase, y trabajar con estas clases no solo nos permite crear nuestros propios tipos de datos según nuestras necesidades, sino también interactuar con los objetos que generamos a partir de ellas."
   ]
  },
  {
   "cell_type": "markdown",
   "id": "bfe66e5e",
   "metadata": {},
   "source": [
    "## Clases y objetos\n",
    "\n",
    "En el contexto de la programación orientada a objetos, se utilizan **clases** para definir nuevas clases o tipos de objetos, especificando qué atributos deben tener y qué acciones pueden realizar.\n",
    "De forma informal, una clase puede pensarse como una plantilla que determina cómo se ve y se comporta un objeto.\n",
    "\n",
    "Por ejemplo, imaginemos un molde para hacer paletas heladas.\n",
    "Este molde permite producir paletas, pero no es una paleta en sí. De hecho, se parece más a una fábrica de paletas.\n",
    "\n",
    "El molde define aspectos estructurales como la forma y el tamaño de las paletas, pero no determina por completo cómo serán.\n",
    "Podemos llenarlo con diferentes líquidos, sabores, colores o aromas, y así obtener resultados variados a partir del mismo molde.\n",
    "\n",
    "En programación orientada a objetos, una clase cumple un rol similar: define la estructura y el comportamiento general de los objetos que se crearán a partir de ella.\n",
    "Los objetos, en cambio, son las instancias concretas generadas a partir de esa clase, cada una con sus propias características particulares, como cada paleta helada que sale del molde."
   ]
  },
  {
   "cell_type": "markdown",
   "id": "eb182988",
   "metadata": {},
   "source": [
    ":::{.callout-note}\n",
    "### ¿Clases o tipos?\n",
    "\n",
    "En Python, los tipos de datos están implementados como clases. Por eso mismo, en todos los casos debajo, se puede ver que el tipo está precedido por `class`.\n",
    "\n",
    "```python\n",
    "print(type(\"texto\"))\n",
    "print(type([1, 2, 3]))\n",
    "print(type({\"a\": 1, \"b\": 2}))\n",
    "```\n",
    "```cmd\n",
    "<class 'str'>\n",
    "<class 'list'>\n",
    "<class 'dict'>\n",
    "```\n",
    "\n",
    "Así, en Python, es lo mismo hablar de clases o tipos de datos.\n",
    "\n",
    ":::"
   ]
  },
  {
   "cell_type": "markdown",
   "id": "819f7ab9",
   "metadata": {},
   "source": [
    "### Ejemplo: la clase `dict`\n",
    "\n",
    "Los diccionarios de Python son instancias de la clase `dict`. Es esta clase la que define, entre otras cosas, que los diccionarios tienen claves y valores.\n",
    "\n",
    "En el ejemplo debajo, tanto `d1` como `d2` son instancias u objetos de la clase `dict` (es decir, son objetos creados con el mismo molde). Sin embargo, `d1` y `d2` son objetos distintos, que además tienen diferentes valores para sus atributos (claves y valores)."
   ]
  },
  {
   "cell_type": "code",
   "execution_count": 4,
   "id": "3ea8ca4f",
   "metadata": {
    "vscode": {
     "languageId": "python"
    }
   },
   "outputs": [
    {
     "name": "stdout",
     "output_type": "stream",
     "text": [
      "<class 'dict'>\n",
      "<class 'dict'>\n"
     ]
    }
   ],
   "source": [
    "d1 = {\"a\": 100, \"b\": 250}\n",
    "d2 = {\"m\": 20, \"n\": False}\n",
    "\n",
    "print(type(d1))\n",
    "print(type(d2))"
   ]
  },
  {
   "cell_type": "code",
   "execution_count": 5,
   "id": "314bbb68",
   "metadata": {
    "vscode": {
     "languageId": "python"
    }
   },
   "outputs": [
    {
     "name": "stdout",
     "output_type": "stream",
     "text": [
      "False\n",
      "False\n"
     ]
    }
   ],
   "source": [
    "print(d1 is d2)\n",
    "print(d1 == d2)"
   ]
  },
  {
   "cell_type": "markdown",
   "id": "d0530288",
   "metadata": {},
   "source": [
    "Si consultamos la ayuda de `dict` mediante `help(dict)`, podemos ver que Python dice que esto se refiere a una clase:\n",
    "\n",
    "```python\n",
    "help(dict)\n",
    "```\n",
    ":::{.code-help}\n",
    "```cmd\n",
    "Help on class dict in module builtins:\n",
    "```\n",
    ":::"
   ]
  },
  {
   "cell_type": "markdown",
   "id": "6461518f",
   "metadata": {},
   "source": [
    ":::{.callout-note}\n",
    "### ¿Objetos o instancias?\n",
    "\n",
    "En el contexto de programación orientada a objetos, los términos \"objeto\" e \"instancia\" suelen usarse de manera intercambiable: ambos hacen referencia a una entidad concreta creada a partir de una clase.\n",
    "\n",
    "En el siguiente ejemplo, decimos que `l` es una instancia de la clase `list`:\n",
    "\n",
    "```python\n",
    "l = list(\"abcde\")\n",
    "```\n",
    "\n",
    ":::"
   ]
  },
  {
   "cell_type": "markdown",
   "id": "332381e0",
   "metadata": {},
   "source": [
    "## Creando nuestras propias clases\n",
    "\n",
    "La definición de una clase, que crea un nuevo tipo de dato, define los atributos de un objeto (datos que representan estado) y las cosas que este objeto puede hacer (funciones que representan comportamiento).\n",
    "\n",
    "Para definir una nueva clase en Python se usa la sentencia `class` seguida del nombre de la clase.\n",
    "Veamos el siguiente ejemplo comentado línea a línea."
   ]
  },
  {
   "cell_type": "code",
   "execution_count": 6,
   "id": "1cdb687d",
   "metadata": {
    "vscode": {
     "languageId": "python"
    }
   },
   "outputs": [],
   "source": [
    "class PaletaHelada:                             # <1>\n",
    "    def __init__(self):                         # <2>\n",
    "        print(\"Creando nueva paleta helada\")    # <3>"
   ]
  },
  {
   "cell_type": "markdown",
   "id": "ed4134a5",
   "metadata": {},
   "source": [
    "1. La sentencia `class` indica el inicio de la definición de una clase. A continuación se escribe el nombre de la clase y, al final, los dos puntos (`:`), que señalan el comienzo del bloque donde se definen sus atributos y funciones (llamados métodos).\n",
    "2. Por lo general, lo primero que se define dentro de una clase es su método de inicialización, siempre llamado `__init__`.\n",
    "    * Este método es ejecutado automáticamente por Python al crear una nueva instancia de la clase.\n",
    "    * Es el lugar adecuado para incluir el código necesario para configurar el estado inicial del objeto.\n",
    "    * Debe recibir al menos un parámetro: `self`, que hace referencia al propio objeto que se está creando.\n",
    "3. Esta línea se ejecuta cada vez que se crea un nuevo objeto de la clase. En este caso, imprime un mensaje en pantalla como parte del proceso de inicialización."
   ]
  },
  {
   "cell_type": "markdown",
   "id": "4d92bbd9",
   "metadata": {},
   "source": [
    "Definir una clase no crea ningún objeto por sí misma; simplemente construye el molde o plantilla a partir del cual se podrán crear objetos más adelante.\n",
    "\n",
    "Para crear un objeto a partir de una clase, es necesario \"llamar\" a la clase, lo que genera una nueva instancia de esa clase."
   ]
  },
  {
   "cell_type": "code",
   "execution_count": 7,
   "metadata": {
    "vscode": {
     "languageId": "python"
    }
   },
   "outputs": [
    {
     "name": "stdout",
     "output_type": "stream",
     "text": [
      "Creando nueva paleta helada\n"
     ]
    }
   ],
   "source": [
    "paleta1 = PaletaHelada()"
   ]
  },
  {
   "cell_type": "markdown",
   "id": "bf0245e0",
   "metadata": {},
   "source": [
    "La variable `paleta1` representa un objeto de la clase `PaletaHelada`.\n",
    "En otras palabras, hemos creado, al menos en código, una paleta helada.\n",
    "\n",
    "Como las clases son reutilizables, podemos crear tantas paletas heladas como queramos, simplemente creando nuevas instancias de la clase."
   ]
  },
  {
   "cell_type": "code",
   "execution_count": 8,
   "id": "0782555d",
   "metadata": {
    "vscode": {
     "languageId": "python"
    }
   },
   "outputs": [
    {
     "name": "stdout",
     "output_type": "stream",
     "text": [
      "Creando nueva paleta helada\n"
     ]
    }
   ],
   "source": [
    "paleta2 = PaletaHelada()"
   ]
  },
  {
   "cell_type": "markdown",
   "id": "b61f3ef8",
   "metadata": {},
   "source": [
    "Al imprimir estos objetos, obtenemos una representación generada automáticamente por Python.\n",
    "En ella podemos ver que ambos son instancias de la clase `PaletaHelada`, aunque también queda claro que ocupan ubicaciones distintas en memoria.\n",
    "Esto confirma que se trata de objetos distintos, aunque provengan de la misma clase."
   ]
  },
  {
   "cell_type": "code",
   "execution_count": 9,
   "id": "e1a218f0",
   "metadata": {
    "vscode": {
     "languageId": "python"
    }
   },
   "outputs": [
    {
     "name": "stdout",
     "output_type": "stream",
     "text": [
      "<__main__.PaletaHelada object at 0x7f8854339220>\n",
      "<__main__.PaletaHelada object at 0x7f8854338530>\n"
     ]
    }
   ],
   "source": [
    "print(paleta1)\n",
    "print(paleta2)"
   ]
  },
  {
   "cell_type": "markdown",
   "id": "978f20ac",
   "metadata": {},
   "source": [
    "### Parámetros de inicialización\n",
    "\n",
    "También es posible pasar argumentos al momento de inicializar un objeto. Previamente, tenemos que agregar los parámetros necesarios en el método de inicialización."
   ]
  },
  {
   "cell_type": "code",
   "execution_count": 10,
   "id": "e8d85871",
   "metadata": {
    "vscode": {
     "languageId": "python"
    }
   },
   "outputs": [],
   "source": [
    "class PaletaHelada:\n",
    "    def __init__(self, gusto):                                 # <1>\n",
    "        print(f\"Creando nueva paleta helada de gusto {gusto}\") # <2>"
   ]
  },
  {
   "cell_type": "markdown",
   "id": "2119cbf8",
   "metadata": {},
   "source": [
    "1. El método `__init__` ahora recibe dos parámetros:\n",
    "   * `self`, que es obligatorio y representa la instancia que se está creando. \n",
    "   * `gusto`, que nos permite especificar el sabor del helado al momento de instanciar el objeto.\n",
    "2. El valor de `gusto` se utiliza para mostrar un mensaje de inicialización personalizado, indicando el sabor de la paleta.\n",
    "\n",
    "Gracias a esto, ahora podemos crear paletas heladas con distintos sabores, como frutilla, naranja, entre otros."
   ]
  },
  {
   "cell_type": "code",
   "execution_count": 11,
   "id": "2063aec6",
   "metadata": {
    "vscode": {
     "languageId": "python"
    }
   },
   "outputs": [
    {
     "name": "stdout",
     "output_type": "stream",
     "text": [
      "Creando nueva paleta helada de gusto frutilla\n",
      "Creando nueva paleta helada de gusto naranja\n"
     ]
    }
   ],
   "source": [
    "paleta1 = PaletaHelada(\"frutilla\")\n",
    "paleta2 = PaletaHelada(\"naranja\")"
   ]
  },
  {
   "cell_type": "markdown",
   "id": "404dae4a",
   "metadata": {},
   "source": [
    "Sin embargo, podemos observar que ninguna de estas dos instancias recuerda algo relacionado al gusto con el que fue inicializado."
   ]
  },
  {
   "cell_type": "markdown",
   "id": "c6b19b41",
   "metadata": {},
   "source": [
    "```python\n",
    "paleta1.gusto\n",
    "```\n",
    "::: {.code-error}\n",
    "```python\n",
    "AttributeError: 'PaletaHelada' object has no attribute 'gusto'\n",
    "```\n",
    ":::\n",
    "\n",
    "```python\n",
    "paleta2.gusto\n",
    "```\n",
    "::: {.code-error}\n",
    "```python\n",
    "AttributeError: 'PaletaHelada' object has no attribute 'gusto'\n",
    "```\n",
    ":::"
   ]
  },
  {
   "cell_type": "markdown",
   "id": "8ac848f8",
   "metadata": {},
   "source": [
    "Si queremos que nuestros objetos puedan recordar datos, necesitamos comprender cómo se utilizan los **atributos**."
   ]
  },
  {
   "cell_type": "markdown",
   "id": "965b951a",
   "metadata": {},
   "source": [
    "::: {.callout-note}\n",
    "\n",
    "### Instanciación de un nuevo objeto\n",
    "\n",
    "La instanciación es el proceso mediante el cual se crea un objeto a partir de una clase.\n",
    "La sintaxis general es la siguiente:\n",
    "\n",
    "```python\n",
    "<objeto> = <NombreClase>(<argumentos opcionales>)\n",
    "```\n",
    "\n",
    "Aunque al principio pueda parecer poco familiar, en realidad hemos estado instanciando objetos desde los primeros pasos que dimos en Python.\n",
    "Por ejemplo, al escribir `list(\"hola\")`, estamos creando un objeto de la clase `list` a partir de la cadena `\"hola\"`.\n",
    "Del mismo modo, con `range(10)` craemos un objeto de la clase `range`.\n",
    "\n",
    ":::"
   ]
  },
  {
   "cell_type": "markdown",
   "id": "b372d323",
   "metadata": {},
   "source": [
    "## Atributos\n",
    "\n",
    "Los atributos son variables asociadas a un objeto que representan su estado.\n",
    "\n",
    "En Python, los atributos no requieren ninguna sintaxis especial para ser declarados. Simplemente se crean dentro de un método (generalmente en `__init__`) usando la notación `self.<atributo>`.\n",
    "\n",
    "En nuestro ejemplo de la clase `PaletaHelada`, podemos hacer:"
   ]
  },
  {
   "cell_type": "code",
   "execution_count": 12,
   "id": "31e81676",
   "metadata": {
    "vscode": {
     "languageId": "python"
    }
   },
   "outputs": [],
   "source": [
    "class PaletaHelada:\n",
    "    def __init__(self, gusto):\n",
    "        self.gusto = gusto          # <1>"
   ]
  },
  {
   "cell_type": "markdown",
   "id": "3b7cf979",
   "metadata": {},
   "source": [
    "1. El valor de `gusto` que se pasa al momento de crear la instancia se asigna al atributo `gusto` del objeto.\n",
    "\n",
    "Aunque la representación automática del objeto no cambia, ahora el objeto tiene **estado**: puede \"recordar\" el gusto con el que fue inicializado."
   ]
  },
  {
   "cell_type": "code",
   "execution_count": 13,
   "id": "64a652b8",
   "metadata": {
    "vscode": {
     "languageId": "python"
    }
   },
   "outputs": [
    {
     "data": {
      "text/plain": [
       "<__main__.PaletaHelada at 0x7f8854339c70>"
      ]
     },
     "execution_count": null,
     "metadata": {},
     "output_type": "execute_result"
    }
   ],
   "source": [
    "paleta1 = PaletaHelada(\"frutilla\")\n",
    "paleta1"
   ]
  },
  {
   "cell_type": "code",
   "execution_count": 14,
   "id": "818d44e2",
   "metadata": {
    "vscode": {
     "languageId": "python"
    }
   },
   "outputs": [
    {
     "data": {
      "text/plain": [
       "'frutilla'"
      ]
     },
     "execution_count": null,
     "metadata": {},
     "output_type": "execute_result"
    }
   ],
   "source": [
    "paleta1.gusto"
   ]
  },
  {
   "cell_type": "markdown",
   "id": "0cfdca17",
   "metadata": {},
   "source": [
    "En este caso, la variable `gusto` es una **variable de instancia** o **atributo de instancia**.\n",
    "Estas variables existen solo dentro del objeto que las contiene, y no afectan a otras instancias de la misma clase.\n",
    "Así, distintos objetos de una misma clase pueden tener valores diferentes en sus atributos."
   ]
  },
  {
   "cell_type": "code",
   "execution_count": 15,
   "id": "9819a2af",
   "metadata": {
    "vscode": {
     "languageId": "python"
    }
   },
   "outputs": [
    {
     "name": "stdout",
     "output_type": "stream",
     "text": [
      "naranja\n",
      "frutilla\n"
     ]
    }
   ],
   "source": [
    "paleta2 = PaletaHelada(\"naranja\")\n",
    "print(paleta2.gusto)\n",
    "print(paleta1.gusto)"
   ]
  },
  {
   "cell_type": "markdown",
   "id": "9a93a045",
   "metadata": {},
   "source": [
    "Los atributos también pueden definirse o modificarse fuera de los métodos de la clase.\n",
    "\n",
    "Por ejemplo, es posible cambiar el valor de un atributo simplemente asignándole un nuevo valor utilizando la instancia:"
   ]
  },
  {
   "cell_type": "code",
   "execution_count": 16,
   "id": "f4de98fd",
   "metadata": {
    "vscode": {
     "languageId": "python"
    }
   },
   "outputs": [],
   "source": [
    "paleta1.gusto = \"crema americana\""
   ]
  },
  {
   "cell_type": "code",
   "execution_count": 17,
   "id": "a245d087",
   "metadata": {
    "vscode": {
     "languageId": "python"
    }
   },
   "outputs": [
    {
     "data": {
      "text/plain": [
       "'crema americana'"
      ]
     },
     "execution_count": null,
     "metadata": {},
     "output_type": "execute_result"
    }
   ],
   "source": [
    "paleta1.gusto"
   ]
  },
  {
   "cell_type": "markdown",
   "id": "7c1517af",
   "metadata": {},
   "source": [
    "Y también se puede asignarle un valor a un nuevo atributo:"
   ]
  },
  {
   "cell_type": "code",
   "execution_count": 18,
   "id": "992ddca4",
   "metadata": {
    "vscode": {
     "languageId": "python"
    }
   },
   "outputs": [
    {
     "name": "stdout",
     "output_type": "stream",
     "text": [
      "crema americana, chocolate\n"
     ]
    }
   ],
   "source": [
    "paleta1.cobertura = \"chocolate\"\n",
    "\n",
    "print(paleta1.gusto, paleta1.cobertura, sep=\", \")"
   ]
  },
  {
   "cell_type": "markdown",
   "id": "2788c71e",
   "metadata": {},
   "source": [
    "Este nuevo atributo existe únicamente en la instancia a la que fue asignado (`paleta1`). Es decir, `paleta2` no tiene un atributo llamado `cobertura`, ya que no fue definido durante su inicialización ni se le asignó más adelante.\n",
    "\n",
    "```python\n",
    "paleta2.cobertura\n",
    "```\n",
    "::: {.code-error}\n",
    "```python\n",
    "AttributeError: 'PaletaHelada' object has no attribute 'cobertura'\n",
    "```\n",
    ":::\n",
    "\n",
    "\n",
    "En Python, los atributos de instancia son independientes entre objetos: si un atributo no se define explícitamente en una instancia, simplemente no existe en ella."
   ]
  },
  {
   "cell_type": "markdown",
   "id": "4d3a42e0",
   "metadata": {},
   "source": [
    "### Atributos opcionales\n",
    "\n",
    "Aunque Python permite crear nuevos atributos fuera del proceso de inicialización de un objeto, eso no significa que sea una práctica recomendable en todos los casos.\n",
    "\n",
    "Asignar un atributo directamente a una instancia específica puede generar inconsistencias: terminamos con objetos de la misma clase que no comparten la misma estructura de atributos.\n",
    "Esto puede dificultar la lectura del código y producir errores si intentamos acceder a un atributo que no existe en todas las instancias.\n",
    "\n",
    "Una alternativa más clara y segura es definir atributos opcionales dentro del método `__init__`, asignándoles un valor por defecto como `None`.\n",
    "De esta forma, todas las instancias tendrán los mismos atributos, aunque algunos puedan no tener un valor definido inicialmente.\n"
   ]
  },
  {
   "cell_type": "code",
   "execution_count": 19,
   "id": "b9575340",
   "metadata": {
    "vscode": {
     "languageId": "python"
    }
   },
   "outputs": [],
   "source": [
    "class PaletaHelada:\n",
    "    def __init__(self, gusto, cobertura=None):\n",
    "        self.gusto = gusto\n",
    "        self.cobertura = cobertura\n",
    "\n",
    "paleta1 = PaletaHelada(\"crema americana\", \"chocolate\")\n",
    "paleta2 = PaletaHelada(\"frutilla\")"
   ]
  },
  {
   "cell_type": "code",
   "execution_count": 20,
   "id": "49adc000",
   "metadata": {
    "vscode": {
     "languageId": "python"
    }
   },
   "outputs": [
    {
     "name": "stdout",
     "output_type": "stream",
     "text": [
      "crema americana, chocolate\n",
      "frutilla, None\n"
     ]
    }
   ],
   "source": [
    "print(paleta1.gusto, paleta1.cobertura, sep=\", \")\n",
    "print(paleta2.gusto, paleta2.cobertura, sep=\", \")"
   ]
  },
  {
   "cell_type": "markdown",
   "id": "35540b7b",
   "metadata": {},
   "source": [
    "Con este enfoque, ambos objetos tienen los mismos atributos (`gusto` y `cobertura`), lo que mantiene la consistencia entre instancias de la clase.\n",
    "En el caso de `paleta2`, como no se especificó ninguna cobertura al crear el objeto, el valor de `cobertura` es `None`, lo cual indica que esa paleta no tiene ninguna cobertura."
   ]
  },
  {
   "cell_type": "markdown",
   "id": "c4b00ed8",
   "metadata": {},
   "source": [
    "## Métodos\n",
    "\n",
    "Ahora que comprendemos cómo los datos definen el **estado** de un objeto, el último concepto que nos falta abordar son las **acciones** que un objeto puede realizar.\n",
    "\n",
    "Para llevar a cabo acciones, los objetos utilizan **métodos**.\n",
    "\n",
    "Los métodos son **funciones asociadas a una clase determinada**, y permiten que los objetos de la clase realicen operaciones o modifiquen su propio estado.\n",
    "\n",
    "Por ejemplo, el método `upper` es un método propio de los objetos de tipo `str` (cadenas de caracteres) y podemos invocarlo de la siguiente manera:"
   ]
  },
  {
   "cell_type": "code",
   "execution_count": 21,
   "id": "b3e82dcf",
   "metadata": {
    "vscode": {
     "languageId": "python"
    }
   },
   "outputs": [
    {
     "data": {
      "text/plain": [
       "'ROSARIO'"
      ]
     },
     "execution_count": null,
     "metadata": {},
     "output_type": "execute_result"
    }
   ],
   "source": [
    "\"Rosario\".upper()"
   ]
  },
  {
   "cell_type": "markdown",
   "id": "751c7357",
   "metadata": {},
   "source": [
    "Pero no podemos llamarlo sobre una lista:\n",
    "\n",
    "```python\n",
    "[\"Rosario\", \"Santa Fe\"].upper()\n",
    "```\n",
    "\n",
    "::: {.code-error}\n",
    "```python\n",
    "AttributeError: 'list' object has no attribute 'upper'\n",
    "```\n",
    ":::"
   ]
  },
  {
   "cell_type": "markdown",
   "id": "efb7e6da",
   "metadata": {},
   "source": [
    "En el caso de las clases creadas por nosotros, los métodos no son más que funciones definidas dentro de la clase.\n",
    "\n",
    "A diferencia de las funciones normales, todos los métodos deben tener al menos un parámetro especial, llamado `self` por convención, que representa a la instancia sobre la que se está llamando el método.\n",
    "\n",
    "Gracias a `self`, los métodos pueden acceder y modificar los atributos del objeto:"
   ]
  },
  {
   "cell_type": "code",
   "execution_count": 22,
   "id": "248d10f0",
   "metadata": {
    "vscode": {
     "languageId": "python"
    }
   },
   "outputs": [],
   "source": [
    "class PaletaHelada:\n",
    "    def __init__(self, gusto, cobertura=None):\n",
    "        self.gusto = gusto\n",
    "        self.cobertura = cobertura\n",
    "\n",
    "    def mostrar_info(self):\n",
    "        print(\"PaletaHelada\")\n",
    "        print(f\" - Gusto: {self.gusto}\")\n",
    "        print(f\" - Cobertura: {self.cobertura}\")"
   ]
  },
  {
   "cell_type": "code",
   "execution_count": 23,
   "id": "57995923",
   "metadata": {
    "vscode": {
     "languageId": "python"
    }
   },
   "outputs": [
    {
     "data": {
      "text/plain": [
       "<__main__.PaletaHelada at 0x7f885433b440>"
      ]
     },
     "execution_count": null,
     "metadata": {},
     "output_type": "execute_result"
    }
   ],
   "source": [
    "paleta = PaletaHelada(gusto=\"Dulce de leche\", cobertura=\"Chocolate amargo\")\n",
    "paleta"
   ]
  },
  {
   "cell_type": "markdown",
   "id": "2ccc4f00",
   "metadata": {},
   "source": [
    "Para ejecutar el método, se lo llama de la misma forma que a cualquier otro método."
   ]
  },
  {
   "cell_type": "code",
   "execution_count": 24,
   "id": "27ee18ee",
   "metadata": {
    "vscode": {
     "languageId": "python"
    }
   },
   "outputs": [
    {
     "name": "stdout",
     "output_type": "stream",
     "text": [
      "PaletaHelada\n",
      " - Gusto: Dulce de leche\n",
      " - Cobertura: Chocolate amargo\n"
     ]
    }
   ],
   "source": [
    "paleta.mostrar_info()"
   ]
  },
  {
   "cell_type": "code",
   "execution_count": 25,
   "id": "279eadef",
   "metadata": {
    "vscode": {
     "languageId": "python"
    }
   },
   "outputs": [
    {
     "name": "stdout",
     "output_type": "stream",
     "text": [
      "PaletaHelada\n",
      " - Gusto: Mentra granizada\n",
      " - Cobertura: Chocolate blanco\n"
     ]
    }
   ],
   "source": [
    "paleta2 = PaletaHelada(gusto=\"Mentra granizada\", cobertura=\"Chocolate blanco\")\n",
    "paleta2.mostrar_info()"
   ]
  },
  {
   "cell_type": "markdown",
   "id": "8e6a8701",
   "metadata": {},
   "source": [
    "### Métodos que modifican estado\n",
    "\n",
    "El método `mostrar_info` no altera el estado del objeto: simplemente muestra un resumen de su estado actual.\n",
    "\n",
    "Sin embargo, como los métodos acceden al objeto mediante `self`, también pueden **modificar su estado**.\n",
    "\n",
    "En el siguiente ejemplo, el método `quitar_cobertura` elimina cualquier cobertura que pueda tener nuestro helado."
   ]
  },
  {
   "cell_type": "code",
   "execution_count": 26,
   "metadata": {
    "vscode": {
     "languageId": "python"
    }
   },
   "outputs": [
    {
     "name": "stdout",
     "output_type": "stream",
     "text": [
      "PaletaHelada\n",
      " - Gusto: Chocolate\n",
      " - Cobertura: Chocolate\n",
      "\n",
      "PaletaHelada\n",
      " - Gusto: Chocolate\n",
      " - Cobertura: None\n"
     ]
    }
   ],
   "source": [
    "class PaletaHelada:\n",
    "    def __init__(self, gusto, cobertura=None):\n",
    "        self.gusto = gusto\n",
    "        self.cobertura = cobertura\n",
    "\n",
    "    def mostrar_info(self):\n",
    "        print(\"PaletaHelada\")\n",
    "        print(f\" - Gusto: {self.gusto}\")\n",
    "        print(f\" - Cobertura: {self.cobertura}\")\n",
    "\n",
    "    def quitar_cobertura(self):\n",
    "        self.cobertura = None\n",
    "\n",
    "\n",
    "paleta = PaletaHelada(\"Chocolate\", \"Chocolate\")\n",
    "paleta.mostrar_info()\n",
    "print(\"\")\n",
    "paleta.quitar_cobertura()\n",
    "paleta.mostrar_info()"
   ]
  },
  {
   "cell_type": "markdown",
   "id": "bf44e1b9",
   "metadata": {},
   "source": [
    "### Métodos que reciben argumentos\n",
    "\n",
    "Los métodos `mostrar_info` y `quitar_cobertura` no reciben argumentos, a lo sumo usan los datos ya almacenados en el objeto.\n",
    "\n",
    "También es posible definir métodos que acepten argumentos, lo que permite realizar distintas operaciones y, por ejemplo, modificar el estado interno del objeto.\n",
    "\n",
    "A continuación, incorporamos a la clase un nuevo método que permite actualizar la cobertura de la paleta helada."
   ]
  },
  {
   "cell_type": "code",
   "execution_count": 27,
   "id": "7d19d350",
   "metadata": {
    "vscode": {
     "languageId": "python"
    }
   },
   "outputs": [
    {
     "name": "stdout",
     "output_type": "stream",
     "text": [
      "PaletaHelada\n",
      " - Gusto: Chocolate\n",
      " - Cobertura: Chocolate\n",
      "\n",
      "PaletaHelada\n",
      " - Gusto: Chocolate\n",
      " - Cobertura: Chocolate blanco\n"
     ]
    }
   ],
   "source": [
    "class PaletaHelada:\n",
    "    def __init__(self, gusto, cobertura=None):\n",
    "        self.gusto = gusto\n",
    "        self.cobertura = cobertura\n",
    "\n",
    "    def mostrar_info(self):\n",
    "        print(\"PaletaHelada\")\n",
    "        print(f\" - Gusto: {self.gusto}\")\n",
    "        print(f\" - Cobertura: {self.cobertura}\")\n",
    "\n",
    "    def cambiar_cobertura(self, cobertura):\n",
    "        self.cobertura = cobertura\n",
    "\n",
    "\n",
    "paleta = PaletaHelada(\"Chocolate\", \"Chocolate\")\n",
    "paleta.mostrar_info()\n",
    "\n",
    "print(\"\")\n",
    "paleta.cambiar_cobertura(\"Chocolate blanco\")\n",
    "paleta.mostrar_info()"
   ]
  },
  {
   "cell_type": "markdown",
   "id": "3bdf539e",
   "metadata": {},
   "source": [
    "### Métodos que devuelven resultados\n",
    "\n",
    "Como los métodos son funciones de Python, también pueden devolver un resultado.\n",
    "\n",
    "Por ejemplo, el método `tiene_cobertura` retorna `True` cuando la paleta helada tiene asignada alguna cobertura, sin importar cuál sea."
   ]
  },
  {
   "cell_type": "code",
   "execution_count": 28,
   "id": "bd0bd8d5",
   "metadata": {
    "vscode": {
     "languageId": "python"
    }
   },
   "outputs": [
    {
     "name": "stdout",
     "output_type": "stream",
     "text": [
      "True\n",
      "False\n"
     ]
    }
   ],
   "source": [
    "class PaletaHelada:\n",
    "    def __init__(self, gusto, cobertura=None):\n",
    "        self.gusto = gusto\n",
    "        self.cobertura = cobertura\n",
    "\n",
    "    def mostrar_info(self):\n",
    "        print(\"PaletaHelada\")\n",
    "        print(f\" - Gusto: {self.gusto}\")\n",
    "        print(f\" - Cobertura: {self.cobertura}\")\n",
    "\n",
    "    def cambiar_cobertura(self, cobertura):\n",
    "        self.cobertura = cobertura\n",
    "\n",
    "    def tiene_cobertura(self):\n",
    "        return self.cobertura is not None\n",
    "\n",
    "\n",
    "paleta = PaletaHelada(\"Dulce de leche\", \"Chocolate blanco\")\n",
    "paleta2 = PaletaHelada(\"Dulce de leche\")\n",
    "\n",
    "print(paleta.tiene_cobertura())\n",
    "print(paleta2.tiene_cobertura())"
   ]
  },
  {
   "cell_type": "markdown",
   "id": "cc3df624",
   "metadata": {},
   "source": [
    "### Métodos que devuelven al objeto\n",
    "\n",
    "Finalmente, como un método puede devolver cualquier tipo de objeto, también puede retornar la propia instancia sobre la que fue llamado (es decir, la que recibe en `self`).\n",
    "\n",
    "Este patrón se utiliza con frecuencia cuando se desea permitir el **encadenamiento de métodos**, ya que cada método devuelve el mismo objeto y permite seguir llamando otros métodos sobre él en una sola línea."
   ]
  },
  {
   "cell_type": "code",
   "execution_count": 29,
   "id": "907d950f",
   "metadata": {
    "vscode": {
     "languageId": "python"
    }
   },
   "outputs": [
    {
     "name": "stdout",
     "output_type": "stream",
     "text": [
      "PaletaHelada\n",
      " - Gusto: Frutilla\n",
      " - Cobertura: Chocolate\n"
     ]
    }
   ],
   "source": [
    "class PaletaHelada:\n",
    "    def __init__(self, gusto, cobertura=None):\n",
    "        self.gusto = gusto\n",
    "        self.cobertura = cobertura\n",
    "\n",
    "    def mostrar_info(self):\n",
    "        print(\"PaletaHelada\")\n",
    "        print(f\" - Gusto: {self.gusto}\")\n",
    "        print(f\" - Cobertura: {self.cobertura}\")\n",
    "\n",
    "    def cambiar_cobertura(self, cobertura):\n",
    "        self.cobertura = cobertura\n",
    "        return self # <1>\n",
    "\n",
    "PaletaHelada(\"Frutilla\").cambiar_cobertura(\"Chocolate\").mostrar_info()"
   ]
  },
  {
   "cell_type": "markdown",
   "id": "39625405",
   "metadata": {},
   "source": [
    "1. Luego de actualizar la cobertura, se devuelve a la instancia con la que se llamó al método.\n",
    "\n",
    "Como el método `cambiar_cobertura` devuelve la propia instancia, es posible encadenar su llamada con otros métodos de la clase, como por ejemplo `.mostrar_info`."
   ]
  },
  {
   "cell_type": "markdown",
   "id": "749c6ee1",
   "metadata": {},
   "source": [
    "## Ejemplo final: Cuenta bancaria\n",
    "\n",
    "Para concluir este apunte, vamos a implementar una clase que represente de forma sencilla una cuenta bancaria.\n",
    "\n",
    "En este modelo simplificado, cada cuenta tendrá tres atributos:\n",
    "\n",
    "* `titular`: el nombre de la persona dueña de la cuenta\n",
    "* `saldo`: el dinero disponible en la cuenta\n",
    "* `moneda`: el tipo de moneda en el que está expresado el saldo (por ejemplo, `\"ARS\"` o `\"USD\"`)\n",
    "\n",
    "Además, la clase contará con métodos que permitan realizar operaciones básicas:\n",
    "\n",
    "* `depositar`: suma dinero al saldo actual\n",
    "* `retirar`: descuenta dinero del saldo, si hay fondos suficientes\n",
    "* `transferir`: mueve dinero de una cuenta a otra\n",
    "* `resumen`: muestra el estado actual de la cuenta de forma clara y legible"
   ]
  },
  {
   "cell_type": "code",
   "execution_count": 30,
   "id": "d048e021",
   "metadata": {
    "vscode": {
     "languageId": "python"
    }
   },
   "outputs": [],
   "source": [
    "class CuentaBancaria:\n",
    "    def __init__(self, titular, saldo=0, moneda=\"ARS\"):\n",
    "        self.titular = titular\n",
    "        self.saldo = saldo\n",
    "        self.moneda = moneda\n",
    "\n",
    "    def depositar(self, monto):\n",
    "        self.saldo = self.saldo + monto\n",
    "\n",
    "    def retirar(self, monto):\n",
    "        if monto <= self.saldo:\n",
    "            self.saldo = self.saldo - monto\n",
    "            return True\n",
    "\n",
    "        print(f\"El saldo es insuficiente ({self.saldo} {self.moneda})\")\n",
    "        return False\n",
    "\n",
    "    def transferir(self, other, monto): # 'other' es tambien una 'CuentaBancaria'\n",
    "        if self.moneda != other.moneda:\n",
    "            print(f\"Las cuentas usan monedas distintas ({self.moneda} vs {other.moneda})\")\n",
    "            return False\n",
    "\n",
    "        if self.retirar(monto):\n",
    "            other.depositar(monto)\n",
    "\n",
    "        return True\n",
    "\n",
    "    def resumen(self):\n",
    "        print(\"Cuenta bancaria\")\n",
    "        print(f\" - Titular: {self.titular}\")\n",
    "        print(f\" - Saldo: {self.saldo}\")\n",
    "        print(f\" - Moneda: {self.moneda}\")"
   ]
  },
  {
   "cell_type": "code",
   "execution_count": 31,
   "id": "5201ba5d",
   "metadata": {
    "vscode": {
     "languageId": "python"
    }
   },
   "outputs": [
    {
     "name": "stdout",
     "output_type": "stream",
     "text": [
      "Cuenta bancaria\n",
      " - Titular: Guido Van Rossum\n",
      " - Saldo: 20000\n",
      " - Moneda: ARS\n",
      "\n",
      "Cuenta bancaria\n",
      " - Titular: Ross Ihaka\n",
      " - Saldo: 8000\n",
      " - Moneda: ARS\n"
     ]
    }
   ],
   "source": [
    "cuenta_A = CuentaBancaria(\"Guido Van Rossum\", saldo=20000, moneda=\"ARS\")\n",
    "cuenta_B = CuentaBancaria(\"Ross Ihaka\", saldo=8000, moneda=\"ARS\")\n",
    "\n",
    "cuenta_A.resumen()\n",
    "print(\"\")\n",
    "cuenta_B.resumen()"
   ]
  },
  {
   "cell_type": "code",
   "execution_count": 32,
   "id": "90193dff",
   "metadata": {
    "vscode": {
     "languageId": "python"
    }
   },
   "outputs": [
    {
     "data": {
      "text/plain": [
       "True"
      ]
     },
     "execution_count": null,
     "metadata": {},
     "output_type": "execute_result"
    }
   ],
   "source": [
    "cuenta_A.retirar(2500)"
   ]
  },
  {
   "cell_type": "code",
   "execution_count": 33,
   "metadata": {
    "vscode": {
     "languageId": "python"
    }
   },
   "outputs": [
    {
     "name": "stdout",
     "output_type": "stream",
     "text": [
      "Cuenta bancaria\n",
      " - Titular: Guido Van Rossum\n",
      " - Saldo: 17500\n",
      " - Moneda: ARS\n"
     ]
    }
   ],
   "source": [
    "cuenta_A.resumen()"
   ]
  },
  {
   "cell_type": "markdown",
   "id": "7a59dee3",
   "metadata": {},
   "source": [
    "En el caso de las transferencias, no solo se modifica el estado de la cuenta desde la que se realiza la operación (`cuenta_A`), sino también el estado de la cuenta que recibe el dinero (`cuenta_B`)."
   ]
  },
  {
   "cell_type": "code",
   "execution_count": 34,
   "id": "c5c90260",
   "metadata": {
    "vscode": {
     "languageId": "python"
    }
   },
   "outputs": [
    {
     "data": {
      "text/plain": [
       "True"
      ]
     },
     "execution_count": null,
     "metadata": {},
     "output_type": "execute_result"
    }
   ],
   "source": [
    "cuenta_A.transferir(cuenta_B, 10000)"
   ]
  },
  {
   "cell_type": "code",
   "execution_count": 35,
   "id": "b8c50b20",
   "metadata": {
    "vscode": {
     "languageId": "python"
    }
   },
   "outputs": [
    {
     "name": "stdout",
     "output_type": "stream",
     "text": [
      "Cuenta bancaria\n",
      " - Titular: Guido Van Rossum\n",
      " - Saldo: 7500\n",
      " - Moneda: ARS\n"
     ]
    }
   ],
   "source": [
    "cuenta_A.resumen()"
   ]
  },
  {
   "cell_type": "code",
   "execution_count": 36,
   "id": "15c8d17d",
   "metadata": {
    "vscode": {
     "languageId": "python"
    }
   },
   "outputs": [
    {
     "name": "stdout",
     "output_type": "stream",
     "text": [
      "Cuenta bancaria\n",
      " - Titular: Ross Ihaka\n",
      " - Saldo: 18000\n",
      " - Moneda: ARS\n"
     ]
    }
   ],
   "source": [
    "cuenta_B.resumen()"
   ]
  },
  {
   "cell_type": "code",
   "execution_count": 37,
   "metadata": {
    "vscode": {
     "languageId": "python"
    }
   },
   "outputs": [
    {
     "name": "stdout",
     "output_type": "stream",
     "text": [
      "El saldo es insuficiente (18000 ARS)\n"
     ]
    },
    {
     "data": {
      "text/plain": [
       "False"
      ]
     },
     "execution_count": null,
     "metadata": {},
     "output_type": "execute_result"
    }
   ],
   "source": [
    "cuenta_B.retirar(20000)"
   ]
  },
  {
   "cell_type": "markdown",
   "id": "ea329171",
   "metadata": {},
   "source": [
    "::: {.callout-note}\n",
    "\n",
    "### ¿Sabías que ...? Sobre `__init__`\n",
    "\n",
    "* `__init__` no lleva una sentencia `return`. Su propósito no es devolver datos, sino inicializar el objeto.\n",
    "* `__init__` no crea la instancia (eso lo hace Python antes); su función es inicializar el estado del objeto recién creado.\n",
    "* `__init__` no es obligatorio: una clase puede funcionar perfectamente sin definirlo, aunque en ese caso no se podrán establecer valores iniciales personalizados al instanciar.\n",
    "\n",
    ":::"
   ]
  },
  {
   "cell_type": "markdown",
   "id": "449d226a",
   "metadata": {},
   "source": [
    "::: {.callout-warning}\n",
    "#### Sobre `self`\n",
    "\n",
    "Nunca se debe pasar explícitamente un valor para `self`, Python lo hace automáticamente.\n",
    ":::"
   ]
  }
 ],
 "metadata": {
  "language_info": {
   "name": "plaintext"
  }
 },
 "nbformat": 4,
 "nbformat_minor": 5
}
