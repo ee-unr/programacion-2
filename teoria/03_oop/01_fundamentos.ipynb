{
 "cells": [
  {
   "cell_type": "markdown",
   "id": "9b474fba",
   "metadata": {},
   "source": [
    "---\n",
    "title: \"1 - Fundamentos\"\n",
    "toc: true\n",
    "---"
   ]
  },
  {
   "cell_type": "markdown",
   "id": "9737492c",
   "metadata": {},
   "source": [
    "## Introducción\n",
    "\n",
    "Para hablar de programación orientada a objetos (OOP, por sus siglas en inglés), podemos empezar preguntándonos qué es un objeto. Aunque no solemos pensar en ello de forma consciente, porque todos podemos distinguir un objeto de lo que no lo es, vale la pena definirlo como algo tangible,\n",
    "que se puede percibir, tocar y manipular. ¡Nos pasamos toda la vida interactuando con objetos!\n",
    "\n",
    "En el mundo real, los objetos tienen atributos o propiedades que los describen.\n",
    "Por ejemplo, un televisor tiene forma, tamaño, color, peso, entre otros.\n",
    "Además, los objetos también pueden realizar acciones.\n",
    "Siguiendo con el ejemplo del televisor, puede encenderse, apagarse, cambiar de canal, modificar la fuente de entrada para ver una serie en Netflix o simplemente reproducir música.\n",
    "\n",
    "En programación, la definición de objeto no difiere mucho de la anterior. Aunque los objetos en un programa no sean elementos tangibles que podamos tomar con la mano, tocar o percibir, estos **representan** entidades (o simplemente cosas) que tienen ciertos atributos y acciones.\n",
    "\n",
    "Finalmente, podemos decir que la programación orientada a objetos es un paradigma que organiza el código en torno a objetos, los cuales reúnen atributos (datos) y acciones (métodos) dentro de una misma entidad. Con este enfoque, no solo creamos objetos e interactuamos con ellos, sino que también podemos definir nuevos tipos de objetos.\n"
   ]
  },
  {
   "cell_type": "markdown",
   "id": "acae296a",
   "metadata": {},
   "source": [
    "## Objetos familiares\n",
    "\n",
    "Al igual que uno interactúa con objetos de la vida real desde sus primeros días, hemos estado interactuando con objetos de Python todo el tiempo. Por ejemplo, cuando construimos una cadena de texto, estamos creando un objeto de tipo `str`:"
   ]
  },
  {
   "cell_type": "code",
   "execution_count": 60,
   "id": "77eb2fb0",
   "metadata": {
    "vscode": {
     "languageId": "python"
    }
   },
   "outputs": [
    {
     "name": "stdout",
     "output_type": "stream",
     "text": [
      "x = Hola, soy un objeto de tipo 'str'.\n",
      "y = ¿Y yo? ¡Yo también soy un objeto de tipo 'str'!\n"
     ]
    }
   ],
   "source": [
    "x = \"Hola, soy un objeto de tipo 'str'.\"\n",
    "y = \"¿Y yo? ¡Yo también soy un objeto de tipo 'str'!\"\n",
    "print(f\"x = {x}\")\n",
    "print(f\"y = {y}\")"
   ]
  },
  {
   "cell_type": "markdown",
   "id": "67a1d1d7",
   "metadata": {},
   "source": [
    "En este ejemplo, tanto `x` como `y` son objetos del mismo tipo, ambos son cadenas de caracteres, que Python llama `str`. Sin embargo, `x` e `y` no son el mismo objeto, son distintos. No solo podemos verlo en el contenido (su atributo), sino que también podemos verlo mediante sus ID:"
   ]
  },
  {
   "cell_type": "code",
   "execution_count": 61,
   "id": "26032109",
   "metadata": {
    "vscode": {
     "languageId": "python"
    }
   },
   "outputs": [
    {
     "name": "stdout",
     "output_type": "stream",
     "text": [
      "140245465987024\n",
      "140245463567024\n"
     ]
    }
   ],
   "source": [
    "print(id(x))\n",
    "print(id(y))"
   ]
  },
  {
   "cell_type": "markdown",
   "id": "1388bea8",
   "metadata": {},
   "source": [
    "Los objetos de tipo `str` pueden realizar determinadas acciones.\n",
    "Por ejemplo, si queremos pasar todas las letras a mayúsculas, podemos hacer:"
   ]
  },
  {
   "cell_type": "code",
   "execution_count": 62,
   "id": "ef108c41",
   "metadata": {
    "vscode": {
     "languageId": "python"
    }
   },
   "outputs": [
    {
     "data": {
      "text/plain": [
       "\"HOLA, SOY UN OBJETO DE TIPO 'STR'.\""
      ]
     },
     "execution_count": null,
     "metadata": {},
     "output_type": "execute_result"
    }
   ],
   "source": [
    "x.upper()"
   ]
  },
  {
   "cell_type": "markdown",
   "id": "f4ea529a",
   "metadata": {},
   "source": [
    "Las cadenas de caracteres son uno de los muchos tipos de objetos con los que ya hemos interactuado.\n",
    "Todas las estructuras de datos que hemos utilizado —desde las más simples, como los enteros, flotantes y booleanos, hasta las más complejas, como listas, tuplas y diccionarios— no son más que distintos tipos de objetos.\n",
    "\n",
    "En Python, cada tipo de dato está implementado como una clase, y trabajar con estas clases no solo nos permite crear nuestros propios tipos de datos según nuestras necesidades, sino también interactuar con los objetos que generamos a partir de ellas."
   ]
  },
  {
   "cell_type": "markdown",
   "id": "bfe66e5e",
   "metadata": {},
   "source": [
    "## Clases y objetos"
   ]
  },
  {
   "cell_type": "markdown",
   "id": "b7793fd8",
   "metadata": {},
   "source": [
    "En el contexto de la programación orientada a objetos, podemos utilizar las clases para definir nuevos tipos de datos, especificando qué atributos deben tener y qué acciones pueden realizar.\n",
    "De forma informal, una clase puede pensarse como una plantilla que determina cómo se ve y se comporta un objeto.\n",
    "\n",
    "Por ejemplo, imaginemos un molde para hacer paletas heladas.\n",
    "Este molde permite producir paletas, pero no es una paleta en sí: se parece más a una pequeña fábrica de paletas.\n",
    "\n",
    "El molde define aspectos estructurales como la forma y el tamaño de las paletas, pero no determina por completo cómo serán. Podemos llenarlo con diferentes líquidos, sabores, colores o aromas, y así obtener resultados variados a partir del mismo molde.\n",
    "\n",
    "En programación orientada a objetos, una clase cumple un rol similar: define la estructura y el comportamiento general de los objetos que se crearán a partir de ella.\n",
    "Los objetos, en cambio, son las instancias concretas generadas a partir de esa clase, cada una con sus propias características particulares, como cada paleta helada que sale del molde."
   ]
  },
  {
   "cell_type": "markdown",
   "id": "40dce80d",
   "metadata": {},
   "source": [
    "Por ejemplo, consideremos los diccionarios. La clase `dict`, ya implementada en Python, es la que define, entre otras cosas, que los diccionarios tienen claves y valores.\n",
    "\n",
    "Debajo, tanto `d1` y `d2` son instancias u objetos perteneciente a la clase `dict`. Es decir, son objetos creados con el mismo molde."
   ]
  },
  {
   "cell_type": "code",
   "execution_count": 63,
   "id": "3ea8ca4f",
   "metadata": {
    "vscode": {
     "languageId": "python"
    }
   },
   "outputs": [
    {
     "name": "stdout",
     "output_type": "stream",
     "text": [
      "<class 'dict'>\n",
      "<class 'dict'>\n"
     ]
    }
   ],
   "source": [
    "d1 = {\"a\": 100, \"b\": 250}\n",
    "d2 = {\"m\": 20, \"n\": False}\n",
    "\n",
    "print(type(d1))\n",
    "print(type(d2))"
   ]
  },
  {
   "cell_type": "markdown",
   "id": "b320766d",
   "metadata": {},
   "source": [
    "Sin embargo, `d1` y `d2` son objetos distintos, con diferentes valores para sus atributos."
   ]
  },
  {
   "cell_type": "code",
   "execution_count": 64,
   "id": "314bbb68",
   "metadata": {
    "vscode": {
     "languageId": "python"
    }
   },
   "outputs": [
    {
     "name": "stdout",
     "output_type": "stream",
     "text": [
      "False\n",
      "False\n"
     ]
    }
   ],
   "source": [
    "print(d1 is d2)\n",
    "print(d1 == d2)"
   ]
  },
  {
   "cell_type": "markdown",
   "id": "871f6aab",
   "metadata": {},
   "source": [
    "Notemos en la celda anterior que "
   ]
  },
  {
   "cell_type": "markdown",
   "id": "6461518f",
   "metadata": {},
   "source": [
    ":::{.callout-note}\n",
    "### ¿Objetos o instancias?\n",
    "\n",
    "En el contexto de programación orientada a objetos, los términos \"objeto\" e \"instancia\" suelen usarse de manera intercambiable: ambos hacen referencia a una entidad concreta creada a partir de una clase.\n",
    "\n",
    "En el siguiente ejemplo, decimos que `r` es una instancia de la clase `range`:\n",
    "\n",
    "```python\n",
    "r = range(10)\n",
    "```\n",
    "\n",
    ":::"
   ]
  },
  {
   "cell_type": "code",
   "execution_count": 65,
   "id": "d35df2a6",
   "metadata": {
    "vscode": {
     "languageId": "python"
    }
   },
   "outputs": [
    {
     "name": "stdout",
     "output_type": "stream",
     "text": [
      "<class 'str'>\n",
      "<class 'list'>\n",
      "<class 'dict'>\n"
     ]
    }
   ],
   "source": [
    "print(type(\"texto\"))\n",
    "print(type([1, 2, 3]))\n",
    "print(type({\"a\": 1, \"b\": 2}))"
   ]
  },
  {
   "cell_type": "markdown",
   "id": "332381e0",
   "metadata": {},
   "source": [
    "### Creando nuestras propias clases"
   ]
  },
  {
   "cell_type": "markdown",
   "id": "8b908af0",
   "metadata": {},
   "source": [
    "Clase: Código que define lo que un objeto \"recuerda\" (datos o estado) y las cosas que puede hacer (sus funciones o comportamiento)."
   ]
  },
  {
   "cell_type": "markdown",
   "id": "d3b86e04",
   "metadata": {},
   "source": [
    "* Definición de clases:\n",
    "    * Sentencia `class`. Se define el nombre de la clase.\n",
    "    * Código de inicialización en `__init__`.\n",
    "        * Cuando se crea un objeto nuevo, este método es llamada de manera automática.\n",
    "        * Es el lugar natural para poner todo el código necesario para la inicialización de nuestro objeto.\n",
    "    * Uso de `self`."
   ]
  },
  {
   "cell_type": "code",
   "execution_count": 66,
   "id": "1cdb687d",
   "metadata": {
    "vscode": {
     "languageId": "python"
    }
   },
   "outputs": [],
   "source": [
    "class PaletaHelada:                             # <1>\n",
    "    def __init__(self):                         # <2>\n",
    "        print(\"Creando nueva paleta helada\")    # <3>"
   ]
  },
  {
   "cell_type": "markdown",
   "id": "4d92bbd9",
   "metadata": {},
   "source": [
    "La definición de una clase solo la define, no crea ningún objeto de esa clase. Es como la definición de una función.\n",
    "Para crear un objeto de esa clase se necesita \"instanciarlo\". \n",
    "\n",
    "Instanciación: es el proceso de crear un objeto de una clase.\n",
    "\n",
    "Lo hemos hecho todo el tiempo! `list(\"hola\")` crea un objeto de la clase `list` a partir de la cadena `\"hola\"`. `range(10)` crea un objeto de la clase `range`."
   ]
  },
  {
   "cell_type": "code",
   "execution_count": 67,
   "id": "ee02848f",
   "metadata": {
    "vscode": {
     "languageId": "python"
    }
   },
   "outputs": [
    {
     "name": "stdout",
     "output_type": "stream",
     "text": [
      "Creando nueva paleta helada\n"
     ]
    },
    {
     "data": {
      "text/plain": [
       "<__main__.PaletaHelada at 0x7f8d9428bd70>"
      ]
     },
     "execution_count": null,
     "metadata": {},
     "output_type": "execute_result"
    }
   ],
   "source": [
    "h1 = PaletaHelada()\n",
    "h1"
   ]
  },
  {
   "cell_type": "code",
   "execution_count": 68,
   "id": "83cde039",
   "metadata": {
    "vscode": {
     "languageId": "python"
    }
   },
   "outputs": [
    {
     "name": "stdout",
     "output_type": "stream",
     "text": [
      "Creando nueva paleta helada\n"
     ]
    },
    {
     "data": {
      "text/plain": [
       "<__main__.PaletaHelada at 0x7f8d94234a70>"
      ]
     },
     "execution_count": null,
     "metadata": {},
     "output_type": "execute_result"
    }
   ],
   "source": [
    "h2 = PaletaHelada()\n",
    "h2"
   ]
  },
  {
   "cell_type": "code",
   "execution_count": 69,
   "id": "66b3e354",
   "metadata": {
    "vscode": {
     "languageId": "python"
    }
   },
   "outputs": [
    {
     "name": "stdout",
     "output_type": "stream",
     "text": [
      "140246052814192\n",
      "140246052457072\n"
     ]
    }
   ],
   "source": [
    "print(id(h1))\n",
    "print(id(h2))"
   ]
  },
  {
   "cell_type": "code",
   "execution_count": 70,
   "id": "e8d85871",
   "metadata": {
    "vscode": {
     "languageId": "python"
    }
   },
   "outputs": [],
   "source": [
    "class PaletaHelada:\n",
    "    def __init__(self, gusto):             # <1>\n",
    "        print(f\"Creando nueva paleta helada de gusto {gusto}\")"
   ]
  },
  {
   "cell_type": "code",
   "execution_count": 71,
   "id": "2063aec6",
   "metadata": {
    "vscode": {
     "languageId": "python"
    }
   },
   "outputs": [
    {
     "name": "stdout",
     "output_type": "stream",
     "text": [
      "Creando nueva paleta helada de gusto frutilla\n"
     ]
    }
   ],
   "source": [
    "h1 = PaletaHelada(\"frutilla\")"
   ]
  },
  {
   "cell_type": "code",
   "execution_count": 72,
   "id": "650d71c2",
   "metadata": {
    "vscode": {
     "languageId": "python"
    }
   },
   "outputs": [
    {
     "name": "stdout",
     "output_type": "stream",
     "text": [
      "Creando nueva paleta helada de gusto naranja\n"
     ]
    }
   ],
   "source": [
    "h2 = PaletaHelada(\"naranja\")"
   ]
  },
  {
   "cell_type": "markdown",
   "id": "965b951a",
   "metadata": {},
   "source": [
    "::: {.callout-note}\n",
    "\n",
    "### Instanciación de un objeto\n",
    "\n",
    "```python\n",
    "<objeto> = <NombreClase>(<argumentos opcionales>)\n",
    "```\n",
    "\n",
    ":::"
   ]
  },
  {
   "cell_type": "markdown",
   "id": "e19c1876",
   "metadata": {},
   "source": [
    "::: {.callout-note}\n",
    "\n",
    "### ¿Sabías que ...? Sobre `__init__`\n",
    "\n",
    "* `__init__` nunca lleva una sentencia `return`.\n",
    "* `__init__` no crea objetos nuevos, pero se suele usar inicializar valores iniciales.\n",
    "* `__init__` no es obligatorio; podemos implementar nuestras clases sin él.\n",
    "\n",
    ":::"
   ]
  },
  {
   "cell_type": "markdown",
   "id": "15e62875",
   "metadata": {},
   "source": [
    "## Atributos"
   ]
  },
  {
   "cell_type": "markdown",
   "id": "9a93a045",
   "metadata": {},
   "source": [
    "Los atributos son variables asociadas a un objeto.\n",
    "\n",
    "Como definir el estado del objeto?"
   ]
  },
  {
   "cell_type": "markdown",
   "id": "1b9d4170",
   "metadata": {},
   "source": [
    "Variables de la instancia.\n",
    "\n",
    "Los objetos tienen acceso a un ambiente de variables propio (_instance scope_).\n",
    "\n",
    "Son cruciales para entender como los objetos \"recuerdan\" datos.\n",
    "\n",
    "Atributos.\n",
    "    * Métodos.\n",
    "    * No hay ninguna sintaxis especial para declararlos. Simplemente se crean cuando se definen.\n",
    "    * Las variables de la instancia u objeto **son propias de cada objeto**.\n",
    "    * Hacer ejemplo donde definamos dos instancias de una misma clase, inicializandolos con diferentes atributos.\n",
    "    * Los atributos pertenecen a los objetos. Los métodos pertenecen a las clases."
   ]
  },
  {
   "cell_type": "markdown",
   "id": "c4b00ed8",
   "metadata": {},
   "source": [
    "## Métodos"
   ]
  },
  {
   "cell_type": "markdown",
   "id": "d1e70e5e",
   "metadata": {},
   "source": [
    "Ahora que sabemos cómo los datos definen el estado del objeto, el último término indefinido que debemos analizar son las acciones que pueden ocurrir en el objeto.\n",
    "\n",
    "Los comportamientos que se pueden realizar en una clase específica de objeto se expresan como los métodos de la clase.\n",
    "\n",
    "A nivel de programación, los métodos son como las funciones, pero tienen acceso a los atributos, en particular a las variables de instancia con los datos asociados a este objeto. Al igual que las funciones, los métodos también pueden aceptar parámetros y devolver valores."
   ]
  },
  {
   "cell_type": "markdown",
   "id": "9d72226d",
   "metadata": {},
   "source": [
    "Funciones\n",
    "\n",
    "Dentro de la definición de la clase se pueden definir \"funciones\", que llamamos métodos de la clase.\n",
    "\n",
    "A diferencia de las funciones regulares, estas funciones tienen que tener al menos un parámetro que representa a la instancia de la clase. Por convención se lo llama `self`.\n",
    "\n",
    "\n",
    "Un método es una función definida dentro de una clase y debe tener al menos un parámetro, por convención llamado `self`."
   ]
  },
  {
   "cell_type": "markdown",
   "id": "dba42cc8",
   "metadata": {},
   "source": [
    "\n",
    "* Diferencias entre funciones y métodos.\n",
    "    * Todos los métodos de una clase deben estar definidos **dentro** de la clase. Para ello todo el bloque de definición debe estar indentado.\n",
    "    * Todos los métodos de una clase tienen un primer parámetro, que es especial, y por convención se lo llama `self`.\n",
    "    * Los métodos de una clase **pueden** usar variables de la instancia, escritos como `self.<variableName>`."
   ]
  },
  {
   "cell_type": "markdown",
   "id": "c2ca1c5e",
   "metadata": {},
   "source": [
    "Los métodos son funciones asociadas a objetos de una clase particular.\n",
    "Por ejemplo, el método `upper` es un método de las cadenas de caracteres y podemos llamarlo sobre una así:"
   ]
  },
  {
   "cell_type": "code",
   "execution_count": 73,
   "id": "21b78672",
   "metadata": {
    "vscode": {
     "languageId": "python"
    }
   },
   "outputs": [
    {
     "data": {
      "text/plain": [
       "'ROSARIO'"
      ]
     },
     "execution_count": null,
     "metadata": {},
     "output_type": "execute_result"
    }
   ],
   "source": [
    "\"Rosario\".upper()"
   ]
  },
  {
   "cell_type": "markdown",
   "id": "e41b18e3",
   "metadata": {},
   "source": [
    "Pero no podemos llamarlo sobre una lista:\n",
    "\n",
    "```python\n",
    "[\"Rosario\", \"Santa Fe\"].upper()\n",
    "```\n",
    "```cmd\n",
    "AttributeError: 'list' object has no attribute 'upper'\n",
    "```"
   ]
  },
  {
   "cell_type": "markdown",
   "id": "904c663c",
   "metadata": {},
   "source": [
    "* Metodos sin argumentos\n",
    "* Metodos con argumentos\n",
    "* Metodos que no devuelven nada, metodos que devuelven algo\n",
    "* Metodos que modifican al objeto.\n",
    "* Metodos que devuelven al objeto, para encadenamiento de métodos."
   ]
  },
  {
   "cell_type": "markdown",
   "id": "eb2fef74",
   "metadata": {},
   "source": [
    "## Resumen"
   ]
  },
  {
   "cell_type": "markdown",
   "id": "40d64043",
   "metadata": {},
   "source": [
    "OOP es un tópico muy amplio.\n",
    "\n",
    "Algunos lenguajes de programación (Java) requieren que el código se escriba siguiendo el paradigma orientado a objetos.\n",
    "En Python, el programador puede decidir utilizar las herramientas de OOP o no, no está obligado.\n",
    "\n",
    "En Python, clase, type y tipo de dato tienen el mismo significado.\n",
    "\n",
    "* Un objeto combina datos con comportamiento.\n",
    "    * Los datos del objeto definen el estado del mismo. Los objetos **tienen** estado.\n",
    "    * Cada objeto puede tener valores independientes para sus atributos.\n",
    "    * La clase es quien define los atributos que tendrán todas las instancias de la misma."
   ]
  }
 ],
 "metadata": {
  "language_info": {
   "name": "plaintext"
  }
 },
 "nbformat": 4,
 "nbformat_minor": 5
}
