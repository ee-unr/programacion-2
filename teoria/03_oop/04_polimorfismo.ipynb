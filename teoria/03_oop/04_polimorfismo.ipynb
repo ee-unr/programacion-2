{
 "cells": [
  {
   "cell_type": "markdown",
   "id": "6501d1a2",
   "metadata": {},
   "source": [
    "---\n",
    "title: \"4 - Polimorfismo\"\n",
    "toc: true\n",
    "---"
   ]
  },
  {
   "cell_type": "markdown",
   "id": "48dc1db7",
   "metadata": {},
   "source": [
    "## Introducción\n",
    "\n",
    "El término polimorfismo tiene origen en las palabras _poly_ (muchos) y _morfo_ (formas). Aplicado a la programación hace referencia a que los objetos pueden tomra diferentes formas.\n",
    "\n",
    "Pero, ¿qué significa que los objetos pueden tomar diferentes formas? En el contexto de programación orientada a objetos significa que los objetos pueden responder a una misma operación de distintas maneras.\n",
    "\n",
    "Tomemos, por ejemplo, la suma de dos variables:\n",
    "\n",
    "```python\n",
    "a + b\n",
    "```\n",
    "\n",
    "Si `a` y `b` son de tipo `int`, la operación está definida y devuelve otro `int`.\n",
    "Si son de tipo `list`, la operación también está definida y devuelve un nuevo objeto `list`.\n",
    "Así, diferentes tipos de datos, responden al mismo mensaje (la suma) de maneras distintas."
   ]
  },
  {
   "cell_type": "markdown",
   "id": "eb2e925d",
   "metadata": {},
   "source": [
    "## Ejemplos\n",
    "\n",
    "A lo largo de esta sección vamos a introducirnos en el polimorfismo mediante diferentes ejemplos.\n",
    "\n",
    "### Animales que hablan\n",
    "\n",
    "En programación orientada a objetos (POO), el polimorfismo se refiere a la capacidad que tiene el programa de **invocar un mismo método en objetos distintos**, y que cada objeto responda de la forma que le corresponde según su propia implementación.\n",
    "\n",
    "Por ejemplo, imaginemos que tenemos una colección de perros, gatos y pájaros, y que cada uno entiende algunos comandos básicos.\n",
    "Si les pedimos a estas mascotas que hablen (es decir, si les enviamos el mensaje \"habla\"), los perros van a ladrar, los gatos van a maullar y los pájaros van a piar."
   ]
  },
  {
   "cell_type": "code",
   "execution_count": 1,
   "id": "c416bd87",
   "metadata": {},
   "outputs": [],
   "source": [
    "class Animal:\n",
    "    def __init__(self, nombre):\n",
    "        self.nombre = nombre\n",
    "\n",
    "class Perro(Animal):\n",
    "    def hablar(self): # <1>\n",
    "        print(self.nombre, \"dice ¡guau!\") # <1>\n",
    "\n",
    "class Gato(Animal):\n",
    "    def hablar(self): # <2>\n",
    "        print(self.nombre, \"dice ¡miau!\") # <2>\n",
    "\n",
    "class Pajaro(Animal):\n",
    "    def hablar(self): # <3>\n",
    "        print(self.nombre, \"dice ¡pio pio!\") # <3>"
   ]
  },
  {
   "cell_type": "markdown",
   "id": "7987b3d3",
   "metadata": {},
   "source": [
    "1. Los perros dicen guau.\n",
    "2. Los gatos dicen miau.\n",
    "3. Los pájaros dicen pio pio.\n",
    "\n",
    "Como todos los animales tienen la capacidad de hablar, podemos recorrer una lista de animales y ejecutar el método `hablar` en cada uno de ellos, sin importar de qué tipo de animal se trate. Todos podrán responder a la llamada, cada uno a su manera."
   ]
  },
  {
   "cell_type": "code",
   "execution_count": 2,
   "id": "81884933",
   "metadata": {},
   "outputs": [
    {
     "name": "stdout",
     "output_type": "stream",
     "text": [
      "Julio dice ¡guau!\n",
      "Micha dice ¡miau!\n",
      "Justo dice ¡guau!\n",
      "Pedrito dice ¡pio pio!\n"
     ]
    }
   ],
   "source": [
    "mascotas = [\n",
    "    Perro(\"Julio\"),\n",
    "    Gato(\"Micha\"),\n",
    "    Perro(\"Justo\"),\n",
    "    Pajaro(\"Pedrito\")\n",
    "]\n",
    "\n",
    "for mascota in mascotas:\n",
    "    mascota.hablar()"
   ]
  },
  {
   "cell_type": "markdown",
   "id": "389a44fd",
   "metadata": {},
   "source": [
    "::: {.callout-note}\n",
    "\n",
    "##### ¿Enviar un mensaje?\n",
    "\n",
    "En el contexto de la programación orientada a objetos se suele usar la expresión \"enviar un mensaje\" cuando hablamos de que un programa (también llamado cliente) llama a un método de un objeto o invoca una operación sobre el mismo. Por ejemplo:\n",
    "\n",
    "```python\n",
    "objeto.correr() # Se envía el mensaje correr\n",
    "obj + obj2      # Se envía el mensaje de suma (__add__)\n",
    "```\n",
    "\n",
    "Lo que el objeto haga al recibir ese mensaje depende exclusivamente de él.\n",
    "Con el polimorfismo, podemos enviar el mismo mensaje a varios objetos,\n",
    "y cada uno va a reaccionar de manera diferente según cómo fue diseñado y según los datos que tenga disponibles.\n",
    "\n",
    ":::"
   ]
  },
  {
   "cell_type": "markdown",
   "id": "3d2568ca",
   "metadata": {},
   "source": [
    "### La forma es lo de menos\n",
    "\n",
    "Podemos retomar el ejemplo de los rectángulos y circulos del apunte anterior.\n",
    "Ambos tienen acceso al método `area` que devuelve el área de la figura."
   ]
  },
  {
   "cell_type": "code",
   "execution_count": 3,
   "id": "dd2da10f",
   "metadata": {},
   "outputs": [],
   "source": [
    "import math\n",
    "\n",
    "class Rectangulo:\n",
    "    def __init__(self, base, altura):\n",
    "        self.base = base\n",
    "        self.altura = altura\n",
    "\n",
    "    def area(self):\n",
    "        return self.base * self.altura\n",
    "\n",
    "    def resumen(self):\n",
    "        return f\"Rectangulo(base={self.base}, altura={self.altura})\"\n",
    "\n",
    "\n",
    "class Circulo:\n",
    "    def __init__(self, radio):\n",
    "        self.radio = radio\n",
    "\n",
    "    def area(self):\n",
    "        return self.radio ** 2 * math.pi\n",
    "\n",
    "    def resumen(self):\n",
    "        return f\"Circulo(radio={self.radio})\""
   ]
  },
  {
   "cell_type": "markdown",
   "id": "55ff821b",
   "metadata": {},
   "source": [
    "Si contamos con un listado de rectángulos y círculos, podemos usar la función `sorted` junto a una función anónima para ordenar los elementos según su área."
   ]
  },
  {
   "cell_type": "code",
   "execution_count": 4,
   "id": "a6a79009",
   "metadata": {},
   "outputs": [
    {
     "name": "stdout",
     "output_type": "stream",
     "text": [
      "Rectangulo(base=3, altura=2): 6\n",
      "Circulo(radio=1.4): 6.157521601035993\n",
      "Rectangulo(base=4, altura=3): 12\n",
      "Circulo(radio=2): 12.566370614359172\n",
      "Rectangulo(base=6, altura=4): 24\n"
     ]
    }
   ],
   "source": [
    "formas = [\n",
    "    Circulo(2),\n",
    "    Rectangulo(3, 2),\n",
    "    Circulo(1.4),\n",
    "    Rectangulo(4, 3),\n",
    "    Rectangulo(6, 4),\n",
    "]\n",
    "\n",
    "# Ordenar\n",
    "formas_ordenadas = sorted(formas, key=lambda f: f.area())\n",
    "\n",
    "# Imprimir formas en orden\n",
    "for forma in formas_ordenadas:\n",
    "    print(forma.resumen(), forma.area(), sep=\": \")"
   ]
  },
  {
   "cell_type": "markdown",
   "id": "6edee229",
   "metadata": {},
   "source": [
    "Cuando la función anónima recibe una forma `f`, ejecuta su método `area` sin importar de qué tipo sea.\n",
    "Como tanto rectángulos como círculos **saben cómo responder** a esa llamada devolviendo un número, pueden ordenarse correctamente según ese valor.\n",
    "\n",
    "Aunque ambos métodos devuelvan el mismo tipo de resultado (un número), **la forma en que se calcula** ese resultado es distinta y depende de cada figura geométrica. De eso se trata el polimorfismo."
   ]
  },
  {
   "cell_type": "markdown",
   "id": "7b3aadb0",
   "metadata": {},
   "source": [
    "## Métodos mágicos\n",
    "\n",
    "El polimorfismo no solo se da con métodos regulares como `hablar` o `area`.\n",
    "Realmente, la magia del polimorfismo aparece cuando incorporamos los **métodos mágicos** de Python en nuestras clases.\n",
    "\n",
    "Los métodos mágicos —también llamados _dunder methods_ (por \"double underscore\")— son métodos especiales que permiten que nuestros objetos participen en operaciones estándar del lenguaje, como comparaciones, sumas, conversiones a cadenas o iteraciones.\n",
    "\n",
    "Por ejemplo, si intentamos comparar dos rectángulos creados con nuestra clase `Rectangulo`, incluso si tienen las mismas dimensiones, la comparación devolverá `False`."
   ]
  },
  {
   "cell_type": "code",
   "execution_count": 5,
   "id": "97d157d8",
   "metadata": {},
   "outputs": [
    {
     "data": {
      "text/plain": [
       "False"
      ]
     },
     "execution_count": null,
     "metadata": {},
     "output_type": "execute_result"
    }
   ],
   "source": [
    "r1 = Rectangulo(3, 2)\n",
    "r2 = Rectangulo(3, 2)\n",
    "\n",
    "r1 == r2"
   ]
  },
  {
   "cell_type": "markdown",
   "id": "704610d0",
   "metadata": {},
   "source": [
    "Conceptualmente, tiene sentido esperar que la comparación en valor de dos rectángulos de iguales dimensiones sea `True`.\n",
    "Pero obtenemos `False`.\n",
    "\n",
    "Esto no ocurre porque `r1` y `r2` representen objetos distintos, sino porque todavía no hemos implementado el método mágico que define como se deben comparar objetos de la clase `Rectangulo` por valor."
   ]
  },
  {
   "cell_type": "markdown",
   "id": "7296a299",
   "metadata": {},
   "source": [
    "### Comparaciones\n",
    "\n",
    "En Python, el operador de comparación por valor `==` utiliza internamente el método mágico `__eq__`.\n",
    "Si queremos comparar rectángulos con `==`, entonces debemos implementar `__eq__`."
   ]
  },
  {
   "cell_type": "code",
   "execution_count": 6,
   "id": "c27729a7",
   "metadata": {},
   "outputs": [],
   "source": [
    "class Rectangulo:\n",
    "    def __init__(self, base, altura):\n",
    "        self.base = base\n",
    "        self.altura = altura\n",
    "\n",
    "    @property\n",
    "    def area(self):\n",
    "        return self.base * self.altura\n",
    "\n",
    "    def __eq__(self, other): # <1>\n",
    "        if self.base == other.base and self.altura == other.altura: # <2>\n",
    "            return True # <2>\n",
    "        return False # <3>"
   ]
  },
  {
   "cell_type": "markdown",
   "id": "ae86c149",
   "metadata": {},
   "source": [
    "1. El método `__eq__` recibe siempre **dos objetos** a comparar, llamados por convención `self` y `other`.\n",
    "2. Si las bases y las alturas de los objetos son iguales, devuelve `True`, ya que consideramos que los rectángulos son iguales.\n",
    "3. En caso contrario, devuelve `False`, indicando que los rectángulos no son iguales."
   ]
  },
  {
   "cell_type": "markdown",
   "id": "dd7d41c5",
   "metadata": {},
   "source": [
    "Si probamos nuestro método de comparación recién implementado, vemos que funciona correctamente:"
   ]
  },
  {
   "cell_type": "code",
   "execution_count": 7,
   "id": "9045bc32",
   "metadata": {},
   "outputs": [],
   "source": [
    "r1 = Rectangulo(3, 2)\n",
    "r2 = Rectangulo(3, 2)\n",
    "r3 = Rectangulo(5, 3)"
   ]
  },
  {
   "cell_type": "code",
   "execution_count": 8,
   "id": "307597c1",
   "metadata": {},
   "outputs": [
    {
     "data": {
      "text/plain": [
       "False"
      ]
     },
     "execution_count": null,
     "metadata": {},
     "output_type": "execute_result"
    }
   ],
   "source": [
    "r1 == r3"
   ]
  },
  {
   "cell_type": "code",
   "execution_count": 9,
   "id": "44fda934",
   "metadata": {},
   "outputs": [
    {
     "data": {
      "text/plain": [
       "False"
      ]
     },
     "execution_count": null,
     "metadata": {},
     "output_type": "execute_result"
    }
   ],
   "source": [
    "r2 == r3"
   ]
  },
  {
   "cell_type": "code",
   "execution_count": 10,
   "id": "0f902fde",
   "metadata": {},
   "outputs": [
    {
     "data": {
      "text/plain": [
       "True"
      ]
     },
     "execution_count": null,
     "metadata": {},
     "output_type": "execute_result"
    }
   ],
   "source": [
    "r1 == r2"
   ]
  },
  {
   "cell_type": "markdown",
   "id": "dcad41d2",
   "metadata": {},
   "source": [
    "No solo tenemos acceso al operador `==`, ahora también podemos usar `!=`."
   ]
  },
  {
   "cell_type": "code",
   "execution_count": 11,
   "id": "b62088fa",
   "metadata": {},
   "outputs": [
    {
     "data": {
      "text/plain": [
       "True"
      ]
     },
     "execution_count": null,
     "metadata": {},
     "output_type": "execute_result"
    }
   ],
   "source": [
    "r1 != r3"
   ]
  },
  {
   "cell_type": "markdown",
   "id": "7bcf32b8",
   "metadata": {},
   "source": [
    "Todos los operadores de comparación se corresponden con un método especial determinado.\n",
    "La tabla a continuación incluye el nombre del método, el operador binario que utulizamos y una descripción de cómo funciona.\n",
    "\n",
    "| Método                | Operador asociado | Descripción                                        |\n",
    "| --------------------- | :---------------: | -------------------------------------------------- |\n",
    "| `__eq__(self, other)` | `==`              | `True` si `self` es igual a `other`.               |\n",
    "| `__ne__(self, other)` | `!=`              | `True` si `self` **no** es igual a `other`.        |\n",
    "| `__lt__(self, other)` | `<`               | `True` si `self` es **menor** que `other`.         |\n",
    "| `__le__(self, other)` | `<=`              | `True` si `self` es **menor o igual** que `other`. |\n",
    "| `__gt__(self, other)` | `>`               | `True` si `self` es **mayor** que `other`.         |\n",
    "| `__ge__(self, other)` | `>=`              | `True` si `self` es **mayor o igual** que `other`. |\n",
    "\n",
    ": {.striped .hover tbl-colwidths=\"[25, 25, 50]\"}"
   ]
  },
  {
   "cell_type": "markdown",
   "id": "04de8c24",
   "metadata": {},
   "source": [
    "Debajo incorporamos todos estos métodos en nuestra clase `Rectangulo`.\n",
    "No existe un criterio universal para determinar si un rectángulo es menor o mayor a otro.\n",
    "En nuestro caso, con el objetivo de mostrar la implementación de estos métodos, podemos decir que un rectángulo es menor a otro si su área es menor."
   ]
  },
  {
   "cell_type": "code",
   "execution_count": 12,
   "id": "e1ffde39",
   "metadata": {},
   "outputs": [],
   "source": [
    "class Rectangulo:\n",
    "    def __init__(self, base, altura):\n",
    "        self.base = base\n",
    "        self.altura = altura\n",
    "\n",
    "    @property\n",
    "    def area(self):\n",
    "        return self.base * self.altura\n",
    "\n",
    "    def __eq__(self, other):\n",
    "        return self.base == other.base and self.altura == other.altura\n",
    "\n",
    "    def __lt__(self, other):\n",
    "        return self.area < other.area\n",
    "\n",
    "    def __le__(self, other):\n",
    "        return self.area <= other.area\n",
    "\n",
    "    def __gt__(self, other):\n",
    "        return self.area > other.area\n",
    "\n",
    "    def __ge__(self, other):\n",
    "        return self.area >= other.area"
   ]
  },
  {
   "cell_type": "code",
   "execution_count": 13,
   "id": "20b2e920",
   "metadata": {},
   "outputs": [],
   "source": [
    "r1 = Rectangulo(3, 5) # Área: 15\n",
    "r2 = Rectangulo(3, 4) # Área: 12\n",
    "r3 = Rectangulo(5, 3) # Área: 15"
   ]
  },
  {
   "cell_type": "code",
   "execution_count": 14,
   "id": "71ab9cb9",
   "metadata": {},
   "outputs": [
    {
     "data": {
      "text/plain": [
       "False"
      ]
     },
     "execution_count": null,
     "metadata": {},
     "output_type": "execute_result"
    }
   ],
   "source": [
    "r1 < r2"
   ]
  },
  {
   "cell_type": "code",
   "execution_count": 15,
   "id": "0eea617a",
   "metadata": {},
   "outputs": [
    {
     "data": {
      "text/plain": [
       "False"
      ]
     },
     "execution_count": null,
     "metadata": {},
     "output_type": "execute_result"
    }
   ],
   "source": [
    "r1 < r3"
   ]
  },
  {
   "cell_type": "code",
   "execution_count": 16,
   "id": "8cca57b9",
   "metadata": {},
   "outputs": [
    {
     "data": {
      "text/plain": [
       "True"
      ]
     },
     "execution_count": null,
     "metadata": {},
     "output_type": "execute_result"
    }
   ],
   "source": [
    "r1 <= r3"
   ]
  },
  {
   "cell_type": "code",
   "execution_count": 17,
   "id": "ef845895",
   "metadata": {},
   "outputs": [
    {
     "data": {
      "text/plain": [
       "True"
      ]
     },
     "execution_count": null,
     "metadata": {},
     "output_type": "execute_result"
    }
   ],
   "source": [
    "r3 > r2"
   ]
  },
  {
   "cell_type": "code",
   "execution_count": 18,
   "id": "a5dcf1f8",
   "metadata": {},
   "outputs": [
    {
     "data": {
      "text/plain": [
       "False"
      ]
     },
     "execution_count": null,
     "metadata": {},
     "output_type": "execute_result"
    }
   ],
   "source": [
    "r1 == r2"
   ]
  },
  {
   "cell_type": "code",
   "execution_count": 19,
   "id": "e9d83452",
   "metadata": {},
   "outputs": [
    {
     "data": {
      "text/plain": [
       "False"
      ]
     },
     "execution_count": null,
     "metadata": {},
     "output_type": "execute_result"
    }
   ],
   "source": [
    "r1 == r3 # No son iguales porque sus dimensiones no lo son."
   ]
  },
  {
   "cell_type": "markdown",
   "id": "0a4ad4a6",
   "metadata": {},
   "source": [
    "### Apariencias\n",
    "\n",
    "Además de los operadores de comparación, muchas funciones _built-in_ de Python utilizan métodos mágicos internamente.\n",
    "Una de las más comunes es `repr()`, que se encarga de devolver una **representación** de un objeto cuando se lo muestra en pantalla.\n",
    "Para personalizar esa representación en nuestras clases, debemos implementar el método mágico `__repr__`."
   ]
  },
  {
   "cell_type": "code",
   "execution_count": 20,
   "id": "8a551c9e",
   "metadata": {},
   "outputs": [],
   "source": [
    "class Rectangulo:\n",
    "    def __init__(self, base, altura):\n",
    "        self.base = base\n",
    "        self.altura = altura\n",
    "\n",
    "    def __repr__(self):\n",
    "        return f\"Rectangulo(base={self.base}, altura={self.altura})\""
   ]
  },
  {
   "cell_type": "code",
   "execution_count": 21,
   "id": "3e01786c",
   "metadata": {},
   "outputs": [
    {
     "data": {
      "text/plain": [
       "Rectangulo(base=5, altura=3.5)"
      ]
     },
     "execution_count": null,
     "metadata": {},
     "output_type": "execute_result"
    }
   ],
   "source": [
    "r1 = Rectangulo(5, 3.5)\n",
    "r1"
   ]
  },
  {
   "cell_type": "markdown",
   "id": "73354bfb",
   "metadata": {},
   "source": [
    "También `str` utiliza internamente un método especial llamado `__str__`, que define cómo debe mostrarse un objeto cuando se convierte a texto de forma legible."
   ]
  },
  {
   "cell_type": "code",
   "execution_count": 22,
   "id": "4129f886",
   "metadata": {},
   "outputs": [],
   "source": [
    "class Rectangulo:\n",
    "    def __init__(self, base, altura):\n",
    "        self.base = base\n",
    "        self.altura = altura\n",
    "\n",
    "    def __repr__(self):\n",
    "        return f\"Rectangulo(base={self.base}, altura={self.altura})\"\n",
    "\n",
    "    def __str__(self):\n",
    "        return f\"Rectángulo de base {self.base} y altura {self.altura}\""
   ]
  },
  {
   "cell_type": "code",
   "execution_count": 23,
   "id": "c78850b4",
   "metadata": {},
   "outputs": [
    {
     "data": {
      "text/plain": [
       "Rectangulo(base=5, altura=3.5)"
      ]
     },
     "execution_count": null,
     "metadata": {},
     "output_type": "execute_result"
    }
   ],
   "source": [
    "r1 = Rectangulo(5, 3.5)\n",
    "r1"
   ]
  },
  {
   "cell_type": "code",
   "execution_count": 24,
   "id": "dd5b74de",
   "metadata": {},
   "outputs": [
    {
     "name": "stdout",
     "output_type": "stream",
     "text": [
      "repr: Rectangulo(base=5, altura=3.5)\n",
      "str: Rectángulo de base 5 y altura 3.5\n"
     ]
    }
   ],
   "source": [
    "print(\"repr:\", repr(r1))\n",
    "print(\"str:\", str(r1))"
   ]
  },
  {
   "cell_type": "markdown",
   "id": "0e719ae7",
   "metadata": {},
   "source": [
    "::: {.callout-note}\n",
    "##### Diferencia entre `__repr__` y `__str__`\n",
    "\n",
    "Aunque ambos métodos devuelven una representación en texto de un objeto, tienen propósitos distintos:\n",
    "\n",
    "* `__repr__` busca ofrecer una representación **precisa y detallada**, útil para desarrolladores.\n",
    "Idealmente, debería ser lo más cercana posible al código necesario para reconstruir el objeto.\n",
    "* `__str__`, en cambio, devuelve una representación más **legible y amigable**, pensada para usuarios finales o para mostrar el objeto en interfaces y mensajes.\n",
    "\n",
    "Por ejemplo:\n",
    "\n",
    "```python\n",
    "from datetime import datetime\n",
    "\n",
    "d = datetime(2025, 10, 7, 17, 30)\n",
    "print(\"repr:\", repr(d))\n",
    "print(\"str:\", str(d))\n",
    "```\n",
    "```cmd\n",
    "repr: datetime.datetime(2025, 10, 7, 17, 30)\n",
    "str: 2025-10-07 17:30:00\n",
    "```\n",
    "\n",
    ":::"
   ]
  },
  {
   "cell_type": "markdown",
   "id": "a7aca5a6",
   "metadata": {},
   "source": [
    "### Aritmética\n",
    "\n",
    "Finalmente, retomamos el ejemplo de la introducción del apunte, que tanto hemos mencionado a lo largo del curso: la suma de objetos.\n",
    "\n",
    "Resulta que el operador de suma `+` utiliza internamente el método especial `__add__`.\n",
    "Gracias a esto, también podemos definir cómo deben sumarse dos objetos de una clase que nosotros creamos.\n",
    "\n",
    "Por ejemplo, supongamos una clase que representa vectores en dos dimensiones, inicializada con valores para `x` e `y`.\n",
    "\n",
    "La suma de dos vectores está definida componente a componente:\n",
    "\n",
    "$$\n",
    "\\vec{u} + \\vec{v} = (x_1 + x_2, y_1 + y_2)\n",
    "$$\n",
    "\n",
    "Y podemos implementar la clase de la siguiente manera:"
   ]
  },
  {
   "cell_type": "code",
   "execution_count": 25,
   "id": "194a55e3",
   "metadata": {},
   "outputs": [],
   "source": [
    "class Vector:\n",
    "    def __init__(self, x, y):\n",
    "        self.x = x\n",
    "        self.y = y\n",
    "\n",
    "    def __add__(self, other):\n",
    "        return Vector(self.x + other.x, self.y + other.y)\n",
    "\n",
    "    def __repr__(self):\n",
    "        return f\"Vector({self.x}, {self.y})\""
   ]
  },
  {
   "cell_type": "code",
   "execution_count": 26,
   "id": "201afcc9",
   "metadata": {},
   "outputs": [
    {
     "name": "stdout",
     "output_type": "stream",
     "text": [
      "Vector(2, 2)\n",
      "Vector(1, -0.5)\n"
     ]
    }
   ],
   "source": [
    "v = Vector(2, 2)\n",
    "u = Vector(1, -0.5)\n",
    "print(v)\n",
    "print(u)"
   ]
  },
  {
   "cell_type": "markdown",
   "id": "47aa9ba5",
   "metadata": {},
   "source": [
    "Gracias a la implementación de `__add__`, está definida la suma entre vectores:"
   ]
  },
  {
   "cell_type": "code",
   "execution_count": 27,
   "id": "b3de9bd3",
   "metadata": {},
   "outputs": [
    {
     "data": {
      "text/plain": [
       "Vector(3, 1.5)"
      ]
     },
     "execution_count": null,
     "metadata": {},
     "output_type": "execute_result"
    }
   ],
   "source": [
    "v + u"
   ]
  },
  {
   "cell_type": "markdown",
   "id": "57874226",
   "metadata": {},
   "source": [
    "Y como también implementamos `__repr__`, obtenemos una representación textual legible."
   ]
  },
  {
   "cell_type": "markdown",
   "id": "e1d523b9",
   "metadata": {},
   "source": [
    "Todos los operadores aritméticos en Python utilizan internamente métodos especiales.\n",
    "A continuación se muestran algunos de los más comunes:\n",
    "\n",
    "| Método                      | Operador asociado | Descripción                      |\n",
    "| --------------------------- | :---------------: | -------------------------------- |\n",
    "| `__add__(self, other)`      | `+`               | Suma: `self + other`             |\n",
    "| `__sub__(self, other)`      | `-`               | Resta: `self - other`            |\n",
    "| `__mul__(self, other)`      | `*`               | Multiplicación: `self * other`   |\n",
    "| `__truediv__(self, other)`  | `/`               | División real: `self / other`    |\n",
    "| `__floordiv__(self, other)` | `//`              | División entera: `self // other` |\n",
    "| `__mod__(self, other)`      | `%`               | Módulo: `self % other`           |\n",
    "| `__pow__(self, other)`      | `**`              | Potencia: `self ** other`        |\n",
    "\n",
    ": {.striped .hover tbl-colwidths=\"[35, 25, 40]\"}"
   ]
  },
  {
   "cell_type": "markdown",
   "id": "f3bd8e6d",
   "metadata": {},
   "source": [
    "Considerando los vectores $\\vec{u}$, $\\vec{v}$ y el escalar $c$, podemos implementar las siguientes operaciones en nuestra clase `Vector`:\n",
    "\n",
    "$$\n",
    "\\begin{aligned}\n",
    "\\vec{u} + \\vec{v} &= (x_1 + x_2, y_1 + y_2) \\\\\n",
    "\\vec{u} - \\vec{v} &= (x_1 - x_2, y_1 - y_2) \\\\\n",
    "\\vec{u} \\times c &= (x_1 \\times c, y_1 \\times c) \\\\\n",
    "\\frac{\\vec{u}}{c} &= \\left(\\frac{x_1}{c}, \\frac{y_1}{c}\\right) \\\\\n",
    "\\end{aligned}\n",
    "$$"
   ]
  },
  {
   "cell_type": "markdown",
   "id": "21d4451e",
   "metadata": {},
   "source": [
    "En Python:"
   ]
  },
  {
   "cell_type": "code",
   "execution_count": 28,
   "id": "c80d86f8",
   "metadata": {},
   "outputs": [],
   "source": [
    "class Vector:\n",
    "    def __init__(self, x, y):\n",
    "        self.x = x\n",
    "        self.y = y\n",
    "\n",
    "    def __add__(self, other):\n",
    "        return Vector(self.x + other.x, self.y + other.y)\n",
    "\n",
    "    def __sub__(self, other):\n",
    "        return Vector(self.x - other.x, self.y - other.y)\n",
    "\n",
    "    def __mul__(self, scalar):\n",
    "        return Vector(self.x * scalar, self.y * scalar)\n",
    "\n",
    "    def __truediv__(self, scalar):\n",
    "        return Vector(self.x / scalar, self.y / scalar)\n",
    "\n",
    "    def __repr__(self):\n",
    "        return f\"Vector({self.x}, {self.y})\""
   ]
  },
  {
   "cell_type": "markdown",
   "id": "5fd25085",
   "metadata": {},
   "source": [
    "Veamos algunos ejemplos:"
   ]
  },
  {
   "cell_type": "code",
   "execution_count": 29,
   "id": "2dc42c57",
   "metadata": {},
   "outputs": [],
   "source": [
    "u = Vector(1, -0.5)\n",
    "v = Vector(2, 1)"
   ]
  },
  {
   "cell_type": "code",
   "execution_count": 30,
   "id": "90ceeb33",
   "metadata": {},
   "outputs": [
    {
     "data": {
      "text/plain": [
       "Vector(3, 0.5)"
      ]
     },
     "execution_count": null,
     "metadata": {},
     "output_type": "execute_result"
    }
   ],
   "source": [
    "u + v"
   ]
  },
  {
   "cell_type": "code",
   "execution_count": 31,
   "id": "8c223d18",
   "metadata": {},
   "outputs": [
    {
     "data": {
      "text/plain": [
       "Vector(-1, -1.5)"
      ]
     },
     "execution_count": null,
     "metadata": {},
     "output_type": "execute_result"
    }
   ],
   "source": [
    "u - v"
   ]
  },
  {
   "cell_type": "code",
   "execution_count": 32,
   "id": "388979f3",
   "metadata": {},
   "outputs": [
    {
     "data": {
      "text/plain": [
       "Vector(1, 1.5)"
      ]
     },
     "execution_count": null,
     "metadata": {},
     "output_type": "execute_result"
    }
   ],
   "source": [
    "v - u "
   ]
  },
  {
   "cell_type": "code",
   "execution_count": 33,
   "id": "9ce5fde1",
   "metadata": {},
   "outputs": [
    {
     "data": {
      "text/plain": [
       "Vector(2.5, -1.25)"
      ]
     },
     "execution_count": null,
     "metadata": {},
     "output_type": "execute_result"
    }
   ],
   "source": [
    "u * 2.5"
   ]
  },
  {
   "cell_type": "code",
   "execution_count": 34,
   "id": "2facc172",
   "metadata": {},
   "outputs": [
    {
     "data": {
      "text/plain": [
       "Vector(0.5, 0.25)"
      ]
     },
     "execution_count": null,
     "metadata": {},
     "output_type": "execute_result"
    }
   ],
   "source": [
    "v / 4"
   ]
  },
  {
   "cell_type": "markdown",
   "id": "a96c638e",
   "metadata": {},
   "source": [
    "Para finalizar, podemos usar la función `graficar_vectores`, que recibe una lista de vectores y los representa gráficamente en el plano, mostrando de forma visual el resultado de las operaciones realizadas."
   ]
  },
  {
   "cell_type": "code",
   "execution_count": 35,
   "id": "d29bd22d",
   "metadata": {},
   "outputs": [],
   "source": [
    "#| code-fold: true\n",
    "\n",
    "import matplotlib.pyplot as plt\n",
    "\n",
    "def graficar_vectores(vectores):\n",
    "    x_range = [0, 0]\n",
    "    y_range = [0, 0]\n",
    "\n",
    "    fig, ax = plt.subplots(figsize=(6, 5))\n",
    "\n",
    "    for i, vector in enumerate(vectores):\n",
    "        ax.quiver(\n",
    "            0, 0, vector.x, vector.y,\n",
    "            angles='xy',\n",
    "            scale_units='xy',\n",
    "            scale=1,\n",
    "            color=f\"C{i}\",\n",
    "            label=str(vector)\n",
    "        )\n",
    "\n",
    "        x_range[0] = min(x_range[0], vector.x)\n",
    "        x_range[1] = max(x_range[1], vector.x)\n",
    "\n",
    "        y_range[0] = min(y_range[0], vector.y)\n",
    "        y_range[1] = max(y_range[1], vector.y)\n",
    "\n",
    "    x_range[0] = x_range[0] - 0.5\n",
    "    x_range[1] = x_range[1] + 0.5\n",
    "    y_range[0] = y_range[0] - 0.5\n",
    "    y_range[1] = y_range[1] + 0.5\n",
    "\n",
    "    ax.axhline(0, color='k', linewidth=0.5)\n",
    "    ax.axvline(0, color='k', linewidth=0.5)\n",
    "    ax.set(xlim=x_range, ylim=y_range, xlabel=\"x\", ylabel=\"y\")\n",
    "    ax.grid()\n",
    "    ax.set_axisbelow(True)\n",
    "    ax.legend(loc=\"upper left\")\n",
    "    plt.show()"
   ]
  },
  {
   "cell_type": "markdown",
   "id": "b7fa9a5f",
   "metadata": {},
   "source": [
    "Grafiquemos tres vectores cualesquiera:"
   ]
  },
  {
   "cell_type": "code",
   "execution_count": 36,
   "id": "9a90d72c",
   "metadata": {},
   "outputs": [
    {
     "data": {
      "image/png": "[encoded data removed]",
      "text/plain": [
       "<Figure size 600x500 with 1 Axes>"
      ]
     },
     "metadata": {},
     "output_type": "display_data"
    }
   ],
   "source": [
    "graficar_vectores(\n",
    "    [\n",
    "        Vector(1, 2),\n",
    "        Vector(0.5, 0.75),\n",
    "        Vector(-1, 0.5),\n",
    "    ]\n",
    ")"
   ]
  },
  {
   "cell_type": "markdown",
   "id": "fb0760ff",
   "metadata": {},
   "source": [
    "El vector $\\vec{v}$ y su opuesto $-\\vec{v}$:"
   ]
  },
  {
   "cell_type": "code",
   "execution_count": 37,
   "id": "61e6fff8",
   "metadata": {},
   "outputs": [
    {
     "data": {
      "image/png": "[encoded data removed]",
      "text/plain": [
       "<Figure size 600x500 with 1 Axes>"
      ]
     },
     "metadata": {},
     "output_type": "display_data"
    }
   ],
   "source": [
    "v = Vector(2.5, 3)\n",
    "\n",
    "graficar_vectores([v, v * (-1)])"
   ]
  },
  {
   "cell_type": "markdown",
   "id": "95f02137",
   "metadata": {},
   "source": [
    "El vector $\\vec{v}$ y $1.5 \\times \\vec{v}$:"
   ]
  },
  {
   "cell_type": "code",
   "execution_count": 38,
   "id": "d29c4fdd",
   "metadata": {},
   "outputs": [
    {
     "data": {
      "image/png": "[encoded data removed]",
      "text/plain": [
       "<Figure size 600x500 with 1 Axes>"
      ]
     },
     "metadata": {},
     "output_type": "display_data"
    }
   ],
   "source": [
    "graficar_vectores([v, v * 1.5])"
   ]
  },
  {
   "cell_type": "markdown",
   "id": "22223d66",
   "metadata": {},
   "source": [
    "El vector $\\vec{v}$ y $0.5 \\times \\vec{v}$:"
   ]
  },
  {
   "cell_type": "code",
   "execution_count": 39,
   "id": "bdc35629",
   "metadata": {},
   "outputs": [
    {
     "data": {
      "image/png": "[encoded data removed]",
      "text/plain": [
       "<Figure size 600x500 with 1 Axes>"
      ]
     },
     "metadata": {},
     "output_type": "display_data"
    }
   ],
   "source": [
    "graficar_vectores([v, v * 0.5])"
   ]
  },
  {
   "cell_type": "markdown",
   "id": "1ca4960b",
   "metadata": {},
   "source": [
    "Los vectores $\\vec{u}$, $\\vec{v}$ y su suma:"
   ]
  },
  {
   "cell_type": "code",
   "execution_count": 40,
   "id": "971e2a23",
   "metadata": {},
   "outputs": [
    {
     "data": {
      "image/png": "[encoded data removed]",
      "text/plain": [
       "<Figure size 600x500 with 1 Axes>"
      ]
     },
     "metadata": {},
     "output_type": "display_data"
    }
   ],
   "source": [
    "u = Vector(0.5, 0.3)\n",
    "v = Vector(0.2, 0.7)\n",
    "\n",
    "graficar_vectores([u, v, u + v])"
   ]
  },
  {
   "cell_type": "markdown",
   "id": "397a09b8",
   "metadata": {},
   "source": [
    "Y ahora su resta:"
   ]
  },
  {
   "cell_type": "code",
   "execution_count": 41,
   "id": "16084415",
   "metadata": {},
   "outputs": [
    {
     "data": {
      "image/png": "[encoded data removed]",
      "text/plain": [
       "<Figure size 600x500 with 1 Axes>"
      ]
     },
     "metadata": {},
     "output_type": "display_data"
    }
   ],
   "source": [
    "graficar_vectores([u, v, u - v])"
   ]
  },
  {
   "cell_type": "markdown",
   "id": "3803f4d4",
   "metadata": {},
   "source": [
    "::: {.callout-note}\n",
    "\n",
    "##### Sobrecarga de operadores\n",
    "\n",
    "A la capacidad de redefinir el comportamiento de los operadores estándar (como `+`, `-`, `==`, etc.) se la conoce como sobrecarga de operadores.\n",
    "\n",
    "Gracias a ella, podemos escribir programas más expresivos, legibles e intuitivos, haciendo que nuestras clases se comporten como tipos nativos de Python.\n",
    ":::\n"
   ]
  },
  {
   "cell_type": "markdown",
   "id": "5ce5fd6f",
   "metadata": {},
   "source": [
    "## Otros métodos"
   ]
  },
  {
   "cell_type": "markdown",
   "id": "8072f609",
   "metadata": {},
   "source": [
    "Los métodos mágicos que cubrimos en este apunte solo incluyen algúnos de los métodos disponibles.\n",
    "\n",
    "Alguno de ellos se muestran a continuación:\n",
    "\n",
    "| Método                       | Cómo se usa     | Descripción                                                       |\n",
    "| -----------------------------| --------------- | ----------------------------------------------------------------- |\n",
    "| `__neg__(self)`              | `-obj`          | Devuelve el valor negado del objeto.                              |\n",
    "| `__pos__(self)`              | `+obj`          | Devuelve el valor positivo del objeto.                            |\n",
    "| `__abs__(self)`              | `abs(obj)`      | Devuelve el valor absoluto del objeto.                            |\n",
    "| `__len__(self)`              | `len(obj)`      | Devuelve la longitud del objeto.                                  |\n",
    "| `__iter__(self)`             | `for x in obj`  | Devuelve un iterador.                                             |\n",
    "| `__next__(self)`             | `next(obj)`     | Devuelve el siguiente elemento de un iterador.                    |\n",
    "| `__contains__(self, item)`   | `item in obj`   | Comprueba pertenencia.                                            |\n",
    "| `__call__(self, ...)`        | `obj()`         | Permite llamar a un objeto como si fuera función.                 |\n",
    "| `__bool__(self)`             | `bool(obj)`     | Define si el objeto se considera `True` o `False`.                |\n",
    "| `__hash__(self)`             | `hash(obj)`     | Permite usar el objeto en conjuntos y como clave en diccionarios. |\n",
    "\n",
    ": {.striped .hover tbl-colwidths=\"[30, 20, 50]\"}\n",
    "\n",
    "Un recurso útil para explorar el funcionamiento de ellos es [Python Magic Methods de Real Python](https://realpython.com/python-magic-methods/).\n",
    "El listado exhaustivo se puede encontrar en la [documentación oficial de Python](https://docs.python.org/3/reference/datamodel.html#special-method-names)."
   ]
  }
 ],
 "metadata": {
  "language_info": {
   "name": "python"
  }
 },
 "nbformat": 4,
 "nbformat_minor": 5
}
