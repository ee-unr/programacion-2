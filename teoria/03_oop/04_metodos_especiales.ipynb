{
 "cells": [
  {
   "cell_type": "markdown",
   "id": "07ee3ccb",
   "metadata": {},
   "source": [
    "---\n",
    "title: \"4 - Métodos especiales\"\n",
    "toc: true\n",
    "---"
   ]
  },
  {
   "cell_type": "markdown",
   "id": "6fecb004",
   "metadata": {},
   "source": [
    "* Métodos especiales o \"dunder methods\" (`__init__`, `__str__`, `__repr__`, etc.)\n",
    "* Sobrecarga de operadores (`__add__`, `__eq__`, etc.)"
   ]
  }
 ],
 "metadata": {
  "language_info": {
   "name": "plaintext"
  }
 },
 "nbformat": 4,
 "nbformat_minor": 5
}
