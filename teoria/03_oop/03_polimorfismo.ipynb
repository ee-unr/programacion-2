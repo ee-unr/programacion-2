{
 "cells": [
  {
   "cell_type": "markdown",
   "id": "6501d1a2",
   "metadata": {},
   "source": [
    "---\n",
    "title: \"3 - Polimorfismo\"\n",
    "toc: true\n",
    "---"
   ]
  },
  {
   "cell_type": "markdown",
   "id": "6aaf0db0",
   "metadata": {},
   "source": [
    "## Polimorfismo\n",
    "\n",
    "Es un nombre llamativo para un concepto sencillo: distintos comportamientos ocurren según la subclase que se esté usando, **sin necesidad de saber explícitamente cuál es**.\n",
    "\n",
    "Polimorfismo significa que distintos objetos (de distintas subclases) pueden responder al mismo mensaje o método de formas diferentes.\n",
    "\n",
    "En este ejemplo\n",
    "\n",
    "```python\n",
    "formas_ordenadas = sorted(formas, key=lambda f: f.area())\n",
    "```\n",
    "\n",
    "A la función lambda no le importa que tipo específico de objeto le fue pasado. Siempre y cuando el objeto sea de una clase que implementa el método `.area()`, se obtiene una lista de objetos ordenados según su área."
   ]
  },
  {
   "cell_type": "code",
   "execution_count": null,
   "metadata": {},
   "outputs": [],
   "source": [
    "class Forma:\n",
    "    def area(self):\n",
    "        print(\"¡Error! Método aún no implementado.\")\n",
    "\n",
    "    def perimetro(self):\n",
    "        print(\"¡Error! Método aún no implementado.\")\n",
    "\n",
    "    def resumen(self):\n",
    "        return \"Forma()\"\n",
    "\n",
    "    def dibujo(self):\n",
    "        return None\n",
    "\n",
    "class Rectangulo(Forma):\n",
    "    def __init__(self, base, altura):\n",
    "        self.base = base\n",
    "        self.altura = altura\n",
    "\n",
    "    def area(self):\n",
    "        return self.base * self.altura\n",
    "\n",
    "    def perimetro(self):\n",
    "        return self.base * 2 + self.altura * 2\n",
    "\n",
    "    def resumen(self):\n",
    "        return f\"Rectangulo(base={self.base}, altura={self.altura})\"\n",
    "\n",
    "    def dibujo(self):\n",
    "        # Línea superior\n",
    "        print(\"┌\" + \" ─ \" * (self.base) + \"┐\")\n",
    "\n",
    "        # Líneas intermedias\n",
    "        for _ in range(self.altura):\n",
    "            print(\"│\" + \"   \" * (self.base) + \"│\")\n",
    "\n",
    "        # Línea inferior\n",
    "        print(\"└\" + \" ─ \" * (self.base) + \"┘\")\n",
    "\n",
    "\n",
    "class Cuadrado(Rectangulo):\n",
    "    def __init__(self, lado):\n",
    "        self.base = lado\n",
    "        self.altura = lado\n",
    "\n",
    "    def resumen(self):\n",
    "        return f\"Cuadrado(lado={self.base})\"\n",
    "\n",
    "Rectangulo(3, 3).dibujo()"
   ]
  },
  {
   "cell_type": "code",
   "execution_count": null,
   "id": "a6a79009",
   "metadata": {},
   "outputs": [],
   "source": [
    "formas = [\n",
    "    Cuadrado(5),\n",
    "    Rectangulo(3, 2),\n",
    "    Cuadrado(3),\n",
    "    Rectangulo(4, 3),\n",
    "    Cuadrado(6),\n",
    "    Rectangulo(6, 4),\n",
    "]\n",
    "\n",
    "formas_ordenadas = sorted(formas, key=lambda f: f.area())\n",
    "\n",
    "for forma in formas_ordenadas:\n",
    "    forma.dibujo()"
   ]
  },
  {
   "cell_type": "markdown",
   "id": "6129de6f",
   "metadata": {},
   "source": [
    "* Sobrecarga de operadores (`__add__`, `__eq__`, etc.)\n",
    "* Métodos especiales o \"dunder methods\" (`__init__`, `__str__`, `__repr__`, etc.)"
   ]
  }
 ],
 "metadata": {
  "language_info": {
   "name": "python"
  }
 },
 "nbformat": 4,
 "nbformat_minor": 5
}
