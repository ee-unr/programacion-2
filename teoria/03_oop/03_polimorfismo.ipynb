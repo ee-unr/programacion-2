{
 "cells": [
  {
   "cell_type": "markdown",
   "id": "6501d1a2",
   "metadata": {},
   "source": [
    "---\n",
    "title: \"3 - Polimorfismo\"\n",
    "toc: true\n",
    "---"
   ]
  },
  {
   "cell_type": "markdown",
   "id": "fabac272",
   "metadata": {},
   "source": [
    "- El polimorfismo es uno de los pilares básicos en la programación orientada a objetos, por lo que para entenderlo es importante tener las bases de la POO y la herencia bien asentadas.\n",
    "- El término polimorfismo tiene origen en las palabras poly (muchos) y morfo (formas), y aplicado a la programación hace referencia a que los objetos pueden tomar diferentes formas. ¿Pero qué significa esto?\n",
    "- Es un nombre llamativo para un concepto sencillo: distintos comportamientos ocurren según la subclase que se esté usando, **sin necesidad de saber explícitamente cuál es**.\n",
    "- Polimorfismo significa que distintos objetos (de distintas subclases) pueden responder al mismo mensaje o método de formas diferentes."
   ]
  },
  {
   "cell_type": "markdown",
   "id": "c7ae76fb",
   "metadata": {},
   "source": [
    "## Ejemplos"
   ]
  },
  {
   "cell_type": "markdown",
   "id": "7993beb6",
   "metadata": {},
   "source": [
    "### Animales que hablan"
   ]
  },
  {
   "cell_type": "markdown",
   "id": "eb2e925d",
   "metadata": {},
   "source": [
    "En programación orientada a objetos (POO), el polimorfismo se refiere a la capacidad que tiene el código cliente de invocar un mismo método en distintos objetos, y que cada objeto responda de la forma que le corresponde según su propia implementación.\n",
    "\n",
    "Por ejemplo, imaginemos que tenemos una colección de perros, gatos y pájaros, y que cada uno entiende algunos comandos básicos. Si les pedimos a estas mascotas que hablen (es decir, si les enviamos el mensaje \"habla\"), los perros van a ladrar, los gatos van a maullar y los pájaros van a piar."
   ]
  },
  {
   "cell_type": "code",
   "execution_count": 1,
   "id": "c416bd87",
   "metadata": {},
   "outputs": [
    {
     "name": "stdout",
     "output_type": "stream",
     "text": [
      "Julio dice ¡guau!\n",
      "Micha dice ¡miau!\n",
      "Justo dice ¡guau!\n",
      "Pedrito dice ¡pio pio!\n"
     ]
    }
   ],
   "source": [
    "class Animal:\n",
    "    def __init__(self, nombre):\n",
    "        self.nombre = nombre\n",
    "\n",
    "class Perro(Animal):\n",
    "    def hablar(self):\n",
    "        print(self.nombre, \"dice ¡guau!\")\n",
    "\n",
    "\n",
    "class Gato(Animal):\n",
    "    def hablar(self):\n",
    "        print(self.nombre, \"dice ¡miau!\")\n",
    "\n",
    "\n",
    "class Pajaro(Animal):\n",
    "    def hablar(self):\n",
    "        print(self.nombre, \"dice ¡pio pio!\")\n",
    "\n",
    "mascotas = [\n",
    "    Perro(\"Julio\"),\n",
    "    Gato(\"Micha\"),\n",
    "    Perro(\"Justo\"),\n",
    "    Pajaro(\"Pedrito\")\n",
    "]\n",
    "\n",
    "for mascota in mascotas:\n",
    "    mascota.hablar()"
   ]
  },
  {
   "cell_type": "markdown",
   "id": "ef577a71",
   "metadata": {},
   "source": [
    "* Cada clase tiene un método `hablar()`, pero el contenido de ese método es diferente.\n",
    "* Cada clase hace lo que necesita hacer en su propia versión de ese método; el nombre del método es el mismo, pero su implementación es distinta."
   ]
  },
  {
   "cell_type": "markdown",
   "id": "5d2dfa03",
   "metadata": {},
   "source": [
    "Para que todo sea más fácil de manejar, ponemos todos los objetos de tipo mascota en una lista.\n",
    "\n",
    "Para hacer que todas hablen, recorremos esa lista y enviamos el mismo mensaje llamando a un método con exactamente el mismo nombre en cada objeto, sin preocuparnos por el tipo de objeto que sea.\n"
   ]
  },
  {
   "cell_type": "markdown",
   "id": "389a44fd",
   "metadata": {},
   "source": [
    "::: {.callout-note}\n",
    "\n",
    "Los programadores orientados a objetos suelen usar la expresión “enviar un mensaje” cuando hablamos de que el código cliente llama a un método de un objeto.\n",
    "\n",
    "Lo que el objeto haga al recibir ese mensaje depende exclusivamente de él.\n",
    "Con el polimorfismo, podemos enviar el mismo mensaje a varios objetos, y cada uno va a reaccionar de manera diferente según cómo fue diseñado y según los datos que tenga disponibles.\n",
    "\n",
    "\n",
    "::: "
   ]
  },
  {
   "cell_type": "markdown",
   "id": "3d2568ca",
   "metadata": {},
   "source": [
    "### La forma es lo de menos"
   ]
  },
  {
   "cell_type": "code",
   "execution_count": 2,
   "id": "dd2da10f",
   "metadata": {},
   "outputs": [],
   "source": [
    "class Rectangulo:\n",
    "    def __init__(self, base, altura):\n",
    "        self.base = base\n",
    "        self.altura = altura\n",
    "\n",
    "    def area(self):\n",
    "        return self.base * self.altura\n",
    "\n",
    "    def perimetro(self):\n",
    "        return self.base * 2 + self.altura * 2\n",
    "\n",
    "    def resumen(self):\n",
    "        return f\"Rectangulo(base={self.base}, altura={self.altura})\"\n",
    "\n",
    "    def dibujo(self):\n",
    "        # Línea superior\n",
    "        print(\"┌\" + \" ─ \" * (self.base) + \"┐\")\n",
    "\n",
    "        # Líneas intermedias\n",
    "        for _ in range(self.altura):\n",
    "            print(\"│\" + \"   \" * (self.base) + \"│\")\n",
    "\n",
    "        # Línea inferior\n",
    "        print(\"└\" + \" ─ \" * (self.base) + \"┘\")\n",
    "\n",
    "class Cuadrado(Rectangulo):\n",
    "    def __init__(self, lado):\n",
    "        self.base = lado\n",
    "        self.altura = lado\n",
    "\n",
    "    def resumen(self):\n",
    "        return f\"Cuadrado(lado={self.base})\""
   ]
  },
  {
   "cell_type": "code",
   "execution_count": 3,
   "id": "a6a79009",
   "metadata": {},
   "outputs": [
    {
     "name": "stdout",
     "output_type": "stream",
     "text": [
      "Rectangulo(base=3, altura=2): 6\n",
      "Cuadrado(lado=3): 9\n",
      "Rectangulo(base=4, altura=3): 12\n",
      "Rectangulo(base=6, altura=4): 24\n",
      "Cuadrado(lado=5): 25\n"
     ]
    }
   ],
   "source": [
    "formas = [\n",
    "    Cuadrado(5),\n",
    "    Rectangulo(3, 2),\n",
    "    Cuadrado(3),\n",
    "    Rectangulo(4, 3),\n",
    "    Rectangulo(6, 4),\n",
    "]\n",
    "\n",
    "formas_ordenadas = sorted(formas, key=lambda f: f.area())\n",
    "for forma in formas_ordenadas:\n",
    "    print(forma.resumen(), forma.area(), sep=\": \")"
   ]
  },
  {
   "cell_type": "code",
   "execution_count": 4,
   "id": "f4c889c5",
   "metadata": {},
   "outputs": [
    {
     "name": "stdout",
     "output_type": "stream",
     "text": [
      "┌ ─  ─  ─ ┐\n",
      "│         │\n",
      "│         │\n",
      "└ ─  ─  ─ ┘\n",
      "┌ ─  ─  ─ ┐\n",
      "│         │\n",
      "│         │\n",
      "│         │\n",
      "└ ─  ─  ─ ┘\n",
      "┌ ─  ─  ─  ─ ┐\n",
      "│            │\n",
      "│            │\n",
      "│            │\n",
      "└ ─  ─  ─  ─ ┘\n",
      "┌ ─  ─  ─  ─  ─  ─ ┐\n",
      "│                  │\n",
      "│                  │\n",
      "│                  │\n",
      "│                  │\n",
      "└ ─  ─  ─  ─  ─  ─ ┘\n",
      "┌ ─  ─  ─  ─  ─ ┐\n",
      "│               │\n",
      "│               │\n",
      "│               │\n",
      "│               │\n",
      "│               │\n",
      "└ ─  ─  ─  ─  ─ ┘\n"
     ]
    }
   ],
   "source": [
    "for forma in formas_ordenadas:\n",
    "    forma.dibujo()"
   ]
  },
  {
   "cell_type": "markdown",
   "id": "bdeb56e7",
   "metadata": {},
   "source": [
    "A la función lambda no le importa que tipo específico de objeto le fue pasado. Siempre y cuando el objeto sea de una clase que implementa el método `.area()`, se obtiene una lista de objetos ordenados según su área."
   ]
  },
  {
   "cell_type": "markdown",
   "id": "7b3aadb0",
   "metadata": {},
   "source": [
    "## Métodos mágicos"
   ]
  },
  {
   "cell_type": "markdown",
   "id": "7296a299",
   "metadata": {},
   "source": [
    "### Operadores polimórficos"
   ]
  },
  {
   "cell_type": "code",
   "execution_count": 5,
   "id": "f358dd16",
   "metadata": {},
   "outputs": [
    {
     "data": {
      "text/plain": [
       "30"
      ]
     },
     "execution_count": null,
     "metadata": {},
     "output_type": "execute_result"
    }
   ],
   "source": [
    "12 + 18"
   ]
  },
  {
   "cell_type": "code",
   "execution_count": 6,
   "id": "4812c9ae",
   "metadata": {},
   "outputs": [
    {
     "data": {
      "text/plain": [
       "'AB'"
      ]
     },
     "execution_count": null,
     "metadata": {},
     "output_type": "execute_result"
    }
   ],
   "source": [
    "\"A\" + \"B\""
   ]
  },
  {
   "cell_type": "code",
   "execution_count": 7,
   "id": "5dbb0eec",
   "metadata": {},
   "outputs": [
    {
     "data": {
      "text/plain": [
       "[1, 2, 3, 4]"
      ]
     },
     "execution_count": null,
     "metadata": {},
     "output_type": "execute_result"
    }
   ],
   "source": [
    "[1, 2] + [3, 4]"
   ]
  },
  {
   "cell_type": "code",
   "execution_count": 8,
   "id": "018d21eb",
   "metadata": {},
   "outputs": [],
   "source": [
    "r1 = Rectangulo(3, 2)\n",
    "r2 = Rectangulo(3, 2)"
   ]
  },
  {
   "cell_type": "code",
   "execution_count": 9,
   "id": "a73fddf3",
   "metadata": {},
   "outputs": [
    {
     "name": "stdout",
     "output_type": "stream",
     "text": [
      "┌ ─  ─  ─ ┐\n",
      "│         │\n",
      "│         │\n",
      "└ ─  ─  ─ ┘\n",
      "┌ ─  ─  ─ ┐\n",
      "│         │\n",
      "│         │\n",
      "└ ─  ─  ─ ┘\n"
     ]
    }
   ],
   "source": [
    "r1.dibujo()\n",
    "r2.dibujo()"
   ]
  },
  {
   "cell_type": "code",
   "execution_count": 10,
   "id": "1aaf4b27",
   "metadata": {},
   "outputs": [
    {
     "data": {
      "text/plain": [
       "False"
      ]
     },
     "execution_count": null,
     "metadata": {},
     "output_type": "execute_result"
    }
   ],
   "source": [
    "r1 == r2"
   ]
  },
  {
   "cell_type": "markdown",
   "id": "6ccebfaa",
   "metadata": {},
   "source": [
    "¿?"
   ]
  },
  {
   "cell_type": "code",
   "execution_count": 11,
   "id": "58508546",
   "metadata": {},
   "outputs": [],
   "source": [
    "class Rectangulo:\n",
    "    def __init__(self, base, altura):\n",
    "        self.base = base\n",
    "        self.altura = altura\n",
    "\n",
    "    def area(self):\n",
    "        return self.base * self.altura\n",
    "\n",
    "    def perimetro(self):\n",
    "        return self.base * 2 + self.altura * 2\n",
    "\n",
    "    def resumen(self):\n",
    "        return f\"Rectangulo(base={self.base}, altura={self.altura})\"\n",
    "\n",
    "    def dibujo(self):\n",
    "        print(\"┌\" + \" ─ \" * (self.base) + \"┐\")\n",
    "        for _ in range(self.altura):\n",
    "            print(\"│\" + \"   \" * (self.base) + \"│\")\n",
    "        print(\"└\" + \" ─ \" * (self.base) + \"┘\")\n",
    "\n",
    "    def __eq__(self, other):\n",
    "        if self.base == other.base and self.altura == other.altura:\n",
    "            return True\n",
    "        return False"
   ]
  },
  {
   "cell_type": "code",
   "execution_count": 12,
   "id": "c92e6f7e",
   "metadata": {},
   "outputs": [],
   "source": [
    "r1 = Rectangulo(3, 2)\n",
    "r2 = Rectangulo(3, 2)\n",
    "r3 = Rectangulo(5, 3)"
   ]
  },
  {
   "cell_type": "code",
   "execution_count": 13,
   "id": "8e9547e9",
   "metadata": {},
   "outputs": [
    {
     "data": {
      "text/plain": [
       "True"
      ]
     },
     "execution_count": null,
     "metadata": {},
     "output_type": "execute_result"
    }
   ],
   "source": [
    "r1 == r2"
   ]
  },
  {
   "cell_type": "code",
   "execution_count": 14,
   "id": "b3065cd9",
   "metadata": {},
   "outputs": [
    {
     "data": {
      "text/plain": [
       "False"
      ]
     },
     "execution_count": null,
     "metadata": {},
     "output_type": "execute_result"
    }
   ],
   "source": [
    "r1 == r3"
   ]
  },
  {
   "cell_type": "code",
   "execution_count": 15,
   "id": "b62088fa",
   "metadata": {},
   "outputs": [
    {
     "data": {
      "text/plain": [
       "True"
      ]
     },
     "execution_count": null,
     "metadata": {},
     "output_type": "execute_result"
    }
   ],
   "source": [
    "r1 != r3"
   ]
  },
  {
   "cell_type": "code",
   "execution_count": 16,
   "id": "cc33f2ab",
   "metadata": {},
   "outputs": [
    {
     "data": {
      "text/plain": [
       "False"
      ]
     },
     "execution_count": null,
     "metadata": {},
     "output_type": "execute_result"
    }
   ],
   "source": [
    "r1 != r2"
   ]
  },
  {
   "cell_type": "code",
   "execution_count": 17,
   "id": "e1ffde39",
   "metadata": {},
   "outputs": [],
   "source": [
    "class Rectangulo:\n",
    "    def __init__(self, base, altura):\n",
    "        self.base = base\n",
    "        self.altura = altura\n",
    "\n",
    "    def area(self):\n",
    "        return self.base * self.altura\n",
    "\n",
    "    def perimetro(self):\n",
    "        return self.base * 2 + self.altura * 2\n",
    "\n",
    "    def resumen(self):\n",
    "        return f\"Rectangulo(base={self.base}, altura={self.altura})\"\n",
    "\n",
    "    def dibujo(self):\n",
    "        print(\"┌\" + \" ─ \" * (self.base) + \"┐\")\n",
    "        for _ in range(self.altura):\n",
    "            print(\"│\" + \"   \" * (self.base) + \"│\")\n",
    "        print(\"└\" + \" ─ \" * (self.base) + \"┘\")\n",
    "\n",
    "    def __eq__(self, other):\n",
    "        return self.base == other.base and self.altura == other.altura\n",
    "\n",
    "    def __lt__(self, other):\n",
    "        return self.area() < other.area()\n",
    "\n",
    "    def __le__(self, other):\n",
    "        return self.area() <= other.area()\n",
    "\n",
    "    def __gt__(self, other):\n",
    "        return self.area > other.area()\n",
    "\n",
    "    def __ge__(self, other):\n",
    "        return self.area >= other.area()"
   ]
  },
  {
   "cell_type": "code",
   "execution_count": 18,
   "id": "20b2e920",
   "metadata": {},
   "outputs": [],
   "source": [
    "r1 = Rectangulo(3, 5)\n",
    "r2 = Rectangulo(3, 4)\n",
    "r3 = Rectangulo(5, 3)"
   ]
  },
  {
   "cell_type": "code",
   "execution_count": 19,
   "id": "71ab9cb9",
   "metadata": {},
   "outputs": [
    {
     "data": {
      "text/plain": [
       "False"
      ]
     },
     "execution_count": null,
     "metadata": {},
     "output_type": "execute_result"
    }
   ],
   "source": [
    "r1 < r2"
   ]
  },
  {
   "cell_type": "code",
   "execution_count": 20,
   "id": "0eea617a",
   "metadata": {},
   "outputs": [
    {
     "data": {
      "text/plain": [
       "False"
      ]
     },
     "execution_count": null,
     "metadata": {},
     "output_type": "execute_result"
    }
   ],
   "source": [
    "r1 < r3"
   ]
  },
  {
   "cell_type": "code",
   "execution_count": 21,
   "id": "8cca57b9",
   "metadata": {},
   "outputs": [
    {
     "data": {
      "text/plain": [
       "True"
      ]
     },
     "execution_count": null,
     "metadata": {},
     "output_type": "execute_result"
    }
   ],
   "source": [
    "r1 <= r3"
   ]
  },
  {
   "cell_type": "code",
   "execution_count": 22,
   "id": "a5dcf1f8",
   "metadata": {},
   "outputs": [
    {
     "data": {
      "text/plain": [
       "False"
      ]
     },
     "execution_count": null,
     "metadata": {},
     "output_type": "execute_result"
    }
   ],
   "source": [
    "r1 == r2"
   ]
  },
  {
   "cell_type": "markdown",
   "id": "0a4ad4a6",
   "metadata": {},
   "source": [
    "### Modificando la apariencia"
   ]
  },
  {
   "cell_type": "code",
   "execution_count": 23,
   "id": "8a551c9e",
   "metadata": {},
   "outputs": [],
   "source": [
    "class Rectangulo:\n",
    "    def __init__(self, base, altura):\n",
    "        self.base = base\n",
    "        self.altura = altura\n",
    "\n",
    "    def area(self):\n",
    "        return self.base * self.altura\n",
    "\n",
    "    def perimetro(self):\n",
    "        return self.base * 2 + self.altura * 2\n",
    "\n",
    "    def __repr__(self):\n",
    "        return f\"Rectangulo(base={self.base}, altura={self.altura})\"\n",
    "\n",
    "r1 = Rectangulo(5, 3.5)"
   ]
  },
  {
   "cell_type": "code",
   "execution_count": 24,
   "id": "3e01786c",
   "metadata": {},
   "outputs": [
    {
     "data": {
      "text/plain": [
       "Rectangulo(base=5, altura=3.5)"
      ]
     },
     "execution_count": null,
     "metadata": {},
     "output_type": "execute_result"
    }
   ],
   "source": [
    "r1"
   ]
  },
  {
   "cell_type": "code",
   "execution_count": 25,
   "id": "4129f886",
   "metadata": {},
   "outputs": [
    {
     "data": {
      "text/plain": [
       "'Rectangulo(base=5, altura=3.5)'"
      ]
     },
     "execution_count": null,
     "metadata": {},
     "output_type": "execute_result"
    }
   ],
   "source": [
    "repr(r1)"
   ]
  },
  {
   "cell_type": "code",
   "execution_count": 26,
   "id": "c78850b4",
   "metadata": {},
   "outputs": [
    {
     "data": {
      "text/plain": [
       "'Rectangulo(base=5, altura=3.5)'"
      ]
     },
     "execution_count": null,
     "metadata": {},
     "output_type": "execute_result"
    }
   ],
   "source": [
    "str(r1)"
   ]
  },
  {
   "cell_type": "markdown",
   "id": "66f8a3b1",
   "metadata": {},
   "source": [
    "## Magia aritmética"
   ]
  },
  {
   "cell_type": "code",
   "execution_count": 27,
   "id": "194a55e3",
   "metadata": {},
   "outputs": [
    {
     "data": {
      "text/plain": [
       "(Vector(2, 2), Vector(1, -0.5))"
      ]
     },
     "execution_count": null,
     "metadata": {},
     "output_type": "execute_result"
    }
   ],
   "source": [
    "class Vector:\n",
    "    def __init__(self, x, y):\n",
    "        self.x = x\n",
    "        self.y = y\n",
    "\n",
    "    def __add__(self, other):\n",
    "        return Vector(self.x + other.x, self.y + other.y)\n",
    "\n",
    "    def __repr__(self):\n",
    "        return f\"Vector({self.x}, {self.y})\"\n",
    "\n",
    "v = Vector(2, 2)\n",
    "u = Vector(1, -0.5)\n",
    "v, u"
   ]
  },
  {
   "cell_type": "code",
   "execution_count": 28,
   "id": "b3de9bd3",
   "metadata": {},
   "outputs": [
    {
     "data": {
      "text/plain": [
       "Vector(3, 1.5)"
      ]
     },
     "execution_count": null,
     "metadata": {},
     "output_type": "execute_result"
    }
   ],
   "source": [
    "v + u"
   ]
  },
  {
   "cell_type": "code",
   "execution_count": 29,
   "id": "c80d86f8",
   "metadata": {},
   "outputs": [
    {
     "name": "stdout",
     "output_type": "stream",
     "text": [
      "Vector(1, 2.5)\n",
      "Vector(-1, -2.5)\n"
     ]
    }
   ],
   "source": [
    "class Vector:\n",
    "    def __init__(self, x, y):\n",
    "        self.x = x\n",
    "        self.y = y\n",
    "\n",
    "    def __add__(self, other):\n",
    "        return Vector(self.x + other.x, self.y + other.y)\n",
    "\n",
    "    def __sub__(self, other):\n",
    "        return Vector(self.x - other.x, self.y - other.y)\n",
    "\n",
    "    def __repr__(self):\n",
    "        return f\"Vector({self.x}, {self.y})\"\n",
    "\n",
    "v = Vector(2, 2)\n",
    "u = Vector(1, -0.5)\n",
    "\n",
    "print(v - u)\n",
    "print(u - v)"
   ]
  },
  {
   "cell_type": "code",
   "execution_count": 30,
   "id": "652e279a",
   "metadata": {},
   "outputs": [],
   "source": [
    "import matplotlib.pyplot as plt\n",
    "\n",
    "class Vector:\n",
    "    def __init__(self, x, y):\n",
    "        self.x = x\n",
    "        self.y = y\n",
    "\n",
    "    def __add__(self, other):\n",
    "        return Vector(self.x + other.x, self.y + other.y)\n",
    "\n",
    "    def __sub__(self, other):\n",
    "        return Vector(self.x - other.x, self.y - other.y)\n",
    "\n",
    "    def __mul__(self, scalar):\n",
    "        return Vector(self.x * scalar, self.y * scalar)\n",
    "\n",
    "    def __truediv__(self, scalar):\n",
    "        return Vector(self.x / scalar, self.y / scalar)\n",
    "\n",
    "    def __repr__(self):\n",
    "        return f\"Vector({self.x}, {self.y})\""
   ]
  },
  {
   "cell_type": "code",
   "execution_count": 31,
   "id": "d29bd22d",
   "metadata": {},
   "outputs": [],
   "source": [
    "def graficar_vectores(vectores):\n",
    "    x_range = [0, 0]\n",
    "    y_range = [0, 0]\n",
    "\n",
    "    for vector in vectores:\n",
    "        plt.quiver(0, 0, vector.x, vector.y, angles='xy', scale_units='xy', scale=1)\n",
    "\n",
    "        x_range[0] = min(x_range[0], vector.x)\n",
    "        x_range[1] = max(x_range[1], vector.x)\n",
    "\n",
    "        y_range[0] = min(y_range[0], vector.y)\n",
    "        y_range[1] = max(y_range[1], vector.y)\n",
    "\n",
    "    x_range[0] = x_range[0] - 0.5\n",
    "    x_range[1] = x_range[1] + 0.5\n",
    "    y_range[0] = y_range[0] - 0.5\n",
    "    y_range[1] = y_range[1] + 0.5\n",
    "\n",
    "    plt.axhline(0, color='k', linewidth=0.5)\n",
    "    plt.axvline(0, color='k', linewidth=0.5)\n",
    "    plt.xlim(x_range)\n",
    "    plt.ylim(y_range)"
   ]
  },
  {
   "cell_type": "code",
   "execution_count": null,
   "id": "9a90d72c",
   "metadata": {},
   "outputs": [
    {
     "data": {
      "image/png": "[encoded data removed]",
      "text/plain": [
       "<Figure size 640x480 with 1 Axes>"
      ]
     },
     "metadata": {},
     "output_type": "display_data"
    }
   ],
   "source": [
    "graficar_vectores(\n",
    "    [\n",
    "        Vector(1, 2),\n",
    "        Vector(0.5, 0.75)\n",
    "    ]\n",
    ")"
   ]
  },
  {
   "cell_type": "markdown",
   "id": "e1fea3e7",
   "metadata": {},
   "source": [
    "La sobrecarga de operadores no hace posibles nuevas operaciones, sólo hace que la API sea más expresiva y más cercana a la notación matemática."
   ]
  }
 ],
 "metadata": {
  "language_info": {
   "name": "python"
  }
 },
 "nbformat": 4,
 "nbformat_minor": 5
}
