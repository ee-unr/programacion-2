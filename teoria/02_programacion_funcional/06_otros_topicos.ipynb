{
 "cells": [
  {
   "cell_type": "markdown",
   "id": "dc29bb30",
   "metadata": {},
   "source": [
    "---\n",
    "title: \"6 - Otros tópicos\"\n",
    "toc: true\n",
    "---"
   ]
  },
  {
   "cell_type": "markdown",
   "id": "7e54a11a",
   "metadata": {},
   "source": [
    "* Funciones con argumentos por defecto mutables\n",
    "* Funciones con únicamente argumentos posicionales\n",
    "* Funciones con únicamente argumentos nombrados\n",
    "* Desestructuraciones de secuencias y de mapeos al llamar a una función\n",
    "    * `f(*[1, 2, 3])`\n",
    "    * `g(**{\"a\": 1, \"b\": 2})`\n",
    "    * `h(*[1, 2, 3], **{\"a\": 1, \"b\": 2})`"
   ]
  }
 ],
 "metadata": {
  "language_info": {
   "name": "plaintext"
  }
 },
 "nbformat": 4,
 "nbformat_minor": 5
}
