{
 "cells": [
  {
   "cell_type": "markdown",
   "id": "43ba7cfd",
   "metadata": {},
   "source": [
    "---\n",
    "title: \"1 - El paradigma funcional\"\n",
    "toc: true\n",
    "---"
   ]
  },
  {
   "cell_type": "markdown",
   "id": "f4245909",
   "metadata": {},
   "source": [
    "## Introducción\n",
    "\n",
    "La **programación funcional** es un paradigma de programación que se centra en el uso de **funciones puras** y en concebir la computación como la evaluación de funciones.\n",
    "En lugar de dar instrucciones paso a paso que cambian variables o estados (como ocurre en la programación imperativa), la idea es construir programas a partir de funciones que transforman datos.\n",
    "\n",
    "Existen lenguajes diseñados específicamente para la programación funcional (como [Haskell](https://www.haskell.org/)), pero Python no es uno de ellos.\n",
    "Python es un lenguaje multiparadigma, lo que significa que nos permite combinar diferentes estilos de programación.\n",
    "Por este motivo, la programación funcional en Python no suele ser el enfoque principal, pero puede ser muy útil para escribir código más claro, conciso y fácil de probar."
   ]
  },
  {
   "cell_type": "markdown",
   "id": "71d7b133",
   "metadata": {},
   "source": [
    "## Funciones puras\n",
    "\n",
    "Una función es pura cuando su salida depende únicamente de los valores de entrada y no produce ningún efecto secundario o colateral (_side effect_, en inglés).\n",
    "\n",
    "La función `sumar`, que calcula y devuelve la suma de dos números, es un ejemplo de función pura: su resultado depende solo de sus argumentos y no genera efectos colaterales.\n"
   ]
  },
  {
   "cell_type": "code",
   "execution_count": 23,
   "id": "27ea7f3c",
   "metadata": {},
   "outputs": [
    {
     "data": {
      "text/plain": [
       "14"
      ]
     },
     "execution_count": null,
     "metadata": {},
     "output_type": "execute_result"
    }
   ],
   "source": [
    "def sumar(x, y):\n",
    "    return x + y\n",
    "\n",
    "sumar(3, 11)"
   ]
  },
  {
   "cell_type": "markdown",
   "id": "a7960d77",
   "metadata": {},
   "source": [
    "En cambio, la función `agregar` no es una función pura. Esto se debe a que modifica un objeto global, lo que se conoce como un efecto secundario.\n",
    "Además, el valor de su salida no depende únicamente de la entrada, sino también de un estado global: la cantidad de elementos en `lista`."
   ]
  },
  {
   "cell_type": "code",
   "execution_count": 24,
   "id": "cffa2bfa",
   "metadata": {},
   "outputs": [],
   "source": [
    "lista = []\n",
    "\n",
    "def agregar(x):\n",
    "    \"\"\"Agrega el elemento `x` al final de `lista` y devuelve la longitud de `lista`\"\"\"\n",
    "    lista.append(x)\n",
    "    return len(lista)"
   ]
  },
  {
   "cell_type": "code",
   "execution_count": 25,
   "id": "216f2e7e",
   "metadata": {},
   "outputs": [
    {
     "data": {
      "text/plain": [
       "1"
      ]
     },
     "execution_count": null,
     "metadata": {},
     "output_type": "execute_result"
    }
   ],
   "source": [
    "agregar(\"azucar\")"
   ]
  },
  {
   "cell_type": "code",
   "execution_count": 26,
   "id": "cf2e5e83",
   "metadata": {},
   "outputs": [
    {
     "data": {
      "text/plain": [
       "2"
      ]
     },
     "execution_count": null,
     "metadata": {},
     "output_type": "execute_result"
    }
   ],
   "source": [
    "agregar(\"flores\")"
   ]
  },
  {
   "cell_type": "code",
   "execution_count": 27,
   "id": "045035c1",
   "metadata": {},
   "outputs": [
    {
     "data": {
      "text/plain": [
       "3"
      ]
     },
     "execution_count": null,
     "metadata": {},
     "output_type": "execute_result"
    }
   ],
   "source": [
    "agregar(\"colores\")"
   ]
  },
  {
   "cell_type": "code",
   "execution_count": 28,
   "id": "7af48a0c",
   "metadata": {},
   "outputs": [
    {
     "data": {
      "text/plain": [
       "['azucar', 'flores', 'colores']"
      ]
     },
     "execution_count": null,
     "metadata": {},
     "output_type": "execute_result"
    }
   ],
   "source": [
    "lista"
   ]
  },
  {
   "cell_type": "markdown",
   "id": "1f95f0ea",
   "metadata": {},
   "source": [
    "### Efectos secundarios\n",
    "\n",
    "Un efecto secundario (_side effect_) es cualquier cambio de estado observable que ocurre fuera del ámbito local de una función.\n",
    "En otras palabras, se trata de una modificación del entorno externo de la función que va más allá de simplemente devolver un valor.\n",
    "\n",
    "Algunos ejemplos de _side effects_ son:\n",
    "\n",
    "* Modificar una variable global o un objeto mutable.\n",
    "* Imprimir en la consola.\n",
    "* Escribir en un archivo.\n",
    "* Realizar una llamada a una API o a una base de datos.\n",
    "\n",
    "Las funciones con efectos secundarios pueden ser problemáticas porque, al modificar elementos externos, hacen que el código sea impredecible y difícil de probar.\n",
    "\n",
    "En el ejemplo de la función `agregar` que creamos anteriormente, no es posible predecir el valor de salida para un valor de entrada determinado.\n",
    "\n",
    "Por eso, la programación funcional promueve el uso de funciones puras, que no producen efectos secundarios.\n",
    "De esta manera, con las mismas entradas siempre se obtiene la misma salida, logrando un código más confiable, predecible y sencillo de mantener."
   ]
  },
  {
   "cell_type": "markdown",
   "id": "e05e0c8f",
   "metadata": {},
   "source": [
    "## Ciudadanos de primera clase {#sec-ciudadanos}\n",
    "\n",
    "Definamos otra función muy sencilla, `restar`, que calcula y devuelve la diferencia entre dos objetos."
   ]
  },
  {
   "cell_type": "code",
   "execution_count": 29,
   "id": "726200bc",
   "metadata": {},
   "outputs": [
    {
     "data": {
      "text/plain": [
       "5"
      ]
     },
     "execution_count": null,
     "metadata": {},
     "output_type": "execute_result"
    }
   ],
   "source": [
    "def restar(x, y):\n",
    "    return x - y\n",
    "\n",
    "restar(10, 5)"
   ]
  },
  {
   "cell_type": "markdown",
   "id": "6b8473b8",
   "metadata": {},
   "source": [
    "Podemos observar que esta función es un **objeto** de tipo `function`.\n",
    "\n",
    "```python\n",
    "print(type(restar))\n",
    "print(restar)\n",
    "restar\n",
    "```\n",
    "```cmd\n",
    "<class 'function'>\n",
    "<function restar at 0x7f71cee62020>\n",
    "<function __main__.restar(x, y)>\n",
    "```\n",
    "\n",
    "Al imprimir la función, Python nos muestra su nombre y la **dirección de memoria** donde está almacenada (en formato hexadecimal).\n",
    "En cambio, al mostrar su representación, obtenemos información adicional: el módulo en el que fue definida (en este caso `__main__`) y la lista de parámetros que recibe (`x` e `y`)."
   ]
  },
  {
   "cell_type": "markdown",
   "id": "56227821",
   "metadata": {},
   "source": [
    "Dado que la función `restar` es un objeto de Python, podemos asignarla a una nueva variable y realizar una llamada utilizando esa nueva etiqueta en vez de la original."
   ]
  },
  {
   "cell_type": "code",
   "execution_count": 30,
   "id": "41048b62",
   "metadata": {},
   "outputs": [
    {
     "data": {
      "text/plain": [
       "5"
      ]
     },
     "execution_count": null,
     "metadata": {},
     "output_type": "execute_result"
    }
   ],
   "source": [
    "resta_especial = restar\n",
    "resta_especial(10, 5)"
   ]
  },
  {
   "cell_type": "markdown",
   "id": "4daf19f7",
   "metadata": {},
   "source": [
    "Notemos que `resta_especial` **no es una nueva función**; es solamente una nueva referencia a la función antes definida."
   ]
  },
  {
   "cell_type": "code",
   "execution_count": 31,
   "id": "becb68f2",
   "metadata": {},
   "outputs": [
    {
     "data": {
      "text/plain": [
       "<function __main__.restar(x, y)>"
      ]
     },
     "execution_count": null,
     "metadata": {},
     "output_type": "execute_result"
    }
   ],
   "source": [
    "resta_especial # muestra 'restar', no 'resta_especial'"
   ]
  },
  {
   "cell_type": "code",
   "execution_count": 32,
   "id": "fd0d76c1",
   "metadata": {},
   "outputs": [
    {
     "data": {
      "text/plain": [
       "True"
      ]
     },
     "execution_count": null,
     "metadata": {},
     "output_type": "execute_result"
    }
   ],
   "source": [
    "resta_especial is restar"
   ]
  },
  {
   "cell_type": "markdown",
   "id": "ddb0a2c0",
   "metadata": {},
   "source": [
    "En Python, las funciones son ciudadanos de primera clase.\n",
    "Esto significa que son objetos, al igual que las cadenas o los números.\n",
    "Por lo tanto, todo lo que se puede hacer con una cadena o un número también puede hacerse con una función.\n",
    "\n",
    "Por ejemplo, se pueden almacenar dentro de una lista junto con otros objetos de distintos tipos:\n",
    "\n",
    "```python\n",
    "popurri = [128, restar, None]\n",
    "print(popurri[0])\n",
    "print(popurri[1])\n",
    "print(popurri[2])\n",
    "```\n",
    "```cmd\n",
    "128\n",
    "<function restar at 0x7f71cee62020>\n",
    "None\n",
    "```"
   ]
  },
  {
   "cell_type": "markdown",
   "id": "0e00fe97",
   "metadata": {},
   "source": [
    "Incluso una función puede ser almacenada como valor en un diccionario:"
   ]
  },
  {
   "cell_type": "code",
   "execution_count": 33,
   "id": "f2d2166b",
   "metadata": {},
   "outputs": [],
   "source": [
    "mapeo = {\n",
    "    \"sum\": sumar,\n",
    "    \"sub\": restar,\n",
    "}"
   ]
  },
  {
   "cell_type": "markdown",
   "id": "50a56d58",
   "metadata": {},
   "source": [
    "Luego, se las puede usar de la siguiente manera:"
   ]
  },
  {
   "cell_type": "code",
   "execution_count": 34,
   "id": "8ed374de",
   "metadata": {},
   "outputs": [
    {
     "data": {
      "text/plain": [
       "29"
      ]
     },
     "execution_count": null,
     "metadata": {},
     "output_type": "execute_result"
    }
   ],
   "source": [
    "mapeo[\"sum\"](25, 4)"
   ]
  },
  {
   "cell_type": "code",
   "execution_count": 35,
   "id": "3c706a08",
   "metadata": {},
   "outputs": [
    {
     "data": {
      "text/plain": [
       "21"
      ]
     },
     "execution_count": null,
     "metadata": {},
     "output_type": "execute_result"
    }
   ],
   "source": [
    "mapeo[\"sub\"](25, 4)"
   ]
  },
  {
   "cell_type": "markdown",
   "id": "cac9da89",
   "metadata": {},
   "source": [
    "### Funciones de orden superior {#sec-orden}\n",
    "\n",
    "Como cualquier objeto de Python, una función puede ser pasada como argumento de otra función.\n",
    "Debajo definimos dos funciones muy simples. Una imprime un mensaje de bienvenida y la otra uno de despedida."
   ]
  },
  {
   "cell_type": "code",
   "execution_count": 36,
   "id": "7ec1f107",
   "metadata": {},
   "outputs": [
    {
     "name": "stdout",
     "output_type": "stream",
     "text": [
      "¡Hola!\n",
      "¡Chau!\n"
     ]
    }
   ],
   "source": [
    "def bienvenida():\n",
    "    print(\"¡Hola!\")\n",
    "\n",
    "def despedida():\n",
    "    print(\"¡Chau!\")\n",
    "\n",
    "\n",
    "bienvenida()\n",
    "despedida()"
   ]
  },
  {
   "cell_type": "markdown",
   "id": "f78303c9",
   "metadata": {},
   "source": [
    "Se puede definir otra función, que llamaremos `externa` (del inglés _outer function_), que tiene un único parámetro `interna`.\n",
    "En su cuerpo, la función `externa` llama a la función `interna` y devuelve lo que sea que `interna` devuelva."
   ]
  },
  {
   "cell_type": "code",
   "execution_count": 37,
   "id": "25917ef1",
   "metadata": {},
   "outputs": [],
   "source": [
    "def externa(interna):\n",
    "    return interna()"
   ]
  },
  {
   "cell_type": "markdown",
   "id": "cd4bc504",
   "metadata": {},
   "source": [
    "De este modo, si llamamos a `externa` pasándole como argumento a `bienvenida`, se imprimirá `¡Hola!`; y si lo hacemos con `despedida`, se imprimirá `¡Chau!`."
   ]
  },
  {
   "cell_type": "code",
   "execution_count": 38,
   "id": "bba57e9d",
   "metadata": {},
   "outputs": [
    {
     "name": "stdout",
     "output_type": "stream",
     "text": [
      "¡Hola!\n"
     ]
    }
   ],
   "source": [
    "externa(bienvenida)"
   ]
  },
  {
   "cell_type": "code",
   "execution_count": 39,
   "id": "e34a1f10",
   "metadata": {},
   "outputs": [
    {
     "name": "stdout",
     "output_type": "stream",
     "text": [
      "¡Chau!\n"
     ]
    }
   ],
   "source": [
    "externa(despedida)"
   ]
  },
  {
   "cell_type": "markdown",
   "id": "3f2cd690",
   "metadata": {},
   "source": [
    "Como ni `bienvenida` ni `despedida` devuelven nada, lo mismo ocurre con `externa` en los dos ejemplos anteriores."
   ]
  },
  {
   "cell_type": "markdown",
   "id": "99037699",
   "metadata": {},
   "source": [
    "A esta función podemos pasarle cualquier función que pueda ser llamada sin ningún argumento. Por ejemplo:"
   ]
  },
  {
   "cell_type": "code",
   "execution_count": 40,
   "id": "58a9a38c",
   "metadata": {},
   "outputs": [
    {
     "data": {
      "text/plain": [
       "[]"
      ]
     },
     "execution_count": null,
     "metadata": {},
     "output_type": "execute_result"
    }
   ],
   "source": [
    "def crear_lista():\n",
    "    return []\n",
    "\n",
    "externa(crear_lista)"
   ]
  },
  {
   "cell_type": "markdown",
   "id": "94ce2da1",
   "metadata": {},
   "source": [
    "También es posible que una función devuelva como resultado otra función.\n",
    "La función `fabricar` construye y devuelve una función que computa la suma de dos objetos."
   ]
  },
  {
   "cell_type": "code",
   "execution_count": 41,
   "id": "95475ca7",
   "metadata": {},
   "outputs": [
    {
     "data": {
      "text/plain": [
       "25"
      ]
     },
     "execution_count": null,
     "metadata": {},
     "output_type": "execute_result"
    }
   ],
   "source": [
    "def fabricar():\n",
    "    def interna(x, y):\n",
    "        return x + y\n",
    "    return interna\n",
    "\n",
    "# La llamada a 'fabricar' genera y devuelve una función\n",
    "f = fabricar()\n",
    "\n",
    "# La función obtenida puede ser tratada como cualquier otra función\n",
    "f(10, 15)"
   ]
  },
  {
   "cell_type": "markdown",
   "id": "22a80541",
   "metadata": {},
   "source": [
    "Una función que fabrica otras funciones puede recibir parámetros que luego son utilizados dentro de la función interna.\n",
    "En el bloque siguiente, la función `crear_multiplicador` recibe un parámetro `x`, que define el valor por el cual se multiplicará el argumento de la función interna que se devuelve."
   ]
  },
  {
   "cell_type": "code",
   "execution_count": 42,
   "id": "a107aeaf",
   "metadata": {},
   "outputs": [],
   "source": [
    "def crear_multiplicador(x):\n",
    "    def interna(y):\n",
    "        return y * x\n",
    "    return interna"
   ]
  },
  {
   "cell_type": "markdown",
   "id": "fd110758",
   "metadata": {},
   "source": [
    "Así, es posible crear funciones para duplicar, triplicar, etc."
   ]
  },
  {
   "cell_type": "code",
   "execution_count": 43,
   "id": "6468ac5b",
   "metadata": {},
   "outputs": [
    {
     "name": "stdout",
     "output_type": "stream",
     "text": [
      "10\n",
      "15\n",
      "54\n"
     ]
    }
   ],
   "source": [
    "duplicar = crear_multiplicador(2)\n",
    "triplicar = crear_multiplicador(3)\n",
    "\n",
    "print(duplicar(5))\n",
    "print(triplicar(5))\n",
    "print(triplicar(18))"
   ]
  },
  {
   "cell_type": "markdown",
   "id": "e31b65ff",
   "metadata": {},
   "source": [
    "::: {.callout-note}\n",
    "##### Observación 👀\n",
    "\n",
    "Cada vez que se invoca la función `fabricar`, se crea y devuelve una **nueva** función.\n",
    "Por eso, el resultado de la comparación en el siguiente bloque es `False`.\n",
    "\n",
    "```python\n",
    "f1 = fabricar()\n",
    "f2 = fabricar()\n",
    "print(f1 is f2)\n",
    "```\n",
    "```cmd\n",
    "False\n",
    "```\n",
    "\n",
    ":::"
   ]
  },
  {
   "cell_type": "markdown",
   "id": "3ad213ff",
   "metadata": {},
   "source": [
    "::: {.callout-note}\n",
    "##### _Function factory_ 🏭\n",
    "\n",
    "A las funciones que crean y devuelven funciones se las conoce como **fábrica de funciones**, del inglés _function factory_.\n",
    "\n",
    ":::"
   ]
  },
  {
   "cell_type": "markdown",
   "id": "1f231812",
   "metadata": {},
   "source": [
    "### Atributos de una función\n",
    "\n",
    "En Python, las funciones también cuentan con atributos, del mismo modo que otros objetos.\n",
    "En el siguiente ejemplo definimos la función `resolvente`, que recibe las constantes `a`, `b` y `c` de un polinomio de segundo grado, calcula sus raíces usando la fórmula resolvente y las devuelve en una tupla."
   ]
  },
  {
   "cell_type": "code",
   "execution_count": 44,
   "id": "e81d03bc",
   "metadata": {},
   "outputs": [
    {
     "data": {
      "text/plain": [
       "(0.5, -3.0)"
      ]
     },
     "execution_count": null,
     "metadata": {},
     "output_type": "execute_result"
    }
   ],
   "source": [
    "def resolvente(a, b, c):\n",
    "    discriminante = b ** 2 - 4 * a * c\n",
    "    x0 = (-b + (discriminante) ** 0.5) / (2 * a)\n",
    "    x1 = (-b - (discriminante) ** 0.5) / (2 * a)\n",
    "\n",
    "    return x0, x1\n",
    "\n",
    "resolvente(2, 5, -3)"
   ]
  },
  {
   "cell_type": "markdown",
   "id": "b29521cc",
   "metadata": {},
   "source": [
    "A través del atributo especial `__code__` es posible consultar ciertos atributos o detalles internos de una función:"
   ]
  },
  {
   "cell_type": "code",
   "execution_count": 45,
   "id": "fc68e946",
   "metadata": {},
   "outputs": [
    {
     "name": "stdout",
     "output_type": "stream",
     "text": [
      "3\n",
      "resolvente\n",
      "('a', 'b', 'c', 'discriminante', 'x0', 'x1')\n"
     ]
    }
   ],
   "source": [
    "print(resolvente.__code__.co_argcount) # Cantidad de argumentos\n",
    "print(resolvente.__code__.co_name)     # Nombre de la función\n",
    "print(resolvente.__code__.co_varnames) # Variables en el ámbito local"
   ]
  },
  {
   "cell_type": "markdown",
   "id": "5dda593b",
   "metadata": {},
   "source": [
    "Acceder a la información de una función a través de `__code__` puede resultar poco práctico, ya que los atributos disponibles son técnicos y no siempre coinciden directamente con lo que solemos necesitar (por ejemplo, obtener solo los nombres de los argumentos).\n",
    "\n",
    "Para facilitar esta tarea, la librería estándar de Python incluye el módulo `inspect`, que ofrece herramientas más claras e intuitivas para explorar los atributos y detalles de una función.\n",
    "\n",
    "A modo ilustrativo tomemos la función `signature`, que devuelve un objeto que representa la **firma** de la función `resolvente`."
   ]
  },
  {
   "cell_type": "code",
   "execution_count": 46,
   "id": "df0541bc",
   "metadata": {},
   "outputs": [
    {
     "data": {
      "text/plain": [
       "<Signature (a, b, c)>"
      ]
     },
     "execution_count": null,
     "metadata": {},
     "output_type": "execute_result"
    }
   ],
   "source": [
    "import inspect\n",
    "\n",
    "firma = inspect.signature(resolvente)\n",
    "firma"
   ]
  },
  {
   "cell_type": "markdown",
   "id": "3ae43068",
   "metadata": {},
   "source": [
    "A partir de esta firma podemos consultar distintos aspectos de los parámetros, como sus valores por defecto:"
   ]
  },
  {
   "cell_type": "code",
   "execution_count": 47,
   "id": "1bb99416",
   "metadata": {},
   "outputs": [
    {
     "data": {
      "text/plain": [
       "inspect._empty"
      ]
     },
     "execution_count": null,
     "metadata": {},
     "output_type": "execute_result"
    }
   ],
   "source": [
    "firma.parameters[\"a\"].default # 'a' no tiene asignado un valor por defecto"
   ]
  },
  {
   "cell_type": "markdown",
   "id": "e21ea901",
   "metadata": {},
   "source": [
    "Finalmente, `inspect` también permite acceder al código fuente de la función en forma de cadena de texto:"
   ]
  },
  {
   "cell_type": "code",
   "execution_count": 48,
   "id": "1866f034",
   "metadata": {},
   "outputs": [
    {
     "name": "stdout",
     "output_type": "stream",
     "text": [
      "def resolvente(a, b, c):\n",
      "    discriminante = b ** 2 - 4 * a * c\n",
      "    x0 = (-b + (discriminante) ** 0.5) / (2 * a)\n",
      "    x1 = (-b - (discriminante) ** 0.5) / (2 * a)\n",
      "\n",
      "    return x0, x1\n",
      "\n"
     ]
    }
   ],
   "source": [
    "print(inspect.getsource(resolvente))"
   ]
  },
  {
   "cell_type": "markdown",
   "id": "5893b648",
   "metadata": {},
   "source": [
    "## Funciones anónimas\n",
    "\n",
    "La programación funcional se basa en llamar funciones y pasarlas, por lo que, naturalmente, puede implicar definir muchas funciones.\n",
    "En Python, además de usar `def`, podemos crear funciones **anónimas** de forma rápida con una **expresión _lambda_**.\n",
    "\n",
    "La sintaxis es la siguiente:\n",
    "\n",
    "```python\n",
    "lambda <argumentos>: <expresión>\n",
    "```\n",
    "\n",
    "y devuelve como resultado una función anónima. Un ejemplo es el siguiente:"
   ]
  },
  {
   "cell_type": "code",
   "execution_count": 49,
   "id": "01ef1f14",
   "metadata": {},
   "outputs": [
    {
     "data": {
      "text/plain": [
       "<function __main__.<lambda>(x, y)>"
      ]
     },
     "execution_count": null,
     "metadata": {},
     "output_type": "execute_result"
    }
   ],
   "source": [
    "lambda x, y: x + y"
   ]
  },
  {
   "cell_type": "markdown",
   "id": "f073d156",
   "metadata": {},
   "source": [
    "Como la función anónima que acabamos de crear no fue asignada a ninguna variable, ya no podemos usarla.\n",
    "\n",
    "Una posibilidad es invocarla inmediatamente al momento de su creación:"
   ]
  },
  {
   "cell_type": "code",
   "execution_count": 50,
   "id": "cd8206ca",
   "metadata": {},
   "outputs": [
    {
     "data": {
      "text/plain": [
       "22"
      ]
     },
     "execution_count": null,
     "metadata": {},
     "output_type": "execute_result"
    }
   ],
   "source": [
    "(lambda x, y: x + y)(7, 15)"
   ]
  },
  {
   "cell_type": "markdown",
   "id": "d4338cc9",
   "metadata": {},
   "source": [
    "Otra opción es asignarla a una variable para poder llamarla más adelante:"
   ]
  },
  {
   "cell_type": "code",
   "execution_count": 51,
   "id": "5f428af7",
   "metadata": {},
   "outputs": [
    {
     "data": {
      "text/plain": [
       "22"
      ]
     },
     "execution_count": null,
     "metadata": {},
     "output_type": "execute_result"
    }
   ],
   "source": [
    "sumar = lambda x, y: x + y\n",
    "sumar(7, 15)"
   ]
  },
  {
   "cell_type": "markdown",
   "id": "18556d88",
   "metadata": {},
   "source": [
    "::: {.callout-note}\n",
    "##### Ausencia de `return`\n",
    "\n",
    "A diferencia de las funciones definidas con `def`, las expresiones _lambda_ no requieren la sentencia `return`.\n",
    "De forma implícita, siempre devuelven el resultado de la única expresión que contienen.\n",
    ":::"
   ]
  },
  {
   "cell_type": "markdown",
   "id": "19119c33",
   "metadata": {},
   "source": [
    "#### Usos de funciones anónimas"
   ]
  },
  {
   "cell_type": "markdown",
   "id": "b8a5507c",
   "metadata": {},
   "source": [
    "En ninguno de los ejemplos anteriores parece que obtengamos alguna ventaja frente a usar `def` para definir una función.\n",
    "De hecho, da la impresión de que estamos complicando el código innecesariamente.\n",
    "\n",
    "Lo cierto es que las funciones anónimas no están pensadas para emplearse de la manera expuesta en nuestros ejemplos.\n",
    "Su uso principal es en **operaciones simples y puntuales**, cuando no resulta práctico definir una función regular con `def`.\n",
    "\n",
    "Un caso de uso típico de la funciones anónimas es cuando se tiene que pasar una función como argumento de otra función.\n",
    "\n",
    "Supongamos que queremos ordenar la siguiente lista de refranes según diferentes criterios."
   ]
  },
  {
   "cell_type": "code",
   "execution_count": 52,
   "id": "688921f5",
   "metadata": {},
   "outputs": [],
   "source": [
    "refranes = [\n",
    "    \"Al mal tiempo, buena cara\",\n",
    "    \"Perro que ladra no muerde\",\n",
    "    \"A caballo regalado no se le miran los dientes\",\n",
    "    \"Cada loco con su tema\",\n",
    "    \"El que mucho abarca, poco aprieta\",\n",
    "    \"Más vale pájaro en mano que cien volando\",\n",
    "]"
   ]
  },
  {
   "cell_type": "markdown",
   "id": "727d679b",
   "metadata": {},
   "source": [
    "Por defecto, la función `sorted` ordena una lista de cadenas de manera alfabética."
   ]
  },
  {
   "cell_type": "code",
   "execution_count": 53,
   "id": "e394dc16",
   "metadata": {},
   "outputs": [
    {
     "data": {
      "text/plain": [
       "['A caballo regalado no se le miran los dientes',\n",
       " 'Al mal tiempo, buena cara',\n",
       " 'Cada loco con su tema',\n",
       " 'El que mucho abarca, poco aprieta',\n",
       " 'Más vale pájaro en mano que cien volando',\n",
       " 'Perro que ladra no muerde']"
      ]
     },
     "execution_count": null,
     "metadata": {},
     "output_type": "execute_result"
    }
   ],
   "source": [
    "sorted(refranes)"
   ]
  },
  {
   "cell_type": "markdown",
   "id": "c4c8a9fe",
   "metadata": {},
   "source": [
    "Si quisiéramos ordenar los refranes por su longitud, podemos usar el argumento opcional `key` de `sorted`.\n",
    "Este argumento recibe una función que, **aplicada a cada elemento**, devuelve el valor a utilizar en el ordenamiento.\n",
    "En nuestro caso, basta con usar `len`, ya que solo nos interesa la cantidad de caracteres de cada cadena."
   ]
  },
  {
   "cell_type": "code",
   "execution_count": 54,
   "id": "cb063403",
   "metadata": {},
   "outputs": [
    {
     "data": {
      "text/plain": [
       "['Cada loco con su tema',\n",
       " 'Al mal tiempo, buena cara',\n",
       " 'Perro que ladra no muerde',\n",
       " 'El que mucho abarca, poco aprieta',\n",
       " 'Más vale pájaro en mano que cien volando',\n",
       " 'A caballo regalado no se le miran los dientes']"
      ]
     },
     "execution_count": null,
     "metadata": {},
     "output_type": "execute_result"
    }
   ],
   "source": [
    "sorted(refranes, key=len)"
   ]
  },
  {
   "cell_type": "markdown",
   "id": "29139cef",
   "metadata": {},
   "source": [
    "Así, obtenemos una lista donde las frases se ordenan según la cantidad de caracteres.\n",
    "\n",
    "¿Y si quisiéramos ordenarlos según la **cantidad de palabras**?\n",
    "Para eso necesitamos una función que reciba una cadena, la divida en palabras y cuente cuántas tiene.\n",
    "\n",
    "Sin funciones anónimas podríamos hacer lo siguiente:"
   ]
  },
  {
   "cell_type": "code",
   "execution_count": 55,
   "id": "4ca90261",
   "metadata": {},
   "outputs": [
    {
     "data": {
      "text/plain": [
       "['Al mal tiempo, buena cara',\n",
       " 'Perro que ladra no muerde',\n",
       " 'Cada loco con su tema',\n",
       " 'El que mucho abarca, poco aprieta',\n",
       " 'Más vale pájaro en mano que cien volando',\n",
       " 'A caballo regalado no se le miran los dientes']"
      ]
     },
     "execution_count": null,
     "metadata": {},
     "output_type": "execute_result"
    }
   ],
   "source": [
    "def contar_palabras(x):\n",
    "    return len(x.split())\n",
    "\n",
    "sorted(refranes, key=contar_palabras)"
   ]
  },
  {
   "cell_type": "markdown",
   "id": "a3d0d067",
   "metadata": {},
   "source": [
    "En cambio, con una función anónima podemos escribir todo el programa en una sola línea:"
   ]
  },
  {
   "cell_type": "code",
   "execution_count": 56,
   "id": "d10f1150",
   "metadata": {},
   "outputs": [
    {
     "data": {
      "text/plain": [
       "['Al mal tiempo, buena cara',\n",
       " 'Perro que ladra no muerde',\n",
       " 'Cada loco con su tema',\n",
       " 'El que mucho abarca, poco aprieta',\n",
       " 'Más vale pájaro en mano que cien volando',\n",
       " 'A caballo regalado no se le miran los dientes']"
      ]
     },
     "execution_count": null,
     "metadata": {},
     "output_type": "execute_result"
    }
   ],
   "source": [
    "sorted(refranes, key=lambda x: len(x.split()))"
   ]
  },
  {
   "cell_type": "markdown",
   "id": "678c6d33",
   "metadata": {},
   "source": [
    "De esta forma el código es más **conciso** y evitamos definir funciones “descartables” que no volverán a usarse."
   ]
  },
  {
   "cell_type": "markdown",
   "id": "e12afb7d",
   "metadata": {},
   "source": [
    "::: {.callout-note}\n",
    "### Origen del nombre _lambda_ λ✨\n",
    "\n",
    "El término _lambda_ proviene del [cálculo lambda](https://es.wikipedia.org/wiki/C%C3%A1lculo_lambda),\n",
    "un sistema formal de lógica matemática para expresar cálculos basados en la abstracción y aplicación de funciones.\n",
    "\n",
    "Se le dio ese nombre porque Alonzo Church, creador del cálculo _lambda_ en la década de 1930,\n",
    "usó la letra griega λ para denotar la operación de abstracción de funciones.\n",
    "\n",
    ":::"
   ]
  },
  {
   "cell_type": "markdown",
   "id": "ee974658",
   "metadata": {},
   "source": [
    "::: {.callout-note}\n",
    "##### Funciones anónimas sin parámetros\n",
    "\n",
    "Una función _lambda_ normalmente recibe uno o múltiples parámetros, pero no es obligatorio, por lo que es posibile escribir una función anónima sin parámetros:\n",
    "\n",
    "```python\n",
    "crear_numero_magico = lambda: 128\n",
    "crear_numero magico()\n",
    "```\n",
    "```cmd\n",
    "128\n",
    "```\n",
    "\n",
    "\n",
    "La función anónima `crear_numero_magico` es equivalente a la siguiente función\n",
    "\n",
    "```python\n",
    "def f():\n",
    "    return 128\n",
    "```\n",
    ":::"
   ]
  },
  {
   "cell_type": "markdown",
   "id": "87355c48",
   "metadata": {},
   "source": [
    "## Funciones variádicas\n",
    "\n",
    "Las funciones variádicas son funciones que pueden recibir una cantidad variable de argumentos.\n",
    "\n",
    "A lo largo de estos apuntes hemos utilizado funciones variádicas en tantísimas oportunidades.\n",
    "Un ejemplo de función variádica es `print`, que acepta tantos argumentos posicionales como necesitemos."
   ]
  },
  {
   "cell_type": "code",
   "execution_count": 36,
   "id": "1dc943bc",
   "metadata": {},
   "outputs": [
    {
     "name": "stdout",
     "output_type": "stream",
     "text": [
      "Primero\n"
     ]
    }
   ],
   "source": [
    "print(\"Primero\")"
   ]
  },
  {
   "cell_type": "code",
   "execution_count": 37,
   "id": "7201fb8f",
   "metadata": {},
   "outputs": [
    {
     "name": "stdout",
     "output_type": "stream",
     "text": [
      "Primero segundo\n"
     ]
    }
   ],
   "source": [
    "print(\"Primero\", \"segundo\")"
   ]
  },
  {
   "cell_type": "code",
   "execution_count": 38,
   "id": "f025d2fa",
   "metadata": {},
   "outputs": [
    {
     "name": "stdout",
     "output_type": "stream",
     "text": [
      "Primero segundo tercero\n"
     ]
    }
   ],
   "source": [
    "print(\"Primero\", \"segundo\", \"tercero\")"
   ]
  },
  {
   "cell_type": "markdown",
   "id": "c51298b9",
   "metadata": {},
   "source": [
    "Afortunadamente, no solo las funciones _built-in_ pueden ser variádicas, sino que también podemos implementarlas nosotros mismos."
   ]
  },
  {
   "cell_type": "markdown",
   "id": "a734500c",
   "metadata": {},
   "source": [
    "### Cantidad variable de argumentos posicionales `*args`\n",
    "\n",
    "Supongamos que queremos una función que recibe una cantidad arbitraria de gustos de helado e imprime un mensaje como si lo agregase a un pedido.\n",
    "Por ejemplo:\n",
    "\n",
    "```python\n",
    "armar_pedido(\"Dulce de leche\")\n",
    "```\n",
    "```cmd\n",
    "Agregando 'Dulce de leche'\n",
    "```\n",
    "\n",
    "```python\n",
    "armar_pedido(\"Dulce de leche\", \"Sambayón\", \"Frutos del bosque\")\n",
    "```\n",
    "```cmd\n",
    "Agregando 'Dulce de leche'\n",
    "Agregando 'Sambayón'\n",
    "Agregando 'Frutos del bosque'\n",
    "```"
   ]
  },
  {
   "cell_type": "markdown",
   "id": "b2aa20cb",
   "metadata": {},
   "source": [
    "Una posible implementación para tal función es:\n",
    "\n",
    "```python\n",
    "def armar_pedido(gusto_1=None, gusto_2=None, gusto_3=None):\n",
    "    if gusto_1 is not None:\n",
    "        print(f\"Agregando '{gusto_1}'\")\n",
    "    if gusto_2 is not None:\n",
    "        print(f\"Agregando '{gusto_2}'\")\n",
    "    if gusto_3 is not None:\n",
    "        print(f\"Agregando '{gusto_3}'\")\n",
    "```\n",
    "\n",
    "Aunque funciona en los ejemplos anteriores, esta solución está lejos de ser ideal. Requiere definir un argumento separado para cada gusto, asignarle un valor por defecto y luego verificar si es distinto de `None` antes de agregarlo al pedido.\n",
    "\n",
    "Además, el código resulta repetitivo y restrictivo: solo permite un máximo de tres gustos.\n",
    "\n",
    "En cambio, podemos crear una función que reciba una cantidad arbitraria de argumentos posicionales.\n",
    "Para ello se utiliza un **argumento especial** precedido por un asterisco (`*`), lo que le permite recibir una cantidad arbitraria de valores no nombrados."
   ]
  },
  {
   "cell_type": "code",
   "execution_count": 39,
   "id": "1408674f",
   "metadata": {},
   "outputs": [],
   "source": [
    "def armar_pedido(*args):\n",
    "    for gusto in args:\n",
    "        print(f\"Agregando '{gusto}'\")"
   ]
  },
  {
   "cell_type": "code",
   "execution_count": 40,
   "id": "f78ce6b0",
   "metadata": {},
   "outputs": [
    {
     "name": "stdout",
     "output_type": "stream",
     "text": [
      "Agregando 'Dulce de leche'\n",
      "Agregando 'Sambayón'\n",
      "Agregando 'Frutos del bosque'\n",
      "Agregando 'Menta granizada'\n"
     ]
    }
   ],
   "source": [
    "armar_pedido(\"Dulce de leche\", \"Sambayón\", \"Frutos del bosque\", \"Menta granizada\")"
   ]
  },
  {
   "cell_type": "code",
   "execution_count": 41,
   "id": "338d7470",
   "metadata": {},
   "outputs": [
    {
     "name": "stdout",
     "output_type": "stream",
     "text": [
      "Agregando 'gusto 1'\n",
      "Agregando 'gusto 2'\n",
      "Agregando 'gusto 3'\n",
      "Agregando 'gusto 4'\n",
      "Agregando 'gusto 5'\n",
      "Agregando 'gusto 6'\n",
      "Agregando 'gusto 7'\n"
     ]
    }
   ],
   "source": [
    "armar_pedido(\"gusto 1\", \"gusto 2\", \"gusto 3\", \"gusto 4\", \"gusto 5\", \"gusto 6\", \"gusto 7\")"
   ]
  },
  {
   "cell_type": "markdown",
   "id": "0542ee16",
   "metadata": {},
   "source": [
    "Por convención, este argumento suele escribirse como `*args`, aunque en realidad el nombre del argumento puede ser cualquiera que resulte apropiado.\n",
    "En nuestro caso, resulta más intuitivo usar `*gustos`, y la función quedaría así:"
   ]
  },
  {
   "cell_type": "code",
   "execution_count": 42,
   "id": "4f6c0e72",
   "metadata": {},
   "outputs": [],
   "source": [
    "def armar_pedido(*gustos):\n",
    "    for gusto in gustos:\n",
    "        print(f\"Agregando '{gusto}'\")"
   ]
  },
  {
   "cell_type": "code",
   "execution_count": 43,
   "id": "78363854",
   "metadata": {},
   "outputs": [
    {
     "name": "stdout",
     "output_type": "stream",
     "text": [
      "Agregando 'gusto 1'\n",
      "Agregando 'gusto 2'\n",
      "Agregando 'gusto 3'\n",
      "Agregando 'gusto 4'\n",
      "Agregando 'gusto 5'\n",
      "Agregando 'gusto 6'\n",
      "Agregando 'gusto 7'\n"
     ]
    }
   ],
   "source": [
    "armar_pedido(\"gusto 1\", \"gusto 2\", \"gusto 3\", \"gusto 4\", \"gusto 5\", \"gusto 6\", \"gusto 7\")"
   ]
  },
  {
   "cell_type": "markdown",
   "id": "ec362edb",
   "metadata": {},
   "source": [
    "::: {.callout-note}\n",
    "##### Qué hay debajo de `*args` 🔍\n",
    "\n",
    "Python agrupa automáticamente en una tupla los valores pasados mediante el argumento especial `*args`.\n",
    "Esto permite acceder a todos los argumentos como miembros de una colección inmutable.\n",
    "\n",
    "```python\n",
    "def fun(*args):\n",
    "    print(len(args))\n",
    "    print(args)\n",
    "    print(type(args))\n",
    "\n",
    "fun(\"que\", \"es\", \"esto\", True, None)\n",
    "```\n",
    "```cmd\n",
    "5\n",
    "('que', 'es', 'esto', True, None)\n",
    "<class 'tuple'>\n",
    "```\n",
    "\n",
    ":::"
   ]
  },
  {
   "cell_type": "markdown",
   "id": "148a1b7a",
   "metadata": {},
   "source": [
    "### Cantidad variable de argumentos nombrados `**kwargs`\n",
    "\n",
    "Así como recibimos una cantidad arbitraria de argumentos posicionales, también podemos recibir una cantidad arbitraria de argumentos nombrados.\n",
    "\n",
    "En este caso, se utilizan dos asteríscos (`**`) en vez de uno (`*`) en la definición de los parámetros de la función.\n",
    "\n",
    "La convención es usar el nombre `**kwargs`, pero también es válido usar cualquier otro nombre que sea adecuado en nuestro contexto.\n",
    "\n",
    "Comencemos por un ejemplo elemental, que solo imprime el objeto `kwargs` y su tipo:"
   ]
  },
  {
   "cell_type": "code",
   "execution_count": 44,
   "id": "d4e68bcd",
   "metadata": {},
   "outputs": [
    {
     "name": "stdout",
     "output_type": "stream",
     "text": [
      "{'nombre': 'Mariano', 'apellido': 'Pérez'}\n",
      "<class 'dict'>\n"
     ]
    }
   ],
   "source": [
    "def ejemplo(**kwargs):\n",
    "    print(kwargs)\n",
    "    print(type(kwargs))\n",
    "\n",
    "ejemplo(nombre=\"Mariano\", apellido=\"Pérez\")"
   ]
  },
  {
   "cell_type": "markdown",
   "id": "ee0baceb",
   "metadata": {},
   "source": [
    "Cuando usamos una cantidad variable de argumentos nombrados, Python los agrupa en un diccionario, ya que esta estructura permite asociar cada nombre con su valor de forma natural.\n",
    "\n",
    "Dentro de la función, se puede manipular al diccionario `kwargs` como a cualquier otro diccionario de Python.\n",
    "\n",
    "Imaginemos, por ejemplo, una función que registra información de distintos departamentos.\n",
    "En este caso, no sabemos de antemano qué atributos se van a proporcionar, pero sí sabemos que ciertos atributos deben contar con un valor por defecto si no se especifican."
   ]
  },
  {
   "cell_type": "code",
   "execution_count": 45,
   "id": "83fe9da6",
   "metadata": {},
   "outputs": [],
   "source": [
    "def registrar_propiedad(**kwargs):\n",
    "    print(\"Diccionario original:\")\n",
    "    print(kwargs)\n",
    "\n",
    "    # Si no se especifica la cantidad de cocheras, se pone 0 por defecto\n",
    "    if \"cochera\" not in kwargs:\n",
    "        kwargs[\"cochera\"] = 0\n",
    "\n",
    "    # Si no se especifica la ciudad, se pone 'Desconocido' por defecto\n",
    "    if \"ciudad\" not in kwargs:\n",
    "        kwargs[\"ciudad\"] = \"Desconocido\"\n",
    "\n",
    "    return kwargs"
   ]
  },
  {
   "cell_type": "markdown",
   "id": "32a6f1ae",
   "metadata": {},
   "source": [
    "Cuando no se especifician la cantidad de cocheras, la función nos devuelve un diccionario donde la cantidad de cocheras es 0."
   ]
  },
  {
   "cell_type": "code",
   "execution_count": 46,
   "id": "10c25898",
   "metadata": {},
   "outputs": [
    {
     "name": "stdout",
     "output_type": "stream",
     "text": [
      "Diccionario original:\n",
      "{'ambientes': 2, 'ciudad': 'Rosario'}\n",
      "\n",
      "Diccionario sanitizado\n",
      "{'ambientes': 2, 'ciudad': 'Rosario', 'cochera': 0}\n"
     ]
    }
   ],
   "source": [
    "datos = registrar_propiedad(ambientes=2, ciudad=\"Rosario\")\n",
    "\n",
    "print(\"\\nDiccionario sanitizado\")\n",
    "print(datos)"
   ]
  },
  {
   "cell_type": "markdown",
   "id": "94b688e0",
   "metadata": {},
   "source": [
    "Si los atributos requeridos son especificados, se devuelve el diccionario sin cambios."
   ]
  },
  {
   "cell_type": "code",
   "execution_count": 47,
   "id": "2f20305d",
   "metadata": {},
   "outputs": [
    {
     "name": "stdout",
     "output_type": "stream",
     "text": [
      "Diccionario original:\n",
      "{'ambientes': 2, 'ciudad': 'Santa Fe', 'cochera': 2}\n",
      "\n",
      "Diccionario sanitizado\n",
      "{'ambientes': 2, 'ciudad': 'Santa Fe', 'cochera': 2}\n"
     ]
    }
   ],
   "source": [
    "datos = registrar_propiedad(ambientes=2, ciudad=\"Santa Fe\", cochera=2)\n",
    "\n",
    "print(\"\\nDiccionario sanitizado\")\n",
    "print(datos)"
   ]
  },
  {
   "cell_type": "markdown",
   "id": "f8110647",
   "metadata": {},
   "source": [
    "Y si se pasan otros atributos, también se incluyen en la salida."
   ]
  },
  {
   "cell_type": "code",
   "execution_count": 48,
   "id": "127bb27b",
   "metadata": {},
   "outputs": [
    {
     "name": "stdout",
     "output_type": "stream",
     "text": [
      "Diccionario original:\n",
      "{'ambientes': 4, 'dormitorios': 2}\n",
      "\n",
      "Diccionario sanitizado\n",
      "{'ambientes': 4, 'dormitorios': 2, 'cochera': 0, 'ciudad': 'Desconocido'}\n"
     ]
    }
   ],
   "source": [
    "datos = registrar_propiedad(ambientes=4, dormitorios=2)\n",
    "\n",
    "print(\"\\nDiccionario sanitizado\")\n",
    "print(datos)"
   ]
  },
  {
   "cell_type": "markdown",
   "id": "6c6e9bfc",
   "metadata": {},
   "source": [
    "### Combinando `*args` y `**kwargs`\n",
    "\n",
    "Las funciones en Python pueden recibir simultáneamente una cantidad variable de argumentos posicionales y nombrados.\n",
    "Para lograrlo, se combinan `*args` y `**kwargs`.\n",
    "Es importante recordar que, al definir la función, `*args` debe colocarse antes que `**kwargs`, ya que los argumentos posicionales siempre se pasan antes que los nombrados."
   ]
  },
  {
   "cell_type": "code",
   "execution_count": 49,
   "id": "7e53d751",
   "metadata": {},
   "outputs": [
    {
     "name": "stdout",
     "output_type": "stream",
     "text": [
      "Me pasaron el argumento posicional 'True'\n",
      "Me pasaron el argumento posicional '64'\n",
      "Me pasaron el argumento con nombre 'nombre' y valor 'Elsa'\n",
      "Me pasaron el argumento con nombre 'apellido' y valor 'Pato'\n"
     ]
    }
   ],
   "source": [
    "def superfuncion(*args, **kwargs):\n",
    "    for arg in args:\n",
    "        print(f\"Me pasaron el argumento posicional '{arg}'\")\n",
    "\n",
    "    for key, value in kwargs.items():\n",
    "        print(f\"Me pasaron el argumento con nombre '{key}' y valor '{value}'\")\n",
    "\n",
    "superfuncion(True, 64, nombre=\"Elsa\", apellido=\"Pato\")"
   ]
  },
  {
   "cell_type": "markdown",
   "id": "b66026a7",
   "metadata": {},
   "source": [
    "Si se intenta pasar un argumento posicional (sin nombre) después de un argumento nombrado, obtendríamos un error:\n",
    "\n",
    "```python\n",
    "superfuncion(True, nombre=\"Elsa\", apellido=\"Pato\", 64)\n",
    "```\n",
    "```cmd\n",
    "    superfuncion(True, nombre=\"Elsa\", apellido=\"Pato\", 64)\n",
    "                                                         ^\n",
    "SyntaxError: positional argument follows keyword argument\n",
    "```"
   ]
  },
  {
   "cell_type": "markdown",
   "id": "6b1414d1",
   "metadata": {},
   "source": [
    "::: {.callout-note}\n",
    "### ¿Y para qué me sirven? 🤔\n",
    "\n",
    "A primera vista, los ejemplos de `*args` y `**kwargs` pueden dar la impresión de que estas herramientas solo complican la escritura del código.\n",
    "Sin embargo, su verdadero valor aparece al trabajar en programas más complejos, donde se vuelven fundamentales para simplificar la lógica y aportar flexibilidad en la resolución de una gran variedad de problemas.\n",
    "\n",
    "Ya llegaremos...\n",
    ":::"
   ]
  },
  {
   "cell_type": "markdown",
   "id": "d9d88d91",
   "metadata": {},
   "source": [
    "::: {.callout-note}\n",
    "##### Es solo una convención 🤝\n",
    "\n",
    "Para reforzar que los nombres `*args` y `**kwargs` son solamente una convención, podríamos escribir la función `superfuncion` como:\n",
    "\n",
    "```python\n",
    "def superfuncion(*posicionales, **nombrados):\n",
    "    for arg in posicionales:\n",
    "        print(f\"Me pasaron el argumento posicional '{arg}'\")\n",
    "\n",
    "    for key, value in nombrados.items():\n",
    "        print(f\"Me pasaron el argumento con nombre '{key}' y valor '{value}'\")\n",
    "```\n",
    "\n",
    "y funcionaría de igual modo.\n",
    ":::"
   ]
  },
  {
   "cell_type": "markdown",
   "id": "4f3aacc6",
   "metadata": {},
   "source": [
    "## _Closures_\n",
    "\n",
    "En la @sec-orden vimos el siguiente ejemplo:\n",
    "\n",
    "```python\n",
    "def crear_multiplicador(x):\n",
    "    def interna(y):\n",
    "        return y * x\n",
    "    return interna\n",
    "\n",
    "duplicar = crear_multiplicador(2)\n",
    "triplicar = crear_multiplicador(3)\n",
    "\n",
    "print(duplicar(5))\n",
    "print(triplicar(5))\n",
    "```\n",
    "```cmd\n",
    "10\n",
    "15\n",
    "```\n",
    "\n",
    "La función `crear_multiplicador` es una fábrica de funciones que devuelve otra función que se encarga de realizar la multiplicación.\n",
    "Lo interesante de esta implementación es que la función interna solo recibe uno de los dos valores necesarios para la multiplicación; el otro queda que fijado cuando se ejecuta la función externa `crear_multiplicador`.\n",
    "\n",
    "Para que `duplicar` y `triplicar` funcionen correctamente, ambas funciones internas deben conservar acceso al entorno en el que está definido el valor de `x`.\n",
    "Ese mecanismo, que permite a una tener acceso a las variables de su contexto incluso después de que la ejecución de la función externa haya concluído, es precisamente lo que se conoce como un **_closure_**."
   ]
  },
  {
   "cell_type": "code",
   "execution_count": 50,
   "id": "64f30c7d",
   "metadata": {},
   "outputs": [
    {
     "name": "stdout",
     "output_type": "stream",
     "text": [
      "10\n",
      "15\n"
     ]
    }
   ],
   "source": [
    "def crear_multiplicador(x):\n",
    "    def interna(y):\n",
    "        return y * x\n",
    "    return interna\n",
    "\n",
    "duplicar = crear_multiplicador(2)\n",
    "triplicar = crear_multiplicador(3)\n",
    "\n",
    "print(duplicar(5))\n",
    "print(triplicar(5))"
   ]
  },
  {
   "cell_type": "markdown",
   "id": "31c54607",
   "metadata": {},
   "source": [
    "El siguiente ejemplo hace aún más evidente el funcionamiento de este mecanismo.\n",
    "\n",
    "Dentro del cuerpo de la _function factory_ `externa`, se define `valor` con el número `256`.\n",
    "Luego, la función interna hace uso de esta variable `valor` dentro de `print`."
   ]
  },
  {
   "cell_type": "code",
   "execution_count": 51,
   "id": "e6c743db",
   "metadata": {},
   "outputs": [
    {
     "name": "stdout",
     "output_type": "stream",
     "text": [
      "¡El valor es: 256!\n"
     ]
    }
   ],
   "source": [
    "def externa():\n",
    "    valor = 256\n",
    "    def closure():\n",
    "        print(f\"¡El valor es: {valor}!\")\n",
    "    return closure\n",
    "\n",
    "revelar_numero = externa()\n",
    "revelar_numero()"
   ]
  },
  {
   "cell_type": "markdown",
   "id": "3473bfdc",
   "metadata": {},
   "source": [
    "Aunque desde fuera no podemos acceder directamente a `valor`:\n",
    "\n",
    "```python\n",
    "valor\n",
    "```\n",
    "```cmd\n",
    "NameError: name 'valor' is not defined\n",
    "```\n",
    "\n",
    "la función interna sí puede hacerlo tantas veces como sea necesario:"
   ]
  },
  {
   "cell_type": "code",
   "execution_count": 52,
   "id": "dc0bc418",
   "metadata": {},
   "outputs": [
    {
     "name": "stdout",
     "output_type": "stream",
     "text": [
      "¡El valor es: 256!\n",
      "¡El valor es: 256!\n",
      "¡El valor es: 256!\n"
     ]
    }
   ],
   "source": [
    "revelar_numero()\n",
    "revelar_numero()\n",
    "revelar_numero()"
   ]
  },
  {
   "cell_type": "markdown",
   "id": "f2fcdc4b",
   "metadata": {},
   "source": [
    "Para finalizar, veamos un ejemplo similar al anterior, pero donde el valor de la variable `numero` es desconocido para nosotros.\n",
    "Dicho valor se genera de manera aleatoria cuando se ejecuta la fábrica de funciones `crear_funcion`."
   ]
  },
  {
   "cell_type": "code",
   "execution_count": 53,
   "id": "eb96c763",
   "metadata": {},
   "outputs": [],
   "source": [
    "import random\n",
    "\n",
    "def crear_funcion():\n",
    "    numero = random.randint(1, 1000)\n",
    "    def closure():\n",
    "        print(\"El valor es...\", numero)\n",
    "    return closure\n",
    "\n",
    "reveladora = crear_funcion()"
   ]
  },
  {
   "cell_type": "markdown",
   "id": "a69a6def",
   "metadata": {},
   "source": [
    "Luego, sin importar cuántas veces llamemos a `reveladora`, el mensaje será siempre el mismo, ya que el valor de `numero` se definió una sola vez en el momento en que se creó la función."
   ]
  },
  {
   "cell_type": "code",
   "execution_count": 54,
   "id": "e1b6d60b",
   "metadata": {},
   "outputs": [
    {
     "name": "stdout",
     "output_type": "stream",
     "text": [
      "El valor es... 393\n"
     ]
    }
   ],
   "source": [
    "reveladora()"
   ]
  },
  {
   "cell_type": "code",
   "execution_count": 55,
   "id": "34026389",
   "metadata": {},
   "outputs": [
    {
     "name": "stdout",
     "output_type": "stream",
     "text": [
      "El valor es... 393\n"
     ]
    }
   ],
   "source": [
    "reveladora()"
   ]
  },
  {
   "cell_type": "markdown",
   "id": "155d1f32",
   "metadata": {},
   "source": [
    "::: {.callout-note}\n",
    "##### Una dosis de precisión 🎯😱\n",
    "\n",
    "A menudo se dice que un **_closure_**  es una función. Así, en el siguiente ejemplo, `duplicar` sería considerado un _closure_:\n",
    "\n",
    "```python\n",
    "def crear_multiplicador(x):\n",
    "    def interna(y):\n",
    "        return y * x\n",
    "    return interna\n",
    "\n",
    "duplicar = crear_multiplicador(2)\n",
    "```\n",
    "\n",
    "Sin embargo, esa definición es un tanto imprecisa. \n",
    "Un _closure_ no es simplemente una función, sino el mecanismo que permite a las funciones acceder a las variables del entorno en el que fueron definidas, incluso cuando ese entorno ya dejó de existir (por ejemplo, después de que termina la ejecución de la función externa que las creó).\n",
    "\n",
    "Uf... ¡qué complicado!\n",
    "\n",
    ":::"
   ]
  },
  {
   "cell_type": "markdown",
   "id": "fba2e446",
   "metadata": {},
   "source": [
    "::: {.callout-note}\n",
    "##### `object of type 'closure' is not subsettable` 😵\n",
    "\n",
    "Si en R intentamos seleccionar filas o columnas de `data` sin haberle asignado un objeto previamente, obtendremos el siguiente error:\n",
    "\n",
    "```cmd\n",
    "Error in data[1] : object of type 'closure' is not subsettable\n",
    "```\n",
    "\n",
    "Esto ocurre porque `data` es en realidad una función en R. En este lenguaje, el tipo de los objetos función se denomina `closure`, haciendo referencia la capacidad que tienen las funciones de acceder a valores del ambiente donde fueron definidas.\n",
    "\n",
    ":::"
   ]
  }
 ],
 "metadata": {
  "language_info": {
   "name": "python"
  }
 },
 "nbformat": 4,
 "nbformat_minor": 5
}
