{
 "cells": [
  {
   "cell_type": "markdown",
   "id": "ff18f47b",
   "metadata": {},
   "source": [
    "---\n",
    "title: \"5 - Transformaciones funcionales\"\n",
    "toc: true\n",
    "---"
   ]
  },
  {
   "cell_type": "markdown",
   "id": "32344cb6",
   "metadata": {},
   "source": [
    "* Evaluación parcial de funciones\n",
    "* Decoradores"
   ]
  }
 ],
 "metadata": {
  "language_info": {
   "name": "plaintext"
  }
 },
 "nbformat": 4,
 "nbformat_minor": 5
}
