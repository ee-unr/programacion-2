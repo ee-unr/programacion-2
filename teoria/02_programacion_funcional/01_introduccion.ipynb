{
 "cells": [
  {
   "cell_type": "markdown",
   "id": "43ba7cfd",
   "metadata": {},
   "source": [
    "---\n",
    "title: \"1 - WIP\"\n",
    "toc: true\n",
    "---"
   ]
  }
 ],
 "metadata": {
  "language_info": {
   "name": "plaintext"
  }
 },
 "nbformat": 4,
 "nbformat_minor": 5
}
