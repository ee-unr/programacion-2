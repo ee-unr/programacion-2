{
 "cells": [
  {
   "cell_type": "markdown",
   "id": "8d70f172",
   "metadata": {},
   "source": [
    "---\n",
    "title: \"4 - Estrategias de evaluación\"\n",
    "toc: true\n",
    "---"
   ]
  },
  {
   "cell_type": "markdown",
   "id": "5fc8a433",
   "metadata": {},
   "source": [
    "* Evaluación perezosa (lazy) e inmediata (eager).\n",
    "* Evaluación estricta y no estricta.\n",
    "* Generadores."
   ]
  }
 ],
 "metadata": {
  "language_info": {
   "name": "plaintext"
  }
 },
 "nbformat": 4,
 "nbformat_minor": 5
}
