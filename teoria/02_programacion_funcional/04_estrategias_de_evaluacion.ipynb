{
 "cells": [
  {
   "cell_type": "markdown",
   "id": "8d70f172",
   "metadata": {},
   "source": [
    "---\n",
    "title: \"4 - Estrategias de evaluación\"\n",
    "toc: true\n",
    "---"
   ]
  },
  {
   "cell_type": "markdown",
   "id": "1d70c5a8",
   "metadata": {},
   "source": [
    "## Inmediata o perezosa, estricta o no estricta"
   ]
  },
  {
   "cell_type": "markdown",
   "id": "9b1cd596",
   "metadata": {},
   "source": [
    "Las funciones de Python usan una estrategia de evaluación llamada **inmediata** y **estricta**. Veamos el siguiente ejemplo:"
   ]
  },
  {
   "cell_type": "code",
   "execution_count": 16,
   "id": "e2af27e4",
   "metadata": {},
   "outputs": [],
   "source": [
    "def lineal(x, a, b, c):\n",
    "    return a + b * x"
   ]
  },
  {
   "cell_type": "code",
   "execution_count": 17,
   "id": "c60609f4",
   "metadata": {},
   "outputs": [
    {
     "data": {
      "text/plain": [
       "7"
      ]
     },
     "execution_count": null,
     "metadata": {},
     "output_type": "execute_result"
    }
   ],
   "source": [
    "lineal(3, 1, 2, None)"
   ]
  },
  {
   "cell_type": "code",
   "execution_count": 19,
   "id": "51286603",
   "metadata": {},
   "outputs": [
    {
     "data": {
      "text/plain": [
       "7"
      ]
     },
     "execution_count": null,
     "metadata": {},
     "output_type": "execute_result"
    }
   ],
   "source": [
    "lineal(3, 1, 2, 100)"
   ]
  },
  {
   "cell_type": "code",
   "execution_count": 22,
   "id": "99b76f7d",
   "metadata": {},
   "outputs": [
    {
     "data": {
      "text/plain": [
       "7"
      ]
     },
     "execution_count": null,
     "metadata": {},
     "output_type": "execute_result"
    }
   ],
   "source": [
    "lineal(1 + 5 - 3, 11 - 10, 1 + 1, False)"
   ]
  },
  {
   "cell_type": "code",
   "execution_count": 48,
   "id": "e839ba82",
   "metadata": {},
   "outputs": [],
   "source": [
    "def lineal(x, a, b, c):\n",
    "    print(f\"a={a}, b={b}\")\n",
    "    return a + b * x"
   ]
  },
  {
   "cell_type": "code",
   "execution_count": 49,
   "id": "0ca8de1e",
   "metadata": {},
   "outputs": [
    {
     "name": "stdout",
     "output_type": "stream",
     "text": [
      "a=1, b=2\n"
     ]
    },
    {
     "data": {
      "text/plain": [
       "7"
      ]
     },
     "execution_count": null,
     "metadata": {},
     "output_type": "execute_result"
    }
   ],
   "source": [
    "lineal(3, 1, 2, None)"
   ]
  },
  {
   "cell_type": "code",
   "execution_count": 50,
   "id": "074072d6",
   "metadata": {},
   "outputs": [
    {
     "name": "stdout",
     "output_type": "stream",
     "text": [
      "a=1, b=2\n"
     ]
    },
    {
     "data": {
      "text/plain": [
       "7"
      ]
     },
     "execution_count": null,
     "metadata": {},
     "output_type": "execute_result"
    }
   ],
   "source": [
    "lineal(1 + 5 - 3, 11 - 10, 1 + 1, None)"
   ]
  },
  {
   "cell_type": "code",
   "execution_count": 51,
   "id": "eb443d1f",
   "metadata": {},
   "outputs": [],
   "source": [
    "def f(x):\n",
    "    print(f\"el valor es {x}\")\n",
    "    return x"
   ]
  },
  {
   "cell_type": "code",
   "execution_count": 52,
   "id": "6348c28f",
   "metadata": {},
   "outputs": [
    {
     "name": "stdout",
     "output_type": "stream",
     "text": [
      "True\n"
     ]
    }
   ],
   "source": [
    "r = True or f(True)\n",
    "print(r)"
   ]
  },
  {
   "cell_type": "code",
   "execution_count": 53,
   "id": "b20fcd47",
   "metadata": {},
   "outputs": [
    {
     "name": "stdout",
     "output_type": "stream",
     "text": [
      "el valor es True\n",
      "True\n"
     ]
    }
   ],
   "source": [
    "r = False or f(True)\n",
    "print(r)"
   ]
  },
  {
   "cell_type": "code",
   "execution_count": 54,
   "id": "6327adbb",
   "metadata": {},
   "outputs": [
    {
     "name": "stdout",
     "output_type": "stream",
     "text": [
      "el valor es False\n",
      "False\n"
     ]
    }
   ],
   "source": [
    "r = False or f(False)\n",
    "print(r)"
   ]
  },
  {
   "cell_type": "code",
   "execution_count": 55,
   "id": "c57ac31c",
   "metadata": {},
   "outputs": [
    {
     "name": "stdout",
     "output_type": "stream",
     "text": [
      "el valor es True\n",
      "el valor es False\n",
      "False\n"
     ]
    }
   ],
   "source": [
    "r = True and f(True) and f(False)\n",
    "print(r)"
   ]
  },
  {
   "cell_type": "code",
   "execution_count": 56,
   "id": "d41e1c2c",
   "metadata": {},
   "outputs": [
    {
     "name": "stdout",
     "output_type": "stream",
     "text": [
      "el valor es True\n",
      "True\n"
     ]
    }
   ],
   "source": [
    "r = False or f(True) or f(False)\n",
    "print(r)"
   ]
  },
  {
   "cell_type": "code",
   "execution_count": 57,
   "id": "f4844b9d",
   "metadata": {},
   "outputs": [
    {
     "name": "stdout",
     "output_type": "stream",
     "text": [
      "el valor es True\n",
      "True\n"
     ]
    }
   ],
   "source": [
    "r = False or f(True) or (1 / 0)\n",
    "print(r)"
   ]
  },
  {
   "cell_type": "code",
   "execution_count": 58,
   "id": "490ccd79",
   "metadata": {},
   "outputs": [
    {
     "name": "stdout",
     "output_type": "stream",
     "text": [
      "el valor es True\n",
      "True\n"
     ]
    }
   ],
   "source": [
    "r = False or f(True) or (1 + [2, 3])\n",
    "print(r)"
   ]
  },
  {
   "cell_type": "code",
   "execution_count": 59,
   "id": "a4edb7ea",
   "metadata": {},
   "outputs": [
    {
     "data": {
      "text/plain": [
       "10"
      ]
     },
     "execution_count": null,
     "metadata": {},
     "output_type": "execute_result"
    }
   ],
   "source": [
    "r = 10 if True else f(20)\n",
    "r"
   ]
  },
  {
   "cell_type": "code",
   "execution_count": 60,
   "id": "12aa46cd",
   "metadata": {},
   "outputs": [
    {
     "name": "stdout",
     "output_type": "stream",
     "text": [
      "el valor es 20\n"
     ]
    },
    {
     "data": {
      "text/plain": [
       "20"
      ]
     },
     "execution_count": null,
     "metadata": {},
     "output_type": "execute_result"
    }
   ],
   "source": [
    "r = 10 if False else f(20)\n",
    "r"
   ]
  },
  {
   "cell_type": "markdown",
   "id": "95a93b8e",
   "metadata": {},
   "source": [
    "```python\n",
    "lineal(5, 2, 2.5, 1 / 0)\n",
    "```\n",
    "```cmd\n",
    "    lineal(5, 2, 2.5, 1 / 0)\n",
    "                      ~~^~~\n",
    "ZeroDivisionError: division by zero\n",
    "```"
   ]
  },
  {
   "cell_type": "markdown",
   "id": "b931f767",
   "metadata": {},
   "source": [
    "```python\n",
    "def identidad(x):\n",
    "    print(\"Devuelvo\", x)\n",
    "    return x\n",
    "\n",
    "map_obj = map(identidad, range(4))\n",
    "map_obj\n",
    "```\n",
    "```cmd\n",
    "<map at 0x7fedb41f3cd0>\n",
    "```\n",
    "\n",
    "```python\n",
    "lista = list(map_obj)\n",
    "```\n",
    "```cmd\n",
    "Devuelvo 0\n",
    "Devuelvo 1\n",
    "Devuelvo 2\n",
    "Devuelvo 3\n",
    "```\n",
    "\n",
    "```python\n",
    "lista\n",
    "```\n",
    "```cmd\n",
    "[0, 1, 2, 3]\n",
    "```\n",
    "\n",
    "```python\n",
    "map_obj = map(identidad, range(4))\n",
    "next(map_obj)\n",
    "```\n",
    "```cmd\n",
    "Devuelvo 0\n",
    "0\n",
    "```\n",
    "\n",
    "```python\n",
    "print(next(map_obj))\n",
    "```\n",
    "```cmd\n",
    "Devuelvo 1\n",
    "1\n",
    "```\n",
    "\n",
    "```python\n",
    "print(next(map_obj))\n",
    "print(next(map_obj))\n",
    "```\n",
    "```cmd\n",
    "Devuelvo 2\n",
    "2\n",
    "Devuelvo 3\n",
    "3\n",
    "```\n",
    "\n",
    "```python\n",
    "next(map_obj)\n",
    "```\n",
    "```cmd\n",
    "    next(map_obj)\n",
    "    ~~~~^^^^^^^^^\n",
    "StopIteration\n",
    "```"
   ]
  },
  {
   "cell_type": "code",
   "execution_count": 100,
   "id": "2aa27b31",
   "metadata": {},
   "outputs": [
    {
     "data": {
      "text/plain": [
       "<map at 0x7fedb41f3cd0>"
      ]
     },
     "execution_count": null,
     "metadata": {},
     "output_type": "execute_result"
    }
   ],
   "source": [
    "map_obj"
   ]
  },
  {
   "cell_type": "markdown",
   "id": "dbb1d87c",
   "metadata": {},
   "source": [
    "Una función es **no estricta** si **puede producir un resultado sin necesariamente evaluar todos sus argumentos**.\n",
    "\n",
    "Esto no significa necesariamente que los evalúe perezosamente, sino que **evalúa sólo lo que necesita**, y **lo puede hacer de forma controlada**."
   ]
  },
  {
   "cell_type": "markdown",
   "id": "5dada10c",
   "metadata": {},
   "source": [
    "## Iteradores"
   ]
  },
  {
   "cell_type": "markdown",
   "id": "0409aca6",
   "metadata": {},
   "source": [
    "```python\n",
    "for i in [10, 55, 2]:\n",
    "    print(i + 5)\n",
    "\n",
    "for c in \"palabras\":\n",
    "    print(c.upper())\n",
    "\n",
    "for k in {\"nombre\": \"Juan\", \"apellido\": \"Pérez\"}:\n",
    "    print(k)\n",
    "```"
   ]
  },
  {
   "cell_type": "code",
   "execution_count": 103,
   "id": "c0002fb1",
   "metadata": {},
   "outputs": [
    {
     "data": {
      "text/plain": [
       "[-10, 0, 10]"
      ]
     },
     "execution_count": null,
     "metadata": {},
     "output_type": "execute_result"
    }
   ],
   "source": [
    "nums = [-10, 0, 10]\n",
    "nums"
   ]
  },
  {
   "cell_type": "markdown",
   "id": "b11d9d99",
   "metadata": {},
   "source": [
    "```python\n",
    "next(nums)\n",
    "```\n",
    "```cmd\n",
    "    next(nums)\n",
    "    ~~~~^^^^^^\n",
    "TypeError: 'list' object is not an iterator\n",
    "```\n",
    "\n",
    "```python\n",
    "next(\"palabra\")\n",
    "```\n",
    "```cmd\n",
    "    next(\"palabra\")\n",
    "    ~~~~^^^^^^^^^^^\n",
    "TypeError: 'str' object is not an iterator\n",
    "```\n",
    "\n",
    "```python\n",
    "next({\"nombre\": \"Juan\", \"apellido\": \"Pérez\"})\n",
    "```\n",
    "```cmd\n",
    "    next({\"nombre\": \"Juan\", \"apellido\": \"Pérez\"})\n",
    "    ~~~~^^^^^^^^^^^^^^^^^^^^^^^^^^^^^^^^^^^^^^^^^\n",
    "TypeError: 'dict' object is not an iterator\n",
    "```"
   ]
  },
  {
   "cell_type": "code",
   "execution_count": 105,
   "id": "2af35c91",
   "metadata": {},
   "outputs": [
    {
     "data": {
      "text/plain": [
       "<list_iterator at 0x7fed9a982620>"
      ]
     },
     "execution_count": null,
     "metadata": {},
     "output_type": "execute_result"
    }
   ],
   "source": [
    "iterador = iter(nums)\n",
    "iterador"
   ]
  },
  {
   "cell_type": "code",
   "execution_count": 106,
   "id": "c0fe4cd2",
   "metadata": {},
   "outputs": [
    {
     "data": {
      "text/plain": [
       "-10"
      ]
     },
     "execution_count": null,
     "metadata": {},
     "output_type": "execute_result"
    }
   ],
   "source": [
    "next(iterador)"
   ]
  },
  {
   "cell_type": "code",
   "execution_count": 107,
   "id": "75161d77",
   "metadata": {},
   "outputs": [
    {
     "data": {
      "text/plain": [
       "0"
      ]
     },
     "execution_count": null,
     "metadata": {},
     "output_type": "execute_result"
    }
   ],
   "source": [
    "next(iterador)"
   ]
  },
  {
   "cell_type": "code",
   "execution_count": 108,
   "id": "f515baf7",
   "metadata": {},
   "outputs": [
    {
     "data": {
      "text/plain": [
       "10"
      ]
     },
     "execution_count": null,
     "metadata": {},
     "output_type": "execute_result"
    }
   ],
   "source": [
    "next(iterador)"
   ]
  },
  {
   "cell_type": "markdown",
   "id": "1980455f",
   "metadata": {},
   "source": [
    "```python\n",
    "next(iterador)\n",
    "```\n",
    "```cmd\n",
    "    next(iterador)\n",
    "    ~~~~^^^^^^^^^^\n",
    "StopIteration\n",
    "```"
   ]
  },
  {
   "cell_type": "markdown",
   "id": "bc9b9af4",
   "metadata": {},
   "source": [
    "```python\n",
    "iter(10)\n",
    "```\n",
    "```cmd\n",
    "    iter(10)\n",
    "    ~~~~^^^^\n",
    "TypeError: 'int' object is not iterable\n",
    "```"
   ]
  },
  {
   "cell_type": "markdown",
   "id": "09bf02ba",
   "metadata": {},
   "source": [
    "- Solo se puede iterar sobre objetos iteradores.\n",
    "- Que un objeto sea iterable significa que se puede crear un iterador a partir de el.\n",
    "- Un iterador sabe como devolver objetos de a uno. Para eso usamos `next`.\n",
    "- Cuando terminamos de obtener todos los objetos del iterador, se eleva un error `StopIteration`.\n",
    "- Cuando usamos un bucle for con un objeto iterable, por debajo, Python crear el iterador por nosotros."
   ]
  },
  {
   "cell_type": "markdown",
   "id": "e8b2ab6f",
   "metadata": {},
   "source": [
    "## Generadores"
   ]
  },
  {
   "cell_type": "markdown",
   "id": "c9b2e018",
   "metadata": {},
   "source": [
    "## _Generator expressions_"
   ]
  }
 ],
 "metadata": {
  "language_info": {
   "name": "python"
  }
 },
 "nbformat": 4,
 "nbformat_minor": 5
}
