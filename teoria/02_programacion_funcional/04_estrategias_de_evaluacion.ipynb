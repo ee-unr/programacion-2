{
 "cells": [
  {
   "cell_type": "markdown",
   "id": "8d70f172",
   "metadata": {},
   "source": [
    "---\n",
    "title: \"4 - Estrategias de evaluación 🧩\"\n",
    "toc: true\n",
    "---"
   ]
  },
  {
   "cell_type": "markdown",
   "id": "a7263dae",
   "metadata": {},
   "source": [
    "## Introducción\n",
    "\n",
    "En este breve capítulo vamos a explorar las diferentes estrategias de evaluación que utiliza Python.\n",
    "En programación, una estrategia de evaluación es el conjunto de reglas que define cómo y cuándo se calculan las expresiones.\n",
    "\n",
    "Analizaremos la **evaluación inmediata** (_eager_) y la **evaluación perezosa** (_lazy_), así como la diferencia entre **evaluación estricta** y **no estricta**."
   ]
  },
  {
   "cell_type": "markdown",
   "id": "1d70c5a8",
   "metadata": {},
   "source": [
    "## Evaluación estricta\n",
    "\n",
    "Supongamos una función a la que le pasamos dos números `a` y `b` y nos devuelve una lista con todos los enteros entre `a` y `b`."
   ]
  },
  {
   "cell_type": "code",
   "execution_count": 1,
   "id": "9b1cd596",
   "metadata": {},
   "outputs": [
    {
     "data": {
      "text/plain": [
       "[5, 6, 7, 8, 9, 10, 11, 12]"
      ]
     },
     "execution_count": null,
     "metadata": {},
     "output_type": "execute_result"
    }
   ],
   "source": [
    "def intervalo(a, b):\n",
    "    return list(range(a, b + 1))\n",
    "\n",
    "intervalo(5, 12)"
   ]
  },
  {
   "cell_type": "markdown",
   "id": "88985676",
   "metadata": {},
   "source": [
    "Para cumplir su objetivo, esta función solo necesita los valores `a` y `b`.\n",
    "Pero, ¿qué pasaría si por error le agregamos otro parámetro y después la llamamos sin darle ningún valor para ese parámetro?"
   ]
  },
  {
   "cell_type": "code",
   "execution_count": 2,
   "id": "0fae4dd7",
   "metadata": {},
   "outputs": [],
   "source": [
    "def intervalo(a, b, c):\n",
    "    return list(range(a, b + 1))"
   ]
  },
  {
   "cell_type": "markdown",
   "id": "799e7699",
   "metadata": {},
   "source": [
    "```python\n",
    "intervalo(5, 12)\n",
    "```\n",
    ":::{.code-error}\n",
    "```python\n",
    "    intervalo(5, 12)\n",
    "    ~~~~~~~~~^^^^^^^\n",
    "TypeError: intervalo() missing 1 required positional argument: 'c'\n",
    "```\n",
    ":::"
   ]
  },
  {
   "cell_type": "markdown",
   "id": "0144403d",
   "metadata": {},
   "source": [
    "Python devuelve un error indicando que la función `intervalo` no puede ejecutarse porque falta un valor para el parámetro `c`.\n",
    "Aunque sepamos que dicho parámetro no se utiliza dentro de la función, Python igualmente exige que se le pase un valor.\n",
    "\n",
    "Esta exigencia se debe a que las funciones de Python se evalúan bajo las reglas de la **evaluación estricta**.\n",
    "Bajo este enfoque, una función no puede producir un resultado si alguno de sus parámetros no está definido.\n",
    "Por eso, aun cuando el valor de `c` nunca se use en el cuerpo de la función, la ausencia de un valor para él provoca un error.\n",
    "\n",
    "Para que la función se ejecute correctamente, basta con pasarle cualquier valor:"
   ]
  },
  {
   "cell_type": "code",
   "execution_count": 3,
   "id": "6b5063a4",
   "metadata": {},
   "outputs": [
    {
     "data": {
      "text/plain": [
       "[5, 6, 7, 8, 9, 10, 11, 12]"
      ]
     },
     "execution_count": null,
     "metadata": {},
     "output_type": "execute_result"
    }
   ],
   "source": [
    "intervalo(5, 12, None)"
   ]
  },
  {
   "cell_type": "markdown",
   "id": "edb67009",
   "metadata": {},
   "source": [
    "En Python, **todas** las llamadas a funciones siguen la estrategia de evaluación estricta, y esto no es algo que podamos modificar: forma parte del diseño del lenguaje.\n",
    "De todas formas, como veremos más adelante, existen ciertas construcciones del propio lenguaje que aplican una estrategia de evaluación no estricta."
   ]
  },
  {
   "cell_type": "markdown",
   "id": "453538bb",
   "metadata": {},
   "source": [
    "## Evaluación inmediata\n",
    "\n",
    "Otro aspecto interesante al trabajar con funciones es el **momento** en que se evalúan los argumentos que se pasan en las llamadas.\n",
    "\n",
    "Tomemos de nuevo nuestra función original:\n",
    "\n",
    "```python\n",
    "def intervalo(a, b):\n",
    "    return list(range(a, b + 1))\n",
    "```\n",
    "\n",
    "y la siguiente llamada:\n",
    "\n",
    "```python\n",
    "intervalo(1 + 3, 5 + 12)\n",
    "```\n",
    "\n",
    "La pregunta es: ¿qué pasa primero? ¿Se ejecuta la función `intervalo` y recién ahí se resuelven las expresiones `1 + 3` y `5 + 12`, o esas expresiones se calculan antes y luego se pasan sus resultados a la función?\n",
    "\n",
    "Para aclarar esta duda, en lugar de usar una suma directa podemos probar con una función que sume pero que, además, imprima los argumentos que recibe.\n",
    "Del mismo modo, podemos modificar la función `intervalo` para que muestre un mensaje cuando sea llamada y así ver con más claridad el orden en que ocurren las cosas."
   ]
  },
  {
   "cell_type": "code",
   "execution_count": 4,
   "id": "6589e388",
   "metadata": {},
   "outputs": [
    {
     "name": "stdout",
     "output_type": "stream",
     "text": [
      "suma(x=1, y=3)\n",
      "suma(x=5, y=12)\n",
      "intervalo(a=4, b=17)\n"
     ]
    },
    {
     "data": {
      "text/plain": [
       "[4, 5, 6, 7, 8, 9, 10, 11, 12, 13, 14, 15, 16, 17]"
      ]
     },
     "execution_count": null,
     "metadata": {},
     "output_type": "execute_result"
    }
   ],
   "source": [
    "def suma(x, y):\n",
    "    print(f\"suma(x={x}, y={y})\")\n",
    "    return x + y\n",
    "\n",
    "\n",
    "def intervalo(a, b):\n",
    "    print(f\"intervalo(a={a}, b={b})\")\n",
    "    return list(range(a, b + 1))\n",
    "\n",
    "intervalo(suma(1, 3), suma(5, 12))"
   ]
  },
  {
   "cell_type": "markdown",
   "id": "9895dcfb",
   "metadata": {},
   "source": [
    "Por el orden en que aparecen los mensajes impresos, vemos que Python primero ejecutó la llamada `suma(1, 3)`, luego `suma(5, 12)` y recién después invocó a la función `intervalo`, ya recibiendo los valores resultantes de las llamadas a `suma`.\n",
    "\n",
    "En otras palabras, antes de llamar a `intervalo`, Python evaluó las expresiones que se pasaron como argumentos.\n",
    "\n",
    "A esta estrategia de evaluación, donde los argumentos se resuelven antes de ejecutar la función, se la conoce como **evaluación inmediata**, o por su nombre en inglés, _eager evaluation_."
   ]
  },
  {
   "cell_type": "markdown",
   "id": "a0494981",
   "metadata": {},
   "source": [
    "## Evaluación no estricta\n",
    "\n",
    "En contraste con la evaluación estricta, la evaluación no estricta es una estrategia en la que se puede determinar el resultado de una expresión sin necesidad de evaluar todos sus argumentos u operandos.\n",
    "\n",
    "En Python, solo tres tipos de expresiones siguen esta estrategia: `and`, `or` y las expresiones condicionales.\n",
    "\n",
    "En los siguientes ejemplos, vamos a utilizar una función que imprime el valor ingresado y lo devuelve:"
   ]
  },
  {
   "cell_type": "code",
   "execution_count": 5,
   "id": "eb443d1f",
   "metadata": {},
   "outputs": [],
   "source": [
    "def f(x):\n",
    "    print(f\"el valor es {x}\")\n",
    "    return x"
   ]
  },
  {
   "cell_type": "markdown",
   "id": "44e438cf",
   "metadata": {},
   "source": [
    "### Expresión `and`\n",
    "\n",
    "Una expresión `and` devuelve `True` únicamente cuando todos sus argumentos son verdaderos.\n",
    "Por eso, en el siguiente ejemplo, se imprime `el valor es True` antes de obtener el resultado de la operación `and`, ya que fue necesario evaluar la función `f`."
   ]
  },
  {
   "cell_type": "code",
   "execution_count": 6,
   "id": "901a0f1b",
   "metadata": {},
   "outputs": [
    {
     "name": "stdout",
     "output_type": "stream",
     "text": [
      "el valor es True\n"
     ]
    },
    {
     "data": {
      "text/plain": [
       "True"
      ]
     },
     "execution_count": null,
     "metadata": {},
     "output_type": "execute_result"
    }
   ],
   "source": [
    "True and f(True)"
   ]
  },
  {
   "cell_type": "markdown",
   "id": "7f5cc1e9",
   "metadata": {},
   "source": [
    "En cambio, cuando el primero de sus argumentos es `False`, se puede anticipar que el resultado de la operación `and` será `False`, sin necesidad de evaluar el segundo argumento. \n",
    "Por este motivo, la función `f` no se ejecuta en ninguno de los siguientes casos, al punto de que podemos pasarle argumentos absurdos:"
   ]
  },
  {
   "cell_type": "code",
   "execution_count": 7,
   "id": "849bc293",
   "metadata": {},
   "outputs": [
    {
     "data": {
      "text/plain": [
       "False"
      ]
     },
     "execution_count": null,
     "metadata": {},
     "output_type": "execute_result"
    }
   ],
   "source": [
    "False and f(True)"
   ]
  },
  {
   "cell_type": "code",
   "execution_count": 8,
   "id": "72c857cf",
   "metadata": {},
   "outputs": [
    {
     "data": {
      "text/plain": [
       "False"
      ]
     },
     "execution_count": null,
     "metadata": {},
     "output_type": "execute_result"
    }
   ],
   "source": [
    "False and f(1 / 0)"
   ]
  },
  {
   "cell_type": "markdown",
   "id": "25bce96e",
   "metadata": {},
   "source": [
    "En Python, este mecanismo también se conoce como cortocircuito. Al detectar que el resultado de la operación ya está decidido con el primer argumento, el intérprete \"corta camino\" y decide no evaluar al resto.\n",
    "\n",
    "### Expresión `or`\n",
    "\n",
    "El mecanismo de cortocircuito también funciona para el operador `or`:"
   ]
  },
  {
   "cell_type": "code",
   "execution_count": 9,
   "id": "6348c28f",
   "metadata": {},
   "outputs": [
    {
     "data": {
      "text/plain": [
       "True"
      ]
     },
     "execution_count": null,
     "metadata": {},
     "output_type": "execute_result"
    }
   ],
   "source": [
    "# El primer argumento es True, el resultado es True\n",
    "True or f(True)"
   ]
  },
  {
   "cell_type": "code",
   "execution_count": 10,
   "id": "7c7cfcfc",
   "metadata": {},
   "outputs": [
    {
     "name": "stdout",
     "output_type": "stream",
     "text": [
      "el valor es True\n"
     ]
    },
    {
     "data": {
      "text/plain": [
       "True"
      ]
     },
     "execution_count": null,
     "metadata": {},
     "output_type": "execute_result"
    }
   ],
   "source": [
    "# El primer arugmento es False, hay que evaluar el segundo para determinar el resultado\n",
    "False or f(True)"
   ]
  },
  {
   "cell_type": "markdown",
   "id": "46422969",
   "metadata": {},
   "source": [
    "Las mismas reglas de evaluación se mantienen en expresiones más complejas.\n",
    "En el siguiente ejemplo, es necesario ejecutar `f(True)` para poder resolver el primer `or`, pero no hace falta evaluar `1 + [2, 3]`, que provocaría un error, porque el valor `True` ya alcanza para determinar el resultado de toda la operación."
   ]
  },
  {
   "cell_type": "code",
   "execution_count": 11,
   "id": "4b1760a8",
   "metadata": {},
   "outputs": [
    {
     "name": "stdout",
     "output_type": "stream",
     "text": [
      "el valor es True\n"
     ]
    },
    {
     "data": {
      "text/plain": [
       "True"
      ]
     },
     "execution_count": null,
     "metadata": {},
     "output_type": "execute_result"
    }
   ],
   "source": [
    "False or f(True) or (1 + [2, 3])"
   ]
  },
  {
   "cell_type": "markdown",
   "id": "92e3b282",
   "metadata": {},
   "source": [
    "### Expresiones condicionales"
   ]
  },
  {
   "cell_type": "markdown",
   "id": "76b5cc9b",
   "metadata": {},
   "source": [
    "Finalmente, esta estrategia de evaluación no estricta (o cortocircuito) también se aplica en las expresiones condicionales.\n",
    "\n",
    "En el siguiente ejemplo, la expresión devuelve `10` porque la condición es verdadera, sin necesidad de ejecutar `f(20)`."
   ]
  },
  {
   "cell_type": "code",
   "execution_count": 12,
   "id": "a4edb7ea",
   "metadata": {},
   "outputs": [
    {
     "data": {
      "text/plain": [
       "10"
      ]
     },
     "execution_count": null,
     "metadata": {},
     "output_type": "execute_result"
    }
   ],
   "source": [
    "10 if True else f(20)"
   ]
  },
  {
   "cell_type": "markdown",
   "id": "5d8aa52e",
   "metadata": {},
   "source": [
    "En cambio, esta segunda expresión sí requiere que se ejecute la llamada en la parte `else` de la expresión."
   ]
  },
  {
   "cell_type": "code",
   "execution_count": 13,
   "id": "12aa46cd",
   "metadata": {},
   "outputs": [
    {
     "name": "stdout",
     "output_type": "stream",
     "text": [
      "el valor es 20\n"
     ]
    },
    {
     "data": {
      "text/plain": [
       "20"
      ]
     },
     "execution_count": null,
     "metadata": {},
     "output_type": "execute_result"
    }
   ],
   "source": [
    "10 if False else f(20)"
   ]
  },
  {
   "cell_type": "markdown",
   "id": "b931f767",
   "metadata": {},
   "source": [
    "## Evaluación perezosa\n",
    "\n",
    "Para terminar, veamos una última estrategia de evaluación: la **evaluación perezosa** (en inglés, *lazy evaluation*).\n",
    "\n",
    "Partimos de una función que recibe un valor, imprime un mensaje con él y lo devuelve:\n",
    "\n",
    "```python\n",
    "def identidad(x):\n",
    "    print(\"Devuelvo\", x)\n",
    "    return x\n",
    "```\n",
    "\n",
    "Si usamos `map` para aplicar la función `identidad` a los números 0, 1, 2 y 3:\n",
    "\n",
    "```python\n",
    "map_obj = map(identidad, range(4))\n",
    "map_obj\n",
    "```\n",
    "\n",
    "```cmd\n",
    "<map at 0x7fedb41f3cd0>\n",
    "```\n",
    "\n",
    "vemos que se crea un objeto `map`, pero no aparece ningún mensaje de la función `identidad`.\n",
    "Esto pasa porque `map` no ejecuta la función sobre los elementos hasta que realmente hace falta.\n",
    "\n",
    "Por ejemplo, si convertimos el objeto `map` en una lista, recién ahí se produce la evaluación:\n",
    "\n",
    "```python\n",
    "lista = list(map_obj)\n",
    "```\n",
    "\n",
    "```cmd\n",
    "Devuelvo 0\n",
    "Devuelvo 1\n",
    "Devuelvo 2\n",
    "Devuelvo 3\n",
    "```\n",
    "\n",
    "```python\n",
    "lista\n",
    "```\n",
    "\n",
    "```cmd\n",
    "[0, 1, 2, 3]\n",
    "```\n",
    "\n",
    "A esta estrategia, en la que se retrasa la evaluación de las expresiones hasta el último momento posible, se la llama **evaluación perezosa** o *lazy evaluation*.\n",
    "\n",
    "De manera similar, `filter` también utiliza una estrategia de evaluación perezosa.\n",
    "Recién cuando queremos materializar los elementos se aplica la función de filtro."
   ]
  },
  {
   "cell_type": "code",
   "execution_count": 14,
   "id": "d45aed59",
   "metadata": {},
   "outputs": [],
   "source": [
    "def es_multiplo_5(x):\n",
    "    print(f\"x={x}\")\n",
    "    return x % 5  ==0\n",
    "\n",
    "filter_obj = filter(es_multiplo_5, [12, 10, 8, 5, 125, 55, 11, 9])"
   ]
  },
  {
   "cell_type": "code",
   "execution_count": 15,
   "id": "ef2e1e5a",
   "metadata": {},
   "outputs": [
    {
     "name": "stdout",
     "output_type": "stream",
     "text": [
      "x=12\n",
      "x=10\n",
      "El numero 10 es múltiplo de 5\n",
      "x=8\n",
      "x=5\n",
      "El numero 5 es múltiplo de 5\n",
      "x=125\n",
      "El numero 125 es múltiplo de 5\n",
      "x=55\n",
      "El numero 55 es múltiplo de 5\n",
      "x=11\n",
      "x=9\n"
     ]
    }
   ],
   "source": [
    "for x in filter_obj:\n",
    "    print(f\"El numero {x} es múltiplo de 5\")"
   ]
  },
  {
   "cell_type": "markdown",
   "id": "75889405",
   "metadata": {},
   "source": [
    "Como se puede ver, la función `es_multiplo_5` se ejecutó para cada valor de la lista numérica, pero `filter` únicamente devolvió aquellos que efectivamente son múltiplos de 5."
   ]
  },
  {
   "cell_type": "markdown",
   "id": "cc71a9c4",
   "metadata": {},
   "source": [
    "En el próximo y último capítulo vamos a explorar los **generadores**, un tipo especial de iterador que implementa una estrategia de evaluación perezosa y nos permite recorrer secuencias incluso potencialmente infinitas."
   ]
  }
 ],
 "metadata": {
  "language_info": {
   "name": "python"
  }
 },
 "nbformat": 4,
 "nbformat_minor": 5
}
