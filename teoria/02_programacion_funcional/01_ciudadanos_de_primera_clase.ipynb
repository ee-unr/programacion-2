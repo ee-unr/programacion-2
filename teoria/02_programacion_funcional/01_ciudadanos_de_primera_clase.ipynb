{
 "cells": [
  {
   "cell_type": "markdown",
   "id": "43ba7cfd",
   "metadata": {},
   "source": [
    "---\n",
    "title: \"1 - Ciudadanos de primara clase\"\n",
    "toc: true\n",
    "---"
   ]
  },
  {
   "cell_type": "markdown",
   "id": "859693bc",
   "metadata": {},
   "source": [
    "* Principios fundamentales.\n",
    "* Funciones como ciudadanos de primera clase.\n",
    "* Funciones puras.\n",
    "* Funciones anónimas.\n",
    "* Funciones variádicas.\n",
    "* Closures."
   ]
  }
 ],
 "metadata": {
  "language_info": {
   "name": "python"
  }
 },
 "nbformat": 4,
 "nbformat_minor": 5
}
