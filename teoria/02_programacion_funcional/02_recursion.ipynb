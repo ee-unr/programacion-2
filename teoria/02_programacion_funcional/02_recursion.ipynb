{
 "cells": [
  {
   "cell_type": "markdown",
   "id": "15cf2528",
   "metadata": {},
   "source": [
    "---\n",
    "title: \"2 - Recursión\"\n",
    "toc: true\n",
    "---"
   ]
  },
  {
   "cell_type": "markdown",
   "id": "5b86bf22",
   "metadata": {},
   "source": [
    "* Recursión"
   ]
  }
 ],
 "metadata": {
  "language_info": {
   "name": "plaintext"
  }
 },
 "nbformat": 4,
 "nbformat_minor": 5
}
