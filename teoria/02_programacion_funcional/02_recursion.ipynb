{
 "cells": [
  {
   "cell_type": "markdown",
   "id": "ec6e3719",
   "metadata": {},
   "source": [
    "---\n",
    "title: \"2 - Recursión\"\n",
    "toc: true\n",
    "---"
   ]
  },
  {
   "cell_type": "markdown",
   "id": "2aa031f5",
   "metadata": {},
   "source": [
    "## Introducción\n",
    "\n",
    "En el apunte anterior vimos que en Python las funciones son ciudadanos de primera clase.\n",
    "Esto significa que una función es un objeto, al igual que un número, una cadena de texto o incluso un diccionario anidado con una estructura bastante enredada.\n",
    "Gracias a esto, no solo podemos inspeccionar sus atributos o hacer que una función llame a otras, sino que también es posible que una función cree y retorne nuevas funciones.\n",
    "\n",
    "Además de los casos ya mencionados, también es posible que una función se llame a sí misma.\n",
    "Es decir, que en el cuerpo de la definición de esa función se incluya una llamada a la función que se está definiendo.\n",
    "A este tipo de funciones se las llama **recursivas**, y la técnica en sí recibe el nombre de **recursión**.\n",
    "\n",
    "Aunque pueda sonar extraño que una función se invoque a sí misma, en programación existen problemas para los que funciones recursivas resultan una solución natural y efectiva."
   ]
  },
  {
   "cell_type": "markdown",
   "id": "7354e346",
   "metadata": {},
   "source": [
    "## Cuenta regresiva\n",
    "\n",
    "Supongamos que queremos crear una función que imprima una cuenta regresiva desde un número entero dado hasta el 0. Es decir, la función se debería comportar de la siguiente manera:\n",
    "\n",
    "```python\n",
    "regresiva(3)\n",
    "```\n",
    "```cmd\n",
    "3\n",
    "2\n",
    "1\n",
    "0\n",
    "```\n",
    "\n",
    "```python\n",
    "regresiva(5)\n",
    "```\n",
    "```cmd\n",
    "5\n",
    "4\n",
    "3\n",
    "2\n",
    "1\n",
    "0\n",
    "```\n",
    "\n",
    "Una implementación **no recursiva** es la siguiente, basada en un bucle `while`:\n",
    "\n",
    "```python\n",
    "def regresiva(n):\n",
    "    while n > 0:\n",
    "        print(i)\n",
    "        n = n - 1\n",
    "```\n",
    "\n",
    "Otra alternativa, que usa un bucle `for` y un `range` es:\n",
    "\n",
    "```python\n",
    "def regresiva(n):\n",
    "    for i in range(n, -1, -1):\n",
    "        print(i)\n",
    "```\n",
    "\n",
    "Ambas implementaciones resultan en funciones que se comportan correctamente y producen el resultado deseado.\n",
    "\n",
    "Sin embargo, existe una **alternativa recursiva** para obtener la secuencia de números deseados."
   ]
  },
  {
   "cell_type": "code",
   "execution_count": 64,
   "id": "2e84de22",
   "metadata": {},
   "outputs": [],
   "source": [
    "def regresiva(i):\n",
    "    print(i)\n",
    "    if i > 0:             # <1>\n",
    "        regresiva(i - 1)  # <1>\n",
    "    else:                 # <2>\n",
    "        return            # <2>"
   ]
  },
  {
   "cell_type": "markdown",
   "id": "5003216d",
   "metadata": {},
   "source": [
    "1. El **caso recursivo**: Es la condición donde la función se llama a sí misma. En este caso, `regresiva` vuelve a llamarse a sí misma solo cuando el número impreso sea mayor que 0.\n",
    "La llamada se hace pasando como argumento el valor `i - 1`, lo que nos acerca progresivamente al **caso base**.\n",
    "1. El **caso base**: Es la condición que **detiene la recursión**. Cuando se cumple, la función devuelve un valor sin volver a llamarse a sí misma, lo que evita que la ejecución continúe de manera infinita.\n",
    "\n",
    "Ambos casos trabajan en conjunto. Por un lado, el caso recursivo es la parte de la función que se llama a sí misma, pero con una entrada modificada que se acerca progresivamente al caso base. Por el otro, el caso base es la condición que detiene las llamadas recursivas, representando la versión más simple del problema que puede ser resuelta directamente."
   ]
  },
  {
   "cell_type": "code",
   "execution_count": 79,
   "id": "3fcaa8a3",
   "metadata": {},
   "outputs": [
    {
     "name": "stdout",
     "output_type": "stream",
     "text": [
      "3\n",
      "2\n",
      "1\n",
      "0\n"
     ]
    }
   ],
   "source": [
    "regresiva(3)"
   ]
  },
  {
   "cell_type": "code",
   "execution_count": 80,
   "id": "d2eb456c",
   "metadata": {},
   "outputs": [
    {
     "name": "stdout",
     "output_type": "stream",
     "text": [
      "5\n",
      "4\n",
      "3\n",
      "2\n",
      "1\n",
      "0\n"
     ]
    }
   ],
   "source": [
    "regresiva(5)"
   ]
  },
  {
   "cell_type": "markdown",
   "id": "10e69191",
   "metadata": {},
   "source": [
    "::: {.callout-note}\n",
    "##### Versión con `return` implícito\n",
    "\n",
    "La función recursiva `regresiva` usa `return` para terminar su ejecución devolviendo un `None` implícito en el caso base.\n",
    "Otra forma de implementar la misma función es omitiendo el `return`:\n",
    "\n",
    "```python\n",
    "def regresiva(i):\n",
    "    print(i)\n",
    "    if i > 0:\n",
    "        regresiva(i - 1)  # <1>\n",
    "    # <2>\n",
    "\n",
    "\n",
    "```\n",
    "\n",
    "1. Esta línea marca el **caso recursivo** y es idéntica a la anterior.\n",
    "2. Acá no se usa `return` para devolver `None`: directamente no se escribe nada. El efecto es el mismo y constituye el **caso base**. En Python, si una función no incluye ningún `return`, se comporta como si al final hubiera un `return` o `return None`, es decir, la función termina y devuelve `None`.\n",
    "\n",
    ":::"
   ]
  },
  {
   "cell_type": "markdown",
   "id": "83c8cb77",
   "metadata": {},
   "source": [
    "### Versión comentada\n",
    "\n",
    "Para entender mejor el funcionamiento de la función recursiva `progresiva`, se pueden incorporar unos `print` en el cuerpo de la misma.\n",
    "En el ejemplo de abajo se muestra un `print` justo cuando la función es llamada, y otro cuando la función vuelve a invocarse a sí misma.\n",
    "\n",
    "\n",
    "```python\n",
    "def regresiva(i):\n",
    "    print(f\"regresiva({i})\")\n",
    "    print(i)\n",
    "    if i > 0:\n",
    "        print(f\"regresiva({i}) --> regresiva({i -1})\")\n",
    "        regresiva(i - 1)\n",
    "\n",
    "regresiva(2)\n",
    "```\n",
    "\n",
    "```latex\n",
    "regresiva(2)                       % <1>\n",
    "2                                  % <2>\n",
    "regresiva(2) --> regresiva(1)      % <3>\n",
    "regresiva(1)                       % <4>\n",
    "1                                  % <5>\n",
    "regresiva(1) --> regresiva(0)      % <6>\n",
    "regresiva(0)                       % <7>\n",
    "0                                  % <8>\n",
    "```\n",
    "\n",
    "1. Se ejecuta `regresiva` con `i = 2`\n",
    "2. `regresiva(2)` imprime `2`\n",
    "3. `regresiva(2)` llama a `regresiva(1)`\n",
    "4. Se ejecuta `regresiva` con `i = 1`\n",
    "5. `regresiva(1)` imprime `1`\n",
    "6. `regresiva(1)` llama a `regresiva(0)`\n",
    "7. Se ejecuta `regresiva` con `i = 0`\n",
    "8. `regresiva(0)` imprime `0`"
   ]
  },
  {
   "cell_type": "markdown",
   "id": "4f7348b3",
   "metadata": {},
   "source": [
    "### ¡Qué no falte el caso base!\n",
    "\n",
    "Cuando escribimos una función recursiva es **fundamental implementar el caso base**,\n",
    "que determina la condición donde la función deja de llamarse a sí misma y comienza a devolver un valor.\n",
    "\n",
    "Debajo se muestra una implementación incorrecta de la función `regresiva` como función recursiva.\n",
    "La misma tiene el caso recursivo, donde la función se llama a sí misma, pero le falta el caso base, que es el que detiene esa cadena de llamadas.\n",
    "Como resultado, la función sigue contando números, incluso negativos, y Python termina frenando la ejecución con un `RecursionError`.\n",
    "Este error aperece cuando la profundidad de la pila de llamadas recursivas supera un límite predeterminado y, como regla general, indica que hay un problema en nuestra recursión.\n",
    "\n",
    "```python\n",
    "def regresiva(i):\n",
    "    print(i)\n",
    "    regresiva(i - 1)\n",
    "\n",
    "regresiva(1)\n",
    "```\n",
    "```cmd\n",
    "1\n",
    "0\n",
    "-1\n",
    "-2\n",
    "...\n",
    "-988\n",
    "-989\n",
    "Traceback (most recent call last):\n",
    "  File \"<python-input-5>\", line 1, in <module>\n",
    "    regresiva(1)\n",
    "    ~~~~~~~~~^^^\n",
    "  File \"<python-input-2>\", line 3, in regresiva\n",
    "    regresiva(i - 1)\n",
    "    ~~~~~~~~~^^^^^^^\n",
    "  File \"<python-input-2>\", line 3, in regresiva\n",
    "    regresiva(i - 1)\n",
    "    ~~~~~~~~~^^^^^^^\n",
    "  File \"<python-input-2>\", line 3, in regresiva\n",
    "    regresiva(i - 1)\n",
    "    ~~~~~~~~~^^^^^^^\n",
    "  [Previous line repeated 988 more times]\n",
    "RecursionError: maximum recursion depth exceeded\n",
    "```"
   ]
  },
  {
   "cell_type": "markdown",
   "id": "35a85ca4",
   "metadata": {},
   "source": [
    "## Factorial\n",
    "\n",
    "Un ejemplo clásico para estudiar cómo funciona la recursión en programación es el cálculo del factorial.\n",
    "El factorial de un número positivo $n$ se define como:\n",
    "\n",
    "$$\n",
    "n! = n \\times (n - 1) \\times (n - 2) \\times \\cdots \\times 2 \\times 1\n",
    "$$\n",
    "\n",
    "Es decir, el factorial de un número es el producto de todos los enteros desde $1$ hasta $n$.\n",
    "Por convención, además, se establece que $0! = 1$.\n",
    "\n",
    "Una forma de calcular el factorial de un número sin recurrir a la recursión es la siguiente:"
   ]
  },
  {
   "cell_type": "code",
   "execution_count": 76,
   "id": "9938cb41",
   "metadata": {},
   "outputs": [
    {
     "data": {
      "text/plain": [
       "720"
      ]
     },
     "execution_count": null,
     "metadata": {},
     "output_type": "execute_result"
    }
   ],
   "source": [
    "def factorial(n):\n",
    "    resultado = 1\n",
    "    for i in range(2, n + 1):\n",
    "        resultado = resultado * i\n",
    "    return resultado\n",
    "\n",
    "factorial(6)"
   ]
  },
  {
   "cell_type": "markdown",
   "id": "822e8e00",
   "metadata": {},
   "source": [
    "Sin embargo, y dado que el factorial admite la siguiente expresión como función recursiva,\n",
    "\n",
    "$$\n",
    "n! = \\begin{cases}\n",
    "1 & \\text{para } n = 0 \\text{ o } n = 1 \\\\\n",
    "n \\times (n - 1)! & \\text {para } n \\ge 2\n",
    "\\end{cases}\n",
    "$$\n",
    "\n",
    "se puede implementar en Python de la siguiente manera:"
   ]
  },
  {
   "cell_type": "code",
   "execution_count": 77,
   "id": "dcfa7b2e",
   "metadata": {},
   "outputs": [],
   "source": [
    "def factorial(n):\n",
    "    if n <= 1:\n",
    "        return 1 # <1>\n",
    "    else:\n",
    "        return n * factorial(n - 1) # <2>"
   ]
  },
  {
   "cell_type": "markdown",
   "id": "61783c65",
   "metadata": {},
   "source": [
    "1. Caso base.\n",
    "2. Caso recursivo. La función hace uso del resultado que ella misma produce.\n",
    "\n",
    "Podemos ver algunos ejemplos:"
   ]
  },
  {
   "cell_type": "code",
   "execution_count": 72,
   "id": "0af487d8",
   "metadata": {},
   "outputs": [
    {
     "name": "stdout",
     "output_type": "stream",
     "text": [
      "factorial(1): 1\n",
      "factorial(0): 1\n",
      "factorial(6): 720\n",
      "factorial(10): 3628800\n"
     ]
    }
   ],
   "source": [
    "print(\"factorial(1):\", factorial(1))\n",
    "print(\"factorial(0):\", factorial(0))\n",
    "print(\"factorial(6):\", factorial(6))\n",
    "print(\"factorial(10):\", factorial(10))"
   ]
  },
  {
   "cell_type": "markdown",
   "id": "1692582d",
   "metadata": {},
   "source": [
    "### Versión comentada\n",
    "\n",
    "La función `regresiva` nos sirvió como primera aproximación a la recursión. Sin embargo, en ella, no se hace uso del resultado que la misma función produce. \n",
    "En cambio, con `factorial` sí se utiliza el valor producido en el caso recursivo, lo que la vuelve más interesante para analizar cómo se van encadenando los distintos pasos."
   ]
  },
  {
   "cell_type": "code",
   "execution_count": 78,
   "id": "506c59fc",
   "metadata": {},
   "outputs": [
    {
     "name": "stdout",
     "output_type": "stream",
     "text": [
      "factorial(4)\n",
      "factorial(4) -> factorial(3)\n",
      "factorial(3)\n",
      "factorial(3) -> factorial(2)\n",
      "factorial(2)\n",
      "factorial(2) -> factorial(1)\n",
      "factorial(1)\n",
      "> factorial(1) devuelve 1\n",
      "> factorial(2) devuelve 2\n",
      "> factorial(3) devuelve 6\n",
      "> factorial(4) devuelve 24\n"
     ]
    },
    {
     "data": {
      "text/plain": [
       "24"
      ]
     },
     "execution_count": null,
     "metadata": {},
     "output_type": "execute_result"
    }
   ],
   "source": [
    "def factorial(n):\n",
    "    print(f\"factorial({n})\")\n",
    "    if n <= 1:\n",
    "        salida = 1\n",
    "    else:\n",
    "        print(f\"factorial({n}) -> factorial({n - 1})\")\n",
    "        salida = n * factorial(n - 1)\n",
    "\n",
    "    print(f\"> factorial({n}) devuelve {salida}\")\n",
    "    return salida\n",
    "\n",
    "factorial(4)"
   ]
  },
  {
   "cell_type": "markdown",
   "id": "e70d8e3b",
   "metadata": {},
   "source": [
    "El proceso arranca con la llamada a `factorial(4)`.\n",
    "Para calcular su resultado, la función necesita antes el valor de `factorial(3)`. Esa, a su vez, depende de `factorial(2)`, que depende de `factorial(1)`.\n",
    "Finalmente, cuando llegamos a `factorial(1)`, entramos en el **caso base**, que devuelve un resultado sin hacer más llamadas.\n",
    "\n",
    "Por eso primero vemos cómo se acumula la pila de llamadas, que crece paso a paso hasta llegar al caso base.\n",
    "Recién ahí comienza el camino de regreso: cada llamada se va resolviendo con el valor devuelto por la anterior, hasta llegar de nuevo a `factorial(4)`,\n",
    "donde se completa el cálculo y obtenemos el resultado final."
   ]
  },
  {
   "cell_type": "markdown",
   "id": "46fb86f5",
   "metadata": {},
   "source": [
    "## Letra chica\n",
    "\n",
    "Cada vez que una función se invoca a sí misma, crea un nuevo **contexto de ejecución** (con sus propias variables locales y el punto al que debe regresar) y lo apila sobre el anterior en una estructura que se llama **pila de llamadas** (del inglés, _call stack_). Por lo tanto, cuando llamamos a `factorial(4)`, apilamos cuatro contextos de ejecución distintos, uno por cada llamada que va quedando pendiente, antes de empezar a devolver resultados.\n",
    "\n",
    "Este apilamiento **no es gratis**, consume memoria de nuestra computadora.\n",
    "Aunque para `factorial(4)` el consumo de memoria es insignificante, si intentáramos calcular un factorial muy grande,\n",
    "la pila podría crecer hasta agotar la cantidad de memoria disponible en nuestra computadora.\n",
    "Para evitar que las funciones recursivas causen una falla estrepitosa, Python establece un límite en la profundidad de la recursión.\n",
    "Al alcanzarlo, el intérprete se detiene con la excepción `RecursionError` que nos proteje de una ejecución recursiva infinita o excesivamente profunda.\n",
    "\n",
    "Dado su potencial alto consumo de memoria y la sobrecarga que genera gestionar la pila de llamadas, una implementación recursiva no suele ser la más eficiente.\n",
    "De hecho, su equivalente iterativo suele ser más eficiente y además evita los riesgos asociados al desbordamiento de la pila.\n",
    "Sin embargo, el principal valor de la recursión reside en la **claridad conceptual** para modelar problemas de naturaleza inherentemente recursiva."
   ]
  }
 ],
 "metadata": {
  "language_info": {
   "name": "python"
  }
 },
 "nbformat": 4,
 "nbformat_minor": 5
}
