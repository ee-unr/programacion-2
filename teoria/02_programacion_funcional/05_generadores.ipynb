{
 "cells": [
  {
   "cell_type": "markdown",
   "id": "694b8b6e",
   "metadata": {},
   "source": [
    "---\n",
    "title: \"5 - Generadores 🧩\"\n",
    "toc: true\n",
    "---"
   ]
  },
  {
   "cell_type": "markdown",
   "id": "9da29044",
   "metadata": {},
   "source": [
    "## Introducción\n",
    "\n",
    "En este capítulo vamos a introducirnos en los generadores, tanto en las funciones como en las expresiones generadoras.\n",
    "A diferencia de las funciones regulares, que devuelven un resultado con `return`, los generadores no devuelven un único resultado, sino que van entregando valores de a uno a medida que se lo solicita.\n",
    "Cada vez que se entrega un valor, la ejecución queda en pausa y se conserva el estado de las variables, de modo que puede reanudarse más adelante.\n",
    "De este modo, los generadores resultan ideales para definir iteradores y trabajar con grandes volúmenes de datos sin necesidad de almacenarlos al mismo tiempo en memoria."
   ]
  },
  {
   "cell_type": "markdown",
   "id": "e3ca05ec",
   "metadata": {},
   "source": [
    "## Funciones generadoras"
   ]
  },
  {
   "cell_type": "markdown",
   "id": "859b647d",
   "metadata": {},
   "source": [
    "Una función generadora se define igual que una función común con `def`, pero en lugar de devolver un valor con `return`, lo hace con `yield`.\n",
    "\n",
    "Cuando se ejecuta una función generadora, no se ejecuta el código en su cuerpo de manera inmediata ni se obtiene un resultado.\n",
    "En cambio, se obtiene un **generador** que luego puede **entregar** valores."
   ]
  },
  {
   "cell_type": "code",
   "execution_count": 1,
   "id": "e570cc09",
   "metadata": {},
   "outputs": [
    {
     "data": {
      "text/plain": [
       "<generator object gen at 0x7fec067461f0>"
      ]
     },
     "execution_count": null,
     "metadata": {},
     "output_type": "execute_result"
    }
   ],
   "source": [
    "def gen():\n",
    "    yield \"¡Resultado!\"\n",
    "\n",
    "g = gen()\n",
    "g"
   ]
  },
  {
   "cell_type": "markdown",
   "id": "bba15c11",
   "metadata": {},
   "source": [
    "Como los generadores son **iteradores** (ver [Iterables e iteradores](./05_generadores.ipynb#sec-iteradores)), se puede usar `next` para obtener el siguiente valor de manera manual:"
   ]
  },
  {
   "cell_type": "code",
   "execution_count": 2,
   "id": "e7b791bf",
   "metadata": {},
   "outputs": [
    {
     "data": {
      "text/plain": [
       "'¡Resultado!'"
      ]
     },
     "execution_count": null,
     "metadata": {},
     "output_type": "execute_result"
    }
   ],
   "source": [
    "next(g)"
   ]
  },
  {
   "cell_type": "markdown",
   "id": "1d6cc707",
   "metadata": {},
   "source": [
    "Este primer ejemplo es demasiado simple para apreciar la verdadera utilidad de los generadores.\n",
    "Si solo necesitáramos devolver un único valor, bastaría con usar una función común.\n",
    "\n",
    "La ventaja de los generadores está en que pueden **entregar varios valores de a uno**, a medida que se los solicita, mientras conservan el estado de las variables.\n",
    "\n",
    "Veamos ahora una segunda función generadora, esta vez con dos instrucciones `yield` en lugar de una.\n",
    "En la primera llamada a `next`, obtenemos `\"Primer resultado\"`."
   ]
  },
  {
   "cell_type": "code",
   "execution_count": 3,
   "id": "41d1c480",
   "metadata": {},
   "outputs": [
    {
     "data": {
      "text/plain": [
       "'Primer resultado'"
      ]
     },
     "execution_count": null,
     "metadata": {},
     "output_type": "execute_result"
    }
   ],
   "source": [
    "def gen():\n",
    "    yield \"Primer resultado\"\n",
    "    yield \"Segundo resultado\"\n",
    "\n",
    "g = gen()\n",
    "next(g)"
   ]
  },
  {
   "cell_type": "markdown",
   "id": "14030254",
   "metadata": {},
   "source": [
    "Y en la segunda llamada a `next` el generador entrega el segundo valor: `\"Segundo resultado\"`."
   ]
  },
  {
   "cell_type": "code",
   "execution_count": 4,
   "id": "ab4c911f",
   "metadata": {},
   "outputs": [
    {
     "data": {
      "text/plain": [
       "'Segundo resultado'"
      ]
     },
     "execution_count": null,
     "metadata": {},
     "output_type": "execute_result"
    }
   ],
   "source": [
    "next(g)"
   ]
  },
  {
   "cell_type": "markdown",
   "id": "c58399ae",
   "metadata": {},
   "source": [
    "En la primera llamada a `next`, la función se ejecuta hasta llegar a la primera instrucción `yield`.\n",
    "Allí el generador devuelve un valor y suspende su ejecución.\n",
    "Con la segunda llamada, la ejecución se reanuda desde ese punto y continúa hasta encontrar el siguiente `yield`, entregando otro valor.\n",
    "\n",
    "Ahora bien, ¿qué ocurre si llamamos a `next` cuando el generador ya entregó todos los valores disponibles?"
   ]
  },
  {
   "cell_type": "markdown",
   "id": "3eade2c6",
   "metadata": {},
   "source": [
    "```python\n",
    "next(g)\n",
    "```\n",
    "```cmd\n",
    "    next(g)\n",
    "    ~~~~^^^\n",
    "StopIteration\n",
    "```"
   ]
  },
  {
   "cell_type": "markdown",
   "id": "313ff6c4",
   "metadata": {},
   "source": [
    "Una vez que un generador se agota, cualquier llamada adicional a `next` elevará la excepción `StopIteration`, que señala que ya no quedan valores por producir.\n",
    "\n",
    "Para observar con más detalle cómo funciona la ejecución y suspensión en los generadores, vamos a implementar una función que mantiene el estado de una variable numérica e imprime un mensaje justo antes de cada `yield`."
   ]
  },
  {
   "cell_type": "code",
   "execution_count": 6,
   "id": "75547dbf",
   "metadata": {},
   "outputs": [],
   "source": [
    "def generador(x):\n",
    "    print(\"Recibí el valor\", x)\n",
    "\n",
    "    x = x + 18\n",
    "    print(\"Entrego el valor\", x)\n",
    "    yield x\n",
    "\n",
    "    x = x - 5\n",
    "    print(\"Esto una entrega siguiente, devuelvo el valor\", x)\n",
    "    yield x\n",
    "\n",
    "    print(\"Este mensaje está bien al final\")\n",
    "\n",
    "g = generador(7)"
   ]
  },
  {
   "cell_type": "markdown",
   "id": "aea9a21a",
   "metadata": {},
   "source": [
    "Como se puede observar, la ejecución de la función generadora no imprimió ningún mensaje, ya que esto no ejecuta el cuerpo de la función.\n",
    "Recién al pedir el primer valor se ejecutan los dos `print` previos al primer `yield`. Además, el valor inicial `7` se incrementa en `18` y luego es devuelto."
   ]
  },
  {
   "cell_type": "code",
   "execution_count": 7,
   "id": "295bfad3",
   "metadata": {},
   "outputs": [
    {
     "name": "stdout",
     "output_type": "stream",
     "text": [
      "Recibí el valor 7\n",
      "Entrego el valor 25\n"
     ]
    },
    {
     "data": {
      "text/plain": [
       "25"
      ]
     },
     "execution_count": null,
     "metadata": {},
     "output_type": "execute_result"
    }
   ],
   "source": [
    "next(g)"
   ]
  },
  {
   "cell_type": "markdown",
   "id": "0ca551d7",
   "metadata": {},
   "source": [
    "En la segunda llamada a `next(g)` se imprime un mensaje y se entrega el valor `25 - 5 = 20`.\n",
    "Esto muestra que el generador conserva el estado de las variables: en lugar de usar el valor original de `x`, utiliza el valor actualizado en la entrega anterior."
   ]
  },
  {
   "cell_type": "code",
   "execution_count": 8,
   "id": "371a5ce7",
   "metadata": {},
   "outputs": [
    {
     "name": "stdout",
     "output_type": "stream",
     "text": [
      "Esto una entrega siguiente, devuelvo el valor 20\n"
     ]
    },
    {
     "data": {
      "text/plain": [
       "20"
      ]
     },
     "execution_count": null,
     "metadata": {},
     "output_type": "execute_result"
    }
   ],
   "source": [
    "next(g)"
   ]
  },
  {
   "cell_type": "markdown",
   "id": "0ec5367e",
   "metadata": {},
   "source": [
    "Sin embargo, el `print` al final, debajo del último `yield`, aún no se ejecutó. Para eso, usamos `next(g)` nuevamente.\n",
    "\n",
    "```python\n",
    "next(g)\n",
    "```\n",
    "```cmd\n",
    "Este mensaje está bien al final\n",
    "\n",
    "    next(g)\n",
    "    ~~~~^^^\n",
    "StopIteration\n",
    "```\n",
    "\n",
    "Como no hay ningún otro valor por entregar, se imprime el mensaje y luego se obtiene la excepción `StopIteration`."
   ]
  },
  {
   "cell_type": "markdown",
   "id": "72254ac0",
   "metadata": {},
   "source": [
    "### Ejemplo 1: Secuencia de números naturales"
   ]
  },
  {
   "cell_type": "markdown",
   "id": "1a218ea6",
   "metadata": {},
   "source": [
    "Los generadores también permiten crear secuencias infinitas.\n",
    "Para ello basta con escribir un bucle infinito dentro de la función generadora.\n",
    "Esto no representa un problema, ya que el generador produce un valor a la vez, únicamente cuando se le solicita."
   ]
  },
  {
   "cell_type": "code",
   "execution_count": 10,
   "id": "2b8aeb35",
   "metadata": {},
   "outputs": [],
   "source": [
    "def numeros_naturales():\n",
    "    n = 0\n",
    "    while True:\n",
    "        yield n\n",
    "        n = n + 1\n",
    "\n",
    "secuencia = numeros_naturales()"
   ]
  },
  {
   "cell_type": "markdown",
   "id": "9d90af3e",
   "metadata": {},
   "source": [
    "Luego, pedimos los valores de a uno:"
   ]
  },
  {
   "cell_type": "code",
   "execution_count": 11,
   "id": "98a06293",
   "metadata": {},
   "outputs": [
    {
     "name": "stdout",
     "output_type": "stream",
     "text": [
      "0\n",
      "1\n",
      "2\n",
      "3\n",
      "4\n"
     ]
    }
   ],
   "source": [
    "print(next(secuencia))\n",
    "print(next(secuencia))\n",
    "print(next(secuencia))\n",
    "print(next(secuencia))\n",
    "print(next(secuencia))"
   ]
  },
  {
   "cell_type": "markdown",
   "id": "48868243",
   "metadata": {},
   "source": [
    "Vale la pena notar que un generador no tiene longitud, ya que podría ser infinito, ni permite acceder a sus elementos por índice.\n",
    "Solo sabe cómo producir el próximo valor, sin conocer de antemano cuántos quedan por generar."
   ]
  },
  {
   "cell_type": "markdown",
   "id": "45d09045",
   "metadata": {},
   "source": [
    "```python\n",
    "len(secuencia)\n",
    "```\n",
    "```cmd\n",
    "    len(secuencia)\n",
    "    ~~~^^^^^^^^^^\n",
    "TypeError: object of type 'generator' has no len()\n",
    "```\n",
    "\n",
    "\n",
    "```python\n",
    "secuencia[0]\n",
    "```\n",
    "```cmd\n",
    "    secuencia[0]\n",
    "    ~~~~~~~~~^^^\n",
    "TypeError: 'generator' object is not subscriptable\n",
    "```"
   ]
  },
  {
   "cell_type": "markdown",
   "id": "38562a7d",
   "metadata": {},
   "source": [
    "Como los generadores son iteradores, podemos recorrerlos con un bucle `for`.\n",
    "En el caso de secuencias infinitas, es necesario usar un `break` para evitar que el bucle nunca termine."
   ]
  },
  {
   "cell_type": "code",
   "execution_count": 25,
   "id": "3c521527",
   "metadata": {},
   "outputs": [
    {
     "name": "stdout",
     "output_type": "stream",
     "text": [
      "5\n",
      "6\n",
      "7\n",
      "8\n",
      "9\n"
     ]
    }
   ],
   "source": [
    "i = 0\n",
    "for n in secuencia:\n",
    "    print(n)\n",
    "    i += 1\n",
    "    if i >= 5:\n",
    "        break"
   ]
  },
  {
   "cell_type": "markdown",
   "id": "f450de56",
   "metadata": {},
   "source": [
    "Si nuestro único objetivo es recorrer los elementos del generador, podemos inicializarlo directamente en el bucle `for`."
   ]
  },
  {
   "cell_type": "code",
   "execution_count": 26,
   "id": "62e5a733",
   "metadata": {},
   "outputs": [
    {
     "name": "stdout",
     "output_type": "stream",
     "text": [
      "0\n",
      "1\n",
      "2\n",
      "3\n",
      "4\n",
      "5\n",
      "6\n",
      "7\n"
     ]
    }
   ],
   "source": [
    "for n in numeros_naturales():\n",
    "    print(n)\n",
    "    if n >= 7:\n",
    "        break"
   ]
  },
  {
   "cell_type": "markdown",
   "id": "d41f7f06",
   "metadata": {},
   "source": [
    "### Ejemplo 2: Secuencia de Fibonacci\n",
    "\n",
    "Las secuencias infinitas no se limitan a los números naturales.\n",
    "Como los generadores conservan el estado de las variables dentro de la función, también pueden usarse para producir otras secuencias, como la de Fibonacci.\n",
    "\n",
    "$$\n",
    "F_n =\n",
    "\\begin{cases}\n",
    "0 & \\text{si } n = 0 \\\\\n",
    "1 & \\text{si } n = 1 \\\\\n",
    "F_{n-1} + F_{n - 2} & \\text{si } n \\ge 2 \\\\\n",
    "\\end{cases}\n",
    "$$"
   ]
  },
  {
   "cell_type": "code",
   "execution_count": 27,
   "id": "92de86c4",
   "metadata": {},
   "outputs": [],
   "source": [
    "def fibonacci():\n",
    "    a = 0\n",
    "    b = 1\n",
    "    while True:\n",
    "        yield a\n",
    "        a, b = b, a + b"
   ]
  },
  {
   "cell_type": "markdown",
   "id": "96ba22ba",
   "metadata": {},
   "source": [
    "Si queremos los primeros 10 números de la secuencia, podemos utilizar un bucle `for` que ejecuta `next(g)` 10 veces seguidas."
   ]
  },
  {
   "cell_type": "code",
   "execution_count": 28,
   "id": "25d98f0c",
   "metadata": {},
   "outputs": [
    {
     "name": "stdout",
     "output_type": "stream",
     "text": [
      "0\n",
      "1\n",
      "1\n",
      "2\n",
      "3\n",
      "5\n",
      "8\n",
      "13\n",
      "21\n",
      "34\n"
     ]
    }
   ],
   "source": [
    "g = fibonacci()\n",
    "for _ in range(10):\n",
    "    print(next(g))"
   ]
  },
  {
   "cell_type": "markdown",
   "id": "84a27018",
   "metadata": {},
   "source": [
    "Al volver a pedir un nuevo valor a nuestro generador, este continúa avanzando en la secuencia de Fibonacci."
   ]
  },
  {
   "cell_type": "code",
   "execution_count": 29,
   "id": "8c02dc0d",
   "metadata": {},
   "outputs": [
    {
     "data": {
      "text/plain": [
       "55"
      ]
     },
     "execution_count": null,
     "metadata": {},
     "output_type": "execute_result"
    }
   ],
   "source": [
    "next(g)"
   ]
  },
  {
   "cell_type": "code",
   "execution_count": 30,
   "id": "3c5a3f74",
   "metadata": {},
   "outputs": [
    {
     "data": {
      "text/plain": [
       "89"
      ]
     },
     "execution_count": null,
     "metadata": {},
     "output_type": "execute_result"
    }
   ],
   "source": [
    "next(g)"
   ]
  },
  {
   "cell_type": "markdown",
   "id": "e63f6440",
   "metadata": {},
   "source": [
    "### Ejemplo 3: Promedio acumulado\n",
    "\n",
    "En este ejemplo se muestra un generador que procesa una secuencia numérica y va devolviendo el promedio acumulado a medida que avanza.\n",
    "\n",
    "Como los valores se producen bajo demanda, en memoria solo se conserva la secuencia original y el último promedio calculado."
   ]
  },
  {
   "cell_type": "code",
   "execution_count": 31,
   "id": "08db20af",
   "metadata": {},
   "outputs": [
    {
     "name": "stdout",
     "output_type": "stream",
     "text": [
      "Promedio acumulado: 2.00\n",
      "Promedio acumulado: 3.00\n",
      "Promedio acumulado: 5.00\n",
      "Promedio acumulado: 4.00\n",
      "Promedio acumulado: 4.60\n",
      "Promedio acumulado: 5.67\n"
     ]
    }
   ],
   "source": [
    "def promedio_acumulado(numeros):\n",
    "    numerador = 0\n",
    "    for i, numero in enumerate(numeros):\n",
    "        numerador += numero\n",
    "        yield numerador / (i + 1)\n",
    "\n",
    "valores = [2, 4, 9, 1, 7, 11] # Supongamos una lista muy grande de números\n",
    "\n",
    "for m in promedio_acumulado(valores):\n",
    "    print(f\"Promedio acumulado: {m:.2f}\")"
   ]
  },
  {
   "cell_type": "markdown",
   "id": "05279e81",
   "metadata": {},
   "source": [
    "## Expresiones generadoras\n",
    "\n",
    "Las expresiones generadoras, del inglés _generator expressions_, proveen una manera concisa para construir generadores.\n",
    "Se parecen a las _list comprehensions_, pero usan paréntesis en vez de corchetes.\n",
    "\n",
    "Supongamos una lista de números cualquiera y que usamos una _list comprehension_ para obtener el triple de cada número."
   ]
  },
  {
   "cell_type": "code",
   "execution_count": 32,
   "id": "29293e98",
   "metadata": {},
   "outputs": [
    {
     "name": "stdout",
     "output_type": "stream",
     "text": [
      "[3, 14, 2, 7, 1, 28]\n",
      "[9, 42, 6, 21, 3, 84]\n"
     ]
    }
   ],
   "source": [
    "numeros = [3, 14, 2, 7, 1, 28]\n",
    "triples = [n * 3 for n in numeros]\n",
    "\n",
    "print(numeros)\n",
    "print(triples)"
   ]
  },
  {
   "cell_type": "markdown",
   "id": "99d2b61f",
   "metadata": {},
   "source": [
    "La expresión generadora equivalente es la siguiente:"
   ]
  },
  {
   "cell_type": "code",
   "execution_count": 33,
   "id": "65f535ea",
   "metadata": {},
   "outputs": [
    {
     "data": {
      "text/plain": [
       "<generator object <genexpr> at 0x7fec045f4110>"
      ]
     },
     "execution_count": null,
     "metadata": {},
     "output_type": "execute_result"
    }
   ],
   "source": [
    "triples = (n * 3 for n in numeros)\n",
    "triples"
   ]
  },
  {
   "cell_type": "markdown",
   "id": "17639113",
   "metadata": {},
   "source": [
    "Como todo generador, implementa la estrategia de evaluación perezosa.\n",
    "Esto quiere decir que el triple de cada número se calcula justo en el momento en que se solicita, no antes. \n",
    "\n",
    "Así, podemos obtener los valores mediante un bucle:"
   ]
  },
  {
   "cell_type": "code",
   "execution_count": 34,
   "id": "9945468f",
   "metadata": {},
   "outputs": [
    {
     "name": "stdout",
     "output_type": "stream",
     "text": [
      "9\n",
      "42\n",
      "6\n",
      "21\n",
      "3\n",
      "84\n"
     ]
    }
   ],
   "source": [
    "for n in triples:\n",
    "    print(n)"
   ]
  },
  {
   "cell_type": "markdown",
   "id": "5f119ba0",
   "metadata": {},
   "source": [
    "Un generador creado con una expresión generadora es equivalente a uno definido con una función generadora.\n",
    "En ambos casos, si se intenta obtener un valor de un generador ya agotado, se producirá un error.\n",
    "\n",
    "```python\n",
    "next(triples)\n",
    "```\n",
    "```cmd\n",
    "    next(triples)\n",
    "    ~~~~^^^^^^^^^\n",
    "StopIteration\n",
    "```"
   ]
  },
  {
   "cell_type": "markdown",
   "id": "af2d29c7",
   "metadata": {},
   "source": [
    "Y al intentar obtener una lista a partir de un generador agotado, obtendremos una lista vacía."
   ]
  },
  {
   "cell_type": "code",
   "execution_count": 36,
   "id": "06c71832",
   "metadata": {},
   "outputs": [
    {
     "data": {
      "text/plain": [
       "[]"
      ]
     },
     "execution_count": null,
     "metadata": {},
     "output_type": "execute_result"
    }
   ],
   "source": [
    "list(triples)"
   ]
  },
  {
   "cell_type": "markdown",
   "id": "1e584bc1",
   "metadata": {},
   "source": [
    "Además de ser perezosos, los generadores son de único uso.\n",
    "Sus valores se generan a medida que se solicitan y no se guardan en memoria, de modo que, una vez consumidos, no es posible volver a iterarlos.\n",
    "\n",
    "Esta aparente limitación es en realidad una ventaja.\n",
    "A diferencia de una lista, que construye y guarda todos sus elementos en memoria, un generador solo define una receta para producirlos cuando se necesiten.\n",
    "En el siguiente ejemplo se muestra cómo esto impacta en el consumo de memoria frente a una lista."
   ]
  },
  {
   "cell_type": "code",
   "execution_count": 37,
   "id": "ea155f3b",
   "metadata": {},
   "outputs": [
    {
     "name": "stdout",
     "output_type": "stream",
     "text": [
      "39064728\n",
      "200\n"
     ]
    }
   ],
   "source": [
    "import sys\n",
    "\n",
    "# Enteros divisibles por 3 o 5 entre 1 y 10,000,000\n",
    "lista = [n for n in range(1, 10_000_001) if n % 3 == 0 or n % 5 == 0]\n",
    "genexpr = (n for n in range(1, 10_000_001) if n % 3 == 0 or n % 5 == 0)\n",
    "\n",
    "print(sys.getsizeof(lista))   # bytes\n",
    "print(sys.getsizeof(genexpr)) # bytes"
   ]
  },
  {
   "cell_type": "markdown",
   "id": "4780d3f1",
   "metadata": {},
   "source": [
    "Y a partir de ambos objetos se puede computar, por ejemplo, la suma."
   ]
  },
  {
   "cell_type": "code",
   "execution_count": 38,
   "id": "cf4596b7",
   "metadata": {},
   "outputs": [
    {
     "data": {
      "text/plain": [
       "(23333341666668, 23333341666668)"
      ]
     },
     "execution_count": null,
     "metadata": {},
     "output_type": "execute_result"
    }
   ],
   "source": [
    "sum(lista), sum(genexpr)"
   ]
  },
  {
   "cell_type": "markdown",
   "id": "5b40b7bb",
   "metadata": {},
   "source": [
    "En resumen, mientras que una **lista** es una **colección de valores**, un **generador** es una **receta para producir valores**."
   ]
  },
  {
   "cell_type": "markdown",
   "id": "d2e57ed3",
   "metadata": {},
   "source": [
    "## Iterables e iteradores {#sec-iteradores}\n",
    "\n",
    "A lo largo de este capítulo dijimos varias veces que **los generadores son iteradores**, aunque todavía no definimos con precisión qué significa eso.\n",
    "\n",
    "Lo que sí sabemos es que un objeto es **iterable** cuando puede recorrerse con un bucle `for`.\n",
    "En Python, las listas, las cadenas y los diccionarios son ejemplos de objetos iterables, por lo que los siguientes bloques de código funcionan sin problemas:\n",
    "\n",
    "```python\n",
    "for i in [10, 55, 2]:\n",
    "    print(i + 5)\n",
    "\n",
    "for c in \"palabras\":\n",
    "    print(c.upper())\n",
    "\n",
    "for k in {\"nombre\": \"Juan\", \"apellido\": \"Pérez\"}:\n",
    "    print(k)\n",
    "```"
   ]
  },
  {
   "cell_type": "markdown",
   "id": "dad38083",
   "metadata": {},
   "source": [
    "Como ya vimos que una lista se puede recorrer con un bucle, podríamos preguntarnos si también es posible usar la función `next` para obtener su siguiente elemento."
   ]
  },
  {
   "cell_type": "code",
   "execution_count": 39,
   "id": "fe9f5900",
   "metadata": {},
   "outputs": [],
   "source": [
    "nums = [-10, 0, 10]"
   ]
  },
  {
   "cell_type": "markdown",
   "id": "854c1b96",
   "metadata": {},
   "source": [
    "```python\n",
    "next(nums)\n",
    "```\n",
    "```cmd\n",
    "    next(nums)\n",
    "    ~~~~^^^^^^\n",
    "TypeError: 'list' object is not an iterator\n",
    "```\n",
    "\n",
    "Sin embargo, al hacerlo obtenemos un `TypeError` que indica que la lista no es un **iterador**.\n",
    "Lo mismo ocurre si intentamos usar `next` directamente con una cadena o un diccionario.\n",
    "\n",
    "```python\n",
    "next(\"palabra\")\n",
    "```\n",
    "```cmd\n",
    "    next(\"palabra\")\n",
    "    ~~~~^^^^^^^^^^^\n",
    "TypeError: 'str' object is not an iterator\n",
    "```\n",
    "\n",
    "```python\n",
    "next({\"nombre\": \"Juan\", \"apellido\": \"Pérez\"})\n",
    "```\n",
    "```cmd\n",
    "    next({\"nombre\": \"Juan\", \"apellido\": \"Pérez\"})\n",
    "    ~~~~^^^^^^^^^^^^^^^^^^^^^^^^^^^^^^^^^^^^^^^^^\n",
    "TypeError: 'dict' object is not an iterator\n",
    "```"
   ]
  },
  {
   "cell_type": "markdown",
   "id": "c93ce498",
   "metadata": {},
   "source": [
    "El error que aparece al usar `next` sobre una lista, una cadena o un diccionario muestra que no basta con que un objeto sea iterable para poder aplicarle `next` directamente.\n",
    "\n",
    "Lo que sucede, es que, en realidad, nuestra definición inicial de iterable era incompleta: un objeto es **iterable** cuando puede generar un **iterador** a partir de él.\n",
    "\n",
    "Luego, es el iterador que conoce cómo producir los valores uno a uno y, por eso, es sobre el iterador (y no sobre el iterable) que Python puede aplicar `next` para avanzar en la secuencia.\n",
    "\n",
    "Para crear un iterador a partir de un iterable usamos `iter`."
   ]
  },
  {
   "cell_type": "code",
   "execution_count": 40,
   "id": "5ece3998",
   "metadata": {},
   "outputs": [
    {
     "data": {
      "text/plain": [
       "<list_iterator at 0x7fec045de6b0>"
      ]
     },
     "execution_count": null,
     "metadata": {},
     "output_type": "execute_result"
    }
   ],
   "source": [
    "iterador = iter(nums)\n",
    "iterador"
   ]
  },
  {
   "cell_type": "markdown",
   "id": "73abbee0",
   "metadata": {},
   "source": [
    "Y ahora sí es posible avanzar a través de los elementos de la lista original:"
   ]
  },
  {
   "cell_type": "code",
   "execution_count": 41,
   "id": "8a4764fb",
   "metadata": {},
   "outputs": [
    {
     "data": {
      "text/plain": [
       "-10"
      ]
     },
     "execution_count": null,
     "metadata": {},
     "output_type": "execute_result"
    }
   ],
   "source": [
    "next(iterador)"
   ]
  },
  {
   "cell_type": "code",
   "execution_count": 42,
   "id": "e9b4f761",
   "metadata": {},
   "outputs": [
    {
     "data": {
      "text/plain": [
       "0"
      ]
     },
     "execution_count": null,
     "metadata": {},
     "output_type": "execute_result"
    }
   ],
   "source": [
    "next(iterador)"
   ]
  },
  {
   "cell_type": "code",
   "execution_count": 43,
   "id": "f63ae990",
   "metadata": {},
   "outputs": [
    {
     "data": {
      "text/plain": [
       "10"
      ]
     },
     "execution_count": null,
     "metadata": {},
     "output_type": "execute_result"
    }
   ],
   "source": [
    "next(iterador)"
   ]
  },
  {
   "cell_type": "markdown",
   "id": "64d5e040",
   "metadata": {},
   "source": [
    "```python\n",
    "next(iterador)\n",
    "```\n",
    "```cmd\n",
    "    next(iterador)\n",
    "    ~~~~^^^^^^^^^^\n",
    "StopIteration\n",
    "```"
   ]
  },
  {
   "cell_type": "markdown",
   "id": "a9238cb0",
   "metadata": {},
   "source": [
    "Por último, vale la pena señalar que los iteradores solo pueden construirse a partir de objetos **iterables**.\n",
    "Por ejemplo, un número entero no es iterable, por lo que no es posible obtener un iterador a partir de él.\n",
    "\n",
    "```python\n",
    "iter(10)\n",
    "```\n",
    "```cmd\n",
    "    iter(10)\n",
    "    ~~~~^^^^\n",
    "TypeError: 'int' object is not iterable\n",
    "```"
   ]
  },
  {
   "cell_type": "markdown",
   "id": "3d192e94",
   "metadata": {},
   "source": [
    "En resumen, en Python **solo se puede iterar sobre iteradores**.\n",
    "Un objeto es **iterable** cuando puede generar un iterador a partir de él, y es este último el que sabe cómo devolver los elementos uno a uno mediante la función `next`.\n",
    "Cuando ya no quedan más valores por producir, el iterador eleva la excepción `StopIteration`.\n",
    "\n",
    "Los **generadores** son un caso particular de iteradores: producen sus valores bajo demanda y mantienen el estado entre llamadas.\n",
    "\n",
    "Finalmente, al usar un bucle `for` con un iterable, todo este mecanismo ocurre de forma automática: Python crea el iterador por nosotros y se encarga de avanzar en la secuencia hasta agotarla."
   ]
  }
 ],
 "metadata": {
  "language_info": {
   "name": "python"
  }
 },
 "nbformat": 4,
 "nbformat_minor": 5
}
