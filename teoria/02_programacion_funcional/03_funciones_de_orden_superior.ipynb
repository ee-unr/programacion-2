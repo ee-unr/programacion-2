{
 "cells": [
  {
   "cell_type": "markdown",
   "id": "2bc3336d",
   "metadata": {},
   "source": [
    "---\n",
    "title: \"3 - Funciones de orden superior\"\n",
    "toc: true\n",
    "---"
   ]
  },
  {
   "cell_type": "markdown",
   "id": "cb62e40a",
   "metadata": {},
   "source": [
    "* Funciones de orden superior: map, filter, reduce."
   ]
  }
 ],
 "metadata": {
  "language_info": {
   "name": "plaintext"
  }
 },
 "nbformat": 4,
 "nbformat_minor": 5
}
