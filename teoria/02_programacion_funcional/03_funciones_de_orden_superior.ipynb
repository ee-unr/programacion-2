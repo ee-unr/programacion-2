{
 "cells": [
  {
   "cell_type": "markdown",
   "id": "2bc3336d",
   "metadata": {},
   "source": [
    "---\n",
    "title: \"3 - Funciones de orden superior\"\n",
    "toc: true\n",
    "---"
   ]
  },
  {
   "cell_type": "markdown",
   "id": "a87296dc",
   "metadata": {},
   "source": [
    "## Introducción\n",
    "\n",
    "Las funciones de orden superior son una herramienta muy importante en la programación funcional.\n",
    "A lo largo de esta unidad, trabajaremos con las siguientes variedades de funciones de orden superior:\n",
    "\n",
    "* Funciones que aceptan funciones como argumentos.\n",
    "* Funciones que devuelven una función como resultado.\n",
    "* Funciones que aceptan funciones como argumentos y devuelven una función como resultado.\n",
    "\n",
    "En este capítulo comenzamos enfocándonos en las funciones de orden superior más elementales: `map`, `filter` y `reduce`; todas ellas reciben funciones como argumentos.\n",
    "Luego, aprenderemos sobre las _comprehensions_, que constituyen la alternativa moderna y Pythonica a las funciones mencionadas anteriormente.\n",
    "Finalmente, trabajaremos con funciones que devuelven funciones cuando exploremos evaluación parcial de funciones y el uso de decoradores."
   ]
  },
  {
   "cell_type": "markdown",
   "id": "d7a0f809",
   "metadata": {},
   "source": [
    "## Pilares fundamentales"
   ]
  },
  {
   "cell_type": "markdown",
   "id": "479a194f",
   "metadata": {},
   "source": [
    "Las funciones `map`, `filter` y `reduce` son funciones de orden superior fundamentales en la programación funcional. Actúan como primitivas básicas para procesar y transformar secuencias, y muchas otras operaciones funcionales pueden construirse a partir de ellas o expresarse en términos de estas.\n",
    "\n",
    "Las primeras dos, `map` y `filter`, están disponibles por defecto en nuestra sesión de Python (ya que son funciones _built-in_), mientras que a `reduce` la tenemos que importar desde el módulo estándar `functools`."
   ]
  },
  {
   "cell_type": "markdown",
   "id": "c14aaee6",
   "metadata": {},
   "source": [
    "### _Map_\n",
    "\n",
    "Supongamos que tenemos una secuencia de palabras y queremos invertir el orden de los caracteres de cada una.\n",
    "Para ello, vamos a rebanadar cada cadena desde el principio al final usando un paso de `-1`. Por ejemplo:"
   ]
  },
  {
   "cell_type": "code",
   "execution_count": 2,
   "id": "7ae7ba8d",
   "metadata": {},
   "outputs": [
    {
     "data": {
      "text/plain": [
       "'asoc'"
      ]
     },
     "execution_count": null,
     "metadata": {},
     "output_type": "execute_result"
    }
   ],
   "source": [
    "\"cosa\"[::-1]"
   ]
  },
  {
   "cell_type": "markdown",
   "id": "0a6ae838",
   "metadata": {},
   "source": [
    "Si quisiéramos obtener una lista con las palabras invertidas, podríamos crear una nueva lista, recorrer la original con un bucle `for`, invertir cada palabra y guardarla en la lista nueva."
   ]
  },
  {
   "cell_type": "code",
   "execution_count": 3,
   "id": "c8af2bee",
   "metadata": {},
   "outputs": [
    {
     "name": "stdout",
     "output_type": "stream",
     "text": [
      "Palabras originales:\n",
      "['hola', 'mate', 'somos', ' libro', 'conocer', 'anilina', 'programa']\n",
      "\n",
      "\n",
      "Palabras invertidas:\n",
      "['aloh', 'etam', 'somos', 'orbil ', 'reconoc', 'anilina', 'amargorp']\n"
     ]
    }
   ],
   "source": [
    "palabras = [\"hola\", \"mate\", \"somos\",\" libro\", \"conocer\", \"anilina\", \"programa\"]\n",
    "palabras_invertidas = []\n",
    "\n",
    "for palabra in palabras:\n",
    "    palabras_invertidas.append(palabra[::-1])\n",
    "\n",
    "print(\"Palabras originales:\", palabras, \"\\n\", sep=\"\\n\")\n",
    "print(\"Palabras invertidas:\", palabras_invertidas, sep=\"\\n\")"
   ]
  },
  {
   "cell_type": "markdown",
   "id": "6dca1d98",
   "metadata": {},
   "source": [
    "La alternativa funcional consiste en utilizar `map` para **aplicar una función a cada palabra de la secuencia**.\n",
    "En este caso, aplicamos la función `invertir`, que invierte los caracteres de una palabra, a cada elemento de la lista `palabras`."
   ]
  },
  {
   "cell_type": "code",
   "execution_count": 4,
   "id": "bb8b117f",
   "metadata": {},
   "outputs": [
    {
     "data": {
      "text/plain": [
       "['aloh', 'etam', 'somos', 'orbil ', 'reconoc', 'anilina', 'amargorp']"
      ]
     },
     "execution_count": null,
     "metadata": {},
     "output_type": "execute_result"
    }
   ],
   "source": [
    "def invertir(x):\n",
    "    return x[::-1]\n",
    "\n",
    "list(map(invertir, palabras))"
   ]
  },
  {
   "cell_type": "markdown",
   "id": "60d5edaf",
   "metadata": {},
   "source": [
    "Así, se obtiene una nueva lista con las palabras invertidas, sin necesidad de iterar manualmente con un bucle `for`.\n",
    "\n",
    "Si quisiéramos que el programa fuese aún más conciso, podríamos usar una función anónima en vez de una función regular:"
   ]
  },
  {
   "cell_type": "code",
   "execution_count": 5,
   "id": "0feee274",
   "metadata": {},
   "outputs": [
    {
     "data": {
      "text/plain": [
       "['aloh', 'etam', 'somos', 'orbil ', 'reconoc', 'anilina', 'amargorp']"
      ]
     },
     "execution_count": null,
     "metadata": {},
     "output_type": "execute_result"
    }
   ],
   "source": [
    "list(map(lambda x: x[::-1], palabras))"
   ]
  },
  {
   "cell_type": "markdown",
   "id": "64ba81bb",
   "metadata": {},
   "source": [
    "::: {.callout-note}\n",
    "##### El objeto `map` 🔍\n",
    "\n",
    "En el ejemplo anterior usamos `list` para convertir el resultado de `map` en una lista.\n",
    "Este paso, que puede parecer innecesario, es fundamental si queremos obtener una lista como resultado final.\n",
    "De lo contrario, la llamada a `map` devuelve un objeto de tipo `map`.\n",
    "\n",
    "```python\n",
    "map(lambda x: x[::-1], palabras)\n",
    "```\n",
    "```cmd\n",
    "<map object at 0x7fd2fc1ad360>\n",
    "```\n",
    "\n",
    "Este objeto, **perezoso** e **iterable**, puede recorrerse o convertirse en otras colecciones como listas, tuplas o conjuntos:\n",
    "\n",
    "```python\n",
    "list(map(lambda x: x[::-1], palabras))\n",
    "```\n",
    "```cmd\n",
    "['aloh', 'etam', 'somos', 'orbil ', 'reconoc', 'anilina', 'amargorp']\n",
    "```\n",
    ":::"
   ]
  },
  {
   "cell_type": "markdown",
   "id": "4d242812",
   "metadata": {},
   "source": [
    "#### `map` con datos complejos\n",
    "\n",
    "En el ejemplo anterior se usó `map` sobre una secuencia simple de cadenas de texto. Sin embargo, eso no implica que su uso se limite a casos sencillos.\n",
    "\n",
    "Supongamos ahora que tenemos una lista anidada de números, es decir, una lista que contiene otras listas con valores numéricos:"
   ]
  },
  {
   "cell_type": "code",
   "execution_count": 6,
   "id": "c241a909",
   "metadata": {},
   "outputs": [],
   "source": [
    "ventas = [\n",
    "    [22.5, 9.3, 11.0],\n",
    "    [5.4, 22.5],\n",
    "    [3.0, 3.0, 12.9, 7.5],\n",
    "]"
   ]
  },
  {
   "cell_type": "markdown",
   "id": "0afb4392",
   "metadata": {},
   "source": [
    "Si queremos calcular el total de cada sublista, podemos combinar `map` con la función `sum`. Esto aplica `sum` a cada elemento de la lista `ventas`, generando como resultado una nueva lista con los totales de cada sublista."
   ]
  },
  {
   "cell_type": "code",
   "execution_count": 7,
   "id": "8344f85e",
   "metadata": {},
   "outputs": [
    {
     "data": {
      "text/plain": [
       "[42.8, 27.9, 26.4]"
      ]
     },
     "execution_count": null,
     "metadata": {},
     "output_type": "execute_result"
    }
   ],
   "source": [
    "list(map(sum, ventas))"
   ]
  },
  {
   "cell_type": "markdown",
   "id": "33d31ae7",
   "metadata": {},
   "source": [
    "De manera similar, se puede obtener el mínimo, el máximo, la media u otra medida de interés aplicando la función correspondiente a cada sublista.\n",
    "\n",
    "Usando una combinación más compleja de `map`s y expresiones `lambda`, se puede determinar cuáles sublistas de `ventas` contienen al menos un valor mayor a 20."
   ]
  },
  {
   "cell_type": "code",
   "execution_count": 8,
   "id": "8d873d5f",
   "metadata": {},
   "outputs": [
    {
     "data": {
      "text/plain": [
       "[True, True, False]"
      ]
     },
     "execution_count": null,
     "metadata": {},
     "output_type": "execute_result"
    }
   ],
   "source": [
    "list(\n",
    "    map(\n",
    "        lambda sublista: any(map(lambda x: x > 20,  sublista)),\n",
    "        ventas\n",
    "    )\n",
    ")"
   ]
  },
  {
   "cell_type": "markdown",
   "id": "156d48d6",
   "metadata": {},
   "source": [
    "Como puede observarse, un programa que utiliza `map` junto con expresiones `lambda` puede volverse difícil de leer y comprender rápidamente, especialmente a medida que la lógica se vuelve más compleja.\n",
    "\n",
    "Para finalizar este listado de ejemplos, observemos uno donde se crea un diccionario a partir del `map`, en vez de una lista. \n",
    "\n",
    "Se cuenta con una lista de diccionarios. Cada diccionario contiene el nombre y las calificaciones de una persona.\n",
    "Nuestro objetivo es obtener un nuevo diccionario que tenga por claves al nombre de la persona, y por valor a la nota promedio."
   ]
  },
  {
   "cell_type": "code",
   "execution_count": 9,
   "id": "383a8c15",
   "metadata": {},
   "outputs": [],
   "source": [
    "notas = [\n",
    "    {\n",
    "        \"nombre\": \"Mariano\",\n",
    "        \"notas\": [6, 9, 9, 8]\n",
    "    },\n",
    "    {\n",
    "        \"nombre\": \"Daniela\",\n",
    "        \"notas\": [6, 7, 7, 8]\n",
    "    },\n",
    "    {\n",
    "        \"nombre\": \"Sofía\",\n",
    "        \"notas\": [8, 6, 9, 8]\n",
    "    },\n",
    "]"
   ]
  },
  {
   "cell_type": "markdown",
   "id": "b74a3d61",
   "metadata": {},
   "source": [
    "Sin utilizar un enfoque funcional, una solución posible es la siguiente:"
   ]
  },
  {
   "cell_type": "code",
   "execution_count": 10,
   "id": "76a1d02b",
   "metadata": {},
   "outputs": [
    {
     "data": {
      "text/plain": [
       "{'Mariano': 8.0, 'Daniela': 7.0, 'Sofía': 7.75}"
      ]
     },
     "execution_count": null,
     "metadata": {},
     "output_type": "execute_result"
    }
   ],
   "source": [
    "def media(x):\n",
    "    return sum(x) / len(x)\n",
    "\n",
    "promedios = {}\n",
    "\n",
    "for datum in notas:\n",
    "    promedios[datum[\"nombre\"]] = media(datum[\"notas\"])\n",
    "\n",
    "promedios"
   ]
  },
  {
   "cell_type": "markdown",
   "id": "df5657f8",
   "metadata": {},
   "source": [
    "En cambio, utilizando `map`:"
   ]
  },
  {
   "cell_type": "code",
   "execution_count": 11,
   "id": "e5c2f660",
   "metadata": {},
   "outputs": [
    {
     "data": {
      "text/plain": [
       "{'Mariano': 8.0, 'Daniela': 7.0, 'Sofía': 7.75}"
      ]
     },
     "execution_count": null,
     "metadata": {},
     "output_type": "execute_result"
    }
   ],
   "source": [
    "dict(map(lambda datum: (datum[\"nombre\"], media(datum[\"notas\"])), notas))"
   ]
  },
  {
   "cell_type": "markdown",
   "id": "ac79d9da",
   "metadata": {},
   "source": [
    "La clave está en notar que la expresión `lambda` **devuelve una tupla de dos elementos**, donde el primero es el nombre y el segundo, la nota promedio.\n",
    "A partir de estos pares `(str, float)`, `dict` puede construir directamente un diccionario con los `str` en las claves y los `float` en los valores."
   ]
  },
  {
   "cell_type": "markdown",
   "id": "3161e966",
   "metadata": {},
   "source": [
    "#### `map` con múltiples iterabes\n",
    "\n",
    "Hasta ahora hemos utilizado `map` con funciones que se aplican sobre los elementos de un único iterable.\n",
    "Sin embargo, `map` también acepta múltiples iterables y los recorre en paralelo, lo que la convierte en una **función variádica**.\n",
    "De este modo, se puede usar `map` para aplicar funciones que toman más de un argumento.\n",
    "\n",
    "Supongamos que queremos redondear un listado de números utilizando diferentes niveles de precisión. Para redondear un único número podemos usar directamente `round`:"
   ]
  },
  {
   "cell_type": "code",
   "execution_count": 12,
   "id": "5edfe929",
   "metadata": {},
   "outputs": [
    {
     "data": {
      "text/plain": [
       "29.1295"
      ]
     },
     "execution_count": null,
     "metadata": {},
     "output_type": "execute_result"
    }
   ],
   "source": [
    "round(29.12951138, 4)"
   ]
  },
  {
   "cell_type": "markdown",
   "id": "45ec01e3",
   "metadata": {},
   "source": [
    "Si quisiéramos redonear múltiples números en una lista, usando el mismo nivel de precisión, podemos usar `map` y `round`:"
   ]
  },
  {
   "cell_type": "code",
   "execution_count": 13,
   "id": "cb96d59f",
   "metadata": {},
   "outputs": [
    {
     "data": {
      "text/plain": [
       "[30.607, 78.123, 61.95, 68.788, 55.6, 94.976, 90.412, 38.727, 21.302, 66.394]"
      ]
     },
     "execution_count": null,
     "metadata": {},
     "output_type": "execute_result"
    }
   ],
   "source": [
    "numeros = [\n",
    "    30.60726375,\n",
    "    78.12297368,\n",
    "    61.94972186,\n",
    "    68.78842783,\n",
    "    55.60016942,\n",
    "    94.9760221,\n",
    "    90.41151716,\n",
    "    38.72727347,\n",
    "    21.30193307,\n",
    "    66.39407577\n",
    "]\n",
    "list(map(lambda x: round(x, 3), numeros))"
   ]
  },
  {
   "cell_type": "markdown",
   "id": "e19f89a2",
   "metadata": {},
   "source": [
    "¿Y si quisiéramos aplicar diferentes niveles de precisión a cada número? Para ello, **también podemos usar `map`**.\n",
    "Definimos una función que reciba dos argumentos y luego iteramos en paralelo sobre dos iterables: uno con los números y otro con las precisiones correspondientes."
   ]
  },
  {
   "cell_type": "code",
   "execution_count": 14,
   "id": "f624aa7d",
   "metadata": {},
   "outputs": [
    {
     "data": {
      "text/plain": [
       "[30.61, 78.12, 61.95, 68.788, 55.6002, 94.976, 90.41152, 38.72727, 21.3, 66.39]"
      ]
     },
     "execution_count": null,
     "metadata": {},
     "output_type": "execute_result"
    }
   ],
   "source": [
    "precisiones = [2, 2, 3, 3, 4, 4, 5, 5, 2, 2]\n",
    "list(map(lambda x, y: round(x, y), numeros, precisiones))"
   ]
  },
  {
   "cell_type": "markdown",
   "id": "e125643b",
   "metadata": {},
   "source": [
    "::: {.callout-note}\n",
    "##### ¿Qué pasa si un iterable es más corto que el otro? 🤔\n",
    "\n",
    "Cuando se recorren múltiples iterables con `map`, la iteración se detiene tan pronto como se agota el iterable más corto.\n",
    "Por ejemplo, si tenemos 10 números pero solo 5 precisiones, `map` aplicará la función únicamente a los primeros 5 pares de elementos:\n",
    "\n",
    "```python\n",
    "precisiones = [1, 2, 3, 4, 5]\n",
    "list(map(lambda x, y: round(x, y), numeros, precisiones))\n",
    "```\n",
    "```cmd\n",
    "[30.6, 78.12, 61.95, 68.7884, 55.60017]\n",
    "```\n",
    ":::"
   ]
  },
  {
   "cell_type": "markdown",
   "id": "47778596",
   "metadata": {},
   "source": [
    "### _Filter_\n",
    "\n",
    "`filter` se utiliza para seleccionar —o, más precisamente, filtrar— elementos de un iterable según el resultado de aplicar una función.\n",
    "A diferencia de `map`, la función usada por `filter` se aplica sobre los elementos de **un solo iterable** y **debe devolver un valor _booleano_**.\n",
    "El resultado es un nuevo iterable que contiene únicamente los elementos para los que la función retorna `True`.\n",
    "\n",
    "Como ejemplo del uso de `filter`, vamos a seleccionar las notas menores a 6 a partir de una lista de calificaciones."
   ]
  },
  {
   "cell_type": "code",
   "execution_count": 15,
   "id": "2c649d94",
   "metadata": {},
   "outputs": [
    {
     "data": {
      "text/plain": [
       "[5, 4, 5, 3, 4]"
      ]
     },
     "execution_count": null,
     "metadata": {},
     "output_type": "execute_result"
    }
   ],
   "source": [
    "notas = [6, 9, 6, 5, 7, 4, 5, 8, 3, 10, 9, 4, 7, 8]\n",
    "list(filter(lambda x: x < 6, notas))"
   ]
  },
  {
   "cell_type": "markdown",
   "id": "3115fa02",
   "metadata": {},
   "source": [
    "De este modo, resulta sencillo calcular el promedio de las notas de aquellos que no aprobaron:"
   ]
  },
  {
   "cell_type": "code",
   "execution_count": 16,
   "id": "e3162277",
   "metadata": {},
   "outputs": [
    {
     "data": {
      "text/plain": [
       "4.2"
      ]
     },
     "execution_count": null,
     "metadata": {},
     "output_type": "execute_result"
    }
   ],
   "source": [
    "media(list(filter(lambda x: x < 6, notas)))"
   ]
  },
  {
   "cell_type": "markdown",
   "id": "b8f625a7",
   "metadata": {},
   "source": [
    "Retomando el ejemplo del listado de palabras que se querían invertir, se podría usar `filter` para seleccionar solo aquellas palabras que sean palíndromos, es decir, capicúa."
   ]
  },
  {
   "cell_type": "code",
   "execution_count": 17,
   "id": "4f8d3739",
   "metadata": {},
   "outputs": [
    {
     "data": {
      "text/plain": [
       "['somos', 'anilina']"
      ]
     },
     "execution_count": null,
     "metadata": {},
     "output_type": "execute_result"
    }
   ],
   "source": [
    "palabras = [\"hola\", \"mate\", \"somos\",\" libro\", \"conocer\", \"anilina\", \"programa\"]\n",
    "capicuas = list(filter(lambda p: p[::-1] == p, palabras))\n",
    "capicuas"
   ]
  },
  {
   "cell_type": "markdown",
   "id": "45dff955",
   "metadata": {},
   "source": [
    "Naturalmente, `filter` también puede utilizarse para filtrar objetos más complejos.\n",
    "Por ejemplo, si tenemos una lista de diccionarios con información de estudiantes (nombre, ciudad de origen, edad y fecha de inscripción),\n",
    "podemos usar `filter` para seleccionar aquellos que cumplan **una o más condiciones**.\n",
    "En ese caso, el valor _booleano_ que devuelve la función se construye combinando condiciones mediante operadores lógicos como `and`."
   ]
  },
  {
   "cell_type": "code",
   "execution_count": 18,
   "id": "2570d3ce",
   "metadata": {},
   "outputs": [
    {
     "data": {
      "text/plain": [
       "[{'nombre': 'Julieta', 'ciudad': 'Rosario', 'edad': 19, 'inscripcion': 2025}]"
      ]
     },
     "execution_count": null,
     "metadata": {},
     "output_type": "execute_result"
    }
   ],
   "source": [
    "datos = [\n",
    "    {\"nombre\": \"Agustina\", \"ciudad\": \"Casilda\", \"edad\": 18, \"inscripcion\": 2025},\n",
    "    {\"nombre\": \"Emiliano\", \"ciudad\": \"Rosario\", \"edad\": 21, \"inscripcion\": 2024},\n",
    "    {\"nombre\": \"David\", \"ciudad\": \"Pergamino\", \"edad\": 19, \"inscripcion\": 2024},\n",
    "    {\"nombre\": \"Julieta\", \"ciudad\": \"Rosario\", \"edad\": 19, \"inscripcion\": 2025},\n",
    "    {\"nombre\": \"Victoria\", \"ciudad\": \"Chañar Ladeado\", \"edad\": 18, \"inscripcion\": 2025},\n",
    "    {\"nombre\": \"Fernando\", \"ciudad\": \"Rosario\", \"edad\": 20, \"inscripcion\": 2024},\n",
    "    {\"nombre\": \"Mateo\", \"ciudad\": \"Pérez\", \"edad\": 23, \"inscripcion\": 2025},\n",
    "    {\"nombre\": \"Lucía\", \"ciudad\": \"Rosario\", \"edad\": 22, \"inscripcion\": 2022},\n",
    "    {\"nombre\": \"Joaquín\", \"ciudad\": \"Casilda\", \"edad\": 19, \"inscripcion\": 2025},\n",
    "    {\"nombre\": \"Micaela\", \"ciudad\": \"Rosario\", \"edad\": 18, \"inscripcion\": 2024},\n",
    "]\n",
    "\n",
    "list(filter(lambda x: x[\"ciudad\"] == \"Rosario\" and x[\"inscripcion\"] == 2025, datos))"
   ]
  },
  {
   "cell_type": "markdown",
   "id": "0e2bd6ba",
   "metadata": {},
   "source": [
    "### _Reduce_\n",
    "\n",
    "La función `reduce` permite **reducir** una secuencia a un único valor aplicando de forma sucesiva una función de dos argumentos sobre sus elementos.\n",
    "\n",
    "Para utilizarla, es necesario importarla desde el módulo estándar `functools`:"
   ]
  },
  {
   "cell_type": "code",
   "execution_count": 19,
   "id": "85abd668",
   "metadata": {},
   "outputs": [],
   "source": [
    "from functools import reduce"
   ]
  },
  {
   "cell_type": "markdown",
   "id": "af49c8bd",
   "metadata": {},
   "source": [
    "`reduce` aplica la función acumulando resultados de a pares, desde el primer elemento hasta el último. Por ejemplo:\n",
    "\n",
    "```python\n",
    "reduce(lambda x, y: x + y, [1, 2, 3, 4, 5])\n",
    "```\n",
    "\n",
    "equivale a:\n",
    "\n",
    "```python\n",
    "((((1 + 2) + 3) + 4) + 5)\n",
    "```\n",
    "\n",
    "En este caso, es simplemente una forma más rebuscada de escribir `sum([1, 2, 3, 4, 5])` en Python."
   ]
  },
  {
   "cell_type": "markdown",
   "id": "93202adf",
   "metadata": {},
   "source": [
    "Para entender cómo funciona el proceso de acumulación en `reduce`, podemos definir una función que imprima los valores de sus argumentos en cada paso:"
   ]
  },
  {
   "cell_type": "code",
   "execution_count": 20,
   "id": "c56f3642",
   "metadata": {},
   "outputs": [
    {
     "name": "stdout",
     "output_type": "stream",
     "text": [
      "x=1, y=2\n",
      "x=3, y=3\n",
      "x=6, y=4\n",
      "x=10, y=5\n"
     ]
    },
    {
     "data": {
      "text/plain": [
       "15"
      ]
     },
     "execution_count": null,
     "metadata": {},
     "output_type": "execute_result"
    }
   ],
   "source": [
    "def sumar(x, y):\n",
    "    print(f\"x={x}, y={y}\")\n",
    "    return x + y\n",
    "\n",
    "reduce(sumar, [1, 2, 3, 4, 5])"
   ]
  },
  {
   "cell_type": "markdown",
   "id": "1112dfc0",
   "metadata": {},
   "source": [
    "En la primera llamada, `x` e `y` son los dos primeros elementos de la secuencia.\n",
    "En la segunda, `x` es el resultado de la llamada anterior, e `y` es el siguiente elemento de la secuencia.\n",
    "Este proceso continúa hasta que se recorre toda la lista. En resumen:\n",
    "\n",
    "* `x` representa el valor acumulado hasta el momento, e\n",
    "* `y` es el nuevo elemento a combinar.\n",
    "\n",
    "Así, `reduce` va aplicando la función paso a paso, acumulando resultados hasta obtener un único valor final."
   ]
  },
  {
   "cell_type": "markdown",
   "id": "053c03a5",
   "metadata": {},
   "source": [
    "Muchas operaciones comunes, como sumas, productos, mínimos o máximos, pueden expresarse mediante reducciones.\n",
    "Por ejemplo, es posible calcular el factorial de un número utilizando una `reduce`:"
   ]
  },
  {
   "cell_type": "code",
   "execution_count": 21,
   "id": "f56bb43e",
   "metadata": {},
   "outputs": [
    {
     "data": {
      "text/plain": [
       "120"
      ]
     },
     "execution_count": null,
     "metadata": {},
     "output_type": "execute_result"
    }
   ],
   "source": [
    "def factorial(n):\n",
    "    return reduce(lambda x, y: x * y, range(1, n + 1))\n",
    "\n",
    "factorial(5)"
   ]
  },
  {
   "cell_type": "markdown",
   "id": "8eb5ac04",
   "metadata": {},
   "source": [
    "La reducción mediante la multiplicación de dos números, aplicada a la secuencia del 1 al `n`, da como resultado el factorial de `n`.\n",
    "\n",
    "Finalmente, podemos ver que combinando una función que devuelve el mayor de dos números y una reducción, es posible obtener el máximo de una secuencia."
   ]
  },
  {
   "cell_type": "code",
   "execution_count": 22,
   "id": "655fdb17",
   "metadata": {},
   "outputs": [
    {
     "data": {
      "text/plain": [
       "101"
      ]
     },
     "execution_count": null,
     "metadata": {},
     "output_type": "execute_result"
    }
   ],
   "source": [
    "def mayor(x, y):\n",
    "    if x > y:\n",
    "        return x\n",
    "    return y\n",
    "\n",
    "reduce(mayor, [23, 49, 6, 32, 101, 9])"
   ]
  },
  {
   "cell_type": "markdown",
   "id": "66f177d0",
   "metadata": {},
   "source": [
    "Vale la pena mencionar que `reduce` acepta un tercer argumento opcional, que especifica el valor inicial de la reducción.\n",
    "Este valor se utiliza como punto de partida antes de procesar los elementos del iterable."
   ]
  },
  {
   "cell_type": "code",
   "execution_count": 23,
   "id": "24123ff4",
   "metadata": {},
   "outputs": [
    {
     "name": "stdout",
     "output_type": "stream",
     "text": [
      "x=20, y=1\n",
      "x=21, y=2\n",
      "x=23, y=3\n",
      "x=26, y=4\n",
      "x=30, y=5\n"
     ]
    },
    {
     "data": {
      "text/plain": [
       "35"
      ]
     },
     "execution_count": null,
     "metadata": {},
     "output_type": "execute_result"
    }
   ],
   "source": [
    "def sumar(x, y):\n",
    "    print(f\"x={x}, y={y}\")\n",
    "    return x + y\n",
    "\n",
    "reduce(sumar, [1, 2, 3, 4, 5], 20)"
   ]
  },
  {
   "cell_type": "markdown",
   "id": "27143588",
   "metadata": {},
   "source": [
    "::: {.callout-note}\n",
    "##### Expresiones condicionales 🔀😱\n",
    "\n",
    "La reducción anterior puede expresarse de forma más concisa utilizando **expresiones condicionales**:\n",
    "\n",
    "```python\n",
    "reduce(lambda x, y: x if x > y else y, [23, 49, 6, 32, 101, 9])\n",
    "```\n",
    "\n",
    "Estas expresiones permiten simplificar asignaciones condicionales.\n",
    "Por ejemplo, el siguiente bloque:\n",
    "\n",
    "```python\n",
    "if x > y:\n",
    "    valor = x\n",
    "else:\n",
    "    valor = y\n",
    "```\n",
    "\n",
    "puede escribirse de manera más compacta así:\n",
    "\n",
    "```python\n",
    "valor = x if x > y else y\n",
    "```\n",
    "\n",
    "En términos generales, la sintaxis es:\n",
    "\n",
    "```python\n",
    "<valor_si_verdadero> if <condición> else <valor_si_falso>\n",
    "```\n",
    "\n",
    ":::"
   ]
  },
  {
   "cell_type": "markdown",
   "id": "a26c9662",
   "metadata": {},
   "source": [
    "### Resumen\n",
    "\n",
    "El siguiente bloque de código resume el funcionamiento de `map`, `filter` y `reduce`."
   ]
  },
  {
   "cell_type": "code",
   "execution_count": 24,
   "id": "7911b115",
   "metadata": {},
   "outputs": [
    {
     "name": "stdout",
     "output_type": "stream",
     "text": [
      "Map [cuadrados]: [1, 4, 9, 16, 25]\n",
      "Filter [pares]: [2, 4]\n",
      "Reduce [producto]: 120\n"
     ]
    }
   ],
   "source": [
    "numeros = [1, 2, 3, 4, 5]\n",
    "\n",
    "# Map: Aplicar una función a cada elemento de un iterable\n",
    "cuadrados = list(map(lambda x: x**2, numeros))\n",
    "print(\"Map [cuadrados]:\", cuadrados)\n",
    "\n",
    "# Filter: Devuelve el subconjunto de elementos para los que la función devuelve True\n",
    "pares = list(filter(lambda x: x % 2 == 0, numeros))\n",
    "print(\"Filter [pares]:\", pares)\n",
    "\n",
    "# Reduce: Aplica una función de dos argumentos de manera acumulativa a los elementos de una secuencia\n",
    "producto = reduce(lambda x, y: x * y, numeros)\n",
    "print(\"Reduce [producto]:\", producto)"
   ]
  },
  {
   "cell_type": "markdown",
   "id": "33f6a86f",
   "metadata": {},
   "source": [
    "#### _Map_ y _filter_ como casos particulares de _reduce_ 😱\n",
    "\n",
    "Por otro lado, algo menos evidente es que tanto `map` como `filter` pueden verse como casos particulares de `reduce`.\n",
    "\n",
    "Esta aplicación de `map`:"
   ]
  },
  {
   "cell_type": "code",
   "execution_count": 25,
   "id": "287d0b0c",
   "metadata": {},
   "outputs": [
    {
     "data": {
      "text/plain": [
       "[0, 2, 4, 6, 8, 10, 12, 14, 16, 18]"
      ]
     },
     "execution_count": null,
     "metadata": {},
     "output_type": "execute_result"
    }
   ],
   "source": [
    "list(map(lambda x: x * 2, range(10)))"
   ]
  },
  {
   "cell_type": "markdown",
   "id": "69900dfe",
   "metadata": {},
   "source": [
    "Puede ser reproducida con el siguiente uso de `reduce`:"
   ]
  },
  {
   "cell_type": "code",
   "execution_count": 26,
   "id": "7724fa23",
   "metadata": {},
   "outputs": [
    {
     "data": {
      "text/plain": [
       "[0, 2, 4, 6, 8, 10, 12, 14, 16, 18]"
      ]
     },
     "execution_count": null,
     "metadata": {},
     "output_type": "execute_result"
    }
   ],
   "source": [
    "def dup(x):\n",
    "    return x * 2\n",
    "\n",
    "reduce(lambda seq, x: seq + [dup(x)], range(10), [])"
   ]
  },
  {
   "cell_type": "markdown",
   "id": "466ca66d",
   "metadata": {},
   "source": [
    "Y el siguiente uso de `filter`"
   ]
  },
  {
   "cell_type": "code",
   "execution_count": 27,
   "id": "d3dc8c5b",
   "metadata": {},
   "outputs": [
    {
     "data": {
      "text/plain": [
       "[1, 3, 5, 7, 9]"
      ]
     },
     "execution_count": null,
     "metadata": {},
     "output_type": "execute_result"
    }
   ],
   "source": [
    "list(filter(lambda x: x % 2 == 1, range(10)))"
   ]
  },
  {
   "cell_type": "markdown",
   "id": "60ae6dae",
   "metadata": {},
   "source": [
    "Se puede expresar también con `reduce`:"
   ]
  },
  {
   "cell_type": "code",
   "execution_count": 28,
   "id": "9b791820",
   "metadata": {},
   "outputs": [
    {
     "data": {
      "text/plain": [
       "[1, 3, 5, 7, 9]"
      ]
     },
     "execution_count": null,
     "metadata": {},
     "output_type": "execute_result"
    }
   ],
   "source": [
    "def es_impar(x):\n",
    "    return x % 2 == 1\n",
    "\n",
    "reduce(lambda seq, x: seq + [x] if es_impar(x) else seq, range(10), [])"
   ]
  },
  {
   "cell_type": "markdown",
   "id": "e9a661f4",
   "metadata": {},
   "source": [
    "Estas expresiones con `reduce()` son complejas, pero ilustran claramente el poder de la función:\n",
    "cualquier operación que pueda definirse a partir de una combinación sucesiva de elementos puede, al menos en principio, expresarse como una reducción,\n",
    "aunque no siempre sea la forma más clara o recomendada de hacerlo."
   ]
  },
  {
   "cell_type": "markdown",
   "id": "fd534be4",
   "metadata": {},
   "source": [
    "## _Comprehensions_\n",
    "\n",
    "Cuando usamos `map` y `filter` obtenemos objetos especiales: `map` devuelve un objeto de tipo `map`, y `filter` devuelve un objeto de tipo `filter`.\n",
    "Estos objetos son iterables y perezosos, lo que significa que no realizan ninguna operación hasta que se los recorre o convierte en una colección, como una lista.\n",
    "Por eso, si queremos ver directamente el resultado de una transformación o filtrado, necesitamos envolverlos con `list()`:\n",
    "\n",
    "```python\n",
    "numeros = [1, 2, 3]\n",
    "list(map(lambda x: x * 2, numeros))          # → [2, 4, 6]\n",
    "list(filter(lambda x: x % 2 == 0, numeros))  # → [2]\n",
    "```\n",
    "\n",
    "Aunque `map` y `filter` siguen siendo completamente válidos y útiles, hoy en día se consideran formas anticuadas o menos idiomáticas de construir listas transformadas o filtradas en Python.\n",
    "\n",
    "La alternativa moderna y, en general preferida, son las **comprensiones de listas** (del inglés, _list comprehensions_), que permiten expresar las mismas ideas de forma más clara y legible:"
   ]
  },
  {
   "cell_type": "code",
   "execution_count": 29,
   "id": "e62227d4",
   "metadata": {},
   "outputs": [
    {
     "data": {
      "text/plain": [
       "[0, 2, 4, 6, 8, 10, 12, 14, 16, 18, 20]"
      ]
     },
     "execution_count": null,
     "metadata": {},
     "output_type": "execute_result"
    }
   ],
   "source": [
    "numeros = list(range(11))\n",
    "[x * 2 for x in numeros] # Reemplaza a list(map(...))"
   ]
  },
  {
   "cell_type": "code",
   "execution_count": 30,
   "id": "3ef52439",
   "metadata": {},
   "outputs": [
    {
     "data": {
      "text/plain": [
       "[0, 2, 4, 6, 8, 10]"
      ]
     },
     "execution_count": null,
     "metadata": {},
     "output_type": "execute_result"
    }
   ],
   "source": [
    "[x for x in numeros if x % 2 == 0] # Reemplaza a list(filter(...))"
   ]
  },
  {
   "cell_type": "markdown",
   "id": "05f83724",
   "metadata": {},
   "source": [
    "### _Comprehension_ como reemplazo de _map_\n",
    "\n",
    "Supongamos que tenemos una lista de números y queremos restarles su media.\n",
    "\n",
    "Una forma de hacerlo utilizando un bucle `for` es:"
   ]
  },
  {
   "cell_type": "code",
   "execution_count": 31,
   "id": "f8f750d0",
   "metadata": {},
   "outputs": [
    {
     "data": {
      "text/plain": [
       "[-4.5, -3.5, -2.5, -1.5, -0.5, 0.5, 1.5, 2.5, 3.5, 4.5]"
      ]
     },
     "execution_count": null,
     "metadata": {},
     "output_type": "execute_result"
    }
   ],
   "source": [
    "vector = [1.0, 2.0, 3.0, 4.0, 5.0, 6.0, 7.0, 8.0, 9.0, 10.0]\n",
    "\n",
    "media = media(vector)\n",
    "vector_centrado = []\n",
    "for x in vector:\n",
    "    vector_centrado.append(x - media)\n",
    "\n",
    "vector_centrado"
   ]
  },
  {
   "cell_type": "markdown",
   "id": "a09e1d67",
   "metadata": {},
   "source": [
    "Si, en cambio, decidimos usar `map`, podemos hacer:"
   ]
  },
  {
   "cell_type": "code",
   "execution_count": 32,
   "id": "ce26884a",
   "metadata": {},
   "outputs": [
    {
     "data": {
      "text/plain": [
       "[-4.5, -3.5, -2.5, -1.5, -0.5, 0.5, 1.5, 2.5, 3.5, 4.5]"
      ]
     },
     "execution_count": null,
     "metadata": {},
     "output_type": "execute_result"
    }
   ],
   "source": [
    "list(map(lambda x: x - media, vector))"
   ]
  },
  {
   "cell_type": "markdown",
   "id": "6de45e52",
   "metadata": {},
   "source": [
    "Finalmente, se puede obtener el mismo resultado usando una _list comprehension_:"
   ]
  },
  {
   "cell_type": "code",
   "execution_count": 33,
   "id": "ccd97b2d",
   "metadata": {},
   "outputs": [
    {
     "data": {
      "text/plain": [
       "[-4.5, -3.5, -2.5, -1.5, -0.5, 0.5, 1.5, 2.5, 3.5, 4.5]"
      ]
     },
     "execution_count": null,
     "metadata": {},
     "output_type": "execute_result"
    }
   ],
   "source": [
    "[x - media for x in vector]"
   ]
  },
  {
   "cell_type": "markdown",
   "id": "9e4025f1",
   "metadata": {},
   "source": [
    "La sintaxis general de una  _list comprehension_ que aplica una transformación sobre los elementos de un iterable es:\n",
    "\n",
    "```python\n",
    "[<expresión> for elemento in iterable]\n",
    "```\n",
    "\n",
    "Como se observa en el ejemplo anterior, lo que aparece en la parte izquierda como `<expresión>` no tiene por qué ser una llamada a una función;\n",
    "puede ser **cualquier expresión válida** que produzca un resultado.\n",
    "Es decir, una operación matemática, un formateo de texto, la construcción de una estructura de datos, una llamada a una función, etc."
   ]
  },
  {
   "cell_type": "markdown",
   "id": "3febad48",
   "metadata": {},
   "source": [
    "### _Comprehension_ como reemplazo de _filter_\n",
    "\n",
    "Ahora veamos con mayor detalle cómo funciona una _list comprehension_ que reemplaza al uso de `filter`. Para eso, retomemos el ejemplo de las palabras capicúa."
   ]
  },
  {
   "cell_type": "code",
   "execution_count": 34,
   "id": "282ecf0a",
   "metadata": {},
   "outputs": [],
   "source": [
    "palabras = [\"hola\", \"mate\", \"somos\",\" libro\", \"conocer\", \"anilina\", \"programa\"]"
   ]
  },
  {
   "cell_type": "markdown",
   "id": "b9a72b1d",
   "metadata": {},
   "source": [
    "Inicialmente, podemos construir un listado de palabras capicúa usando un bucle `for`."
   ]
  },
  {
   "cell_type": "code",
   "execution_count": 35,
   "id": "6cf98266",
   "metadata": {},
   "outputs": [
    {
     "data": {
      "text/plain": [
       "['somos', 'anilina']"
      ]
     },
     "execution_count": null,
     "metadata": {},
     "output_type": "execute_result"
    }
   ],
   "source": [
    "capicuas = []\n",
    "for palabra in palabras:\n",
    "    if palabra == palabra[::-1]:\n",
    "        capicuas.append(palabra)\n",
    "capicuas"
   ]
  },
  {
   "cell_type": "markdown",
   "id": "44ce5cba",
   "metadata": {},
   "source": [
    "Luego, podemos construir el listado de palabras capicúa usando la función de orden superior `filter`."
   ]
  },
  {
   "cell_type": "code",
   "execution_count": 36,
   "id": "59801587",
   "metadata": {},
   "outputs": [
    {
     "data": {
      "text/plain": [
       "['somos', 'anilina']"
      ]
     },
     "execution_count": null,
     "metadata": {},
     "output_type": "execute_result"
    }
   ],
   "source": [
    "list(filter(lambda x: x == x[::-1], palabras))"
   ]
  },
  {
   "cell_type": "markdown",
   "id": "d635f8d1",
   "metadata": {},
   "source": [
    "Y finalmente, se puede obtener exactamente el mismo resultado mediante una _list comprehension_."
   ]
  },
  {
   "cell_type": "code",
   "execution_count": 37,
   "id": "1b4d87c9",
   "metadata": {},
   "outputs": [
    {
     "data": {
      "text/plain": [
       "['somos', 'anilina']"
      ]
     },
     "execution_count": null,
     "metadata": {},
     "output_type": "execute_result"
    }
   ],
   "source": [
    "[palabra for palabra in palabras if palabra == palabra[::-1]]"
   ]
  },
  {
   "cell_type": "markdown",
   "id": "be987ba1",
   "metadata": {},
   "source": [
    "La sintaxis general de una _list comprehension_ que filtra los elementos de un iterable es:\n",
    "\n",
    "```python\n",
    "[elemento for elemento in iterable if <expresión_lógica>]\n",
    "```\n",
    "\n",
    "Al igual que en la _list comprehension_ que aplica funciones a todos los ementos, `<expresión_lógica>` puede ser **cualquier expresión** de Python que devuelva un valor `True` o `False`, o que pueda interpretarse como tal.\n",
    "\n",
    "También podría usarse una _list comprehension_ que transforme elementos filtrados de un iterable:\n",
    "\n",
    "```python\n",
    "[<expresión> for elemento in iterable if <expresión_lógica>]\n",
    "```\n",
    "\n",
    "Por ejemplo:"
   ]
  },
  {
   "cell_type": "code",
   "execution_count": null,
   "id": "3466ad64",
   "metadata": {},
   "outputs": [
    {
     "data": {
      "text/plain": [
       "[2, 6]"
      ]
     },
     "execution_count": null,
     "metadata": {},
     "output_type": "execute_result"
    }
   ],
   "source": [
    "# Multiplica por 2 a los numeros impares de `range(5)`\n",
    "[x * 2 for x in range(5) if x % 2]"
   ]
  },
  {
   "cell_type": "markdown",
   "id": "b3ab67a0",
   "metadata": {},
   "source": [
    "::: {.callout-note}\n",
    "##### _Comprehensions_ con expresiones condicionales 😱\n",
    "\n",
    "La estructura general:\n",
    "\n",
    "```python\n",
    "[elemento for elemento in iterable if <expresión_lógica>]\n",
    "```\n",
    "\n",
    "puede modificarse cuando se desea evaluar una expresión en caso de que se cumpla una condición y otra distinta si no se cumple.\n",
    "Para ello, se usa una expresión condicional directamente en la parte izquierda de la comprensión:\n",
    "\n",
    "```python\n",
    "[<expresión_si_verdadero> if <condición> else <expresión_si_falso> for elemento in iterable]\n",
    "```\n",
    "\n",
    "Por ejemplo:\n",
    "\n",
    "```python\n",
    "numeros = [1, 2, 3, 4, 5]\n",
    "[f\"{x} es par\" if x % 2 == 0 else f\"{x} es impar\" for x in numeros]\n",
    "```\n",
    "```cmd\n",
    "['1 es impar', '2 es par', '3 es impar', '4 es par', '5 es impar']\n",
    "```\n",
    ":::"
   ]
  },
  {
   "cell_type": "markdown",
   "id": "d9d3fd4d",
   "metadata": {},
   "source": [
    "::: {.callout-note}\n",
    "##### _Dictionary comprehensions_ 😱😱\n",
    "\n",
    "Las comprensiones en Python no están limitadas a listas.\n",
    "Este patrón también puede utilizarse para construir otras estructuras de datos como diccionarios, conjuntos e incluso generadores (estructura que veremos más adelante).\n",
    "\n",
    "Por ejemplo, una **comprensión de diccionario** permite crear un `dict` a partir de una secuencia de pares clave-valor:\n",
    "\n",
    "```python\n",
    "def media(x):\n",
    "    return sum(x) / len(x)\n",
    "\n",
    "datos = [\n",
    "    (\"Marcos\", (4, 8, 9, 9)),\n",
    "    (\"Joaquín\", (10, 8, 8, 7)),\n",
    "    (\"Luján\", (10, 9, 9, 10)),\n",
    "]\n",
    "\n",
    "{nombre: media(notas) for nombre, notas in datos}\n",
    "```\n",
    "\n",
    "```cmd\n",
    "{'Marcos': 7.5, 'Joaquín': 8.25, 'Luján': 9.5}\n",
    "```\n",
    "\n",
    ":::"
   ]
  },
  {
   "cell_type": "markdown",
   "id": "bfbe3a4e",
   "metadata": {},
   "source": [
    "## Evaluación parcial de funciones\n",
    "\n",
    "En [Fundamentos](./01_fundamentos.ipynb) comenzamos a trabajar con _function factories_,\n",
    "es decir, con funciones que definen y devuelven funciones.\n",
    "El ejemplo que vimos consistía en la función `crear_multiplicador` que recibía un múltiplo y devolvía una función de un argumento que al llamarla realizaba la multiplcación. Así, era posible crear funciones para duplicar, triplicar, cuadruplicar, etc."
   ]
  },
  {
   "cell_type": "code",
   "execution_count": 34,
   "id": "193c9319",
   "metadata": {},
   "outputs": [
    {
     "name": "stdout",
     "output_type": "stream",
     "text": [
      "20 66\n"
     ]
    }
   ],
   "source": [
    "def crear_multiplicador(x):\n",
    "    def interna(y):\n",
    "        return y * x\n",
    "    return interna\n",
    "\n",
    "duplicar = crear_multiplicador(2)\n",
    "triplicar = crear_multiplicador(3)\n",
    "\n",
    "print(duplicar(10), triplicar(22))"
   ]
  },
  {
   "cell_type": "markdown",
   "id": "d0540ed4",
   "metadata": {},
   "source": [
    "Ahora bien, esta no es la única forma de crear funciones que multipliquen dos numeros dejando uno de sus argumentos fijo.\n",
    "\n",
    "Una alternativa consiste en crear una función general de multiplicación y usar `partial` del módulo `functools` para obtener una versión de la misma con alguno de sus argumentos fijados."
   ]
  },
  {
   "cell_type": "code",
   "execution_count": 35,
   "id": "4c02b024",
   "metadata": {},
   "outputs": [
    {
     "data": {
      "text/plain": [
       "56"
      ]
     },
     "execution_count": null,
     "metadata": {},
     "output_type": "execute_result"
    }
   ],
   "source": [
    "def multiplicar(x, y):\n",
    "    return x * y\n",
    "\n",
    "multiplicar(7, 8)"
   ]
  },
  {
   "cell_type": "code",
   "execution_count": 36,
   "id": "e11d884d",
   "metadata": {},
   "outputs": [
    {
     "data": {
      "text/plain": [
       "8"
      ]
     },
     "execution_count": null,
     "metadata": {},
     "output_type": "execute_result"
    }
   ],
   "source": [
    "from functools import partial\n",
    "\n",
    "cuadruplicar = partial(multiplicar, 4)\n",
    "cuadruplicar(2)"
   ]
  },
  {
   "cell_type": "markdown",
   "id": "abb4dcf2",
   "metadata": {},
   "source": [
    "En esencia, `partial` toma una función y fija algunos de sus parámetros, devolviendo una nueva función con argumentos ya establecidos.\n",
    "Dicho de otro modo, `partial` produce una función parcialmente evaluada, de ahí su nombre.\n",
    "\n",
    "De un modo similar, se podrían crear funciones de potencia a partir de una función genérica."
   ]
  },
  {
   "cell_type": "code",
   "execution_count": 37,
   "id": "89cc4c52",
   "metadata": {},
   "outputs": [
    {
     "name": "stdout",
     "output_type": "stream",
     "text": [
      "25 729\n"
     ]
    }
   ],
   "source": [
    "def potencia(x, n):\n",
    "    return x ** n\n",
    "\n",
    "cuadrado = partial(potencia, n=2)\n",
    "cubo = partial(potencia, n=3)\n",
    "\n",
    "print(cuadrado(5), cubo(9))"
   ]
  },
  {
   "cell_type": "markdown",
   "id": "8e75c8d2",
   "metadata": {},
   "source": [
    "Mediante un ejemplo podemos ver que `partial` también permite fijar más de un parámetro.\n",
    "Supongamos que tenemos una lista de números que queremos estandarizar; es decir, restarles la media y dividir cada valor por el desvío."
   ]
  },
  {
   "cell_type": "code",
   "execution_count": 38,
   "id": "7dbaeaa3",
   "metadata": {},
   "outputs": [],
   "source": [
    "nums = [\n",
    "    4.74346239e-01, -2.90877176e-01, -1.44377789e+00, -4.48680759e+01,\n",
    "    -1.21249801e+00, -3.32729317e-01,  2.21676912e-01,  1.05599711e+00,\n",
    "    -3.62372053e+00, -2.96441579e-01, -4.28304222e+00,  1.55908820e+02,\n",
    "    9.00858234e-01, -1.09384173e+00, -1.51083571e+00, -5.38491167e-01,\n",
    "    -3.84153084e-02,  1.20393395e+00,  1.82651406e-01,  2.05179405e+00\n",
    "]\n",
    "\n",
    "def media(x):\n",
    "    return sum(x) / len(x)\n",
    "\n",
    "def varianza(x):\n",
    "    numerador = 0\n",
    "    x_media = media(x)\n",
    "    for x_i in x:\n",
    "        numerador += (x_i - x_media) ** 2\n",
    "    return numerador / len(x)\n",
    "\n",
    "estandarizar = partial(\n",
    "    lambda x, media, desvio: (x - media) / desvio, # <1>\n",
    "    media=media(nums), # <2>\n",
    "    desvio=varianza(nums) ** 0.5 # <2>\n",
    ")"
   ]
  },
  {
   "cell_type": "markdown",
   "id": "0458d58f",
   "metadata": {},
   "source": [
    "1. Definimos una función `lambda` que implementa la estandarización.\n",
    "Esta función recibe el valor a estandarizar, la media y el desvío correspondientes.\n",
    "2. Calculamos la media y el desvío de la lista, y luego los pasamos a `partial` como parámetros a fijar.\n",
    "\n",
    "De esta manera, obtenemos la función `estandarizar`, que al recibir un número le resta la media y lo divide por el desvío calculado a partir de `nums`."
   ]
  },
  {
   "cell_type": "code",
   "execution_count": 40,
   "id": "dec38761",
   "metadata": {},
   "outputs": [
    {
     "data": {
      "text/plain": [
       "-0.12933243764138067"
      ]
     },
     "execution_count": null,
     "metadata": {},
     "output_type": "execute_result"
    }
   ],
   "source": [
    "estandarizar(nums[0])"
   ]
  },
  {
   "cell_type": "markdown",
   "id": "9d81302b",
   "metadata": {},
   "source": [
    "Y, si queremos estandarizar toda la secuencia, podemos usar una _list comprehension_."
   ]
  },
  {
   "cell_type": "code",
   "execution_count": 41,
   "id": "d0e97278",
   "metadata": {},
   "outputs": [
    {
     "data": {
      "text/plain": [
       "[-0.12933243764138067,\n",
       " -0.1506204085674334,\n",
       " -0.18269328610772323,\n",
       " -1.390726359064761,\n",
       " -0.17625924440864513,\n",
       " -0.15178470535100874,\n",
       " -0.13636151853677025,\n",
       " -0.1131513242720763,\n",
       " -0.24333773925841856,\n",
       " -0.1507752062996549,\n",
       " -0.2616795995472022,\n",
       " 4.1947440261328905,\n",
       " -0.11746717741646615,\n",
       " -0.1729583111265218,\n",
       " -0.1845587869464874,\n",
       " -0.1575088536123251,\n",
       " -0.1435970990449382,\n",
       " -0.10903582664474336,\n",
       " -0.13744718034588063,\n",
       " -0.08544896194045284]"
      ]
     },
     "execution_count": null,
     "metadata": {},
     "output_type": "execute_result"
    }
   ],
   "source": [
    "[estandarizar(num) for num in nums]"
   ]
  },
  {
   "cell_type": "markdown",
   "id": "e9e3d482",
   "metadata": {},
   "source": [
    "::: {.callout-note}\n",
    "##### Argumentos posicionales y nombrados 🔢🏷️\n",
    "\n",
    "`partial` puede utilizarse para fijar tanto argumentos posicionales como nombrados.\n",
    "Cuando recibe argumentos posicionales, estos se transmiten a la función original en el mismo orden;\n",
    "mientras que, si se le pasan argumentos nombrados, se reenvían como tales.\n",
    "\n",
    "Por ejemplo, las siguientes llamadas a `partial` generan funciones equivalentes:\n",
    "\n",
    "```python\n",
    "def prod(x, y):\n",
    "    return x * y\n",
    "\n",
    "partial(prod, 5)     # 5 * y\n",
    "partial(prod, x=5)   # 5 * y\n",
    "partial(prod, y=5)   # x * 5\n",
    "```\n",
    "\n",
    ":::"
   ]
  },
  {
   "cell_type": "markdown",
   "id": "0676dc79",
   "metadata": {},
   "source": [
    "## Decoradores\n",
    "\n",
    "En [Ciudadanos de primera clase](./01_fundamentos.ipynb#sec-ciudadanos) aprendimos que las funciones son un objeto como cualquier otro. Por eso, ya no nos sorprende que puedan pasarse como argumento a otra función o devolverse como resultado de otra función.\n",
    "\n",
    "Ahora vamos a explorar un tipo de funciones que son muy útiles en Python: los decoradores.\n",
    "\n",
    "Los decoradores son funciones que \"envuelven\" o \"encapsulan\" funciones y modifican su comportamiento.\n",
    "\n",
    "Empecemos con un ejemplo: la función `decorador` recibe una función `fun`, define una función `envoltura` que contiene una llamada a `fun` y la devuelve."
   ]
  },
  {
   "cell_type": "code",
   "execution_count": 45,
   "id": "02eb176a",
   "metadata": {},
   "outputs": [],
   "source": [
    "def decorador(fun):\n",
    "\n",
    "    def envoltura():\n",
    "        print(\"Antes de llamar a la función...\")\n",
    "        fun()\n",
    "        print(\"Listo, ya se llamó a la función.\")\n",
    "\n",
    "    return envoltura"
   ]
  },
  {
   "cell_type": "markdown",
   "id": "8385ec15",
   "metadata": {},
   "source": [
    "Para mostrar el funcionamiento del decorador, definamos una función muy sencilla, que simplemente imprime un saludo."
   ]
  },
  {
   "cell_type": "code",
   "execution_count": 46,
   "id": "2ed62416",
   "metadata": {},
   "outputs": [
    {
     "name": "stdout",
     "output_type": "stream",
     "text": [
      "¡Hola hola!\n"
     ]
    }
   ],
   "source": [
    "def decir_hola():\n",
    "    print(\"¡Hola hola!\")\n",
    "\n",
    "decir_hola()"
   ]
  },
  {
   "cell_type": "markdown",
   "id": "08e2be30",
   "metadata": {},
   "source": [
    "Ahora, invocamos a `decorador` pasandole la función `decir_hola` y obtenemos una nueva una función.\n",
    "\n",
    "Podemos ver que esta nueva función es la función `envoltura` definida dentro del decorador."
   ]
  },
  {
   "cell_type": "code",
   "execution_count": 47,
   "id": "0b9b7eef",
   "metadata": {},
   "outputs": [
    {
     "data": {
      "text/plain": [
       "<function __main__.decorador.<locals>.envoltura()>"
      ]
     },
     "execution_count": null,
     "metadata": {},
     "output_type": "execute_result"
    }
   ],
   "source": [
    "nueva = decorador(decir_hola)\n",
    "nueva"
   ]
  },
  {
   "cell_type": "markdown",
   "id": "836a9d1a",
   "metadata": {},
   "source": [
    "Antes de ejecutar la función `nueva`, intentemos anticipar qué va a ocurrir cuando la llamemos.\n",
    "\n",
    "Al invocar `nueva`, se ejecutarán las siguientes tres líneas de código:\n",
    "\n",
    "```python\n",
    "print(\"Antes de llamar a la función...\") # <1>\n",
    "fun() # <2>\n",
    "print(\"Listo, ya se llamó a la función.\") # <3>\n",
    "```\n",
    "\n",
    "1. La primera línea contiene directamente un `print`, por lo que podemos anticipar que lo primero que vamos a ver es un mensaje que dice `\"Antes de llamar a la función...\"`.\n",
    "2. La segunda línea contiene una llamada a la función `fun`. Esta es la función que le pasamos a `decorador` al momento de crear `nueva`, es decir, es la función `decir_hola`.  \n",
    "Por lo tanto, habrá un segundo mensaje que dice `\"¡Hola hola!\"`.\n",
    "3. Finalmente, se ejecuta la tercera línea, y como vemos que es un `print`, sabemos que vamos a ver un mensaje que dice\n",
    "`\"Listo, ya se llamó a la función.\"`."
   ]
  },
  {
   "cell_type": "code",
   "execution_count": 48,
   "id": "977449ae",
   "metadata": {},
   "outputs": [
    {
     "name": "stdout",
     "output_type": "stream",
     "text": [
      "Antes de llamar a la función...\n",
      "¡Hola hola!\n",
      "Listo, ya se llamó a la función.\n"
     ]
    }
   ],
   "source": [
    "nueva()"
   ]
  },
  {
   "cell_type": "markdown",
   "id": "c062e277",
   "metadata": {},
   "source": [
    "En este ejemplo vemos que el decorador \"envuelve\" o \"encapsula\" a la función `decir_hola`.\n",
    "Gracias a esto, la función decorada ya no se ejecuta como antes, sino que ahora también imprime mensajes antes y después de realizar la tarea en su definición original."
   ]
  },
  {
   "cell_type": "markdown",
   "id": "415068ad",
   "metadata": {},
   "source": [
    "### Decoradores que reciben argumentos\n",
    "\n",
    "Si intentamos pasarle argumentos a la función `nueva`, obtendremos un error.\n",
    "Este error no se debe a que la función decorada, `decir_hola`, no acepte parámetros, sino a que la función que devuelve el decorador, `envoltura`, no está preparada para recibirlos.\n",
    "\n",
    "Ahora bien, si queremos que nuestra función de envoltura pueda transmitir argumentos a la función decorada, necesitamos un mecanismo flexible.\n",
    "No podemos conocer de antemano qué parámetros recibirá la función a decorar, justamente porque no sabemos cuál será esa función.\n",
    "\n",
    "La solución es definir `envoltura` de manera que acepte una cantidad arbitraria de argumentos posicionales y nombrados.\n",
    "De esta forma, podemos propagar todos esos argumentos a la función decorada sin importar cuáles sean."
   ]
  },
  {
   "cell_type": "code",
   "execution_count": null,
   "id": "efecf391",
   "metadata": {},
   "outputs": [],
   "source": [
    "def decorador(fun):\n",
    "\n",
    "    def envoltura(*args, **kwargs):  # <1>\n",
    "        if args:\n",
    "            print(\"Argumentos posicionales:\", args)\n",
    "        if kwargs:\n",
    "            print(\"Argumentos nombrados:\", kwargs)\n",
    "        fun(*args, **kwargs)         # <2>\n",
    "\n",
    "    return envoltura\n",
    "\n",
    "def potencia(x, n):\n",
    "    return x ** n\n",
    "\n",
    "potencia = decorador(potencia)"
   ]
  },
  {
   "cell_type": "markdown",
   "id": "b17bfe2b",
   "metadata": {},
   "source": [
    "1. `envoltura` recibe una cantidad arbitraria de argumentos posicionales y nombrados.\n",
    "2. Cuando se llama a `fun`, se le pasan todos los argumentos posicionales y nombrados recibidos."
   ]
  },
  {
   "cell_type": "code",
   "execution_count": 50,
   "id": "5604c820",
   "metadata": {},
   "outputs": [
    {
     "name": "stdout",
     "output_type": "stream",
     "text": [
      "Argumentos posicionales: (5, 3)\n"
     ]
    }
   ],
   "source": [
    "potencia(5, 3)"
   ]
  },
  {
   "cell_type": "code",
   "execution_count": 51,
   "id": "5b144582",
   "metadata": {},
   "outputs": [
    {
     "name": "stdout",
     "output_type": "stream",
     "text": [
      "Argumentos posicionales: (5,)\n",
      "Argumentos nombrados: {'n': 3}\n"
     ]
    }
   ],
   "source": [
    "potencia(5, n=3)"
   ]
  },
  {
   "cell_type": "code",
   "execution_count": 52,
   "id": "7bf327c3",
   "metadata": {},
   "outputs": [
    {
     "name": "stdout",
     "output_type": "stream",
     "text": [
      "Argumentos nombrados: {'x': 5, 'n': 3}\n"
     ]
    }
   ],
   "source": [
    "potencia(x=5, n=3)"
   ]
  },
  {
   "cell_type": "markdown",
   "id": "9a7006c0",
   "metadata": {},
   "source": [
    "El ejemplo muestra que el decorador imprime los argumentos de la función original, tanto posicionales como nombrados, siempre que se le haya pasado alguno."
   ]
  },
  {
   "cell_type": "markdown",
   "id": "45e3ec02",
   "metadata": {},
   "source": [
    "### Decoradores que devuelven valores\n",
    "\n",
    "Si bien el decorador anterior funcionaba correctamente con funciones que reciben tanto argumentos posicionales como nombrados, no vemos que la función decorada devuelva la potencia calculada.\n",
    "Para que eso ocurra, la `envoltura` no solo tiene que llamar a `fun`, sino también retornar lo que esta retorne."
   ]
  },
  {
   "cell_type": "code",
   "execution_count": 53,
   "id": "d0d788c9",
   "metadata": {},
   "outputs": [],
   "source": [
    "def decorador(fun):\n",
    "\n",
    "    def envoltura(*args, **kwargs):\n",
    "        if args:\n",
    "            print(\"Argumentos posicionales:\", args)\n",
    "        if kwargs:\n",
    "            print(\"Argumentos nombrados:\", kwargs)\n",
    "        return fun(*args, **kwargs) # <1>\n",
    "\n",
    "    return envoltura\n",
    "\n",
    "def potencia(x, n):\n",
    "    return x ** n"
   ]
  },
  {
   "cell_type": "markdown",
   "id": "5337227a",
   "metadata": {},
   "source": [
    "1. Gracias a esta línea, la función `envoltura` retorna lo que sea que `fun` retorne."
   ]
  },
  {
   "cell_type": "code",
   "execution_count": 54,
   "id": "11e3ba23",
   "metadata": {},
   "outputs": [
    {
     "name": "stdout",
     "output_type": "stream",
     "text": [
      "Argumentos nombrados: {'x': 5, 'n': 3}\n"
     ]
    },
    {
     "data": {
      "text/plain": [
       "125"
      ]
     },
     "execution_count": null,
     "metadata": {},
     "output_type": "execute_result"
    }
   ],
   "source": [
    "potencia = decorador(potencia)\n",
    "potencia(x=5, n=3)"
   ]
  },
  {
   "cell_type": "markdown",
   "id": "58ee8cd1",
   "metadata": {},
   "source": [
    "### Azúcar sintáctico\n",
    "\n",
    "Dado que los decoradores cumplen un rol muy importante en la programación con Python, el lenguaje ofrece una sintaxis especial para aplicarlos directamente al momento de definir una función.\n",
    "\n",
    "Para ello, basta con escribir `@<nombre_decorador>` en la línea anterior a la definición de la función. Por ejemplo:"
   ]
  },
  {
   "cell_type": "code",
   "execution_count": 55,
   "id": "d30b2d42",
   "metadata": {},
   "outputs": [
    {
     "name": "stdout",
     "output_type": "stream",
     "text": [
      "Argumentos posicionales: (3, 7)\n"
     ]
    },
    {
     "data": {
      "text/plain": [
       "21"
      ]
     },
     "execution_count": null,
     "metadata": {},
     "output_type": "execute_result"
    }
   ],
   "source": [
    "@decorador\n",
    "def producto(x, y):\n",
    "    return x * y\n",
    "\n",
    "producto(3, 7)"
   ]
  },
  {
   "cell_type": "code",
   "execution_count": 56,
   "id": "37f5be28",
   "metadata": {},
   "outputs": [
    {
     "name": "stdout",
     "output_type": "stream",
     "text": [
      "Argumentos nombrados: {'x': 3, 'y': 7}\n"
     ]
    },
    {
     "data": {
      "text/plain": [
       "21"
      ]
     },
     "execution_count": null,
     "metadata": {},
     "output_type": "execute_result"
    }
   ],
   "source": [
    "producto(x=3, y=7)"
   ]
  },
  {
   "cell_type": "markdown",
   "id": "29697514",
   "metadata": {},
   "source": [
    "De esta manera, no es necesario incluir líneas adicionales del estilo:\n",
    "\n",
    "```python\n",
    "def funcion(...):\n",
    "    ...\n",
    "    return ...\n",
    "\n",
    "funcion = decorador(funcion)\n",
    "```\n",
    "\n",
    "A este tipo de atajos sintácticos que brinda el lenguaje se los conoce como azúcar sintáctico (del inglés, _syntax sugar_)."
   ]
  },
  {
   "cell_type": "markdown",
   "id": "8c18cfba",
   "metadata": {},
   "source": [
    "### Ejemplo: medir tiempo de ejecución\n",
    "\n",
    "Hasta ahora, los ejemplos que vimos fueron un tanto artificiales, pensados únicamente para mostrar qué son los decoradores y cómo se utilizan. A continuación, presentamos un ejemplo más cercano a un uso práctico.\n",
    "\n",
    "El decorador `timer` imprime el tiempo de ejecución que le toma a una función.\n",
    "Luego, lo aplicamos para comparar los tiempos entre la función _built-in_ `max` y otra implementación que obtiene el máximo mediante una reducción.\n"
   ]
  },
  {
   "cell_type": "code",
   "execution_count": 57,
   "id": "23478413",
   "metadata": {},
   "outputs": [],
   "source": [
    "import time\n",
    "\n",
    "def timer(fun):\n",
    "    def envoltura(*args, **kwargs):\n",
    "        inicio = time.time()\n",
    "        resultado = fun(*args, **kwargs)\n",
    "        fin = time.time()\n",
    "        print(f\"{fun.__name__} demoró {fin - inicio:6f} segundos\")\n",
    "        return resultado\n",
    "    return envoltura"
   ]
  },
  {
   "cell_type": "code",
   "execution_count": 61,
   "id": "21ed2fd0",
   "metadata": {},
   "outputs": [],
   "source": [
    "def mayor(x, y):\n",
    "    if x > y:\n",
    "        return x\n",
    "    return y\n",
    "\n",
    "@timer\n",
    "def maximo_reduce(x):\n",
    "    return reduce(mayor, x)\n",
    "\n",
    "@timer\n",
    "def maximo_builtin(x):\n",
    "    return max(x)"
   ]
  },
  {
   "cell_type": "code",
   "execution_count": 62,
   "id": "cbeaa090",
   "metadata": {},
   "outputs": [
    {
     "name": "stdout",
     "output_type": "stream",
     "text": [
      "maximo_reduce demoró 0.044118 segundos\n"
     ]
    },
    {
     "data": {
      "text/plain": [
       "999999"
      ]
     },
     "execution_count": null,
     "metadata": {},
     "output_type": "execute_result"
    }
   ],
   "source": [
    "lista = list(range(1_000_000))\n",
    "\n",
    "maximo_reduce(lista)"
   ]
  },
  {
   "cell_type": "code",
   "execution_count": 63,
   "id": "75ffacd4",
   "metadata": {},
   "outputs": [
    {
     "name": "stdout",
     "output_type": "stream",
     "text": [
      "maximo_builtin demoró 0.017050 segundos\n"
     ]
    },
    {
     "data": {
      "text/plain": [
       "999999"
      ]
     },
     "execution_count": null,
     "metadata": {},
     "output_type": "execute_result"
    }
   ],
   "source": [
    "maximo_builtin(lista)"
   ]
  }
 ],
 "metadata": {
  "language_info": {
   "name": "python"
  }
 },
 "nbformat": 4,
 "nbformat_minor": 5
}
