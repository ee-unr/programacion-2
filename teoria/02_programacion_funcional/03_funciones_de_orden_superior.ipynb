{
 "cells": [
  {
   "cell_type": "markdown",
   "id": "2bc3336d",
   "metadata": {},
   "source": [
    "---\n",
    "title: \"3 - Funciones de orden superior\"\n",
    "toc: true\n",
    "---"
   ]
  },
  {
   "cell_type": "markdown",
   "id": "8c89734a",
   "metadata": {},
   "source": [
    "## Introducción"
   ]
  },
  {
   "cell_type": "markdown",
   "id": "c14aaee6",
   "metadata": {},
   "source": [
    "## _Map_"
   ]
  },
  {
   "cell_type": "markdown",
   "id": "47778596",
   "metadata": {},
   "source": [
    "## _Filter_"
   ]
  },
  {
   "cell_type": "markdown",
   "id": "0e2bd6ba",
   "metadata": {},
   "source": [
    "## _Reduce_"
   ]
  },
  {
   "cell_type": "markdown",
   "id": "fd534be4",
   "metadata": {},
   "source": [
    "## _Comprehensions_\n",
    "\n",
    "### Listas\n",
    "\n",
    "### Diccionarios"
   ]
  }
 ],
 "metadata": {
  "language_info": {
   "name": "python"
  }
 },
 "nbformat": 4,
 "nbformat_minor": 5
}
