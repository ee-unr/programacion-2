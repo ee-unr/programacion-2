{
 "cells": [
  {
   "cell_type": "markdown",
   "id": "2bc3336d",
   "metadata": {},
   "source": [
    "---\n",
    "title: \"3 - Funciones de orden superior\"\n",
    "toc: true\n",
    "---"
   ]
  },
  {
   "cell_type": "markdown",
   "id": "a87296dc",
   "metadata": {},
   "source": [
    "## Introducción\n",
    "\n",
    "Las funciones de orden superior son una herramienta muy importante en la programación funcional.\n",
    "A lo largo de esta unidad, trabajaremos con las siguientes variedades de funciones de orden superior:\n",
    "\n",
    "* Funciones que aceptan funciones como argumentos.\n",
    "* Funciones que devuelven una función como resultado.\n",
    "* Funciones que aceptan funciones como argumentos y devuelven una función como resultado.\n",
    "\n",
    "En la Sección [Funciones de orden superior](./01_paradigma.ipynb#sec-orden) de [El paradigma funcional](./01_paradigma.ipynb) nos inciamos en el trabajo con funciones que aceptan funciones como argumento y funciones que devuelven funciones como resultado.\n",
    "\n",
    "En este capítulo, vamos a enfocarnos las funciones de orden superior más elementales: `map`, `filter` y `reduce`. Las primeras dos están disponibles por defecto en nuestra sesión de Python (ya que son funciones _built-in_), mientras que a `reduce` la tenemos que importar desde el módulo estándar `functools`.\n",
    "\n",
    "Las funciones `map`, `filter` y `reduce` son funciones de orden superior fundamentales en la programación funcional. Actúan como primitivas básicas para procesar y transformar secuencias, y muchas otras operaciones funcionales pueden construirse a partir de ellas o expresarse en términos de estas."
   ]
  },
  {
   "cell_type": "markdown",
   "id": "c14aaee6",
   "metadata": {},
   "source": [
    "## _Map_\n",
    "\n",
    "Supongamos que tenemos una secuencia de palabras y queremos invertir el orden de los caracteres de cada una.\n",
    "Para ello, vamos a rebanadar cada cadena desde el principio al final usando un paso de `-1`. Por ejemplo:"
   ]
  },
  {
   "cell_type": "code",
   "execution_count": 1,
   "id": "7ae7ba8d",
   "metadata": {},
   "outputs": [
    {
     "data": {
      "text/plain": [
       "'asoc'"
      ]
     },
     "execution_count": null,
     "metadata": {},
     "output_type": "execute_result"
    }
   ],
   "source": [
    "\"cosa\"[::-1]"
   ]
  },
  {
   "cell_type": "markdown",
   "id": "0a6ae838",
   "metadata": {},
   "source": [
    "Si quisiéramos obtener una lista con las palabras invertidas, podríamos crear una nueva lista, recorrer la original con un bucle `for`, invertir cada palabra y guardarla en la lista nueva."
   ]
  },
  {
   "cell_type": "code",
   "execution_count": 2,
   "id": "c8af2bee",
   "metadata": {},
   "outputs": [
    {
     "name": "stdout",
     "output_type": "stream",
     "text": [
      "Palabras originales:\n",
      "['hola', 'mate', 'somos', ' libro', 'conocer', 'anilina', 'programa']\n",
      "\n",
      "\n",
      "Palabras invertidas:\n",
      "['aloh', 'etam', 'somos', 'orbil ', 'reconoc', 'anilina', 'amargorp']\n"
     ]
    }
   ],
   "source": [
    "palabras = [\"hola\", \"mate\", \"somos\",\" libro\", \"conocer\", \"anilina\", \"programa\"]\n",
    "palabras_invertidas = []\n",
    "\n",
    "for palabra in palabras:\n",
    "    palabras_invertidas.append(palabra[::-1])\n",
    "\n",
    "print(\"Palabras originales:\", palabras, \"\\n\", sep=\"\\n\")\n",
    "print(\"Palabras invertidas:\", palabras_invertidas, sep=\"\\n\")"
   ]
  },
  {
   "cell_type": "markdown",
   "id": "6dca1d98",
   "metadata": {},
   "source": [
    "La alternativa funcional consiste en utilizar `map` para **aplicar una función a cada palabra de la secuencia**.\n",
    "En este caso, aplicamos la función `invertir`, que invierte los caracteres de una palabra, a cada elemento de la lista `palabras`."
   ]
  },
  {
   "cell_type": "code",
   "execution_count": 3,
   "id": "bb8b117f",
   "metadata": {},
   "outputs": [
    {
     "data": {
      "text/plain": [
       "['aloh', 'etam', 'somos', 'orbil ', 'reconoc', 'anilina', 'amargorp']"
      ]
     },
     "execution_count": null,
     "metadata": {},
     "output_type": "execute_result"
    }
   ],
   "source": [
    "def invertir(x):\n",
    "    return x[::-1]\n",
    "\n",
    "list(map(invertir, palabras))"
   ]
  },
  {
   "cell_type": "markdown",
   "id": "60d5edaf",
   "metadata": {},
   "source": [
    "Así, se obtiene una nueva lista con las palabras invertidas, sin necesidad de iterar manualmente con un bucle `for`.\n",
    "\n",
    "Si quisiéramos que el programa fuese aún más conciso, podríamos usar una función anónima en vez de una función regular:"
   ]
  },
  {
   "cell_type": "code",
   "execution_count": 4,
   "id": "0feee274",
   "metadata": {},
   "outputs": [
    {
     "data": {
      "text/plain": [
       "['aloh', 'etam', 'somos', 'orbil ', 'reconoc', 'anilina', 'amargorp']"
      ]
     },
     "execution_count": null,
     "metadata": {},
     "output_type": "execute_result"
    }
   ],
   "source": [
    "list(map(lambda x: x[::-1], palabras))"
   ]
  },
  {
   "cell_type": "markdown",
   "id": "64ba81bb",
   "metadata": {},
   "source": [
    "::: {.callout-note}\n",
    "##### El objeto `map`\n",
    "\n",
    "En el ejemplo anterior usamos `list` para convertir el resultado de `map` en una lista.\n",
    "Este paso, que puede parecer innecesario, es fundamental si queremos obtener una lista como resultado final.\n",
    "De lo contrario, la llamada a `map` devuelve un objeto de tipo `map`.\n",
    "\n",
    "```python\n",
    "map(lambda x: x[::-1], palabras)\n",
    "```\n",
    "```cmd\n",
    "<map object at 0x7fd2fc1ad360>\n",
    "```\n",
    "\n",
    "Este objeto, **perezoso** e **iterable**, puede recorrerse o convertirse en otras colecciones como listas, tuplas o conjuntos:\n",
    "\n",
    "```python\n",
    "list(map(lambda x: x[::-1], palabras))\n",
    "```\n",
    "```cmd\n",
    "['aloh', 'etam', 'somos', 'orbil ', 'reconoc', 'anilina', 'amargorp']\n",
    "```\n",
    ":::"
   ]
  },
  {
   "cell_type": "markdown",
   "id": "4d242812",
   "metadata": {},
   "source": [
    "### Estructuras de datos complejas\n",
    "\n",
    "En el ejemplo anterior se usó `map` sobre una secuencia simple de cadenas de texto. Sin embargo, eso no implica que su uso se limite a casos sencillos.\n",
    "\n",
    "Supongamos ahora que tenemos una lista anidada de números, es decir, una lista que contiene otras listas con valores numéricos:"
   ]
  },
  {
   "cell_type": "code",
   "execution_count": 5,
   "id": "c241a909",
   "metadata": {},
   "outputs": [],
   "source": [
    "ventas = [\n",
    "    [22.5, 9.3, 11.0],\n",
    "    [5.4, 22.5],\n",
    "    [3.0, 3.0, 12.9, 7.5],\n",
    "]"
   ]
  },
  {
   "cell_type": "markdown",
   "id": "0afb4392",
   "metadata": {},
   "source": [
    "Si queremos calcular el total de cada sublista, podemos combinar `map` con la función `sum`. Esto aplica `sum` a cada elemento de la lista `ventas`, generando como resultado una nueva lista con los totales de cada sublista."
   ]
  },
  {
   "cell_type": "code",
   "execution_count": 6,
   "id": "8344f85e",
   "metadata": {},
   "outputs": [
    {
     "data": {
      "text/plain": [
       "[42.8, 27.9, 26.4]"
      ]
     },
     "execution_count": null,
     "metadata": {},
     "output_type": "execute_result"
    }
   ],
   "source": [
    "list(map(sum, ventas))"
   ]
  },
  {
   "cell_type": "markdown",
   "id": "33d31ae7",
   "metadata": {},
   "source": [
    "De manera similar, se puede obtener el mínimo, el máximo, la media u otra medida de interés aplicando la función correspondiente a cada sublista.\n",
    "\n",
    "Usando una combinación más compleja de `map`s y expresiones `lambda`, se puede determinar cuáles sublistas de `ventas` contienen al menos un valor mayor a 20."
   ]
  },
  {
   "cell_type": "code",
   "execution_count": 7,
   "id": "8d873d5f",
   "metadata": {},
   "outputs": [
    {
     "data": {
      "text/plain": [
       "[True, True, False]"
      ]
     },
     "execution_count": null,
     "metadata": {},
     "output_type": "execute_result"
    }
   ],
   "source": [
    "list(\n",
    "    map(\n",
    "        lambda sublista: any(map(lambda x: x > 20,  sublista)),\n",
    "        ventas\n",
    "    )\n",
    ")"
   ]
  },
  {
   "cell_type": "markdown",
   "id": "156d48d6",
   "metadata": {},
   "source": [
    "Como puede observarse, un programa que utiliza `map` junto con expresiones `lambda` puede volverse difícil de leer y comprender rápidamente, especialmente a medida que la lógica se vuelve más compleja.\n",
    "\n",
    "Para finalizar este listado de ejemplos, observemos uno donde se crea un diccionario a partir del `map`, en vez de una lista. \n",
    "\n",
    "Debajo, tenemos una lista con diccionarios. Cada diccionario contiene el nombre y las notas de una persona.\n",
    "Nuestro objetivo es obtener un nuevo diccionario que tenga por claves al nombre de la persona, y por valor a la nota promedio."
   ]
  },
  {
   "cell_type": "code",
   "execution_count": 8,
   "id": "383a8c15",
   "metadata": {},
   "outputs": [],
   "source": [
    "notas = [\n",
    "    {\n",
    "        \"nombre\": \"Mariano\",\n",
    "        \"notas\": [6, 9, 9, 8]\n",
    "    },\n",
    "    {\n",
    "        \"nombre\": \"Daniela\",\n",
    "        \"notas\": [6, 7, 7, 8]\n",
    "    },\n",
    "    {\n",
    "        \"nombre\": \"Sofía\",\n",
    "        \"notas\": [8, 6, 9, 8]\n",
    "    },\n",
    "]"
   ]
  },
  {
   "cell_type": "markdown",
   "id": "b74a3d61",
   "metadata": {},
   "source": [
    "Sin utilizar un enfoque funcional, una solución posible es la siguiente:"
   ]
  },
  {
   "cell_type": "code",
   "execution_count": 9,
   "id": "76a1d02b",
   "metadata": {},
   "outputs": [
    {
     "data": {
      "text/plain": [
       "{'Mariano': 8.0, 'Daniela': 7.0, 'Sofía': 7.75}"
      ]
     },
     "execution_count": null,
     "metadata": {},
     "output_type": "execute_result"
    }
   ],
   "source": [
    "def media(x):\n",
    "    return sum(x) / len(x)\n",
    "\n",
    "promedios = {}\n",
    "\n",
    "for datum in notas:\n",
    "    promedios[datum[\"nombre\"]] = media(datum[\"notas\"])\n",
    "\n",
    "promedios"
   ]
  },
  {
   "cell_type": "markdown",
   "id": "df5657f8",
   "metadata": {},
   "source": [
    "En cambio, utilizando `map`:"
   ]
  },
  {
   "cell_type": "code",
   "execution_count": 10,
   "id": "e5c2f660",
   "metadata": {},
   "outputs": [
    {
     "data": {
      "text/plain": [
       "{'Mariano': 8.0, 'Daniela': 7.0, 'Sofía': 7.75}"
      ]
     },
     "execution_count": null,
     "metadata": {},
     "output_type": "execute_result"
    }
   ],
   "source": [
    "dict(map(lambda datum: (datum[\"nombre\"], media(datum[\"notas\"])), notas))"
   ]
  },
  {
   "cell_type": "markdown",
   "id": "ac79d9da",
   "metadata": {},
   "source": [
    "La clave está en notar que la expresión `lambda` **devuelve una tupla de dos elementos**, donde el primero es el nombre y el segundo, la nota promedio.\n",
    "A partir de estos pares `(str, float)`, se puede construir directamente un diccionario."
   ]
  },
  {
   "cell_type": "markdown",
   "id": "3161e966",
   "metadata": {},
   "source": [
    "### Usando `map` con múltiples iterabes\n",
    "\n",
    "Hasta ahora hemos utilizado `map` con funciones que se aplican sobre los elementos de un único iterable.\n",
    "Sin embargo, `map` también acepta múltiples iterables y los recorre en paralelo, lo que la convierte en una **función variádica**.\n",
    "Esto permite aplicar funciones que toman más de un argumento, una vez por cada grupo de elementos correspondientes.\n",
    "\n",
    "Supongamos que queremos redondear un listado de números utilizando diferentes niveles de precisión. Para redondear un único número podemos usar directamente `round`:"
   ]
  },
  {
   "cell_type": "code",
   "execution_count": 11,
   "id": "5edfe929",
   "metadata": {},
   "outputs": [
    {
     "data": {
      "text/plain": [
       "29.1295"
      ]
     },
     "execution_count": null,
     "metadata": {},
     "output_type": "execute_result"
    }
   ],
   "source": [
    "round(29.12951138, 4)"
   ]
  },
  {
   "cell_type": "markdown",
   "id": "45ec01e3",
   "metadata": {},
   "source": [
    "Si quisiéramos redonear múltiples números en una lista, usando el mismo nivel de precisión, podemos usar `map` y `round`:"
   ]
  },
  {
   "cell_type": "code",
   "execution_count": 12,
   "id": "cb96d59f",
   "metadata": {},
   "outputs": [
    {
     "data": {
      "text/plain": [
       "[30.607, 78.123, 61.95, 68.788, 55.6, 94.976, 90.412, 38.727, 21.302, 66.394]"
      ]
     },
     "execution_count": null,
     "metadata": {},
     "output_type": "execute_result"
    }
   ],
   "source": [
    "numeros = [\n",
    "    30.60726375,\n",
    "    78.12297368,\n",
    "    61.94972186,\n",
    "    68.78842783,\n",
    "    55.60016942,\n",
    "    94.9760221,\n",
    "    90.41151716,\n",
    "    38.72727347,\n",
    "    21.30193307,\n",
    "    66.39407577\n",
    "]\n",
    "list(map(lambda x: round(x, 3), numeros))"
   ]
  },
  {
   "cell_type": "markdown",
   "id": "e19f89a2",
   "metadata": {},
   "source": [
    "¿Y si quisiéramos aplicar diferentes niveles de precisión a cada número? Para ello, **también podemos usar `map`**.\n",
    "Definimos una función que reciba dos argumentos y luego iteramos en paralelo sobre dos iterables: uno con los números y otro con las precisiones correspondientes."
   ]
  },
  {
   "cell_type": "code",
   "execution_count": 13,
   "id": "f624aa7d",
   "metadata": {},
   "outputs": [
    {
     "data": {
      "text/plain": [
       "[30.61, 78.12, 61.95, 68.788, 55.6002, 94.976, 90.41152, 38.72727, 21.3, 66.39]"
      ]
     },
     "execution_count": null,
     "metadata": {},
     "output_type": "execute_result"
    }
   ],
   "source": [
    "precisiones = [2, 2, 3, 3, 4, 4, 5, 5, 2, 2]\n",
    "list(map(lambda x, y: round(x, y), numeros, precisiones))"
   ]
  },
  {
   "cell_type": "markdown",
   "id": "e125643b",
   "metadata": {},
   "source": [
    "::: {.callout-note}\n",
    "##### ¿Qué pasa si un iterable es más corto que el otro? 🤔\n",
    "\n",
    "Cuando se recorren múltiples iterables con `map`, la iteración se detiene tan pronto como se agota el iterable más corto.\n",
    "Por ejemplo, si tenemos 10 números pero solo 5 precisiones, `map` aplicará la función únicamente a los primeros 5 pares de elementos:\n",
    "\n",
    "```python\n",
    "precisiones = [1, 2, 3, 4, 5]\n",
    "list(map(lambda x, y: round(x, y), numeros, precisiones))\n",
    "```\n",
    "```cmd\n",
    "[30.6, 78.12, 61.95, 68.7884, 55.60017]\n",
    "```\n",
    ":::"
   ]
  },
  {
   "cell_type": "markdown",
   "id": "47778596",
   "metadata": {},
   "source": [
    "## _Filter_\n",
    "\n",
    "`filter` se utiliza para seleccionar —o, más precisamente, filtrar— elementos de un iterable según el resultado de aplicar una función.\n",
    "A diferencia de `map`, la función usada por `filter` se aplica sobre los elementos de **un solo iterable** y **debe devolver un valor booleano**.\n",
    "El resultado es un nuevo iterable que contiene únicamente los elementos para los que la función retorna `True`.\n",
    "\n",
    "Como ejemplo del uso de `filter`, vamos a seleccionar las notas menores a 6 a partir de una lista de calificaciones."
   ]
  },
  {
   "cell_type": "code",
   "execution_count": 14,
   "id": "2c649d94",
   "metadata": {},
   "outputs": [
    {
     "data": {
      "text/plain": [
       "[5, 4, 5, 3, 4]"
      ]
     },
     "execution_count": null,
     "metadata": {},
     "output_type": "execute_result"
    }
   ],
   "source": [
    "notas = [6, 9, 6, 5, 7, 4, 5, 8, 3, 10, 9, 4, 7, 8]\n",
    "list(filter(lambda x: x < 6, notas))"
   ]
  },
  {
   "cell_type": "markdown",
   "id": "3115fa02",
   "metadata": {},
   "source": [
    "De este modo, resulta sencillo calcular el promedio de las notas de aquellos que no aprobaron:"
   ]
  },
  {
   "cell_type": "code",
   "execution_count": 15,
   "id": "e3162277",
   "metadata": {},
   "outputs": [
    {
     "data": {
      "text/plain": [
       "4.2"
      ]
     },
     "execution_count": null,
     "metadata": {},
     "output_type": "execute_result"
    }
   ],
   "source": [
    "media(list(filter(lambda x: x < 6, notas)))"
   ]
  },
  {
   "cell_type": "markdown",
   "id": "b8f625a7",
   "metadata": {},
   "source": [
    "Retomando el ejemplo del listado de palabras que se querían revertir, se podría usar `filter` para seleccionar solo aquellas palabras que sean palíndromos, es decir, capicúa."
   ]
  },
  {
   "cell_type": "code",
   "execution_count": 16,
   "id": "4f8d3739",
   "metadata": {},
   "outputs": [
    {
     "data": {
      "text/plain": [
       "['somos', 'anilina']"
      ]
     },
     "execution_count": null,
     "metadata": {},
     "output_type": "execute_result"
    }
   ],
   "source": [
    "palabras = [\"hola\", \"mate\", \"somos\",\" libro\", \"conocer\", \"anilina\", \"programa\"]\n",
    "capicuas = list(filter(lambda p: p[::-1] == p, palabras))\n",
    "capicuas"
   ]
  },
  {
   "cell_type": "markdown",
   "id": "45dff955",
   "metadata": {},
   "source": [
    "Naturalmente, `filter` también puede utilizarse para filtrar objetos más complejos.\n",
    "Por ejemplo, si tenemos una lista de diccionarios con información de estudiantes (nombre, ciudad de origen, edad y fecha de inscripción),\n",
    "podemos usar `filter` para seleccionar aquellos que cumplan **una o más condiciones**.\n",
    "En ese caso, el valor booleano que devuelve la función se construye combinando condiciones mediante operadores lógicos como `and`."
   ]
  },
  {
   "cell_type": "code",
   "execution_count": 17,
   "id": "2570d3ce",
   "metadata": {},
   "outputs": [
    {
     "data": {
      "text/plain": [
       "[{'nombre': 'Julieta', 'ciudad': 'Rosario', 'edad': 19, 'inscripcion': 2025}]"
      ]
     },
     "execution_count": null,
     "metadata": {},
     "output_type": "execute_result"
    }
   ],
   "source": [
    "datos = [\n",
    "    {\"nombre\": \"Agustina\", \"ciudad\": \"Casilda\", \"edad\": 18, \"inscripcion\": 2025},\n",
    "    {\"nombre\": \"Emiliano\", \"ciudad\": \"Rosario\", \"edad\": 21, \"inscripcion\": 2024},\n",
    "    {\"nombre\": \"David\", \"ciudad\": \"Pergamino\", \"edad\": 19, \"inscripcion\": 2024},\n",
    "    {\"nombre\": \"Julieta\", \"ciudad\": \"Rosario\", \"edad\": 19, \"inscripcion\": 2025},\n",
    "    {\"nombre\": \"Victoria\", \"ciudad\": \"Chañar Ladeado\", \"edad\": 18, \"inscripcion\": 2025},\n",
    "    {\"nombre\": \"Fernando\", \"ciudad\": \"Rosario\", \"edad\": 20, \"inscripcion\": 2024},\n",
    "    {\"nombre\": \"Mateo\", \"ciudad\": \"Pérez\", \"edad\": 23, \"inscripcion\": 2025},\n",
    "    {\"nombre\": \"Lucía\", \"ciudad\": \"Rosario\", \"edad\": 22, \"inscripcion\": 2022},\n",
    "    {\"nombre\": \"Joaquín\", \"ciudad\": \"Casilda\", \"edad\": 19, \"inscripcion\": 2025},\n",
    "    {\"nombre\": \"Micaela\", \"ciudad\": \"Rosario\", \"edad\": 18, \"inscripcion\": 2024},\n",
    "]\n",
    "\n",
    "list(filter(lambda x: x[\"ciudad\"] == \"Rosario\" and x[\"inscripcion\"] == 2025, datos))"
   ]
  },
  {
   "cell_type": "markdown",
   "id": "0e2bd6ba",
   "metadata": {},
   "source": [
    "## _Reduce_\n",
    "\n",
    "La función `reduce` permite **reducir** una secuencia a un único valor aplicando de forma sucesiva una de dos argumentos sobre sus elementos.\n",
    "\n",
    "Para utilizarla, es necesario importarla desde el módulo estándar `functools`:"
   ]
  },
  {
   "cell_type": "code",
   "execution_count": 18,
   "id": "85abd668",
   "metadata": {},
   "outputs": [],
   "source": [
    "from functools import reduce"
   ]
  },
  {
   "cell_type": "markdown",
   "id": "af49c8bd",
   "metadata": {},
   "source": [
    "`reduce` aplica la función acumulando resultados de a pares, desde el primer elemento hasta el último. Por ejemplo:\n",
    "\n",
    "```python\n",
    "reduce(lambda x, y: x + y, [1, 2, 3, 4, 5])\n",
    "```\n",
    "\n",
    "equivale a:\n",
    "\n",
    "```python\n",
    "((((1 + 2) + 3) + 4) + 5)\n",
    "```\n",
    "\n",
    "En este caso, es simplemente una forma más rebuscada de escribir `sum([1, 2, 3, 4, 5])` en Python."
   ]
  },
  {
   "cell_type": "markdown",
   "id": "93202adf",
   "metadata": {},
   "source": [
    "Para entender cómo funciona el proceso de acumulación en `reduce`, podemos definir una función que imprima los valores de sus argumentos en cada paso:"
   ]
  },
  {
   "cell_type": "code",
   "execution_count": 19,
   "id": "c56f3642",
   "metadata": {},
   "outputs": [
    {
     "name": "stdout",
     "output_type": "stream",
     "text": [
      "x=1, y=2\n",
      "x=3, y=3\n",
      "x=6, y=4\n",
      "x=10, y=5\n"
     ]
    },
    {
     "data": {
      "text/plain": [
       "15"
      ]
     },
     "execution_count": null,
     "metadata": {},
     "output_type": "execute_result"
    }
   ],
   "source": [
    "def sumar(x, y):\n",
    "    print(f\"x={x}, y={y}\")\n",
    "    return x + y\n",
    "\n",
    "reduce(sumar, [1, 2, 3, 4, 5])"
   ]
  },
  {
   "cell_type": "markdown",
   "id": "1112dfc0",
   "metadata": {},
   "source": [
    "En la primera llamada, `x` e `y` son los dos primeros elementos de la secuencia.\n",
    "En la segunda, `x` es el resultado de la llamada anterior, y `y` es el siguiente elemento de la secuencia.\n",
    "Este proceso continúa hasta que se recorre toda la lista.\n",
    "\n",
    "En resumen:\n",
    "\n",
    "* `x` representa el valor acumulado hasta el momento.\n",
    "* `y` es el nuevo elemento a combinar.\n",
    "\n",
    "Así, `reduce` va aplicando la función paso a paso, acumulando resultados hasta obtener un único valor final."
   ]
  },
  {
   "cell_type": "markdown",
   "id": "053c03a5",
   "metadata": {},
   "source": [
    "Muchas operaciones comunes, como sumas, productos, mínimos o máximos, pueden expresarse mediante reducciones.\n",
    "Por ejemplo, es posible calcular el factorial de un número utilizando una `reduce`:"
   ]
  },
  {
   "cell_type": "code",
   "execution_count": 20,
   "id": "f56bb43e",
   "metadata": {},
   "outputs": [
    {
     "data": {
      "text/plain": [
       "120"
      ]
     },
     "execution_count": null,
     "metadata": {},
     "output_type": "execute_result"
    }
   ],
   "source": [
    "def factorial(n):\n",
    "    return reduce(lambda x, y: x * y, range(1, n + 1))\n",
    "\n",
    "factorial(5)"
   ]
  },
  {
   "cell_type": "markdown",
   "id": "8eb5ac04",
   "metadata": {},
   "source": [
    "La reducción mediante la multiplicación de dos números, aplicada a la secuencia del 1 al `n`, da como resultado el factorial de `n`.\n",
    "\n",
    "Finalmente, podemos ver que combinando una función que devuelve el mayor de dos números y una reducción, es posible obtener el máximo de una secuencia."
   ]
  },
  {
   "cell_type": "code",
   "execution_count": 21,
   "id": "655fdb17",
   "metadata": {},
   "outputs": [
    {
     "data": {
      "text/plain": [
       "101"
      ]
     },
     "execution_count": null,
     "metadata": {},
     "output_type": "execute_result"
    }
   ],
   "source": [
    "def mayor(x, y):\n",
    "    if x > y:\n",
    "        return x\n",
    "    return y\n",
    "\n",
    "reduce(mayor, [23, 49, 6, 32, 101, 9])"
   ]
  },
  {
   "cell_type": "markdown",
   "id": "66f177d0",
   "metadata": {},
   "source": [
    "Vale la pena mencionar que `reduce` acepta un tercer argumento opcional, que especifica el valor inicial de la reducción.\n",
    "Este valor se utiliza como punto de partida antes de procesar los elementos del iterable."
   ]
  },
  {
   "cell_type": "code",
   "execution_count": 22,
   "id": "24123ff4",
   "metadata": {},
   "outputs": [
    {
     "name": "stdout",
     "output_type": "stream",
     "text": [
      "x=20, y=1\n",
      "x=21, y=2\n",
      "x=23, y=3\n",
      "x=26, y=4\n",
      "x=30, y=5\n"
     ]
    },
    {
     "data": {
      "text/plain": [
       "35"
      ]
     },
     "execution_count": null,
     "metadata": {},
     "output_type": "execute_result"
    }
   ],
   "source": [
    "def sumar(x, y):\n",
    "    print(f\"x={x}, y={y}\")\n",
    "    return x + y\n",
    "\n",
    "reduce(sumar, [1, 2, 3, 4, 5], 20)"
   ]
  },
  {
   "cell_type": "markdown",
   "id": "27143588",
   "metadata": {},
   "source": [
    "::: {.callout-note}\n",
    "##### Expresiones condicionales 🔀😱\n",
    "\n",
    "La reducción anterior puede expresarse de forma más concisa utilizando **expresiones condicionales**:\n",
    "\n",
    "```python\n",
    "reduce(lambda x, y: x if x > y else y, [23, 49, 6, 32, 101, 9])\n",
    "```\n",
    "\n",
    "Estas expresiones permiten simplificar asignaciones condicionales.\n",
    "Por ejemplo, el siguiente bloque:\n",
    "\n",
    "```python\n",
    "if x > y:\n",
    "    valor = x\n",
    "else:\n",
    "    valor = y\n",
    "```\n",
    "\n",
    "puede escribirse de manera más compacta así:\n",
    "\n",
    "```python\n",
    "valor = x if x > y else y\n",
    "```\n",
    "\n",
    "En términos generales, la sintaxis es:\n",
    "\n",
    "```python\n",
    "<valor_si_verdadero> if <condición> else <valor_si_falso>\n",
    "```\n",
    "\n",
    ":::"
   ]
  },
  {
   "cell_type": "markdown",
   "id": "a26c9662",
   "metadata": {},
   "source": [
    "## Resumen de _Map_, _Filter_ y _Reduce_\n",
    "\n",
    "El siguiente bloque de código resume el funcionamiento de `map`, `filter` y `reduce`."
   ]
  },
  {
   "cell_type": "code",
   "execution_count": 23,
   "id": "7911b115",
   "metadata": {},
   "outputs": [
    {
     "name": "stdout",
     "output_type": "stream",
     "text": [
      "Map [cuadrados]: [1, 4, 9, 16, 25]\n",
      "Filer [pares]: [1, 4, 9, 16, 25]\n",
      "Reduce [producto]: 120\n"
     ]
    }
   ],
   "source": [
    "numeros = [1, 2, 3, 4, 5]\n",
    "\n",
    "# Map: Aplicar una función a cada elemento de un iterable\n",
    "cuadrados = list(map(lambda x: x**2, numeros))\n",
    "print(\"Map [cuadrados]:\", cuadrados)\n",
    "\n",
    "# Filter: Devuelve el subconjunto de elementos para los que la función devuelve True\n",
    "pares = list(filter(lambda x: x % 2 == 0, numeros))\n",
    "print(\"Filer [pares]:\", cuadrados)\n",
    "\n",
    "# Reduce: Aplica una función de dos argumentos de manera acumulativa a los elementos de una secuencia\n",
    "producto = reduce(lambda x, y: x * y, numeros)\n",
    "print(\"Reduce [producto]:\", producto)"
   ]
  },
  {
   "cell_type": "markdown",
   "id": "f676fc30",
   "metadata": {},
   "source": [
    "### Map y Filter como casos particulares de Reduce 😱"
   ]
  },
  {
   "cell_type": "markdown",
   "id": "33f6a86f",
   "metadata": {},
   "source": [
    "Por otro lado, algo menos evidente es que tanto `map` como `filter` pueden verse como casos particulares de `reduce`.\n",
    "\n",
    "Esta aplicación de `map`:"
   ]
  },
  {
   "cell_type": "code",
   "execution_count": 24,
   "id": "287d0b0c",
   "metadata": {},
   "outputs": [
    {
     "data": {
      "text/plain": [
       "[0, 2, 4, 6, 8, 10, 12, 14, 16, 18]"
      ]
     },
     "execution_count": null,
     "metadata": {},
     "output_type": "execute_result"
    }
   ],
   "source": [
    "list(map(lambda x: x * 2, range(10)))"
   ]
  },
  {
   "cell_type": "markdown",
   "id": "69900dfe",
   "metadata": {},
   "source": [
    "Puede ser reproducida con el siguiente uso de `reduce`:"
   ]
  },
  {
   "cell_type": "code",
   "execution_count": 25,
   "id": "7724fa23",
   "metadata": {},
   "outputs": [
    {
     "data": {
      "text/plain": [
       "[0, 2, 4, 6, 8, 10, 12, 14, 16, 18]"
      ]
     },
     "execution_count": null,
     "metadata": {},
     "output_type": "execute_result"
    }
   ],
   "source": [
    "def duplicar(x):\n",
    "    return x * 2\n",
    "\n",
    "reduce(lambda seq, x: seq + [duplicar(x)], range(10), [])"
   ]
  },
  {
   "cell_type": "markdown",
   "id": "466ca66d",
   "metadata": {},
   "source": [
    "Y el siguiente uso de `filter`"
   ]
  },
  {
   "cell_type": "code",
   "execution_count": 26,
   "id": "d3dc8c5b",
   "metadata": {},
   "outputs": [
    {
     "data": {
      "text/plain": [
       "[1, 3, 5, 7, 9]"
      ]
     },
     "execution_count": null,
     "metadata": {},
     "output_type": "execute_result"
    }
   ],
   "source": [
    "list(filter(lambda x: x % 2 == 1, range(10)))"
   ]
  },
  {
   "cell_type": "code",
   "execution_count": 27,
   "id": "9b791820",
   "metadata": {},
   "outputs": [
    {
     "data": {
      "text/plain": [
       "[1, 3, 5, 7, 9]"
      ]
     },
     "execution_count": null,
     "metadata": {},
     "output_type": "execute_result"
    }
   ],
   "source": [
    "def es_impar(x):\n",
    "    return x % 2 == 1\n",
    "\n",
    "reduce(lambda seq, x: seq + [x] if es_impar(x) else seq, range(10), [])"
   ]
  },
  {
   "cell_type": "markdown",
   "id": "e9a661f4",
   "metadata": {},
   "source": [
    "Estas expresiones con `reduce()` son complejas, pero ilustran claramente el poder de la función:\n",
    "cualquier operación que pueda definirse a partir de una combinación sucesiva de elementos puede, al menos en principio, expresarse como una reducción,\n",
    "aunque no siempre sea la forma más clara o recomendada de hacerlo."
   ]
  },
  {
   "cell_type": "markdown",
   "id": "fd534be4",
   "metadata": {},
   "source": [
    "## _Comprehensions_\n",
    "\n",
    "Cuando usamos `map` y `filter` obtenemos objetos especiales: `map` devuelve un objeto de tipo `map`, y `filter` devuelve un objeto de tipo `filter`.\n",
    "Estos objetos son iterables y perezosos, lo que significa que no realizan ninguna operación hasta que se los recorre o convierte en una colección, como una lista.\n",
    "Por eso, si queremos ver directamente el resultado de una transformación o filtrado, necesitamos envolverlos con `list()`:\n",
    "\n",
    "```python\n",
    "numeros = [1, 2, 3]\n",
    "list(map(lambda x: x * 2, numeros))          # → [2, 4, 6]\n",
    "list(filter(lambda x: x % 2 == 0, numeros))  # → [2]\n",
    "```\n",
    "\n",
    "Aunque `map` y `filter` siguen siendo completamente válidos y útiles, hoy en día se consideran formas algo anticuadas o menos idiomáticas de construir listas transformadas o filtradas en Python.\n",
    "\n",
    "La alternativa moderna y, en general preferida, son las **comprensiones de listas** (del inglés, _list comprehensions_), que permiten expresar las mismas ideas de forma más clara y legible:"
   ]
  },
  {
   "cell_type": "code",
   "execution_count": 28,
   "id": "e62227d4",
   "metadata": {},
   "outputs": [
    {
     "data": {
      "text/plain": [
       "[0, 2, 4, 6, 8, 10, 12, 14, 16, 18, 20]"
      ]
     },
     "execution_count": null,
     "metadata": {},
     "output_type": "execute_result"
    }
   ],
   "source": [
    "numeros = list(range(11))\n",
    "[x * 2 for x in numeros] # Reemplaza a list(map())"
   ]
  },
  {
   "cell_type": "code",
   "execution_count": 29,
   "id": "3ef52439",
   "metadata": {},
   "outputs": [
    {
     "data": {
      "text/plain": [
       "[0, 2, 4, 6, 8, 10]"
      ]
     },
     "execution_count": null,
     "metadata": {},
     "output_type": "execute_result"
    }
   ],
   "source": [
    "[x for x in numeros if x % 2 == 0] # Reemplaza a list(filter())"
   ]
  },
  {
   "cell_type": "markdown",
   "id": "05f83724",
   "metadata": {},
   "source": [
    "### _Comprehension_ como reemplazo de _Map_\n",
    "\n",
    "Supongamos que tenemos una lista de números y queremos restarles su media.\n",
    "\n",
    "Una forma de hacerlo utilizando un bucle `for` sería:"
   ]
  },
  {
   "cell_type": "code",
   "execution_count": 30,
   "id": "f8f750d0",
   "metadata": {},
   "outputs": [
    {
     "data": {
      "text/plain": [
       "[-4.5, -3.5, -2.5, -1.5, -0.5, 0.5, 1.5, 2.5, 3.5, 4.5]"
      ]
     },
     "execution_count": null,
     "metadata": {},
     "output_type": "execute_result"
    }
   ],
   "source": [
    "vector = [1.0, 2.0, 3.0, 4.0, 5.0, 6.0, 7.0, 8.0, 9.0, 10.0]\n",
    "\n",
    "media = media(vector)\n",
    "vector_centrado = []\n",
    "for x in vector:\n",
    "    vector_centrado.append(x - media)\n",
    "\n",
    "vector_centrado"
   ]
  },
  {
   "cell_type": "markdown",
   "id": "a09e1d67",
   "metadata": {},
   "source": [
    "Si, en cambio, decidimos usar `map`, podemos hacer:"
   ]
  },
  {
   "cell_type": "code",
   "execution_count": 31,
   "id": "ce26884a",
   "metadata": {},
   "outputs": [
    {
     "data": {
      "text/plain": [
       "[-4.5, -3.5, -2.5, -1.5, -0.5, 0.5, 1.5, 2.5, 3.5, 4.5]"
      ]
     },
     "execution_count": null,
     "metadata": {},
     "output_type": "execute_result"
    }
   ],
   "source": [
    "list(map(lambda x: x - media, vector))"
   ]
  },
  {
   "cell_type": "markdown",
   "id": "6de45e52",
   "metadata": {},
   "source": [
    "Finalmente, se puede obtener el mismo resultado usando una _list comprehension_:"
   ]
  },
  {
   "cell_type": "code",
   "execution_count": 32,
   "id": "ccd97b2d",
   "metadata": {},
   "outputs": [
    {
     "data": {
      "text/plain": [
       "[-4.5, -3.5, -2.5, -1.5, -0.5, 0.5, 1.5, 2.5, 3.5, 4.5]"
      ]
     },
     "execution_count": null,
     "metadata": {},
     "output_type": "execute_result"
    }
   ],
   "source": [
    "[x - media for x in vector]"
   ]
  },
  {
   "cell_type": "markdown",
   "id": "9e4025f1",
   "metadata": {},
   "source": [
    "La sintaxis general de una  _list comprehension_ que aplica una transformación sobre los elementos de un iterable es:\n",
    "\n",
    "```python\n",
    "[<expresión> for elemento in iterable]\n",
    "```\n",
    "\n",
    "Como se observa en el ejemplo anterior, lo que aparece en la parte izquierda como `<expresión>` no tiene por qué ser una llamada a una función;\n",
    "puede ser **cualquier expresión válida** que produzca un resultado.\n",
    "Es decir, una operación matemática, un formateo de texto, la construcción de una estructura de datos, una llamada a una función, etc."
   ]
  },
  {
   "cell_type": "markdown",
   "id": "3febad48",
   "metadata": {},
   "source": [
    "### _Comprehension_ como reemplazo de _Filter_\n",
    "\n",
    "Ahora veamos con mayor detalle cómo funciona una _list comprehension_ que reemplaza al uso de `filter`. Para eso, retomemos el ejemplo de las palabras capicúa."
   ]
  },
  {
   "cell_type": "code",
   "execution_count": 33,
   "id": "282ecf0a",
   "metadata": {},
   "outputs": [],
   "source": [
    "palabras = [\"hola\", \"mate\", \"somos\",\" libro\", \"conocer\", \"anilina\", \"programa\"]"
   ]
  },
  {
   "cell_type": "markdown",
   "id": "b9a72b1d",
   "metadata": {},
   "source": [
    "Inicialmente, podemos construir un listado de palabras capicúa usando un bucle `for`."
   ]
  },
  {
   "cell_type": "code",
   "execution_count": 34,
   "id": "6cf98266",
   "metadata": {},
   "outputs": [
    {
     "data": {
      "text/plain": [
       "['somos', 'anilina']"
      ]
     },
     "execution_count": null,
     "metadata": {},
     "output_type": "execute_result"
    }
   ],
   "source": [
    "capicuas = []\n",
    "for palabra in palabras:\n",
    "    if palabra == palabra[::-1]:\n",
    "        capicuas.append(palabra)\n",
    "capicuas"
   ]
  },
  {
   "cell_type": "markdown",
   "id": "44ce5cba",
   "metadata": {},
   "source": [
    "Luego, podemos construir el listado de palabras capicúa usando la función de orden superior `filter`."
   ]
  },
  {
   "cell_type": "code",
   "execution_count": 35,
   "id": "59801587",
   "metadata": {},
   "outputs": [
    {
     "data": {
      "text/plain": [
       "['somos', 'anilina']"
      ]
     },
     "execution_count": null,
     "metadata": {},
     "output_type": "execute_result"
    }
   ],
   "source": [
    "list(filter(lambda x: x == x[::-1], palabras))"
   ]
  },
  {
   "cell_type": "markdown",
   "id": "d635f8d1",
   "metadata": {},
   "source": [
    "Y finalmente, se puede obtener exactamente el mismo resultado mediante una _list comprehension_."
   ]
  },
  {
   "cell_type": "code",
   "execution_count": 36,
   "id": "1b4d87c9",
   "metadata": {},
   "outputs": [
    {
     "data": {
      "text/plain": [
       "['somos', 'anilina']"
      ]
     },
     "execution_count": null,
     "metadata": {},
     "output_type": "execute_result"
    }
   ],
   "source": [
    "[palabra for palabra in palabras if palabra == palabra[::-1]]"
   ]
  },
  {
   "cell_type": "markdown",
   "id": "be987ba1",
   "metadata": {},
   "source": [
    "La sintaxis general de una _list comprehension_ que filtra los elementos de un iterable es:\n",
    "\n",
    "```python\n",
    "[elemento for elemento in iterable if <expresión_lógica>]\n",
    "```\n",
    "\n",
    "Al igual que en la _list comprehension_ que aplica funciones a todos los ementos, `<expresión_lógica>` puede ser **cualquier expresión** de Python que devuelva un valor `True` o `False`, o que pueda interpretarse como tal."
   ]
  },
  {
   "cell_type": "markdown",
   "id": "b3ab67a0",
   "metadata": {},
   "source": [
    "::: {.callout-note}\n",
    "##### _Comprehensions_ con expresiones condicionales 😱\n",
    "\n",
    "La estructura general:\n",
    "\n",
    "```python\n",
    "[elemento for elemento in iterable if <expresión_lógica>]\n",
    "```\n",
    "\n",
    "puede modificarse cuando se desea evaluar una expresión en caso de que se cumpla una condición y otra distinta si no se cumple.\n",
    "Para ello, se usa una expresión condicional directamente en la parte izquierda de la comprensión:\n",
    "\n",
    "```python\n",
    "[<expresión_si_verdadero> if <condición> else <expresión_si_falso> for elemento in iterable]\n",
    "```\n",
    "\n",
    "Por ejemplo:\n",
    "\n",
    "```python\n",
    "numeros = [1, 2, 3, 4, 5]\n",
    "[f\"{x} es par\" if x % 2 == 0 else f\"{x} es impar\" for x in numeros]\n",
    "```\n",
    "```cmd\n",
    "['1 es impar', '2 es par', '3 es impar', '4 es par', '5 es impar']\n",
    "```\n",
    ":::"
   ]
  },
  {
   "cell_type": "markdown",
   "id": "d9d3fd4d",
   "metadata": {},
   "source": [
    "::: {.callout-note}\n",
    "##### _Dictionary comprehensions_ 😱😱\n",
    "\n",
    "Las comprensiones en Python no están limitadas a listas.\n",
    "Este patrón también puede utilizarse para construir otras estructuras de datos como diccionarios**, conjuntos e incluso generadores (estructura que veremos más adelante).\n",
    "\n",
    "Por ejemplo, una **comprensión de diccionario** permite crear un `dict` a partir de una secuencia de pares clave-valor:\n",
    "\n",
    "```python\n",
    "def media(x):\n",
    "    return sum(x) / len(x)\n",
    "\n",
    "datos = [\n",
    "    (\"Marcos\", (4, 8, 9, 9)),\n",
    "    (\"Joaquín\", (10, 8, 8, 7)),\n",
    "    (\"Luján\", (10, 9, 9, 10)),\n",
    "]\n",
    "\n",
    "{nombre: media(notas) for nombre, notas in datos}\n",
    "```\n",
    "\n",
    "```cmd\n",
    "{'Marcos': 7.5, 'Joaquín': 8.25, 'Luján': 9.5}\n",
    "```\n",
    "\n",
    ":::"
   ]
  }
 ],
 "metadata": {
  "language_info": {
   "name": "python"
  }
 },
 "nbformat": 4,
 "nbformat_minor": 5
}
