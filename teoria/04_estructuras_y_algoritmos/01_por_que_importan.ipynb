{
 "cells": [
  {
   "cell_type": "markdown",
   "id": "5b87c536",
   "metadata": {},
   "source": [
    "---\n",
    "title: \"1 - ¿Por qué importan?\"\n",
    "toc: true\n",
    "---"
   ]
  },
  {
   "cell_type": "markdown",
   "id": "807d2be5",
   "metadata": {},
   "source": [
    "## Introducción\n",
    "\n",
    "En esta última unidad nos ocuparemos de Estructuras de Datos y Algoritmos. \n",
    "\n",
    "Puede que estos términos suenen un tanto abstractos, pero como veremos a lo largo de estos apuntes, \n",
    "dominarlos nos ayudará a escribir código más eficiente, que corre más rápido y consume menos memoria.\n",
    "\n",
    "En pocas palabras, podemos decir que una estructura datos es una forma sistemática de organizar y \n",
    "acceder a datos, mientras que un algoritmo es un procedimiento paso a paso para realizar una tarea en tiempo finito."
   ]
  },
  {
   "cell_type": "markdown",
   "id": "675e60b7",
   "metadata": {},
   "source": [
    "### Ejemplo disparador\n",
    "\n",
    "A lo largo de este curso hemos ido adquiriendo experiencia en la programación con Python y probablemente\n",
    "hayamos empezado a desarrollar un instinto u olfato que nos permite juzgar la calidad de un programa.\n",
    "Al enfrentarnos con dos programas que realizan la misma tarea, podemos determinar si uno es mejor que otro.\n",
    "\n",
    "No hay un único aspecto que determina la calidad de un programa. Uno de ellos, por ejemplo, es la mantenibilidad.\n",
    "Una base de código legible, organizada y modular es más fácil de manetener que otra poco legible, desorganizada y monolítica.\n",
    "\n",
    "La eficiencia es otro aspecto que determina la calidad de un programa.\n",
    "Por ejemplo, podemos contar con dos funciones que resuelven el mismo problema,\n",
    "pero una de ellas es más rápida que la otra.\n",
    "\n",
    "Las dos funciones debajo resuelven exactamente el mismo problema: imprimir los números pares entre 2 y 100.\n",
    "\n",
    "```python\n",
    "def imprimir_numeros_1():\n",
    "    numero = 2\n",
    "    while numero <= 100:\n",
    "        if numero % 2 == 0:\n",
    "            print(numero)\n",
    "            numero += 1\n",
    "\n",
    "def imprimir_numeros_2():\n",
    "    numero = 2\n",
    "    while numero <= 100:\n",
    "        print(numero)\n",
    "        numero += 2\n",
    "```\n",
    "\n",
    "Sin embargo, cabe preguntarse: ¿cuál de las dos funciones se ejecuta más rápido?\n",
    "\n",
    "La respuesta correcta es la segunda.\n",
    "La primera función realiza 100 iteraciones, mientras que la segunda solo realiza 50.\n",
    "Por lo tanto, la primera función requiere **el doble de pasos** que la segunda para resolver el mismo problema."
   ]
  },
  {
   "cell_type": "markdown",
   "id": "71e28e0c",
   "metadata": {},
   "source": [
    "## Estructuras de datos\n",
    "\n",
    "La palabra **datos** es sencilla y amplia a la vez.\n",
    "Puede referirse tanto a valores elementales, como el número `1`, como a estructuras más complejas, por ejemplo, los datos contenidos en un diccionario anidado.\n",
    "\n",
    "Cuando realizamos una operación como `3 + 5`, los valores 3 y 5 son los datos con los que trabajamos.\n",
    "En particular, las estructuras de datos se refieren al **cómo** se organizan los datos.\n",
    "\n",
    "Observemos el siguiente bloque de código:"
   ]
  },
  {
   "cell_type": "code",
   "execution_count": 5,
   "id": "6ad335ef",
   "metadata": {},
   "outputs": [
    {
     "name": "stdout",
     "output_type": "stream",
     "text": [
      "¡Hola! ¿Cómo estás? ¿Todo bien?\n"
     ]
    }
   ],
   "source": [
    "x = \"¡Hola! \"\n",
    "y = \"¿Cómo estás? \"\n",
    "z = \"¿Todo bien?\"\n",
    "\n",
    "print(x + y + z)"
   ]
  },
  {
   "cell_type": "markdown",
   "id": "9d826e8d",
   "metadata": {},
   "source": [
    "En este programa sencillo se cuenta con tres datos, todos ellos cadenas de texto, que al combinarse forman un mensaje coherente.\n",
    "\n",
    "Si tuvieramos que describir la organización de los datos en este bloque de código,\n",
    "diríamos que se tienen tres cadenas de texto independientes,\n",
    "cada una representada por una variable distina.\n",
    "\n",
    "Pero esta no es la única forma de organizar estos datos.\n",
    "Otra alternativa consiste en agrupar las cadenas de texto en un arreglo, del inglés _array_, que en Python se implementa mediante listas."
   ]
  },
  {
   "cell_type": "code",
   "execution_count": 64,
   "id": "d8b9fee0",
   "metadata": {},
   "outputs": [
    {
     "name": "stdout",
     "output_type": "stream",
     "text": [
      "¡Hola! ¿Cómo estás? ¿Todo bien?\n"
     ]
    }
   ],
   "source": [
    "arreglo = [\"¡Hola! \", \"¿Cómo estás? \", \"¿Todo bien?\"]\n",
    "\n",
    "print(arreglo[0] + arreglo[1] + arreglo[2])"
   ]
  },
  {
   "cell_type": "markdown",
   "id": "cc01eed5",
   "metadata": {},
   "source": [
    "El resultado de ambos bloques es el mismo: se obtiene un único mensaje como resultado de concatenar todas las cadenas de texto, formando un mensaje coherente.\n",
    "\n",
    "Ahora, si nos preguntamos cuál de los dos programas es mejor, no existe una única respuesta correcta,\n",
    "ya que dependerá del criterio en base al cuál es comparan los bloques de código.\n",
    "\n",
    "El objetivo este ejemplo es mostrar que no existe una única forma de organizar los datos de un programa.\n",
    "Más adelante veremos que la forma en que los organizamos no solo afecta cómo se ve un programa, sino también su velocidad de ejecución.\n",
    "Dependiendo de cómo decidamos representar los datos, un programa puede llegar a ser varias órdenes de magnitud más rápido o más lento que otro.\n",
    "\n",
    "Pero antes de correr, hay que aprender a caminar.\n",
    "Empecemos por una estructura de datos con la que estamos más que familiarizados: los arreglos."
   ]
  },
  {
   "cell_type": "markdown",
   "id": "bd07cfcd",
   "metadata": {},
   "source": [
    "### Arreglos\n",
    "\n",
    "El arreglo es una de las estructuras de datos más básicas en la computación.\n",
    "En Python, la estructura _built-in_ que representa al arreglo es la lista, con la que ya hemos trabajado extensamente.\n",
    "Gracias a ello, aprendimos que el arreglo es una estructura de datos muy versátil, que nos puede ayudar en una gran variedad de situaciones.\n",
    "\n",
    "Si tuvieramos que describir al arreglo en pocas palabras, diríamos que es una colección de datos en un orden determinado.\n",
    "\n",
    "Para lo que sigue, consideremos al siguiente arreglo que contiene diferentes tipos de frutos secos:"
   ]
  },
  {
   "cell_type": "code",
   "execution_count": 1,
   "id": "68a51fb4",
   "metadata": {},
   "outputs": [],
   "source": [
    "array = [\"nueces\", \"almendras\", \"pistachos\", \"maníes\", \"castañas\"]"
   ]
  },
  {
   "cell_type": "markdown",
   "id": "9797e5f6",
   "metadata": {},
   "source": [
    "Rápidamente, podríamos decir que trabajamos con arreglo que contiene 5 cadenas de texto, y que cada una representando un fruto seco distinto.\n",
    "\n",
    "Pero los arreglos, al igual que otras estructuras de datos, cargan con vocabulario técnico propio para describirlos:\n",
    "\n",
    "* El tamaño (_size_) del arreglo indica cuántos elementos contiene. En nuestro ejemplo, `array` es un arreglo de tamaño 5.\n",
    "* El índice (_index_) es el número que identifica la posición de cada elemento dentro de él.\n",
    "\n",
    "Como en Python el índice comienza en 0, decimos que `\"nueces\"` está en el índice 0, `\"almendras\"` en el índice 1 y que `\"castañas\"` está en el índice 4.\n",
    "\n",
    "![](imgs/arreglo-con_indice.png){fig-align=\"center\" width=\"700px\"}"
   ]
  },
  {
   "cell_type": "markdown",
   "id": "50a7787d",
   "metadata": {},
   "source": [
    "#### ¿Qué tan buena es una estructura de datos?\n",
    "\n",
    "Una forma de determinar que tan buena es una estructura de datos es midiendo su desempeño para realizar diferentes operaciones.\n",
    "Para ello, se suelen considerar cuatro operaciones básicas que se utilizan para interactuar con la estructura:\n",
    "\n",
    "* Lectura (_read_): acceder a un valor en una posición específica dentro de la estructura.\n",
    "En un arreglo, significa obtener el elemento que se encuentra en un índice determinado.\n",
    "* Búsqueda (_search_): verificar si un valor existe dentro de la estructura y, de ser así, obtener en qué posición se encuentra.\n",
    "* Inserción (_insert_): agregar un nuevo valor a la estructura. En un arreglo, sería añadir un elemento en una posición determinada.\n",
    "* Eliminación (_delete_): quitar un valor existente de la estructura.\n",
    "\n",
    "En las próximas secciones analizaremos la eficiencia de cada una de estas operaciones cuando se aplican a un arreglo."
   ]
  },
  {
   "cell_type": "markdown",
   "id": "d76a66f0",
   "metadata": {},
   "source": [
    "::: {.callout-note}\n",
    "\n",
    "##### Viejos conocidos\n",
    "\n",
    "Ya sabemos como realizar operaciones de lectura, búsqueda, inserción y eliminación con listas de Python. \n",
    "De hecho, para cada una de ellas disponemos de un método específico:\n",
    "\n",
    "```python\n",
    "# Lectura\n",
    "array[indice]\n",
    "\n",
    "# Búsqueda\n",
    "array.index(valor)\n",
    "\n",
    "# Inserción\n",
    "array.insert(valor, indice)\n",
    "\n",
    "# Eliminación\n",
    "array.pop(indice) # Por índice\n",
    "array.remove(valor) # Por valor\n",
    "```\n",
    "\n",
    "Sin embargo, el propósito de esta unidad es comprender cómo funcionan internamente estas operaciones,\n",
    "para así entender las fortalezas y limitaciones de cada estructura de datos.\n",
    "\n",
    ":::"
   ]
  },
  {
   "cell_type": "markdown",
   "id": "59a786fe",
   "metadata": {},
   "source": [
    "#### ¿Cómo se mide la velocidad de una operación?\n",
    "\n",
    "Cuando hablamos de qué tan \"rápida\" es una operación no nos referimos al tiempo en segundos,\n",
    "sino a la **cantidad de pasos** que requiere.\n",
    "\n",
    "Esto se debe a que el tiempo real depende del _hardware_ donde se ejecuta la operación.\n",
    "Un mismo programa puede tardar más en una computadora antigua y menos en una moderna.\n",
    "En cambio, contar los pasos nos permite comparar operaciones independientemente del equipo donde se ejecuten.\n",
    "\n",
    "Por ejemplo, si una operación A necesita 5 pasos y otra B requiere 500, podemos afirmar que A es una operación más rápida que B.\n",
    "\n",
    "A este análisis se lo conoce como medida de la complejidad temporal (_time complexity_) de una operación.\n",
    "\n",
    "A continuación, veremos cuántos pasos requiere cada una de las cuatro operaciones básicas de un arreglo."
   ]
  },
  {
   "cell_type": "markdown",
   "id": "dcaf1ebd",
   "metadata": {},
   "source": [
    "#### Lectura\n",
    "\n",
    "La primera operación que analizaremos es la lectura, que consiste en acceder al valor almacenado en una posición específica del arreglo.\n",
    "En Python, esto se realiza simplemente con el índice:\n",
    "\n",
    "```python\n",
    "array[indice]\n",
    "```\n",
    "\n",
    "Por ejemplo:\n",
    "\n",
    "```python\n",
    "array = [30, 10, 15, 25, 85]\n",
    "array[4]  # Devuelve 85\n",
    "```\n",
    "\n",
    "Gracias al diseño de la memoria RAM (_Random Access Memory_),\n",
    "que permite acceder directamente a cualquier posición sin recorrer otras,\n",
    "la computadora puede leer un elemento de un arreglo en un solo paso.\n",
    "\n",
    "Por ejemplo, en el arreglo `[\"nueces\", \"almendras\", \"pistachos\", \"maníes\", \"castañas\"]`,\n",
    "si pedimos el valor en el índice `2`, el procesador accede de inmediato a la posición correspondiente y devuelve `\"pistachos\"`.\n",
    "\n",
    "##### ¿Por qué esto es posible?\n",
    "\n",
    "Podemos imaginar la memoria como una gran colección de celdas numeradas (algunas vacías, otras con datos).\n",
    "\n",
    "![](imgs/memoria_layout-basico.png){fig-align=\"center\" width=\"700px\"}\n",
    "\n",
    "Cada celda tiene una dirección única.\n",
    "\n",
    "![](imgs/memoria_layout-con_direcciones.png){fig-align=\"center\" width=\"700px\"}\n",
    "\n",
    "Y cuando declaramos un arreglo, la computadora reserva un bloque contiguo de celdas para almacenarlo.\n",
    "\n",
    "![](imgs/memoria_layout-con_vector.png){fig-align=\"center\" width=\"700px\"}\n",
    "\n",
    "Así, si el arreglo ocupa cinco posiciones, el sistema asigna cinco direcciones consecutivas.\n",
    "\n",
    "![](imgs/memoria_layout-con_direcciones_resaltadas.png){fig-align=\"center\" width=\"700px\"}\n",
    "\n",
    "Luego, el procesador puede calcular la posición exacta del elemento `i` mediante una operación aritmética simple:\n",
    "\n",
    "```cmd\n",
    "dirección_base + i * tamaño_del_elemento\n",
    "```\n",
    "\n",
    "Esto explica el nombre memoria de acceso aleatorio:\n",
    "cualquier celda puede leerse o modificarse en el mismo tiempo, sin importar su posición,\n",
    "a diferencia de medios secuenciales (como los discos duros), donde hay que desplazarse físicamente hasta el dato."
   ]
  },
  {
   "cell_type": "markdown",
   "id": "35e48409",
   "metadata": {},
   "source": [
    "En el siguiente diagrama se muestra nuestro arreglo de frutos secos junto con sus índices y direcciones de memoria:\n",
    "\n",
    "Cada índice indica la posición lógica del elemento dentro del arreglo,\n",
    "mientras que cada dirección representa la ubicación física de ese dato en la memoria RAM.\n",
    "\n",
    "![](imgs/arreglo-con_indice_y_direccion.png){fig-align=\"center\" width=\"700px\"}"
   ]
  },
  {
   "cell_type": "markdown",
   "id": "8ecb289a",
   "metadata": {},
   "source": [
    "Por ejemplo, si queremos leer el valor en el índice 3, la computadora toma la dirección inicial (índice 0) y le suma 3,\n",
    "ya que las direcciones de memoria son consecutivas.\n",
    "\n",
    "Aplicado a nuestro arreglo de frutos secos, que comienza en la dirección 1010:\n",
    "\n",
    "1. El índice 0 está en la dirección 1010.\n",
    "2. El índice 3 está tres posiciones después.\n",
    "3. Por lo tanto, su dirección es 1013 (1010 + 3).\n",
    "\n",
    "Así, la computadora puede saltar directamente a la dirección 1013 y ver que allí se encuentra el valor `\"maníes\"`.\n",
    "\n",
    "Leer desde un arreglo es, por tanto, una operación muy eficiente, porque permite acceder a cualquier elemento en un solo paso.\n",
    "\n",
    "Ahora bien, ¿qué ocurre si en lugar de preguntar \"qué valor hay en el índice 3\" queremos saber \"en qué índice se encuentra 'pistachos'\"?\n",
    "\n",
    "Esa es la operación de búsqueda, y será la próxima que analizaremos."
   ]
  },
  {
   "cell_type": "markdown",
   "id": "37fc4b63",
   "metadata": {},
   "source": [
    "#### Búsqueda\n",
    "\n",
    "Buscar en un arreglo consiste en comprobar si un valor existe y, de ser así, obtener en qué índice se encuentra.\n",
    "\n",
    "A la búsqueda se la puede pensar como la operación inversa a la lectura.\n",
    "Mientras que leer implica dar un índice y obtener un valor, buscar implica dar un valor y obtener su índice.\n",
    "\n",
    "Aunque parezcan operaciones similares, su eficiencia difiere muchísimo.\n",
    "\n",
    "La lectura es rápida porque la computadora puede saltar directo a cualquier dirección de la memoria.\n",
    "En cambio, la búsqueda es más lenta, ya que la computadora no puede saltar a un valor específico, sino que debe revisar las celdas una por una hasta encontrarlo.\n",
    "\n",
    "Si retomamos nuestro arreglo de frutos secos, la computadora no \"ve\" los nombres de los elementos, solo una secuencia de celdas con direcciones.\n",
    "Al comenzar la búsqueda, para la computadora, el arreglo podría verse de la siguiente manera.\n",
    "\n",
    "![](imgs/arreglo_busqueda-paso_0.png){fig-align=\"center\" width=\"700px\"}\n",
    "\n",
    "Por lo tanto, para buscar un valor dentro del arreglo, la computadora no tiene otra opción que inspeccionar cada celda de la memoria, una por una.\n",
    "\n",
    "En los diagramas siguientes se muestra el proceso que seguiría para buscar `\"pistachos\"` en nuestro arreglo.\n",
    "\n",
    "Primero, la computadora revisa el índice 0:\n",
    "\n",
    "![](imgs/arreglo_busqueda-paso_1.png){fig-align=\"center\" width=\"700px\"}\n",
    "\n",
    "Como el valor en el índice 0 es \"nueces\" y no \"pistachos\", la computadora avanza al siguiente índice, tal como se muestra a continuación.\n",
    "\n",
    "![](imgs/arreglo_busqueda-paso_2.png){fig-align=\"center\" width=\"700px\"}\n",
    "\n",
    "\n",
    "Hasta que al fin encontramos los tan buscados `\"pistachos\"` y ahora sabemos que se encuentran en el índice 2.\n",
    "\n",
    "![](imgs/arreglo_busqueda-paso_3.png){fig-align=\"center\" width=\"700px\"}\n",
    "\n",
    "En este punto, la computadora ya no necesita seguir revisando el resto del arreglo, porque encontró el valor que buscaba.\n",
    "\n",
    "En este ejemplo, como la computadora tuvo que inspeccionar tres celdas hasta dar con el resultado, decimos que la operación tomó tres pasos en total."
   ]
  },
  {
   "cell_type": "markdown",
   "id": "813c6271",
   "metadata": {},
   "source": [
    "Esta forma de búsqueda, en la que la computadora revisa cada celda una por una, se llama **búsqueda lineal**.\n",
    "\n",
    "Si el valor buscado está en la última celda, o no se encuentra en absoluto, la computadora deberá recorrer todo el arreglo.\n",
    "\n",
    "Así, en un arreglo de 5 elementos, la búsqueda lineal puede requerir hasta 5 pasos; en uno de 500, hasta 500.\n",
    "En general, para un arreglo de N elementos, el número máximo de pasos es N.\n",
    "\n",
    "Esto demuestra que la búsqueda es menos eficiente que la lectura: leer siempre toma un paso, mientras que buscar puede requerir muchos.\n",
    "\n",
    "A continuación veremos la operación de inserción."
   ]
  },
  {
   "cell_type": "markdown",
   "id": "20524bcd",
   "metadata": {},
   "source": [
    "#### Inserción\n",
    "\n",
    "La eficiencia de insertar un nuevo dato en un arreglo depende del lugar donde se realice la inserción.\n",
    "\n",
    "Si queremos agregar `\"pasas\"` al final de nuestra lista de frutos secos, la operación toma un solo paso.\n",
    "Esto es posible porque la computadora conoce tanto la dirección de memoria inicial del arreglo como su tamaño.\n",
    "\n",
    "Por ejemplo, si el arreglo comienza en la dirección 1010 y tiene 5 elementos, el último se encuentra en 1014.\n",
    "Insertar uno nuevo implica simplemente ocupar la siguiente dirección, 1015 (asumiendo que no está ocupada).\n",
    "\n",
    "Una vez calculada esa posición, la computadora puede realizar la inserción en un único paso.\n",
    "\n",
    "![](imgs/arreglo_insercion-al_final.png){fig-align=\"center\" width=\"700px\"}"
   ]
  },
  {
   "cell_type": "markdown",
   "id": "0af5618a",
   "metadata": {},
   "source": [
    "Hay un detalle importante: cuando la computadora reservó memoria para el arreglo, asignó solo cinco celdas.\n",
    "Si agregamos un sexto elemento, puede ser necesario extender el arreglo, lo cual muchos lenguajes hacen automáticamente.\n",
    "\n",
    "Insertar al final es simple, pero hacerlo al inicio o en el medio requiere desplazar los elementos para dejar espacio, lo que añade pasos adicionales.\n",
    "\n",
    "Por ejemplo, si queremos insertar `\"pasas\"` en el índice 2, el proceso sería así:\n",
    "\n",
    "![](imgs/arreglo_insercion-al_medio.png){fig-align=\"center\" width=\"700px\"}"
   ]
  },
  {
   "cell_type": "markdown",
   "id": "23e14a37",
   "metadata": {},
   "source": [
    "Para hacerlo, debemos mover `\"pistachos\"`,  `\"maníes\"` y `\"castañas\"` una posición a la derecha para hacer espacio a `\"pasas\"`.\n",
    "\n",
    "Esto requiere varios pasos: primero se mueve `\"castañas\"` una celda a la derecha, lo que libera un espacio a la derecha de `\"maníes\"`.\n",
    "\n",
    "![](imgs/arreglo_insercion-al_medio_1.png){fig-align=\"center\" width=\"700px\"}"
   ]
  },
  {
   "cell_type": "markdown",
   "id": "3e50f501",
   "metadata": {},
   "source": [
    "Luego, se mueve `\"maníes\"` a la derecha, dejando un espacio a la derecha de `\"pistachos\"`.\n",
    "\n",
    "![](imgs/arreglo_insercion-al_medio_2.png){fig-align=\"center\" width=\"700px\"}"
   ]
  },
  {
   "cell_type": "markdown",
   "id": "568b8a75",
   "metadata": {},
   "source": [
    "Por último, se mueve `\"pistachos\"` a la derecha y se genera el hueco donde se inserta el valor de `\"pasas\"`."
   ]
  },
  {
   "cell_type": "markdown",
   "id": "27e5c514",
   "metadata": {},
   "source": [
    "![](imgs/arreglo_insercion-al_medio_3.png){fig-align=\"center\" width=\"700px\"}"
   ]
  },
  {
   "cell_type": "markdown",
   "id": "d780c428",
   "metadata": {},
   "source": [
    "![](imgs/arreglo_insercion-al_medio_4.png){fig-align=\"center\" width=\"700px\"}"
   ]
  },
  {
   "cell_type": "markdown",
   "id": "aabb86cd",
   "metadata": {},
   "source": [
    "Al final, se cuenta on un arreglo de longitud 6, donde `\"pasas\"` ocupa el índice 2."
   ]
  },
  {
   "cell_type": "markdown",
   "id": "5b0397ad",
   "metadata": {},
   "source": [
    "![](imgs/arreglo_insercion-al_medio_5.png){fig-align=\"center\" width=\"700px\"}"
   ]
  },
  {
   "cell_type": "markdown",
   "id": "85e0bf3d",
   "metadata": {},
   "source": [
    "En este ejemplo la inserción tomó cuatro pasos: tres para mover datos y uno para agregar el nuevo valor.\n",
    "\n",
    "El peor caso ocurre al insertar al inicio del arreglo, ya que hay que desplazar todos los elementos una posición a la derecha.\n",
    "En general, una inserción en el peor escenario requiere N + 1 pasos para un arreglo de N elementos.\n",
    "\n",
    "Ahora pasemos a la última operación: la eliminación."
   ]
  },
  {
   "cell_type": "markdown",
   "id": "038104c8",
   "metadata": {},
   "source": [
    "#### Eliminación\n",
    "\n",
    "Eliminar un elemento de un arreglo consiste en quitar el valor ubicado en un índice determinado.\n",
    "\n",
    "Volviendo a nuestro ejemplo original, eliminemos el valor del índice 1, que corresponde a `\"almendras\"`.\n",
    "\n",
    "![](imgs/arreglo_eliminacion-al_medio_0.png){fig-align=\"center\" width=\"700px\"}"
   ]
  },
  {
   "cell_type": "markdown",
   "id": "71b083ee",
   "metadata": {},
   "source": [
    "Aunque la eliminación en sí toma solo un paso, deja una celda vacía en el medio del arreglo.\n",
    "Como un arreglo no puede tener huecos, es necesario mover los elementos `\"pistachos\"`, `\"maníes\"` y `\"castañas\"` una posición a la izquierda, lo que agrega pasos adicionales al proceso."
   ]
  },
  {
   "cell_type": "markdown",
   "id": "e4c7692b",
   "metadata": {},
   "source": [
    "![](imgs/arreglo_eliminacion-al_medio_1.png){fig-align=\"center\" width=\"700px\"}\n",
    "\n",
    "![](imgs/arreglo_eliminacion-al_medio_2.png){fig-align=\"center\" width=\"700px\"}\n",
    "\n",
    "![](imgs/arreglo_eliminacion-al_medio_3.png){fig-align=\"center\" width=\"700px\"}"
   ]
  },
  {
   "cell_type": "markdown",
   "id": "021756a0",
   "metadata": {},
   "source": [
    "Finalmente, el arreglo se encoje y pasa de tener 5 elementos a tener 4.\n",
    "\n",
    "![](imgs/arreglo_eliminacion-al_medio_4.png){fig-align=\"center\" width=\"700px\"}"
   ]
  },
  {
   "cell_type": "markdown",
   "id": "9ac5f278",
   "metadata": {},
   "source": [
    "En este ejemplo la eliminación toma cuatro pasos: uno para borrar el valor y tres para mover los datos y cerrar el espacio vacío.\n",
    "\n",
    "Al igual que con la inserción, el peor caso ocurre al eliminar el primer elemento del arreglo,\n",
    "ya que el índice 0 queda vacío y es necesario desplazar todos los demás elementos una posición a la izquierda.\n",
    "\n",
    "En un arreglo de 5 elementos, eso implica 1 paso para eliminar y 4 para mover; en uno de 500, 1 para eliminar y 499 para desplazar.\n",
    "En general, para un arreglo con N elementos, la eliminación puede requerir hasta N pasos."
   ]
  },
  {
   "cell_type": "markdown",
   "id": "3af1a02e",
   "metadata": {},
   "source": [
    "Con esto concluimos el análisis de la complejidad temporal de nuestro primer tipo de estructura de datos.\n",
    "\n",
    "Ahora que comprendemos cómo evaluar la eficiencia de las operaciones sobre un arreglo, podemos comparar este comportamiento con el de otras estructuras.\n",
    "\n",
    "La siguiente que estudiaremos es el conjunto (*set*), que a primera vista puede parecer similar a un arreglo, pero veremos que sus operaciones se comportan de manera muy diferente en términos de eficiencia."
   ]
  },
  {
   "cell_type": "markdown",
   "id": "7ebccb46",
   "metadata": {},
   "source": [
    "### Conjuntos\n",
    "\n",
    "En esta breve sección trabajaremos con otra estructura de datos: el conjunto.\n",
    "\n",
    "El conjunto puede ser implementado de diferentes maneras.\n",
    "En Python, por ejemplo, el conjunto es una estructura donde el orden de los elementos no importa.\n",
    "\n",
    "Podemos también suponer un conjunto basado en arreglos.\n",
    "Es decir, la estructura consiste en un arreglo que no permite valores duplicados.\n",
    "\n",
    "En un conjunto basado en un arreglo, las operaciones de lectura, búsqueda y eliminación funcionan igual que en los arreglos.\n",
    "Leer un elemento toma un solo paso y buscar o eliminar puede requerir hasta N pasos.\n",
    "La diferencia aparece en la inserción.\n",
    "\n",
    "Dada la condición de que no se pueden repetir elementos en un conjunto, antes de agregar un valor,\n",
    "la computadora debe verificar que este no exista ya en el conjunto.\n",
    "\n",
    "Esta pequeña modificación implica que para cada inserción primero hay que hacer una búsqueda previa y,\n",
    "solo si el valor no está presente, efectuar la inserción.\n",
    "\n",
    "Por ejemplo, si un conjunto con nombres de alumnos contiene `[\"Ana\", \"Bruno\", \"Carla\", \"Diego\", \"Elena\"]` y queremos agregar `\"Francisco\"`,\n",
    "la computadora primero comprobará que `\"Francisco\"` no esté ya inscripto antes de añadirlo.\n",
    "\n",
    "Se inspeccionan los elementos del conjunto uno a uno, hasta que se encuentra el elemento a insertar o se terminar de recorrer el arreglo.\n",
    "Las siguientes imagenes representan el proceso en nuestro ejemplo:\n",
    "\n",
    "![](imgs/arreglo_conjunto_insercion-paso_0.png){fig-align=\"center\" width=\"700px\"}\n",
    "\n",
    "![](imgs/arreglo_conjunto_insercion-paso_1.png){fig-align=\"center\" width=\"700px\"}\n",
    "\n",
    "![](imgs/arreglo_conjunto_insercion-paso_2.png){fig-align=\"center\" width=\"700px\"}\n",
    "\n",
    "![](imgs/arreglo_conjunto_insercion-paso_3.png){fig-align=\"center\" width=\"700px\"}\n",
    "\n",
    "![](imgs/arreglo_conjunto_insercion-paso_4.png){fig-align=\"center\" width=\"700px\"}"
   ]
  },
  {
   "cell_type": "markdown",
   "id": "a5e62dba",
   "metadata": {},
   "source": [
    "Ahora que hemos buscado en todo el conjunto, sabemos con certeza que no contiene a `\"Francisco\"`.\n",
    "\n",
    "En este punto, podemos realizar la inserción sin problema. Y con eso llegamos al paso final:"
   ]
  },
  {
   "cell_type": "markdown",
   "id": "e690b364",
   "metadata": {},
   "source": [
    "![](imgs/arreglo_conjunto_insercion-paso_5.png){fig-align=\"center\" width=\"700px\"}"
   ]
  },
  {
   "cell_type": "markdown",
   "id": "05f0e233",
   "metadata": {},
   "source": [
    "Insertar un valor al final de un conjunto es el mejor caso posible, pero aun así requiere más pasos que en un arreglo.\n",
    "\n",
    "En un conjunto con N elementos, hay que buscar entre los N valores antes de insertar, lo que implica N + 1 pasos, mientras que en un arreglo basta con uno.\n",
    "\n",
    "En el peor caso, al insertar al inicio, el conjunto requiere 2N + 1 pasos (N para buscar, N para mover y uno para insertar), frente a los N + 1 de un arreglo."
   ]
  },
  {
   "cell_type": "markdown",
   "id": "b496ac80",
   "metadata": {},
   "source": [
    "::: {.callout-note}\n",
    "\n",
    "#### Contando pasos\n",
    "\n",
    "Analizar cuántos pasos requiere una operación es clave para entender el rendimiento de una estructura de datos.\n",
    "Elegir la estructura correcta puede marcar la diferencia entre un programa ágil y uno ineficiente.\n",
    ":::"
   ]
  },
  {
   "cell_type": "markdown",
   "id": "b135daf3",
   "metadata": {},
   "source": [
    "## Algoritmos\n",
    "\n",
    "En la sección anterior vimos cómo la elección de una estructura de datos puede afectar el rendimiento del código.\n",
    "Incluso dos estructuras que parecen similares, como los arreglos y los conjuntos, pueden tener eficiencias muy distintas según la operación.\n",
    "\n",
    "En esta sección vamos a descubrir que, además de la estructura de datos, otro factor clave influye en la eficiencia: el algoritmo que usamos.\n",
    "\n",
    "Aunque la palabra pueda sonar compleja, un algoritmo no es más que un conjunto de pasos definidos para realizar una tarea.\n",
    "Por ejemplo, preparar un mate puede describirse con estos pasos:\n",
    "\n",
    "1. Calentar el agua.\n",
    "2. Colocar la yerba en el mate.\n",
    "3. Insertar la bombilla.\n",
    "4. Servir el agua con cuidado.\n",
    "\n",
    "Si cambiamos el orden y, por ejemplo, echamos el agua antes de la yerba, el resultado es un mal mate o, aún peor, un enchastre total.\n",
    "\n",
    "En computación, un algoritmo es el conjunto de instrucciones que le damos a la computadora para cumplir una tarea.\n",
    "Cada vez que escribimos código, estamos creando algoritmos que la computadora sigue al pie de la letra para obtener un resultado.\n",
    "\n",
    "A veces, distintos algoritmos pueden resolver el mismo problema, pero con eficiencias distintas.\n",
    "Ya vimos un ejemplo al imprimir números pares, donde un algoritmo requería el doble de pasos que otro.\n",
    "En esta sección veremos otro caso similar, en el que una solución resulta mucho más rápida que la otra,\n",
    "y para analizarlo presentaremos una nueva estructura de datos."
   ]
  },
  {
   "cell_type": "markdown",
   "id": "8dd3a827",
   "metadata": {},
   "source": [
    "### Arreglos ordenados\n",
    "\n",
    "El arreglo ordenado es casi idéntico al arreglo clásico que vimos antes.\n",
    "\n",
    "La única diferencia es que en un arreglo ordenado los valores deben mantenerse siempre en orden.\n",
    "Cada vez que se agrega un nuevo valor, este se coloca en la posición correcta para conservar ese orden.\n",
    "\n",
    "Supongamos que tenemos el arreglo `[6, 21, 38, 95]` y queremos insertar el valor `30`.\n",
    "En un arreglo común podríamos agregarlo simplemente al final y tomaría un solo paso.\n",
    "\n",
    "Con un un arreglo ordenado no podemos insertar al final en nu solo paso,\n",
    "ya que podría resultar en un arreglo que no cumple el requisito de que los valores estén ordenados.\n",
    "\n",
    "![](imgs/arreglo_ordenado-intento_insercion.png){fig-align=\"center\" width=\"500px\"}"
   ]
  },
  {
   "cell_type": "markdown",
   "id": "cd41cfee",
   "metadata": {},
   "source": [
    "En un arreglo ordenado debemos insertar el `30` en el lugar correspondiente para que los valores sigan en orden ascendente, como se muestra debajo:\n",
    "\n",
    "![](imgs/arreglo_ordenado-insercion_correcta.png){fig-align=\"center\" width=\"500px\"}"
   ]
  },
  {
   "cell_type": "markdown",
   "id": "fc330162",
   "metadata": {},
   "source": [
    "En la práctica, llevar a cabo esta inserción es más compleja que su simple enunciación.\n",
    "La computadora no puede \"poner\" el 30 en el lugar correcto en un solo paso.\n",
    "Primero debe encontrar dónde insertarlo y luego desplazar los demás valores para crear el espacio necesario.\n",
    "\n",
    "Veamos el proceso paso a paso, partiendo del arreglo ordenado original:\n",
    "\n",
    "![](imgs/arreglo_ordenado-arreglo.png){fig-align=\"center\" width=\"500px\"}"
   ]
  },
  {
   "cell_type": "markdown",
   "id": "727da8f0",
   "metadata": {},
   "source": [
    "Primero verificamos el valor en el índice 0 para decidir si el número que queremos insertar, EL 30, debe ubicarse a su izquierda o a su derecha.\n",
    "\n",
    "![](imgs/arreglo_ordenado-paso_0.png){fig-align=\"center\" width=\"500px\"}"
   ]
  },
  {
   "cell_type": "markdown",
   "id": "cf13673e",
   "metadata": {},
   "source": [
    "Como el 30 es mayor que 6, sabemos que deberá insertarse en alguna posición a su derecha.\n",
    "Cómo aún no sabemos en cuál posición exactamente, debemos revisar la siguiente celda.\n",
    "\n",
    "![](imgs/arreglo_ordenado-paso_1.png){fig-align=\"center\" width=\"500px\"}\n",
    "\n",
    "Como el 30 también es mayor que el valor en la segunda posición, seguimos avanzando hacia la derecha.\n",
    "\n",
    "![](imgs/arreglo_ordenado-paso_2.png){fig-align=\"center\" width=\"500px\"}\n",
    "\n",
    "En este punto, encontramos el valor 38, que es mayor que el 30 y, por lo tanto, sabemos que debemos insertar el 30 a su izquierda.\n",
    "\n",
    "![](imgs/arreglo_ordenado-paso_3.png){fig-align=\"center\" width=\"500px\"}"
   ]
  },
  {
   "cell_type": "markdown",
   "id": "ecf24948",
   "metadata": {},
   "source": [
    "Para hacerlo, necesitamos desplazar los datos y dejar espacio para insertar el 30.\n",
    "\n",
    "![](imgs/arreglo_ordenado-paso_4.png){fig-align=\"center\" width=\"500px\"}"
   ]
  },
  {
   "cell_type": "markdown",
   "id": "8e17e8e4",
   "metadata": {},
   "source": [
    "Cuando insertamos en un arreglo ordenado, siempre debemos buscar primero la posición correcta antes de hacer la inserción.\n",
    "Esa búsqueda previa marca una diferencia importante respecto al arreglo clásico.\n",
    "\n",
    "En el ejemplo, con cuatro elementos, la inserción tomó 6 pasos. En términos generales, para un arreglo con N elementos, la inserción requiere N + 2 pasos.\n",
    "\n",
    "El número total de pasos varía poco según la posición del nuevo valor: si se inserta cerca del inicio, hay menos comparaciones y más desplazamientos.\n",
    "Si se inserta al final, hay más comparaciones y menos movimientos.\n",
    "El caso más rápido ocurre cuando el nuevo valor se agrega al final, ya que no hay que mover nada: se necesitan N pasos de comparación y uno de inserción, es decir, N + 1 pasos.\n",
    "\n",
    "Aunque insertar en un arreglo ordenado es menos eficiente que en uno clásico, esta estructura tiene una gran ventaja cuando se trata de buscar valores, como veremos a continuación."
   ]
  },
  {
   "cell_type": "markdown",
   "id": "f2ccfd98",
   "metadata": {},
   "source": [
    "### Búsqueda en arreglos ordenados\n",
    "\n",
    "En un arreglo clásico, buscar un valor implica revisar las celdas una por una, de izquierda a derecha, hasta encontrarlo o llegar al final. Este proceso se conoce como búsqueda lineal.\n",
    "\n",
    "Por ejemplo, si tenemos el arreglo `[67, 25, 13, 6, 132]` y buscamos el valor `21`,\n",
    "debemos recorrer todos los elementos, ya que podría estar en cualquier posición.\n",
    "Solo podríamos detenernos temprano si encontráramos el valor `21`.\n",
    "\n",
    "En cambio, en un arreglo ordenado podemos detener la búsqueda antes, incluso si el valor no está presente.\n",
    "Si el arreglo es `[6, 13, 25, 67, 132]` y buscamos `21`, podemos detenernos al llegar al `67`, porque sabemos que ningún valor mayor a `21` aparecerá más adelante."
   ]
  },
  {
   "cell_type": "code",
   "execution_count": 3,
   "id": "350467cd",
   "metadata": {},
   "outputs": [],
   "source": [
    "def busqueda_lineal(array, valor):\n",
    "    for indice, elemento in enumerate(array):\n",
    "        if elemento == valor:\n",
    "            return indice\n",
    "        elif elemento > valor:\n",
    "            break\n",
    "    return None"
   ]
  },
  {
   "cell_type": "markdown",
   "id": "b72a5957",
   "metadata": {},
   "source": [
    "Este método recibe dos argumentos: `array`, que es el arreglo ordenado en el que buscamos, y `valor`, que es el valor que queremos encontrar.\n",
    "Así es como usaríamos esta función para buscar el número `21` en nuestro arreglo de ejemplo:"
   ]
  },
  {
   "cell_type": "code",
   "execution_count": 4,
   "id": "12df7119",
   "metadata": {},
   "outputs": [
    {
     "name": "stdout",
     "output_type": "stream",
     "text": [
      "None\n"
     ]
    }
   ],
   "source": [
    "print(busqueda_lineal([6, 13, 25, 67, 132], 21))"
   ]
  },
  {
   "cell_type": "markdown",
   "id": "9d5ee801",
   "metadata": {},
   "source": [
    "La función `busqueda_lineal` inspecciona cada elemento del arreglo en busca del valor indicado.\n",
    "La búsqueda se detiene en el momento en que el elemento actual es mayor que el valor buscado,\n",
    "ya que sabemos que este no puede encontrarse más adelante en el arreglo."
   ]
  },
  {
   "cell_type": "markdown",
   "id": "720d181a",
   "metadata": {},
   "source": [
    "En ciertos casos, la búsqueda lineal puede requerir menos pasos en un arreglo ordenado que en uno clásico.\n",
    "Sin embargo, si el valor buscado está al final o no se encuentra en el arreglo, igualmente habrá que revisar todas los valores.\n",
    "\n",
    "A simple vista, los arreglos clásicos y los ordenados no muestran grandes diferencias en eficiencia, al menos en los peores casos: en ambos, una búsqueda lineal puede requerir hasta N pasos.\n",
    "\n",
    "Pero existe un algoritmo mucho más eficiente que invalida nuestra temprana conclusión.\n",
    "Aunque la búsqueda lineal es una opción para recorrer un arreglo ordenado, no es la única.\n",
    "La gran ventaja de los arreglos ordenados es que permiten aplicar otro tipo de búsqueda:\n",
    "la búsqueda binaria, un algoritmo considerablemente más rápido que la búsqueda lineal."
   ]
  },
  {
   "cell_type": "markdown",
   "id": "741555b2",
   "metadata": {},
   "source": [
    "### Búsqueda binaria\n",
    "\n",
    "Seguro alguna vez jugaste a esto: alguien piensa un número entre 1 y 100, y vos tenés que adivinarlo.\n",
    "Después de cada intento, te dicen si el número buscado es mayor o menor.\n",
    "\n",
    "La estrategia intuitiva no es empezar por el 1, sino por la mitad (por ejemplo, el 50).\n",
    "Así, sin importar la respuesta, se eliminan de una vez la mitad de las posibilidades.\n",
    "\n",
    "Si te dicen que el número es mayor, se puede probar con 75; si es menor, con 25.\n",
    "En cada paso, se vuelve a elegir el punto medio y se reduce el conjunto de números a la mitad.\n",
    "\n",
    "Ese es exactamente el principio detrás de la búsqueda binaria."
   ]
  },
  {
   "cell_type": "markdown",
   "id": "b064c56c",
   "metadata": {},
   "source": [
    "Veamos ahora cómo se aplica la búsqueda binaria sobre un arreglo ordenado.\n",
    "\n",
    "Supongamos que tenemos un arreglo con nueve elementos y que estamos buscando el valor `15`.\n",
    "\n",
    "La computadora no sabe de antemano qué valor hay en cada posición, así que podemos representarlo de esta forma:\n",
    "\n",
    "![](imgs/arreglo_ordenado_busqueda-paso_0.png){fig-align=\"center\" width=\"700px\"}"
   ]
  },
  {
   "cell_type": "markdown",
   "id": "c24fb951",
   "metadata": {},
   "source": [
    "Se inspecciona el valor en la posición central:\n",
    "\n",
    "![](imgs/arreglo_ordenado_busqueda-paso_1.png){fig-align=\"center\" width=\"700px\"}"
   ]
  },
  {
   "cell_type": "markdown",
   "id": "d0d6c758",
   "metadata": {},
   "source": [
    "Como el valor encontrado es 11, podemos concluir que el 15 está a su derecha.\n",
    "\n",
    "Así eliminamos la mitad del arreglo: todas las casillas a la izquierda del 11 (incluida la del 11).\n",
    "\n",
    "![](imgs/arreglo_ordenado_busqueda-paso_2.png){fig-align=\"center\" width=\"700px\"}"
   ]
  },
  {
   "cell_type": "markdown",
   "id": "5467e7ae",
   "metadata": {},
   "source": [
    "A continuación es inspecciona el centro de la mitad que puede contener al valor buscado.\n",
    "\n",
    "![](imgs/arreglo_ordenado_busqueda-paso_3.png){fig-align=\"center\" width=\"700px\"}\n",
    "\n",
    "Como el valor hallado es mayor a 15, inspeccionamos los valores a su izquierda."
   ]
  },
  {
   "cell_type": "markdown",
   "id": "f0fa3656",
   "metadata": {},
   "source": [
    "En este punto quedan dos valores posibles y elegimos arbitrariamente en el de la derecha:\n",
    "\n",
    "![](imgs/arreglo_ordenado_busqueda-paso_4.png){fig-align=\"center\" width=\"700px\"}"
   ]
  },
  {
   "cell_type": "markdown",
   "id": "724ce335",
   "metadata": {},
   "source": [
    "Nuevamente el valor hallado es mayor a 15, por lo que inspeccionamos la última celda posible.\n",
    "Si el valor `15` no se encuentra allí, entonces no está en el arreglo.\n",
    "\n",
    "![](imgs/arreglo_ordenado_busqueda-paso_5.png){fig-align=\"center\" width=\"700px\"}\n",
    "\n",
    "Esta vez, lo encontramos y podemos concluir que el 15 está en el arreglo y devolver su posición."
   ]
  },
  {
   "cell_type": "markdown",
   "id": "f399a649",
   "metadata": {},
   "source": [
    "Con el algoritmo de búsqueda binaria nos llevó cuatro pasos encontrar el valor de interés.\n",
    "Si hubieramos usado búsqueda lineal, nos hubiera llevado 6 pasos.\n",
    "\n",
    "En términos generales la búsqueda binaria será mas rápida que la busqueda lineal, aunque pueden existir ejemplos donde esto no suceda.\n",
    "La gran desventaja de la búsqueda binaria es que solo funciona en arreglos ordenados: en uno desordenado no sabríamos hacia qué lado seguir buscando.\n",
    "\n",
    "A continuación, una implementación del algoritmo de búsqueda binaria en Python:"
   ]
  },
  {
   "cell_type": "code",
   "execution_count": 5,
   "id": "099014cb",
   "metadata": {},
   "outputs": [],
   "source": [
    "def busqueda_binaria(array, valor):\n",
    "    limite_inferior = 0\n",
    "    limite_superior = len(array) - 1\n",
    "\n",
    "    while limite_inferior <= limite_superior:\n",
    "        punto_medio = (limite_inferior + limite_superior) // 2\n",
    "        valor_en_punto_medio = array[punto_medio]\n",
    "\n",
    "        if valor == valor_en_punto_medio:\n",
    "            return punto_medio\n",
    "        elif valor < valor_en_punto_medio:\n",
    "            limite_superior = punto_medio - 1\n",
    "        elif valor > valor_en_punto_medio:\n",
    "            limite_inferior = punto_medio + 1\n",
    "\n",
    "    return None"
   ]
  },
  {
   "cell_type": "code",
   "execution_count": 6,
   "id": "071ba838",
   "metadata": {},
   "outputs": [
    {
     "name": "stdout",
     "output_type": "stream",
     "text": [
      "None\n"
     ]
    }
   ],
   "source": [
    "print(busqueda_binaria([3, 17, 75, 80, 202], 22))"
   ]
  },
  {
   "cell_type": "markdown",
   "id": "b1088afa",
   "metadata": {},
   "source": [
    "### Búsqueda lineal vs. búsqueda binaria\n",
    "\n",
    "Con arreglos pequeños, la búsqueda binaria no tiene mucha ventaja frente a la lineal. Pero al aumentar el tamaño del arreglo, la diferencia se vuelve notable.\n",
    "\n",
    "En un arreglo de 100 elementos, la búsqueda lineal puede requerir hasta 100 pasos, mientras que la binaria necesita solo 7.\n",
    "Con la búsqueda lineal, si el valor buscado está al final, hay que revisar cada elemento.\n",
    "En cambio, la búsqueda binaria descarta la mitad de las opciones en cada intento: el primer paso ya elimina 50 valores.\n",
    "\n",
    "Si el arreglo tiene 3 elementos, la búsqueda binaria requiere 2 pasos; con 7 elementos, 3 pasos; con 15, 4 pasos.\n",
    "Cada vez que se duplica el tamaño del arreglo, solo se suma un paso más.\n",
    "En cambio, la búsqueda lineal duplica su número de pasos cada vez que se duplica el tamaño.\n",
    "\n",
    "Por eso, con 10000 elementos la búsqueda binaria necesita como máximo 13 pasos, y con un millón, solo 20.\n",
    "Esta eficiencia explica por qué la búsqueda binaria es tan poderosa en arreglos ordenados.\n",
    "\n",
    "La siguiente figura muestra como crece la cantidad máxima de pasos que requiere cada tipo de búsqueda conforme crece la cantidad de elementos."
   ]
  },
  {
   "cell_type": "code",
   "execution_count": null,
   "id": "b73cfdde",
   "metadata": {},
   "outputs": [
    {
     "data": {
      "image/png": "[encoded data removed]",
      "text/plain": [
       "<Figure size 700x500 with 1 Axes>"
      ]
     },
     "metadata": {},
     "output_type": "display_data"
    }
   ],
   "source": [
    "#| echo: false\n",
    "import numpy as np\n",
    "import matplotlib.pyplot as plt\n",
    "\n",
    "n = np.arange(40) + 1\n",
    "lineal = n\n",
    "binaria = np.log2(n)\n",
    "\n",
    "fig, ax = plt.subplots(figsize=(7, 5))\n",
    "ax.plot(n, lineal, color=\"C0\", linewidth=2, label=\"Búsqueda lineal\")\n",
    "ax.plot(n, binaria, color=\"C1\", linewidth=2, label=\"Búsqueda binaria\")\n",
    "ax.set(xlabel=\"Número de elementos\", ylabel=\"Número de pasos\", xticklabels=[], yticklabels=[])\n",
    "ax.legend()\n",
    "ax.grid(True, linestyle=\"--\", lw=0.75);"
   ]
  },
  {
   "cell_type": "markdown",
   "id": "2258db63",
   "metadata": {},
   "source": [
    "En el eje horizontal se representa la cantidad de elementos del arreglo: hacia la derecha, el tamaño de los datos aumenta.\n",
    "En el eje vertical, se muestra la cantidad de pasos que requiere el algoritmo: cuanto más arriba, más pasos.\n",
    "\n",
    "La línea de la búsqueda lineal crece de forma proporcional: cada nuevo elemento implica un paso adicional, por eso la gráfica forma una línea diagonal ascendente.\n",
    "\n",
    "En cambio, la búsqueda binaria apenas aumenta su número de pasos al crecer los datos.\n",
    "Para duplicar la cantidad de elementos, solo suma un paso más, lo que produce una curva que crece muy lentamente.\n",
    "\n",
    "Conviene recordar que los arreglos ordenados no son más rápidos en todo: insertar nuevos valores es más lento que en un arreglo común.\n",
    "El beneficio está en la búsqueda. Por eso, antes de elegir una estructura, hay que considerar el uso: ¿harás muchas inserciones o muchas búsquedas?"
   ]
  },
  {
   "cell_type": "markdown",
   "id": "43eaf92c",
   "metadata": {},
   "source": [
    "## _Big_ O\n",
    "\n",
    "Hasta ahora vimos que la eficiencia de un algoritmo depende, principalmente, de la cantidad de pasos que realiza.\n",
    "\n",
    "Pero no podemos decir simplemente que un algoritmo tiene \"35 pasos\" y otro \"200 pasos\", porque ese número en realidad depende del tamaño del problema.\n",
    "Por ejemplo, una búsqueda lineal necesita tantos pasos como elementos haya en el arreglo: si hay 35 elementos, toma 35 pasos; si hay 200, toma 200.\n",
    "\n",
    "Por eso, en lugar de hablar de un número fijo, decimos que la búsqueda lineal requiere N pasos para N elementos.\n",
    "Para expresar esto de forma más clara y general, la informática usa una herramienta tomada de las matemáticas: la notación _Big_ O.\n",
    "\n",
    "_Big_ O permite describir y comparar la eficiencia de los algoritmos con un lenguaje conciso y consistente."
   ]
  },
  {
   "cell_type": "markdown",
   "id": "b22c8cd6",
   "metadata": {},
   "source": [
    "### _Big_ O: es relativo\n",
    "\n",
    "_Big_ O permite comparar algoritmos de forma consistente al centrarse en la cantidad de pasos que requieren,\n",
    "sin importar los detalles específicos. Veamos cómo se aplica a la búsqueda lineal.\n",
    "\n",
    "En el peor de los casos, la búsqueda lineal realiza tantos pasos como elementos haya en el arreglo. Es decir: para N elementos, puede requerir hasta N pasos.\n",
    "\n",
    "En notación Big O, esto se escribe como: O(N). Se lee \"O de N\" u \"orden de N\".\n",
    "\n",
    "Esta expresión responde a una pregunta clave: si hay N elementos, ¿cuántos pasos tomará el algoritmo?."
   ]
  },
  {
   "cell_type": "markdown",
   "id": "1ba6981c",
   "metadata": {},
   "source": [
    "Cuando escribimos O(N), estamos diciendo que el algoritmo necesita N pasos.\n",
    "Volvamos al ejemplo de la búsqueda lineal: si el arreglo tiene N elementos, la búsqueda puede requerir hasta N pasos. Por eso decimos que su complejidad es O(N), o “orden de N”. A este tipo de comportamiento también se lo llama tiempo lineal, porque el número de pasos crece de forma proporcional al tamaño del arreglo.\n",
    "\n",
    "Ahora comparemos esto con la operación de lectura en un arreglo común.\n",
    "Como ya vimos, leer un elemento lleva siempre un solo paso, sin importar cuántos elementos haya. Si nos hacemos la misma pregunta —si hay N elementos, ¿cuántos pasos toma leer uno?— la respuesta es siempre la misma: uno.\n",
    "En notación Big O, esto se expresa como O(1), que se pronuncia “O de uno”.\n",
    "\n",
    "O(1) es un caso especial: aunque la pregunta se formula en función de N, la respuesta no depende de N. No importa si el arreglo tiene 10, 100 o un millón de elementos: leer una posición siempre lleva un paso.\n",
    "Por eso, los algoritmos O(1) se consideran los más rápidos posibles: su tiempo de ejecución es constante, sin importar el tamaño de los datos."
   ]
  },
  {
   "cell_type": "markdown",
   "id": "b09e11db",
   "metadata": {},
   "source": [
    "### _Big_ O: lo que realmente importa\n",
    "\n",
    "Ahora que vimos O(N) y O(1), podemos notar que Big O no se limita a contar pasos —como decir que un algoritmo tarda 22 o 400—, sino que responde a la pregunta clave: si hay N elementos, ¿cuántos pasos realiza el algoritmo?\n",
    "\n",
    "Pero Big O va más allá.\n",
    "Imaginemos un algoritmo que siempre da tres pasos, sin importar el tamaño de los datos. Podríamos pensar en O(3), pero en realidad se expresa como O(1).\n",
    "\n",
    "Esto se debe a que Big O no busca el número exacto de pasos, sino **cómo cambia el rendimiento del algoritmo cuando crece la cantidad de datos**. Esa es el *alma* de Big O.\n",
    "\n",
    "Por eso no distinguimos entre O(1) y O(3): ambos describen algoritmos cuyo tiempo es constante, sin depender del tamaño del problema.\n",
    "\n",
    "En cambio, un algoritmo O(N) es distinto: su tiempo crece proporcionalmente al tamaño de los datos. Esa es la historia que cuenta O(N): cómo el número de pasos aumenta a medida que aumentan los datos."
   ]
  },
  {
   "cell_type": "code",
   "execution_count": null,
   "id": "e2e07070",
   "metadata": {},
   "outputs": [
    {
     "data": {
      "image/png": "[encoded data removed]",
      "text/plain": [
       "<Figure size 700x500 with 1 Axes>"
      ]
     },
     "metadata": {},
     "output_type": "display_data"
    }
   ],
   "source": [
    "#| echo: false\n",
    "n = np.arange(40) + 1\n",
    "o_1 = np.repeat(1, 40)\n",
    "o_n = n\n",
    "\n",
    "fig, ax = plt.subplots(figsize=(7, 5))\n",
    "ax.plot(n, o_1, color=\"C0\", linewidth=2, label=\"O(1)\")\n",
    "ax.plot(n, o_n, color=\"C1\", linewidth=2, label=\"O(n)\")\n",
    "\n",
    "ax.set(xlabel=\"Número de elementos\", ylabel=\"Número de pasos\", xticklabels=[], yticklabels=[])\n",
    "ax.legend()\n",
    "ax.grid(True, linestyle=\"--\", lw=0.75);"
   ]
  },
  {
   "cell_type": "markdown",
   "id": "c9122a11",
   "metadata": {},
   "source": [
    "Observe que O(N) forma una línea diagonal perfecta: por cada nuevo dato, el algoritmo agrega un paso más. Cuantos más datos haya, más pasos requerirá.\n",
    "\n",
    "En cambio, O(1) aparece como una línea horizontal: sin importar la cantidad de datos, el número de pasos se mantiene constante.\n",
    "\n",
    "Para entender por qué el “alma” de Big O es tan importante, vayamos un poco más allá.\n",
    "Imaginemos un algoritmo de tiempo constante que siempre toma 20 pasos, sin importar el tamaño de los datos.\n",
    "\n",
    "¿Dirías que es más o menos eficiente que un algoritmo O(N)?"
   ]
  },
  {
   "cell_type": "code",
   "execution_count": null,
   "id": "e6633fbf",
   "metadata": {},
   "outputs": [
    {
     "data": {
      "image/png": "[encoded data removed]",
      "text/plain": [
       "<Figure size 700x500 with 1 Axes>"
      ]
     },
     "metadata": {},
     "output_type": "display_data"
    }
   ],
   "source": [
    "#| echo: false\n",
    "n = np.arange(40) + 1\n",
    "o_1 = np.repeat(20, 40)\n",
    "o_n = n\n",
    "\n",
    "fig, ax = plt.subplots(figsize=(7, 5))\n",
    "ax.plot(n, o_1, color=\"C0\", linewidth=2, label=\"O(1)\")\n",
    "ax.plot(n, o_n, color=\"C1\", linewidth=2, label=\"O(n)\")\n",
    "\n",
    "ax.set(\n",
    "    xlabel=\"Número de elementos\",\n",
    "    ylabel=\"Número de pasos\",\n",
    "    xticklabels=[],\n",
    "    yticks=[0, 5, 10, 15, 20, 25, 30, 35, 40],\n",
    "    yticklabels=[None, None, None, None, 20, None, None, None, None]\n",
    ")\n",
    "ax.legend()\n",
    "ax.grid(True, linestyle=\"--\", lw=0.75);"
   ]
  },
  {
   "cell_type": "markdown",
   "id": "754012f0",
   "metadata": {},
   "source": [
    "Como muestra el gráfico, con menos de 20 elementos el algoritmo O(N) realiza menos pasos que el algoritmo O(1) que siempre toma 20.\n",
    "En 20 elementos, ambas líneas se cruzan: los dos tardan lo mismo.\n",
    "Pero a partir de ese punto, el O(N) comienza a necesitar más pasos, y la diferencia sigue creciendo a medida que aumenta el tamaño de los datos.\n",
    "\n",
    "Siempre existe un punto a partir del cual O(N) se vuelve menos eficiente, sin importar cuántos pasos fijos tenga el O(1).\n",
    "Incluso si un algoritmo O(1) tomara un millón de pasos constantes, llegaría un tamaño de datos lo suficientemente grande donde el O(N) sería más lento, y seguiría siéndolo hasta el infinito."
   ]
  },
  {
   "cell_type": "markdown",
   "id": "2a0dd853",
   "metadata": {},
   "source": [
    "::: {.callout-note}\n",
    "\n",
    "#### _Big_ O es pesimista\n",
    "\n",
    "La búsqueda lineal no siempre tiene un costo O(N).\n",
    "En el mejor caso, cuando el elemento buscado está en la primera posición, se encuentra en tiempo O(1).\n",
    "En el peor caso, cuando está al final o no se encuentra en absoluto, requiere O(N) pasos.\n",
    "\n",
    "En general, la notación _Big_ O se utiliza para describir el peor caso de un algoritmo, a menos que se indique lo contrario.\n",
    "Este enfoque pesimista resulta útil porque permite anticipar el rendimiento más ineficiente y tomar decisiones informadas sobre qué algoritmo usar.\n",
    "\n",
    ":::"
   ]
  },
  {
   "cell_type": "markdown",
   "id": "239be1ed",
   "metadata": {},
   "source": [
    "### Un tercer tipo\n",
    "\n",
    "En la sección anterior vimos que la búsqueda binaria en un arreglo ordenado es mucho más rápida que la búsqueda lineal.\n",
    "\n",
    "Ahora veamos cómo se expresa eso en términos de notación Big O.\n",
    "\n",
    "No podemos decir que la búsqueda binaria sea O(1), porque el número de pasos aumenta cuando crecen los datos.\n",
    "\n",
    "Tampoco es O(N), ya que el aumento es mucho menor: por ejemplo, con 100 elementos solo requiere unos 7 pasos.\n",
    "\n",
    "La búsqueda binaria se ubica, entonces, entre O(1) y O(N).\n",
    "En notación Big O se expresa como: O(log N)\n",
    "\n",
    "Se lee \"O de log N\" y se la conoce como un algoritmo de tiempo logarítmico.\n",
    "\n",
    "En pocas palabras, O(log N) describe un algoritmo cuyo número de pasos crece en una unidad cada vez que se duplica la cantidad de datos.\n",
    "\n",
    "Eso es exactamente lo que hace la búsqueda binaria.\n",
    "\n",
    "Los algoritmos pueden ordenarse de más a menos eficientes así:\n",
    "\n",
    "* O(1)\n",
    "* O(log N)\n",
    "* O(N)"
   ]
  },
  {
   "cell_type": "code",
   "execution_count": null,
   "id": "2f66ef41",
   "metadata": {},
   "outputs": [
    {
     "data": {
      "image/png": "[encoded data removed]",
      "text/plain": [
       "<Figure size 700x500 with 1 Axes>"
      ]
     },
     "metadata": {},
     "output_type": "display_data"
    }
   ],
   "source": [
    "#| echo: false\n",
    "n = np.arange(30) + 1\n",
    "o_1 = np.repeat(1, 30)\n",
    "o_n = n\n",
    "o_logn = np.log2(n)\n",
    "\n",
    "fig, ax = plt.subplots(figsize=(7, 5))\n",
    "ax.plot(n, o_1, color=\"C0\", linewidth=2, label=\"O(1)\")\n",
    "ax.plot(n, o_n, color=\"C1\", linewidth=2, label=\"O(n)\")\n",
    "ax.plot(n, o_logn, color=\"C2\", linewidth=2, label=\"O(log n)\")\n",
    "\n",
    "ax.set(xlabel=\"Número de elementos\", ylabel=\"Número de pasos\")\n",
    "ax.legend()\n",
    "ax.grid(True, linestyle=\"--\", lw=0.75);"
   ]
  },
  {
   "cell_type": "markdown",
   "id": "590517da",
   "metadata": {},
   "source": [
    "Se puede observar que la curva O(log N) se eleva apenas, lo que la hace un poco menos eficiente que O(1), pero muchísimo más eficiente que O(N)."
   ]
  },
  {
   "cell_type": "markdown",
   "id": "a8b50808",
   "metadata": {},
   "source": [
    "::: {.callout-note}\n",
    "\n",
    "Cuando un algoritmo es O(log N), significa que, para N elementos, realizará log₂ N pasos. Por ejemplo, si hay 8 elementos, tomará 3 pasos, porque log₂ 8 = 3.\n",
    "\n",
    "Podés imaginarlo así: si seguimos dividiendo un arreglo de N elementos a la mitad, necesitaremos log₂ N divisiones hasta quedarnos con un solo elemento. Eso es exactamente lo que ocurre en la búsqueda binaria:\n",
    "\n",
    ":::\n"
   ]
  },
  {
   "cell_type": "markdown",
   "id": "9c419bc5",
   "metadata": {},
   "source": [
    "La siguiente tabla muestra una diferencia notable entre las eficiencias de O(N) y O(log N):\n",
    "\n",
    "| Elementos (N)    | O(N)   | O(log N)  |\n",
    "|:----------------:|:------:|:---------:|\n",
    "| 8                | 8      | 3         |\n",
    "| 16               | 16     | 4         |\n",
    "| 32               | 32     | 5         |\n",
    "| 64               | 64     | 6         |\n",
    "| 128              | 128    | 7         |\n",
    "| 256              | 256    | 8         |\n",
    "| 512              | 512    | 9         |\n",
    "| 1024             | 1024   | 10        |\n",
    "\n",
    "Mientras que un algoritmo O(N) realiza tantas operaciones como elementos hay en los datos, un algoritmo O(log N) agrega solo un paso adicional cada vez que se duplica la cantidad de datos.\n"
   ]
  },
  {
   "cell_type": "markdown",
   "id": "11a5265c",
   "metadata": {},
   "source": [
    "### Complejidad cuadrática\n",
    "\n",
    "Imaginá que estás desarrollando una aplicación en Python que analiza las calificaciones que los usuarios dan a distintos productos, en una escala de 0 a 10.\n",
    "Querés escribir una función que verifique si un arreglo de calificaciones contiene números repetidos.\n",
    "\n",
    "Por ejemplo, el arreglo `[1, 5, 3, 9, 1, 4]` tiene dos valores iguales a 1, por lo que la función debería devolver `True`.\n",
    "\n",
    "Una primera idea podría ser usar **bucles anidados**, como se muestra a continuación:"
   ]
  },
  {
   "cell_type": "code",
   "execution_count": 4,
   "id": "08506658",
   "metadata": {},
   "outputs": [],
   "source": [
    "def contiene_duplicados(array):\n",
    "    for i in range(len(array)):\n",
    "        for j in range(len(array)):\n",
    "            if (i != j) and (array[i] == array[j]):\n",
    "                return True\n",
    "    return False"
   ]
  },
  {
   "cell_type": "markdown",
   "id": "2a834996",
   "metadata": {},
   "source": [
    "En esta función recorremos cada valor del arreglo con la variable `i`.\n",
    "Por cada posición `i`, ejecutamos un segundo bucle que recorre nuevamente todos los valores con la variable `j`, comparando si `array[i]` y `array[j]` son iguales.\n",
    "Si encontramos dos valores iguales, devolvemos `True`.\n",
    "Si completamos todos los bucles sin hallar coincidencias, devolvemos `False`, ya que no hay duplicados.\n",
    "\n",
    "El algoritmo funciona, pero ¿es eficiente?\n",
    "Podemos analizarlo con lo que ya sabemos sobre notación Big O.\n",
    "\n",
    "Big O describe cuántos pasos realiza un algoritmo en función de la cantidad de datos, N.\n",
    "Entonces, para nuestro caso, debemos preguntarnos:\n",
    "si el arreglo tiene N valores, ¿cuántos pasos realiza la función en el peor escenario?\n",
    "\n",
    "El peor caso ocurre cuando **no hay duplicados**, ya que el código debe realizar **todas** las comparaciones posibles antes de terminar.\n",
    "Cada iteración externa del bucle se ejecuta N veces, y dentro de cada una se ejecuta otro bucle N veces más.\n",
    "Por lo tanto, el número total de comparaciones es N × N = N².\n",
    "\n",
    "Decimos entonces que el algoritmo tiene una complejidad **O(N²)**, también conocida como *tiempo cuadrático*."
   ]
  },
  {
   "cell_type": "code",
   "execution_count": 5,
   "id": "037a9305",
   "metadata": {},
   "outputs": [],
   "source": [
    "def contiene_duplicados_v2(array):\n",
    "    pasos = 0\n",
    "    for i in range(len(array)):\n",
    "        for j in range(len(array)):\n",
    "            pasos += 1\n",
    "            if (i != j) and (array[i] == array[j]):\n",
    "                return True\n",
    "\n",
    "    print(pasos)\n",
    "    return False"
   ]
  },
  {
   "cell_type": "code",
   "execution_count": 6,
   "id": "7538cd86",
   "metadata": {},
   "outputs": [
    {
     "name": "stdout",
     "output_type": "stream",
     "text": [
      "25\n"
     ]
    },
    {
     "data": {
      "text/plain": [
       "False"
      ]
     },
     "execution_count": null,
     "metadata": {},
     "output_type": "execute_result"
    }
   ],
   "source": [
    "contiene_duplicados_v2([1, 4, 5, 2, 9])"
   ]
  },
  {
   "cell_type": "markdown",
   "id": "76414eb8",
   "metadata": {},
   "source": [
    "El código adicional imprime la cantidad de pasos realizados cuando no hay duplicados.\n",
    "Por ejemplo, si ejecutamos `contiene_duplicados([1, 4, 5, 2, 9])`, veremos que el programa muestra **25**, lo que significa que se hicieron 25 comparaciones para 5 elementos.\n",
    "Si probamos con otros tamaños, veremos que el resultado siempre es el cuadrado del número de elementos: un comportamiento típico de **O(N²)**.\n",
    "\n",
    "Con frecuencia (aunque no siempre), cuando un algoritmo tiene un bucle dentro de otro, su complejidad es O(N²). Así que, cada vez que veas bucles anidados, deberían sonar las alarmas de O(N²).\n",
    "\n",
    "El hecho de que nuestra función tenga complejidad O(N²) debería hacernos reflexionar: este tipo de algoritmos se consideran **relativamente lentos**.\n",
    "Siempre que te enfrentes a uno, conviene preguntarte si existe una alternativa más eficiente. Puede que no la haya, pero vale la pena analizarlo."
   ]
  },
  {
   "cell_type": "markdown",
   "id": "3c3e788b",
   "metadata": {},
   "source": [
    "#### Solución lineal\n",
    "\n",
    "A continuación se muestra otra versión de la función `contiene_duplicados` que no usa bucles anidados.\n",
    "Su lógica es un poco más ingeniosa, así que primero veremos cómo funciona y luego evaluaremos si resulta más eficiente que la primera implementación."
   ]
  },
  {
   "cell_type": "code",
   "execution_count": 7,
   "id": "219b8166",
   "metadata": {},
   "outputs": [],
   "source": [
    "def contiene_duplicados_lineal(array):\n",
    "    valores_existentes = [0] * 11\n",
    "\n",
    "    for i in range(len(array)):\n",
    "        if valores_existentes[array[i]] == 1:\n",
    "            return True\n",
    "        else:\n",
    "            valores_existentes[array[i]] = 1\n",
    "    return False"
   ]
  },
  {
   "cell_type": "markdown",
   "id": "499c1fc8",
   "metadata": {},
   "source": [
    "Esta función crea un arreglo llamado `valores_existentes`, que comienza con once ceros.\n",
    "Nos aseguramos de que tenga once posiciones para poder registrar las once calificaciones posibles que los usuarios pueden dejar (del 0 al 10).\n",
    "\n",
    "Luego usamos un bucle para revisar cada número del arreglo original.\n",
    "A medida que encontramos cada número, colocamos un valor arbitrario (elegimos usar un `1`) en `valores_existentes`, en la posición correspondiente a ese número.\n",
    "\n",
    "Por ejemplo, si el arreglo de entrada es `[3, 5, 8]`:\n",
    "\n",
    "* Al encontrar el 3, colocamos un `1` en el índice 3 de `valores_existentes`:\n",
    "  `[0, 0, 0, 1, 0, 0, 0, 0, 0, 0, 0]`\n",
    "* Luego, al encontrar el 5, colocamos un `1` en el índice 5:\n",
    "  `[0, 0, 0, 1, 0, 1, 0, 0, 0, 0, 0]`\n",
    "* Finalmente, al llegar al 8, el arreglo queda así:\n",
    "  `[0, 0, 0, 1, 0, 1, 0, 0, 1, 0, 0]`\n",
    "\n",
    "En esencia, estamos usando los índices de `valores_existentes` para recordar qué números del arreglo ya hemos encontrado.\n",
    "\n",
    "Ahora viene el punto clave: antes de guardar un `1` en un índice, el código revisa si ese índice ya tiene un `1`.\n",
    "Si lo tiene, significa que ya encontramos ese número antes, es decir, que hay un duplicado.\n",
    "En ese caso, la función devuelve `True` y termina de inmediato.\n",
    "Si recorremos todo el arreglo sin encontrar duplicados, devolvemos `False`.\n",
    "\n",
    "Para determinar la eficiencia de este nuevo algoritmo en términos de Big O, volvemos a analizar cuántos pasos realiza en el peor caso.\n",
    "\n",
    "El paso importante es revisar cada número y comprobar si el valor en el índice correspondiente de `valores_existentes` es un `1`:\n",
    "\n",
    "```python\n",
    "if valores_existentes[array[i]] == 1:\n",
    "```\n",
    "\n",
    "Además de las comparaciones, el algoritmo también realiza asignaciones en `valores_existentes`, pero consideramos esos pasos triviales en este análisis.\n",
    "\n",
    "El peor caso ocurre cuando el arreglo no contiene duplicados, lo que obliga al código a completar todo el bucle.\n",
    "En consecuencia, para N elementos, el algoritmo realiza N comparaciones: un solo bucle que itera una vez por cada número.\n",
    "\n",
    "Por lo tanto, este algoritmo tiene una complejidad **O(N)**, o *tiempo lineal*.\n",
    "\n",
    "Una desventaja de esta nueva implementación es que consume **más memoria** que la primera.\n"
   ]
  }
 ],
 "metadata": {
  "kernelspec": {
   "display_name": "base",
   "language": "python",
   "name": "python3"
  },
  "language_info": {
   "name": "python"
  }
 },
 "nbformat": 4,
 "nbformat_minor": 5
}
