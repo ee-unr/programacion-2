{
 "cells": [
  {
   "cell_type": "markdown",
   "id": "c212e793",
   "metadata": {},
   "source": [
    "---\n",
    "title: \"2 - Estructuras lineales\"\n",
    "toc: true\n",
    "---"
   ]
  },
  {
   "cell_type": "markdown",
   "id": "c7722e3b",
   "metadata": {},
   "source": [
    "En el apunte anterior exploramos algunas estructuras de datos y nos enfocamos en analizar su desempeño para realizar ciertas operaciones.\n",
    "\n",
    "El desempeño no es el único factor que se considera cuando se elige una estructura de datos.\n",
    "A veces, se utilizan determinadas estructuras de datos porque hacen que nuestro código sea más simple y fácil de leer.\n",
    "\n",
    "En este apunte nos enfocaremos en nuevas estructuras de datos:\n",
    "\n",
    "* Pilas\n",
    "* Colas\n",
    "* Listas enlazadas\n",
    "\n",
    "Hacia el final, tenemos una sección donde también cubrimos variantes de estas estructuras,\n",
    "las colas de dos extremos y las listas doblemente enlazadas."
   ]
  },
  {
   "cell_type": "markdown",
   "id": "b2d55a78",
   "metadata": {},
   "source": [
    "## Pilas\n",
    "\n",
    "Las pilas y las colas no son completamente estructuras nuevas, son arreglos a los que se les agregan ciertas restricciones de funcionamiento. Estas restricciones son las que las vuelven estructuras de datos elegantes para lidiar con datos temporales."
   ]
  },
  {
   "cell_type": "code",
   "execution_count": 26,
   "id": "851b1b17",
   "metadata": {},
   "outputs": [],
   "source": [
    "class Pila:\n",
    "    def __init__(self):\n",
    "        self.data = []\n",
    "\n",
    "    def insertar(self, element):\n",
    "        # push\n",
    "        self.data.append(element)\n",
    "\n",
    "    def extraer(self):\n",
    "        # pop\n",
    "        if len(self.data) > 0:\n",
    "            return self.data.pop()\n",
    "        return None\n",
    "\n",
    "    def leer(self):\n",
    "        # read\n",
    "        if len(self.data) > 0:\n",
    "            return self.data[-1]\n",
    "        return None\n",
    "\n",
    "    @property\n",
    "    def vacia(self):\n",
    "        return len(self.data) == 0"
   ]
  },
  {
   "cell_type": "markdown",
   "id": "133f901c",
   "metadata": {},
   "source": [
    "### Análisis de la eficiencia"
   ]
  },
  {
   "cell_type": "markdown",
   "id": "91b5e871",
   "metadata": {},
   "source": [
    "### Aplicaciones\n",
    "\n",
    "Gracias al protocolo LIFO (del inglés _Last In, First Out_ — \"el último en entrar es el primero en salir\"),\n",
    "una pila puede servir para invertir el orden de los datos.\n",
    "\n",
    "Por ejemplo, si apilamos los valores 1, 2 y 3 en ese orden, al desapilarlos los obtendremos en orden inverso: 3, 2 y 1.\n",
    "\n",
    "Esta idea se puede usar en muchos casos.\n",
    "Por ejemplo, podríamos querer imprimir las líneas de un archivo en orden inverso para mostrar un\n",
    "conjunto de datos en orden descendente en lugar de ascendente.\n",
    "\n",
    "Podemos hacerlo leyendo cada línea, apilándola en la pila, y luego imprimiéndolas en el orden en que se van desapilando."
   ]
  },
  {
   "cell_type": "code",
   "execution_count": 27,
   "id": "39e0249b",
   "metadata": {},
   "outputs": [],
   "source": [
    "def invertir_archivo(origen, destino):\n",
    "    pila = Pila()\n",
    "\n",
    "    with open(origen) as archivo_origen:\n",
    "        for linea in archivo_origen:\n",
    "            pila.insertar(linea.rstrip(\"\\n\"))\n",
    "\n",
    "    with open(destino, \"w\") as archivo_destino:\n",
    "        while not pila.vacia:\n",
    "            archivo_destino.write(pila.extraer() + \"\\n\")"
   ]
  },
  {
   "cell_type": "markdown",
   "id": "035861b6",
   "metadata": {},
   "source": [
    "Si tenemos el siguiente archivo con un extracto de la letra de Tu misterioso alguien de Miranda!:\n",
    "\n",
    "```{.txt filename=\"original.txt\"}\n",
    "¿Quién es tu nuevo amor?\n",
    "¿Tu nueva ocupación?\n",
    "¿Tu misterioso alguien?\n",
    "```\n",
    "\n",
    "y ejecutamos la función de esta manera:\n",
    "\n",
    "```python\n",
    "invertir_archivo(\"original.txt\", \"invertido.txt\")\n",
    "```\n",
    "\n",
    "Luego tenemos:\n",
    "\n",
    "```{.txt filename=\"original.txt\"}\n",
    "¿Tu misterioso alguien?\n",
    "¿Tu nueva ocupación?\n",
    "¿Quién es tu nuevo amor?\n",
    "```"
   ]
  },
  {
   "cell_type": "code",
   "execution_count": 34,
   "id": "c6120151",
   "metadata": {},
   "outputs": [],
   "source": [
    "def verificar_balanceo(expr):\n",
    "    apertura = \"([\"\n",
    "    cierre = \")]\"\n",
    "\n",
    "    pila = Pila()\n",
    "\n",
    "    for caracter in expr:\n",
    "        if caracter in apertura:\n",
    "            pila.insertar(caracter)\n",
    "        elif caracter in cierre:\n",
    "            if pila.vacia: # Nada con que emparejarlo\n",
    "                return False\n",
    "\n",
    "            if cierre.index(caracter) != apertura.index(pila.extraer()): # Mismatch\n",
    "                return False\n",
    "\n",
    "    return pila.vacia"
   ]
  },
  {
   "cell_type": "code",
   "execution_count": 35,
   "id": "ed8c3e55",
   "metadata": {},
   "outputs": [
    {
     "data": {
      "text/plain": [
       "True"
      ]
     },
     "execution_count": null,
     "metadata": {},
     "output_type": "execute_result"
    }
   ],
   "source": [
    "verificar_balanceo(\"(3 + (4 * 5))\")"
   ]
  },
  {
   "cell_type": "code",
   "execution_count": 36,
   "id": "b984dac7",
   "metadata": {},
   "outputs": [
    {
     "data": {
      "text/plain": [
       "True"
      ]
     },
     "execution_count": null,
     "metadata": {},
     "output_type": "execute_result"
    }
   ],
   "source": [
    "verificar_balanceo(\"[3 + (4 * 5)]\")"
   ]
  },
  {
   "cell_type": "code",
   "execution_count": 37,
   "id": "27ac8a6c",
   "metadata": {},
   "outputs": [
    {
     "data": {
      "text/plain": [
       "False"
      ]
     },
     "execution_count": null,
     "metadata": {},
     "output_type": "execute_result"
    }
   ],
   "source": [
    "verificar_balanceo(\"(3 + (4 * 5)\")"
   ]
  },
  {
   "cell_type": "code",
   "execution_count": 38,
   "id": "519d901f",
   "metadata": {},
   "outputs": [
    {
     "data": {
      "text/plain": [
       "False"
      ]
     },
     "execution_count": null,
     "metadata": {},
     "output_type": "execute_result"
    }
   ],
   "source": [
    "verificar_balanceo(\"(3 + [(4 * 5)\")"
   ]
  },
  {
   "cell_type": "markdown",
   "id": "a259577b",
   "metadata": {},
   "source": [
    "### Por qué usar estructuras de datos restringidas"
   ]
  },
  {
   "cell_type": "markdown",
   "id": "08bf3775",
   "metadata": {},
   "source": [
    "## Colas"
   ]
  },
  {
   "cell_type": "code",
   "execution_count": null,
   "id": "5e4b8f15",
   "metadata": {},
   "outputs": [],
   "source": [
    "class Queue:\n",
    "    def __init__(self):\n",
    "        self.data = []\n",
    "\n",
    "    def insertar(self, element):\n",
    "        # enqueue\n",
    "        self.data.append(element)\n",
    "\n",
    "    def extraer(self):\n",
    "        # dequeue\n",
    "        if len(self.data) > 0:\n",
    "            return self.data.pop(0)\n",
    "        return None\n",
    "\n",
    "    def leer(self):\n",
    "        # read\n",
    "        if len(self.data) > 0:\n",
    "            return self.data[0]\n",
    "        return None"
   ]
  },
  {
   "cell_type": "markdown",
   "id": "528149ab",
   "metadata": {},
   "source": [
    "## Listas enlazadas\n",
    "\n",
    "Al igual que un array, una lista enlazada es una estructura de datos que representa una lista de elementos. Si bien superficialmente los arrays y las listas enlazadas se ven y funcionan de forma muy similar, internamente existen grandes diferencias."
   ]
  },
  {
   "cell_type": "code",
   "execution_count": 10,
   "id": "e6087f5c",
   "metadata": {},
   "outputs": [],
   "source": [
    "class Nodo:\n",
    "    def __init__(self, valor):\n",
    "        self.valor = valor\n",
    "        self.siguiente_nodo = None\n",
    "\n",
    "    def __repr__(self):\n",
    "        id_siguiente = None if self.siguiente_nodo is None else id(self.siguiente_nodo)\n",
    "        return f\"Nodo({self.valor}) [{id(self)}] -> [{id_siguiente}]\"\n",
    "\n",
    "n = Nodo(100)\n",
    "m = Nodo(128)\n",
    "n.siguiente_nodo = m"
   ]
  },
  {
   "cell_type": "code",
   "execution_count": 14,
   "id": "c9f0c39d",
   "metadata": {},
   "outputs": [
    {
     "name": "stdout",
     "output_type": "stream",
     "text": [
      "Nodo(100) [140183778339024] -> [140183778337296]\n",
      "Nodo(128) [140183778337296] -> [None]\n"
     ]
    }
   ],
   "source": [
    "print(n)\n",
    "print(m)"
   ]
  },
  {
   "cell_type": "markdown",
   "id": "ffddd851",
   "metadata": {},
   "source": [
    "```python\n",
    "class ListaEnlazada:\n",
    "    def __init__(self, primer_nodo=None):\n",
    "        self.primer_nodo = primer_nodo\n",
    "```"
   ]
  },
  {
   "cell_type": "markdown",
   "id": "e5ae7804",
   "metadata": {},
   "source": [
    "### Lectura"
   ]
  },
  {
   "cell_type": "markdown",
   "id": "68d2948e",
   "metadata": {},
   "source": [
    "```python\n",
    "    def leer(self, indice):\n",
    "        nodo_actual = self.primer_nodo\n",
    "        indice_actual = 0\n",
    "\n",
    "        while indice_actual < indice:\n",
    "            nodo_actual = nodo_actual.siguiente_nodo\n",
    "            indice_actual += 1\n",
    "\n",
    "            if nodo_actual is None:\n",
    "                return None\n",
    "\n",
    "        return nodo_actual.valor\n",
    "```"
   ]
  },
  {
   "cell_type": "markdown",
   "id": "ad1cba50",
   "metadata": {},
   "source": [
    "### Búsqueda"
   ]
  },
  {
   "cell_type": "markdown",
   "id": "6a5980b7",
   "metadata": {},
   "source": [
    "```python\n",
    "    def buscar(self, valor):\n",
    "        nodo_actual = self.primer_nodo\n",
    "        indice_actual = 0\n",
    "\n",
    "        while True:\n",
    "            if nodo_actual.valor == valor:\n",
    "                return indice_actual\n",
    "\n",
    "            nodo_actual = nodo_actual.siguiente_nodo\n",
    "            if nodo_actual is None:\n",
    "                break\n",
    "            indice_actual += 1\n",
    "\n",
    "        return None\n",
    "```"
   ]
  },
  {
   "cell_type": "markdown",
   "id": "0774c0bc",
   "metadata": {},
   "source": [
    "### Inserción"
   ]
  },
  {
   "cell_type": "markdown",
   "id": "2fca1deb",
   "metadata": {},
   "source": [
    "```python\n",
    "def insertar(self, indice, valor):\n",
    "    nodo_nuevo = Nodo(valor)\n",
    "\n",
    "    if indice == 0:\n",
    "        nodo_nuevo.siguiente_nodo = self.primer_nodo\n",
    "        self.primer_nodo = nodo_nuevo\n",
    "        return\n",
    "\n",
    "    nodo_actual = self.primer_nodo\n",
    "    indice_actual = 0\n",
    "\n",
    "    while indice_actual < (indice - 1):\n",
    "        nodo_actual = nodo_actual.siguiente_nodo\n",
    "        indice_actual += 1\n",
    "        nodo_nuevo.siguiente_nodo = nodo_actual.siguiente_nodo\n",
    "        nodo_actual.siguiente_nodo = nodo_nuevo\n",
    "```"
   ]
  },
  {
   "cell_type": "markdown",
   "id": "95006f0b",
   "metadata": {},
   "source": [
    "### Eliminación"
   ]
  },
  {
   "cell_type": "markdown",
   "id": "96462408",
   "metadata": {},
   "source": [
    "```python\n",
    "def eliminar(self, indice):\n",
    "    if indice == 0:\n",
    "        self.primer_nodo = self.primer_nodo.next_node\n",
    "        return\n",
    "\n",
    "    nodo_actual = self.primer_nodo\n",
    "    indice_actual = 0\n",
    "\n",
    "    while indice_actual < (indice - 1):\n",
    "        nodo_actual = nodo_actual.siguiente_nodo\n",
    "        indice_actual += 1\n",
    "        nodo_siguiente_al_eliminado = nodo_actual.siguiente_nodo.siguiente_nodo\n",
    "        nodo_actual.siguiente_nodo = nodo_siguiente_al_eliminado\n",
    "```"
   ]
  },
  {
   "cell_type": "markdown",
   "id": "3154311d",
   "metadata": {},
   "source": [
    "### Enlazando todas las piezas"
   ]
  },
  {
   "cell_type": "code",
   "execution_count": 15,
   "id": "09a40d59",
   "metadata": {},
   "outputs": [],
   "source": [
    "class ListaEnlazada:\n",
    "    def __init__(self, primer_nodo=None):\n",
    "        self.primer_nodo = primer_nodo\n",
    "\n",
    "    def leer(self, indice):\n",
    "        nodo_actual = self.primer_nodo\n",
    "        indice_actual = 0\n",
    "\n",
    "        while indice_actual < indice:\n",
    "            nodo_actual = nodo_actual.siguiente_nodo\n",
    "            indice_actual += 1\n",
    "\n",
    "            if nodo_actual is None:\n",
    "                return None\n",
    "\n",
    "        return nodo_actual.valor\n",
    "\n",
    "    def buscar(self, valor):\n",
    "        nodo_actual = self.primer_nodo\n",
    "        indice_actual = 0\n",
    "\n",
    "        while True:\n",
    "            if nodo_actual.valor == valor:\n",
    "                return indice_actual\n",
    "\n",
    "            nodo_actual = nodo_actual.siguiente_nodo\n",
    "            if nodo_actual is None:\n",
    "                break\n",
    "            indice_actual += 1\n",
    "\n",
    "        return None\n",
    "\n",
    "    def insertar(self, indice, valor):\n",
    "        nodo_nuevo = Nodo(valor)\n",
    "\n",
    "        if indice == 0:\n",
    "            nodo_nuevo.siguiente_nodo = self.primer_nodo\n",
    "            self.primer_nodo = nodo_nuevo\n",
    "            return\n",
    "\n",
    "        nodo_actual = self.primer_nodo\n",
    "        indice_actual = 0\n",
    "\n",
    "        while indice_actual < (indice - 1):\n",
    "            nodo_actual = nodo_actual.siguiente_nodo\n",
    "            indice_actual += 1\n",
    "            nodo_nuevo.siguiente_nodo = nodo_actual.siguiente_nodo\n",
    "            nodo_actual.siguiente_nodo = nodo_nuevo\n",
    "\n",
    "    def eliminar(self, indice):\n",
    "        if indice == 0:\n",
    "            self.primer_nodo = self.primer_nodo.next_node\n",
    "            return\n",
    "\n",
    "        nodo_actual = self.primer_nodo\n",
    "        indice_actual = 0\n",
    "\n",
    "        while indice_actual < (indice - 1):\n",
    "            nodo_actual = nodo_actual.siguiente_nodo\n",
    "            indice_actual += 1\n",
    "            nodo_siguiente_al_eliminado = nodo_actual.siguiente_nodo.siguiente_nodo\n",
    "            nodo_actual.siguiente_nodo = nodo_siguiente_al_eliminado"
   ]
  },
  {
   "cell_type": "markdown",
   "id": "ec64256f",
   "metadata": {},
   "source": [
    "### Análisis de la eficiencia"
   ]
  },
  {
   "cell_type": "markdown",
   "id": "020e4c89",
   "metadata": {},
   "source": [
    "### Aplicaciones"
   ]
  },
  {
   "cell_type": "markdown",
   "id": "09f3b40a",
   "metadata": {},
   "source": [
    "## Otros"
   ]
  },
  {
   "cell_type": "markdown",
   "id": "05b7941c",
   "metadata": {},
   "source": [
    "### Colas de dos extremos"
   ]
  },
  {
   "cell_type": "markdown",
   "id": "22184ca8",
   "metadata": {},
   "source": [
    "### Colas de prioridad"
   ]
  },
  {
   "cell_type": "markdown",
   "id": "90ee025e",
   "metadata": {},
   "source": [
    "### Listas doblemente enlazadas"
   ]
  }
 ],
 "metadata": {
  "language_info": {
   "name": "python"
  }
 },
 "nbformat": 4,
 "nbformat_minor": 5
}
