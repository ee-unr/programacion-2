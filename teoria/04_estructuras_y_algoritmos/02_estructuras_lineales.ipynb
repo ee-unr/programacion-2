{
 "cells": [
  {
   "cell_type": "markdown",
   "id": "c212e793",
   "metadata": {},
   "source": [
    "---\n",
    "title: \"2 - Estructuras lineales\"\n",
    "toc: true\n",
    "---"
   ]
  },
  {
   "cell_type": "markdown",
   "id": "c7722e3b",
   "metadata": {},
   "source": [
    "## Introducción\n",
    "\n",
    "En el apunte anterior exploramos algunas estructuras de datos basadas en arreglos y analizamos su desempeño al realizar distintas operaciones.\n",
    "\n",
    "Sin embargo, el desempeño no es el único factor a considerar al elegir una estructura de datos.\n",
    "En muchos casos, se eligen ciertas estructuras porque permiten escribir un código más simple y fácil de leer.\n",
    "\n",
    "En este apunte nos enfocaremos en las siguientes estructuras:\n",
    "\n",
    "* Pilas\n",
    "* Colas\n",
    "* Listas enlazadas\n",
    "\n",
    "Estas estructuras pertenecen a la categoría de **estructuras lineales**.\n",
    "Las estructuras de datos lineales son aquellas en las que los elementos están organizados uno detrás de otro, formando una secuencia.\n",
    "Cada elemento (excepto el primero y el último) tiene un predecesor y un sucesor.\n",
    "\n",
    "Además, aprenderemos a distinguir entre un **tipo de dato abstracto** y una **estructura de datos concreta**."
   ]
  },
  {
   "cell_type": "markdown",
   "id": "b2d55a78",
   "metadata": {},
   "source": [
    "## Pilas\n",
    "\n",
    "Una pila es una colección de objetos con ciertas restricciones para su inserción y eliminación.\n",
    "Para entender su funcionamiento, podemos imaginar una pila de cajas como la siguiente:\n",
    "\n",
    "![](./imgs/02/pila_cajas.png){fig-align=\"center\" width=\"150px\"}\n",
    "\n",
    "La primera caja que se colocó en la pila es la roja, luego la amarilla, la verde y finalmente la naranja.\n",
    "Si quisiéramos leer el contenido de una caja o extraer una de ellas, no podríamos elegir una cualquiera:\n",
    "habría que empezar desde la parte superior, con la que fue agregada más recientemente.\n",
    "Del mismo modo, si quisiéramos insertar una nueva caja, también deberíamos hacerlo en la cima de la pila.\n",
    "\n",
    "En computación, se dice que la pila es una colección de objetos que se insertan y extraen siguiendo el principio _last-in_, _first-out_ (LIFO),\n",
    "que significa que \"el último en entrar es el primero en salir\".\n",
    "\n",
    "Podemos imaginar un brazo mecánico que permite leer, quitar o agregar cajas en la pila:\n",
    "\n",
    "![](./imgs/02/pila_cajas_brazo.png){fig-align=\"center\" width=\"300px\"}\n",
    "\n",
    "En la computadora, podríamos representar una pila de la siguiente manera:\n",
    "\n",
    "![](./imgs/02/pilas-0.png){fig-align=\"center\"}\n",
    "\n",
    "donde cada caja representa un objeto en memoria.\n",
    "Como ninguna celda tiene propiedades especiales, utilizamos el mismo color para todas:\n",
    "\n",
    "![](./imgs/02/pilas-1.png){fig-align=\"center\"}"
   ]
  },
  {
   "cell_type": "markdown",
   "id": "b92721d7",
   "metadata": {},
   "source": [
    "### Lectura\n",
    "\n",
    "Como ya adelantamos, solo es posible interactuar con el objeto en la cima de la pila.\n",
    "Por lo tanto, solo es posible leer el valor al inicio de la pila, independientemente de que se extraiga o no.\n",
    "Si quisieramos leer un valor posterior, primero deberíamos extraer los valores que están por encima de el."
   ]
  },
  {
   "cell_type": "markdown",
   "id": "d8a6f533",
   "metadata": {},
   "source": [
    "### Inserción\n",
    "\n",
    "Para insertar un valor en la pila, también tenemos que respetar la restricción de que solo podemos modificarla desde la cima.\n",
    "Por lo tanto, si queremos agregar un elemento, tenemos que hacerlo encima de todos los otros elementos.\n",
    "\n",
    "![](./imgs/02/pilas-2.png){fig-align=\"center\"}\n",
    "\n",
    "![](./imgs/02/pilas-3.png){fig-align=\"center\"}"
   ]
  },
  {
   "cell_type": "markdown",
   "id": "5f356a3d",
   "metadata": {},
   "source": [
    "### Eliminación\n",
    "\n",
    "La eliminación de elementos de la pila también tiene que seguir su orden natural:\n",
    "solo podemos eliminar elementos en la cima.\n",
    "\n",
    "La siguiente figura representa la eliminación de `Objeto Y` de la pila.\n",
    "\n",
    "![](./imgs/02/pilas-4.png){fig-align=\"center\"}\n",
    "\n",
    "Y a continuación se representa la eliminación de múltiples elementos:\n",
    "\n",
    "![](./imgs/02/pilas-5.png){fig-align=\"center\"}\n"
   ]
  },
  {
   "cell_type": "markdown",
   "id": "14e9a8b0",
   "metadata": {},
   "source": [
    "### Implementación\n",
    "\n",
    "En la práctica, no existe una pila de celdas de memoria con la que trabajemos directamente.\n",
    "Formalmente, una pila es un tipo de dato abstracto que define un método para insertar objetos en la cima y otro para extraerlos desde la cima.\n",
    "\n",
    "Para utilizar una pila en un programa, necesitamos una implementación concreta de la misma, la cual se apoya en otras estructuras de datos.\n",
    "\n",
    "Una forma de implementar una pila es a partir de un arreglo al que se le imponen ciertas restricciones.\n",
    "Por ejemplo, podemos crear una clase `Pila` que, internamente, almacene los valores utilizando una lista de Python.\n",
    "\n",
    "Para entender la relación entre la pila y el arreglo subyacente, se puede imaginar que la pila se rota o se tumba horizontalmente.\n",
    "El elemento en la cima de la pila corresponderá al último elemento del arreglo, y la base de la pila al primer elemento del arreglo.\n",
    "\n",
    "![](./imgs/02/pilas-horizontal-0.png){fig-align=\"center\"}"
   ]
  },
  {
   "cell_type": "markdown",
   "id": "5f8893bd",
   "metadata": {},
   "source": [
    "Que solo interactuemos con la cima de pila implica que solo interactuamos con la cola del arreglo.\n",
    "\n",
    "![](./imgs/02/pilas-horizontal-1.png){fig-align=\"center\"}"
   ]
  },
  {
   "cell_type": "markdown",
   "id": "f1259753",
   "metadata": {},
   "source": [
    "Cuando insertamos un elemento, lo hacemos al final del arreglo, extendiendo su longitud:\n",
    "\n",
    "![](./imgs/02/pilas-horizontal-2.png){fig-align=\"center\"}"
   ]
  },
  {
   "cell_type": "markdown",
   "id": "e983d08a",
   "metadata": {},
   "source": [
    "Y cuando se elimina un elemento, también lo hacemos al final del arreglo, lo que reduce su longitud:\n",
    "\n",
    "![](./imgs/02/pilas-horizontal-3.png){fig-align=\"center\"}\n",
    "\n",
    "![](./imgs/02/pilas-horizontal-4.png){fig-align=\"center\"}\n",
    "\n",
    "![](./imgs/02/pilas-horizontal-5.png){fig-align=\"center\"}"
   ]
  },
  {
   "cell_type": "markdown",
   "id": "9948974d",
   "metadata": {},
   "source": [
    "Finalmente, tenemos nuestra implementación en Python:"
   ]
  },
  {
   "cell_type": "code",
   "execution_count": null,
   "id": "8f85a43b",
   "metadata": {},
   "outputs": [],
   "source": [
    "class Pila:\n",
    "    def __init__(self):\n",
    "        self._datos = [] # <1>\n",
    "\n",
    "    def insertar(self, element): # <2>\n",
    "        self._datos.append(element) # <2>\n",
    "\n",
    "    def extraer(self): # <3>\n",
    "        if len(self._datos) > 0: # <3>\n",
    "            return self._datos.pop() # <3>\n",
    "        return None # <3>\n",
    "\n",
    "    def leer(self): # <4>\n",
    "        if len(self._datos) > 0: # <4>\n",
    "            return self._datos[-1] # <4>\n",
    "        return None # <4>\n",
    "\n",
    "    @property\n",
    "    def vacia(self):\n",
    "        return len(self._datos) == 0"
   ]
  },
  {
   "cell_type": "markdown",
   "id": "f40710af",
   "metadata": {},
   "source": [
    "1. Internamente, las pilas utilizan un arreglo “protegido” para almacenar los datos.\n",
    "2. Para insertar un elemento, solo se necesita el valor a agregar, no su posición, ya que siempre se incorpora en la cima de la pila (es decir, al final del arreglo interno).\n",
    "3. Al extraer un elemento, tampoco se requiere indicar la posición, ya que siempre se remueve el último elemento ingresado, el que se encuentra en la cima de la pila.\n",
    "4. El método `leer` permite consultar el valor en la cima sin retirarlo."
   ]
  },
  {
   "cell_type": "markdown",
   "id": "91b5e871",
   "metadata": {},
   "source": [
    "### Aplicaciones\n",
    "\n",
    "#### Invertir orden\n",
    "\n",
    "Gracias al protocolo LIFO, una pila puede servir para invertir el orden de los datos.\n",
    "\n",
    "Por ejemplo, si apilamos los valores 1, 2 y 3 en ese orden, al desapilarlos los obtendremos en orden inverso: 3, 2 y 1.\n",
    "\n",
    "Esta idea se puede usar en muchos casos.\n",
    "Por ejemplo, podríamos querer imprimir las líneas de un archivo en orden inverso para mostrar un\n",
    "conjunto de datos en orden descendente en lugar de ascendente.\n",
    "\n",
    "Para hacerlo, basta con leer cada línea, apilarla en la pila y luego imprimirlas en el orden en que se van desapilando."
   ]
  },
  {
   "cell_type": "code",
   "execution_count": 27,
   "id": "39e0249b",
   "metadata": {},
   "outputs": [],
   "source": [
    "def invertir_archivo(origen, destino):\n",
    "    pila = Pila()\n",
    "\n",
    "    with open(origen) as archivo_origen:\n",
    "        for linea in archivo_origen:\n",
    "            pila.insertar(linea.rstrip(\"\\n\"))\n",
    "\n",
    "    with open(destino, \"w\") as archivo_destino:\n",
    "        while not pila.vacia:\n",
    "            archivo_destino.write(pila.extraer() + \"\\n\")"
   ]
  },
  {
   "cell_type": "markdown",
   "id": "035861b6",
   "metadata": {},
   "source": [
    "Si tenemos el siguiente archivo con un extracto de la letra de Tu misterioso alguien de Miranda!:\n",
    "\n",
    "```{.txt filename=\"original.txt\"}\n",
    "¿Quién es tu nuevo amor?\n",
    "¿Tu nueva ocupación?\n",
    "¿Tu misterioso alguien?\n",
    "```\n",
    "\n",
    "y ejecutamos la función de esta manera:\n",
    "\n",
    "```python\n",
    "invertir_archivo(\"original.txt\", \"invertido.txt\")\n",
    "```\n",
    "\n",
    "Luego tenemos:\n",
    "\n",
    "```{.txt filename=\"original.txt\"}\n",
    "¿Tu misterioso alguien?\n",
    "¿Tu nueva ocupación?\n",
    "¿Quién es tu nuevo amor?\n",
    "```"
   ]
  },
  {
   "cell_type": "markdown",
   "id": "f667e95f",
   "metadata": {},
   "source": [
    "#### Verificar de paréntesis y corchetes\n",
    "\n",
    "Otra aplicación de las pilas está relacionada con la verificación de paréntesis y corchetes en expresiones matemáticas.\n",
    "Estos símbolos se utilizan para agrupar partes de una expresión y, por lo general, para modificar el orden en que se evalúan los operadores.\n",
    "\n",
    "Para que una expresión sea válida, cada paréntesis (o corchete) que abre un grupo `(` debe tener su correspondiente cierre `)`.\n",
    "Sin embargo, un simple conteo de paréntesis no es suficiente: la siguiente expresión contiene la misma cantidad de paréntesis de apertura y de cierre, y aun así es incorrecta.\n",
    "\n",
    "```cmd\n",
    "1 +) (3 * 5()\n",
    "```"
   ]
  },
  {
   "cell_type": "markdown",
   "id": "3a7e05d1",
   "metadata": {},
   "source": [
    "La función `verificar_agrupamientos` se vale de una pila para verificar que los paréntesis y corchetes se utilizan correctamente."
   ]
  },
  {
   "cell_type": "code",
   "execution_count": null,
   "id": "c6120151",
   "metadata": {},
   "outputs": [],
   "source": [
    "def verificar_agrupamientos(expr):\n",
    "    apertura = \"([\"\n",
    "    cierre = \")]\"\n",
    "\n",
    "    pila = Pila()\n",
    "\n",
    "    for caracter in expr:\n",
    "        if caracter in apertura:\n",
    "            pila.insertar(caracter)\n",
    "        elif caracter in cierre:\n",
    "            if pila.vacia: # Nada con que emparejarlo\n",
    "                return False\n",
    "\n",
    "            if cierre.index(caracter) != apertura.index(pila.extraer()): # Mismatch\n",
    "                return False\n",
    "\n",
    "    return pila.vacia"
   ]
  },
  {
   "cell_type": "markdown",
   "id": "2c938c4e",
   "metadata": {},
   "source": [
    "La función recorre la secuencia original de izquierda a derecha utilizando una pila `pila` para facilitar la verificación de los símbolos de agrupación.\n",
    "\n",
    "Cada vez que se encuentra un símbolo de apertura, lo apilamos en `pila`.\n",
    "Y cuando se encuentra un símbolo de cierre, desapilamos un elemento de `pila` (si no está vacía) y verificamos que ambos símbolos formen un par válido.\n",
    "\n",
    "Si al llegar al final de la expresión la pila está vacía, significa que la expresión está correctamente balanceada.\n",
    "De lo contrario, debe haber quedado en la pila un símbolo de apertura sin su correspondiente cierre."
   ]
  },
  {
   "cell_type": "code",
   "execution_count": null,
   "id": "ed8c3e55",
   "metadata": {},
   "outputs": [
    {
     "data": {
      "text/plain": [
       "True"
      ]
     },
     "execution_count": null,
     "metadata": {},
     "output_type": "execute_result"
    }
   ],
   "source": [
    "verificar_agrupamientos(\"(3 + (4 * 5))\")"
   ]
  },
  {
   "cell_type": "code",
   "execution_count": null,
   "id": "b984dac7",
   "metadata": {},
   "outputs": [
    {
     "data": {
      "text/plain": [
       "True"
      ]
     },
     "execution_count": null,
     "metadata": {},
     "output_type": "execute_result"
    }
   ],
   "source": [
    "verificar_agrupamientos(\"[3 + (4 * 5)]\")"
   ]
  },
  {
   "cell_type": "code",
   "execution_count": null,
   "id": "27ac8a6c",
   "metadata": {},
   "outputs": [
    {
     "data": {
      "text/plain": [
       "False"
      ]
     },
     "execution_count": null,
     "metadata": {},
     "output_type": "execute_result"
    }
   ],
   "source": [
    "verificar_agrupamientos(\"(3 + (4 * 5)\")"
   ]
  },
  {
   "cell_type": "code",
   "execution_count": null,
   "id": "519d901f",
   "metadata": {},
   "outputs": [
    {
     "data": {
      "text/plain": [
       "False"
      ]
     },
     "execution_count": null,
     "metadata": {},
     "output_type": "execute_result"
    }
   ],
   "source": [
    "verificar_agrupamientos(\"(3 + [(4 * 5)\")"
   ]
  },
  {
   "cell_type": "markdown",
   "id": "08bf3775",
   "metadata": {},
   "source": [
    "## Colas\n",
    "\n",
    "La cola es otra estructura de datos fundamental, un pariente cercano de la pila.\n",
    "Al igual que ella, la cola es una colección ordenada de objetos.\n",
    "Sin embargo, los objetos se insertan y se extraen siguiendo el principio _first in, first out_ (FIFO), es decir, el primero en entrar es el primero en salir.\n",
    "\n",
    "Para familiarizarnos con esta estructura, podemos imaginar una fila de personas esperando para entrar a un banco, como se muestra en la imagen:\n",
    "\n",
    "![](./imgs/02/cola_personas.png){fig-align=\"center\" width=\"700px\"}\n",
    "\n",
    "Los primeros en haber llegado son los primeros en entrar al banco, mientras que quienes llegan después se ubican al final de la cola y deben esperar a que ingresen quienes estan delante suyo para ingresar.\n",
    "\n",
    "Esta estructura tiene numerosas aplicaciones prácticas.\n",
    "En la vida real, restaurantes, tiendas, plataformas de ventas de entradas y otros procesan solicitudes siguiendo el principio FIFO.\n",
    "En los sistemas informáticos, como impresoras en red o servidores web, las peticiones también se atienden en orden de llegada.\n",
    "En todos estos casos, utilizar una cola es una forma natural y lógica de organizar las solicitudes."
   ]
  },
  {
   "cell_type": "markdown",
   "id": "5dbdc738",
   "metadata": {},
   "source": [
    "### Implementación\n",
    "\n",
    "Las colas son un tipo de dato abstracto, ya que definen cómo deben comportarse, pero no cómo se implementan.\n",
    "Para utilizarlas en un programa necesitamos una implementación concreta.\n",
    "\n",
    "Una forma de hacerlo es mediante un arreglo restringido, donde solo se puede extraer el elemento del frente (índice 0)\n",
    "y agregar nuevos elementos al final (índice n).\n",
    "\n",
    "![](./imgs/02/colas-1.png){fig-align=\"center\"}"
   ]
  },
  {
   "cell_type": "markdown",
   "id": "11e4f25f",
   "metadata": {},
   "source": [
    "Cuando se desea insertar un nuevo elemento en la estructura de datos, siempre se hace al final.\n",
    "\n",
    "![](./imgs/02/colas-3.png){fig-align=\"center\"}"
   ]
  },
  {
   "cell_type": "markdown",
   "id": "36517168",
   "metadata": {},
   "source": [
    "Si luego se desea agregar otro elemento, simplemente se repite el proceso.\n",
    "\n",
    "![](./imgs/02/colas-4.png){fig-align=\"center\"}"
   ]
  },
  {
   "cell_type": "markdown",
   "id": "3d9af83c",
   "metadata": {},
   "source": [
    "Por el contrario, a la hora de extraer un elemento, solo se puede realizar desde el frente de la cola:\n",
    "\n",
    "![](./imgs/02/colas-5.png){fig-align=\"center\"}\n",
    "\n",
    "![](./imgs/02/colas-6.png){fig-align=\"center\"}"
   ]
  },
  {
   "cell_type": "markdown",
   "id": "812b4bf1",
   "metadata": {},
   "source": [
    "Una implementación en Python de la cola basada en arreglos es la siguiente:"
   ]
  },
  {
   "cell_type": "code",
   "execution_count": 26,
   "id": "5e4b8f15",
   "metadata": {},
   "outputs": [],
   "source": [
    "class Cola:\n",
    "    def __init__(self):\n",
    "        self._datos = []\n",
    "\n",
    "    def insertar(self, element): # enqueue\n",
    "        self._datos.append(element)\n",
    "\n",
    "    def extraer(self): # dequeue\n",
    "        if len(self._datos) > 0:\n",
    "            return self._datos.pop(0)\n",
    "        return None\n",
    "\n",
    "    def leer(self):\n",
    "        if len(self._datos) > 0:\n",
    "            return self._datos[0]\n",
    "        return None\n",
    "\n",
    "    @property\n",
    "    def vacia(self):\n",
    "        return len(self._datos) == 0\n",
    "    \n",
    "    def __len__(self):\n",
    "        return len(self._datos)"
   ]
  },
  {
   "cell_type": "markdown",
   "id": "e4a9e154",
   "metadata": {},
   "source": [
    "Del mismo modo que la clase `Pila`, la clase `Cola` utiliza un arreglo interno llamado `_datos` para almacenar los valores.\n",
    "También define métodos para insertar y extraer elementos, con la diferencia de que la extracción se realiza desde el frente y no desde la parte posterior, \n",
    "siguiendo el principio FIFO (_first in, first out_), es decir, el primero en entrar es el primero en salir."
   ]
  },
  {
   "cell_type": "markdown",
   "id": "e15c5d52",
   "metadata": {},
   "source": [
    "### Aplicaciones\n",
    "\n",
    "#### "
   ]
  },
  {
   "cell_type": "markdown",
   "id": "e88764e8",
   "metadata": {},
   "source": [
    "#### Cola de impresión"
   ]
  },
  {
   "cell_type": "code",
   "execution_count": 6,
   "id": "11776fbb",
   "metadata": {},
   "outputs": [
    {
     "name": "stdout",
     "output_type": "stream",
     "text": [
      "Imprimiendo documento1.pdf...\n",
      "Imprimiendo documento2.docx...\n",
      "Imprimiendo documento3.xlsx...\n"
     ]
    },
    {
     "data": {
      "text/plain": [
       "True"
      ]
     },
     "execution_count": 6,
     "metadata": {},
     "output_type": "execute_result"
    }
   ],
   "source": [
    "cola_impresion = Cola()\n",
    "cola_impresion.insertar(\"documento1.pdf\")\n",
    "cola_impresion.insertar(\"documento2.docx\")\n",
    "cola_impresion.insertar(\"documento3.xlsx\")\n",
    "\n",
    "while not cola_impresion.vacia:\n",
    "    print(f\"Imprimiendo {cola_impresion.extraer()}...\")\n",
    "\n",
    "cola_impresion.vacia"
   ]
  },
  {
   "cell_type": "markdown",
   "id": "464d71f4",
   "metadata": {},
   "source": [
    "#### Atención de llamadas 🧩\n",
    "\n",
    "El siguiente programa contiene un ejemplo más realista donde se usa una cola como estructura de datos para una gestionar llamadas en espera.\n",
    "\n",
    "```python\n",
    "def simular_centro_de_llamadas(tiempo_total=15):\n",
    "    cola = Cola()\n",
    "    nombres = [\"Ana\", \"Bruno\", \"Carla\", \"Damián\", \"Eva\"]\n",
    "\n",
    "    tiempo_inicial = time.time()\n",
    "\n",
    "    while time.time() - tiempo_inicial < tiempo_total:\n",
    "        accion = random.random()\n",
    "        ahora = datetime.now().strftime(\"%H:%M:%S\")\n",
    "\n",
    "        # Simula la llegada de una llamada, con 50% de probabilidad\n",
    "        if accion < 0.5:\n",
    "            llamada = {\"cliente\": random.choice(nombres), \"hora\": ahora}\n",
    "            cola.insertar(llamada)\n",
    "            print(f\"[{ahora}] Nueva llamada de {llamada['cliente']}\")\n",
    "            print(f\"    → Llamadas en espera: {len(cola)}\")\n",
    "        # Simula la atención de una llamada, con 40% de probabilidad\n",
    "        elif accion < 0.9 and not cola.vacia:\n",
    "            llamada = cola.extraer()\n",
    "            print(f\"[{ahora}]  Atendiendo a {llamada['cliente']} (recibida a las {llamada['hora']})\")\n",
    "            print(f\"    → Quedan {len(cola)} llamadas en espera\")\n",
    "        # Caso contrario, no se hace nada\n",
    "        else:\n",
    "            print(f\"[{ahora}] Sin actividad...\")\n",
    "        \n",
    "        # Controla la velocidad de la simulación\n",
    "        time.sleep(random.uniform(1, 2))\n",
    "\n",
    "    print(\"\\nFin de la simulación.\")\n",
    "\n",
    "if __name__ == \"__main__\":\n",
    "    simular_centro_de_llamadas()\n",
    "```"
   ]
  },
  {
   "cell_type": "markdown",
   "id": "af597487",
   "metadata": {},
   "source": [
    "<center>\n",
    "<video controls width=\"700\" preload=\"metadata\" style=\"border-radius: 8px; max-width: 100%;\">\n",
    "  <source src=\"imgs/02/cola_llamadas.webm\" type=\"video/webm\" />\n",
    "</video>\n",
    "</center>"
   ]
  },
  {
   "cell_type": "markdown",
   "id": "d2d11b05",
   "metadata": {},
   "source": [
    "### Por qué usar estructuras de datos restringidas\n",
    "\n",
    "Si para implementar una pila necesitamos restringir un arreglo, \n",
    "¿por qué no usamos directamente un arreglo en vez de una pila?, ¿tiene alguna ventaja usar la pila?\n",
    "\n",
    "Las estructuras de datos restringidas, como la pila y la cola, son importantes por varias razones.\n",
    "\n",
    "En primer lugar, usar estructuras de datos restringidas ayuda a evitar errores.\n",
    "Por ejemplo, el algoritmo de verificación de paréntesis y corchetes solo funciona si los elementos se eliminan desde la cima.\n",
    "Si utilizaramos una lista de Python, podríamos cometer variados errores.\n",
    "En cambio, al usar una pila, que restringe las operaciones que podemos realizar, automáticamente se previenen usos incorrectos.\n",
    "\n",
    "En segundo lugar, estas estructuras restringidas proporcionan un modelo mental claro para resolver ciertos problemas.\n",
    "La pila introduce el principio _last in, first out_ (LIFO), \"el último en entrar es el primero en salir\", que puede\n",
    "aplicarse para resolver una amplia variedad de problemas, como el del verificador mencionado antes.\n",
    "\n",
    "Finalmente, la familiaridad con la naturaleza LIFO de las pilas hace que el código sea más legible y predecible para otros desarrolladores:\n",
    "cuando alguien ve una pila, sabe que el proceso sigue una lógica LIFO."
   ]
  },
  {
   "cell_type": "markdown",
   "id": "528149ab",
   "metadata": {},
   "source": [
    "## Listas enlazadas\n",
    "\n",
    "En esta sección vamos a introducir una estructura de datos llamada lista enlazada (_linked list)_,\n",
    "que constituye una alternativa a las secuencias basadas en arreglos, como la lista de Python.\n",
    "Tanto las listas enlazadas como los arreglos mantienen los elementos en un cierto orden, pero lo hacen siguiendo distintas estrategias.\n",
    "\n",
    "Por un lado, un arreglo almacena los datos en una región contigua de memoria, \n",
    "lo que permite acceder rápidamente a cualquier elemento mediante su índice y facilita operaciones matemáticas vectorizadas.\n",
    "Sin embargo, este diseño puede volver poco eficientes tareas como la inserción o la eliminación de elementos.\n",
    "\n",
    "Por el otro, una lista enlazada se apoya en una estructura llamada nodo, \n",
    "que le permite distribuir los distintos elementos de la secuencia en diferentes ubicaciones de la memoria y modificarlos o reorganizarlos con mayor flexibilidad."
   ]
  },
  {
   "cell_type": "markdown",
   "id": "428b2fc1",
   "metadata": {},
   "source": [
    "### El nodo\n",
    "\n",
    "En una lista enlazada, cada nodo representa un elemento de la lista.\n",
    "Aunque los nodos no se almacenen en posiciones contiguas de memoria, la computadora puede reconstruir el orden de la secuencia porque cada nodo no solo guarda un valor, \n",
    "sino que también una referencia al siguiente.\n",
    "Estos enlaces entre nodos son los que dan nombre a esta estructura de datos: lista enlazada.\n",
    "\n",
    "![](./imgs/02/lista_enlazada-nodo.png){fig-align=\"center\"}"
   ]
  },
  {
   "cell_type": "markdown",
   "id": "00ef3064",
   "metadata": {},
   "source": [
    "Para representar estos nodos podemos crear una clase `Nodo`, que define objetos que contienen un atributo para el valor y otro para la referencia al siguiente nodo de la lista."
   ]
  },
  {
   "cell_type": "code",
   "execution_count": 2,
   "id": "e6087f5c",
   "metadata": {},
   "outputs": [
    {
     "data": {
      "text/plain": [
       "Nodo(75)"
      ]
     },
     "execution_count": 2,
     "metadata": {},
     "output_type": "execute_result"
    }
   ],
   "source": [
    "class Nodo:\n",
    "    def __init__(self, valor):\n",
    "        self.valor = valor\n",
    "        self.siguiente = None\n",
    "    \n",
    "    def __repr__(self):\n",
    "        return f\"Nodo({self.valor})\"\n",
    "\n",
    "Nodo(75)"
   ]
  },
  {
   "cell_type": "markdown",
   "id": "359cbd26",
   "metadata": {},
   "source": [
    "Podemos instanciar múltiples nodos y enlazarlos entre sí, para luego recorrerlos de la forma en que lo haría una lista enlazada."
   ]
  },
  {
   "cell_type": "code",
   "execution_count": 3,
   "id": "f5fdb641",
   "metadata": {},
   "outputs": [
    {
     "name": "stdout",
     "output_type": "stream",
     "text": [
      "Nodo(1) -> Nodo(2) -> Nodo(3) -> Nodo(4) -> None\n"
     ]
    }
   ],
   "source": [
    "nodo1 = Nodo(1)\n",
    "nodo2 = Nodo(2)\n",
    "nodo3 = Nodo(3)\n",
    "nodo4 = Nodo(4)\n",
    "\n",
    "# Enlazar nodos\n",
    "nodo1.siguiente = nodo2\n",
    "nodo2.siguiente = nodo3\n",
    "nodo3.siguiente = nodo4  \n",
    "\n",
    "# Recorrer e imprimir la lista enlazada\n",
    "actual = nodo1\n",
    "while actual:\n",
    "    print(actual, end=\" -> \")\n",
    "    actual = actual.siguiente\n",
    "print(\"None\")"
   ]
  },
  {
   "cell_type": "markdown",
   "id": "13a65b2e",
   "metadata": {},
   "source": [
    "Como se puede observar, aunque los nodos sean independientes y puedan almacenarse en cualquier lugar de la memoria, los enlaces entre ellos permiten construir una secuencia ordenada."
   ]
  },
  {
   "cell_type": "markdown",
   "id": "ffda2bcb",
   "metadata": {},
   "source": [
    "### Implementación básica\n",
    "\n",
    "Lo único que se necesita para implementar una lista enlazada a partir de un conjunto de nodos es la dirección de memoria donde comienza la lista enlazada, es decir, donde se ubica el primer nodo.\n",
    "Como cada nodo guarda un enlace al nodo siguiente, basta con seguir esos enlaces uno a uno para reconstruir toda la secuencia."
   ]
  },
  {
   "cell_type": "code",
   "execution_count": 4,
   "id": "aada2d03",
   "metadata": {},
   "outputs": [],
   "source": [
    "class ListaEnlazada:\n",
    "    def __init__(self, primer_nodo=None):\n",
    "        self.primer_nodo = primer_nodo\n",
    "\n",
    "lista = ListaEnlazada(nodo1)"
   ]
  },
  {
   "cell_type": "markdown",
   "id": "5909aa6e",
   "metadata": {},
   "source": [
    "El diagrama de abajo representa la lista enlazada que acabamos de crear.\n",
    "Cada nodo contiene un valor y una referencia al siguiente nodo en la secuencia.\n",
    "Estas referencias son los enlaces que conectan los nodos y dan forma a la estructura.\n",
    "\n",
    "![](./imgs/02/lista_enlazada-lista-enlazada.png){fig-align=\"center\"}\n",
    "\n",
    "El segundo diagrama muestra cómo se vería esa misma lista en la memoria.\n",
    "Los valores resaltados en rojo representan los nodos, que, como puede observarse, se encuentran dispersos en distintas ubicaciones.\n",
    "\n",
    "![](./imgs/02/lista_enlazada-memoria-layout.png){fig-align=\"center\"}"
   ]
  },
  {
   "cell_type": "markdown",
   "id": "e5ae7804",
   "metadata": {},
   "source": [
    "### Lectura\n",
    "\n",
    "Dada una dirección de memoria, la lectura es una operación de tiempo constante, $O(1)$.\n",
    "No importa en qué lugar de la memoria se encuentre esa dirección, la lectura siempre tarda lo mismo.\n",
    "\n",
    "Cuando trabajamos con un arreglo contiguo, vimos que podíamos determinar la dirección de cualquier elemento a partir de la dirección base y el índice solicitado.\n",
    "En cambio, en una lista enlazada, los nodos no están almacenados contiguamente en memoria, por lo que ya no podemos usar esa estrategia.\n",
    "\n",
    "Supongamos que queremos leer el valor en el índice 3 de una lista enlazada.\n",
    "Nuestro programa solo conoce la dirección del primer nodo de la secuencia.\n",
    "Para ubicar el nodo en el índice 3, debe recorrer la lista pasando por todos los nodos intermedios,\n",
    "saltando de uno a otro a través de sus enlaces, hasta llegar al nodo correspondiente y devolver su valor."
   ]
  },
  {
   "cell_type": "markdown",
   "id": "26133063",
   "metadata": {},
   "source": [
    "Gráficamente, el proceso se ve de la siguiente manera:\n",
    "\n",
    "![](./imgs/02/lista_enlazada-lectura.png){fig-align=\"center\"}"
   ]
  },
  {
   "cell_type": "markdown",
   "id": "15fe758c",
   "metadata": {},
   "source": [
    "Si tenemos una lista enlazada de $N$ elementos y queremos leer el elemento en la última posición, la operación nos llevará $N$ pasos.\n",
    "Por lo tanto, a diferencia de la lectura en un arreglo contiguo, que es de orden $O(1)$, la lectura en una lista enlazada es de orden $O(N)$.\n",
    "\n",
    "Pero no nos desmotivemos, no son todas pálidas con esta estructura de datos.\n",
    "Así como presenta esta limitación, pronto descubriremos también sus puntos fuertes.\n",
    "\n",
    "Mientras tanto, concluimos la sección con una implementación en Python del método de lectura."
   ]
  },
  {
   "cell_type": "markdown",
   "id": "68d2948e",
   "metadata": {},
   "source": [
    "```python\n",
    "    def leer(self, indice):\n",
    "        nodo_actual = self.primer_nodo # <1>\n",
    "        indice_actual = 0 # <1>\n",
    "\n",
    "        while indice_actual < indice: # <2>\n",
    "            nodo_actual = nodo_actual.siguiente # <3>\n",
    "            indice_actual += 1 # <3>\n",
    "\n",
    "            if nodo_actual is None: # <4>\n",
    "                return None         # <4>\n",
    "\n",
    "        return nodo_actual.valor # <5>\n",
    "```\n",
    "1. Se comienza a recorrer la lista desde el primer nodo, que se encuentra en el índice 0.\n",
    "2. Se recorre la lista enlazada hasta llegar al índice deseado.\n",
    "3. En cada paso, se avanza nodo a nodo, accediendo al siguiente e incrementando el valor del índice.\n",
    "4. Si en algún momento el nodo obtenido es `None`, significa que la lista no tiene tantos elementos como el índice solicitado. En ese caso se devuelve `None`, aunque también podría lanzarse un `IndexError`.\n",
    "5. En este punto se sabe que se ha llegado al nodo del índice solicitado, y se devuelve su valor."
   ]
  },
  {
   "cell_type": "markdown",
   "id": "ad1cba50",
   "metadata": {},
   "source": [
    "### Búsqueda\n",
    "\n",
    "Ya sabemos que la búsqueda es una operación estrechamente relacionada con la lectura: en lugar de tomar un índice y devolver un valor, \n",
    "toma un valor y devuelve su índice (si es que el valor se encuentra en la secuencia).\n",
    "\n",
    "Si trabajamos con un arreglo contiguo, la búsqueda lineal es de orden $O(N)$.\n",
    "En una lista enlazada, la búsqueda también es de orden $O(N)$, ya que el proceso es similar al de la lectura.\n",
    "\n",
    "La búsqueda se comienza explorando el primer nodo, con un acumulador de índice inicializado en 0.\n",
    "En cada paso, se compara el valor del nodo con el valor buscado:\n",
    "\n",
    "* Si son distintos, se avanza al siguiente nodo y se incrementa el acumulador.\n",
    "* Si son iguales, se devuelve el valor del índice.\n",
    "\n",
    "Si no existe un siguiente nodo, es decir, si se llega al final de la lista, significa que el valor buscado no se encuentra en la secuencia."
   ]
  },
  {
   "cell_type": "markdown",
   "id": "a31ee373",
   "metadata": {},
   "source": [
    "El proceso se puede representar de la siguiente manera:\n",
    "\n",
    "![](./imgs/02/lista_enlazada-busqueda.png){fig-align=\"center\"}"
   ]
  },
  {
   "cell_type": "markdown",
   "id": "6a5980b7",
   "metadata": {},
   "source": [
    "Una implementación para el método de búsqueda en nuestra clase es la siguiente:\n",
    "\n",
    "```python\n",
    "    def buscar(self, valor):\n",
    "        nodo_actual = self.primer_nodo # <1>\n",
    "        indice_actual = 0 # <1>\n",
    "\n",
    "        while True: # <2>\n",
    "            if nodo_actual.valor == valor: # <3>\n",
    "                return indice_actual # <3>\n",
    "            nodo_actual = nodo_actual.siguiente # <3>\n",
    "\n",
    "            if nodo_actual is None:  # <4>\n",
    "                break  # <4>\n",
    "            indice_actual += 1  # <4>\n",
    "\n",
    "        return None  # <5>\n",
    "```\n",
    "\n",
    "1. Se inicia el recorrido desde el primer nodo de la lista, comenzando con el índice 0.\n",
    "2. Se itera hasta que el bloque ejecute un `return` o un `break`\n",
    "3. En cada iteración, se compara el valor almacenado en el nodo actual con el valor buscado. \n",
    "Si el valor coincide, se devuelve el índice correspondiente y la búsqueda termina.\n",
    "Si no coincide, se avanza al siguiente nodo.\n",
    "4. Si el siguiente nodo es `None`, significa que se llegó al final de la lista sin encontrar el valor, se termina el bucle.\n",
    "Caso contrario, se incrementa el índice en 1 y se ejecuta el bucle desde el iniciio.\n",
    "5. En este punto se sabe que el valor no se encuentra en la lista y se devuelve `None`. Podría lanzarse un `ValueError`."
   ]
  },
  {
   "cell_type": "markdown",
   "id": "0774c0bc",
   "metadata": {},
   "source": [
    "### Inserción\n",
    "\n",
    "Hasta ahora, el desempeño de las listas enlazadas es igual o peor que el de un arreglo contiguo.\n",
    "Son menos eficientes para leer e igual de eficientes para buscar.\n",
    "\n",
    "Sin embargo, cuando consideramos la inserción, nuestra percepción sobre esta estructura comienza a cambiar.\n",
    "En un arreglo contiguo, el peor escenario ocurre al insertar al principio, ya que es necesario desplazar todos los elementos una celda a la derecha.\n",
    "En cambio, en una lista enlazada, insertar un elemento al inicio requiere un solo paso, por lo que es una operación de orden $O(1)$.\n",
    "\n",
    "Para insertar un elemento al inicio de una lista enlazada, solo es necesario crear un nuevo nodo y enlazarlo con el nodo que era el primero antes de la inserción.\n",
    "Además, debemos actualizar la referencia al primer nodo dentro del objeto de tipo `ListaEnlazada` para que apunte al nuevo nodo.\n",
    "\n",
    "![](./imgs/02/lista_enlazada-insercion-inicio.png){fig-align=\"center\"}"
   ]
  },
  {
   "cell_type": "markdown",
   "id": "817fd96f",
   "metadata": {},
   "source": [
    "Si se desea insertar un elemento en una posición interna de la lista, en teoría la operación de inserción en sí misma lleva solo un paso,\n",
    "ya que no es necesario mover elementos, solo se requiere actualizar los enlaces entre nodos.\n",
    "\n",
    "El siguiente diagrama muestra la inserción del valor 2.5 entre el 2 y el 3 en nuestra lista enlazada.\n",
    "Se crea un nuevo nodo que apunta a la ubicación del tercer elemento y se modifica el enlace del segundo elemento para que apunte al nuevo nodo."
   ]
  },
  {
   "cell_type": "markdown",
   "id": "677fffd9",
   "metadata": {},
   "source": [
    "![](./imgs/02/lista_enlazada-insercion-medio-0.png){fig-align=\"center\"}"
   ]
  },
  {
   "cell_type": "markdown",
   "id": "cca1bebd",
   "metadata": {},
   "source": [
    "Sin embargo, antes de poder realizar este cambio de enlaces, es necesario encontrar los nodos involucrados, lo que requiere recorrer la lista desde el inicio.\n",
    "Si queremos insertar el valor 2.5 en el índice 2, es necesario realizar la búsqueda que describe el diagrama debajo."
   ]
  },
  {
   "cell_type": "markdown",
   "id": "1aa24044",
   "metadata": {},
   "source": [
    "![](./imgs/02/lista_enlazada-insercion-medio-1.png){fig-align=\"center\"}"
   ]
  },
  {
   "cell_type": "markdown",
   "id": "91904404",
   "metadata": {},
   "source": [
    "Una vez identificados los nodos involucrados, se actualizan sus enlaces.\n",
    "La inserción no requiere mover valores en memoria, pero sí es necesario recorrer la lista desde el principio para los nodos que deben ser actualizados.\n",
    "\n",
    "Luego de la inserción, los elementos de la lista quedan distribuidos en memoria como se muestra en el siguiente diagrama:\n",
    "\n",
    "![](./imgs/02/lista_enlazada-memoria-layout-post-insercion-medio.png){fig-align=\"center\"}"
   ]
  },
  {
   "cell_type": "markdown",
   "id": "5e73b6bb",
   "metadata": {},
   "source": [
    "Finalmente, el peor de los escenarios se da cuando se desea insertar un elemento al final de la lista.\n",
    "Para ello hay que atravesar $N$ elementos hasta encontrar el último.\n",
    "Una vez allí, se actualiza su enlace para que apunte a la dirección del nodo creado para el nuevo valor."
   ]
  },
  {
   "cell_type": "markdown",
   "id": "86d47cf6",
   "metadata": {},
   "source": [
    "![](./imgs/02/lista_enlazada-insercion-final.png){fig-align=\"center\"}"
   ]
  },
  {
   "cell_type": "markdown",
   "id": "9b29b002",
   "metadata": {},
   "source": [
    "El método de inserción para nuestra clase `ListaEnlazada` es el siguiente:\n",
    "\n",
    "```python\n",
    "def insertar(self, indice, valor):\n",
    "    nodo_nuevo = Nodo(valor) # <1>\n",
    "\n",
    "    if indice == 0: # <2>\n",
    "        nodo_nuevo.siguiente = self.primer_nodo # <2>\n",
    "        self.primer_nodo = nodo_nuevo # <2>\n",
    "        return None # <2>\n",
    "\n",
    "    nodo_actual = self.primer_nodo # <3>\n",
    "    indice_actual = 0 # <3>\n",
    "\n",
    "    while indice_actual < (indice - 1): # <4>\n",
    "        nodo_actual = nodo_actual.siguiente # <4>\n",
    "        indice_actual += 1 # <4>\n",
    "        nodo_nuevo.siguiente = nodo_actual.siguiente # <4>\n",
    "        nodo_actual.siguiente = nodo_nuevo # <4>\n",
    "```\n",
    "\n",
    "1. Se crea un nuevo nodo con el valor recibido.\n",
    "2. Si el índice es 0, significa que el nuevo nodo debe insertarse al inicio de la lista. \n",
    "En ese caso, se enlaza el nuevo nodo al antiguo primer nodo y el nuevo nodo se convierte en el primer nodo de la lista\n",
    "3. Si no se trata del primer nodo, se inicia un recorrido desde el comienzo de la lista, con el índice actual igual a 0.\n",
    "4. Se avanza nodo a nodo hasta llegar al nodo anterior a la posición donde se desea insertar. \n",
    "Una vez allí, se ajustan las referencias: el nuevo nodo apunta al siguiente del nodo actual, y el nodo actual pasa a apuntar al nuevo nodo."
   ]
  },
  {
   "cell_type": "markdown",
   "id": "95006f0b",
   "metadata": {},
   "source": [
    "### Eliminación\n",
    "\n",
    "En una lista enlazada, la eliminación tiene mucho en común con la inserción.\n",
    "Primero, eliminar un elemento no requiere mover valores en memoria, sino simplemente actualizar los enlaces entre nodos.\n",
    "Segundo, la eliminación al inicio de la lista es muy eficiente; basta con hacer que `primer_nodo` apunte al segundo nodo.\n",
    "Por último, cuando la eliminación no ocurre al principio, es necesario recorrer la lista hasta encontrar los nodos cuyos enlaces deben modificarse.\n",
    "\n",
    "El siguiente diagrama muestra la eliminación de un nodo intermedio en la secuencia.\n",
    "Para realizarla se cambia el enlace del nodo anterior para que apunte al nodo siguiente.\n",
    "Opcionalmente, puede eliminarse también el enlace del nodo que fue removido.\n",
    "\n",
    "![](./imgs/02/lista_enlazada-eliminacion-medio.png){fig-align=\"center\"}"
   ]
  },
  {
   "cell_type": "markdown",
   "id": "7e74352e",
   "metadata": {},
   "source": [
    "En Python, tenemos:"
   ]
  },
  {
   "cell_type": "markdown",
   "id": "96462408",
   "metadata": {},
   "source": [
    "```python\n",
    "def eliminar(self, indice):\n",
    "    if indice == 0: # <1>\n",
    "        self.primer_nodo = self.primer_nodo.siguiente # <1>\n",
    "        return None # <1>\n",
    "\n",
    "    nodo_actual = self.primer_nodo # <2>\n",
    "    indice_actual = 0 # <2>\n",
    "\n",
    "    while indice_actual < (indice - 1): # <3>\n",
    "        nodo_actual = nodo_actual.siguiente # <3>\n",
    "        indice_actual += 1 # <3>\n",
    "\n",
    "    nodo_siguiente_al_eliminado = nodo_actual.siguiente.siguiente # <4>\n",
    "    nodo_actual.siguiente = nodo_siguiente_al_eliminado # <4>\n",
    "```\n",
    "\n",
    "1. Si el índice es 0, significa que se debe eliminar el primer nodo de la lista. \n",
    "En ese caso, solo es necesario actualizar la referencia `primer_nodo` para que apunte al segundo nodo, descartando así el primero.\n",
    "2. Si no se trata del primer nodo, se inicia el recorrido desde el comienzo de la lista, con el índice actual igual a 0.\n",
    "3. Se avanza nodo a nodo hasta llegar al nodo anterior al que se desea eliminar. \n",
    "4. Una vez allí, se actualizan las referencias para que el nodo actual apunte al nodo siguiente del que será eliminado, \n",
    "de modo que el nodo en la posición indicada quede desconectado de la lista."
   ]
  },
  {
   "cell_type": "markdown",
   "id": "3154311d",
   "metadata": {},
   "source": [
    "### Enlazando las partes\n",
    "\n",
    "Si juntamos todos los métodos definidos, podemos reimplementar nuestra lista enlazada junto a todas las funcionalidades necesarias."
   ]
  },
  {
   "cell_type": "code",
   "execution_count": null,
   "id": "09a40d59",
   "metadata": {},
   "outputs": [],
   "source": [
    "class ListaEnlazada:\n",
    "    def __init__(self, primer_nodo=None):\n",
    "        self.primer_nodo = primer_nodo\n",
    "\n",
    "    def leer(self, indice):\n",
    "        nodo_actual = self.primer_nodo\n",
    "        indice_actual = 0\n",
    "\n",
    "        while indice_actual < indice:\n",
    "            nodo_actual = nodo_actual.siguiente\n",
    "            indice_actual += 1\n",
    "\n",
    "            if nodo_actual is None:\n",
    "                return None\n",
    "\n",
    "        return nodo_actual.valor\n",
    "\n",
    "    def buscar(self, valor):\n",
    "        nodo_actual = self.primer_nodo\n",
    "        indice_actual = 0\n",
    "\n",
    "        while True:\n",
    "            if nodo_actual.valor == valor:\n",
    "                return indice_actual\n",
    "\n",
    "            nodo_actual = nodo_actual.siguiente\n",
    "            if nodo_actual is None:# <3>\n",
    "                break\n",
    "            indice_actual += 1\n",
    "\n",
    "        return None\n",
    "\n",
    "    def insertar(self, indice, valor):\n",
    "        nodo_nuevo = Nodo(valor)\n",
    "\n",
    "        if indice == 0:\n",
    "            nodo_nuevo.siguiente = self.primer_nodo\n",
    "            self.primer_nodo = nodo_nuevo\n",
    "            return None\n",
    "\n",
    "        nodo_actual = self.primer_nodo\n",
    "        indice_actual = 0\n",
    "\n",
    "        while indice_actual < (indice - 1):\n",
    "            nodo_actual = nodo_actual.siguiente\n",
    "            indice_actual += 1\n",
    "            nodo_nuevo.siguiente = nodo_actual.siguiente\n",
    "            nodo_actual.siguiente = nodo_nuevo\n",
    "\n",
    "    def eliminar(self, indice):\n",
    "        if indice == 0:\n",
    "            self.primer_nodo = self.primer_nodo.next_node\n",
    "            return None\n",
    "\n",
    "        nodo_actual = self.primer_nodo\n",
    "        indice_actual = 0\n",
    "\n",
    "        while indice_actual < (indice - 1):\n",
    "            nodo_actual = nodo_actual.siguiente\n",
    "            indice_actual += 1\n",
    "\n",
    "        nodo_siguiente_al_eliminado = nodo_actual.siguiente.siguiente\n",
    "        nodo_actual.siguiente = nodo_siguiente_al_eliminado"
   ]
  },
  {
   "cell_type": "markdown",
   "id": "ec64256f",
   "metadata": {},
   "source": [
    "### Análisis de la eficiencia\n",
    "\n",
    "La siguiente tabla resume la eficiencia de los arreglos y las listas enlazadas para realizar las operaciones analizadas:\n",
    "\n",
    "| Operación   | Arreglo                  | Lista enlazada                 |\n",
    "|-------------|--------------------------|--------------------------------|\n",
    "| Lectura     | $O(1)$                   | $O(N)$                         |\n",
    "| Búsqueda    | $O(N)$                   | $O(N)$                         |\n",
    "| Inserción   | $O(N)$ ($O(1)$ al final) | $O(N)$ ($O(1)$ al inicio)      |\n",
    "| Eliminación | $O(N)$ ($O(1)$ al final) | $O(N)$ ($O(1)$ al inicio)      |\n",
    "\n",
    "A simple vista, las listas enlazadas no parecen ofrecer grandes ventajas en cuanto a complejidad temporal.\n",
    "Tienen un rendimiento similar al de los arreglos en búsqueda, inserción y eliminación, y son más lentas para la lectura.\n",
    "Entonces, ¿por qué las usariamos?\n",
    "\n",
    "La clave está en que los pasos de inserción y eliminación en sí mismos son operaciones de orden $O(1)$.\n",
    "Es cierto que esto solo ocurre cuando ya conocemos el nodo correcto, por ejemplo, al insertar o eliminar al comienzo,\n",
    "pero hay situaciones en las que ese nodo ya está accesible por otro motivo dentro del programa.\n",
    "\n",
    "Por ejemplo, si tenemos que eliminar elementos erróneos de una secuencia,\n",
    "tendremos que recorrerla completa tanto si usamos un arreglo como una lista enlazada.\n",
    "La diferencia está en el costo de cada eliminación. En una lista enlazada, basta con actualizar los enlaces, sin mover valores en memoria.\n",
    "En cambio, en un arreglo, cada vez que se elimina un elemento es necesario desplazar todos los elementos posteriores, lo que hace el proceso más costoso."
   ]
  },
  {
   "cell_type": "markdown",
   "id": "9d023c21",
   "metadata": {},
   "source": [
    "## Listas doblemente enlazadas\n",
    "\n",
    "Existen varios tipos de listas enlazadas.\n",
    "La que vimos hasta ahora es la lista enlazada simple, o clásica, donde cada nodo tiene una referencia al nodo siguiente.\n",
    "\n",
    "Otra variante es la lista doblemente enlazada, en la que cada nodo mantiene dos referencias: una al nodo anterior y otra al siguiente.\n",
    "En este caso, el primer nodo tiene la referencia anterior vacía, y el último nodo tiene la referencia siguiente vacía.\n",
    "A su vez, la clase mantiene referencias al primer y al último nodo de la lista.\n"
   ]
  },
  {
   "cell_type": "code",
   "execution_count": 1,
   "id": "044110fa",
   "metadata": {},
   "outputs": [],
   "source": [
    "class Nodo:\n",
    "    def __init__(self, valor):\n",
    "        self.valor = valor\n",
    "        self.anterior = None\n",
    "        self.siguiente = None\n",
    "\n",
    "\n",
    "class ListaDoblementeEnlazada:\n",
    "    def __init__(self, primer_nodo=None, ultimo_nodo=None):\n",
    "        self.primer_nodo = primer_nodo\n",
    "        self.ultimo_nodo = ultimo_nodo"
   ]
  },
  {
   "cell_type": "markdown",
   "id": "a5d018ae",
   "metadata": {},
   "source": [
    "Como una lista doblemente enlazada siempre conoce la posición de su primer y último nodo, puede acceder a cualquiera de ellos en un solo paso.\n",
    "Además, así como en una lista enlazada simple podemos leer, insertar o eliminar al inicio en tiempo constante,\n",
    "en una lista doblemente enlazada podemos hacerlo también al final, con la misma eficiencia."
   ]
  },
  {
   "cell_type": "markdown",
   "id": "94119c16",
   "metadata": {},
   "source": [
    "To Do: Diagrama"
   ]
  },
  {
   "cell_type": "markdown",
   "id": "020e4c89",
   "metadata": {},
   "source": [
    "### Aplicaciones"
   ]
  },
  {
   "cell_type": "markdown",
   "id": "0f2afdbb",
   "metadata": {},
   "source": [
    "#### Pilas como una lista enlazada"
   ]
  },
  {
   "cell_type": "markdown",
   "id": "ce96be46",
   "metadata": {},
   "source": [
    "#### Filas como una doblemente enlazada"
   ]
  },
  {
   "cell_type": "markdown",
   "id": "b43f0f33",
   "metadata": {},
   "source": [
    "To Do: Implementar estas estructuras como tarea"
   ]
  },
  {
   "cell_type": "markdown",
   "id": "09f3b40a",
   "metadata": {},
   "source": [
    "## Otras estructuras\n",
    "\n",
    "\n",
    "### Listas circulares\n",
    "\n",
    "En una lista circular, el último nodo no apunta a `None`, sino que enlaza nuevamente con el primero, formando un ciclo.\n",
    "Esta estructura permite recorrer la lista indefinidamente sin reiniciar el recorrido,\n",
    "lo que resulta útil en sistemas donde los procesos se repiten en bucle, como planificadores de tareas o simulaciones.\n",
    "\n",
    "Su ventaja principal es que facilita la navegación continua y elimina la necesidad de manejar explícitamente los extremos de la lista.\n",
    "\n",
    "### Colas de dos extremos\n",
    "\n",
    "También llamadas deques (_double-ended queues_), son colas que permiten insertar y eliminar elementos tanto al principio como al final.\n",
    "Ofrecen gran flexibilidad, ya que pueden comportarse como una pila, una cola tradicional o una combinación de ambas.\n",
    "Se utilizan en algoritmos que requieren acceso rápido por ambos extremos,\n",
    "como implementaciones de _buffers_ para audio o video.\n",
    "\n",
    "### Colas de prioridad\n",
    "\n",
    "En una cola de prioridad, cada elemento tiene un valor o prioridad asociada, y los elementos con mayor prioridad se extraen antes, independientemente del orden de llegada.\n",
    "Se aplican en sistemas de planificación de tareas, algoritmos de rutas más cortas (como Dijkstra) y simulaciones de eventos.\n",
    "Su ventaja principal es que permite gestionar eficientemente elementos según su relevancia o urgencia, no solo por su orden de inserción."
   ]
  }
 ],
 "metadata": {
  "kernelspec": {
   "display_name": "base",
   "language": "python",
   "name": "python3"
  },
  "language_info": {
   "name": "python"
  }
 },
 "nbformat": 4,
 "nbformat_minor": 5
}
