{
 "cells": [
  {
   "cell_type": "markdown",
   "id": "c212e793",
   "metadata": {},
   "source": [
    "---\n",
    "title: \"2 - Estructuras lineales\"\n",
    "toc: true\n",
    "---"
   ]
  },
  {
   "cell_type": "markdown",
   "id": "c7722e3b",
   "metadata": {},
   "source": [
    "## Introducción\n",
    "\n",
    "En el apunte anterior exploramos algunas estructuras de datos basadas en arreglos y analizamos su desempeño al realizar distintas operaciones.\n",
    "\n",
    "Sin embargo, el desempeño no es el único factor a considerar al elegir una estructura de datos.\n",
    "En muchos casos, se eligen ciertas estructuras porque permiten escribir un código más simple y fácil de leer.\n",
    "\n",
    "En este apunte nos enfocaremos en las siguientes estructuras:\n",
    "\n",
    "* Pilas\n",
    "* Colas\n",
    "* Listas enlazadas\n",
    "\n",
    "Estas estructuras pertenecen a la categoría de **estructuras lineales**.\n",
    "Las estructuras de datos lineales son aquellas en las que los elementos están organizados uno detrás de otro, formando una secuencia.\n",
    "Cada elemento (excepto el primero y el último) tiene un predecesor y un sucesor.\n",
    "\n",
    "Además, aprenderemos a distinguir entre un **tipo de dato abstracto** y una **estructura de datos concreta**."
   ]
  },
  {
   "cell_type": "markdown",
   "id": "b2d55a78",
   "metadata": {},
   "source": [
    "## Pilas\n",
    "\n",
    "Una pila es una colección de objetos con ciertas restricciones para su inserción y eliminación.\n",
    "Para entender su funcionamiento, podemos imaginar una pila de cajas como la siguiente:\n",
    "\n",
    "![](./imgs/02/pila_cajas_no_bg.png){fig-align=\"center\" width=\"200px\"}\n",
    "\n",
    "La primera caja que se colocó en la pila es la roja, luego la amarilla, la verde y finalmente la naranja.\n",
    "Si quisiéramos leer el contenido de una caja o extraer una de ellas, no podríamos elegir una cualquiera:\n",
    "habría que empezar desde la parte superior, con la que fue agregada más recientemente.\n",
    "Del mismo modo, si quisiéramos insertar una nueva caja, también deberíamos hacerlo en la cima de la pila.\n",
    "\n",
    "En computación, se dice que la pila es una colección de objetos que se insertan y extraen siguiendo el principio _last-in_, _first-out_ (LIFO),\n",
    "que significa que \"el último en entrar es el primero en salir\".\n",
    "\n",
    "Podemos imaginar un brazo mecánico que permite leer, quitar o agregar cajas en la pila:\n",
    "\n",
    "![](./imgs/02/pila_cajas_brazo_no_bg.png){fig-align=\"center\" width=\"300px\"}\n",
    "\n",
    "En la computadora, podríamos representar una pila de la siguiente manera:\n",
    "\n",
    "![](./imgs/02/pilas-0.png){fig-align=\"center\"}\n",
    "\n",
    "donde cada caja representa un objeto en memoria.\n",
    "Como ninguna celda tiene propiedades especiales, utilizamos el mismo color para todas:\n",
    "\n",
    "![](./imgs/02/pilas-1.png){fig-align=\"center\"}"
   ]
  },
  {
   "cell_type": "markdown",
   "id": "b92721d7",
   "metadata": {},
   "source": [
    "### Lectura\n",
    "\n",
    "Como ya adelantamos, solo es posible interactuar con el objeto en la cima de la pila.\n",
    "Por lo tanto, solo es posible leer el valor al inicio de la pila, independientemente de que se extraiga o no.\n",
    "Si quisieramos leer un valor posterior, primero deberíamos extraer los valores que están por encima de el."
   ]
  },
  {
   "cell_type": "markdown",
   "id": "d8a6f533",
   "metadata": {},
   "source": [
    "### Inserción\n",
    "\n",
    "Para insertar un valor en la pila, también tenemos que respetar la restricción de que solo podemos modificarla desde la cima.\n",
    "Por lo tanto, si queremos agregar un elemento, tenemos que hacerlo encima de todos los otros elementos.\n",
    "\n",
    "![](./imgs/02/pilas-2.png){fig-align=\"center\"}\n",
    "\n",
    "![](./imgs/02/pilas-3.png){fig-align=\"center\"}"
   ]
  },
  {
   "cell_type": "markdown",
   "id": "5f356a3d",
   "metadata": {},
   "source": [
    "### Eliminación\n",
    "\n",
    "La eliminación de elementos de la pila también tiene que seguir su orden natural:\n",
    "solo podemos eliminar elementos en la cima.\n",
    "\n",
    "La siguiente figura representa la eliminación de `Objeto Y` de la pila.\n",
    "\n",
    "![](./imgs/02/pilas-4.png){fig-align=\"center\"}\n",
    "\n",
    "Y a continuación se representa la eliminación de múltiples elementos:\n",
    "\n",
    "![](./imgs/02/pilas-5.png){fig-align=\"center\"}\n"
   ]
  },
  {
   "cell_type": "markdown",
   "id": "14e9a8b0",
   "metadata": {},
   "source": [
    "### Implementación\n",
    "\n",
    "En la práctica, no existe una pila de celdas de memoria con la que trabajemos directamente.\n",
    "Formalmente, una pila es un tipo de dato abstracto que define un método para insertar objetos en la cima y otro para extraerlos desde la cima.\n",
    "\n",
    "Para utilizar una pila en un programa, necesitamos una implementación concreta de la misma, la cual se apoya en otras estructuras de datos.\n",
    "\n",
    "Una forma de implementar una pila es a partir de un arreglo al que se le imponen ciertas restricciones.\n",
    "Por ejemplo, podemos crear una clase `Pila` que, internamente, almacene los valores utilizando una lista de Python.\n",
    "\n",
    "Para entender la relación entre la pila y el arreglo subyacente, se puede imaginar que la pila se rota o se tumba horizontalmente.\n",
    "El elemento en la cima de la pila corresponderá al último elemento del arreglo, y la base de la pila al primer elemento del arreglo.\n",
    "\n",
    "![](./imgs/02/pilas-horizontal-0.png){fig-align=\"center\"}"
   ]
  },
  {
   "cell_type": "markdown",
   "id": "5f8893bd",
   "metadata": {},
   "source": [
    "Que solo interactuemos con la cima de pila implica que solo interactuamos con la cola del arreglo.\n",
    "\n",
    "![](./imgs/02/pilas-horizontal-1.png){fig-align=\"center\"}"
   ]
  },
  {
   "cell_type": "markdown",
   "id": "f1259753",
   "metadata": {},
   "source": [
    "Cuando insertamos un elemento, lo hacemos al final del arreglo, extendiendo su longitud:\n",
    "\n",
    "![](./imgs/02/pilas-horizontal-2.png){fig-align=\"center\"}"
   ]
  },
  {
   "cell_type": "markdown",
   "id": "e983d08a",
   "metadata": {},
   "source": [
    "Y cuando se elimina un elemento, también lo hacemos al final del arreglo, lo que reduce su longitud:\n",
    "\n",
    "![](./imgs/02/pilas-horizontal-3.png){fig-align=\"center\"}\n",
    "\n",
    "![](./imgs/02/pilas-horizontal-4.png){fig-align=\"center\"}\n",
    "\n",
    "![](./imgs/02/pilas-horizontal-5.png){fig-align=\"center\"}"
   ]
  },
  {
   "cell_type": "markdown",
   "id": "9948974d",
   "metadata": {},
   "source": [
    "Finalmente, tenemos nuestra implementación en Python:"
   ]
  },
  {
   "cell_type": "code",
   "execution_count": null,
   "id": "8f85a43b",
   "metadata": {},
   "outputs": [],
   "source": [
    "class Pila:\n",
    "    def __init__(self):\n",
    "        self._datos = [] # <1>\n",
    "\n",
    "    def insertar(self, element): # <2>\n",
    "        self._datos.append(element) # <2>\n",
    "\n",
    "    def extraer(self): # <3>\n",
    "        if len(self._datos) > 0: # <3>\n",
    "            return self._datos.pop() # <3>\n",
    "        return None # <3>\n",
    "\n",
    "    def leer(self): # <4>\n",
    "        if len(self._datos) > 0: # <4>\n",
    "            return self._datos[-1] # <4>\n",
    "        return None # <4>\n",
    "\n",
    "    @property\n",
    "    def vacia(self):\n",
    "        return len(self._datos) == 0"
   ]
  },
  {
   "cell_type": "markdown",
   "id": "f40710af",
   "metadata": {},
   "source": [
    "1. Internamente, las pilas utilizan un arreglo “protegido” para almacenar los datos.\n",
    "2. Para insertar un elemento, solo se necesita el valor a agregar, no su posición, ya que siempre se incorpora en la cima de la pila (es decir, al final del arreglo interno).\n",
    "3. Al extraer un elemento, tampoco se requiere indicar la posición, ya que siempre se remueve el último elemento ingresado, el que se encuentra en la cima de la pila.\n",
    "4. El método `leer` permite consultar el valor en la cima sin retirarlo."
   ]
  },
  {
   "cell_type": "markdown",
   "id": "91b5e871",
   "metadata": {},
   "source": [
    "### Aplicaciones\n",
    "\n",
    "#### Invertir orden\n",
    "\n",
    "Gracias al protocolo LIFO, una pila puede servir para invertir el orden de los datos.\n",
    "\n",
    "Por ejemplo, si apilamos los valores 1, 2 y 3 en ese orden, al desapilarlos los obtendremos en orden inverso: 3, 2 y 1.\n",
    "\n",
    "Esta idea se puede usar en muchos casos.\n",
    "Por ejemplo, podríamos querer imprimir las líneas de un archivo en orden inverso para mostrar un\n",
    "conjunto de datos en orden descendente en lugar de ascendente.\n",
    "\n",
    "Para hacerlo, basta con leer cada línea, apilarla en la pila y luego imprimirlas en el orden en que se van desapilando."
   ]
  },
  {
   "cell_type": "code",
   "execution_count": 27,
   "id": "39e0249b",
   "metadata": {},
   "outputs": [],
   "source": [
    "def invertir_archivo(origen, destino):\n",
    "    pila = Pila()\n",
    "\n",
    "    with open(origen) as archivo_origen:\n",
    "        for linea in archivo_origen:\n",
    "            pila.insertar(linea.rstrip(\"\\n\"))\n",
    "\n",
    "    with open(destino, \"w\") as archivo_destino:\n",
    "        while not pila.vacia:\n",
    "            archivo_destino.write(pila.extraer() + \"\\n\")"
   ]
  },
  {
   "cell_type": "markdown",
   "id": "035861b6",
   "metadata": {},
   "source": [
    "Si tenemos el siguiente archivo con un extracto de la letra de Tu misterioso alguien de Miranda!:\n",
    "\n",
    "```{.txt filename=\"original.txt\"}\n",
    "¿Quién es tu nuevo amor?\n",
    "¿Tu nueva ocupación?\n",
    "¿Tu misterioso alguien?\n",
    "```\n",
    "\n",
    "y ejecutamos la función de esta manera:\n",
    "\n",
    "```python\n",
    "invertir_archivo(\"original.txt\", \"invertido.txt\")\n",
    "```\n",
    "\n",
    "Luego tenemos:\n",
    "\n",
    "```{.txt filename=\"original.txt\"}\n",
    "¿Tu misterioso alguien?\n",
    "¿Tu nueva ocupación?\n",
    "¿Quién es tu nuevo amor?\n",
    "```"
   ]
  },
  {
   "cell_type": "markdown",
   "id": "f667e95f",
   "metadata": {},
   "source": [
    "#### Verificar de paréntesis y corchetes\n",
    "\n",
    "Otra aplicación de las pilas está relacionada con la verificación de paréntesis y corchetes en expresiones matemáticas.\n",
    "Estos símbolos se utilizan para agrupar partes de una expresión y, por lo general, para modificar el orden en que se evalúan los operadores.\n",
    "\n",
    "Para que una expresión sea válida, cada paréntesis (o corchete) que abre un grupo `(` debe tener su correspondiente cierre `)`.\n",
    "Sin embargo, un simple conteo de paréntesis no es suficiente: la siguiente expresión contiene la misma cantidad de paréntesis de apertura y de cierre, y aun así es incorrecta.\n",
    "\n",
    "```cmd\n",
    "1 +) (3 * 5()\n",
    "```"
   ]
  },
  {
   "cell_type": "markdown",
   "id": "3a7e05d1",
   "metadata": {},
   "source": [
    "La función `verificar_agrupamientos` se vale de una pila para verificar que los paréntesis y corchetes se utilizan correctamente."
   ]
  },
  {
   "cell_type": "code",
   "execution_count": null,
   "id": "c6120151",
   "metadata": {},
   "outputs": [],
   "source": [
    "def verificar_agrupamientos(expr):\n",
    "    apertura = \"([\"\n",
    "    cierre = \")]\"\n",
    "\n",
    "    pila = Pila()\n",
    "\n",
    "    for caracter in expr:\n",
    "        if caracter in apertura:\n",
    "            pila.insertar(caracter)\n",
    "        elif caracter in cierre:\n",
    "            if pila.vacia: # Nada con que emparejarlo\n",
    "                return False\n",
    "\n",
    "            if cierre.index(caracter) != apertura.index(pila.extraer()): # Mismatch\n",
    "                return False\n",
    "\n",
    "    return pila.vacia"
   ]
  },
  {
   "cell_type": "markdown",
   "id": "2c938c4e",
   "metadata": {},
   "source": [
    "La función recorre la secuencia original de izquierda a derecha utilizando una pila `pila` para facilitar la verificación de los símbolos de agrupación.\n",
    "\n",
    "Cada vez que se encuentra un símbolo de apertura, lo apilamos en `pila`.\n",
    "Y cuando se encuentra un símbolo de cierre, desapilamos un elemento de `pila` (si no está vacía) y verificamos que ambos símbolos formen un par válido.\n",
    "\n",
    "Si al llegar al final de la expresión la pila está vacía, significa que la expresión está correctamente balanceada.\n",
    "De lo contrario, debe haber quedado en la pila un símbolo de apertura sin su correspondiente cierre."
   ]
  },
  {
   "cell_type": "code",
   "execution_count": null,
   "id": "ed8c3e55",
   "metadata": {},
   "outputs": [
    {
     "data": {
      "text/plain": [
       "True"
      ]
     },
     "execution_count": null,
     "metadata": {},
     "output_type": "execute_result"
    }
   ],
   "source": [
    "verificar_agrupamientos(\"(3 + (4 * 5))\")"
   ]
  },
  {
   "cell_type": "code",
   "execution_count": null,
   "id": "b984dac7",
   "metadata": {},
   "outputs": [
    {
     "data": {
      "text/plain": [
       "True"
      ]
     },
     "execution_count": null,
     "metadata": {},
     "output_type": "execute_result"
    }
   ],
   "source": [
    "verificar_agrupamientos(\"[3 + (4 * 5)]\")"
   ]
  },
  {
   "cell_type": "code",
   "execution_count": null,
   "id": "27ac8a6c",
   "metadata": {},
   "outputs": [
    {
     "data": {
      "text/plain": [
       "False"
      ]
     },
     "execution_count": null,
     "metadata": {},
     "output_type": "execute_result"
    }
   ],
   "source": [
    "verificar_agrupamientos(\"(3 + (4 * 5)\")"
   ]
  },
  {
   "cell_type": "code",
   "execution_count": null,
   "id": "519d901f",
   "metadata": {},
   "outputs": [
    {
     "data": {
      "text/plain": [
       "False"
      ]
     },
     "execution_count": null,
     "metadata": {},
     "output_type": "execute_result"
    }
   ],
   "source": [
    "verificar_agrupamientos(\"(3 + [(4 * 5)\")"
   ]
  },
  {
   "cell_type": "markdown",
   "id": "a259577b",
   "metadata": {},
   "source": [
    "### Por qué usar estructuras de datos restringidas\n",
    "\n",
    "Si una pila no es más que un arreglo sobre el que utilizamos solo algunas de sus operaciones,\n",
    "significa que un arreglo puede hacer todo lo que hace una pila.\n",
    "Entonces, ¿por qué usamos una pila? ¿Qué ventaja tiene sobre un arreglo?\n",
    "\n",
    "Las estructuras de datos restringidas, como la pila (y la cola, que veremos más adelante), son importantes por varias razones.\n",
    "\n",
    "En primer lugar, ayudan a evitar errores.\n",
    "Por ejemplo, el algoritmo de verificación de paréntesis y corchetes solo funciona si los elementos se eliminan desde la cima.\n",
    "Al usar una pila, esta restricción se impone automáticamente y previene usos incorrectos.\n",
    "\n",
    "En segundo lugar, proporcionan un modelo mental claro para resolver problemas.\n",
    "La pila introduce el principio _last in, first out_ (LIFO, \"el último en entrar es el primero en salir\").\n",
    "Este enfoque puede aplicarse para resolver una amplia variedad de problemas, como el del verificador mencionado antes.\n",
    "\n",
    "Finalmente, la familiaridad con la naturaleza LIFO de las pilas hace que el código sea más legible y predecible para otros desarrolladores:\n",
    "cuando alguien ve una pila, sabe que el proceso sigue una lógica LIFO."
   ]
  },
  {
   "cell_type": "markdown",
   "id": "08bf3775",
   "metadata": {},
   "source": [
    "## Colas"
   ]
  },
  {
   "cell_type": "code",
   "execution_count": null,
   "id": "5e4b8f15",
   "metadata": {},
   "outputs": [],
   "source": [
    "class Queue:\n",
    "    def __init__(self):\n",
    "        self.data = []\n",
    "\n",
    "    def insertar(self, element):\n",
    "        # enqueue\n",
    "        self.data.append(element)\n",
    "\n",
    "    def extraer(self):\n",
    "        # dequeue\n",
    "        if len(self.data) > 0:\n",
    "            return self.data.pop(0)\n",
    "        return None\n",
    "\n",
    "    def leer(self):\n",
    "        # read\n",
    "        if len(self.data) > 0:\n",
    "            return self.data[0]\n",
    "        return None"
   ]
  },
  {
   "cell_type": "markdown",
   "id": "528149ab",
   "metadata": {},
   "source": [
    "## Listas enlazadas\n",
    "\n",
    "Al igual que un array, una lista enlazada es una estructura de datos que representa una lista de elementos. Si bien superficialmente los arrays y las listas enlazadas se ven y funcionan de forma muy similar, internamente existen grandes diferencias."
   ]
  },
  {
   "cell_type": "code",
   "execution_count": 10,
   "id": "e6087f5c",
   "metadata": {},
   "outputs": [],
   "source": [
    "class Nodo:\n",
    "    def __init__(self, valor):\n",
    "        self.valor = valor\n",
    "        self.siguiente_nodo = None\n",
    "\n",
    "    def __repr__(self):\n",
    "        id_siguiente = None if self.siguiente_nodo is None else id(self.siguiente_nodo)\n",
    "        return f\"Nodo({self.valor}) [{id(self)}] -> [{id_siguiente}]\"\n",
    "\n",
    "n = Nodo(100)\n",
    "m = Nodo(128)\n",
    "n.siguiente_nodo = m"
   ]
  },
  {
   "cell_type": "code",
   "execution_count": 14,
   "id": "c9f0c39d",
   "metadata": {},
   "outputs": [
    {
     "name": "stdout",
     "output_type": "stream",
     "text": [
      "Nodo(100) [140183778339024] -> [140183778337296]\n",
      "Nodo(128) [140183778337296] -> [None]\n"
     ]
    }
   ],
   "source": [
    "print(n)\n",
    "print(m)"
   ]
  },
  {
   "cell_type": "markdown",
   "id": "ffddd851",
   "metadata": {},
   "source": [
    "```python\n",
    "class ListaEnlazada:\n",
    "    def __init__(self, primer_nodo=None):\n",
    "        self.primer_nodo = primer_nodo\n",
    "```"
   ]
  },
  {
   "cell_type": "markdown",
   "id": "e5ae7804",
   "metadata": {},
   "source": [
    "### Lectura"
   ]
  },
  {
   "cell_type": "markdown",
   "id": "68d2948e",
   "metadata": {},
   "source": [
    "```python\n",
    "    def leer(self, indice):\n",
    "        nodo_actual = self.primer_nodo\n",
    "        indice_actual = 0\n",
    "\n",
    "        while indice_actual < indice:\n",
    "            nodo_actual = nodo_actual.siguiente_nodo\n",
    "            indice_actual += 1\n",
    "\n",
    "            if nodo_actual is None:\n",
    "                return None\n",
    "\n",
    "        return nodo_actual.valor\n",
    "```"
   ]
  },
  {
   "cell_type": "markdown",
   "id": "ad1cba50",
   "metadata": {},
   "source": [
    "### Búsqueda"
   ]
  },
  {
   "cell_type": "markdown",
   "id": "6a5980b7",
   "metadata": {},
   "source": [
    "```python\n",
    "    def buscar(self, valor):\n",
    "        nodo_actual = self.primer_nodo\n",
    "        indice_actual = 0\n",
    "\n",
    "        while True:\n",
    "            if nodo_actual.valor == valor:\n",
    "                return indice_actual\n",
    "\n",
    "            nodo_actual = nodo_actual.siguiente_nodo\n",
    "            if nodo_actual is None:\n",
    "                break\n",
    "            indice_actual += 1\n",
    "\n",
    "        return None\n",
    "```"
   ]
  },
  {
   "cell_type": "markdown",
   "id": "0774c0bc",
   "metadata": {},
   "source": [
    "### Inserción"
   ]
  },
  {
   "cell_type": "markdown",
   "id": "2fca1deb",
   "metadata": {},
   "source": [
    "```python\n",
    "def insertar(self, indice, valor):\n",
    "    nodo_nuevo = Nodo(valor)\n",
    "\n",
    "    if indice == 0:\n",
    "        nodo_nuevo.siguiente_nodo = self.primer_nodo\n",
    "        self.primer_nodo = nodo_nuevo\n",
    "        return\n",
    "\n",
    "    nodo_actual = self.primer_nodo\n",
    "    indice_actual = 0\n",
    "\n",
    "    while indice_actual < (indice - 1):\n",
    "        nodo_actual = nodo_actual.siguiente_nodo\n",
    "        indice_actual += 1\n",
    "        nodo_nuevo.siguiente_nodo = nodo_actual.siguiente_nodo\n",
    "        nodo_actual.siguiente_nodo = nodo_nuevo\n",
    "```"
   ]
  },
  {
   "cell_type": "markdown",
   "id": "95006f0b",
   "metadata": {},
   "source": [
    "### Eliminación"
   ]
  },
  {
   "cell_type": "markdown",
   "id": "96462408",
   "metadata": {},
   "source": [
    "```python\n",
    "def eliminar(self, indice):\n",
    "    if indice == 0:\n",
    "        self.primer_nodo = self.primer_nodo.next_node\n",
    "        return\n",
    "\n",
    "    nodo_actual = self.primer_nodo\n",
    "    indice_actual = 0\n",
    "\n",
    "    while indice_actual < (indice - 1):\n",
    "        nodo_actual = nodo_actual.siguiente_nodo\n",
    "        indice_actual += 1\n",
    "        nodo_siguiente_al_eliminado = nodo_actual.siguiente_nodo.siguiente_nodo\n",
    "        nodo_actual.siguiente_nodo = nodo_siguiente_al_eliminado\n",
    "```"
   ]
  },
  {
   "cell_type": "markdown",
   "id": "3154311d",
   "metadata": {},
   "source": [
    "### Enlazando todas las piezas"
   ]
  },
  {
   "cell_type": "code",
   "execution_count": 15,
   "id": "09a40d59",
   "metadata": {},
   "outputs": [],
   "source": [
    "class ListaEnlazada:\n",
    "    def __init__(self, primer_nodo=None):\n",
    "        self.primer_nodo = primer_nodo\n",
    "\n",
    "    def leer(self, indice):\n",
    "        nodo_actual = self.primer_nodo\n",
    "        indice_actual = 0\n",
    "\n",
    "        while indice_actual < indice:\n",
    "            nodo_actual = nodo_actual.siguiente_nodo\n",
    "            indice_actual += 1\n",
    "\n",
    "            if nodo_actual is None:\n",
    "                return None\n",
    "\n",
    "        return nodo_actual.valor\n",
    "\n",
    "    def buscar(self, valor):\n",
    "        nodo_actual = self.primer_nodo\n",
    "        indice_actual = 0\n",
    "\n",
    "        while True:\n",
    "            if nodo_actual.valor == valor:\n",
    "                return indice_actual\n",
    "\n",
    "            nodo_actual = nodo_actual.siguiente_nodo\n",
    "            if nodo_actual is None:\n",
    "                break\n",
    "            indice_actual += 1\n",
    "\n",
    "        return None\n",
    "\n",
    "    def insertar(self, indice, valor):\n",
    "        nodo_nuevo = Nodo(valor)\n",
    "\n",
    "        if indice == 0:\n",
    "            nodo_nuevo.siguiente_nodo = self.primer_nodo\n",
    "            self.primer_nodo = nodo_nuevo\n",
    "            return\n",
    "\n",
    "        nodo_actual = self.primer_nodo\n",
    "        indice_actual = 0\n",
    "\n",
    "        while indice_actual < (indice - 1):\n",
    "            nodo_actual = nodo_actual.siguiente_nodo\n",
    "            indice_actual += 1\n",
    "            nodo_nuevo.siguiente_nodo = nodo_actual.siguiente_nodo\n",
    "            nodo_actual.siguiente_nodo = nodo_nuevo\n",
    "\n",
    "    def eliminar(self, indice):\n",
    "        if indice == 0:\n",
    "            self.primer_nodo = self.primer_nodo.next_node\n",
    "            return\n",
    "\n",
    "        nodo_actual = self.primer_nodo\n",
    "        indice_actual = 0\n",
    "\n",
    "        while indice_actual < (indice - 1):\n",
    "            nodo_actual = nodo_actual.siguiente_nodo\n",
    "            indice_actual += 1\n",
    "            nodo_siguiente_al_eliminado = nodo_actual.siguiente_nodo.siguiente_nodo\n",
    "            nodo_actual.siguiente_nodo = nodo_siguiente_al_eliminado"
   ]
  },
  {
   "cell_type": "markdown",
   "id": "ec64256f",
   "metadata": {},
   "source": [
    "### Análisis de la eficiencia"
   ]
  },
  {
   "cell_type": "markdown",
   "id": "020e4c89",
   "metadata": {},
   "source": [
    "### Aplicaciones"
   ]
  },
  {
   "cell_type": "markdown",
   "id": "09f3b40a",
   "metadata": {},
   "source": [
    "## Otros"
   ]
  },
  {
   "cell_type": "markdown",
   "id": "05b7941c",
   "metadata": {},
   "source": [
    "### Colas de dos extremos"
   ]
  },
  {
   "cell_type": "markdown",
   "id": "22184ca8",
   "metadata": {},
   "source": [
    "### Colas de prioridad"
   ]
  },
  {
   "cell_type": "markdown",
   "id": "90ee025e",
   "metadata": {},
   "source": [
    "### Listas doblemente enlazadas"
   ]
  }
 ],
 "metadata": {
  "language_info": {
   "name": "python"
  }
 },
 "nbformat": 4,
 "nbformat_minor": 5
}
