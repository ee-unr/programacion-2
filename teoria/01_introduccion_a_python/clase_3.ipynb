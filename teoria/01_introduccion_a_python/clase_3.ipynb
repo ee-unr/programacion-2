{
 "cells": [
  {
   "cell_type": "markdown",
   "id": "a8b47f3a",
   "metadata": {},
   "source": [
    "---\n",
    "title: \"Clase 3\"\n",
    "toc: true\n",
    "---"
   ]
  },
  {
   "cell_type": "markdown",
   "id": "b3fb9e41",
   "metadata": {},
   "source": [
    "![](../../imgs/trabajo_en_progreso.png){fig-align=\"center\" width=\"400px\"}"
   ]
  }
 ],
 "metadata": {
  "language_info": {
   "name": "python"
  }
 },
 "nbformat": 4,
 "nbformat_minor": 5
}
