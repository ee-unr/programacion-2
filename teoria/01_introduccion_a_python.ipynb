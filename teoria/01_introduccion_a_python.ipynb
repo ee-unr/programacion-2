{
 "cells": [
  {
   "cell_type": "markdown",
   "id": "a8b47f3a",
   "metadata": {},
   "source": [
    "---\n",
    "title: \"U1 - Introducción a Python\"\n",
    "---"
   ]
  },
  {
   "cell_type": "markdown",
   "id": "ada3143a",
   "metadata": {},
   "source": [
    "![](../imgs/trabajo_en_progreso.png){fig-align=\"center\" width=\"400px\"}"
   ]
  }
 ],
 "metadata": {
  "language_info": {
   "name": "plaintext"
  }
 },
 "nbformat": 4,
 "nbformat_minor": 5
}
